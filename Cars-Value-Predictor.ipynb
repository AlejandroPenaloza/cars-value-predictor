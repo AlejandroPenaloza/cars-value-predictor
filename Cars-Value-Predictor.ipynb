{
 "cells": [
  {
   "cell_type": "code",
   "execution_count": 1,
   "metadata": {},
   "outputs": [],
   "source": [
    "import pandas as pd\n",
    "import numpy as np\n",
    "import scipy.stats\n",
    "import re\n",
    "import requests\n",
    "import math\n",
    "from bs4 import BeautifulSoup\n",
    "import matplotlib.pyplot as plt\n",
    "import matplotlib.backends.backend_agg\n",
    "import matplotlib.figure\n",
    "import seaborn as sb\n",
    "import datetime\n",
    "from sklearn import preprocessing\n",
    "from sklearn.model_selection import train_test_split\n",
    "from sklearn.linear_model import LogisticRegression\n",
    "from sklearn.metrics import confusion_matrix, accuracy_score\n",
    "from sklearn.preprocessing import LabelEncoder, OneHotEncoder, LabelBinarizer\n",
    "from sklearn.metrics import roc_curve, roc_auc_score"
   ]
  },
  {
   "cell_type": "code",
   "execution_count": 2,
   "metadata": {},
   "outputs": [
    {
     "data": {
      "text/plain": [
       "[<h4 class=\"heading-3 margin-y-1 font-weight-bold\" data-qa=\"Heading\" data-test=\"vehicleCardPricingBlockPrice\">$13,990</h4>,\n",
       " <h4 class=\"heading-3 margin-y-1 font-weight-bold\" data-qa=\"Heading\" data-test=\"vehicleCardPricingBlockPrice\">$18,870</h4>,\n",
       " <h4 class=\"heading-3 margin-y-1 font-weight-bold\" data-qa=\"Heading\" data-test=\"vehicleCardPricingBlockPrice\">$18,093</h4>,\n",
       " <h4 class=\"heading-3 margin-y-1 font-weight-bold\" data-qa=\"Heading\" data-test=\"vehicleCardPricingBlockPrice\">$26,500</h4>,\n",
       " <h4 class=\"heading-3 margin-y-1 font-weight-bold\" data-qa=\"Heading\" data-test=\"vehicleCardPricingBlockPrice\">$7,995</h4>,\n",
       " <h4 class=\"heading-3 margin-y-1 font-weight-bold\" data-qa=\"Heading\" data-test=\"vehicleCardPricingBlockPrice\">$26,419</h4>,\n",
       " <h4 class=\"heading-3 margin-y-1 font-weight-bold\" data-qa=\"Heading\" data-test=\"vehicleCardPricingBlockPrice\">$30,475</h4>,\n",
       " <h4 class=\"heading-3 margin-y-1 font-weight-bold\" data-qa=\"Heading\" data-test=\"vehicleCardPricingBlockPrice\">$7,995</h4>,\n",
       " <h4 class=\"heading-3 margin-y-1 font-weight-bold\" data-qa=\"Heading\" data-test=\"vehicleCardPricingBlockPrice\">$9,991</h4>,\n",
       " <h4 class=\"heading-3 margin-y-1 font-weight-bold\" data-qa=\"Heading\" data-test=\"vehicleCardPricingBlockPrice\">$9,888</h4>,\n",
       " <h4 class=\"heading-3 margin-y-1 font-weight-bold\" data-qa=\"Heading\" data-test=\"vehicleCardPricingBlockPrice\">$28,300</h4>,\n",
       " <h4 class=\"heading-3 margin-y-1 font-weight-bold\" data-qa=\"Heading\" data-test=\"vehicleCardPricingBlockPrice\">$8,799</h4>,\n",
       " <h4 class=\"heading-3 margin-y-1 font-weight-bold\" data-qa=\"Heading\" data-test=\"vehicleCardPricingBlockPrice\">$7,991</h4>,\n",
       " <h4 class=\"heading-3 margin-y-1 font-weight-bold\" data-qa=\"Heading\" data-test=\"vehicleCardPricingBlockPrice\">$29,940</h4>,\n",
       " <h4 class=\"heading-3 margin-y-1 font-weight-bold\" data-qa=\"Heading\" data-test=\"vehicleCardPricingBlockPrice\">$31,945</h4>,\n",
       " <h4 class=\"heading-3 margin-y-1 font-weight-bold\" data-qa=\"Heading\" data-test=\"vehicleCardPricingBlockPrice\">$12,924</h4>,\n",
       " <h4 class=\"heading-3 margin-y-1 font-weight-bold\" data-qa=\"Heading\" data-test=\"vehicleCardPricingBlockPrice\">$30,680</h4>,\n",
       " <h4 class=\"heading-3 margin-y-1 font-weight-bold\" data-qa=\"Heading\" data-test=\"vehicleCardPricingBlockPrice\">$32,977</h4>,\n",
       " <h4 class=\"heading-3 margin-y-1 font-weight-bold\" data-qa=\"Heading\" data-test=\"vehicleCardPricingBlockPrice\">$30,998</h4>,\n",
       " <h4 class=\"heading-3 margin-y-1 font-weight-bold\" data-qa=\"Heading\" data-test=\"vehicleCardPricingBlockPrice\">$32,011</h4>,\n",
       " <h4 class=\"heading-3 margin-y-1 font-weight-bold\" data-qa=\"Heading\" data-test=\"vehicleCardPricingBlockPrice\">$21,997</h4>,\n",
       " <h4 class=\"heading-3 margin-y-1 font-weight-bold\" data-qa=\"Heading\" data-test=\"vehicleCardPricingBlockPrice\">$13,000</h4>,\n",
       " <h4 class=\"heading-3 margin-y-1 font-weight-bold\" data-qa=\"Heading\" data-test=\"vehicleCardPricingBlockPrice\">$27,550</h4>,\n",
       " <h4 class=\"heading-3 margin-y-1 font-weight-bold\" data-qa=\"Heading\" data-test=\"vehicleCardPricingBlockPrice\">$26,988</h4>,\n",
       " <h4 class=\"heading-3 margin-y-1 font-weight-bold\" data-qa=\"Heading\" data-test=\"vehicleCardPricingBlockPrice\">$24,995</h4>,\n",
       " <h4 class=\"heading-3 margin-y-1 font-weight-bold\" data-qa=\"Heading\" data-test=\"vehicleCardPricingBlockPrice\">$29,999</h4>,\n",
       " <h4 class=\"heading-3 margin-y-1 font-weight-bold\" data-qa=\"Heading\" data-test=\"vehicleCardPricingBlockPrice\">$9,991</h4>,\n",
       " <h4 class=\"heading-3 margin-y-1 font-weight-bold\" data-qa=\"Heading\" data-test=\"vehicleCardPricingBlockPrice\">$15,995</h4>,\n",
       " <h4 class=\"heading-3 margin-y-1 font-weight-bold\" data-qa=\"Heading\" data-test=\"vehicleCardPricingBlockPrice\">$27,950</h4>,\n",
       " <h4 class=\"heading-3 margin-y-1 font-weight-bold\" data-qa=\"Heading\" data-test=\"vehicleCardPricingBlockPrice\">$9,000</h4>,\n",
       " <h4 class=\"heading-3 margin-y-1 font-weight-bold\" data-qa=\"Heading\" data-test=\"vehicleCardPricingBlockPrice\">$8,000</h4>,\n",
       " <h4 class=\"heading-3 margin-y-1 font-weight-bold\" data-qa=\"Heading\" data-test=\"vehicleCardPricingBlockPrice\">$25,488</h4>,\n",
       " <h4 class=\"heading-3 margin-y-1 font-weight-bold\" data-qa=\"Heading\" data-test=\"vehicleCardPricingBlockPrice\">$27,888</h4>]"
      ]
     },
     "execution_count": 2,
     "metadata": {},
     "output_type": "execute_result"
    }
   ],
   "source": [
    "'''listings_soup = BeautifulSoup(requests.get('https://www.truecar.com/used-cars-for-sale/listings/?page=2').content, 'lxml')\n",
    "listings_soup.find_all('h4', {'class': 'heading-3 margin-y-1 font-weight-bold'})'''\n",
    "page1_listings_soup = BeautifulSoup(requests.get('https://www.truecar.com/used-cars-for-sale/listings/').content, 'lxml')\n",
    "page1_prices_soup = page1_listings_soup.find_all('h4', {'data-test': 'vehicleCardPricingBlockPrice'})\n",
    "page1_prices_soup"
   ]
  },
  {
   "cell_type": "code",
   "execution_count": 3,
   "metadata": {},
   "outputs": [
    {
     "data": {
      "text/plain": [
       "['13,990',\n",
       " '18,870',\n",
       " '18,093',\n",
       " '26,500',\n",
       " '7,995',\n",
       " '26,419',\n",
       " '30,475',\n",
       " '7,995',\n",
       " '9,991',\n",
       " '9,888',\n",
       " '28,300',\n",
       " '8,799',\n",
       " '7,991',\n",
       " '29,940',\n",
       " '31,945',\n",
       " '12,924',\n",
       " '30,680',\n",
       " '32,977',\n",
       " '30,998',\n",
       " '32,011',\n",
       " '21,997',\n",
       " '13,000',\n",
       " '27,550',\n",
       " '26,988',\n",
       " '24,995',\n",
       " '29,999',\n",
       " '9,991',\n",
       " '15,995',\n",
       " '27,950',\n",
       " '9,000',\n",
       " '8,000',\n",
       " '25,488',\n",
       " '27,888']"
      ]
     },
     "execution_count": 3,
     "metadata": {},
     "output_type": "execute_result"
    }
   ],
   "source": [
    "pricespage1 = re.findall('[0-9]+,[0-9]+', str(page1_prices_soup))\n",
    "pricespage1"
   ]
  },
  {
   "cell_type": "code",
   "execution_count": 4,
   "metadata": {},
   "outputs": [
    {
     "data": {
      "text/plain": [
       "['13.990',\n",
       " '18.870',\n",
       " '18.093',\n",
       " '26.500',\n",
       " '7.995',\n",
       " '26.419',\n",
       " '30.475',\n",
       " '7.995',\n",
       " '9.991',\n",
       " '9.888',\n",
       " '28.300',\n",
       " '8.799',\n",
       " '7.991',\n",
       " '29.940',\n",
       " '31.945',\n",
       " '12.924',\n",
       " '30.680',\n",
       " '32.977',\n",
       " '30.998',\n",
       " '32.011',\n",
       " '21.997',\n",
       " '13.000',\n",
       " '27.550',\n",
       " '26.988',\n",
       " '24.995',\n",
       " '29.999',\n",
       " '9.991',\n",
       " '15.995',\n",
       " '27.950',\n",
       " '9.000',\n",
       " '8.000',\n",
       " '25.488',\n",
       " '27.888']"
      ]
     },
     "execution_count": 4,
     "metadata": {},
     "output_type": "execute_result"
    }
   ],
   "source": [
    "page1_prices = []\n",
    "for price in pricespage1:   \n",
    "    page1_prices.append(str(price).replace(',', '.'))\n",
    "page1_prices"
   ]
  },
  {
   "cell_type": "code",
   "execution_count": null,
   "metadata": {},
   "outputs": [],
   "source": [
    "#Scraping rest of pages listings prices\n",
    "\n",
    "other_pages_prices = []\n",
    "for number in range(2, 241):\n",
    "    page_listings_soup = BeautifulSoup(requests.get('https://www.truecar.com/used-cars-for-sale/listings/?page=' + str(number)).content, 'lxml')\n",
    "    page_prices_soup = page_listings_soup.find_all('h4', {'data-test': 'vehicleCardPricingBlockPrice'})\n",
    "    page_prices = list(re.findall('[0-9]+,[0-9]+', str(page_prices_soup)))\n",
    "    other_pages_prices += page_prices\n",
    "other_pages_prices"
   ]
  },
  {
   "cell_type": "code",
   "execution_count": null,
   "metadata": {},
   "outputs": [],
   "source": [
    "rest_pages_prices = []\n",
    "for price in other_pages_prices:   \n",
    "    rest_pages_prices.append(price.replace(',', '.'))\n",
    "rest_pages_prices"
   ]
  },
  {
   "cell_type": "code",
   "execution_count": null,
   "metadata": {},
   "outputs": [],
   "source": [
    "prices = page1_prices + rest_pages_prices\n",
    "len(prices)"
   ]
  },
  {
   "cell_type": "code",
   "execution_count": null,
   "metadata": {},
   "outputs": [],
   "source": []
  }
 ],
 "metadata": {
  "kernelspec": {
   "display_name": "Python 3",
   "language": "python",
   "name": "python3"
  },
  "language_info": {
   "codemirror_mode": {
    "name": "ipython",
    "version": 3
   },
   "file_extension": ".py",
   "mimetype": "text/x-python",
   "name": "python",
   "nbconvert_exporter": "python",
   "pygments_lexer": "ipython3",
   "version": "3.7.3"
  }
 },
 "nbformat": 4,
 "nbformat_minor": 2
}
