{
 "cells": [
  {
   "cell_type": "code",
   "execution_count": 17,
   "metadata": {},
   "outputs": [],
   "source": [
    "import pandas as pd\n",
    "import numpy as np\n",
    "import scipy.stats\n",
    "import re\n",
    "import requests\n",
    "import math\n",
    "from bs4 import BeautifulSoup\n",
    "import matplotlib.pyplot as plt\n",
    "import matplotlib.backends.backend_agg\n",
    "import matplotlib.figure\n",
    "import seaborn as sb\n",
    "import datetime\n",
    "from sklearn import preprocessing\n",
    "from sklearn.model_selection import train_test_split\n",
    "from sklearn.linear_model import LogisticRegression\n",
    "from sklearn.metrics import confusion_matrix, accuracy_score\n",
    "from sklearn.preprocessing import LabelEncoder, OneHotEncoder, LabelBinarizer\n",
    "from sklearn.metrics import roc_curve, roc_auc_score"
   ]
  },
  {
   "cell_type": "code",
   "execution_count": 42,
   "metadata": {},
   "outputs": [],
   "source": [
    "cars = pd.read_csv('C:/Users/aleja/cars-value-predictor/true_car_listings.csv')"
   ]
  },
  {
   "cell_type": "code",
   "execution_count": 50,
   "metadata": {},
   "outputs": [
    {
     "data": {
      "text/plain": [
       "58"
      ]
     },
     "execution_count": 50,
     "metadata": {},
     "output_type": "execute_result"
    }
   ],
   "source": [
    "cars['Make'].nunique()"
   ]
  },
  {
   "cell_type": "code",
   "execution_count": 62,
   "metadata": {},
   "outputs": [
    {
     "data": {
      "text/plain": [
       "[<h4 class=\"heading-3 margin-y-1 font-weight-bold\" data-qa=\"Heading\" data-test=\"vehicleCardPricingBlockPrice\">$22,777</h4>,\n",
       " <h4 class=\"heading-3 margin-y-1 font-weight-bold\" data-qa=\"Heading\" data-test=\"vehicleCardPricingBlockPrice\">$15,757</h4>,\n",
       " <h4 class=\"heading-3 margin-y-1 font-weight-bold\" data-qa=\"Heading\" data-test=\"vehicleCardPricingBlockPrice\">$20,998</h4>,\n",
       " <h4 class=\"heading-3 margin-y-1 font-weight-bold\" data-qa=\"Heading\" data-test=\"vehicleCardPricingBlockPrice\">$26,419</h4>,\n",
       " <h4 class=\"heading-3 margin-y-1 font-weight-bold\" data-qa=\"Heading\" data-test=\"vehicleCardPricingBlockPrice\">$26,500</h4>,\n",
       " <h4 class=\"heading-3 margin-y-1 font-weight-bold\" data-qa=\"Heading\" data-test=\"vehicleCardPricingBlockPrice\">$7,995</h4>,\n",
       " <h4 class=\"heading-3 margin-y-1 font-weight-bold\" data-qa=\"Heading\" data-test=\"vehicleCardPricingBlockPrice\">$30,475</h4>,\n",
       " <h4 class=\"heading-3 margin-y-1 font-weight-bold\" data-qa=\"Heading\" data-test=\"vehicleCardPricingBlockPrice\">$7,995</h4>,\n",
       " <h4 class=\"heading-3 margin-y-1 font-weight-bold\" data-qa=\"Heading\" data-test=\"vehicleCardPricingBlockPrice\">$9,991</h4>,\n",
       " <h4 class=\"heading-3 margin-y-1 font-weight-bold\" data-qa=\"Heading\" data-test=\"vehicleCardPricingBlockPrice\">$9,888</h4>,\n",
       " <h4 class=\"heading-3 margin-y-1 font-weight-bold\" data-qa=\"Heading\" data-test=\"vehicleCardPricingBlockPrice\">$8,799</h4>,\n",
       " <h4 class=\"heading-3 margin-y-1 font-weight-bold\" data-qa=\"Heading\" data-test=\"vehicleCardPricingBlockPrice\">$7,991</h4>,\n",
       " <h4 class=\"heading-3 margin-y-1 font-weight-bold\" data-qa=\"Heading\" data-test=\"vehicleCardPricingBlockPrice\">$28,300</h4>,\n",
       " <h4 class=\"heading-3 margin-y-1 font-weight-bold\" data-qa=\"Heading\" data-test=\"vehicleCardPricingBlockPrice\">$29,940</h4>,\n",
       " <h4 class=\"heading-3 margin-y-1 font-weight-bold\" data-qa=\"Heading\" data-test=\"vehicleCardPricingBlockPrice\">$31,945</h4>,\n",
       " <h4 class=\"heading-3 margin-y-1 font-weight-bold\" data-qa=\"Heading\" data-test=\"vehicleCardPricingBlockPrice\">$12,924</h4>,\n",
       " <h4 class=\"heading-3 margin-y-1 font-weight-bold\" data-qa=\"Heading\" data-test=\"vehicleCardPricingBlockPrice\">$32,011</h4>,\n",
       " <h4 class=\"heading-3 margin-y-1 font-weight-bold\" data-qa=\"Heading\" data-test=\"vehicleCardPricingBlockPrice\">$32,977</h4>,\n",
       " <h4 class=\"heading-3 margin-y-1 font-weight-bold\" data-qa=\"Heading\" data-test=\"vehicleCardPricingBlockPrice\">$13,000</h4>,\n",
       " <h4 class=\"heading-3 margin-y-1 font-weight-bold\" data-qa=\"Heading\" data-test=\"vehicleCardPricingBlockPrice\">$21,997</h4>,\n",
       " <h4 class=\"heading-3 margin-y-1 font-weight-bold\" data-qa=\"Heading\" data-test=\"vehicleCardPricingBlockPrice\">$30,998</h4>,\n",
       " <h4 class=\"heading-3 margin-y-1 font-weight-bold\" data-qa=\"Heading\" data-test=\"vehicleCardPricingBlockPrice\">$26,988</h4>,\n",
       " <h4 class=\"heading-3 margin-y-1 font-weight-bold\" data-qa=\"Heading\" data-test=\"vehicleCardPricingBlockPrice\">$9,991</h4>,\n",
       " <h4 class=\"heading-3 margin-y-1 font-weight-bold\" data-qa=\"Heading\" data-test=\"vehicleCardPricingBlockPrice\">$15,995</h4>,\n",
       " <h4 class=\"heading-3 margin-y-1 font-weight-bold\" data-qa=\"Heading\" data-test=\"vehicleCardPricingBlockPrice\">$27,550</h4>,\n",
       " <h4 class=\"heading-3 margin-y-1 font-weight-bold\" data-qa=\"Heading\" data-test=\"vehicleCardPricingBlockPrice\">$26,995</h4>,\n",
       " <h4 class=\"heading-3 margin-y-1 font-weight-bold\" data-qa=\"Heading\" data-test=\"vehicleCardPricingBlockPrice\">$29,999</h4>,\n",
       " <h4 class=\"heading-3 margin-y-1 font-weight-bold\" data-qa=\"Heading\" data-test=\"vehicleCardPricingBlockPrice\">$5,500</h4>,\n",
       " <h4 class=\"heading-3 margin-y-1 font-weight-bold\" data-qa=\"Heading\" data-test=\"vehicleCardPricingBlockPrice\">$25,488</h4>,\n",
       " <h4 class=\"heading-3 margin-y-1 font-weight-bold\" data-qa=\"Heading\" data-test=\"vehicleCardPricingBlockPrice\">$8,000</h4>,\n",
       " <h4 class=\"heading-3 margin-y-1 font-weight-bold\" data-qa=\"Heading\" data-test=\"vehicleCardPricingBlockPrice\">$10,000</h4>,\n",
       " <h4 class=\"heading-3 margin-y-1 font-weight-bold\" data-qa=\"Heading\" data-test=\"vehicleCardPricingBlockPrice\">$9,500</h4>,\n",
       " <h4 class=\"heading-3 margin-y-1 font-weight-bold\" data-qa=\"Heading\" data-test=\"vehicleCardPricingBlockPrice\">$9,900</h4>]"
      ]
     },
     "execution_count": 62,
     "metadata": {},
     "output_type": "execute_result"
    }
   ],
   "source": [
    "'''listings_soup = BeautifulSoup(requests.get('https://www.truecar.com/used-cars-for-sale/listings/').content, 'lxml')\n",
    "listings_soup.find_all('h4', {'class': 'heading-3 margin-y-1 font-weight-bold'})'''\n",
    "listings_soup = BeautifulSoup(requests.get('https://www.truecar.com/used-cars-for-sale/listings/').content, 'lxml')\n",
    "listings_soup.find_all('h4', {'data-test': 'vehicleCardPricingBlockPrice'})"
   ]
  },
  {
   "cell_type": "code",
   "execution_count": 61,
   "metadata": {},
   "outputs": [
    {
     "data": {
      "text/plain": [
       "33"
      ]
     },
     "execution_count": 61,
     "metadata": {},
     "output_type": "execute_result"
    }
   ],
   "source": []
  },
  {
   "cell_type": "code",
   "execution_count": null,
   "metadata": {},
   "outputs": [],
   "source": []
  }
 ],
 "metadata": {
  "kernelspec": {
   "display_name": "Python 3",
   "language": "python",
   "name": "python3"
  },
  "language_info": {
   "codemirror_mode": {
    "name": "ipython",
    "version": 3
   },
   "file_extension": ".py",
   "mimetype": "text/x-python",
   "name": "python",
   "nbconvert_exporter": "python",
   "pygments_lexer": "ipython3",
   "version": "3.7.3"
  }
 },
 "nbformat": 4,
 "nbformat_minor": 2
}
