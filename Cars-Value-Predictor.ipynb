{
 "cells": [
  {
   "cell_type": "code",
   "execution_count": null,
   "metadata": {},
   "outputs": [],
   "source": [
    "import pandas as pd\n",
    "import numpy as np\n",
    "import scipy.stats\n",
    "import re\n",
    "import requests\n",
    "import math\n",
    "from bs4 import BeautifulSoup\n",
    "import matplotlib as mlp\n",
    "import matplotlib.pyplot as plt\n",
    "import matplotlib.backends.backend_agg\n",
    "import matplotlib.figure\n",
    "import seaborn as sb\n",
    "import datetime\n",
    "from sklearn import preprocessing\n",
    "from sklearn.model_selection import train_test_split\n",
    "from sklearn.linear_model import LogisticRegression\n",
    "from sklearn.metrics import confusion_matrix, accuracy_score\n",
    "from sklearn.preprocessing import LabelEncoder, OneHotEncoder, LabelBinarizer\n",
    "from sklearn.metrics import roc_curve, roc_auc_score"
   ]
  },
  {
   "cell_type": "code",
   "execution_count": null,
   "metadata": {},
   "outputs": [],
   "source": [
    "#PRICES SCRAPING"
   ]
  },
  {
   "cell_type": "code",
   "execution_count": null,
   "metadata": {},
   "outputs": [],
   "source": [
    "fst_page_listings_soup = BeautifulSoup(requests.get('https://www.truecar.com/used-cars-for-sale/listings/').content, 'lxml')\n",
    "fst_page_listings_soup"
   ]
  },
  {
   "cell_type": "code",
   "execution_count": null,
   "metadata": {},
   "outputs": [],
   "source": [
    "fst_page_prices_soup = fst_page_listings_soup.find_all('h4', {'data-test': 'vehicleCardPricingBlockPrice'})\n",
    "fst_page_prices_soup"
   ]
  },
  {
   "cell_type": "code",
   "execution_count": null,
   "metadata": {},
   "outputs": [],
   "source": [
    "fst_page_prices = re.findall('[0-9]+,[0-9]+', str(fst_page_prices_soup))\n",
    "fst_page_prices"
   ]
  },
  {
   "cell_type": "code",
   "execution_count": null,
   "metadata": {},
   "outputs": [],
   "source": [
    "#ANOTHER WAY TO SCRAPE THE PRICES\n",
    "#listings_soup = BeautifulSoup(requests.get('https://www.truecar.com/used-cars-for-sale/listings/?page=2').content, 'lxml')\n",
    "#listings_soup.find_all('h4', {'class': 'heading-3 margin-y-1 font-weight-bold'})"
   ]
  },
  {
   "cell_type": "code",
   "execution_count": null,
   "metadata": {},
   "outputs": [],
   "source": [
    "#Scraping rest of pages listings prices\n",
    "def pricesscraper(number):\n",
    "    nth_page_listings_soup = BeautifulSoup(requests.get('https://www.truecar.com/used-cars-for-sale/listings/?page=' + str(number)).content, 'lxml')\n",
    "    nth_page_prices_soup = nth_page_listings_soup.find_all('h4', {'data-test': 'vehicleCardPricingBlockPrice'})\n",
    "    nth_page_prices = re.findall('[0-9]+,[0-9]+', str(nth_page_prices_soup))\n",
    "    return nth_page_prices"
   ]
  },
  {
   "cell_type": "code",
   "execution_count": null,
   "metadata": {},
   "outputs": [],
   "source": [
    "prices = list(map(pricesscraper, range(2, 600)))\n",
    "len(prices)"
   ]
  },
  {
   "cell_type": "code",
   "execution_count": null,
   "metadata": {},
   "outputs": [],
   "source": [
    "prices = str(prices).replace('[', '').replace(']', '').split(', ')\n",
    "prices"
   ]
  },
  {
   "cell_type": "code",
   "execution_count": null,
   "metadata": {},
   "outputs": [],
   "source": [
    "prices = list(map(lambda x: x[1:-1], prices))\n",
    "prices"
   ]
  },
  {
   "cell_type": "code",
   "execution_count": null,
   "metadata": {},
   "outputs": [],
   "source": [
    "prices += fst_page_prices\n",
    "print(len(prices))\n",
    "prices"
   ]
  },
  {
   "cell_type": "code",
   "execution_count": null,
   "metadata": {},
   "outputs": [],
   "source": [
    "# YEARS SCRAPING"
   ]
  },
  {
   "cell_type": "code",
   "execution_count": null,
   "metadata": {},
   "outputs": [],
   "source": [
    "fst_page_years_soup = fst_page_listings_soup.find_all('span', {'class': 'vehicle-card-year'})\n",
    "fst_page_years = list(re.findall('[12][0-9]{3}', str(fst_page_years_soup)))\n",
    "print(len(fst_page_years))\n",
    "fst_page_years"
   ]
  },
  {
   "cell_type": "code",
   "execution_count": null,
   "metadata": {},
   "outputs": [],
   "source": [
    "def yearsscraper(number):\n",
    "    nth_page_listings_soup = BeautifulSoup(requests.get('https://www.truecar.com/used-cars-for-sale/listings/?page=' + str(number)).content, 'lxml')\n",
    "    nth_page_years_soup = nth_page_listings_soup.find_all('span', {'class': 'vehicle-card-year'})\n",
    "    nth_page_years = re.findall('[12][0-9]{3}', str(nth_page_years_soup))\n",
    "    return nth_page_years"
   ]
  },
  {
   "cell_type": "code",
   "execution_count": null,
   "metadata": {},
   "outputs": [],
   "source": [
    "years = list(map(yearsscraper, range(2, 600)))\n",
    "years = str(years).replace('[', '').replace(']', '').split(', ')\n",
    "years = list(map(lambda x: x[1:-1], years))\n",
    "years += fst_page_years\n",
    "print(len(years))\n",
    "years"
   ]
  },
  {
   "cell_type": "code",
   "execution_count": null,
   "metadata": {},
   "outputs": [],
   "source": [
    "#MILEAGES SCRAPING"
   ]
  },
  {
   "cell_type": "code",
   "execution_count": null,
   "metadata": {},
   "outputs": [],
   "source": [
    "fst_page_mileages_soup = fst_page_listings_soup.find_all('div', {'class': 'font-size-1 text-truncate'})\n",
    "fst_page_mileages_soup"
   ]
  },
  {
   "cell_type": "code",
   "execution_count": null,
   "metadata": {},
   "outputs": [],
   "source": [
    "fst_page_mileages_unf = re.findall('g>[0-9]*,[0-9]+', str(fst_page_mileages_soup))\n",
    "fst_page_mileages_unf"
   ]
  },
  {
   "cell_type": "code",
   "execution_count": null,
   "metadata": {},
   "outputs": [],
   "source": [
    "fst_page_mileage = list(map(lambda mileage: mileage[2:], fst_page_miles))\n",
    "fst_page_mileage"
   ]
  },
  {
   "cell_type": "code",
   "execution_count": null,
   "metadata": {},
   "outputs": [],
   "source": [
    "def mileagesscraper(number):\n",
    "    nth_page_listings_soup = BeautifulSoup(requests.get('https://www.truecar.com/used-cars-for-sale/listings/?page=' + str(number)).content, 'lxml')\n",
    "    nth_page_listings = nth_page_listings_soup.find_all('div', {'class': 'font-size-1 text-truncate'})\n",
    "    nth_page_mileages_unf = re.findall('g>[0-9]*,[0-9]+', str(nth_page_listings))\n",
    "    nth_page_mileages = list(map(lambda mileage: mileage[2:], nth_page_mileages_unf))\n",
    "    return nth_page_mileages"
   ]
  },
  {
   "cell_type": "code",
   "execution_count": null,
   "metadata": {},
   "outputs": [],
   "source": [
    "mileages = list(map(mileagesscraper, range(2,600)))\n",
    "mileages = str(mileages).replace('[', '').replace(']', '').split(', ')\n",
    "mileages = list(map(lambda x: x[1:-1], mileages))\n",
    "mileages += fst_page_mileages\n",
    "print(len(mileages))\n",
    "mileages"
   ]
  },
  {
   "cell_type": "code",
   "execution_count": null,
   "metadata": {},
   "outputs": [],
   "source": [
    "#LOCATIONS STATES SCRAPING"
   ]
  },
  {
   "cell_type": "code",
   "execution_count": null,
   "metadata": {},
   "outputs": [],
   "source": [
    "fst_page_loc_states_soup = fst_page_listings_soup.find_all('div', {'data-test': 'vehicleCardLocation'})\n",
    "fst_page_loc_states = re.findall('[A-Z]{2}', str(fst_page_loc_states_soup))\n",
    "fst_page_loc_states"
   ]
  },
  {
   "cell_type": "code",
   "execution_count": null,
   "metadata": {},
   "outputs": [],
   "source": [
    "def statesscraper(number_of_page):\n",
    "    nth_page_listings_soup = BeautifulSoup(requests.get('https://www.truecar.com/used-cars-for-sale/listings/?page=' + str(number_of_page)).content, 'lxml')\n",
    "    nth_page_loc_states_soup = nth_page_listings_soup.find_all('div', {'data-test': 'vehicleCardLocation'})\n",
    "    nth_page_loc_states = re.findall('[A-Z]{2}', str(nth_page_loc_states_soup)) \n",
    "    return nth_page_loc_states"
   ]
  },
  {
   "cell_type": "code",
   "execution_count": null,
   "metadata": {},
   "outputs": [],
   "source": [
    "states = list(map(statesscraper, range(2,6)))\n",
    "states = str(prices).replace('[', '').replace(']', '').split(', ')\n",
    "states = list(map(lambda x: x[1:-1], states))\n",
    "states += fst_page_loc_states\n",
    "print(len(states))\n",
    "states"
   ]
  },
  {
   "cell_type": "code",
   "execution_count": null,
   "metadata": {},
   "outputs": [],
   "source": []
  }
 ],
 "metadata": {
  "kernelspec": {
   "display_name": "Python 3",
   "language": "python",
   "name": "python3"
  },
  "language_info": {
   "codemirror_mode": {
    "name": "ipython",
    "version": 3
   },
   "file_extension": ".py",
   "mimetype": "text/x-python",
   "name": "python",
   "nbconvert_exporter": "python",
   "pygments_lexer": "ipython3",
   "version": "3.7.3"
  }
 },
 "nbformat": 4,
 "nbformat_minor": 2
}
