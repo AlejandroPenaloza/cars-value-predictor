{
 "cells": [
  {
   "cell_type": "code",
   "execution_count": 1,
   "metadata": {},
   "outputs": [],
   "source": [
    "import itertools\n",
    "import pandas as pd\n",
    "import numpy as np\n",
    "import scipy.stats\n",
    "import re\n",
    "import math\n",
    "import matplotlib as mlp\n",
    "import matplotlib.pyplot as plt\n",
    "import matplotlib.backends.backend_agg\n",
    "import matplotlib.figure\n",
    "import seaborn as sns\n",
    "import datetime\n",
    "from sklearn import preprocessing\n",
    "from sklearn.model_selection import train_test_split\n",
    "from sklearn.linear_model import LogisticRegression\n",
    "from sklearn.metrics import confusion_matrix, accuracy_score\n",
    "from sklearn.preprocessing import LabelEncoder, OneHotEncoder, LabelBinarizer\n",
    "from sklearn.metrics import roc_curve, roc_auc_score"
   ]
  },
  {
   "cell_type": "code",
   "execution_count": 21,
   "metadata": {},
   "outputs": [
    {
     "name": "stdout",
     "output_type": "stream",
     "text": [
      "(16920, 18)\n"
     ]
    },
    {
     "data": {
      "text/html": [
       "<div>\n",
       "<style scoped>\n",
       "    .dataframe tbody tr th:only-of-type {\n",
       "        vertical-align: middle;\n",
       "    }\n",
       "\n",
       "    .dataframe tbody tr th {\n",
       "        vertical-align: top;\n",
       "    }\n",
       "\n",
       "    .dataframe thead th {\n",
       "        text-align: right;\n",
       "    }\n",
       "</style>\n",
       "<table border=\"1\" class=\"dataframe\">\n",
       "  <thead>\n",
       "    <tr style=\"text-align: right;\">\n",
       "      <th></th>\n",
       "      <th>Make</th>\n",
       "      <th>Model</th>\n",
       "      <th>Year</th>\n",
       "      <th>Mileage</th>\n",
       "      <th>Transmission</th>\n",
       "      <th>Engine</th>\n",
       "      <th>Exterior Color</th>\n",
       "      <th>Interior Color</th>\n",
       "      <th>MPG</th>\n",
       "      <th>Fuel Type</th>\n",
       "      <th>Drive Type</th>\n",
       "      <th>Location (City)</th>\n",
       "      <th>Location (State)</th>\n",
       "      <th>Style</th>\n",
       "      <th>Condition (Accidents)</th>\n",
       "      <th>Options Level</th>\n",
       "      <th>Bed Length</th>\n",
       "      <th>Price</th>\n",
       "    </tr>\n",
       "  </thead>\n",
       "  <tbody>\n",
       "    <tr>\n",
       "      <th>0</th>\n",
       "      <td>Ford</td>\n",
       "      <td>Focus</td>\n",
       "      <td>2014.0</td>\n",
       "      <td>35,795</td>\n",
       "      <td>Automatic</td>\n",
       "      <td>2.0L Inline-4 Gas</td>\n",
       "      <td>NaN</td>\n",
       "      <td>Charcoal Black</td>\n",
       "      <td>26 cty / 36 hwy</td>\n",
       "      <td>Gas</td>\n",
       "      <td>FWD</td>\n",
       "      <td>Tacoma</td>\n",
       "      <td>WA</td>\n",
       "      <td>SE Hatchback</td>\n",
       "      <td>2 reported accidents</td>\n",
       "      <td>Standard</td>\n",
       "      <td>NaN</td>\n",
       "      <td>7,999</td>\n",
       "    </tr>\n",
       "    <tr>\n",
       "      <th>1</th>\n",
       "      <td>Ford</td>\n",
       "      <td>F-150</td>\n",
       "      <td>2015.0</td>\n",
       "      <td>128,146</td>\n",
       "      <td>Automatic</td>\n",
       "      <td>2.7L V-6 Gas Turbocharged</td>\n",
       "      <td>Unknown</td>\n",
       "      <td>Medium Earth Gray</td>\n",
       "      <td>19 cty / 26 hwy</td>\n",
       "      <td>Gas</td>\n",
       "      <td>RWD</td>\n",
       "      <td>Waxahachie</td>\n",
       "      <td>TX</td>\n",
       "      <td>XL SuperCrew 6.5\\' Box RWD</td>\n",
       "      <td>0 reported accidents</td>\n",
       "      <td>NaN</td>\n",
       "      <td>Standard Bed</td>\n",
       "      <td>15,991</td>\n",
       "    </tr>\n",
       "    <tr>\n",
       "      <th>2</th>\n",
       "      <td>Mercedes-Benz</td>\n",
       "      <td>E-Class</td>\n",
       "      <td>2004.0</td>\n",
       "      <td>135,000</td>\n",
       "      <td>Automatic</td>\n",
       "      <td>5.0L V-8 Gas</td>\n",
       "      <td>Black</td>\n",
       "      <td>Beige</td>\n",
       "      <td>16 cty / 22 hwy</td>\n",
       "      <td>Gas</td>\n",
       "      <td>AWD</td>\n",
       "      <td>Covina</td>\n",
       "      <td>CA</td>\n",
       "      <td>E 500 4MATIC Wagon</td>\n",
       "      <td>0 reported accidents</td>\n",
       "      <td>Standard</td>\n",
       "      <td>NaN</td>\n",
       "      <td>5,950</td>\n",
       "    </tr>\n",
       "    <tr>\n",
       "      <th>3</th>\n",
       "      <td>Hyundai</td>\n",
       "      <td>Elantra</td>\n",
       "      <td>2011.0</td>\n",
       "      <td>135,670</td>\n",
       "      <td>Automatic</td>\n",
       "      <td>1.8L Inline-4 Gas</td>\n",
       "      <td>NaN</td>\n",
       "      <td>Gray</td>\n",
       "      <td>28 cty / 38 hwy</td>\n",
       "      <td>Gas</td>\n",
       "      <td>FWD</td>\n",
       "      <td>Miami</td>\n",
       "      <td>FL</td>\n",
       "      <td>NaN</td>\n",
       "      <td>0 reported accidents</td>\n",
       "      <td>Standard</td>\n",
       "      <td>NaN</td>\n",
       "      <td>3,999</td>\n",
       "    </tr>\n",
       "    <tr>\n",
       "      <th>4</th>\n",
       "      <td>Toyota</td>\n",
       "      <td>Prius</td>\n",
       "      <td>2012.0</td>\n",
       "      <td>152,543</td>\n",
       "      <td>Automatic</td>\n",
       "      <td>1.8L Inline-4 Hybrid</td>\n",
       "      <td>White</td>\n",
       "      <td>Biege</td>\n",
       "      <td>51 cty / 48 hwy</td>\n",
       "      <td>Hybrid</td>\n",
       "      <td>FWD</td>\n",
       "      <td>Byhalia</td>\n",
       "      <td>MS</td>\n",
       "      <td>Five</td>\n",
       "      <td>1 reported accidents</td>\n",
       "      <td>Standard</td>\n",
       "      <td>NaN</td>\n",
       "      <td>6,500</td>\n",
       "    </tr>\n",
       "  </tbody>\n",
       "</table>\n",
       "</div>"
      ],
      "text/plain": [
       "            Make    Model    Year  Mileage Transmission  \\\n",
       "0           Ford    Focus  2014.0   35,795    Automatic   \n",
       "1           Ford    F-150  2015.0  128,146    Automatic   \n",
       "2  Mercedes-Benz  E-Class  2004.0  135,000    Automatic   \n",
       "3        Hyundai  Elantra  2011.0  135,670    Automatic   \n",
       "4         Toyota    Prius  2012.0  152,543    Automatic   \n",
       "\n",
       "                      Engine Exterior Color     Interior Color  \\\n",
       "0          2.0L Inline-4 Gas            NaN     Charcoal Black   \n",
       "1  2.7L V-6 Gas Turbocharged        Unknown  Medium Earth Gray   \n",
       "2               5.0L V-8 Gas          Black              Beige   \n",
       "3          1.8L Inline-4 Gas            NaN               Gray   \n",
       "4       1.8L Inline-4 Hybrid          White              Biege   \n",
       "\n",
       "               MPG Fuel Type Drive Type Location (City) Location (State)  \\\n",
       "0  26 cty / 36 hwy       Gas        FWD          Tacoma               WA   \n",
       "1  19 cty / 26 hwy       Gas        RWD      Waxahachie               TX   \n",
       "2  16 cty / 22 hwy       Gas        AWD          Covina               CA   \n",
       "3  28 cty / 38 hwy       Gas        FWD           Miami               FL   \n",
       "4  51 cty / 48 hwy    Hybrid        FWD         Byhalia               MS   \n",
       "\n",
       "                        Style Condition (Accidents) Options Level  \\\n",
       "0                SE Hatchback  2 reported accidents      Standard   \n",
       "1  XL SuperCrew 6.5\\' Box RWD  0 reported accidents           NaN   \n",
       "2          E 500 4MATIC Wagon  0 reported accidents      Standard   \n",
       "3                         NaN  0 reported accidents      Standard   \n",
       "4                        Five  1 reported accidents      Standard   \n",
       "\n",
       "     Bed Length   Price  \n",
       "0           NaN   7,999  \n",
       "1  Standard Bed  15,991  \n",
       "2           NaN   5,950  \n",
       "3           NaN   3,999  \n",
       "4           NaN   6,500  "
      ]
     },
     "execution_count": 21,
     "metadata": {},
     "output_type": "execute_result"
    }
   ],
   "source": [
    "cars_dataset = pd.read_csv('C:/Users/.../cars-features-dataset.csv')\n",
    "cars_dataset.drop(columns='Unnamed: 0', inplace=True)\n",
    "print(cars_dataset.shape)\n",
    "cars_dataset.head()"
   ]
  },
  {
   "cell_type": "markdown",
   "metadata": {},
   "source": [
    "## Exploratory Data Analysis"
   ]
  },
  {
   "cell_type": "code",
   "execution_count": 26,
   "metadata": {},
   "outputs": [
    {
     "data": {
      "text/plain": [
       "Make                       896\n",
       "Model                      923\n",
       "Year                       822\n",
       "Mileage                    349\n",
       "Transmission               386\n",
       "Engine                    3545\n",
       "Exterior Color            5840\n",
       "Interior Color            1285\n",
       "MPG                        367\n",
       "Fuel Type                  336\n",
       "Drive Type                 284\n",
       "Location (City)            713\n",
       "Location (State)           748\n",
       "Style                     1747\n",
       "Condition (Accidents)      781\n",
       "Options Level             2241\n",
       "Bed Length               15641\n",
       "Price                      916\n",
       "dtype: int64"
      ]
     },
     "execution_count": 26,
     "metadata": {},
     "output_type": "execute_result"
    }
   ],
   "source": [
    "cars_dataset.isnull().sum(axis=0)"
   ]
  },
  {
   "cell_type": "code",
   "execution_count": 22,
   "metadata": {},
   "outputs": [
    {
     "data": {
      "text/plain": [
       "Bed Length               15641\n",
       "Exterior Color            5840\n",
       "Engine                    3545\n",
       "Options Level             2241\n",
       "Style                     1747\n",
       "Interior Color            1285\n",
       "Model                      923\n",
       "Price                      916\n",
       "Make                       896\n",
       "Year                       822\n",
       "Condition (Accidents)      781\n",
       "Location (State)           748\n",
       "Location (City)            713\n",
       "Transmission               386\n",
       "MPG                        367\n",
       "Mileage                    349\n",
       "Fuel Type                  336\n",
       "Drive Type                 284\n",
       "dtype: int64"
      ]
     },
     "execution_count": 22,
     "metadata": {},
     "output_type": "execute_result"
    }
   ],
   "source": [
    "cols_by_nulls = cars_dataset.isnull().sum(axis=0).sort_values(ascending=False)\n",
    "cols_by_nulls"
   ]
  },
  {
   "cell_type": "markdown",
   "metadata": {},
   "source": [
    "This high quantity of allegedly null values is due to lack of information when inputting specifications in each car listing from its owner or merchant.\n",
    "Some of them will be dropped but most of them will be labeled as another data."
   ]
  },
  {
   "cell_type": "code",
   "execution_count": 23,
   "metadata": {},
   "outputs": [
    {
     "data": {
      "text/plain": [
       "(15983, 18)"
      ]
     },
     "execution_count": 23,
     "metadata": {},
     "output_type": "execute_result"
    }
   ],
   "source": [
    "cars_dataset.dropna(subset=['Make', 'Model'], inplace=True)\n",
    "cars_dataset.shape"
   ]
  },
  {
   "cell_type": "markdown",
   "metadata": {},
   "source": [
    "Make and model are too important to have as an specific information for each row, so the ones were Make and Model are missing were dropped."
   ]
  },
  {
   "cell_type": "code",
   "execution_count": 24,
   "metadata": {},
   "outputs": [
    {
     "name": "stdout",
     "output_type": "stream",
     "text": [
      "'Bed Length' column has 14752 null values.\n",
      "The other ones (1231) are:\n"
     ]
    },
    {
     "data": {
      "text/plain": [
       "Short Bed       576\n",
       "Standard Bed    536\n",
       "Long Bed        119\n",
       "Name: Bed Length, dtype: int64"
      ]
     },
     "execution_count": 24,
     "metadata": {},
     "output_type": "execute_result"
    }
   ],
   "source": [
    "print(\"'Bed Length' column has\", cars_dataset[\"Bed Length\"].isnull().sum(), \"null values.\")\n",
    "print(\"The other ones (\", cars_dataset[\"Bed Length\"].notnull().sum(), \") are:\", sep=\"\")\n",
    "cars_dataset['Bed Length'].value_counts()"
   ]
  },
  {
   "cell_type": "markdown",
   "metadata": {},
   "source": [
    "As seen above the bed length is null for almost all cases, so it will be discarded."
   ]
  },
  {
   "cell_type": "code",
   "execution_count": 25,
   "metadata": {},
   "outputs": [
    {
     "data": {
      "text/plain": [
       "Index(['Make', 'Model', 'Year', 'Mileage', 'Transmission', 'Engine',\n",
       "       'Exterior Color', 'Interior Color', 'MPG', 'Fuel Type', 'Drive Type',\n",
       "       'Location (City)', 'Location (State)', 'Style', 'Condition (Accidents)',\n",
       "       'Options Level', 'Price'],\n",
       "      dtype='object')"
      ]
     },
     "execution_count": 25,
     "metadata": {},
     "output_type": "execute_result"
    }
   ],
   "source": [
    "cars_dataset.drop(columns='Bed Length', inplace=True)\n",
    "cars_dataset.columns"
   ]
  },
  {
   "cell_type": "code",
   "execution_count": 26,
   "metadata": {},
   "outputs": [
    {
     "name": "stdout",
     "output_type": "stream",
     "text": [
      "Exterior Color has 5840 null values\n"
     ]
    }
   ],
   "source": [
    "cols_by_nulls = cols_by_nulls[1:]\n",
    "print(\"Exterior Color has\", cols_by_nulls[0], \"null values\")"
   ]
  },
  {
   "cell_type": "code",
   "execution_count": 36,
   "metadata": {},
   "outputs": [
    {
     "name": "stdout",
     "output_type": "stream",
     "text": [
      "10747 not null values and values count: 569\n"
     ]
    },
    {
     "data": {
      "text/plain": [
       "Black                  775\n",
       "Oxford White           426\n",
       "Gray                   398\n",
       "Summit White           393\n",
       "White                  371\n",
       "                      ... \n",
       "Ultimate Black           1\n",
       "Sonora Gold Pearl        1\n",
       "Black Stone              1\n",
       "Deep Black Metallic      1\n",
       "Chromium                 1\n",
       "Name: Exterior Color, Length: 569, dtype: int64"
      ]
     },
     "execution_count": 36,
     "metadata": {},
     "output_type": "execute_result"
    }
   ],
   "source": [
    "print(cars_dataset['Exterior Color'].value_counts().sum(), \"not null values and values count:\", cars_dataset['Exterior Color'].nunique())\n",
    "cars_dataset['Exterior Color'].value_counts()"
   ]
  },
  {
   "cell_type": "code",
   "execution_count": 8,
   "metadata": {},
   "outputs": [
    {
     "data": {
      "text/plain": [
       "Make                      object\n",
       "Model                     object\n",
       "Year                     float64\n",
       "Mileage                   object\n",
       "Transmission              object\n",
       "Engine                    object\n",
       "Exterior Color            object\n",
       "Interior Color            object\n",
       "MPG                       object\n",
       "Fuel Type                 object\n",
       "Drive Type                object\n",
       "Location (City)           object\n",
       "Location (State)          object\n",
       "Style                     object\n",
       "Condition (Accidents)     object\n",
       "Options Level             object\n",
       "Bed Length                object\n",
       "Price                     object\n",
       "dtype: object"
      ]
     },
     "execution_count": 8,
     "metadata": {},
     "output_type": "execute_result"
    }
   ],
   "source": [
    "cars_dataset.dtypes"
   ]
  },
  {
   "cell_type": "code",
   "execution_count": null,
   "metadata": {},
   "outputs": [],
   "source": []
  }
 ],
 "metadata": {
  "kernelspec": {
   "display_name": "Python 3",
   "language": "python",
   "name": "python3"
  },
  "language_info": {
   "codemirror_mode": {
    "name": "ipython",
    "version": 3
   },
   "file_extension": ".py",
   "mimetype": "text/x-python",
   "name": "python",
   "nbconvert_exporter": "python",
   "pygments_lexer": "ipython3",
   "version": "3.7.3"
  }
 },
 "nbformat": 4,
 "nbformat_minor": 2
}
