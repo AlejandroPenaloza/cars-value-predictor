{
 "cells": [
  {
   "cell_type": "code",
   "execution_count": null,
   "metadata": {},
   "outputs": [],
   "source": [
    "import itertools\n",
    "import pandas as pd\n",
    "import numpy as np\n",
    "import scipy.stats\n",
    "import re\n",
    "import math\n",
    "import matplotlib as mlp\n",
    "import matplotlib.pyplot as plt\n",
    "import matplotlib.backends.backend_agg\n",
    "import matplotlib.figure\n",
    "import seaborn as sns\n",
    "import datetime\n",
    "from sklearn import preprocessing\n",
    "from sklearn.model_selection import train_test_split\n",
    "from sklearn.linear_model import LogisticRegression\n",
    "from sklearn.metrics import confusion_matrix, accuracy_score\n",
    "from sklearn.preprocessing import LabelEncoder, OneHotEncoder, LabelBinarizer\n",
    "from sklearn.metrics import roc_curve, roc_auc_score"
   ]
  },
  {
   "cell_type": "code",
   "execution_count": null,
   "metadata": {},
   "outputs": [],
   "source": [
    "cars_dataset = pd.read_csv('C:/Users/aleja/Cars-Value-Predictor/cars-features-dataset.csv')\n",
    "cars_dataset.drop(columns='Unnamed: 0', inplace=True)\n",
    "print(cars_dataset.shape)\n",
    "cars_dataset.head()"
   ]
  },
  {
   "cell_type": "markdown",
   "metadata": {},
   "source": [
    "## Exploratory Data Analysis"
   ]
  },
  {
   "cell_type": "code",
   "execution_count": null,
   "metadata": {},
   "outputs": [],
   "source": [
    "cars_dataset.isnull().sum(axis=0)"
   ]
  },
  {
   "cell_type": "code",
   "execution_count": null,
   "metadata": {},
   "outputs": [],
   "source": [
    "cols_by_nulls = cars_dataset.isnull().sum().sort_values(ascending=False).to_dict()\n",
    "cols_by_nulls"
   ]
  },
  {
   "cell_type": "markdown",
   "metadata": {},
   "source": [
    "This high quantity of allegedly null values is due to lack of information when inputting specifications in each car listing from its owner or merchant.\n",
    "Some of them will be dropped but most of them will be labeled as another data."
   ]
  },
  {
   "cell_type": "code",
   "execution_count": null,
   "metadata": {},
   "outputs": [],
   "source": [
    "cars_dataset.dropna(subset=['Make', 'Model'], inplace=True)\n",
    "cars_dataset.shape"
   ]
  },
  {
   "cell_type": "markdown",
   "metadata": {},
   "source": [
    "Make and model are too important to have as an specific information for each row, so the ones were Make and Model are missing were dropped."
   ]
  },
  {
   "cell_type": "markdown",
   "metadata": {},
   "source": [
    "Now, 'Drive Type' will be analyzed. It has a lot less null values, so they will be eliminated."
   ]
  },
  {
   "cell_type": "code",
   "execution_count": null,
   "metadata": {},
   "outputs": [],
   "source": [
    "cars_dataset.dropna(subset=['Drive Type'], inplace=True)"
   ]
  },
  {
   "cell_type": "code",
   "execution_count": null,
   "metadata": {},
   "outputs": [],
   "source": [
    "cars_dataset.shape"
   ]
  },
  {
   "cell_type": "code",
   "execution_count": null,
   "metadata": {},
   "outputs": [],
   "source": []
  },
  {
   "cell_type": "code",
   "execution_count": null,
   "metadata": {},
   "outputs": [],
   "source": [
    "print(\"'Bed Length' column has\", cars_dataset[\"Bed Length\"].isnull().sum(), \"null values.\")\n",
    "print(\"The other ones (\", cars_dataset[\"Bed Length\"].notnull().sum(), \") are:\", sep=\"\")\n",
    "cars_dataset['Bed Length'].value_counts()"
   ]
  },
  {
   "cell_type": "markdown",
   "metadata": {},
   "source": [
    "As seen above the bed length is null for almost all cases, so it will be discarded."
   ]
  },
  {
   "cell_type": "code",
   "execution_count": null,
   "metadata": {},
   "outputs": [],
   "source": [
    "cars_dataset.drop(columns='Bed Length', inplace=True)\n",
    "cars_dataset.columns"
   ]
  },
  {
   "cell_type": "code",
   "execution_count": null,
   "metadata": {},
   "outputs": [],
   "source": [
    "cols_by_nulls.pop(\"Bed Length\")"
   ]
  },
  {
   "cell_type": "code",
   "execution_count": null,
   "metadata": {},
   "outputs": [],
   "source": [
    "print(\"Exterior Color has\", cols_by_nulls['Exterior Color'], \"null values\")\n",
    "print(cars_dataset['Exterior Color'].value_counts().sum(), \"not null values and values count:\", cars_dataset['Exterior Color'].nunique())\n",
    "cars_dataset['Exterior Color'].value_counts()"
   ]
  },
  {
   "cell_type": "code",
   "execution_count": null,
   "metadata": {},
   "outputs": [],
   "source": [
    "ext_colors = list(cars_dataset['Exterior Color'].value_counts().index)\n",
    "ext_colors"
   ]
  },
  {
   "cell_type": "markdown",
   "metadata": {},
   "source": [
    "'Exterior Color' has a lot of unique values, but they can be regrouped given that these values represent almost the same color by category."
   ]
  },
  {
   "cell_type": "markdown",
   "metadata": {},
   "source": [
    "The following function will check whether the passed color names belong to the same category."
   ]
  },
  {
   "cell_type": "code",
   "execution_count": null,
   "metadata": {},
   "outputs": [],
   "source": [
    "def color_in(color, *argc):\n",
    "    checks = []\n",
    "    for arg in argc:\n",
    "        if arg in lower(color):\n",
    "            checks.append(True)\n",
    "        else:\n",
    "            checks.append(False)\n",
    "    if all(checks):\n",
    "        return True\n",
    "    else:\n",
    "        return False"
   ]
  },
  {
   "cell_type": "markdown",
   "metadata": {},
   "source": [
    "Now, this function will tell if the conditions are met so that it categorizes the original values to this set-up. "
   ]
  },
  {
   "cell_type": "code",
   "execution_count": null,
   "metadata": {},
   "outputs": [],
   "source": [
    "def ext_colors_categorize(ext_color):\n",
    "    if color_in(ext_color, \"black\") or \"Obsidian\" == ext_color:\n",
    "        return \"Black\"\n",
    "    elif color_in(ext_color, \"white\"):\n",
    "        return \"White\"\n",
    "    elif color_in(ext_color, \"green\"):\n",
    "        return \"Green\"\n",
    "    elif color_in(ext_color, \"blue\"):\n",
    "        return \"Blue\"\n",
    "    elif color_in(ext_color, \"silver\", \"gray\", \"magnetic\", \"pearlcoat\"):\n",
    "        return \"Silver or Grey\"\n",
    "    elif color_in(ext_color, \"red\", \"Cherry\", \"ruby\"):\n",
    "        return \"Red\"\n",
    "    elif color_in(ext_color, \"gold\"):\n",
    "        return \"Gold\"\n",
    "    else:\n",
    "        return \"Unknown\""
   ]
  },
  {
   "cell_type": "code",
   "execution_count": null,
   "metadata": {},
   "outputs": [],
   "source": [
    "cars_dataset['Exterior Color'].apply(ext_colors_categorize)"
   ]
  },
  {
   "cell_type": "code",
   "execution_count": null,
   "metadata": {},
   "outputs": [],
   "source": [
    "cars_dataset.dtypes"
   ]
  },
  {
   "cell_type": "code",
   "execution_count": null,
   "metadata": {},
   "outputs": [],
   "source": [
    "'''\n",
    "def ext_colors_categorize(ext_color):\n",
    "    if ext_color.isnull():\n",
    "        return \"Unknown\"\n",
    "    elif color_in(ext_color, \"black\")\n",
    "    elif \"black\" in lower(ext_color):\n",
    "        return \"Black\"\n",
    "    elif \"white\" in lower(ext_color):\n",
    "        return \"White\"\n",
    "    elif \"green\" in lower(ext_color):\n",
    "        return \"Green\"\n",
    "    elif \"blue\" in lower(ext_color):\n",
    "        return \"Blue\"\n",
    "    elif \"silver\" in lower(ext_color) or \"gray\" in lower(ext_color) or \"metallic\" in lower(ext_color):\n",
    "        return \"Silver or Grey\"\n",
    "    elif \n",
    "    \n",
    "    \n",
    "cars_dataset['Exterior Color'].value_counts()[100]\n",
    "midpoint = np.mean(cars_dataset['Exterior Color'].value_counts().iloc[:len(cars_dataset['Exterior Color'].value_counts())/2])\n",
    "for i in range(len(cars_dataset['Exterior Color'].value_counts())):\n",
    "    if cars_dataset['Exterior Color'].value_counts()[i] <= midpoint:\n",
    "        print(i)\n",
    "        break\n",
    "        \n",
    "def ext_color_categorize(ext_color):\n",
    "    if ext_color not in common_ext_colors:\n",
    "        return \"Another\"\n",
    "    \n",
    "'''"
   ]
  }
 ],
 "metadata": {
  "kernelspec": {
   "display_name": "Python 3",
   "language": "python",
   "name": "python3"
  },
  "language_info": {
   "codemirror_mode": {
    "name": "ipython",
    "version": 3
   },
   "file_extension": ".py",
   "mimetype": "text/x-python",
   "name": "python",
   "nbconvert_exporter": "python",
   "pygments_lexer": "ipython3",
   "version": "3.7.3"
  }
 },
 "nbformat": 4,
 "nbformat_minor": 2
}
