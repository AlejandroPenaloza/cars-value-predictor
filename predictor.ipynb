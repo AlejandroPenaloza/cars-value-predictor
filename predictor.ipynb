{
  "nbformat": 4,
  "nbformat_minor": 0,
  "metadata": {
    "kernelspec": {
      "display_name": "Python 3",
      "language": "python",
      "name": "python3"
    },
    "language_info": {
      "codemirror_mode": {
        "name": "ipython",
        "version": 3
      },
      "file_extension": ".py",
      "mimetype": "text/x-python",
      "name": "python",
      "nbconvert_exporter": "python",
      "pygments_lexer": "ipython3",
      "version": "3.7.3"
    },
    "colab": {
      "name": "predictor.ipynb",
      "provenance": [],
      "collapsed_sections": []
    }
  },
  "cells": [
    {
      "cell_type": "code",
      "metadata": {
        "id": "9ivP7Jes0A-V",
        "colab": {
          "base_uri": "https://localhost:8080/"
        },
        "outputId": "b2854af0-bf4b-466a-9f80-846ee02d4b36"
      },
      "source": [
        "!pip install dython\n",
        "import itertools\n",
        "import pandas as pd\n",
        "import pandas_profiling\n",
        "import numpy as np\n",
        "import scipy.stats\n",
        "import re\n",
        "import requests\n",
        "from bs4 import BeautifulSoup\n",
        "import math\n",
        "import matplotlib as mlp\n",
        "import matplotlib.pyplot as plt\n",
        "import matplotlib.backends.backend_agg\n",
        "import matplotlib.figure\n",
        "import seaborn as sns\n",
        "import datetime\n",
        "import warnings\n",
        "import dython.nominal as dn\n",
        "from sklearn import preprocessing\n",
        "from sklearn.model_selection import train_test_split\n",
        "from sklearn.linear_model import LogisticRegression\n",
        "from sklearn.metrics import confusion_matrix, accuracy_score\n",
        "from sklearn.preprocessing import LabelEncoder, OneHotEncoder, LabelBinarizer\n",
        "from sklearn.metrics import roc_curve, roc_auc_score"
      ],
      "execution_count": 1,
      "outputs": [
        {
          "output_type": "stream",
          "text": [
            "Collecting dython\n",
            "  Downloading https://files.pythonhosted.org/packages/b0/50/9428a364ba9cf6087f8dfb332e50a9d96e5aecb9a0694aebf78fdbdf4365/dython-0.6.2-py3-none-any.whl\n",
            "Requirement already satisfied: scikit-learn in /usr/local/lib/python3.6/dist-packages (from dython) (0.22.2.post1)\n",
            "Requirement already satisfied: scipy in /usr/local/lib/python3.6/dist-packages (from dython) (1.4.1)\n",
            "Requirement already satisfied: matplotlib in /usr/local/lib/python3.6/dist-packages (from dython) (3.2.2)\n",
            "Requirement already satisfied: pandas>=0.23.4 in /usr/local/lib/python3.6/dist-packages (from dython) (1.1.5)\n",
            "Requirement already satisfied: seaborn in /usr/local/lib/python3.6/dist-packages (from dython) (0.11.1)\n",
            "Requirement already satisfied: numpy in /usr/local/lib/python3.6/dist-packages (from dython) (1.19.5)\n",
            "Requirement already satisfied: joblib>=0.11 in /usr/local/lib/python3.6/dist-packages (from scikit-learn->dython) (1.0.0)\n",
            "Requirement already satisfied: cycler>=0.10 in /usr/local/lib/python3.6/dist-packages (from matplotlib->dython) (0.10.0)\n",
            "Requirement already satisfied: python-dateutil>=2.1 in /usr/local/lib/python3.6/dist-packages (from matplotlib->dython) (2.8.1)\n",
            "Requirement already satisfied: pyparsing!=2.0.4,!=2.1.2,!=2.1.6,>=2.0.1 in /usr/local/lib/python3.6/dist-packages (from matplotlib->dython) (2.4.7)\n",
            "Requirement already satisfied: kiwisolver>=1.0.1 in /usr/local/lib/python3.6/dist-packages (from matplotlib->dython) (1.3.1)\n",
            "Requirement already satisfied: pytz>=2017.2 in /usr/local/lib/python3.6/dist-packages (from pandas>=0.23.4->dython) (2018.9)\n",
            "Requirement already satisfied: six in /usr/local/lib/python3.6/dist-packages (from cycler>=0.10->matplotlib->dython) (1.15.0)\n",
            "Installing collected packages: dython\n",
            "Successfully installed dython-0.6.2\n"
          ],
          "name": "stdout"
        }
      ]
    },
    {
      "cell_type": "code",
      "metadata": {
        "id": "zHnZBhuK0A-r",
        "colab": {
          "base_uri": "https://localhost:8080/",
          "height": 408
        },
        "outputId": "18d64a4e-02fa-4e62-acbd-83f704216a88"
      },
      "source": [
        "vehicles_dataset = pd.read_csv(\n",
        "    'https://raw.githubusercontent.com/AlejandroPenaloza/cars-value-predictor/master/cars-features-dataset.csv')\n",
        "vehicles_dataset.drop(columns='Unnamed: 0', inplace=True)\n",
        "print(vehicles_dataset.shape)\n",
        "vehicles_dataset.head()"
      ],
      "execution_count": 2,
      "outputs": [
        {
          "output_type": "stream",
          "text": [
            "(16920, 18)\n"
          ],
          "name": "stdout"
        },
        {
          "output_type": "execute_result",
          "data": {
            "text/html": [
              "<div>\n",
              "<style scoped>\n",
              "    .dataframe tbody tr th:only-of-type {\n",
              "        vertical-align: middle;\n",
              "    }\n",
              "\n",
              "    .dataframe tbody tr th {\n",
              "        vertical-align: top;\n",
              "    }\n",
              "\n",
              "    .dataframe thead th {\n",
              "        text-align: right;\n",
              "    }\n",
              "</style>\n",
              "<table border=\"1\" class=\"dataframe\">\n",
              "  <thead>\n",
              "    <tr style=\"text-align: right;\">\n",
              "      <th></th>\n",
              "      <th>Make</th>\n",
              "      <th>Model</th>\n",
              "      <th>Year</th>\n",
              "      <th>Mileage</th>\n",
              "      <th>Transmission</th>\n",
              "      <th>Engine</th>\n",
              "      <th>Exterior Color</th>\n",
              "      <th>Interior Color</th>\n",
              "      <th>MPG</th>\n",
              "      <th>Fuel Type</th>\n",
              "      <th>Drive Type</th>\n",
              "      <th>Location (City)</th>\n",
              "      <th>Location (State)</th>\n",
              "      <th>Style</th>\n",
              "      <th>Condition (Accidents)</th>\n",
              "      <th>Options Level</th>\n",
              "      <th>Bed Length</th>\n",
              "      <th>Price</th>\n",
              "    </tr>\n",
              "  </thead>\n",
              "  <tbody>\n",
              "    <tr>\n",
              "      <th>0</th>\n",
              "      <td>Ford</td>\n",
              "      <td>Focus</td>\n",
              "      <td>2014.0</td>\n",
              "      <td>35,795</td>\n",
              "      <td>Automatic</td>\n",
              "      <td>2.0L Inline-4 Gas</td>\n",
              "      <td>NaN</td>\n",
              "      <td>Charcoal Black</td>\n",
              "      <td>26 cty / 36 hwy</td>\n",
              "      <td>Gas</td>\n",
              "      <td>FWD</td>\n",
              "      <td>Tacoma</td>\n",
              "      <td>WA</td>\n",
              "      <td>SE Hatchback</td>\n",
              "      <td>2 reported accidents</td>\n",
              "      <td>Standard</td>\n",
              "      <td>NaN</td>\n",
              "      <td>7,999</td>\n",
              "    </tr>\n",
              "    <tr>\n",
              "      <th>1</th>\n",
              "      <td>Ford</td>\n",
              "      <td>F-150</td>\n",
              "      <td>2015.0</td>\n",
              "      <td>128,146</td>\n",
              "      <td>Automatic</td>\n",
              "      <td>2.7L V-6 Gas Turbocharged</td>\n",
              "      <td>Unknown</td>\n",
              "      <td>Medium Earth Gray</td>\n",
              "      <td>19 cty / 26 hwy</td>\n",
              "      <td>Gas</td>\n",
              "      <td>RWD</td>\n",
              "      <td>Waxahachie</td>\n",
              "      <td>TX</td>\n",
              "      <td>XL SuperCrew 6.5\\' Box RWD</td>\n",
              "      <td>0 reported accidents</td>\n",
              "      <td>NaN</td>\n",
              "      <td>Standard Bed</td>\n",
              "      <td>15,991</td>\n",
              "    </tr>\n",
              "    <tr>\n",
              "      <th>2</th>\n",
              "      <td>Mercedes-Benz</td>\n",
              "      <td>E-Class</td>\n",
              "      <td>2004.0</td>\n",
              "      <td>135,000</td>\n",
              "      <td>Automatic</td>\n",
              "      <td>5.0L V-8 Gas</td>\n",
              "      <td>Black</td>\n",
              "      <td>Beige</td>\n",
              "      <td>16 cty / 22 hwy</td>\n",
              "      <td>Gas</td>\n",
              "      <td>AWD</td>\n",
              "      <td>Covina</td>\n",
              "      <td>CA</td>\n",
              "      <td>E 500 4MATIC Wagon</td>\n",
              "      <td>0 reported accidents</td>\n",
              "      <td>Standard</td>\n",
              "      <td>NaN</td>\n",
              "      <td>5,950</td>\n",
              "    </tr>\n",
              "    <tr>\n",
              "      <th>3</th>\n",
              "      <td>Hyundai</td>\n",
              "      <td>Elantra</td>\n",
              "      <td>2011.0</td>\n",
              "      <td>135,670</td>\n",
              "      <td>Automatic</td>\n",
              "      <td>1.8L Inline-4 Gas</td>\n",
              "      <td>NaN</td>\n",
              "      <td>Gray</td>\n",
              "      <td>28 cty / 38 hwy</td>\n",
              "      <td>Gas</td>\n",
              "      <td>FWD</td>\n",
              "      <td>Miami</td>\n",
              "      <td>FL</td>\n",
              "      <td>NaN</td>\n",
              "      <td>0 reported accidents</td>\n",
              "      <td>Standard</td>\n",
              "      <td>NaN</td>\n",
              "      <td>3,999</td>\n",
              "    </tr>\n",
              "    <tr>\n",
              "      <th>4</th>\n",
              "      <td>Toyota</td>\n",
              "      <td>Prius</td>\n",
              "      <td>2012.0</td>\n",
              "      <td>152,543</td>\n",
              "      <td>Automatic</td>\n",
              "      <td>1.8L Inline-4 Hybrid</td>\n",
              "      <td>White</td>\n",
              "      <td>Biege</td>\n",
              "      <td>51 cty / 48 hwy</td>\n",
              "      <td>Hybrid</td>\n",
              "      <td>FWD</td>\n",
              "      <td>Byhalia</td>\n",
              "      <td>MS</td>\n",
              "      <td>Five</td>\n",
              "      <td>1 reported accidents</td>\n",
              "      <td>Standard</td>\n",
              "      <td>NaN</td>\n",
              "      <td>6,500</td>\n",
              "    </tr>\n",
              "  </tbody>\n",
              "</table>\n",
              "</div>"
            ],
            "text/plain": [
              "            Make    Model    Year  ... Options Level    Bed Length   Price\n",
              "0           Ford    Focus  2014.0  ...      Standard           NaN   7,999\n",
              "1           Ford    F-150  2015.0  ...           NaN  Standard Bed  15,991\n",
              "2  Mercedes-Benz  E-Class  2004.0  ...      Standard           NaN   5,950\n",
              "3        Hyundai  Elantra  2011.0  ...      Standard           NaN   3,999\n",
              "4         Toyota    Prius  2012.0  ...      Standard           NaN   6,500\n",
              "\n",
              "[5 rows x 18 columns]"
            ]
          },
          "metadata": {
            "tags": []
          },
          "execution_count": 2
        }
      ]
    },
    {
      "cell_type": "markdown",
      "metadata": {
        "id": "Aq4K5y970A-3"
      },
      "source": [
        "## Exploratory Data Analysis"
      ]
    },
    {
      "cell_type": "code",
      "metadata": {
        "id": "8z0dMCrY5R-H"
      },
      "source": [
        "#pandas_profiling.ProfileReport(vehicles_dataset)"
      ],
      "execution_count": 3,
      "outputs": []
    },
    {
      "cell_type": "code",
      "metadata": {
        "id": "alWSu2w00A_F",
        "colab": {
          "base_uri": "https://localhost:8080/",
          "height": 802
        },
        "outputId": "e36783d1-d47f-474e-8386-e34c8f3fcadc"
      },
      "source": [
        "print(vehicles_dataset.info())\n",
        "print(vehicles_dataset['Year'].describe())\n",
        "vehicles_dataset.drop(columns='Year').describe()"
      ],
      "execution_count": 4,
      "outputs": [
        {
          "output_type": "stream",
          "text": [
            "<class 'pandas.core.frame.DataFrame'>\n",
            "RangeIndex: 16920 entries, 0 to 16919\n",
            "Data columns (total 18 columns):\n",
            " #   Column                 Non-Null Count  Dtype  \n",
            "---  ------                 --------------  -----  \n",
            " 0   Make                   16024 non-null  object \n",
            " 1   Model                  15997 non-null  object \n",
            " 2   Year                   16098 non-null  float64\n",
            " 3   Mileage                16571 non-null  object \n",
            " 4   Transmission           16534 non-null  object \n",
            " 5   Engine                 13375 non-null  object \n",
            " 6   Exterior Color         11080 non-null  object \n",
            " 7   Interior Color         15635 non-null  object \n",
            " 8   MPG                    16553 non-null  object \n",
            " 9   Fuel Type              16584 non-null  object \n",
            " 10  Drive Type             16636 non-null  object \n",
            " 11  Location (City)        16207 non-null  object \n",
            " 12  Location (State)       16172 non-null  object \n",
            " 13  Style                  15173 non-null  object \n",
            " 14  Condition (Accidents)  16139 non-null  object \n",
            " 15  Options Level          14679 non-null  object \n",
            " 16  Bed Length             1279 non-null   object \n",
            " 17  Price                  16004 non-null  object \n",
            "dtypes: float64(1), object(17)\n",
            "memory usage: 2.3+ MB\n",
            "None\n",
            "count    16098.000000\n",
            "mean      2015.711331\n",
            "std          4.053883\n",
            "min       1997.000000\n",
            "25%       2014.000000\n",
            "50%       2017.000000\n",
            "75%       2019.000000\n",
            "max       2020.000000\n",
            "Name: Year, dtype: float64\n"
          ],
          "name": "stdout"
        },
        {
          "output_type": "execute_result",
          "data": {
            "text/html": [
              "<div>\n",
              "<style scoped>\n",
              "    .dataframe tbody tr th:only-of-type {\n",
              "        vertical-align: middle;\n",
              "    }\n",
              "\n",
              "    .dataframe tbody tr th {\n",
              "        vertical-align: top;\n",
              "    }\n",
              "\n",
              "    .dataframe thead th {\n",
              "        text-align: right;\n",
              "    }\n",
              "</style>\n",
              "<table border=\"1\" class=\"dataframe\">\n",
              "  <thead>\n",
              "    <tr style=\"text-align: right;\">\n",
              "      <th></th>\n",
              "      <th>Make</th>\n",
              "      <th>Model</th>\n",
              "      <th>Mileage</th>\n",
              "      <th>Transmission</th>\n",
              "      <th>Engine</th>\n",
              "      <th>Exterior Color</th>\n",
              "      <th>Interior Color</th>\n",
              "      <th>MPG</th>\n",
              "      <th>Fuel Type</th>\n",
              "      <th>Drive Type</th>\n",
              "      <th>Location (City)</th>\n",
              "      <th>Location (State)</th>\n",
              "      <th>Style</th>\n",
              "      <th>Condition (Accidents)</th>\n",
              "      <th>Options Level</th>\n",
              "      <th>Bed Length</th>\n",
              "      <th>Price</th>\n",
              "    </tr>\n",
              "  </thead>\n",
              "  <tbody>\n",
              "    <tr>\n",
              "      <th>count</th>\n",
              "      <td>16024</td>\n",
              "      <td>15997</td>\n",
              "      <td>16571</td>\n",
              "      <td>16534</td>\n",
              "      <td>13375</td>\n",
              "      <td>11080</td>\n",
              "      <td>15635</td>\n",
              "      <td>16553</td>\n",
              "      <td>16584</td>\n",
              "      <td>16636</td>\n",
              "      <td>16207</td>\n",
              "      <td>16172</td>\n",
              "      <td>15173</td>\n",
              "      <td>16139</td>\n",
              "      <td>14679</td>\n",
              "      <td>1279</td>\n",
              "      <td>16004</td>\n",
              "    </tr>\n",
              "    <tr>\n",
              "      <th>unique</th>\n",
              "      <td>121</td>\n",
              "      <td>615</td>\n",
              "      <td>6442</td>\n",
              "      <td>2</td>\n",
              "      <td>122</td>\n",
              "      <td>577</td>\n",
              "      <td>325</td>\n",
              "      <td>274</td>\n",
              "      <td>7</td>\n",
              "      <td>5</td>\n",
              "      <td>1311</td>\n",
              "      <td>52</td>\n",
              "      <td>1327</td>\n",
              "      <td>5</td>\n",
              "      <td>4</td>\n",
              "      <td>3</td>\n",
              "      <td>3217</td>\n",
              "    </tr>\n",
              "    <tr>\n",
              "      <th>top</th>\n",
              "      <td>Ford</td>\n",
              "      <td>Sentra</td>\n",
              "      <td>29,842</td>\n",
              "      <td>Automatic</td>\n",
              "      <td>2.5L Inline-4 Gas</td>\n",
              "      <td>Black</td>\n",
              "      <td>Black</td>\n",
              "      <td>29 cty / 37 hwy</td>\n",
              "      <td>Gas</td>\n",
              "      <td>FWD</td>\n",
              "      <td>Phoenix</td>\n",
              "      <td>TX</td>\n",
              "      <td>SE FWD</td>\n",
              "      <td>0 reported accidents</td>\n",
              "      <td>Standard</td>\n",
              "      <td>Short Bed</td>\n",
              "      <td>9,995</td>\n",
              "    </tr>\n",
              "    <tr>\n",
              "      <th>freq</th>\n",
              "      <td>2158</td>\n",
              "      <td>563</td>\n",
              "      <td>20</td>\n",
              "      <td>16036</td>\n",
              "      <td>2045</td>\n",
              "      <td>821</td>\n",
              "      <td>4577</td>\n",
              "      <td>638</td>\n",
              "      <td>15625</td>\n",
              "      <td>9719</td>\n",
              "      <td>235</td>\n",
              "      <td>1997</td>\n",
              "      <td>444</td>\n",
              "      <td>13441</td>\n",
              "      <td>9801</td>\n",
              "      <td>603</td>\n",
              "      <td>119</td>\n",
              "    </tr>\n",
              "  </tbody>\n",
              "</table>\n",
              "</div>"
            ],
            "text/plain": [
              "         Make   Model Mileage  ... Options Level Bed Length  Price\n",
              "count   16024   15997   16571  ...         14679       1279  16004\n",
              "unique    121     615    6442  ...             4          3   3217\n",
              "top      Ford  Sentra  29,842  ...      Standard  Short Bed  9,995\n",
              "freq     2158     563      20  ...          9801        603    119\n",
              "\n",
              "[4 rows x 17 columns]"
            ]
          },
          "metadata": {
            "tags": []
          },
          "execution_count": 4
        }
      ]
    },
    {
      "cell_type": "markdown",
      "metadata": {
        "id": "1DQRbAuMpqBo"
      },
      "source": [
        "Or..."
      ]
    },
    {
      "cell_type": "code",
      "metadata": {
        "id": "-lCmC8Wz0A_L",
        "colab": {
          "base_uri": "https://localhost:8080/"
        },
        "outputId": "423cdde3-10a0-42bc-d8d0-f40ccb9bd3b3"
      },
      "source": [
        "vehicles_dataset.dtypes"
      ],
      "execution_count": 5,
      "outputs": [
        {
          "output_type": "execute_result",
          "data": {
            "text/plain": [
              "Make                      object\n",
              "Model                     object\n",
              "Year                     float64\n",
              "Mileage                   object\n",
              "Transmission              object\n",
              "Engine                    object\n",
              "Exterior Color            object\n",
              "Interior Color            object\n",
              "MPG                       object\n",
              "Fuel Type                 object\n",
              "Drive Type                object\n",
              "Location (City)           object\n",
              "Location (State)          object\n",
              "Style                     object\n",
              "Condition (Accidents)     object\n",
              "Options Level             object\n",
              "Bed Length                object\n",
              "Price                     object\n",
              "dtype: object"
            ]
          },
          "metadata": {
            "tags": []
          },
          "execution_count": 5
        }
      ]
    },
    {
      "cell_type": "code",
      "metadata": {
        "id": "sqTzfHZa0A_X",
        "colab": {
          "base_uri": "https://localhost:8080/"
        },
        "outputId": "1b5a9a13-15b1-4ef7-9ffa-ddbe5aaccdac"
      },
      "source": [
        "vehicles_dataset.isnull().sum(axis=0)"
      ],
      "execution_count": 6,
      "outputs": [
        {
          "output_type": "execute_result",
          "data": {
            "text/plain": [
              "Make                       896\n",
              "Model                      923\n",
              "Year                       822\n",
              "Mileage                    349\n",
              "Transmission               386\n",
              "Engine                    3545\n",
              "Exterior Color            5840\n",
              "Interior Color            1285\n",
              "MPG                        367\n",
              "Fuel Type                  336\n",
              "Drive Type                 284\n",
              "Location (City)            713\n",
              "Location (State)           748\n",
              "Style                     1747\n",
              "Condition (Accidents)      781\n",
              "Options Level             2241\n",
              "Bed Length               15641\n",
              "Price                      916\n",
              "dtype: int64"
            ]
          },
          "metadata": {
            "tags": []
          },
          "execution_count": 6
        }
      ]
    },
    {
      "cell_type": "code",
      "metadata": {
        "id": "RBr1ksGL0A_g",
        "colab": {
          "base_uri": "https://localhost:8080/"
        },
        "outputId": "226728a5-4e51-4c6a-eec5-53cc8eab6eb0"
      },
      "source": [
        "# the following is an array with columns sorted by nulls count within them.\n",
        "columns_by_nulls = vehicles_dataset.isnull().sum().sort_values(ascending=True)\n",
        "print(columns_by_nulls)\n",
        "sorted_columns = columns_by_nulls.index.to_numpy()\n",
        "sorted_columns"
      ],
      "execution_count": 7,
      "outputs": [
        {
          "output_type": "stream",
          "text": [
            "Drive Type                 284\n",
            "Fuel Type                  336\n",
            "Mileage                    349\n",
            "MPG                        367\n",
            "Transmission               386\n",
            "Location (City)            713\n",
            "Location (State)           748\n",
            "Condition (Accidents)      781\n",
            "Year                       822\n",
            "Make                       896\n",
            "Price                      916\n",
            "Model                      923\n",
            "Interior Color            1285\n",
            "Style                     1747\n",
            "Options Level             2241\n",
            "Engine                    3545\n",
            "Exterior Color            5840\n",
            "Bed Length               15641\n",
            "dtype: int64\n"
          ],
          "name": "stdout"
        },
        {
          "output_type": "execute_result",
          "data": {
            "text/plain": [
              "array(['Drive Type', 'Fuel Type', 'Mileage', 'MPG', 'Transmission',\n",
              "       'Location (City)', 'Location (State)', 'Condition (Accidents)',\n",
              "       'Year', 'Make', 'Price', 'Model', 'Interior Color', 'Style',\n",
              "       'Options Level', 'Engine', 'Exterior Color', 'Bed Length'],\n",
              "      dtype=object)"
            ]
          },
          "metadata": {
            "tags": []
          },
          "execution_count": 7
        }
      ]
    },
    {
      "cell_type": "markdown",
      "metadata": {
        "id": "D4iXLDK40A_p"
      },
      "source": [
        "This high quantity of allegedly null values is due to lack of information when inputting specifications in each car listing from its owner or merchant.\n",
        "Some of them will be dropped but most of them will be labeled as another data category."
      ]
    },
    {
      "cell_type": "markdown",
      "metadata": {
        "id": "l4Siaq0SjRWS"
      },
      "source": [
        "### Make and Model"
      ]
    },
    {
      "cell_type": "markdown",
      "metadata": {
        "id": "b1h8b_RRERbO"
      },
      "source": [
        "Starting off with 'Make' and 'Model'"
      ]
    },
    {
      "cell_type": "code",
      "metadata": {
        "id": "Sgaba2lM0A_q",
        "colab": {
          "base_uri": "https://localhost:8080/"
        },
        "outputId": "631351a1-d289-4a7a-e507-3956bebc2631"
      },
      "source": [
        "vehicles_dataset.dropna(subset=['Make', 'Model'], inplace=True)\n",
        "sorted_columns = np.setdiff1d(sorted_columns, np.array(['Make', 'Model']), assume_unique=True)\n",
        "vehicles_dataset.shape"
      ],
      "execution_count": 8,
      "outputs": [
        {
          "output_type": "execute_result",
          "data": {
            "text/plain": [
              "(15983, 18)"
            ]
          },
          "metadata": {
            "tags": []
          },
          "execution_count": 8
        }
      ]
    },
    {
      "cell_type": "markdown",
      "metadata": {
        "id": "GsMj9NOI0A_x"
      },
      "source": [
        "Make and model are too important to have as an specific information for each row, so the ones were Make and Model are missing were dropped."
      ]
    },
    {
      "cell_type": "code",
      "metadata": {
        "id": "nipbL1mXfu_Y",
        "colab": {
          "base_uri": "https://localhost:8080/",
          "height": 35
        },
        "outputId": "a412dd64-960d-47c3-d311-54d3b935a11b"
      },
      "source": [
        "sorted_columns[0]"
      ],
      "execution_count": 9,
      "outputs": [
        {
          "output_type": "execute_result",
          "data": {
            "application/vnd.google.colaboratory.intrinsic+json": {
              "type": "string"
            },
            "text/plain": [
              "'Drive Type'"
            ]
          },
          "metadata": {
            "tags": []
          },
          "execution_count": 9
        }
      ]
    },
    {
      "cell_type": "markdown",
      "metadata": {
        "id": "RyTNuomG0A_z"
      },
      "source": [
        "Now, 'Drive Type' will be analyzed."
      ]
    },
    {
      "cell_type": "code",
      "metadata": {
        "id": "r94HnVtP0A_0",
        "colab": {
          "base_uri": "https://localhost:8080/"
        },
        "outputId": "e6727451-157f-4dbb-f258-623ed2c17672"
      },
      "source": [
        "vehicles_dataset['Drive Type'].value_counts()"
      ],
      "execution_count": 10,
      "outputs": [
        {
          "output_type": "execute_result",
          "data": {
            "text/plain": [
              "FWD        9347\n",
              "AWD        2648\n",
              "4WD        2144\n",
              "RWD        1813\n",
              "Unknown       8\n",
              "Name: Drive Type, dtype: int64"
            ]
          },
          "metadata": {
            "tags": []
          },
          "execution_count": 10
        }
      ]
    },
    {
      "cell_type": "code",
      "metadata": {
        "id": "__qpHH1_0A_4",
        "colab": {
          "base_uri": "https://localhost:8080/"
        },
        "outputId": "1dcbc5b3-1007-4368-f8e6-e5366d19b216"
      },
      "source": [
        "vehicles_dataset['Drive Type'].isnull().sum()"
      ],
      "execution_count": 11,
      "outputs": [
        {
          "output_type": "execute_result",
          "data": {
            "text/plain": [
              "23"
            ]
          },
          "metadata": {
            "tags": []
          },
          "execution_count": 11
        }
      ]
    },
    {
      "cell_type": "markdown",
      "metadata": {
        "id": "Fuorlg7S0A_8"
      },
      "source": [
        "This variable has just 23 null values. In addition to that there is one category called 'Unknown', which has only 8 occurrences.\n",
        "The rows presenting these values are going to be eliminated."
      ]
    },
    {
      "cell_type": "code",
      "metadata": {
        "id": "t8jR_6xg0A_9"
      },
      "source": [
        "vehicles_dataset[\"Drive Type\"] = vehicles_dataset[\"Drive Type\"].apply(\n",
        "    lambda dt: (dt, np.NaN)[dt == 'Unknown'])\n",
        "vehicles_dataset.dropna(subset=[\"Drive Type\"], inplace=True)"
      ],
      "execution_count": 12,
      "outputs": []
    },
    {
      "cell_type": "code",
      "metadata": {
        "id": "6M-amnnl0BAA",
        "colab": {
          "base_uri": "https://localhost:8080/"
        },
        "outputId": "191286c4-8111-4f77-965c-c974d74f9891"
      },
      "source": [
        "# Function to display next feature to analyze and edited\n",
        "# dataframe shape, after being done with previous one\n",
        "def display_next_feature(n=1):\n",
        "  global sorted_columns\n",
        "  sorted_columns = sorted_columns[n:]\n",
        "  return print(sorted_columns[0], \"\\n\", vehicles_dataset.shape)\n",
        "               \n",
        "  \n",
        "display_next_feature()"
      ],
      "execution_count": 13,
      "outputs": [
        {
          "output_type": "stream",
          "text": [
            "Fuel Type \n",
            " (15952, 18)\n"
          ],
          "name": "stdout"
        }
      ]
    },
    {
      "cell_type": "markdown",
      "metadata": {
        "id": "z1_70Cft0BAH"
      },
      "source": [
        "The next variable with the least amount of null values is 'Fuel Type'."
      ]
    },
    {
      "cell_type": "code",
      "metadata": {
        "id": "uYCx3vGq0BAI",
        "colab": {
          "base_uri": "https://localhost:8080/"
        },
        "outputId": "ad246cd9-7701-460b-96d6-829af6b4eba2"
      },
      "source": [
        "print(vehicles_dataset['Fuel Type'].value_counts())\n",
        "vehicles_dataset['Fuel Type'].isnull().sum()"
      ],
      "execution_count": 14,
      "outputs": [
        {
          "output_type": "stream",
          "text": [
            "Gas         14999\n",
            "Hybrid        482\n",
            "Diesel        266\n",
            "Plug-In        99\n",
            "Electric       64\n",
            "Hydrogen        3\n",
            "CNG             2\n",
            "Name: Fuel Type, dtype: int64\n"
          ],
          "name": "stdout"
        },
        {
          "output_type": "execute_result",
          "data": {
            "text/plain": [
              "37"
            ]
          },
          "metadata": {
            "tags": []
          },
          "execution_count": 14
        }
      ]
    },
    {
      "cell_type": "markdown",
      "metadata": {
        "id": "5mQ4iDi1kCxf"
      },
      "source": [
        "'CNG' and 'Hydrogen will be dismissed, they have but 5 presences. "
      ]
    },
    {
      "cell_type": "code",
      "metadata": {
        "id": "CUNzcEk60BAN"
      },
      "source": [
        "vehicles_dataset['Fuel Type'] = vehicles_dataset['Fuel Type'].apply(\n",
        "    lambda ft: (ft, np.NaN)[ft in ['Hydrogen', 'CNG']])\n",
        "vehicles_dataset.dropna(subset=['Fuel Type'], inplace=True)"
      ],
      "execution_count": 15,
      "outputs": []
    },
    {
      "cell_type": "code",
      "metadata": {
        "id": "MAjFHKS6lQ2P",
        "colab": {
          "base_uri": "https://localhost:8080/"
        },
        "outputId": "acd34b6b-36f9-4429-a874-6e7959125980"
      },
      "source": [
        "display_next_feature()"
      ],
      "execution_count": 16,
      "outputs": [
        {
          "output_type": "stream",
          "text": [
            "Mileage \n",
            " (15910, 18)\n"
          ],
          "name": "stdout"
        }
      ]
    },
    {
      "cell_type": "markdown",
      "metadata": {
        "id": "tDErZF8ojfGz"
      },
      "source": [
        "### Mileage"
      ]
    },
    {
      "cell_type": "markdown",
      "metadata": {
        "id": "onSZKetV0BAg"
      },
      "source": [
        "'Mileage' column comes on."
      ]
    },
    {
      "cell_type": "code",
      "metadata": {
        "id": "7235BNWF0BAi",
        "colab": {
          "base_uri": "https://localhost:8080/"
        },
        "outputId": "51d33efa-6247-4781-9b00-41ae4c8d0633"
      },
      "source": [
        "print(vehicles_dataset['Mileage'].value_counts())\n",
        "vehicles_dataset['Mileage'].isnull().sum()"
      ],
      "execution_count": 17,
      "outputs": [
        {
          "output_type": "stream",
          "text": [
            "29,842     20\n",
            "148,040    19\n",
            "152,997    18\n",
            "51,821     16\n",
            "94,500     15\n",
            "           ..\n",
            "41,801      1\n",
            "77,284      1\n",
            "18,343      1\n",
            "4,171       1\n",
            "68,144      1\n",
            "Name: Mileage, Length: 6271, dtype: int64\n"
          ],
          "name": "stdout"
        },
        {
          "output_type": "execute_result",
          "data": {
            "text/plain": [
              "12"
            ]
          },
          "metadata": {
            "tags": []
          },
          "execution_count": 17
        }
      ]
    },
    {
      "cell_type": "code",
      "metadata": {
        "id": "gd8GEeYD0BAu"
      },
      "source": [
        "vehicles_dataset.dropna(subset=['Mileage'], inplace=True)"
      ],
      "execution_count": 18,
      "outputs": []
    },
    {
      "cell_type": "code",
      "metadata": {
        "id": "yZpxc7M8ztYN"
      },
      "source": [
        "vehicles_dataset['Mileage'] = vehicles_dataset['Mileage'].apply(\n",
        "    lambda m: m.replace(',', ''))\n",
        "vehicles_dataset['Mileage'] = vehicles_dataset['Mileage'].astype('int64')"
      ],
      "execution_count": 19,
      "outputs": []
    },
    {
      "cell_type": "code",
      "metadata": {
        "id": "QaPl2RxW6inI",
        "colab": {
          "base_uri": "https://localhost:8080/"
        },
        "outputId": "dc4b7fab-1d37-4a5f-bce3-f6f2d901e525"
      },
      "source": [
        "mileage_median = np.median(vehicles_dataset['Mileage'])\n",
        "print(\"Median of 'Mileage' data is\", mileage_median)\n",
        "scipy.stats.describe(vehicles_dataset['Mileage'])"
      ],
      "execution_count": 20,
      "outputs": [
        {
          "output_type": "stream",
          "text": [
            "Median of 'Mileage' data is 40044.0\n"
          ],
          "name": "stdout"
        },
        {
          "output_type": "execute_result",
          "data": {
            "text/plain": [
              "DescribeResult(nobs=15898, minmax=(5, 428197), mean=58815.70228959618, variance=2178329907.811407, skewness=1.375201333977781, kurtosis=1.9200097611263107)"
            ]
          },
          "metadata": {
            "tags": []
          },
          "execution_count": 20
        }
      ]
    },
    {
      "cell_type": "code",
      "metadata": {
        "id": "ORi2_Pe9HJpR",
        "colab": {
          "base_uri": "https://localhost:8080/",
          "height": 296
        },
        "outputId": "eff5311a-c55e-4c8b-e944-529a28d20e3d"
      },
      "source": [
        "ax = sns.scatterplot(x=vehicles_dataset['Mileage'].value_counts(), \n",
        "                     y=vehicles_dataset['Mileage'], data=vehicles_dataset)\n",
        "ax.set_xlabel('Occurrences')"
      ],
      "execution_count": 21,
      "outputs": [
        {
          "output_type": "execute_result",
          "data": {
            "text/plain": [
              "Text(0.5, 0, 'Occurrences')"
            ]
          },
          "metadata": {
            "tags": []
          },
          "execution_count": 21
        },
        {
          "output_type": "display_data",
          "data": {
            "image/png": "[encoded data removed]",
            "text/plain": [
              "<Figure size 432x288 with 1 Axes>"
            ]
          },
          "metadata": {
            "tags": [],
            "needs_background": "light"
          }
        }
      ]
    },
    {
      "cell_type": "code",
      "metadata": {
        "id": "tMFGKEw66hwB",
        "colab": {
          "base_uri": "https://localhost:8080/",
          "height": 748
        },
        "outputId": "50c97676-920e-495d-9e5a-177578f03f46"
      },
      "source": [
        "fig, (ax_box, ax_hist) = plt.subplots(2, sharex=True, figsize=(14, 10))\n",
        "fig.suptitle('Mileage distribution', fontsize=20)\n",
        "sns.boxplot(orient='h', data=vehicles_dataset['Mileage'], ax=ax_box)\n",
        "sns.distplot(vehicles_dataset['Mileage'], ax=ax_hist)"
      ],
      "execution_count": 22,
      "outputs": [
        {
          "output_type": "stream",
          "text": [
            "/usr/local/lib/python3.6/dist-packages/seaborn/distributions.py:2557: FutureWarning: `distplot` is a deprecated function and will be removed in a future version. Please adapt your code to use either `displot` (a figure-level function with similar flexibility) or `histplot` (an axes-level function for histograms).\n",
            "  warnings.warn(msg, FutureWarning)\n"
          ],
          "name": "stderr"
        },
        {
          "output_type": "execute_result",
          "data": {
            "text/plain": [
              "<matplotlib.axes._subplots.AxesSubplot at 0x7fe10b74b9b0>"
            ]
          },
          "metadata": {
            "tags": []
          },
          "execution_count": 22
        },
        {
          "output_type": "display_data",
          "data": {
            "image/png": "[encoded data removed]",
            "text/plain": [
              "<Figure size 1008x720 with 2 Axes>"
            ]
          },
          "metadata": {
            "tags": [],
            "needs_background": "light"
          }
        }
      ]
    },
    {
      "cell_type": "markdown",
      "metadata": {
        "id": "LtOsAON2TcX1"
      },
      "source": [
        "It ts clear that many outliers are present here. They are to be dealt with by using 1.5 x Interquartile Range Rule and Z Score measurements."
      ]
    },
    {
      "cell_type": "code",
      "metadata": {
        "id": "ooyV_7EKPgLV",
        "colab": {
          "base_uri": "https://localhost:8080/"
        },
        "outputId": "e7794f8e-c9e7-4cd4-ab00-65e33115d67f"
      },
      "source": [
        "# absolute value of z-score for every mileage\n",
        "mileage_std = np.std(vehicles_dataset['Mileage'])\n",
        "print(\"Threshold is to be\", 3*mileage_std)\n",
        "z_score = np.abs(scipy.stats.zscore(vehicles_dataset['Mileage']))\n",
        "z_score"
      ],
      "execution_count": 23,
      "outputs": [
        {
          "output_type": "stream",
          "text": [
            "Threshold is to be 140013.34221515374\n"
          ],
          "name": "stdout"
        },
        {
          "output_type": "execute_result",
          "data": {
            "text/plain": [
              "array([0.49325376, 1.48550767, 1.6323651 , ..., 0.6199274 , 0.25316949,\n",
              "       1.08355464])"
            ]
          },
          "metadata": {
            "tags": []
          },
          "execution_count": 23
        }
      ]
    },
    {
      "cell_type": "code",
      "metadata": {
        "id": "WqhVbxZcxmNa"
      },
      "source": [
        "# Quartiles and IQR definition\n",
        "mileage_iqr = scipy.stats.iqr(vehicles_dataset['Mileage'])\n",
        "\n",
        "# mileage_iqr = vehicles_dataset['Mileage'].apply(scipy.stats.iqr)\n",
        "mileage_quartile1 = np.percentile(vehicles_dataset['Mileage'], 25)\n",
        "mileage_quartile3 = np.percentile(vehicles_dataset['Mileage'], 75)"
      ],
      "execution_count": 24,
      "outputs": []
    },
    {
      "cell_type": "markdown",
      "metadata": {
        "id": "VOgdsnlmdym0"
      },
      "source": [
        "Z-Score filtering applied by comparing their value with each mileage score, keeping the rows within the +-3 standard deviation range."
      ]
    },
    {
      "cell_type": "code",
      "metadata": {
        "id": "qOAwly_1XhoK",
        "colab": {
          "base_uri": "https://localhost:8080/"
        },
        "outputId": "73e5bf2d-3b6d-4872-a3a2-d539fed9665b"
      },
      "source": [
        "# z-score filtered dataframe\n",
        "z_score_outliers_n = vehicles_dataset.shape[0] - len(vehicles_dataset[z_score <= 3]['Mileage'])\n",
        "vehicles_dataset = vehicles_dataset[z_score <= 3]\n",
        "print(\"New number of rows:\", vehicles_dataset.shape[0])\n",
        "vehicles_dataset['Mileage'].value_counts()"
      ],
      "execution_count": 25,
      "outputs": [
        {
          "output_type": "stream",
          "text": [
            "New number of rows: 15705\n"
          ],
          "name": "stdout"
        },
        {
          "output_type": "execute_result",
          "data": {
            "text/plain": [
              "29842     20\n",
              "148040    19\n",
              "152997    18\n",
              "51821     16\n",
              "94500     15\n",
              "          ..\n",
              "32444      1\n",
              "120497     1\n",
              "114348     1\n",
              "51822      1\n",
              "38909      1\n",
              "Name: Mileage, Length: 6173, dtype: int64"
            ]
          },
          "metadata": {
            "tags": []
          },
          "execution_count": 25
        }
      ]
    },
    {
      "cell_type": "code",
      "metadata": {
        "id": "b84j68NGaY8U",
        "colab": {
          "base_uri": "https://localhost:8080/"
        },
        "outputId": "887b7fa7-5450-4ebc-854b-ebbd03bb4c88"
      },
      "source": [
        "print(\"So,\", z_score_outliers_n, \n",
        "      \"fields have been declared as outliers, thereby left away.\")\n",
        "max_mileage = vehicles_dataset['Mileage'].max()"
      ],
      "execution_count": 26,
      "outputs": [
        {
          "output_type": "stream",
          "text": [
            "So, 193 fields have been declared as outliers, thereby left away.\n"
          ],
          "name": "stdout"
        }
      ]
    },
    {
      "cell_type": "markdown",
      "metadata": {
        "id": "BRUNBcLztmta"
      },
      "source": [
        "Interquartile Range usage for restricting the array values spread."
      ]
    },
    {
      "cell_type": "code",
      "metadata": {
        "id": "d_0lahRUcGZF",
        "colab": {
          "base_uri": "https://localhost:8080/"
        },
        "outputId": "c5ae051c-e54e-40a9-98bd-e22b2bf50f9c"
      },
      "source": [
        "# Dataset taking away outliers according to 1.5 times the interquartile range.\n",
        "IQRx1p5_df = vehicles_dataset[(vehicles_dataset['Mileage'] > mileage_quartile1 - 1.5 * mileage_iqr) & (\n",
        "      vehicles_dataset['Mileage'] < mileage_quartile3 + 1.5 * mileage_iqr)]\n",
        "IQRx1p5_rows_n = len(vehicles_dataset['Mileage']) - len(IQRx1p5_df['Mileage'])\n",
        "print('Current number of rows', len(vehicles_dataset['Mileage']), \n",
        "      \"- number if all rows eliminated for 1.5x IQR\", len(IQRx1p5_df['Mileage']),\n",
        "      \"=\", IQRx1p5_rows_n)"
      ],
      "execution_count": 27,
      "outputs": [
        {
          "output_type": "stream",
          "text": [
            "Current number of rows 15705 - number if all rows eliminated for 1.5x IQR 15454 = 251\n"
          ],
          "name": "stdout"
        }
      ]
    },
    {
      "cell_type": "markdown",
      "metadata": {
        "id": "X--tcCRAtqmO"
      },
      "source": [
        "Due to limiting the values range whisker to 1.5 IQR takes away over 200 more rows (nearly 500 from original dataset, which is a lot to this standard), some of those values will be kept, by representing the median value. "
      ]
    },
    {
      "cell_type": "code",
      "metadata": {
        "id": "xpUhz8hEv5WP",
        "colab": {
          "base_uri": "https://localhost:8080/",
          "height": 294
        },
        "outputId": "329211cf-d9e2-48b4-99cf-bc6118ac3e35"
      },
      "source": [
        "fig, (box1, box2) = plt.subplots(ncols=2, sharey=True)\n",
        "fig.suptitle('Mileage data boxplots')\n",
        "sns.boxplot(orient='v', data=vehicles_dataset['Mileage'], ax=box1, whis=1.5)\n",
        "box1.set_title('With whisker = 1.5 (current)')\n",
        "sns.boxplot(orient='v', data=vehicles_dataset['Mileage'], ax=box2, whis=1.75)\n",
        "box2.set_title('With whisker = 1.75 (to use)')\n",
        "plt.show()"
      ],
      "execution_count": 28,
      "outputs": [
        {
          "output_type": "display_data",
          "data": {
            "image/png": "[encoded data removed]",
            "text/plain": [
              "<Figure size 432x288 with 2 Axes>"
            ]
          },
          "metadata": {
            "tags": [],
            "needs_background": "light"
          }
        }
      ]
    },
    {
      "cell_type": "code",
      "metadata": {
        "id": "zObGCCqqv56W",
        "colab": {
          "base_uri": "https://localhost:8080/"
        },
        "outputId": "e05de7e6-d3f8-4d91-cc6c-8ba7e2a6c5bf"
      },
      "source": [
        "# Dataset taking away outliers according to 1.75 times the interquartile range\n",
        "IQRx1p75_df = vehicles_dataset[(vehicles_dataset['Mileage'] > mileage_quartile1 - 1.75 * mileage_iqr) & (\n",
        "      vehicles_dataset['Mileage'] < mileage_quartile3 + 1.75 * mileage_iqr)]\n",
        "IQRx1p75_rows_n = len(vehicles_dataset['Mileage']) - len(IQRx1p75_df['Mileage'])\n",
        "print(\"Current number of rows \", len(vehicles_dataset['Mileage']), \n",
        "      \" - number if all rows eliminated for 1.75x IQR \", len(IQRx1p75_df['Mileage']),\n",
        "      \" = \", IQRx1p75_rows_n, \".\", sep=\"\")\n",
        "print(\"And the rest (will be changed instead of eliminated): \", IQRx1p5_rows_n - IQRx1p75_rows_n, \".\", sep=\"\")"
      ],
      "execution_count": 29,
      "outputs": [
        {
          "output_type": "stream",
          "text": [
            "Current number of rows 15705 - number if all rows eliminated for 1.75x IQR 15635 = 70.\n",
            "And the rest (will be changed instead of eliminated): 181.\n"
          ],
          "name": "stdout"
        }
      ]
    },
    {
      "cell_type": "markdown",
      "metadata": {
        "id": "RqF_O2NV-CdE"
      },
      "source": [
        "Now, these 70 rows will be dropped and the rest of outliers (181) are to storage the mileage median value."
      ]
    },
    {
      "cell_type": "code",
      "metadata": {
        "id": "8znKPQPXv6IJ"
      },
      "source": [
        "vehicles_dataset = IQRx1p75_df\n",
        "\n",
        "# Given that there are no low outliers, we can determine what outliers value to replace by comparing with the new max mileage value\n",
        "vehicles_dataset['Mileage'].where(vehicles_dataset['Mileage'] <= IQRx1p5_df['Mileage'].max(), other=mileage_median, inplace=True)"
      ],
      "execution_count": 30,
      "outputs": []
    },
    {
      "cell_type": "code",
      "metadata": {
        "id": "CcRXH9BNANtV",
        "colab": {
          "base_uri": "https://localhost:8080/"
        },
        "outputId": "0e6fe02f-72a4-4941-d618-6c75a29aa2ad"
      },
      "source": [
        "display_next_feature()"
      ],
      "execution_count": 31,
      "outputs": [
        {
          "output_type": "stream",
          "text": [
            "MPG \n",
            " (15635, 18)\n"
          ],
          "name": "stdout"
        }
      ]
    },
    {
      "cell_type": "markdown",
      "metadata": {
        "id": "jV9BKs5tjo0Q"
      },
      "source": [
        "### MPG"
      ]
    },
    {
      "cell_type": "markdown",
      "metadata": {
        "id": "XcmrVXN40BBH"
      },
      "source": [
        "Following into the variables list with the least null values, 'MPG' comes up."
      ]
    },
    {
      "cell_type": "code",
      "metadata": {
        "scrolled": true,
        "id": "gn9wXFkz0BBI",
        "colab": {
          "base_uri": "https://localhost:8080/"
        },
        "outputId": "d1b67cd9-f745-48c6-e31c-e3cb49e9d1a7"
      },
      "source": [
        "print(vehicles_dataset['MPG'].value_counts())\n",
        "vehicles_dataset['MPG'].isnull().sum()"
      ],
      "execution_count": 32,
      "outputs": [
        {
          "output_type": "stream",
          "text": [
            "17 cty / 25 hwy      597\n",
            "29 cty / 37 hwy      590\n",
            "N/A cty / N/A hwy    508\n",
            "28 cty / 39 hwy      381\n",
            "26 cty / 33 hwy      364\n",
            "                    ... \n",
            "11 cty / N/A hwy       1\n",
            "18 cty / 30 hwy        1\n",
            "129 cty / 102 hwy      1\n",
            "44 cty / 41 hwy        1\n",
            "25 cty / 26 hwy        1\n",
            "Name: MPG, Length: 269, dtype: int64\n"
          ],
          "name": "stdout"
        },
        {
          "output_type": "execute_result",
          "data": {
            "text/plain": [
              "18"
            ]
          },
          "metadata": {
            "tags": []
          },
          "execution_count": 32
        }
      ]
    },
    {
      "cell_type": "markdown",
      "metadata": {
        "id": "CC7BuLd70BBN"
      },
      "source": [
        "This column has only 18 null values, however, they are also represented as True in 'N/A cty / N/A hwy', as seen down below.\n",
        "Since there are around 500 of these values, they will be categorized as well."
      ]
    },
    {
      "cell_type": "code",
      "metadata": {
        "id": "MpETy51I0BBO",
        "colab": {
          "base_uri": "https://localhost:8080/"
        },
        "outputId": "b5038fa6-1c51-4332-f816-abf9507896fe"
      },
      "source": [
        "sorted(list(vehicles_dataset.dropna(subset=['MPG'])['MPG'].unique()))"
      ],
      "execution_count": 33,
      "outputs": [
        {
          "output_type": "execute_result",
          "data": {
            "text/plain": [
              "['10 cty / 16 hwy',\n",
              " '10 cty / 17 hwy',\n",
              " '101 cty / 93 hwy',\n",
              " '102 cty / 105 hwy',\n",
              " '104 cty / 91 hwy',\n",
              " '106 cty / 92 hwy',\n",
              " '11 cty / 15 hwy',\n",
              " '11 cty / 16 hwy',\n",
              " '11 cty / 17 hwy',\n",
              " '11 cty / 18 hwy',\n",
              " '11 cty / N/A hwy',\n",
              " '12 cty / 14 hwy',\n",
              " '12 cty / 16 hwy',\n",
              " '12 cty / 17 hwy',\n",
              " '12 cty / 18 hwy',\n",
              " '12 cty / 19 hwy',\n",
              " '120 cty / 112 hwy',\n",
              " '121 cty / 103 hwy',\n",
              " '122 cty / 108 hwy',\n",
              " '122 cty / 93 hwy',\n",
              " '124 cty / 94 hwy',\n",
              " '126 cty / 101 hwy',\n",
              " '126 cty / 105 hwy',\n",
              " '126 cty / 99 hwy',\n",
              " '129 cty / 102 hwy',\n",
              " '13 cty / 16 hwy',\n",
              " '13 cty / 17 hwy',\n",
              " '13 cty / 18 hwy',\n",
              " '13 cty / 19 hwy',\n",
              " '13 cty / 20 hwy',\n",
              " '13 cty / 21 hwy',\n",
              " '13 cty / 22 hwy',\n",
              " '137 cty / 111 hwy',\n",
              " '14 cty / 17 hwy',\n",
              " '14 cty / 18 hwy',\n",
              " '14 cty / 19 hwy',\n",
              " '14 cty / 20 hwy',\n",
              " '14 cty / 21 hwy',\n",
              " '14 cty / 22 hwy',\n",
              " '14 cty / 23 hwy',\n",
              " '14 cty / 24 hwy',\n",
              " '15 cty / 17 hwy',\n",
              " '15 cty / 18 hwy',\n",
              " '15 cty / 19 hwy',\n",
              " '15 cty / 20 hwy',\n",
              " '15 cty / 21 hwy',\n",
              " '15 cty / 22 hwy',\n",
              " '15 cty / 23 hwy',\n",
              " '15 cty / 24 hwy',\n",
              " '15 cty / 25 hwy',\n",
              " '15 cty / 27 hwy',\n",
              " '150 cty / 122 hwy',\n",
              " '16 cty / 18 hwy',\n",
              " '16 cty / 19 hwy',\n",
              " '16 cty / 20 hwy',\n",
              " '16 cty / 21 hwy',\n",
              " '16 cty / 22 hwy',\n",
              " '16 cty / 23 hwy',\n",
              " '16 cty / 24 hwy',\n",
              " '16 cty / 25 hwy',\n",
              " '16 cty / 26 hwy',\n",
              " '17 cty / 20 hwy',\n",
              " '17 cty / 21 hwy',\n",
              " '17 cty / 22 hwy',\n",
              " '17 cty / 23 hwy',\n",
              " '17 cty / 24 hwy',\n",
              " '17 cty / 25 hwy',\n",
              " '17 cty / 26 hwy',\n",
              " '17 cty / 27 hwy',\n",
              " '17 cty / 28 hwy',\n",
              " '17 cty / 29 hwy',\n",
              " '18 cty / 22 hwy',\n",
              " '18 cty / 23 hwy',\n",
              " '18 cty / 24 hwy',\n",
              " '18 cty / 25 hwy',\n",
              " '18 cty / 26 hwy',\n",
              " '18 cty / 27 hwy',\n",
              " '18 cty / 28 hwy',\n",
              " '18 cty / 29 hwy',\n",
              " '18 cty / 30 hwy',\n",
              " '19 cty / 22 hwy',\n",
              " '19 cty / 23 hwy',\n",
              " '19 cty / 24 hwy',\n",
              " '19 cty / 25 hwy',\n",
              " '19 cty / 26 hwy',\n",
              " '19 cty / 27 hwy',\n",
              " '19 cty / 28 hwy',\n",
              " '19 cty / 29 hwy',\n",
              " '19 cty / 30 hwy',\n",
              " '19 cty / 31 hwy',\n",
              " '20 cty / 23 hwy',\n",
              " '20 cty / 24 hwy',\n",
              " '20 cty / 25 hwy',\n",
              " '20 cty / 26 hwy',\n",
              " '20 cty / 27 hwy',\n",
              " '20 cty / 28 hwy',\n",
              " '20 cty / 29 hwy',\n",
              " '20 cty / 30 hwy',\n",
              " '20 cty / 31 hwy',\n",
              " '20 cty / 32 hwy',\n",
              " '20 cty / 34 hwy',\n",
              " '21 cty / 22 hwy',\n",
              " '21 cty / 24 hwy',\n",
              " '21 cty / 25 hwy',\n",
              " '21 cty / 26 hwy',\n",
              " '21 cty / 27 hwy',\n",
              " '21 cty / 28 hwy',\n",
              " '21 cty / 29 hwy',\n",
              " '21 cty / 30 hwy',\n",
              " '21 cty / 31 hwy',\n",
              " '21 cty / 32 hwy',\n",
              " '21 cty / 33 hwy',\n",
              " '21 cty / 34 hwy',\n",
              " '22 cty / 25 hwy',\n",
              " '22 cty / 26 hwy',\n",
              " '22 cty / 27 hwy',\n",
              " '22 cty / 28 hwy',\n",
              " '22 cty / 29 hwy',\n",
              " '22 cty / 30 hwy',\n",
              " '22 cty / 31 hwy',\n",
              " '22 cty / 32 hwy',\n",
              " '22 cty / 33 hwy',\n",
              " '22 cty / 34 hwy',\n",
              " '22 cty / 35 hwy',\n",
              " '23 cty / 27 hwy',\n",
              " '23 cty / 28 hwy',\n",
              " '23 cty / 29 hwy',\n",
              " '23 cty / 30 hwy',\n",
              " '23 cty / 31 hwy',\n",
              " '23 cty / 32 hwy',\n",
              " '23 cty / 33 hwy',\n",
              " '23 cty / 34 hwy',\n",
              " '23 cty / 35 hwy',\n",
              " '23 cty / 36 hwy',\n",
              " '24 cty / 25 hwy',\n",
              " '24 cty / 26 hwy',\n",
              " '24 cty / 27 hwy',\n",
              " '24 cty / 28 hwy',\n",
              " '24 cty / 29 hwy',\n",
              " '24 cty / 30 hwy',\n",
              " '24 cty / 31 hwy',\n",
              " '24 cty / 32 hwy',\n",
              " '24 cty / 33 hwy',\n",
              " '24 cty / 34 hwy',\n",
              " '24 cty / 35 hwy',\n",
              " '24 cty / 36 hwy',\n",
              " '24 cty / 37 hwy',\n",
              " '25 cty / 26 hwy',\n",
              " '25 cty / 28 hwy',\n",
              " '25 cty / 29 hwy',\n",
              " '25 cty / 30 hwy',\n",
              " '25 cty / 31 hwy',\n",
              " '25 cty / 32 hwy',\n",
              " '25 cty / 33 hwy',\n",
              " '25 cty / 34 hwy',\n",
              " '25 cty / 35 hwy',\n",
              " '25 cty / 36 hwy',\n",
              " '25 cty / 37 hwy',\n",
              " '25 cty / 38 hwy',\n",
              " '26 cty / 24 hwy',\n",
              " '26 cty / 29 hwy',\n",
              " '26 cty / 30 hwy',\n",
              " '26 cty / 31 hwy',\n",
              " '26 cty / 32 hwy',\n",
              " '26 cty / 33 hwy',\n",
              " '26 cty / 34 hwy',\n",
              " '26 cty / 35 hwy',\n",
              " '26 cty / 36 hwy',\n",
              " '26 cty / 37 hwy',\n",
              " '26 cty / 38 hwy',\n",
              " '26 cty / 39 hwy',\n",
              " '27 cty / 28 hwy',\n",
              " '27 cty / 29 hwy',\n",
              " '27 cty / 31 hwy',\n",
              " '27 cty / 32 hwy',\n",
              " '27 cty / 33 hwy',\n",
              " '27 cty / 34 hwy',\n",
              " '27 cty / 35 hwy',\n",
              " '27 cty / 36 hwy',\n",
              " '27 cty / 37 hwy',\n",
              " '27 cty / 38 hwy',\n",
              " '27 cty / 39 hwy',\n",
              " '28 cty / 30 hwy',\n",
              " '28 cty / 32 hwy',\n",
              " '28 cty / 33 hwy',\n",
              " '28 cty / 34 hwy',\n",
              " '28 cty / 35 hwy',\n",
              " '28 cty / 36 hwy',\n",
              " '28 cty / 37 hwy',\n",
              " '28 cty / 38 hwy',\n",
              " '28 cty / 39 hwy',\n",
              " '28 cty / 40 hwy',\n",
              " '28 cty / 42 hwy',\n",
              " '29 cty / 27 hwy',\n",
              " '29 cty / 35 hwy',\n",
              " '29 cty / 36 hwy',\n",
              " '29 cty / 37 hwy',\n",
              " '29 cty / 38 hwy',\n",
              " '29 cty / 39 hwy',\n",
              " '29 cty / 40 hwy',\n",
              " '29 cty / 41 hwy',\n",
              " '30 cty / 28 hwy',\n",
              " '30 cty / 36 hwy',\n",
              " '30 cty / 38 hwy',\n",
              " '30 cty / 39 hwy',\n",
              " '30 cty / 40 hwy',\n",
              " '30 cty / 41 hwy',\n",
              " '30 cty / 42 hwy',\n",
              " '31 cty / 27 hwy',\n",
              " '31 cty / 28 hwy',\n",
              " '31 cty / 34 hwy',\n",
              " '31 cty / 36 hwy',\n",
              " '31 cty / 39 hwy',\n",
              " '31 cty / 40 hwy',\n",
              " '31 cty / 41 hwy',\n",
              " '31 cty / 42 hwy',\n",
              " '31 cty / 43 hwy',\n",
              " '31 cty / 45 hwy',\n",
              " '31 cty / 47 hwy',\n",
              " '32 cty / 37 hwy',\n",
              " '32 cty / 38 hwy',\n",
              " '32 cty / 39 hwy',\n",
              " '32 cty / 40 hwy',\n",
              " '32 cty / 41 hwy',\n",
              " '32 cty / 42 hwy',\n",
              " '33 cty / 33 hwy',\n",
              " '33 cty / 40 hwy',\n",
              " '33 cty / 41 hwy',\n",
              " '34 cty / 30 hwy',\n",
              " '34 cty / 39 hwy',\n",
              " '35 cty / 34 hwy',\n",
              " '35 cty / 42 hwy',\n",
              " '36 cty / 40 hwy',\n",
              " '37 cty / 43 hwy',\n",
              " '37 cty / 44 hwy',\n",
              " '40 cty / 37 hwy',\n",
              " '40 cty / 38 hwy',\n",
              " '40 cty / 39 hwy',\n",
              " '41 cty / 36 hwy',\n",
              " '41 cty / 38 hwy',\n",
              " '41 cty / 39 hwy',\n",
              " '41 cty / 44 hwy',\n",
              " '42 cty / 36 hwy',\n",
              " '42 cty / 38 hwy',\n",
              " '43 cty / 39 hwy',\n",
              " '43 cty / 40 hwy',\n",
              " '43 cty / 41 hwy',\n",
              " '43 cty / 44 hwy',\n",
              " '44 cty / 40 hwy',\n",
              " '44 cty / 41 hwy',\n",
              " '44 cty / 44 hwy',\n",
              " '44 cty / 47 hwy',\n",
              " '48 cty / 45 hwy',\n",
              " '49 cty / 43 hwy',\n",
              " '49 cty / 47 hwy',\n",
              " '51 cty / 46 hwy',\n",
              " '51 cty / 48 hwy',\n",
              " '51 cty / 49 hwy',\n",
              " '51 cty / 53 hwy',\n",
              " '54 cty / 50 hwy',\n",
              " '55 cty / 54 hwy',\n",
              " '58 cty / 53 hwy',\n",
              " '60 cty / 51 hwy',\n",
              " '85 cty / 82 hwy',\n",
              " '86 cty / 94 hwy',\n",
              " '94 cty / 97 hwy',\n",
              " '95 cty / 81 hwy',\n",
              " '95 cty / 90 hwy',\n",
              " 'N/A cty / N/A hwy']"
            ]
          },
          "metadata": {
            "tags": []
          },
          "execution_count": 33
        }
      ]
    },
    {
      "cell_type": "code",
      "metadata": {
        "id": "StJqHifA0BBb",
        "colab": {
          "base_uri": "https://localhost:8080/"
        },
        "outputId": "5220bb4b-754b-477e-9a99-76fb8ebfbf63"
      },
      "source": [
        "def MPG_categorize(MPG):\n",
        "    if MPG in ['N/A cty / N/A hwy', np.NaN]:\n",
        "        return 'Another'\n",
        "    else:\n",
        "        cty = int(re.findall('[0-9]+ c', str(MPG))[0][:-2])\n",
        "        hwy = re.findall('/ [0-9]+', str(MPG))\n",
        "        if hwy == []:\n",
        "            return 'Another'\n",
        "        elif cty >= 60:\n",
        "            return 'up from 60 cty / up from 50 hwy'\n",
        "        else:\n",
        "            hwy = int(hwy[0][2:])\n",
        "            return str(cty)[0] + \"0-\" + str(cty)[0] + \"9 cty / \" + str(hwy)[0] + \"0-\" + str(hwy)[0] + \"9 hwy\"\n",
        "\n",
        "vehicles_dataset['MPG'] = vehicles_dataset['MPG'].apply(MPG_categorize)\n",
        "vehicles_dataset['MPG'].value_counts()"
      ],
      "execution_count": 34,
      "outputs": [
        {
          "output_type": "execute_result",
          "data": {
            "text/plain": [
              "20-29 cty / 30-39 hwy              6961\n",
              "10-19 cty / 20-29 hwy              4112\n",
              "20-29 cty / 20-29 hwy              1861\n",
              "30-39 cty / 40-49 hwy               635\n",
              "Another                             527\n",
              "30-39 cty / 30-39 hwy               476\n",
              "10-19 cty / 10-19 hwy               383\n",
              "40-49 cty / 40-49 hwy               301\n",
              "10-19 cty / 30-39 hwy               104\n",
              "up from 60 cty / up from 50 hwy      94\n",
              "20-29 cty / 40-49 hwy                81\n",
              "40-49 cty / 30-39 hwy                45\n",
              "50-59 cty / 40-49 hwy                40\n",
              "50-59 cty / 50-59 hwy                 9\n",
              "30-39 cty / 20-29 hwy                 6\n",
              "Name: MPG, dtype: int64"
            ]
          },
          "metadata": {
            "tags": []
          },
          "execution_count": 34
        }
      ]
    },
    {
      "cell_type": "markdown",
      "metadata": {
        "id": "y8RpgKTN0BBj"
      },
      "source": [
        "30, 40 and 50 cty categories are being gathered so outliers disappear."
      ]
    },
    {
      "cell_type": "code",
      "metadata": {
        "id": "X0RPxHkT0BBk",
        "colab": {
          "base_uri": "https://localhost:8080/"
        },
        "outputId": "bce39638-5767-4467-e903-2b4f1ec325e5"
      },
      "source": [
        "def MPG_categorize2(MPG):\n",
        "    if MPG in ['30-39 cty / 20-29 hwy', '30-39 cty / 30-39 hwy']:\n",
        "        return '30-39 cty / 20-39 hwy'\n",
        "    elif MPG in ['50-59 cty / 40-49 hwy', '50-59 cty / 50-59 hwy']:\n",
        "        return '50-59 cty / 40-59 hwy'\n",
        "    elif MPG in ['40-49 cty / 30-39 hwy', '40-49 cty / 40-49 hwy']:\n",
        "        return '40-49 cty / 30-49 hwy'\n",
        "    else:\n",
        "        return MPG\n",
        "    \n",
        "\n",
        "vehicles_dataset['MPG'] = vehicles_dataset['MPG'].apply(MPG_categorize2)\n",
        "vehicles_dataset['MPG'].value_counts()"
      ],
      "execution_count": 35,
      "outputs": [
        {
          "output_type": "execute_result",
          "data": {
            "text/plain": [
              "20-29 cty / 30-39 hwy              6961\n",
              "10-19 cty / 20-29 hwy              4112\n",
              "20-29 cty / 20-29 hwy              1861\n",
              "30-39 cty / 40-49 hwy               635\n",
              "Another                             527\n",
              "30-39 cty / 20-39 hwy               482\n",
              "10-19 cty / 10-19 hwy               383\n",
              "40-49 cty / 30-49 hwy               346\n",
              "10-19 cty / 30-39 hwy               104\n",
              "up from 60 cty / up from 50 hwy      94\n",
              "20-29 cty / 40-49 hwy                81\n",
              "50-59 cty / 40-59 hwy                49\n",
              "Name: MPG, dtype: int64"
            ]
          },
          "metadata": {
            "tags": []
          },
          "execution_count": 35
        }
      ]
    },
    {
      "cell_type": "code",
      "metadata": {
        "id": "tFs-SCL8JxjD",
        "colab": {
          "base_uri": "https://localhost:8080/"
        },
        "outputId": "fd98ce02-97ca-4ec0-af6c-81c3ad8712e7"
      },
      "source": [
        "display_next_feature()"
      ],
      "execution_count": 36,
      "outputs": [
        {
          "output_type": "stream",
          "text": [
            "Transmission \n",
            " (15635, 18)\n"
          ],
          "name": "stdout"
        }
      ]
    },
    {
      "cell_type": "markdown",
      "metadata": {
        "id": "GaSWTCAcjvX2"
      },
      "source": [
        "### Transmission"
      ]
    },
    {
      "cell_type": "markdown",
      "metadata": {
        "id": "rx4zvWwU0BBp"
      },
      "source": [
        "'Transmission' feature presents only two true values, as logically thought. We will just get rid of null values then."
      ]
    },
    {
      "cell_type": "code",
      "metadata": {
        "id": "HgxO6NHL0BBp",
        "colab": {
          "base_uri": "https://localhost:8080/"
        },
        "outputId": "112a87ce-bfec-4b80-981b-e9578e25339b"
      },
      "source": [
        "print(vehicles_dataset['Transmission'].isnull().sum())\n",
        "vehicles_dataset['Transmission'].value_counts()"
      ],
      "execution_count": 37,
      "outputs": [
        {
          "output_type": "stream",
          "text": [
            "13\n"
          ],
          "name": "stdout"
        },
        {
          "output_type": "execute_result",
          "data": {
            "text/plain": [
              "Automatic    15153\n",
              "Manual         469\n",
              "Name: Transmission, dtype: int64"
            ]
          },
          "metadata": {
            "tags": []
          },
          "execution_count": 37
        }
      ]
    },
    {
      "cell_type": "code",
      "metadata": {
        "id": "mgoojjXf0BBt"
      },
      "source": [
        "vehicles_dataset.dropna(subset=['Transmission'], inplace=True)"
      ],
      "execution_count": 38,
      "outputs": []
    },
    {
      "cell_type": "code",
      "metadata": {
        "id": "0UjnW2feJetP",
        "colab": {
          "base_uri": "https://localhost:8080/"
        },
        "outputId": "dd797808-f622-42c9-d9f4-e9419b8e9c57"
      },
      "source": [
        "display_next_feature()"
      ],
      "execution_count": 39,
      "outputs": [
        {
          "output_type": "stream",
          "text": [
            "Location (City) \n",
            " (15622, 18)\n"
          ],
          "name": "stdout"
        }
      ]
    },
    {
      "cell_type": "markdown",
      "metadata": {
        "id": "d63X30Gf0BB4"
      },
      "source": [
        "The places where the vehicles are located are defined by city and state as two variables -'Location (City)' and Location (State)'-."
      ]
    },
    {
      "cell_type": "markdown",
      "metadata": {
        "id": "XKcNlgID0BCG"
      },
      "source": [
        "These variables describing vehicle location will be analyzed later on."
      ]
    },
    {
      "cell_type": "code",
      "metadata": {
        "id": "VSkh07ZG0BCR",
        "colab": {
          "base_uri": "https://localhost:8080/"
        },
        "outputId": "e700fa0d-e916-47e8-ed43-271675e24506"
      },
      "source": [
        "display_next_feature(2)"
      ],
      "execution_count": 40,
      "outputs": [
        {
          "output_type": "stream",
          "text": [
            "Condition (Accidents) \n",
            " (15622, 18)\n"
          ],
          "name": "stdout"
        }
      ]
    },
    {
      "cell_type": "markdown",
      "metadata": {
        "id": "LU7Fm-Z3j3mn"
      },
      "source": [
        "### Condition (Accidents)"
      ]
    },
    {
      "cell_type": "markdown",
      "metadata": {
        "id": "OhFxGyImKObb"
      },
      "source": [
        "'Condition (Accidents)' is the next characteristic to check out."
      ]
    },
    {
      "cell_type": "code",
      "metadata": {
        "id": "d1zEI6qLKFgk",
        "colab": {
          "base_uri": "https://localhost:8080/"
        },
        "outputId": "bd044587-927e-4e00-f822-887de7bc9e7d"
      },
      "source": [
        "print(vehicles_dataset['Condition (Accidents)'].value_counts())\n",
        "vehicles_dataset['Condition (Accidents)'].isnull().sum()"
      ],
      "execution_count": 41,
      "outputs": [
        {
          "output_type": "stream",
          "text": [
            "0 reported accidents    12916\n",
            "1 reported accidents     2186\n",
            "2 reported accidents      324\n",
            "3 reported accidents       37\n",
            "4 reported accidents       11\n",
            "Name: Condition (Accidents), dtype: int64\n"
          ],
          "name": "stdout"
        },
        {
          "output_type": "execute_result",
          "data": {
            "text/plain": [
              "148"
            ]
          },
          "metadata": {
            "tags": []
          },
          "execution_count": 41
        }
      ]
    },
    {
      "cell_type": "markdown",
      "metadata": {
        "id": "Mq7g8gxFKmoK"
      },
      "source": [
        "There are 148 null values, and they will be replaced by another category ('Unknown), along the value '4 reported accidents', as it has very few instances."
      ]
    },
    {
      "cell_type": "code",
      "metadata": {
        "id": "QV4vlWa9Klpe",
        "colab": {
          "base_uri": "https://localhost:8080/"
        },
        "outputId": "732eff70-5402-4476-c5be-a4458ca0f80b"
      },
      "source": [
        "vehicles_dataset['Condition (Accidents)'] = vehicles_dataset['Condition (Accidents)'].apply(\n",
        "    lambda cond: (cond, 'Unknown')[cond in ['4 reported accidents', np.NaN]])\n",
        "vehicles_dataset['Condition (Accidents)'].value_counts()"
      ],
      "execution_count": 42,
      "outputs": [
        {
          "output_type": "execute_result",
          "data": {
            "text/plain": [
              "0 reported accidents    12916\n",
              "1 reported accidents     2186\n",
              "2 reported accidents      324\n",
              "Unknown                   159\n",
              "3 reported accidents       37\n",
              "Name: Condition (Accidents), dtype: int64"
            ]
          },
          "metadata": {
            "tags": []
          },
          "execution_count": 42
        }
      ]
    },
    {
      "cell_type": "code",
      "metadata": {
        "id": "ltNhu0HfLtK_",
        "colab": {
          "base_uri": "https://localhost:8080/"
        },
        "outputId": "d641a437-57d3-491b-ec7a-5ef8607e76ef"
      },
      "source": [
        "display_next_feature()"
      ],
      "execution_count": 43,
      "outputs": [
        {
          "output_type": "stream",
          "text": [
            "Year \n",
            " (15622, 18)\n"
          ],
          "name": "stdout"
        }
      ]
    },
    {
      "cell_type": "markdown",
      "metadata": {
        "id": "jDDcatw2j9r9"
      },
      "source": [
        "### Year"
      ]
    },
    {
      "cell_type": "markdown",
      "metadata": {
        "id": "7mpbJlUVLwED"
      },
      "source": [
        "Intuitively, vehicles model years is represented in 'Year' column."
      ]
    },
    {
      "cell_type": "code",
      "metadata": {
        "id": "pyTc6D76MaNJ",
        "colab": {
          "base_uri": "https://localhost:8080/"
        },
        "outputId": "5492e835-ccec-4ea1-eff0-85f9925bdcd7"
      },
      "source": [
        "print(vehicles_dataset['Year'].isnull().sum())\n",
        "vehicles_dataset['Year'].value_counts()"
      ],
      "execution_count": 44,
      "outputs": [
        {
          "output_type": "stream",
          "text": [
            "6\n"
          ],
          "name": "stdout"
        },
        {
          "output_type": "execute_result",
          "data": {
            "text/plain": [
              "2019.0    4211\n",
              "2017.0    3918\n",
              "2018.0    1116\n",
              "2016.0     922\n",
              "2015.0     802\n",
              "2014.0     720\n",
              "2020.0     662\n",
              "2013.0     657\n",
              "2012.0     488\n",
              "2010.0     377\n",
              "2011.0     373\n",
              "2007.0     275\n",
              "2009.0     253\n",
              "2008.0     234\n",
              "2006.0     167\n",
              "2005.0     127\n",
              "2004.0      92\n",
              "2003.0      83\n",
              "2002.0      57\n",
              "2001.0      38\n",
              "1999.0      16\n",
              "2000.0      14\n",
              "1998.0       9\n",
              "1997.0       5\n",
              "Name: Year, dtype: int64"
            ]
          },
          "metadata": {
            "tags": []
          },
          "execution_count": 44
        }
      ]
    },
    {
      "cell_type": "code",
      "metadata": {
        "id": "NrcltFuXOOQk",
        "colab": {
          "base_uri": "https://localhost:8080/"
        },
        "outputId": "49a27654-97ce-4793-ca02-9f2916de2ade"
      },
      "source": [
        "vehicles_dataset['Year'] = vehicles_dataset['Year'].where(\n",
        "    vehicles_dataset['Year'] > 2000, other='Other')\n",
        "vehicles_dataset['Year'].fillna('Other', inplace=True)\n",
        "vehicles_dataset['Year'] = vehicles_dataset['Year'].astype('object')\n",
        "vehicles_dataset['Year'].value_counts()"
      ],
      "execution_count": 45,
      "outputs": [
        {
          "output_type": "execute_result",
          "data": {
            "text/plain": [
              "2019.0    4211\n",
              "2017.0    3918\n",
              "2018.0    1116\n",
              "2016.0     922\n",
              "2015.0     802\n",
              "2014.0     720\n",
              "2020.0     662\n",
              "2013.0     657\n",
              "2012.0     488\n",
              "2010.0     377\n",
              "2011.0     373\n",
              "2007.0     275\n",
              "2009.0     253\n",
              "2008.0     234\n",
              "2006.0     167\n",
              "2005.0     127\n",
              "2004.0      92\n",
              "2003.0      83\n",
              "2002.0      57\n",
              "Other       50\n",
              "2001.0      38\n",
              "Name: Year, dtype: int64"
            ]
          },
          "metadata": {
            "tags": []
          },
          "execution_count": 45
        }
      ]
    },
    {
      "cell_type": "code",
      "metadata": {
        "id": "6S7hl3rWdjfw",
        "colab": {
          "base_uri": "https://localhost:8080/"
        },
        "outputId": "d168ee35-a407-4195-d95a-7a1b438ad409"
      },
      "source": [
        "display_next_feature()"
      ],
      "execution_count": 46,
      "outputs": [
        {
          "output_type": "stream",
          "text": [
            "Price \n",
            " (15622, 18)\n"
          ],
          "name": "stdout"
        }
      ]
    },
    {
      "cell_type": "markdown",
      "metadata": {
        "id": "83br-LxckCZO"
      },
      "source": [
        "### Price"
      ]
    },
    {
      "cell_type": "markdown",
      "metadata": {
        "id": "2sngJgDoFAFr"
      },
      "source": [
        "Now, 'Price' feature, which is the variable to predict in the upcoming model."
      ]
    },
    {
      "cell_type": "code",
      "metadata": {
        "id": "M2VGro5GE-Vx",
        "colab": {
          "base_uri": "https://localhost:8080/"
        },
        "outputId": "f8f71fe7-79b4-4010-9556-7834caee5e45"
      },
      "source": [
        "print(vehicles_dataset['Price'].isnull().sum())\n",
        "vehicles_dataset['Price'].value_counts()"
      ],
      "execution_count": 47,
      "outputs": [
        {
          "output_type": "stream",
          "text": [
            "263\n"
          ],
          "name": "stdout"
        },
        {
          "output_type": "execute_result",
          "data": {
            "text/plain": [
              "14,995    113\n",
              "9,995     108\n",
              "10,995    104\n",
              "13,995     96\n",
              "7,995      92\n",
              "         ... \n",
              "25,974      1\n",
              "14,397      1\n",
              "24,891      1\n",
              "18,558      1\n",
              "29,338      1\n",
              "Name: Price, Length: 3146, dtype: int64"
            ]
          },
          "metadata": {
            "tags": []
          },
          "execution_count": 47
        }
      ]
    },
    {
      "cell_type": "markdown",
      "metadata": {
        "id": "9e5unJQb49Yy"
      },
      "source": [
        "Since this variable is needed to be as reliable and accurate as possible, the null values will not be rearranged so this data does not be that altered, they will be instead dropped."
      ]
    },
    {
      "cell_type": "code",
      "metadata": {
        "id": "_Qg_kuph406v"
      },
      "source": [
        "vehicles_dataset.dropna(subset=['Price'], inplace=True)"
      ],
      "execution_count": 48,
      "outputs": []
    },
    {
      "cell_type": "code",
      "metadata": {
        "id": "h3-XIc3Ox-9k",
        "colab": {
          "base_uri": "https://localhost:8080/"
        },
        "outputId": "78472aac-4bd7-4c1f-b8ea-ae78ba26ee7f"
      },
      "source": [
        "vehicles_dataset['Price'] = vehicles_dataset['Price'].apply(lambda p: float(str(p).replace(',', '')))\n",
        "scipy.stats.describe(vehicles_dataset['Price'])"
      ],
      "execution_count": 49,
      "outputs": [
        {
          "output_type": "execute_result",
          "data": {
            "text/plain": [
              "DescribeResult(nobs=15359, minmax=(1600.0, 369900.0), mean=17423.347548668535, variance=145533679.35100827, skewness=8.811278386572319, kurtosis=199.32899503544752)"
            ]
          },
          "metadata": {
            "tags": []
          },
          "execution_count": 49
        }
      ]
    },
    {
      "cell_type": "code",
      "metadata": {
        "id": "P-AcEVN9ktVD",
        "colab": {
          "base_uri": "https://localhost:8080/",
          "height": 804
        },
        "outputId": "cf33614f-4eb8-47ed-fc46-ccebb03353d5"
      },
      "source": [
        "fig, (ax_violin, ax_strip) = plt.subplots(2, sharex=True, figsize=(24, 12))\n",
        "fig.suptitle('Prices distribution', fontsize=20)\n",
        "ax_violin.set_title('Prices density', fontdict={'fontsize': 15})\n",
        "ax_strip.set_title('Prices occurrences', fontdict={'fontsize': 15})\n",
        "sns.violinplot(orient='h', data=vehicles_dataset['Price'], ax=ax_violin)\n",
        "sns.stripplot(orient='h', data=vehicles_dataset['Price'], ax=ax_strip, color='red')"
      ],
      "execution_count": 50,
      "outputs": [
        {
          "output_type": "execute_result",
          "data": {
            "text/plain": [
              "<matplotlib.axes._subplots.AxesSubplot at 0x7fe102ba2860>"
            ]
          },
          "metadata": {
            "tags": []
          },
          "execution_count": 50
        },
        {
          "output_type": "display_data",
          "data": {
            "image/png": "[encoded data removed]",
            "text/plain": [
              "<Figure size 1728x864 with 2 Axes>"
            ]
          },
          "metadata": {
            "tags": [],
            "needs_background": "light"
          }
        }
      ]
    },
    {
      "cell_type": "markdown",
      "metadata": {
        "id": "7ZFKcE8F1nws"
      },
      "source": [
        "Outliers are noticeable, they have to be worked out.\n",
        "As before, we are to apply Z-Score."
      ]
    },
    {
      "cell_type": "code",
      "metadata": {
        "id": "260fxcG-kwcJ",
        "colab": {
          "base_uri": "https://localhost:8080/"
        },
        "outputId": "8ade6a34-a314-4013-dc1e-a9049fda0d24"
      },
      "source": [
        "# absolute value of z-score for every price in column\n",
        "price_std = np.std(vehicles_dataset['Price'])\n",
        "print(\"Prices threshold to use is\", 3*price_std)\n",
        "z_score_prices = np.abs(scipy.stats.zscore(vehicles_dataset['Price']))\n",
        "z_score_prices"
      ],
      "execution_count": 51,
      "outputs": [
        {
          "output_type": "stream",
          "text": [
            "Prices threshold to use is 36190.02397024339\n"
          ],
          "name": "stdout"
        },
        {
          "output_type": "execute_result",
          "data": {
            "text/plain": [
              "array([0.78123857, 0.11873556, 0.95109201, ..., 0.61978288, 0.00220938,\n",
              "       0.17601654])"
            ]
          },
          "metadata": {
            "tags": []
          },
          "execution_count": 51
        }
      ]
    },
    {
      "cell_type": "code",
      "metadata": {
        "id": "4ZC02BeD9UUV",
        "colab": {
          "base_uri": "https://localhost:8080/"
        },
        "outputId": "d0da1bbd-04bc-4fc9-ad8a-07938ff18a83"
      },
      "source": [
        "# Quartiles and IQR definition\n",
        "price_iqr = scipy.stats.iqr(vehicles_dataset['Price'])\n",
        "price_quartile1 = np.percentile(vehicles_dataset['Price'], 25)\n",
        "price_quartile3 = np.percentile(vehicles_dataset['Price'], 75)\n",
        "\n",
        "# z-score filtered dataframe\n",
        "original_rows_number = vehicles_dataset.shape[0]\n",
        "vehicles_dataset = vehicles_dataset[z_score_prices <= 3]\n",
        "price_outliers_number = original_rows_number - vehicles_dataset.shape[0]\n",
        "print(\"Number of rows taken away:\", price_outliers_number)\n",
        "print(\"New number of rows:\", vehicles_dataset.shape[0])"
      ],
      "execution_count": 52,
      "outputs": [
        {
          "output_type": "stream",
          "text": [
            "Number of rows taken away: 128\n",
            "New number of rows: 15231\n"
          ],
          "name": "stdout"
        }
      ]
    },
    {
      "cell_type": "code",
      "metadata": {
        "id": "I0jk7AIT_OyG",
        "colab": {
          "base_uri": "https://localhost:8080/",
          "height": 459
        },
        "outputId": "0b612221-cce2-4903-ae76-83b73805487a"
      },
      "source": [
        "fig, ax = plt.subplots(figsize=(14,6))\n",
        "sns.boxplot(vehicles_dataset['Price'], whis=1.75, ax=ax)"
      ],
      "execution_count": 53,
      "outputs": [
        {
          "output_type": "stream",
          "text": [
            "/usr/local/lib/python3.6/dist-packages/seaborn/_decorators.py:43: FutureWarning: Pass the following variable as a keyword arg: x. From version 0.12, the only valid positional argument will be `data`, and passing other arguments without an explicit keyword will result in an error or misinterpretation.\n",
            "  FutureWarning\n"
          ],
          "name": "stderr"
        },
        {
          "output_type": "execute_result",
          "data": {
            "text/plain": [
              "<matplotlib.axes._subplots.AxesSubplot at 0x7fe102d6b438>"
            ]
          },
          "metadata": {
            "tags": []
          },
          "execution_count": 53
        },
        {
          "output_type": "display_data",
          "data": {
            "image/png": "[encoded data removed]",
            "text/plain": [
              "<Figure size 1008x432 with 1 Axes>"
            ]
          },
          "metadata": {
            "tags": [],
            "needs_background": "light"
          }
        }
      ]
    },
    {
      "cell_type": "markdown",
      "metadata": {
        "id": "O-Qx8CldAntg"
      },
      "source": [
        "'Prices' still presents outliers.\n",
        "The values spread will be restricted to 1.75 Interquartile Range measures, as used with 'Mileage'."
      ]
    },
    {
      "cell_type": "code",
      "metadata": {
        "id": "3qUc2d7fBQp-",
        "colab": {
          "base_uri": "https://localhost:8080/"
        },
        "outputId": "d8d39212-ef51-4414-e33f-c2283c95bd8e"
      },
      "source": [
        "# filtered dataframe taking away values off 1.75 times the interquartile range\n",
        "filtered_175_df = vehicles_dataset[(vehicles_dataset['Price'] > price_quartile1 - 1.75 * price_iqr) & (\n",
        "      vehicles_dataset['Price'] < price_quartile3 + 1.75 * price_iqr)]\n",
        "outliers_number = len(vehicles_dataset['Price']) - len(filtered_175_df['Price'])\n",
        "print(\n",
        "    \"Number of rows off of threshold:\", vehicles_dataset.shape[0], \"-\", \n",
        "    filtered_175_df.shape[0], \"=\", outliers_number)"
      ],
      "execution_count": 54,
      "outputs": [
        {
          "output_type": "stream",
          "text": [
            "Number of rows off of threshold: 15231 - 14718 = 513\n"
          ],
          "name": "stdout"
        }
      ]
    },
    {
      "cell_type": "markdown",
      "metadata": {
        "id": "l03OS-m4DNIA"
      },
      "source": [
        "Despite of modified data was not wanted, it is required to apply some procedures in some of these fields, so we do not lose this much information.\n",
        "The whisker mark will be increased to 2.00 to check on the values."
      ]
    },
    {
      "cell_type": "code",
      "metadata": {
        "id": "FoforHf-D5DQ",
        "colab": {
          "base_uri": "https://localhost:8080/"
        },
        "outputId": "572e0c4d-77d8-4e4f-83d7-79bf052a3c42"
      },
      "source": [
        "# filtered dataframe taking away values off 2 times the interquartile range\n",
        "filtered_200_df = vehicles_dataset[(vehicles_dataset['Price'] > price_quartile1 - 2 * price_iqr) & (\n",
        "      vehicles_dataset['Price'] < price_quartile3 + 2 * price_iqr)]\n",
        "print(\"Number of rows to be eliminated:\", vehicles_dataset.shape[0] - filtered_200_df.shape[0])\n",
        "print(\"Number of rows to be reassigned:\", filtered_200_df.shape[0] - filtered_175_df.shape[0])"
      ],
      "execution_count": 55,
      "outputs": [
        {
          "output_type": "stream",
          "text": [
            "Number of rows to be eliminated: 324\n",
            "Number of rows to be reassigned: 189\n"
          ],
          "name": "stdout"
        }
      ]
    },
    {
      "cell_type": "code",
      "metadata": {
        "id": "XEx1y5wSJ2mE",
        "colab": {
          "base_uri": "https://localhost:8080/",
          "height": 378
        },
        "outputId": "1c224b0a-5cc9-4d81-b71d-38aca1e8d868"
      },
      "source": [
        "vehicles_dataset = filtered_200_df\n",
        "price_mean = np.mean(vehicles_dataset['Price'])\n",
        "vehicles_dataset['Price'].where(vehicles_dataset['Price'] > price_quartile3 + 1.75 * price_iqr, other=price_mean)\n",
        "print(vehicles_dataset.shape)\n",
        "sns.distplot(vehicles_dataset['Price'])"
      ],
      "execution_count": 56,
      "outputs": [
        {
          "output_type": "stream",
          "text": [
            "(14907, 18)\n"
          ],
          "name": "stdout"
        },
        {
          "output_type": "stream",
          "text": [
            "/usr/local/lib/python3.6/dist-packages/seaborn/distributions.py:2557: FutureWarning: `distplot` is a deprecated function and will be removed in a future version. Please adapt your code to use either `displot` (a figure-level function with similar flexibility) or `histplot` (an axes-level function for histograms).\n",
            "  warnings.warn(msg, FutureWarning)\n"
          ],
          "name": "stderr"
        },
        {
          "output_type": "execute_result",
          "data": {
            "text/plain": [
              "<matplotlib.axes._subplots.AxesSubplot at 0x7fe102a92160>"
            ]
          },
          "metadata": {
            "tags": []
          },
          "execution_count": 56
        },
        {
          "output_type": "display_data",
          "data": {
            "image/png": "[encoded data removed]",
            "text/plain": [
              "<Figure size 432x288 with 1 Axes>"
            ]
          },
          "metadata": {
            "tags": [],
            "needs_background": "light"
          }
        }
      ]
    },
    {
      "cell_type": "code",
      "metadata": {
        "colab": {
          "base_uri": "https://localhost:8080/"
        },
        "id": "IV1uyhrsPAUe",
        "outputId": "70ffa074-5740-45ae-86bc-5f624bda67fb"
      },
      "source": [
        "display_next_feature()"
      ],
      "execution_count": 57,
      "outputs": [
        {
          "output_type": "stream",
          "text": [
            "Interior Color \n",
            " (14907, 18)\n"
          ],
          "name": "stdout"
        }
      ]
    },
    {
      "cell_type": "markdown",
      "metadata": {
        "id": "xLaGldAzkNpW"
      },
      "source": [
        "### Interior Color"
      ]
    },
    {
      "cell_type": "markdown",
      "metadata": {
        "id": "3oSsqklmdwDz"
      },
      "source": [
        "'Interior Color' variable is next to evaluate."
      ]
    },
    {
      "cell_type": "code",
      "metadata": {
        "id": "P3AnPI1ueCxt",
        "colab": {
          "base_uri": "https://localhost:8080/"
        },
        "outputId": "a771597e-d0da-408c-d823-4f3f9badf89c"
      },
      "source": [
        "vehicles_dataset['Interior Color'].value_counts()"
      ],
      "execution_count": 58,
      "outputs": [
        {
          "output_type": "execute_result",
          "data": {
            "text/plain": [
              "Black              4084\n",
              "Charcoal           1679\n",
              "Unknown            1298\n",
              "Gray               1224\n",
              "Jet Black           749\n",
              "                   ... \n",
              "Coral Red/Black       1\n",
              "Black / Carbon        1\n",
              "Jade/Graystone        1\n",
              "Chestnut              1\n",
              "Choccachino           1\n",
              "Name: Interior Color, Length: 295, dtype: int64"
            ]
          },
          "metadata": {
            "tags": []
          },
          "execution_count": 58
        }
      ]
    },
    {
      "cell_type": "code",
      "metadata": {
        "id": "4U2z3k6vzzaL",
        "colab": {
          "base_uri": "https://localhost:8080/"
        },
        "outputId": "ddf70dbb-0679-41b5-bef6-af2d8811fab4"
      },
      "source": [
        "print(\"'Interior Color' has\", vehicles_dataset['Interior Color'].nunique(), \"unique values\")\n",
        "print(\"and 'Exterior Color' has \", vehicles_dataset['Exterior Color'].nunique(), \".\", sep=\"\")"
      ],
      "execution_count": 59,
      "outputs": [
        {
          "output_type": "stream",
          "text": [
            "'Interior Color' has 295 unique values\n",
            "and 'Exterior Color' has 531.\n"
          ],
          "name": "stdout"
        }
      ]
    },
    {
      "cell_type": "markdown",
      "metadata": {
        "id": "hMdnyHS0x6CN"
      },
      "source": [
        "Both 'Interior Color' and 'Exterior Color' has a lot of unique values, but they can be regrouped given that these values represent almost the same color for each case, by category."
      ]
    },
    {
      "cell_type": "code",
      "metadata": {
        "id": "IcfaGUlbyaWQ",
        "colab": {
          "base_uri": "https://localhost:8080/"
        },
        "outputId": "bc33d457-6b05-4ec7-d7e9-378cf7fcbbc4"
      },
      "source": [
        "print(\"'Interior Color' has\", vehicles_dataset['Interior Color'].isnull().sum(), \"null values\")\n",
        "print(\"and 'Exterior Color' has \", vehicles_dataset['Exterior Color'].isnull().sum(), \"!\", sep=\"\")"
      ],
      "execution_count": 60,
      "outputs": [
        {
          "output_type": "stream",
          "text": [
            "'Interior Color' has 715 null values\n",
            "and 'Exterior Color' has 4874!\n"
          ],
          "name": "stdout"
        }
      ]
    },
    {
      "cell_type": "code",
      "metadata": {
        "id": "ppd6TwCVlMMr"
      },
      "source": [
        "sorted_columns = np.setdiff1d(sorted_columns, np.array(['Exterior Color']), assume_unique=True)"
      ],
      "execution_count": 61,
      "outputs": []
    },
    {
      "cell_type": "markdown",
      "metadata": {
        "id": "kkHY3isNk35m"
      },
      "source": [
        "We will create a function which re-categorizes color values (including null values, given that there are a lot of them, 763 and 5126 respectively)."
      ]
    },
    {
      "cell_type": "markdown",
      "metadata": {
        "id": "AZm_ancwjaFI"
      },
      "source": [
        "The following function will check whether the passed color names belong to the same category."
      ]
    },
    {
      "cell_type": "code",
      "metadata": {
        "id": "dj0B6nG9jMIT"
      },
      "source": [
        "def color_in(color, *argc):\n",
        "    checks = []\n",
        "    for arg in argc:\n",
        "        if arg in str(color).lower():\n",
        "            checks.append(True)\n",
        "        else:\n",
        "            checks.append(False)\n",
        "    if any(checks):\n",
        "        return True\n",
        "    else:\n",
        "        return False"
      ],
      "execution_count": 62,
      "outputs": []
    },
    {
      "cell_type": "markdown",
      "metadata": {
        "id": "pEG8FiRFjTiP"
      },
      "source": [
        "Now, this function will tell if the conditions are met so that it categorizes the original values to this set-up. "
      ]
    },
    {
      "cell_type": "code",
      "metadata": {
        "id": "7upVfsIbjT0K"
      },
      "source": [
        "def colors_categorize(ext_color):\n",
        "    if color_in(ext_color, \"black\") or \"Obsidian\" == ext_color:\n",
        "        return \"Black\"\n",
        "    elif color_in(\n",
        "        ext_color, \"white\", \"glacier\") or ext_color in [\"Fresh Powder\", \"Blizzard Pearl\", \"Starfire Pearl\"]:\n",
        "        return \"White\"\n",
        "    elif color_in(ext_color, \"green\"):\n",
        "        return \"Green\"\n",
        "    elif color_in(ext_color, \"blue\", \"aqua\"):\n",
        "        return \"Blue\"\n",
        "    elif color_in(\n",
        "        ext_color, \"silver\", \"gray\", \"magnetic\", \"pearlcoat\", \"tungsten\", \n",
        "        \"graphite\", \"gun\", \"platinum\", \"titanium\", \"billet\"):\n",
        "        return \"Silver or Grey\"\n",
        "    elif color_in(ext_color, \"red\", \"cherry\", \"ruby\", \"sun\", \"rosso\", \"scarlet\"):\n",
        "        return \"Red\"\n",
        "    elif color_in(ext_color, \"gold\"):\n",
        "        return \"Gold\"\n",
        "    elif color_in(ext_color, \"brown\", \"beige\"):\n",
        "        return \"Beige or Brown\"\n",
        "    elif color_in(ext_color, \"yellow\"):\n",
        "        return \"Yellow\"\n",
        "    else:\n",
        "        return \"Other\""
      ],
      "execution_count": 63,
      "outputs": []
    },
    {
      "cell_type": "code",
      "metadata": {
        "id": "vsedMlLfeCuX",
        "colab": {
          "base_uri": "https://localhost:8080/"
        },
        "outputId": "9eeaf0e2-f5a7-4ae0-daf0-146ee42dc3b2"
      },
      "source": [
        "vehicles_dataset['Interior Color'] = vehicles_dataset['Interior Color'].apply(colors_categorize)\n",
        "vehicles_dataset['Interior Color'].value_counts()"
      ],
      "execution_count": 64,
      "outputs": [
        {
          "output_type": "execute_result",
          "data": {
            "text/plain": [
              "Other             6243\n",
              "Black             6179\n",
              "Silver or Grey    1885\n",
              "Beige or Brown     564\n",
              "White               13\n",
              "Red                 10\n",
              "Blue                 7\n",
              "Green                5\n",
              "Gold                 1\n",
              "Name: Interior Color, dtype: int64"
            ]
          },
          "metadata": {
            "tags": []
          },
          "execution_count": 64
        }
      ]
    },
    {
      "cell_type": "code",
      "metadata": {
        "id": "RuCPHvV-qBpT",
        "colab": {
          "base_uri": "https://localhost:8080/"
        },
        "outputId": "882c2a01-76a0-4d75-fa76-03b7aa675713"
      },
      "source": [
        "# keeping on filtering the values\n",
        "vehicles_dataset['Interior Color'] = vehicles_dataset['Interior Color'].apply(\n",
        "    lambda i_color: (i_color, 'Other')[i_color in ['Gold', 'Green', 'Blue']])\n",
        "vehicles_dataset['Interior Color'].value_counts()"
      ],
      "execution_count": 65,
      "outputs": [
        {
          "output_type": "execute_result",
          "data": {
            "text/plain": [
              "Other             6256\n",
              "Black             6179\n",
              "Silver or Grey    1885\n",
              "Beige or Brown     564\n",
              "White               13\n",
              "Red                 10\n",
              "Name: Interior Color, dtype: int64"
            ]
          },
          "metadata": {
            "tags": []
          },
          "execution_count": 65
        }
      ]
    },
    {
      "cell_type": "code",
      "metadata": {
        "id": "3-wzr1pMqcHH"
      },
      "source": [
        "warnings.filterwarnings(action='ignore', category=DeprecationWarning)\n",
        "fig, (vs_intc) = plt.subplots(2, figsize=(15,10))\n",
        "sns.violinplot(x='Interior Color', y='Price', data=vehicles_dataset, split=True, ax=vs_intc)\n",
        "sns.swarmplot(x='Interior Color', y='Price', data=vehicles_dataset, split=True, ax=vs_intc)"
      ],
      "execution_count": null,
      "outputs": []
    },
    {
      "cell_type": "markdown",
      "metadata": {
        "id": "76qQtymJkTm7"
      },
      "source": [
        "### Exterior Color"
      ]
    },
    {
      "cell_type": "code",
      "metadata": {
        "id": "ZIDprUdKwMjz",
        "colab": {
          "base_uri": "https://localhost:8080/"
        },
        "outputId": "9037ddad-6c34-4b9f-9474-487fa9a86eda"
      },
      "source": [
        "vehicles_dataset['Exterior Color'].value_counts()"
      ],
      "execution_count": 67,
      "outputs": [
        {
          "output_type": "execute_result",
          "data": {
            "text/plain": [
              "Black               700\n",
              "Oxford White        403\n",
              "Summit White        365\n",
              "Gray                336\n",
              "White               321\n",
              "                   ... \n",
              "Rhino Clearcoat       1\n",
              "0040                  1\n",
              "Botanical Green       1\n",
              "Torred Clearcoat      1\n",
              "Ice Storm             1\n",
              "Name: Exterior Color, Length: 531, dtype: int64"
            ]
          },
          "metadata": {
            "tags": []
          },
          "execution_count": 67
        }
      ]
    },
    {
      "cell_type": "code",
      "metadata": {
        "id": "A5wWE3HkwbXj",
        "colab": {
          "base_uri": "https://localhost:8080/"
        },
        "outputId": "52c7efa8-d8ad-4401-9319-a86c0970599f"
      },
      "source": [
        "vehicles_dataset['Exterior Color'] = vehicles_dataset['Exterior Color'].apply(colors_categorize)\n",
        "vehicles_dataset['Exterior Color'].value_counts()"
      ],
      "execution_count": 68,
      "outputs": [
        {
          "output_type": "execute_result",
          "data": {
            "text/plain": [
              "Other             5369\n",
              "White             3112\n",
              "Black             2478\n",
              "Silver or Grey    2430\n",
              "Blue               792\n",
              "Red                600\n",
              "Beige or Brown      54\n",
              "Gold                45\n",
              "Green               22\n",
              "Yellow               5\n",
              "Name: Exterior Color, dtype: int64"
            ]
          },
          "metadata": {
            "tags": []
          },
          "execution_count": 68
        }
      ]
    },
    {
      "cell_type": "code",
      "metadata": {
        "id": "LZMSmvdo0u4f",
        "colab": {
          "base_uri": "https://localhost:8080/"
        },
        "outputId": "2f7a88bc-299d-4c93-df26-44b09594daf1"
      },
      "source": [
        "vehicles_dataset['Exterior Color'].where(\n",
        "    vehicles_dataset['Exterior Color'] != 'Yellow', other='Other', inplace=True)\n",
        "vehicles_dataset['Exterior Color'].value_counts()"
      ],
      "execution_count": 69,
      "outputs": [
        {
          "output_type": "execute_result",
          "data": {
            "text/plain": [
              "Other             5374\n",
              "White             3112\n",
              "Black             2478\n",
              "Silver or Grey    2430\n",
              "Blue               792\n",
              "Red                600\n",
              "Beige or Brown      54\n",
              "Gold                45\n",
              "Green               22\n",
              "Name: Exterior Color, dtype: int64"
            ]
          },
          "metadata": {
            "tags": []
          },
          "execution_count": 69
        }
      ]
    },
    {
      "cell_type": "code",
      "metadata": {
        "id": "c33d2kplnKCh"
      },
      "source": [
        "warnings.filterwarnings(action=\"ignore\", category=DeprecationWarning)\n",
        "# fig, (sw_intc, sw_extc) = plt.subplots(1, 2, sharey=True, figsize=(10, 8))\n",
        "fig, (sw_intc, sw_extc) = plt.subplots(2, figsize=(10, 8))\n",
        "fig.suptitle('Colors occurrences regarding vehicle Price')\n",
        "sns.swarmplot(x='Interior Color', y='Price', data=vehicles_dataset, ax=sw_intc)\n",
        "sns.swarmplot(x='Exterior Color', y='Price', data=vehicles_dataset, ax=sw_extc)"
      ],
      "execution_count": null,
      "outputs": []
    },
    {
      "cell_type": "code",
      "metadata": {
        "id": "gs1uSUsmhNOj",
        "colab": {
          "base_uri": "https://localhost:8080/"
        },
        "outputId": "c74eb4b3-e391-45dc-f452-e8b931dc652d"
      },
      "source": [
        "display_next_feature()"
      ],
      "execution_count": 71,
      "outputs": [
        {
          "output_type": "stream",
          "text": [
            "Style \n",
            " (14907, 18)\n"
          ],
          "name": "stdout"
        }
      ]
    },
    {
      "cell_type": "markdown",
      "metadata": {
        "id": "NSSt57LokXgp"
      },
      "source": [
        "### Style"
      ]
    },
    {
      "cell_type": "markdown",
      "metadata": {
        "id": "GRRinEuvvP8q"
      },
      "source": [
        "'Style' feature is up."
      ]
    },
    {
      "cell_type": "code",
      "metadata": {
        "id": "HECKkEGFvUVO",
        "colab": {
          "base_uri": "https://localhost:8080/"
        },
        "outputId": "57b9c4ed-6870-45be-f719-aa85271838ab"
      },
      "source": [
        "print(vehicles_dataset['Style'].isnull().sum())\n",
        "vehicles_dataset['Style'].value_counts()"
      ],
      "execution_count": 72,
      "outputs": [
        {
          "output_type": "stream",
          "text": [
            "1030\n"
          ],
          "name": "stdout"
        },
        {
          "output_type": "execute_result",
          "data": {
            "text/plain": [
              "SE FWD                       422\n",
              "SXT                          376\n",
              "LE CVT                       369\n",
              "SV CVT                       350\n",
              "LX Sedan CVT                 322\n",
              "                            ... \n",
              "EX Sedan I4 CVT                1\n",
              "ESV AWD                        1\n",
              "Roadster 2.5i                  1\n",
              "2014 Hybrid XLE                1\n",
              "Premium Plus 3.6L quattro      1\n",
              "Name: Style, Length: 1203, dtype: int64"
            ]
          },
          "metadata": {
            "tags": []
          },
          "execution_count": 72
        }
      ]
    },
    {
      "cell_type": "code",
      "metadata": {
        "id": "KAtbsJCWBiPj",
        "colab": {
          "base_uri": "https://localhost:8080/"
        },
        "outputId": "48516174-b4ad-4022-eef1-865d2fd95912"
      },
      "source": [
        "list(vehicles_dataset['Style'].unique())"
      ],
      "execution_count": 73,
      "outputs": [
        {
          "output_type": "execute_result",
          "data": {
            "text/plain": [
              "['SE Hatchback',\n",
              " \"XL SuperCrew 6.5\\\\' Box RWD\",\n",
              " 'E 500 4MATIC Wagon',\n",
              " nan,\n",
              " 'Five',\n",
              " 'E 350 4MATIC Luxury Sedan',\n",
              " 'EX-L 4WD',\n",
              " 'S CVT',\n",
              " 'Hybrid Limited AWD',\n",
              " 'LE I4 Automatic',\n",
              " 'SE AWD',\n",
              " '3500 LT LWB',\n",
              " 'Hybrid Titanium FWD',\n",
              " 'LT with 1LT',\n",
              " 'Laredo 4WD',\n",
              " 'SXT',\n",
              " 'S 4WD',\n",
              " 'SL AWD CVT',\n",
              " 'SE FWD',\n",
              " 'LX Sedan Automatic',\n",
              " 'LS 460 RWD',\n",
              " 'SportWagen TDI DSG',\n",
              " 'SV CVT',\n",
              " 'E 300 Sedan RWD',\n",
              " '2.5i Premium CVT (PZEV)',\n",
              " 'EX-L AWD',\n",
              " 'LTZ 4WD',\n",
              " 'Hatchback',\n",
              " '328i Sedan',\n",
              " 'XLT FWD',\n",
              " 'SEL FWD',\n",
              " 'SRT8',\n",
              " 'LX FWD',\n",
              " 'Sport Sedan CVT',\n",
              " 'SEL 2.4L',\n",
              " 'Denali FWD',\n",
              " 'LT 4WD',\n",
              " 'S Hardtop 2-Door',\n",
              " 'RX 350 FWD',\n",
              " '2.5 SR',\n",
              " 'SE',\n",
              " '+ Automatic',\n",
              " 'Z71 4WD',\n",
              " 'SR FWD',\n",
              " 'SV FWD',\n",
              " '3.0si AWD',\n",
              " 'SE 2.4L AWD',\n",
              " 'LX',\n",
              " 'SE Automatic',\n",
              " 'NX Turbo FWD',\n",
              " 'GT FWD',\n",
              " 'SE Plus AWD',\n",
              " 'SXT RWD',\n",
              " 'EcoBoost Fastback',\n",
              " 'Hybrid SE FWD',\n",
              " 'S\\\\xa0Automatic',\n",
              " 'ES 350',\n",
              " 'SE Sedan',\n",
              " 'SE Hatch',\n",
              " 'Limited FWD',\n",
              " 'IS 200t RWD',\n",
              " 'S FWD',\n",
              " 'LE CVT',\n",
              " '3.2L',\n",
              " 'GXE Auto',\n",
              " 'xDrive28i AWD',\n",
              " 'SL 500 Roadster',\n",
              " 'SE I4 Automatic',\n",
              " '2.5 SV',\n",
              " 'xDrive35i AWD',\n",
              " \"XLT SuperCab 5.5\\\\' Box 2WD\",\n",
              " 'Touring',\n",
              " 'GX 470',\n",
              " \"XLT SuperCrew 5.5\\\\' Box 2WD\",\n",
              " 'SE Sedan CVT',\n",
              " 'Touring FWD',\n",
              " 'SEL 2.0L Automatic',\n",
              " 'Limited',\n",
              " 'FWD 4dr I4 Hybrid',\n",
              " 'T6 Drive-E AWD',\n",
              " 'LT Crew Cab Short Box 2WD',\n",
              " 'C 250 Sport Sedan RWD',\n",
              " 'EX FWD',\n",
              " 'Coupe',\n",
              " 'Sport FWD',\n",
              " 'TRD Off Road Premium 4WD',\n",
              " 'SV Sedan CVT',\n",
              " 'A 220 FWD',\n",
              " 'L CVT',\n",
              " 'R/T RWD',\n",
              " 'ML 350 RWD',\n",
              " 'SUV',\n",
              " '640i Gran Coupe RWD',\n",
              " 'LE Automatic',\n",
              " 'EX AWD Automatic',\n",
              " 'RX 350 AWD',\n",
              " 'SX V6 FWD',\n",
              " '2.5i Touring CVT (PZEV)',\n",
              " 'Sport 4WD',\n",
              " 'S AWD',\n",
              " 'Overland RWD',\n",
              " 'SE 2.0L Automatic',\n",
              " 'Pop Hatch',\n",
              " 'SR5 4WD',\n",
              " '330i Sedan RWD',\n",
              " '325i Sedan',\n",
              " '2.0 S CVT',\n",
              " 'XJR Long Wheelbase RWD',\n",
              " 'ES Manual',\n",
              " '2.0i Premium CVT',\n",
              " '320i xDrive Sedan',\n",
              " 'V6 Auto AWD',\n",
              " 'SL FWD',\n",
              " 'SEL AWD',\n",
              " '1.4T SE Auto',\n",
              " 'Touring Plus',\n",
              " 'CVT',\n",
              " 'FWD',\n",
              " 'Max XLT RWD',\n",
              " 'Base Automatic',\n",
              " \"XLT SuperCrew 5.5\\\\' Box 4WD\",\n",
              " 'Touring RWD',\n",
              " 'SLK 350 Roadster',\n",
              " 'Luxury I',\n",
              " 'SL RWD',\n",
              " 'Latitude FWD',\n",
              " 'WT Regular Cab Long Box 2WD',\n",
              " 'GX 460',\n",
              " 'Hybrid XLE',\n",
              " 'L I4 Automatic',\n",
              " 'XLE AWD',\n",
              " 'SE 4WD',\n",
              " 'Limited 4WD',\n",
              " 'XLT 4WD',\n",
              " 'LX I4 AWD',\n",
              " '1.8T SE Auto',\n",
              " \"XL SuperCrew 5.5\\\\' Box 4WD\",\n",
              " '128i Coupe',\n",
              " 'C 300 Sedan RWD',\n",
              " 'AWD',\n",
              " 'LT with 1LT AWD',\n",
              " 'GT Hatchback Manual',\n",
              " 'SL 550 V8 Roadster',\n",
              " 'LT with 2LT AWD',\n",
              " '3.5 SR',\n",
              " \"XL SuperCrew 6.5\\\\' Box 4WD\",\n",
              " 'GLS 2.4L Automatic',\n",
              " 'ESV Platinum 4WD',\n",
              " \"SLT Regular Cab 8\\\\' Box 4WD\",\n",
              " 'LT with 1SD Sedan Automatic',\n",
              " 'Lariat Crew Cab 156\" 4WD',\n",
              " 'SLT Crew Cab Short Box 4WD',\n",
              " 'Touring L Plus',\n",
              " 'SXT Plus Automatic',\n",
              " 'EX Sedan CVT',\n",
              " 'Preferred FWD',\n",
              " 'SE CVT',\n",
              " '2.5 SR FWD',\n",
              " 'EX-L Sedan I4 CVT',\n",
              " 'Two',\n",
              " 'SLE-2 AWD',\n",
              " 'EcoBoost Premium Convertible',\n",
              " 'Titanium Hatch',\n",
              " 'EX CVT',\n",
              " 'Premium Luxury',\n",
              " '2.0i Sport 5-door CVT',\n",
              " 'Unlimited Rubicon Recon',\n",
              " 'XLE 7-Passenger AWD',\n",
              " 'Ti Sport AWD',\n",
              " 'R-Sport 35t AWD',\n",
              " '2.5i Limited',\n",
              " 'Ti Sport',\n",
              " 'SH-AWD',\n",
              " '2.5 S Sedan',\n",
              " 'Note SV CVT',\n",
              " 'Hybrid Limited Platinum AWD',\n",
              " 'LE AWD',\n",
              " 'Three',\n",
              " 'V6 Lux',\n",
              " 'Limited V8 4WD',\n",
              " 'Limited RWD',\n",
              " 'EX-L FWD',\n",
              " 'Base',\n",
              " 'GLS 2.4L Automatic (PZEV)',\n",
              " '2017.5 SL AWD',\n",
              " 'Touring AWD',\n",
              " '2.0T Wolfsburg Edition',\n",
              " 'GT Hatchback Automatic',\n",
              " 'LT with 1LT FWD',\n",
              " '1.4T SE Manual',\n",
              " 'SL 4WD',\n",
              " '2014 L I4 Automatic',\n",
              " 'Summit RWD',\n",
              " '2.5 S',\n",
              " 'Sport AWD',\n",
              " 'Premium Plus',\n",
              " 'PRO-4X Crew Cab 4WD Auto',\n",
              " 'SV AWD CVT',\n",
              " 'Pro-4X 4WD Auto',\n",
              " \"XLT SuperCrew 6.5\\\\' Box 4WD\",\n",
              " 'Unlimited Sport 4WD',\n",
              " 'Autobahn 4-door DSG',\n",
              " '2.5i Premium',\n",
              " 'LS FWD',\n",
              " 'SLE with SLE-2 AWD',\n",
              " 'Unlimited Sahara (JK)',\n",
              " 'Sport 1.5T CVT',\n",
              " 'EX-L Sedan CVT',\n",
              " 'LX Sedan I4 Automatic',\n",
              " 'LX Sedan CVT',\n",
              " 'Touring-L',\n",
              " 'Crossroad FWD',\n",
              " 'S RWD',\n",
              " '2.5 S Coupe CVT',\n",
              " 'TDI Executive',\n",
              " 'EcoBoost Convertible',\n",
              " 'XLE I4 Automatic',\n",
              " 'SR CVT',\n",
              " 'Touring Sedan CVT',\n",
              " '2017.5 SV FWD',\n",
              " '1.6 SV CVT',\n",
              " 'Titanium 4WD',\n",
              " '335d Sedan',\n",
              " 'SE RWD',\n",
              " 'XLE FWD',\n",
              " 'sDrive28i RWD',\n",
              " 'GT Premium Fastback',\n",
              " '3.0R VDC Limited SUV',\n",
              " 'ST Quad Cab Long Bed 2WD',\n",
              " 'EX-L',\n",
              " '3.0i AWD',\n",
              " '2014 Hybrid LE',\n",
              " 'Premium Plus 2.0T quattro',\n",
              " 'Denali AWD',\n",
              " 'Limited V6 FWD',\n",
              " 'Touring Automatic',\n",
              " 'Grand Touring Hard Top Auto',\n",
              " '4500 170\"',\n",
              " 'Sedan Automatic',\n",
              " 'E 550 4MATIC Luxury Sedan',\n",
              " 'RX 400h Hybrid AWD',\n",
              " '4dr Sedan LSE',\n",
              " 'GLS Automatic (alt)',\n",
              " 'RX 300 FWD',\n",
              " 'SL AWD',\n",
              " '2.5i SUV Auto',\n",
              " 'SE with Beige Interior AWD',\n",
              " 'Convertible',\n",
              " 'Premium',\n",
              " 'Base FWD',\n",
              " 'GLK 250 BlueTEC 4MATIC',\n",
              " 'SUT',\n",
              " 'Premium Sedan 2.0 TFSI FWD',\n",
              " 'SLE-2 FWD',\n",
              " 'XLT Crew Cab 156\" 4WD',\n",
              " 'Luxury 3.6 AWD',\n",
              " 'CXL',\n",
              " 'Titanium AWD',\n",
              " 'SLT Quad Cab Regular Bed 4WD',\n",
              " 'Unlimited Sport',\n",
              " 'TDI SEL Premium Sedan DSG',\n",
              " 'NX 200t FWD',\n",
              " 'GT AWD',\n",
              " '2017.5 SV AWD',\n",
              " 'LT Crew Cab Short Box 4WD',\n",
              " 'Titanium FWD',\n",
              " 'LT',\n",
              " 'Energi Titanium FWD',\n",
              " 'L Automatic',\n",
              " 'S Plus CVT',\n",
              " 'LS with 2LS Coupe Automatic',\n",
              " 'Titanium Hatchback',\n",
              " '4dr Sedan XR',\n",
              " 'SE 2.4L',\n",
              " 'GL 550 4MATIC',\n",
              " 'GLA 250 4MATIC',\n",
              " 'I4 FWD',\n",
              " '328i Coupe',\n",
              " 'LT with 2LT FWD',\n",
              " 'SX Turbo FWD',\n",
              " 'SLE Crew Cab Short Box 4WD',\n",
              " 'Sedan',\n",
              " 'XL Crew Cab 172\" 4WD',\n",
              " 'xDrive30i AWD',\n",
              " 'SV AWD',\n",
              " \"Lariat Crew Cab 8\\\\' Bed 4WD\",\n",
              " 'LX Sedan I4 CVT',\n",
              " '3.8 RWD',\n",
              " 'HSE',\n",
              " 'Premium FWD',\n",
              " 'Turbo Hatch',\n",
              " 'Two Eco',\n",
              " '740i RWD',\n",
              " 'SX 5-Door Automatic',\n",
              " 'V6 FWD',\n",
              " 'FWD Automatic',\n",
              " 'GLK 350 RWD',\n",
              " 'Base 4WD',\n",
              " 'SV 4WD',\n",
              " 'LE FWD',\n",
              " 'Premium Sedan 2.0 FWD',\n",
              " 'E 350 Sport Sedan RWD',\n",
              " 'XLE V6 AWD',\n",
              " 'SXL Turbo',\n",
              " 'Prestige',\n",
              " 'Tiptronic AWD',\n",
              " 'E-450 176\" DRW',\n",
              " '3500 LT with 1LT LWB',\n",
              " 'LT RWD',\n",
              " '2500 SWB',\n",
              " 'LT FWD',\n",
              " 'S Manual',\n",
              " 'Hardtop 2-Door',\n",
              " 'RX 330 AWD',\n",
              " \"XLT SuperCrew 6.5\\\\' Box 2WD\",\n",
              " 'SE 2.4L Automatic',\n",
              " 'Limited AWD',\n",
              " 'SLT with SLT-1 FWD',\n",
              " 'TDI SE Sedan Manual',\n",
              " 'FWD with Technology Package',\n",
              " '3500 LT with 1LT LWB RWD',\n",
              " 'SLT AWD',\n",
              " 'EX',\n",
              " 'SV Crew Cab 2WD Automatic',\n",
              " 'EX-L V6 Coupe Automatic',\n",
              " 'LS',\n",
              " 'Base Manual',\n",
              " 'GX 460 Luxury',\n",
              " 'Grand Touring Automatic',\n",
              " '1.8T SEL Auto',\n",
              " 'SLT with SLT-1 AWD',\n",
              " 'LX-P Coupe CVT',\n",
              " 'SX V6 FWD Automatic',\n",
              " 'Plug-in Hybrid Advanced',\n",
              " '3500 LS with 1LS LWB',\n",
              " \"ST Crew Cab 8\\\\' Box 4WD\",\n",
              " 'LS 1500 4WD',\n",
              " 'XL SuperCab 158\" RWD',\n",
              " 'Reg Cab 141\" WB XL',\n",
              " '2.0i Premium 4-door CVT',\n",
              " '2.0i Limited CVT',\n",
              " 'S Sedan Manual',\n",
              " 'GLS 450 4MATIC',\n",
              " '3.5 SL',\n",
              " '3.5 Platinum',\n",
              " 'EX-L with Navigation FWD',\n",
              " 'Base 2.4L',\n",
              " 'XLT RWD',\n",
              " 'CLA 250 FWD',\n",
              " '750Li',\n",
              " '3.5 SV with Premium Package',\n",
              " 'LX I4 FWD',\n",
              " 'SEL Sedan',\n",
              " 'Limited Sedan',\n",
              " '2.5i Limited Auto (PZEV)',\n",
              " 'LTZ',\n",
              " 'LS with 1SB Sedan Automatic',\n",
              " 'EX FWD Automatic',\n",
              " 'Sport 4-Door Automatic',\n",
              " 'Trailhawk 4WD',\n",
              " 'CT 200h',\n",
              " 'Base Coupe',\n",
              " 'EX AWD CVT',\n",
              " '2.5',\n",
              " 'S FWD Auto',\n",
              " '1.4T S Manual',\n",
              " 'Luxury FWD',\n",
              " 'Eddie Bauer 4WD',\n",
              " 'GLS Sedan Automatic',\n",
              " 'American Value Package FWD',\n",
              " 'Limited Convertible FWD',\n",
              " 'SL 550 Roadster',\n",
              " 'Wagon',\n",
              " 'Unlimited X 4WD',\n",
              " '2.5i Sedan Auto',\n",
              " '300S V6 RWD',\n",
              " 'Unlimited Rubicon 4WD',\n",
              " '60 RWD',\n",
              " \"XLT SuperCrew 5\\\\' Box 4WD\",\n",
              " 'Note 1.6 SV CVT',\n",
              " 'King Ranch 4WD',\n",
              " 'Reserve AWD',\n",
              " '60 Ah with Range Extender',\n",
              " 'Hybrid LX',\n",
              " 'Unlimited Sahara',\n",
              " \"XLT SuperCrew 5.5\\\\' Box RWD\",\n",
              " 'GLE 350 4MATIC SUV',\n",
              " '4dr Sedan CVT LE Popular FWD',\n",
              " 'Sedan 3.6L',\n",
              " 'R/T Scat Pack',\n",
              " 'SV 3.5L',\n",
              " '2.5i Limited CVT',\n",
              " 'Grand Touring',\n",
              " '2.5L Turbo FWD',\n",
              " 'Grand Touring AWD Automatic',\n",
              " 'LS AWD',\n",
              " '4WD',\n",
              " '4dr Sedan Premier 2.3',\n",
              " 'Touring Coupe Auto',\n",
              " 'SE Sedan Automatic',\n",
              " 'Limited 7-Passenger',\n",
              " 'WRX STI Limited Sedan Turbo',\n",
              " '2.5i Limited Auto',\n",
              " 'LX AWD',\n",
              " '2018.5 SL AWD',\n",
              " 'LS with 1LS FWD',\n",
              " 'SEL Sedan Auto (PZEV)',\n",
              " 'EX-L 1.5T CVT',\n",
              " 'CXL FWD',\n",
              " 'SXT FWD',\n",
              " 'S Automatic',\n",
              " 'i Sport 4-Door Manual',\n",
              " '3.0t Premium AWD',\n",
              " 'Minivan',\n",
              " 'LX-S Coupe Manual',\n",
              " 'C 300 4MATIC Sedan',\n",
              " 'SR5 V6 RWD',\n",
              " '2.5 SL',\n",
              " 'GLC 300 SUV RWD',\n",
              " 'S with Sunroof Sedan Manual',\n",
              " 'LX Automatic',\n",
              " 'Limited 2.0L Sedan Auto',\n",
              " 'EX Coupe CVT',\n",
              " 'SE Plus FWD',\n",
              " 'Hybrid LE',\n",
              " 'Grand Touring AWD',\n",
              " 'T5 Inscription FWD',\n",
              " 'Automatic',\n",
              " 'XSE Automatic',\n",
              " 'Crossroad AWD',\n",
              " 'LE Crew Cab 2WD (FFV)',\n",
              " 'X',\n",
              " 'RX 450h Hybrid AWD',\n",
              " 'LT with 1LT Automatic',\n",
              " '3500 Van 139\"',\n",
              " 'EX 4WD',\n",
              " 'Hybrid SEL FWD',\n",
              " '2.5i Manual (PZEV)',\n",
              " 'Base 2.4L (PZEV)',\n",
              " 'Grand Touring FWD',\n",
              " 'EX-L Coupe CVT',\n",
              " 'T6 AWD',\n",
              " 'GLE 350 SUV RWD',\n",
              " 'LX I4 Automatic',\n",
              " 'E 300 Luxury 4MATIC Sedan',\n",
              " 'LT with 1LT Coupe',\n",
              " 'XLE 8-Passenger FWD',\n",
              " 'Signature AWD',\n",
              " '2.0i Premium 5-door CVT',\n",
              " 'EcoBoost Premium Fastback',\n",
              " 'ES 300',\n",
              " 'SV',\n",
              " 'LS with 1LS',\n",
              " '3.6R Limited Auto',\n",
              " 'SE Sedan Auto (PZEV)',\n",
              " 'Limited V6 4WD',\n",
              " 'Touring 7-Passenger FWD',\n",
              " 'Platinum RWD',\n",
              " 'XLE FWD 8-Passenger',\n",
              " \"XL SuperCrew 5.5\\\\' Box 2WD\",\n",
              " 'Touring L',\n",
              " 'Latitude 4WD',\n",
              " 'LX 2.4L Automatic',\n",
              " 'RWD',\n",
              " 'SLE Crew Cab SB 4WD',\n",
              " 'Premium Plus FWD Automatic',\n",
              " 'SX-L',\n",
              " 'Reserve FWD',\n",
              " 'GLX Wagon V6 FWD Manual',\n",
              " 'IPL Coupe RWD Automatic',\n",
              " 'E-350 138\" SRW',\n",
              " '328i xDrive Sports Wagon',\n",
              " 'Hybrid Touring Sedan',\n",
              " 'E 350 Cabriolet RWD',\n",
              " 'Premier with 2LZ FWD',\n",
              " 'Touring Wagon',\n",
              " 'SEL 2.0L IVT',\n",
              " 'S 550 Sedan RWD',\n",
              " 'GLC 300 4MATIC SUV',\n",
              " 'W12 Sedan',\n",
              " 'S Coupe',\n",
              " 'S',\n",
              " 'LT 1500 4WD',\n",
              " 'Limited 2.0L Sedan Automatic',\n",
              " 'XLE V6 FWD',\n",
              " 'SE FWD Automatic',\n",
              " '3.6R Limited Automatic',\n",
              " '4-door DSG (PZEV)',\n",
              " 'LS Sedan',\n",
              " 'TDI SE with Sunroof DSG',\n",
              " '3.8L AWD',\n",
              " 'C RWD',\n",
              " 'LS with 1LS Coupe',\n",
              " 'GLA 250 FWD',\n",
              " 'Altitude 4WD',\n",
              " 'LX-P Sedan I4 Automatic',\n",
              " 'RX 330 FWD',\n",
              " '138\" SRW',\n",
              " 'LS RWD',\n",
              " 'SE\\\\xa0Automatic',\n",
              " 'Premier FWD',\n",
              " 'GLS I4 Automatic',\n",
              " 'Touring Coupe CVT',\n",
              " '1.4T S Auto',\n",
              " 'Signature Limited',\n",
              " 'XL 1500 SLT 4WD',\n",
              " '2.5i Auto',\n",
              " 'Hybrid FWD',\n",
              " 'LT with 1SD Sedan',\n",
              " 'Touring 4-Door Automatic',\n",
              " 'i Touring 4-Door Manual',\n",
              " 'LXS IVT',\n",
              " 'Base 2.4L FWD',\n",
              " 'EX Coupe Automatic',\n",
              " 'Premium Plus 45 TFSI quattro',\n",
              " 'SLT-2 AWD',\n",
              " 'Hybrid Premium AWD',\n",
              " 'Luxury Sedan 2.0T AWD',\n",
              " 'LX IVT',\n",
              " 'XLE',\n",
              " 'ML 350 4MATIC',\n",
              " '2.4L Automatic FWD',\n",
              " 'Premier AWD',\n",
              " 'Premium AWD',\n",
              " 'Sport Sedan I4 CVT',\n",
              " 'Leather FWD',\n",
              " \"XL SuperCab 8.0\\\\' Box RWD\",\n",
              " '4WD 4dr SuperCab 126\" XLT',\n",
              " 'S Krom Edition AWD',\n",
              " '2.5X Premium Auto',\n",
              " 'LT Leather AWD',\n",
              " '3.3T Premium AWD',\n",
              " '2.5i CVT',\n",
              " 'LX 4WD',\n",
              " 'S Sedan',\n",
              " 'XLT SuperCab 158\" RWD',\n",
              " 'CLA 250 4MATIC',\n",
              " 'Reserve 3.5L AWD',\n",
              " '4dr Sedan w/1SA (alt)',\n",
              " 'GLX Sedan V6 FWD Manual',\n",
              " '330i xDrive Sedan',\n",
              " 'R/T Max RWD',\n",
              " '3500 159\" WB',\n",
              " 'XLT V6 RWD',\n",
              " 'LX Coupe Automatic',\n",
              " 'E 350 Luxury Sedan RWD',\n",
              " 'LX 3.0L 4WD Automatic',\n",
              " 'Sport FWD Automatic',\n",
              " 'Essence FWD',\n",
              " 'LX 1.5T CVT',\n",
              " '530i Sedan RWD',\n",
              " '2.0i Limited 5-door CVT',\n",
              " 'EX-T Sedan CVT',\n",
              " 'Select FWD',\n",
              " '2.5 S Sedan CVT',\n",
              " 'Latitude Plus FWD',\n",
              " 'Sport Touring Hatchback CVT',\n",
              " 'Luxury Collection FWD',\n",
              " 'SXT AWD',\n",
              " 'GLA 45 AMG 4MATIC',\n",
              " 'EX AWD',\n",
              " 'SLE Crew Cab Short Box 2WD',\n",
              " '2.5 SV Sedan',\n",
              " '328i xDrive Coupe AWD',\n",
              " '2017.5 2.5 SV',\n",
              " 'Unlimited Sport S',\n",
              " 'Platinum 4WD',\n",
              " 'Limited I4 4WD',\n",
              " '528i Sedan',\n",
              " 'E 300 Sport 4MATIC Sedan',\n",
              " 'Sport 2.4L',\n",
              " 'SL Crew Cab 4WD Automatic',\n",
              " '3.5 AWD',\n",
              " '3.5 FWD',\n",
              " 'SLT RWD',\n",
              " '3.7 RWD',\n",
              " '3.0t SPORT RWD',\n",
              " 'Premium AWD (alt)',\n",
              " '4WD 4dr Auto Limited',\n",
              " 'Premium Plus Coupe Automatic',\n",
              " '335i Sedan',\n",
              " 'Roadster 3.0i',\n",
              " 'Premium 35t',\n",
              " '2.5i Premium (PZEV)',\n",
              " 'Hybrid Base 2.4L Automatic',\n",
              " 'GLS',\n",
              " '2017.5 S AWD',\n",
              " 'i Sport 4-Door Automatic',\n",
              " '3.0t LUXE RWD',\n",
              " '3.5L AWD Standard',\n",
              " 'GT',\n",
              " '3.8',\n",
              " 'LT with 2LT',\n",
              " 'S 63 AMG Sedan RWD',\n",
              " '3.0t LUXE AWD',\n",
              " 'LE 4WD',\n",
              " 'GLS FWD Manual',\n",
              " '535i xDrive Sedan AWD',\n",
              " 'XLE 7-Passenger FWD',\n",
              " 'Laredo RWD',\n",
              " 'S 500 Sedan RWD',\n",
              " 'Premier with 1LZ FWD',\n",
              " 'Limited Automatic (alt)',\n",
              " 'LT Hatch AT',\n",
              " 'Sedan 2.0L Automatic',\n",
              " 'LX Hatchback CVT',\n",
              " 'GXE Automatic',\n",
              " 'SE Sedan I4 Automatic',\n",
              " '1500 Low Roof 118\" WB',\n",
              " '2017.5 S Crew Cab 4WD Auto',\n",
              " 'Sport Quad Cab 6\\\\\\'4\" Box 4WD',\n",
              " 'SLT FWD',\n",
              " 'Note 1.6 S Manual',\n",
              " '740i xDrive',\n",
              " 'T6 Momentum AWD',\n",
              " '440i xDrive Coupe',\n",
              " '535i xDrive Gran Turismo',\n",
              " 'GLC 350e 4MATIC',\n",
              " 'ALL4',\n",
              " 'E 320 CDI Sedan RWD',\n",
              " 'GT Fastback',\n",
              " 'Essence AWD',\n",
              " 'S King Cab I4 2WD Auto',\n",
              " 'Limited 75th Anniversary 4WD',\n",
              " 'SLT Crew Cab 6\\\\\\'4\" Box 4WD',\n",
              " '5.0 RWD',\n",
              " '330i RWD',\n",
              " 'GLS 2.4L (alt)',\n",
              " 'XLT V6 4WD',\n",
              " '2017.5 S FWD',\n",
              " '1.6 S Plus CVT',\n",
              " 'SE Hatchback Automatic',\n",
              " 'SE w/Leather FWD',\n",
              " 'SEL 4WD',\n",
              " 'RX 350 F Sport FWD',\n",
              " '75th Anniversary Edition 4WD',\n",
              " 'with Technology Package',\n",
              " 'Premier with 2LZ AWD',\n",
              " '2.0i 4-door Manual',\n",
              " '2.5 Coupe Auto (PZEV)',\n",
              " '2.5i Premium CVT',\n",
              " 'Crossroad Plus AWD',\n",
              " 'L 7-Passenger FWD',\n",
              " '2014 XLE I4 Automatic',\n",
              " 'GL 450 4MATIC',\n",
              " 'XL 1500 Denali AWD',\n",
              " 'R/T AWD',\n",
              " 'GT Plus AWD',\n",
              " '2.0i Sport 4-door Manual',\n",
              " '2.0i Sport Limited Wagon CVT',\n",
              " 'Touring 5-Door Automatic',\n",
              " 'V6 SE FWD',\n",
              " 'sDrive30i RWD',\n",
              " '2018.5 SV AWD',\n",
              " 'Hybrid Platinum',\n",
              " '2017.5 Platinum AWD',\n",
              " 'Prestige 3.0T quattro',\n",
              " '3.0L AWD',\n",
              " 'SR5 V6 4WD',\n",
              " '2.0 Manual',\n",
              " 'SE Coupe',\n",
              " 'Manual',\n",
              " 'CL 550',\n",
              " 'SLE FWD',\n",
              " 'Premium Turbo Group',\n",
              " 'Plus',\n",
              " 'TDI 4-door DSG',\n",
              " '528i xDrive Sedan AWD',\n",
              " '4dr Sedan V6 SE FWD',\n",
              " 'i Sport Automatic',\n",
              " '3.2L FWD',\n",
              " '2.5i Wagon Auto',\n",
              " '3.5L FWD',\n",
              " 'Platinum AWD',\n",
              " 'Hatch',\n",
              " 'LE Plus V6 AWD',\n",
              " 'Sport',\n",
              " 'SEL 2.0L Sedan Automatic',\n",
              " '2.5 Sedan',\n",
              " 'Premiere FWD',\n",
              " 'SE V6 Supercharged',\n",
              " 'LX V6 AWD Automatic',\n",
              " 'LTZ Crew Cab Short Box 4WD',\n",
              " 'i Touring 4-Door Automatic',\n",
              " 'Laredo E 4WD',\n",
              " 'Hybrid Limited 2.4L',\n",
              " 'XLT Supercab 142\" 4WD',\n",
              " 'Base 2.4L AWD',\n",
              " 'SE Coupe I4 Automatic',\n",
              " 'EX-L Sedan I4 Automatic',\n",
              " 'SR Turbo CVT',\n",
              " '500e Hatch',\n",
              " 'E-250 Commercial Extended',\n",
              " 'SLT Crew Cab Short Bed 2WD',\n",
              " 'E 350 Sedan RWD',\n",
              " 'XSE CVT',\n",
              " '2.0 SR CVT',\n",
              " 'Rallye Redline Automatic',\n",
              " \"XLT SuperCab 8.0\\\\' Box RWD\",\n",
              " 'Sport V6 4WD',\n",
              " 'S 4MOTION',\n",
              " 'LS Sedan Automatic',\n",
              " 'LX I4 FWD Automatic',\n",
              " 'Pop FWD',\n",
              " '2.0T I4 Manual',\n",
              " 'V6 Coupe',\n",
              " 'SLT Quad Cab 6\\\\\\'4\" Box 4WD',\n",
              " 'Value AWD',\n",
              " 'Access Cab I4 RWD Automatic',\n",
              " 'SEL V6 FWD',\n",
              " 'Deluxe',\n",
              " 'I4 4WD',\n",
              " 'Sport Package V8 Automatic',\n",
              " '328i Sedan RWD (SULEV)',\n",
              " 'Prestige Sedan',\n",
              " 'SE 2.0L Sedan Automatic',\n",
              " 'SLT 4WD',\n",
              " 'LE V6 Automatic',\n",
              " '325xi Sedan AWD',\n",
              " 'Si Sedan Manual',\n",
              " 'with Sport Package',\n",
              " 'Hybrid SL AWD',\n",
              " '4dr Sedan SE',\n",
              " 'Lounge Hatchback',\n",
              " 'Denali Crew Cab SB AWD',\n",
              " 'Note 1.6 SR CVT',\n",
              " '2.0i 4-door CVT',\n",
              " 'ZR2 Crew Cab Short Box 4WD',\n",
              " 'V6 Supercharged AWD',\n",
              " 'SEL PLUS FWD',\n",
              " 'EX Sedan Automatic',\n",
              " 'Sport 1.6T Sedan Manual',\n",
              " 'I4 Manual',\n",
              " 'SC 430 Convertible',\n",
              " 'CE Automatic',\n",
              " 'Titanium Sedan',\n",
              " 'Si Coupe Manual',\n",
              " 'FX35 AWD',\n",
              " '4dr Sedan Premier 3.0',\n",
              " \"XLT Crew Cab 8\\\\' Bed 4WD SRW\",\n",
              " 'HS 250h',\n",
              " 'GLE 400 4MATIC SUV',\n",
              " 'TDI Sedan DSG',\n",
              " \"XL Regular Cab 6.5\\\\' Box RWD\",\n",
              " '535i Sedan',\n",
              " 'Touring Sedan Automatic',\n",
              " 'SE 2.0 FWD CVT',\n",
              " '3.5 LT',\n",
              " 'LT with 2FL FWD',\n",
              " 'SEL Premium',\n",
              " 'Limited LT with 1LT Sedan AT',\n",
              " 'SL 500',\n",
              " \"XLT SuperCab 6.5\\\\' Box RWD\",\n",
              " '2.5L Turbo',\n",
              " 'Custom',\n",
              " 'LUXE AWD',\n",
              " 'GLS 2.4L (PZEV)',\n",
              " 'Hybrid',\n",
              " 'FWD 4dr I4 XE',\n",
              " 'Platinum FWD',\n",
              " 'with Livery Package',\n",
              " 'Overland 4WD',\n",
              " 'LE 8-Passenger FWD',\n",
              " 'XLE Premium 8-Passenger FWD',\n",
              " 'LTZ FWD',\n",
              " 'SES Sedan',\n",
              " 'SE V6 AWD',\n",
              " '530i xDrive Sedan',\n",
              " 'C 350 Sport Sedan RWD',\n",
              " 'LT AWD',\n",
              " 'EX Sedan I4 CVT',\n",
              " 'IS 350 RWD Automatic',\n",
              " '1.4T S Automatic',\n",
              " 'C AWD',\n",
              " 'LTZ with 1LZ',\n",
              " 'Touring Elite',\n",
              " 'LTZ with 2LZ',\n",
              " '2.5i Premium Auto',\n",
              " '2.5X Auto',\n",
              " 'LX V6 FWD',\n",
              " 'CXL V6',\n",
              " 'SE AWD Automatic',\n",
              " 'ECO with 1XF',\n",
              " 'S King Cab 2WD Auto',\n",
              " 'Limited Wagon',\n",
              " 'Hybrid EX-L Sedan',\n",
              " 'LT 2LT Sedan AT',\n",
              " 'Limited Ultimate 3.3L FWD',\n",
              " 'CXL-2 AWD',\n",
              " 'SR Sedan CVT',\n",
              " 'E-350 Super Duty XLT',\n",
              " 'Hybrid SE',\n",
              " '2.0i Premium Automatic',\n",
              " 'Premium 2.0 TFSI FWD',\n",
              " 'ES 330',\n",
              " 'SL CVT',\n",
              " 'LS Automatic',\n",
              " 'S IVT',\n",
              " '4dr Sedan',\n",
              " '328i xDrive Sedan',\n",
              " 'GLS Turbo Convertible Auto',\n",
              " 'LX Sedan I4 Manual',\n",
              " '7-Passenger I4 FWD',\n",
              " 'Eddie Bauer V6 4WD',\n",
              " 'RS with 2LT AWD',\n",
              " 'Willys Wheeler',\n",
              " 'ES Hatchback CVT',\n",
              " 'Luxury Coupe 2.0T RWD',\n",
              " 'Cargo LWB',\n",
              " 'Limited LS with 1LS',\n",
              " \"XL Regular Cab 8.0\\\\' Box 2WD\",\n",
              " 'EX-L Coupe I4 Automatic',\n",
              " 'Luxury AWD',\n",
              " '2.0T AWD',\n",
              " 'Hybrid Limited',\n",
              " 'Hybrid Select FWD',\n",
              " 'GT Plus RWD',\n",
              " 'Premier Sedan Automatic',\n",
              " '4dr Sedan Turbo4 Auto',\n",
              " 'Tradesman',\n",
              " 'S Sedan Auto (PZEV)',\n",
              " 'SE FWD Auto',\n",
              " 'with 1SA RWD',\n",
              " 'Krom Edition FWD',\n",
              " 'XE Crew Cab LB V6 4WD Manual',\n",
              " 'Turbo DSG (PZEV)',\n",
              " 'LX AWD CVT',\n",
              " 'EX Hatchback CVT',\n",
              " 'Limited LS Sedan AT',\n",
              " 'Ultimate AWD DCT',\n",
              " 'Crossroad Plus FWD',\n",
              " 'GLS Wagon Automatic',\n",
              " 'Laredo E RWD',\n",
              " '2016.5 Sport FWD Automatic',\n",
              " '3500 1LT RWD LWB',\n",
              " '1LS',\n",
              " 'Premium FWD (alt)',\n",
              " '340i xDrive Sedan',\n",
              " 'Premium 2.0 TFSI',\n",
              " '2.0T SE DSG',\n",
              " '2016.5 Touring FWD Automatic',\n",
              " 'SE Manual',\n",
              " 'EX Coupe I4 Automatic',\n",
              " 'LS 460',\n",
              " 'Limited CVT',\n",
              " 'SXT Plus RWD',\n",
              " 'SES 4WD',\n",
              " 'Prestige Hybrid 2.0T quattro',\n",
              " 'R-Line FWD DSG (PZEV)',\n",
              " 'LTZ AWD',\n",
              " 'CE I4 Automatic',\n",
              " 'SE 2.4L FWD',\n",
              " 'SL',\n",
              " 'V8',\n",
              " 'SE 3.3L FWD',\n",
              " 'Touring 4-Door Manual',\n",
              " 'Roadster 2.5i',\n",
              " '750Li xDrive AWD',\n",
              " 'TDI S DSG',\n",
              " 'M45x AWD',\n",
              " 'Premium Plus 3.6L quattro',\n",
              " 'Coupe 2.0T RWD',\n",
              " 'Signature',\n",
              " 'Unlimited Moab',\n",
              " 'EX-L Sedan Automatic',\n",
              " 'PRO-4X Crew Cab 4WD',\n",
              " 'ES S-AWC',\n",
              " 'Wagon with Cloth',\n",
              " '2.5L Automatic',\n",
              " 'Pure Coupe',\n",
              " '4dr 103\" WB XLT Sport',\n",
              " 'Touring 1.5T CVT',\n",
              " 'VE Automatic',\n",
              " 'Note 1.6 S Plus CVT',\n",
              " 'SLT RWD Automatic',\n",
              " 'TDI SEL Premium DSG',\n",
              " '4.8i AWD',\n",
              " '1.8 S CVT',\n",
              " 'IS 250 Sedan RWD',\n",
              " 'SLT Quad Cab Long Bed 4WD',\n",
              " 'S Premium CVT',\n",
              " 'FWD Manual',\n",
              " 'Spec Automatic',\n",
              " '3.8L RWD',\n",
              " 'Hybrid with 1HY',\n",
              " 'SE 2.0L Sedan Manual (Ulsan)',\n",
              " 'L Manual',\n",
              " 'LX-S Coupe CVT',\n",
              " 'SX Limited V6 AWD',\n",
              " 'GLE 550e 4MATIC SUV',\n",
              " 'E 300 Sport Sedan RWD',\n",
              " 'B 250e',\n",
              " 'Premier with 4.6L AWD',\n",
              " 'XE King Cab I4 RWD Automatic',\n",
              " 'V6',\n",
              " 'Premium I4 Turbo RWD',\n",
              " \"XL Crew Cab 8\\\\' Bed 4WD\",\n",
              " '2500 Standard Roof SWB RWD',\n",
              " 'XL SLT 4WD',\n",
              " 'GS 350 RWD',\n",
              " 'EX 4WD Automatic',\n",
              " 'Premium Luxury FWD',\n",
              " \"FX4 SuperCrew 5.5\\\\' Box 4WD\",\n",
              " 'sDrive35i RWD',\n",
              " 'WT Crew Cab Standard Box 4WD',\n",
              " 'Sedan Manual',\n",
              " 'RTL-T FWD',\n",
              " 'LE V6 FWD',\n",
              " '2.0T SE',\n",
              " '2019.5 PURE AWD',\n",
              " 'CLS 550',\n",
              " 'T6 AWD Inscription',\n",
              " 'TSI S 4-door Auto',\n",
              " 'S 2-door Manual',\n",
              " '535i xDrive Sedan',\n",
              " 'Limited Manual',\n",
              " 'Sport S',\n",
              " 'Unlimited Sahara 4WD',\n",
              " 'G4 ES Sedan CVT',\n",
              " '2.5 S Auto',\n",
              " 'XL SuperCab 142\" RWD',\n",
              " 'Sport Hatchback CVT',\n",
              " '430i Gran Coupe RWD (SULEV)',\n",
              " '2.0XT Premium CVT',\n",
              " 'SLE-1 FWD',\n",
              " '2014 SE Sport I4 Automatic',\n",
              " '2.5 SL Sedan CVT',\n",
              " 'ES',\n",
              " 'S ALL4',\n",
              " 'AWD 4dr XE',\n",
              " 'EX V6 AWD',\n",
              " 'Limited V6 AWD',\n",
              " 'E 550 Coupe RWD',\n",
              " 'Sport Automatic',\n",
              " 'LE 2.0 FWD CVT',\n",
              " '2.0i Premium Manual',\n",
              " '3500 LT with 1LT RWD LWB',\n",
              " 'S 4MOTION Auto',\n",
              " 'EX-L CVT',\n",
              " '3.0t Premium RWD',\n",
              " 'LT Sedan MT',\n",
              " 'SV Crew Cab 4WD Automatic',\n",
              " 'NX Turbo AWD',\n",
              " 'WT Regular Cab Long Box 4WD',\n",
              " '2014 SE I4 Automatic',\n",
              " 'EX Coupe Manual',\n",
              " 'Passion Coupe',\n",
              " 'Prestige 35t',\n",
              " '94 Ah with Range Extender',\n",
              " 'LT Sedan AT',\n",
              " 'E-350 Super Duty XL Extended',\n",
              " 'Premium Sedan',\n",
              " 'ES 300h',\n",
              " 'SX Koup Manual',\n",
              " 'SV FWD (alt)',\n",
              " 'SE Plus',\n",
              " 'SXT Automatic',\n",
              " 'Limited 3.8L (alt)',\n",
              " 'LS 430',\n",
              " '2.5 SL Sedan (alt)',\n",
              " 'EX-L with Navigation',\n",
              " 'Premium Convertible',\n",
              " 'Luxury 2WD',\n",
              " 'X RWD Manual',\n",
              " 'Heat 4WD',\n",
              " 'Sport 2.4L (PZEV)',\n",
              " 'GLX Wagon V6 4MOTION Auto',\n",
              " 'T5 FWD',\n",
              " 'T6 AWD Dynamic',\n",
              " 'XSE I4 Automatic',\n",
              " 'Luxury Collection AWD',\n",
              " 'Sport 2.0T (alt)',\n",
              " 'GS 350 AWD',\n",
              " 'xDrive40e iPerformance AWD',\n",
              " 'SX',\n",
              " 'GLC 300 RWD',\n",
              " '340i Sedan RWD',\n",
              " 'Luxury 3.6 RWD',\n",
              " 'E-250 Commercial',\n",
              " 'Preferred AWD',\n",
              " 'SLT with SLT-2 FWD',\n",
              " 'SLE AWD',\n",
              " 'Crew',\n",
              " '1.8 S Hatchback Manual',\n",
              " 'L 6.0L',\n",
              " 'LE 7-Passenger FWD',\n",
              " 'Passion Coupe Electric Drive',\n",
              " 'IS 250 Sedan AWD',\n",
              " 'LX V6 4WD Automatic',\n",
              " 'GLC 300 SUV 4MATIC',\n",
              " 'XLT SuperCab 142\" RWD',\n",
              " 'Hybrid LX 2.4L Automatic',\n",
              " \"XL SuperCab 6.5\\\\' Box 4WD\",\n",
              " 'LX-S Coupe I4 CVT',\n",
              " 'SE SportWagen Auto (PZEV)',\n",
              " 'SLT Crew Cab Short Box 2WD',\n",
              " '328i Coupe SULEV',\n",
              " 'T5 AWD',\n",
              " 'V6 Convertible',\n",
              " '328i Sedan SULEV',\n",
              " ...]"
            ]
          },
          "metadata": {
            "tags": []
          },
          "execution_count": 73
        }
      ]
    },
    {
      "cell_type": "code",
      "metadata": {
        "colab": {
          "base_uri": "https://localhost:8080/"
        },
        "id": "A9JH3ULROM9M",
        "outputId": "afc34b4f-bc2f-419b-929a-e12947def976"
      },
      "source": [
        "styles_url = requests.get('https://en.wikipedia.org/wiki/Car_body_style')\r\n",
        "styles_soup = BeautifulSoup(styles_url.content, 'html.parser')\r\n",
        "styles_soup"
      ],
      "execution_count": 74,
      "outputs": [
        {
          "output_type": "execute_result",
          "data": {
            "text/plain": [
              "<!DOCTYPE html>\n",
              "\n",
              "<html class=\"client-nojs\" dir=\"ltr\" lang=\"en\">\n",
              "<head>\n",
              "<meta charset=\"utf-8\"/>\n",
              "<title>Car body style - Wikipedia</title>\n",
              "<script>document.documentElement.className=\"client-js\";RLCONF={\"wgBreakFrames\":!1,\"wgSeparatorTransformTable\":[\"\",\"\"],\"wgDigitTransformTable\":[\"\",\"\"],\"wgDefaultDateFormat\":\"dmy\",\"wgMonthNames\":[\"\",\"January\",\"February\",\"March\",\"April\",\"May\",\"June\",\"July\",\"August\",\"September\",\"October\",\"November\",\"December\"],\"wgRequestId\":\"X-ukiwpAAEUAADpC2AEAAACT\",\"wgCSPNonce\":!1,\"wgCanonicalNamespace\":\"\",\"wgCanonicalSpecialPageName\":!1,\"wgNamespaceNumber\":0,\"wgPageName\":\"Car_body_style\",\"wgTitle\":\"Car body style\",\"wgCurRevisionId\":993432026,\"wgRevisionId\":993432026,\"wgArticleId\":679801,\"wgIsArticle\":!0,\"wgIsRedirect\":!1,\"wgAction\":\"view\",\"wgUserName\":null,\"wgUserGroups\":[\"*\"],\"wgCategories\":[\"Use dmy dates from April 2019\",\"Articles needing additional references from April 2019\",\"All articles needing additional references\",\"Commons category link is on Wikidata\",\"Car body styles\",\"Car classifications\"],\"wgPageContentLanguage\":\"en\",\"wgPageContentModel\":\"wikitext\",\"wgRelevantPageName\":\n",
              "\"Car_body_style\",\"wgRelevantArticleId\":679801,\"wgIsProbablyEditable\":!0,\"wgRelevantPageIsProbablyEditable\":!0,\"wgRestrictionEdit\":[],\"wgRestrictionMove\":[],\"wgMediaViewerOnClick\":!0,\"wgMediaViewerEnabledByDefault\":!0,\"wgPopupsReferencePreviews\":!1,\"wgPopupsConflictsWithNavPopupGadget\":!1,\"wgPopupsConflictsWithRefTooltipsGadget\":!0,\"wgVisualEditor\":{\"pageLanguageCode\":\"en\",\"pageLanguageDir\":\"ltr\",\"pageVariantFallbacks\":\"en\"},\"wgMFDisplayWikibaseDescriptions\":{\"search\":!0,\"nearby\":!0,\"watchlist\":!0,\"tagline\":!1},\"wgWMESchemaEditAttemptStepOversample\":!1,\"wgULSCurrentAutonym\":\"English\",\"wgNoticeProject\":\"wikipedia\",\"wgCentralAuthMobileDomain\":!1,\"wgEditSubmitButtonLabelPublish\":!0,\"wgULSPosition\":\"interlanguage\",\"wgWikibaseItemId\":\"Q15729598\"};RLSTATE={\"ext.globalCssJs.user.styles\":\"ready\",\"site.styles\":\"ready\",\"noscript\":\"ready\",\"user.styles\":\"ready\",\"ext.globalCssJs.user\":\"ready\",\"user\":\"ready\",\"user.options\":\"loading\",\"ext.cite.styles\":\"ready\",\n",
              "\"skins.vector.styles.legacy\":\"ready\",\"ext.visualEditor.desktopArticleTarget.noscript\":\"ready\",\"ext.uls.interlanguage\":\"ready\",\"ext.wikimediaBadges\":\"ready\",\"wikibase.client.init\":\"ready\"};RLPAGEMODULES=[\"ext.cite.ux-enhancements\",\"site\",\"mediawiki.page.ready\",\"mediawiki.toc\",\"skins.vector.legacy.js\",\"ext.gadget.ReferenceTooltips\",\"ext.gadget.charinsert\",\"ext.gadget.extra-toolbar-buttons\",\"ext.gadget.refToolbar\",\"ext.gadget.switcher\",\"ext.centralauth.centralautologin\",\"mmv.head\",\"mmv.bootstrap.autostart\",\"ext.popups\",\"ext.visualEditor.desktopArticleTarget.init\",\"ext.visualEditor.targetLoader\",\"ext.eventLogging\",\"ext.wikimediaEvents\",\"ext.navigationTiming\",\"ext.uls.compactlinks\",\"ext.uls.interface\",\"ext.cx.eventlogging.campaigns\",\"ext.centralNotice.geoIP\",\"ext.centralNotice.startUp\"];</script>\n",
              "<script>(RLQ=window.RLQ||[]).push(function(){mw.loader.implement(\"user.options@1hzgi\",function($,jQuery,require,module){/*@nomin*/mw.user.tokens.set({\"patrolToken\":\"+\\\\\",\"watchToken\":\"+\\\\\",\"csrfToken\":\"+\\\\\"});\n",
              "});});</script>\n",
              "<link href=\"/w/load.php?lang=en&amp;modules=ext.cite.styles%7Cext.uls.interlanguage%7Cext.visualEditor.desktopArticleTarget.noscript%7Cext.wikimediaBadges%7Cskins.vector.styles.legacy%7Cwikibase.client.init&amp;only=styles&amp;skin=vector\" rel=\"stylesheet\"/>\n",
              "<script async=\"\" src=\"/w/load.php?lang=en&amp;modules=startup&amp;only=scripts&amp;raw=1&amp;skin=vector\"></script>\n",
              "<meta content=\"\" name=\"ResourceLoaderDynamicStyles\"/>\n",
              "<link href=\"/w/load.php?lang=en&amp;modules=site.styles&amp;only=styles&amp;skin=vector\" rel=\"stylesheet\"/>\n",
              "<meta content=\"MediaWiki 1.36.0-wmf.25\" name=\"generator\"/>\n",
              "<meta content=\"origin\" name=\"referrer\"/>\n",
              "<meta content=\"origin-when-crossorigin\" name=\"referrer\"/>\n",
              "<meta content=\"origin-when-cross-origin\" name=\"referrer\"/>\n",
              "<link href=\"//upload.wikimedia.org\" rel=\"preconnect\"/>\n",
              "<link href=\"//en.m.wikipedia.org/wiki/Car_body_style\" media=\"only screen and (max-width: 720px)\" rel=\"alternate\"/>\n",
              "<link href=\"/w/index.php?title=Car_body_style&amp;action=edit\" rel=\"alternate\" title=\"Edit this page\" type=\"application/x-wiki\"/>\n",
              "<link href=\"/w/index.php?title=Car_body_style&amp;action=edit\" rel=\"edit\" title=\"Edit this page\"/>\n",
              "<link href=\"/static/apple-touch/wikipedia.png\" rel=\"apple-touch-icon\"/>\n",
              "<link href=\"/static/favicon/wikipedia.ico\" rel=\"shortcut icon\"/>\n",
              "<link href=\"/w/opensearch_desc.php\" rel=\"search\" title=\"Wikipedia (en)\" type=\"application/opensearchdescription+xml\"/>\n",
              "<link href=\"//en.wikipedia.org/w/api.php?action=rsd\" rel=\"EditURI\" type=\"application/rsd+xml\"/>\n",
              "<link href=\"//creativecommons.org/licenses/by-sa/3.0/\" rel=\"license\"/>\n",
              "<link href=\"https://en.wikipedia.org/wiki/Car_body_style\" rel=\"canonical\"/>\n",
              "<link href=\"//login.wikimedia.org\" rel=\"dns-prefetch\"/>\n",
              "<link href=\"//meta.wikimedia.org\" rel=\"dns-prefetch\"/>\n",
              "</head>\n",
              "<body class=\"mediawiki ltr sitedir-ltr mw-hide-empty-elt ns-0 ns-subject mw-editable page-Car_body_style rootpage-Car_body_style skin-vector action-view skin-vector-legacy\"><div class=\"noprint\" id=\"mw-page-base\"></div>\n",
              "<div class=\"noprint\" id=\"mw-head-base\"></div>\n",
              "<div class=\"mw-body\" id=\"content\" role=\"main\">\n",
              "<a id=\"top\"></a>\n",
              "<div class=\"mw-body-content\" id=\"siteNotice\"><!-- CentralNotice --></div>\n",
              "<div class=\"mw-indicators mw-body-content\">\n",
              "</div>\n",
              "<h1 class=\"firstHeading\" id=\"firstHeading\" lang=\"en\">Car body style</h1>\n",
              "<div class=\"mw-body-content\" id=\"bodyContent\">\n",
              "<div class=\"noprint\" id=\"siteSub\">From Wikipedia, the free encyclopedia</div>\n",
              "<div id=\"contentSub\"></div>\n",
              "<div id=\"contentSub2\"></div>\n",
              "<div id=\"jump-to-nav\"></div>\n",
              "<a class=\"mw-jump-link\" href=\"#mw-head\">Jump to navigation</a>\n",
              "<a class=\"mw-jump-link\" href=\"#searchInput\">Jump to search</a>\n",
              "<div class=\"mw-content-ltr\" dir=\"ltr\" id=\"mw-content-text\" lang=\"en\"><div class=\"mw-parser-output\"><p class=\"mw-empty-elt\">\n",
              "</p>\n",
              "<table class=\"box-More_citations_needed plainlinks metadata ambox ambox-content ambox-Refimprove\" role=\"presentation\"><tbody><tr><td class=\"mbox-image\"><div style=\"width:52px\"><a class=\"image\" href=\"/wiki/File:Question_book-new.svg\"><img alt=\"\" data-file-height=\"399\" data-file-width=\"512\" decoding=\"async\" height=\"39\" src=\"//upload.wikimedia.org/wikipedia/en/thumb/9/99/Question_book-new.svg/50px-Question_book-new.svg.png\" srcset=\"//upload.wikimedia.org/wikipedia/en/thumb/9/99/Question_book-new.svg/75px-Question_book-new.svg.png 1.5x, //upload.wikimedia.org/wikipedia/en/thumb/9/99/Question_book-new.svg/100px-Question_book-new.svg.png 2x\" width=\"50\"/></a></div></td><td class=\"mbox-text\"><div class=\"mbox-text-span\">This article <b>needs additional citations for <a href=\"/wiki/Wikipedia:Verifiability\" title=\"Wikipedia:Verifiability\">verification</a></b>.<span class=\"hide-when-compact\"> Please help <a class=\"external text\" href=\"https://en.wikipedia.org/w/index.php?title=Car_body_style&amp;action=edit\">improve this article</a> by <a href=\"/wiki/Help:Referencing_for_beginners\" title=\"Help:Referencing for beginners\">adding citations to reliable sources</a>. Unsourced material may be challenged and removed.<br/><small><span class=\"plainlinks\"><i>Find sources:</i> <a class=\"external text\" href=\"//www.google.com/search?as_eq=wikipedia&amp;q=%22Car+body+style%22\" rel=\"nofollow\">\"Car body style\"</a> – <a class=\"external text\" href=\"//www.google.com/search?tbm=nws&amp;q=%22Car+body+style%22+-wikipedia\" rel=\"nofollow\">news</a> <b>·</b> <a class=\"external text\" href=\"//www.google.com/search?&amp;q=%22Car+body+style%22+site:news.google.com/newspapers&amp;source=newspapers\" rel=\"nofollow\">newspapers</a> <b>·</b> <a class=\"external text\" href=\"//www.google.com/search?tbs=bks:1&amp;q=%22Car+body+style%22+-wikipedia\" rel=\"nofollow\">books</a> <b>·</b> <a class=\"external text\" href=\"//scholar.google.com/scholar?q=%22Car+body+style%22\" rel=\"nofollow\">scholar</a> <b>·</b> <a class=\"external text\" href=\"https://www.jstor.org/action/doBasicSearch?Query=%22Car+body+style%22&amp;acc=on&amp;wc=on\" rel=\"nofollow\">JSTOR</a></span></small></span> <small class=\"date-container\"><i>(<span class=\"date\">April 2019</span>)</i></small><small class=\"hide-when-compact\"><i> (<a href=\"/wiki/Help:Maintenance_template_removal\" title=\"Help:Maintenance template removal\">Learn how and when to remove this template message</a>)</i></small></div></td></tr></tbody></table>\n",
              "<div class=\"hatnote navigation-not-searchable\" role=\"note\">See also: <a href=\"/wiki/Car_classification\" title=\"Car classification\">Car classification</a>, <a href=\"/wiki/Truck_classification\" title=\"Truck classification\">Truck classification</a>, and <a href=\"/wiki/Vehicle_size_class\" title=\"Vehicle size class\">Vehicle size class</a></div>\n",
              "<p>Car <b>body styles</b> are variable.\n",
              "</p>\n",
              "<div aria-labelledby=\"mw-toc-heading\" class=\"toc\" id=\"toc\" role=\"navigation\"><input class=\"toctogglecheckbox\" id=\"toctogglecheckbox\" role=\"button\" style=\"display:none\" type=\"checkbox\"/><div class=\"toctitle\" dir=\"ltr\" lang=\"en\"><h2 id=\"mw-toc-heading\">Contents</h2><span class=\"toctogglespan\"><label class=\"toctogglelabel\" for=\"toctogglecheckbox\"></label></span></div>\n",
              "<ul>\n",
              "<li class=\"toclevel-1 tocsection-1\"><a href=\"#Current_styles\"><span class=\"tocnumber\">1</span> <span class=\"toctext\">Current styles</span></a></li>\n",
              "<li class=\"toclevel-1 tocsection-2\"><a href=\"#Historic_styles\"><span class=\"tocnumber\">2</span> <span class=\"toctext\">Historic styles</span></a></li>\n",
              "<li class=\"toclevel-1 tocsection-3\"><a href=\"#See_also\"><span class=\"tocnumber\">3</span> <span class=\"toctext\">See also</span></a></li>\n",
              "<li class=\"toclevel-1 tocsection-4\"><a href=\"#References\"><span class=\"tocnumber\">4</span> <span class=\"toctext\">References</span></a></li>\n",
              "</ul>\n",
              "</div>\n",
              "<h2><span class=\"mw-headline\" id=\"Current_styles\">Current styles</span><span class=\"mw-editsection\"><span class=\"mw-editsection-bracket\">[</span><a href=\"/w/index.php?title=Car_body_style&amp;action=edit&amp;section=1\" title=\"Edit section: Current styles\">edit</a><span class=\"mw-editsection-bracket\">]</span></span></h2>\n",
              "<dl><dt><a href=\"/wiki/Buggy_(automobile)\" title=\"Buggy (automobile)\">Buggy</a></dt>\n",
              "<dd>Lightweight off-road vehicle with sparse bodywork.</dd></dl>\n",
              "<dl><dt><a href=\"/wiki/Convertible\" title=\"Convertible\">Convertible</a> / cabriolet</dt>\n",
              "<dd></dd></dl>\n",
              "<div class=\"thumb tright\"><div class=\"thumbinner\" style=\"width:152px;\"><a class=\"image\" href=\"/wiki/File:2015_Mazda_MX-5_(ND)_Roadster_GT_convertible_(2018-10-30)_01.jpg\"><img alt=\"\" class=\"thumbimage\" data-file-height=\"2401\" data-file-width=\"4311\" decoding=\"async\" height=\"84\" src=\"//upload.wikimedia.org/wikipedia/commons/thumb/2/23/2015_Mazda_MX-5_%28ND%29_Roadster_GT_convertible_%282018-10-30%29_01.jpg/150px-2015_Mazda_MX-5_%28ND%29_Roadster_GT_convertible_%282018-10-30%29_01.jpg\" srcset=\"//upload.wikimedia.org/wikipedia/commons/thumb/2/23/2015_Mazda_MX-5_%28ND%29_Roadster_GT_convertible_%282018-10-30%29_01.jpg/225px-2015_Mazda_MX-5_%28ND%29_Roadster_GT_convertible_%282018-10-30%29_01.jpg 1.5x, //upload.wikimedia.org/wikipedia/commons/thumb/2/23/2015_Mazda_MX-5_%28ND%29_Roadster_GT_convertible_%282018-10-30%29_01.jpg/300px-2015_Mazda_MX-5_%28ND%29_Roadster_GT_convertible_%282018-10-30%29_01.jpg 2x\" width=\"150\"/></a> <div class=\"thumbcaption\"><div class=\"magnify\"><a class=\"internal\" href=\"/wiki/File:2015_Mazda_MX-5_(ND)_Roadster_GT_convertible_(2018-10-30)_01.jpg\" title=\"Enlarge\"></a></div><a href=\"/wiki/Mazda_MX-5\" title=\"Mazda MX-5\">Mazda MX-5</a></div></div></div>\n",
              "<dl><dd>Has a retractable or removeable roof. A convertible allows an open-air driving experience, with the ability to provide a roof when required. Most convertible roofs are either a folding textile soft-top or a retractable metal roof. Convertibles with a metal roof are sometimes called 'retractable hardtop', 'coupé convertible' or 'coupé cabriolet'.<div style=\"clear:right;\"></div></dd></dl>\n",
              "<dl><dt><a href=\"/wiki/Coup%C3%A9\" title=\"Coupé\">Coupé</a></dt>\n",
              "<dd>Has a sloping rear roofline and generally two doors (although several four-door cars have also been marketed as coupés). Coupés are generally considered more sporty than their sedan counterparts.</dd></dl>\n",
              "<dl><dt><a href=\"/wiki/Flower_car\" title=\"Flower car\">Flower car</a></dt></dl>\n",
              "<div class=\"thumb tright\"><div class=\"thumbinner\" style=\"width:152px;\"><a class=\"image\" href=\"/wiki/File:Cadillac_Flower_car.jpg\"><img alt=\"\" class=\"thumbimage\" data-file-height=\"768\" data-file-width=\"1024\" decoding=\"async\" height=\"113\" src=\"//upload.wikimedia.org/wikipedia/commons/thumb/c/c4/Cadillac_Flower_car.jpg/150px-Cadillac_Flower_car.jpg\" srcset=\"//upload.wikimedia.org/wikipedia/commons/thumb/c/c4/Cadillac_Flower_car.jpg/225px-Cadillac_Flower_car.jpg 1.5x, //upload.wikimedia.org/wikipedia/commons/thumb/c/c4/Cadillac_Flower_car.jpg/300px-Cadillac_Flower_car.jpg 2x\" width=\"150\"/></a> <div class=\"thumbcaption\"><div class=\"magnify\"><a class=\"internal\" href=\"/wiki/File:Cadillac_Flower_car.jpg\" title=\"Enlarge\"></a></div><a href=\"/wiki/Flower_car\" title=\"Flower car\">Cadillac Flower car</a></div></div></div>\n",
              "<dl><dd>In US used in the funeral industry to carry flowers for burial services. Typically a coupe-style, forward-passenger compartment with an open well in the rear.<sup class=\"reference\" id=\"cite_ref-1\"><a href=\"#cite_note-1\">[1]</a></sup></dd></dl>\n",
              "<dl><dt><a href=\"/wiki/Hatchback\" title=\"Hatchback\">Hatchback</a> / Liftback</dt></dl>\n",
              "<div class=\"thumb tright\"><div class=\"thumbinner\" style=\"width:152px;\"><a class=\"image\" href=\"/wiki/File:Renault_Clio_Expression_(IV)_%E2%80%93_Heckansicht,_17._M%C3%A4rz_2013,_Ratingen.jpg\"><img alt=\"\" class=\"thumbimage\" data-file-height=\"1919\" data-file-width=\"3351\" decoding=\"async\" height=\"86\" src=\"//upload.wikimedia.org/wikipedia/commons/thumb/6/69/Renault_Clio_Expression_%28IV%29_%E2%80%93_Heckansicht%2C_17._M%C3%A4rz_2013%2C_Ratingen.jpg/150px-Renault_Clio_Expression_%28IV%29_%E2%80%93_Heckansicht%2C_17._M%C3%A4rz_2013%2C_Ratingen.jpg\" srcset=\"//upload.wikimedia.org/wikipedia/commons/thumb/6/69/Renault_Clio_Expression_%28IV%29_%E2%80%93_Heckansicht%2C_17._M%C3%A4rz_2013%2C_Ratingen.jpg/225px-Renault_Clio_Expression_%28IV%29_%E2%80%93_Heckansicht%2C_17._M%C3%A4rz_2013%2C_Ratingen.jpg 1.5x, //upload.wikimedia.org/wikipedia/commons/thumb/6/69/Renault_Clio_Expression_%28IV%29_%E2%80%93_Heckansicht%2C_17._M%C3%A4rz_2013%2C_Ratingen.jpg/300px-Renault_Clio_Expression_%28IV%29_%E2%80%93_Heckansicht%2C_17._M%C3%A4rz_2013%2C_Ratingen.jpg 2x\" width=\"150\"/></a> <div class=\"thumbcaption\"><div class=\"magnify\"><a class=\"internal\" href=\"/wiki/File:Renault_Clio_Expression_(IV)_%E2%80%93_Heckansicht,_17._M%C3%A4rz_2013,_Ratingen.jpg\" title=\"Enlarge\"></a></div><a href=\"/wiki/Renault_Clio\" title=\"Renault Clio\">Renault Clio</a></div></div></div>\n",
              "<dl><dd>Car with a hatch-type rear door that is hinged at the roof and opens upwards. The term \"hatchback\" can also refer to that type of rear door, which is also used on several sports cars, SUVs and large luxury cars.<sup class=\"reference\" id=\"cite_ref-Hilliers_2-0\"><a href=\"#cite_note-Hilliers-2\">[2]</a></sup></dd></dl>\n",
              "<dl><dt><a href=\"/wiki/Hearse\" title=\"Hearse\">Hearse</a> / funeral coach</dt>\n",
              "<dd></dd></dl>\n",
              "<div class=\"thumb tright\"><div class=\"thumbinner\" style=\"width:152px;\"><a class=\"image\" href=\"/wiki/File:Reagan_hearse.jpg\"><img alt=\"\" class=\"thumbimage\" data-file-height=\"332\" data-file-width=\"500\" decoding=\"async\" height=\"100\" src=\"//upload.wikimedia.org/wikipedia/commons/thumb/b/b5/Reagan_hearse.jpg/150px-Reagan_hearse.jpg\" srcset=\"//upload.wikimedia.org/wikipedia/commons/thumb/b/b5/Reagan_hearse.jpg/225px-Reagan_hearse.jpg 1.5x, //upload.wikimedia.org/wikipedia/commons/thumb/b/b5/Reagan_hearse.jpg/300px-Reagan_hearse.jpg 2x\" width=\"150\"/></a> <div class=\"thumbcaption\"><div class=\"magnify\"><a class=\"internal\" href=\"/wiki/File:Reagan_hearse.jpg\" title=\"Enlarge\"></a></div><a href=\"/wiki/Hearse\" title=\"Hearse\">Cadillac Hearse</a></div></div></div>\n",
              "<dl><dd>The modification of a passenger car to provide a long cargo area for carrying a coffin or casket. Hearses often have large glass panels for viewing the coffin.</dd></dl>\n",
              "<dl><dt>Kombi</dt>\n",
              "<dd><div class=\"thumb tright\"><div class=\"thumbinner\" style=\"width:152px;\"><a class=\"image\" href=\"/wiki/File:VW_T6_Multivan_Generation_Six_2.0_TDI.JPG\"><img alt=\"\" class=\"thumbimage\" data-file-height=\"1794\" data-file-width=\"2690\" decoding=\"async\" height=\"100\" src=\"//upload.wikimedia.org/wikipedia/commons/thumb/4/4d/VW_T6_Multivan_Generation_Six_2.0_TDI.JPG/150px-VW_T6_Multivan_Generation_Six_2.0_TDI.JPG\" srcset=\"//upload.wikimedia.org/wikipedia/commons/thumb/4/4d/VW_T6_Multivan_Generation_Six_2.0_TDI.JPG/225px-VW_T6_Multivan_Generation_Six_2.0_TDI.JPG 1.5x, //upload.wikimedia.org/wikipedia/commons/thumb/4/4d/VW_T6_Multivan_Generation_Six_2.0_TDI.JPG/300px-VW_T6_Multivan_Generation_Six_2.0_TDI.JPG 2x\" width=\"150\"/></a> <div class=\"thumbcaption\"><div class=\"magnify\"><a class=\"internal\" href=\"/wiki/File:VW_T6_Multivan_Generation_Six_2.0_TDI.JPG\" title=\"Enlarge\"></a></div><a href=\"/wiki/Volkswagen_Type_2\" title=\"Volkswagen Type 2\">Modern Volkswagen Type 2</a></div></div></div></dd>\n",
              "<dd>An abbreviation of the German word \"Kombinationswagen\" (combination car), the German name for <a href=\"/wiki/Station_wagon\" title=\"Station wagon\">station wagon</a> or <a href=\"/wiki/Van\" title=\"Van\">van</a>. However, in some countries, Kombi is used to refer to a <a class=\"mw-redirect\" href=\"/wiki/VW_Type_2\" title=\"VW Type 2\">Volkswagen Type 2 (Microbus)</a>.</dd></dl>\n",
              "<dl><dt><a href=\"/wiki/Limousine\" title=\"Limousine\">Limousine</a></dt>\n",
              "<dd><div class=\"thumb tright\"><div class=\"thumbinner\" style=\"width:152px;\"><a class=\"image\" href=\"/wiki/File:98-02_Lincoln_Town_Car_limousine.jpg\"><img alt=\"\" class=\"thumbimage\" data-file-height=\"740\" data-file-width=\"1724\" decoding=\"async\" height=\"64\" src=\"//upload.wikimedia.org/wikipedia/commons/thumb/9/9b/98-02_Lincoln_Town_Car_limousine.jpg/150px-98-02_Lincoln_Town_Car_limousine.jpg\" srcset=\"//upload.wikimedia.org/wikipedia/commons/thumb/9/9b/98-02_Lincoln_Town_Car_limousine.jpg/225px-98-02_Lincoln_Town_Car_limousine.jpg 1.5x, //upload.wikimedia.org/wikipedia/commons/thumb/9/9b/98-02_Lincoln_Town_Car_limousine.jpg/300px-98-02_Lincoln_Town_Car_limousine.jpg 2x\" width=\"150\"/></a> <div class=\"thumbcaption\"><div class=\"magnify\"><a class=\"internal\" href=\"/wiki/File:98-02_Lincoln_Town_Car_limousine.jpg\" title=\"Enlarge\"></a></div><a href=\"/wiki/Limousine\" title=\"Limousine\">Lincoln Limousine</a></div></div></div></dd>\n",
              "<dd>A luxury vehicle driven by a chauffeur with a partition between the driver's compartment and the passenger's compartment. In German, the term simply means a sedan.</dd></dl>\n",
              "<dl><dt><a href=\"/wiki/Microvan\" title=\"Microvan\">Microvan</a></dt>\n",
              "<dd><div class=\"thumb tright\"><div class=\"thumbinner\" style=\"width:152px;\"><a class=\"image\" href=\"/wiki/File:Hijet-cargo.jpg\"><img alt=\"\" class=\"thumbimage\" data-file-height=\"464\" data-file-width=\"742\" decoding=\"async\" height=\"94\" src=\"//upload.wikimedia.org/wikipedia/commons/thumb/e/e5/Hijet-cargo.jpg/150px-Hijet-cargo.jpg\" srcset=\"//upload.wikimedia.org/wikipedia/commons/thumb/e/e5/Hijet-cargo.jpg/225px-Hijet-cargo.jpg 1.5x, //upload.wikimedia.org/wikipedia/commons/thumb/e/e5/Hijet-cargo.jpg/300px-Hijet-cargo.jpg 2x\" width=\"150\"/></a> <div class=\"thumbcaption\"><div class=\"magnify\"><a class=\"internal\" href=\"/wiki/File:Hijet-cargo.jpg\" title=\"Enlarge\"></a></div><a href=\"/wiki/Daihatsu_Hijet\" title=\"Daihatsu Hijet\">Daihatsu Hijet</a></div></div></div></dd></dl>\n",
              "<p>The smallest size of minivan/MPV.\n",
              "</p>\n",
              "<dl><dt><a href=\"/wiki/Minivan\" title=\"Minivan\">Minivan</a> / multi-purpose vehicle (MPV) / people carrier / people mover</dt>\n",
              "<dd></dd></dl>\n",
              "<div class=\"thumb tright\"><div class=\"thumbinner\" style=\"width:152px;\"><a class=\"image\" href=\"/wiki/File:Toyota_Sienna_XL30_China_2012-06-16.jpg\"><img alt=\"\" class=\"thumbimage\" data-file-height=\"861\" data-file-width=\"1300\" decoding=\"async\" height=\"99\" src=\"//upload.wikimedia.org/wikipedia/commons/thumb/4/40/Toyota_Sienna_XL30_China_2012-06-16.jpg/150px-Toyota_Sienna_XL30_China_2012-06-16.jpg\" srcset=\"//upload.wikimedia.org/wikipedia/commons/thumb/4/40/Toyota_Sienna_XL30_China_2012-06-16.jpg/225px-Toyota_Sienna_XL30_China_2012-06-16.jpg 1.5x, //upload.wikimedia.org/wikipedia/commons/thumb/4/40/Toyota_Sienna_XL30_China_2012-06-16.jpg/300px-Toyota_Sienna_XL30_China_2012-06-16.jpg 2x\" width=\"150\"/></a> <div class=\"thumbcaption\"><div class=\"magnify\"><a class=\"internal\" href=\"/wiki/File:Toyota_Sienna_XL30_China_2012-06-16.jpg\" title=\"Enlarge\"></a></div><a href=\"/wiki/Toyota_Sienna\" title=\"Toyota Sienna\">Toyota Sienna</a></div></div></div>\n",
              "<dl><dd>Vehicle designed to transport passengers in the rear seating row(s) with reconfigurable seats in two or three rows. Typically has a combined passenger and cargo area, a high roof, a flat floor, a sliding door for rear passengers and high H-point seating. In Europe, some small minivans have been marketed as 'leisure activity vehicles'.</dd></dl>\n",
              "<dl><dt><a href=\"/wiki/Panel_van\" title=\"Panel van\">Panel van</a> / car-derived van / sedan delivery</dt>\n",
              "<dd></dd>\n",
              "<dd>A cargo vehicle based upon passenger car chassis, and typically has one row of seats with no side windows at the rear. Panel vans are smaller than panel trucks and cargo vans, both of which are built on a truck chassis.</dd></dl>\n",
              "<dl><dt><a href=\"/wiki/Panel_truck\" title=\"Panel truck\">Panel truck</a></dt>\n",
              "<dd></dd></dl>\n",
              "<div class=\"thumb tright\"><div class=\"thumbinner\" style=\"width:152px;\"><a class=\"image\" href=\"/wiki/File:Rot_daeng_Chiang_Mai_5.jpg\"><img alt=\"\" class=\"thumbimage\" data-file-height=\"2112\" data-file-width=\"2816\" decoding=\"async\" height=\"113\" src=\"//upload.wikimedia.org/wikipedia/commons/thumb/4/44/Rot_daeng_Chiang_Mai_5.jpg/150px-Rot_daeng_Chiang_Mai_5.jpg\" srcset=\"//upload.wikimedia.org/wikipedia/commons/thumb/4/44/Rot_daeng_Chiang_Mai_5.jpg/225px-Rot_daeng_Chiang_Mai_5.jpg 1.5x, //upload.wikimedia.org/wikipedia/commons/thumb/4/44/Rot_daeng_Chiang_Mai_5.jpg/300px-Rot_daeng_Chiang_Mai_5.jpg 2x\" width=\"150\"/></a> <div class=\"thumbcaption\"><div class=\"magnify\"><a class=\"internal\" href=\"/wiki/File:Rot_daeng_Chiang_Mai_5.jpg\" title=\"Enlarge\"></a></div><a href=\"/wiki/Volkswagen_Taro\" title=\"Volkswagen Taro\">Volkswagen Taro</a> <a href=\"/wiki/Panel_truck\" title=\"Panel truck\">panel truck</a></div></div></div>\n",
              "<dl><dd>A <a href=\"/wiki/Pickup_truck\" title=\"Pickup truck\">pickup truck</a> that has a fully enclosed <a href=\"/wiki/Camper_shell\" title=\"Camper shell\">truck topper</a> in its back, giving it a <a href=\"/wiki/Van\" title=\"Van\">van</a>-like appearance.</dd></dl>\n",
              "<dl><dt><a href=\"/wiki/Pickup_truck\" title=\"Pickup truck\">Pickup truck</a> / pickup</dt>\n",
              "<dd><div class=\"thumb tright\"><div class=\"thumbinner\" style=\"width:152px;\"><a class=\"image\" href=\"/wiki/File:2015_Greater_Valdosta_Community_Christmas_Parade_032.JPG\"><img alt=\"\" class=\"thumbimage\" data-file-height=\"3864\" data-file-width=\"5152\" decoding=\"async\" height=\"113\" src=\"//upload.wikimedia.org/wikipedia/commons/thumb/0/0a/2015_Greater_Valdosta_Community_Christmas_Parade_032.JPG/150px-2015_Greater_Valdosta_Community_Christmas_Parade_032.JPG\" srcset=\"//upload.wikimedia.org/wikipedia/commons/thumb/0/0a/2015_Greater_Valdosta_Community_Christmas_Parade_032.JPG/225px-2015_Greater_Valdosta_Community_Christmas_Parade_032.JPG 1.5x, //upload.wikimedia.org/wikipedia/commons/thumb/0/0a/2015_Greater_Valdosta_Community_Christmas_Parade_032.JPG/300px-2015_Greater_Valdosta_Community_Christmas_Parade_032.JPG 2x\" width=\"150\"/></a> <div class=\"thumbcaption\"><div class=\"magnify\"><a class=\"internal\" href=\"/wiki/File:2015_Greater_Valdosta_Community_Christmas_Parade_032.JPG\" title=\"Enlarge\"></a></div><a href=\"/wiki/Chevrolet_Silverado\" title=\"Chevrolet Silverado\">Chevrolet Silverado</a></div></div></div></dd>\n",
              "<dd>A light-duty, open-bed truck. In South Africa, a pickup truck is called a \"bakkie\".<sup class=\"reference\" id=\"cite_ref-3\"><a href=\"#cite_note-3\">[3]</a></sup></dd></dl>\n",
              "<dl><dt><a href=\"/wiki/Roadster_(automobile)\" title=\"Roadster (automobile)\">Roadster</a></dt>\n",
              "<dd><div class=\"thumb tright\"><div class=\"thumbinner\" style=\"width:152px;\"><a class=\"image\" href=\"/wiki/File:BMW_Z3_1.9L_1998.jpg\"><img alt=\"\" class=\"thumbimage\" data-file-height=\"533\" data-file-width=\"800\" decoding=\"async\" height=\"100\" src=\"//upload.wikimedia.org/wikipedia/commons/thumb/2/2e/BMW_Z3_1.9L_1998.jpg/150px-BMW_Z3_1.9L_1998.jpg\" srcset=\"//upload.wikimedia.org/wikipedia/commons/thumb/2/2e/BMW_Z3_1.9L_1998.jpg/225px-BMW_Z3_1.9L_1998.jpg 1.5x, //upload.wikimedia.org/wikipedia/commons/thumb/2/2e/BMW_Z3_1.9L_1998.jpg/300px-BMW_Z3_1.9L_1998.jpg 2x\" width=\"150\"/></a> <div class=\"thumbcaption\"><div class=\"magnify\"><a class=\"internal\" href=\"/wiki/File:BMW_Z3_1.9L_1998.jpg\" title=\"Enlarge\"></a></div><a href=\"/wiki/BMW_Z3\" title=\"BMW Z3\">BMW Z3</a></div></div></div></dd>\n",
              "<dd>An open two-seat car with emphasis on sporting appearance or character. Initially an American term for a two-seat car with no weather protection, usage has spread internationally and has evolved to include two-seat convertibles.</dd></dl>\n",
              "<dl><dt><a class=\"mw-redirect\" href=\"/wiki/Sedan_(car)\" title=\"Sedan (car)\">Sedan</a> / saloon</dt></dl>\n",
              "<div class=\"thumb tright\"><div class=\"thumbinner\" style=\"width:152px;\"><a class=\"image\" href=\"/wiki/File:2018_Toyota_Camry_(ASV70R)_Ascent_sedan_(2018-08-27)_01.jpg\"><img alt=\"\" class=\"thumbimage\" data-file-height=\"1865\" data-file-width=\"4284\" decoding=\"async\" height=\"65\" src=\"//upload.wikimedia.org/wikipedia/commons/thumb/a/ac/2018_Toyota_Camry_%28ASV70R%29_Ascent_sedan_%282018-08-27%29_01.jpg/150px-2018_Toyota_Camry_%28ASV70R%29_Ascent_sedan_%282018-08-27%29_01.jpg\" srcset=\"//upload.wikimedia.org/wikipedia/commons/thumb/a/ac/2018_Toyota_Camry_%28ASV70R%29_Ascent_sedan_%282018-08-27%29_01.jpg/225px-2018_Toyota_Camry_%28ASV70R%29_Ascent_sedan_%282018-08-27%29_01.jpg 1.5x, //upload.wikimedia.org/wikipedia/commons/thumb/a/ac/2018_Toyota_Camry_%28ASV70R%29_Ascent_sedan_%282018-08-27%29_01.jpg/300px-2018_Toyota_Camry_%28ASV70R%29_Ascent_sedan_%282018-08-27%29_01.jpg 2x\" width=\"150\"/></a> <div class=\"thumbcaption\"><div class=\"magnify\"><a class=\"internal\" href=\"/wiki/File:2018_Toyota_Camry_(ASV70R)_Ascent_sedan_(2018-08-27)_01.jpg\" title=\"Enlarge\"></a></div><a href=\"/wiki/Toyota_Camry\" title=\"Toyota Camry\">Toyota Camry</a></div></div></div>\n",
              "<dl><dd>A fixed-roof car in a <a href=\"/wiki/Car_body_configurations#Three-box_design\" title=\"Car body configurations\">three-box design</a> with separate compartments for engine, passenger, and cargo. Sedans can have 2 or 4-doors. A sedan is called a \"berlina\" in Spanish and Italian, or a \"berline\" in French.</dd></dl>\n",
              "<dl><dt><a href=\"/wiki/Shooting-brake\" title=\"Shooting-brake\">Shooting-brake</a></dt>\n",
              "<dd><div class=\"thumb tright\"><div class=\"thumbinner\" style=\"width:152px;\"><a class=\"image\" href=\"/wiki/File:Ferrari_FF_(7376931930)_(cropped).jpg\"><img alt=\"\" class=\"thumbimage\" data-file-height=\"624\" data-file-width=\"1238\" decoding=\"async\" height=\"76\" src=\"//upload.wikimedia.org/wikipedia/commons/thumb/c/c1/Ferrari_FF_%287376931930%29_%28cropped%29.jpg/150px-Ferrari_FF_%287376931930%29_%28cropped%29.jpg\" srcset=\"//upload.wikimedia.org/wikipedia/commons/thumb/c/c1/Ferrari_FF_%287376931930%29_%28cropped%29.jpg/225px-Ferrari_FF_%287376931930%29_%28cropped%29.jpg 1.5x, //upload.wikimedia.org/wikipedia/commons/thumb/c/c1/Ferrari_FF_%287376931930%29_%28cropped%29.jpg/300px-Ferrari_FF_%287376931930%29_%28cropped%29.jpg 2x\" width=\"150\"/></a> <div class=\"thumbcaption\"><div class=\"magnify\"><a class=\"internal\" href=\"/wiki/File:Ferrari_FF_(7376931930)_(cropped).jpg\" title=\"Enlarge\"></a></div><a href=\"/wiki/Ferrari_FF\" title=\"Ferrari FF\">Ferrari FF</a></div></div></div></dd>\n",
              "<dd>Initially a vehicle used to carry shooting parties with their equipment and <a class=\"mw-redirect\" href=\"/wiki/Game_(food)\" title=\"Game (food)\">game</a>; later used to describe custom-built wagons by high-end coachbuilders, subsequently synonymous with <a href=\"/wiki/Station_wagon\" title=\"Station wagon\">station wagon</a> / estate car; and in contemporary usage a three or five-door wagons combining features of a <a href=\"/wiki/Station_wagon\" title=\"Station wagon\">station wagon</a> and a <a href=\"/wiki/Coup%C3%A9\" title=\"Coupé\">coupé</a>.</dd></dl>\n",
              "<dl><dt><a href=\"/wiki/Station_wagon\" title=\"Station wagon\">Station wagon</a> / estate car</dt></dl>\n",
              "<div class=\"thumb tright\"><div class=\"thumbinner\" style=\"width:152px;\"><a class=\"image\" href=\"/wiki/File:Buick_Roadmaster_wagon.jpg\"><img alt=\"\" class=\"thumbimage\" data-file-height=\"1405\" data-file-width=\"2564\" decoding=\"async\" height=\"82\" src=\"//upload.wikimedia.org/wikipedia/commons/thumb/c/ca/Buick_Roadmaster_wagon.jpg/150px-Buick_Roadmaster_wagon.jpg\" srcset=\"//upload.wikimedia.org/wikipedia/commons/thumb/c/ca/Buick_Roadmaster_wagon.jpg/225px-Buick_Roadmaster_wagon.jpg 1.5x, //upload.wikimedia.org/wikipedia/commons/thumb/c/ca/Buick_Roadmaster_wagon.jpg/300px-Buick_Roadmaster_wagon.jpg 2x\" width=\"150\"/></a> <div class=\"thumbcaption\"><div class=\"magnify\"><a class=\"internal\" href=\"/wiki/File:Buick_Roadmaster_wagon.jpg\" title=\"Enlarge\"></a></div><a href=\"/wiki/Buick_Roadmaster\" title=\"Buick Roadmaster\">Buick Roadmaster</a></div></div></div>\n",
              "<dl><dd>Has a <a href=\"/wiki/Car_body_configurations#Two-box_design\" title=\"Car body configurations\">two-box design</a>, a large cargo area and a rear tailgate that is hinged to open for access to the cargo area. The body style is similar to a <a href=\"/wiki/Hatchback\" title=\"Hatchback\">hatchback car</a>, however station wagons are longer and are more likely to have the roofline extended to the rear of the car<sup class=\"reference\" id=\"cite_ref-Hilliers_2-1\"><a href=\"#cite_note-Hilliers-2\">[2]</a></sup> (resulting in a vertical rear surface to the car) to maximize the cargo space. In French, a station wagon is called a \"<a href=\"/wiki/Brake_(carriage)\" title=\"Brake (carriage)\">break</a>\".</dd></dl>\n",
              "<dl><dd>Examples of station wagons:\n",
              "<ul><li><a href=\"/wiki/Mazda6\" title=\"Mazda6\">Mazda6 Sport Wagon</a></li>\n",
              "<li><a href=\"/wiki/Jaguar_XF_(X250)#XF_Sportbrake_(2012–2015)\" title=\"Jaguar XF (X250)\">Jaguar XF Sportbrake</a></li>\n",
              "<li><a href=\"/wiki/Cadillac_CTS#Sport_Wagon\" title=\"Cadillac CTS\">Cadillac CTS Sport Wagon</a></li></ul></dd></dl>\n",
              "<dl><dt><a href=\"/wiki/Targa_top\" title=\"Targa top\">Targa top</a></dt>\n",
              "<dd><div class=\"thumb tright\"><div class=\"thumbinner\" style=\"width:152px;\"><a class=\"image\" href=\"/wiki/File:12-01-03-autostadtl-by-RalfR-75.jpg\"><img alt=\"\" class=\"thumbimage\" data-file-height=\"2848\" data-file-width=\"4288\" decoding=\"async\" height=\"100\" src=\"//upload.wikimedia.org/wikipedia/commons/thumb/2/23/12-01-03-autostadtl-by-RalfR-75.jpg/150px-12-01-03-autostadtl-by-RalfR-75.jpg\" srcset=\"//upload.wikimedia.org/wikipedia/commons/thumb/2/23/12-01-03-autostadtl-by-RalfR-75.jpg/225px-12-01-03-autostadtl-by-RalfR-75.jpg 1.5x, //upload.wikimedia.org/wikipedia/commons/thumb/2/23/12-01-03-autostadtl-by-RalfR-75.jpg/300px-12-01-03-autostadtl-by-RalfR-75.jpg 2x\" width=\"150\"/></a> <div class=\"thumbcaption\"><div class=\"magnify\"><a class=\"internal\" href=\"/wiki/File:12-01-03-autostadtl-by-RalfR-75.jpg\" title=\"Enlarge\"></a></div><a href=\"/wiki/Porsche_911\" title=\"Porsche 911\">Porsche 911</a></div></div></div></dd>\n",
              "<dd>A semi-convertible style used on some sports cars, featuring a fully removable hard top roof panel which leaves the A and B <a href=\"/wiki/Pillar_(car)\" title=\"Pillar (car)\">pillars</a> in place on the car body.</dd></dl>\n",
              "<dl><dt><a href=\"/wiki/Ute_(vehicle)\" title=\"Ute (vehicle)\">Ute</a> / <a class=\"mw-redirect\" href=\"/wiki/Coupe_utility\" title=\"Coupe utility\">coupe utility</a></dt>\n",
              "<dd><div class=\"thumb tright\"><div class=\"thumbinner\" style=\"width:152px;\"><a class=\"image\" href=\"/wiki/File:2014_Holden_Ute_(VF_MY14)_SV6_utility_(2018-10-01)_01.jpg\"><img alt=\"\" class=\"thumbimage\" data-file-height=\"2329\" data-file-width=\"4459\" decoding=\"async\" height=\"78\" src=\"//upload.wikimedia.org/wikipedia/commons/thumb/5/54/2014_Holden_Ute_%28VF_MY14%29_SV6_utility_%282018-10-01%29_01.jpg/150px-2014_Holden_Ute_%28VF_MY14%29_SV6_utility_%282018-10-01%29_01.jpg\" srcset=\"//upload.wikimedia.org/wikipedia/commons/thumb/5/54/2014_Holden_Ute_%28VF_MY14%29_SV6_utility_%282018-10-01%29_01.jpg/225px-2014_Holden_Ute_%28VF_MY14%29_SV6_utility_%282018-10-01%29_01.jpg 1.5x, //upload.wikimedia.org/wikipedia/commons/thumb/5/54/2014_Holden_Ute_%28VF_MY14%29_SV6_utility_%282018-10-01%29_01.jpg/300px-2014_Holden_Ute_%28VF_MY14%29_SV6_utility_%282018-10-01%29_01.jpg 2x\" width=\"150\"/></a> <div class=\"thumbcaption\"><div class=\"magnify\"><a class=\"internal\" href=\"/wiki/File:2014_Holden_Ute_(VF_MY14)_SV6_utility_(2018-10-01)_01.jpg\" title=\"Enlarge\"></a></div><a href=\"/wiki/Holden_Commodore_(VF)\" title=\"Holden Commodore (VF)\">Holden Commodore (VF)</a></div></div></div></dd>\n",
              "<dd>Based on a passenger sedan chassis and has a cargo tray in the rear integrated with the passenger body (as opposed to a <a href=\"/wiki/Pickup_truck\" title=\"Pickup truck\">pickup truck</a>, which has a separate cargo tray). In Australia, the term \"ute\" was originally used solely for coupe utility cars, however in recent years it has also been used for pickup trucks.</dd></dl>\n",
              "<h2><span class=\"mw-headline\" id=\"Historic_styles\">Historic styles</span><span class=\"mw-editsection\"><span class=\"mw-editsection-bracket\">[</span><a href=\"/w/index.php?title=Car_body_style&amp;action=edit&amp;section=2\" title=\"Edit section: Historic styles\">edit</a><span class=\"mw-editsection-bracket\">]</span></span></h2>\n",
              "<dl><dt><a class=\"mw-redirect\" href=\"/wiki/Baquet_(car_body_style)\" title=\"Baquet (car body style)\">Baquet</a></dt>\n",
              "<dd>Has two rows of raised seats, similar to horse-dawn carriages; usually did not have front doors, a roof or a windshield. The baquet (\"bath tub\") style was produced in the early 1900s in Europe.<sup class=\"reference\" id=\"cite_ref-4\"><a href=\"#cite_note-4\">[4]</a></sup></dd></dl>\n",
              "<p>Also a marketing term used on cars built in the United States in the 1920s and 1930s.\n",
              "</p>\n",
              "<dl><dt><a href=\"/wiki/Barchetta\" title=\"Barchetta\">Barchetta</a></dt>\n",
              "<dd>Italian two-seat sports car with either an open top or convertible roof. The term was originally used for lightweight open-top racing cars of the late 1940s through the 1950s. Since the 1950s, the name barchetta (\"little boat\" in Italian) has been revived on several occasions, mostly for cars with convertible roofs that are not specifically intended for racing.</dd></dl>\n",
              "<dl><dt><a href=\"/wiki/Berlinetta\" title=\"Berlinetta\">Berlinetta</a></dt>\n",
              "<dd>Italian sports coupé, typically with two seats but also including 2+2 cars. The original meaning for berlinetta in Italian is “little saloon”.</dd></dl>\n",
              "<dl><dt><a href=\"/wiki/Cabrio_coach\" title=\"Cabrio coach\">Cabrio coach</a></dt>\n",
              "<dd>A retractable textile roof, similar to a convertible/cabriolet. The difference is that where a convertible often has the B-pillar, C-pillar and other bodywork removed, the cabrio-coach retains all bodywork to the top of the door frames and just replaces the roof skin with a retractable fabric panel.</dd></dl>\n",
              "<dl><dt><a class=\"mw-redirect\" href=\"/wiki/Coup%C3%A9_de_ville\" title=\"Coupé de ville\">Coupé de ville</a> <b>/ Sedanca de ville / town car</b></dt>\n",
              "<dd>An external or open-topped driver's position and an enclosed compartment for passengers. Produced from 1908 to 1939. Although the different terms may have once had specific meanings for certain car manufacturers or countries, the terms are often used interchangeably.</dd></dl>\n",
              "<p>Some coupé de villes have the passengers separated from the driver in a fully enclosed compartment, while others have a canopy for the passengers and no partition between the driver and the passengers (therefore passengers enter the compartment via driver's area).\n",
              "</p>\n",
              "<dl><dt><a href=\"/wiki/Hardtop\" title=\"Hardtop\">Hardtop</a></dt>\n",
              "<dd>Any car with a rigid roof. However, the term is usually used for pillarless hardtops, which are cars without a <a class=\"mw-redirect\" href=\"/wiki/B-pillar\" title=\"B-pillar\">B-pillar</a> that are often styled to give the appearance of a convertible. Popular in the United States in the 1950s and 1960s.</dd></dl>\n",
              "<dl><dt><a href=\"/wiki/Landaulet_(car)\" title=\"Landaulet (car)\">Landaulet</a></dt>\n",
              "<dd>A car where the rear passengers are covered by a convertible top. Often the driver is separated from the rear passengers with a partition, as per a limousine.</dd></dl>\n",
              "<dl><dt><a href=\"/wiki/Personal_luxury_car\" title=\"Personal luxury car\">Personal luxury car</a></dt>\n",
              "<dd>American luxury coupés and convertibles produced from 1952 to 2007. The cars prioritised comfort, styling and a high level of interior features.</dd></dl>\n",
              "<dl><dt><a href=\"/wiki/Phaeton_body\" title=\"Phaeton body\">Phaeton</a></dt>\n",
              "<dd>An open-roof automobile without any fixed weather protection, which was popular from the 1900s until the 1930s.</dd></dl>\n",
              "<h2><span class=\"mw-headline\" id=\"See_also\">See also</span><span class=\"mw-editsection\"><span class=\"mw-editsection-bracket\">[</span><a href=\"/w/index.php?title=Car_body_style&amp;action=edit&amp;section=3\" title=\"Edit section: See also\">edit</a><span class=\"mw-editsection-bracket\">]</span></span></h2>\n",
              "<table class=\"mbox-small plainlinks sistersitebox\" role=\"presentation\" style=\"background-color:#f9f9f9;border:1px solid #aaa;color:#000\">\n",
              "<tbody><tr>\n",
              "<td class=\"mbox-image\"><img alt=\"\" class=\"noviewer\" data-file-height=\"1376\" data-file-width=\"1024\" decoding=\"async\" height=\"40\" src=\"//upload.wikimedia.org/wikipedia/en/thumb/4/4a/Commons-logo.svg/30px-Commons-logo.svg.png\" srcset=\"//upload.wikimedia.org/wikipedia/en/thumb/4/4a/Commons-logo.svg/45px-Commons-logo.svg.png 1.5x, //upload.wikimedia.org/wikipedia/en/thumb/4/4a/Commons-logo.svg/59px-Commons-logo.svg.png 2x\" width=\"30\"/></td>\n",
              "<td class=\"mbox-text plainlist\">Wikimedia Commons has media related to <i><b><a class=\"extiw\" href=\"https://commons.wikimedia.org/wiki/Category:Automobile_body_styles\" title=\"commons:Category:Automobile body styles\"><span style=\"\">Automobile body styles</span></a></b></i>.</td></tr>\n",
              "</tbody></table>\n",
              "<style data-mw-deduplicate=\"TemplateStyles:r998391716\">.mw-parser-output .div-col{margin-top:0.3em;column-width:30em}.mw-parser-output .div-col-small{font-size:90%}.mw-parser-output .div-col-rules{column-rule:1px solid #aaa}.mw-parser-output .div-col dl,.mw-parser-output .div-col ol,.mw-parser-output .div-col ul{margin-top:0}.mw-parser-output .div-col li,.mw-parser-output .div-col dd{page-break-inside:avoid;break-inside:avoid-column}</style><div class=\"div-col\" style=\"column-width: 30em;\">\n",
              "<ul><li><a href=\"/wiki/Automotive_design\" title=\"Automotive design\">Automotive design</a></li>\n",
              "<li><a href=\"/wiki/Car_classification\" title=\"Car classification\">Car classification</a></li>\n",
              "<li><a href=\"/wiki/Car_model\" title=\"Car model\">Car model</a></li>\n",
              "<li><a href=\"/wiki/Vehicle_size_class\" title=\"Vehicle size class\">Vehicle size class</a></li>\n",
              "<li><a href=\"/wiki/Car_body_configurations\" title=\"Car body configurations\">Car body configurations</a></li></ul>\n",
              "</div>\n",
              "<h2><span class=\"mw-headline\" id=\"References\">References</span><span class=\"mw-editsection\"><span class=\"mw-editsection-bracket\">[</span><a href=\"/w/index.php?title=Car_body_style&amp;action=edit&amp;section=4\" title=\"Edit section: References\">edit</a><span class=\"mw-editsection-bracket\">]</span></span></h2>\n",
              "<div class=\"reflist columns references-column-width\" style=\"column-width: 30em; list-style-type: decimal;\">\n",
              "<ol class=\"references\">\n",
              "<li id=\"cite_note-1\"><span class=\"mw-cite-backlink\"><b><a href=\"#cite_ref-1\">^</a></b></span> <span class=\"reference-text\"><style data-mw-deduplicate=\"TemplateStyles:r999302996\">.mw-parser-output cite.citation{font-style:inherit}.mw-parser-output .citation q{quotes:\"\\\"\"\"\\\"\"\"'\"\"'\"}.mw-parser-output .id-lock-free a,.mw-parser-output .citation .cs1-lock-free a{background:linear-gradient(transparent,transparent),url(\"//upload.wikimedia.org/wikipedia/commons/6/65/Lock-green.svg\")right 0.1em center/9px no-repeat}.mw-parser-output .id-lock-limited a,.mw-parser-output .id-lock-registration a,.mw-parser-output .citation .cs1-lock-limited a,.mw-parser-output .citation .cs1-lock-registration a{background:linear-gradient(transparent,transparent),url(\"//upload.wikimedia.org/wikipedia/commons/d/d6/Lock-gray-alt-2.svg\")right 0.1em center/9px no-repeat}.mw-parser-output .id-lock-subscription a,.mw-parser-output .citation .cs1-lock-subscription a{background:linear-gradient(transparent,transparent),url(\"//upload.wikimedia.org/wikipedia/commons/a/aa/Lock-red-alt-2.svg\")right 0.1em center/9px no-repeat}.mw-parser-output .cs1-subscription,.mw-parser-output .cs1-registration{color:#555}.mw-parser-output .cs1-subscription span,.mw-parser-output .cs1-registration span{border-bottom:1px dotted;cursor:help}.mw-parser-output .cs1-ws-icon a{background:linear-gradient(transparent,transparent),url(\"//upload.wikimedia.org/wikipedia/commons/4/4c/Wikisource-logo.svg\")right 0.1em center/12px no-repeat}.mw-parser-output code.cs1-code{color:inherit;background:inherit;border:none;padding:inherit}.mw-parser-output .cs1-hidden-error{display:none;font-size:100%}.mw-parser-output .cs1-visible-error{font-size:100%}.mw-parser-output .cs1-maint{display:none;color:#33aa33;margin-left:0.3em}.mw-parser-output .cs1-format{font-size:95%}.mw-parser-output .cs1-kern-left,.mw-parser-output .cs1-kern-wl-left{padding-left:0.2em}.mw-parser-output .cs1-kern-right,.mw-parser-output .cs1-kern-wl-right{padding-right:0.2em}.mw-parser-output .citation .mw-selflink{font-weight:inherit}</style><cite class=\"citation web cs1\"><a class=\"external text\" href=\"https://www.lctmag.com/article/40715/flower-cars-a-glance-at-a-forgotten-funeral-vehicle\" rel=\"nofollow\">\"Flower Cars: A Glance At A Forgotten Funeral Vehicle\"</a>. Luxury Coach &amp; Transportation Magazine. 1 January 1990<span class=\"reference-accessdate\">. Retrieved <span class=\"nowrap\">13 December</span> 2018</span>.</cite><span class=\"Z3988\" title=\"ctx_ver=Z39.88-2004&amp;rft_val_fmt=info%3Aofi%2Ffmt%3Akev%3Amtx%3Abook&amp;rft.genre=unknown&amp;rft.btitle=Flower+Cars%3A+A+Glance+At+A+Forgotten+Funeral+Vehicle&amp;rft.pub=Luxury+Coach+%26+Transportation+Magazine&amp;rft.date=1990-01-01&amp;rft_id=https%3A%2F%2Fwww.lctmag.com%2Farticle%2F40715%2Fflower-cars-a-glance-at-a-forgotten-funeral-vehicle&amp;rfr_id=info%3Asid%2Fen.wikipedia.org%3ACar+body+style\"></span></span>\n",
              "</li>\n",
              "<li id=\"cite_note-Hilliers-2\"><span class=\"mw-cite-backlink\">^ <a href=\"#cite_ref-Hilliers_2-0\"><sup><i><b>a</b></i></sup></a> <a href=\"#cite_ref-Hilliers_2-1\"><sup><i><b>b</b></i></sup></a></span> <span class=\"reference-text\"><link href=\"mw-data:TemplateStyles:r999302996\" rel=\"mw-deduplicated-inline-style\"/><cite class=\"citation book cs1\" id=\"CITEREFHillierCoombes2004\">Hillier, Victor; Coombes, Peter (2004). <a class=\"external text\" href=\"https://books.google.com/books?id=DoYaRsNFlEYC&amp;q=%22station+wagon%22+vs.+%22hatchback%22&amp;pg=PA11\" rel=\"nofollow\"><i>Hillier's Fundamentals of Motor Vehicle Technology: Volume 1</i></a> (5th ed.). Nelson Thornes. p. 11. <a class=\"mw-redirect\" href=\"/wiki/ISBN_(identifier)\" title=\"ISBN (identifier)\">ISBN</a> <a href=\"/wiki/Special:BookSources/978-0-7487-8082-2\" title=\"Special:BookSources/978-0-7487-8082-2\"><bdi>978-0-7487-8082-2</bdi></a><span class=\"reference-accessdate\">. Retrieved <span class=\"nowrap\">15 January</span> 2013</span>. <q>The estate body, also known as station wagons in some countries, has the roofline extended to the rear of the body to enlarge its internal capacity. Folding the rear seats down gives a large floor area for the carriage of luggage or goods. Stronger suspension springs are fitted at the rear to support the extra load. Hatchback: Although some hatchbacks are in fact saloon bodies with the boot or trunk effectively removed (usually the smaller cars) many hatchbacks retain the full length of the saloon, but the roofline extends down to the end of the vehicle...as with the estate, the rear seats fold down to give a flat floor for the transportation of luggage or other objects. When the tailgate is closed, the luggage compartment is usually covered with a parcel shelf.</q></cite><span class=\"Z3988\" title=\"ctx_ver=Z39.88-2004&amp;rft_val_fmt=info%3Aofi%2Ffmt%3Akev%3Amtx%3Abook&amp;rft.genre=book&amp;rft.btitle=Hillier%27s+Fundamentals+of+Motor+Vehicle+Technology%3A+Volume+1&amp;rft.pages=11&amp;rft.edition=5th&amp;rft.pub=Nelson+Thornes&amp;rft.date=2004&amp;rft.isbn=978-0-7487-8082-2&amp;rft.aulast=Hillier&amp;rft.aufirst=Victor&amp;rft.au=Coombes%2C+Peter&amp;rft_id=https%3A%2F%2Fbooks.google.com%2Fbooks%3Fid%3DDoYaRsNFlEYC%26q%3D%2522station%2Bwagon%2522%2Bvs.%2B%2522hatchback%2522%26pg%3DPA11&amp;rfr_id=info%3Asid%2Fen.wikipedia.org%3ACar+body+style\"></span></span>\n",
              "</li>\n",
              "<li id=\"cite_note-3\"><span class=\"mw-cite-backlink\"><b><a href=\"#cite_ref-3\">^</a></b></span> <span class=\"reference-text\"><link href=\"mw-data:TemplateStyles:r999302996\" rel=\"mw-deduplicated-inline-style\"/><cite class=\"citation web cs1\"><a class=\"external text\" href=\"http://www.oxforddictionaries.com/definition/english/bakkie\" rel=\"nofollow\">\"Bakkie: definition\"</a>. Oxforddictionaries.com<span class=\"reference-accessdate\">. Retrieved <span class=\"nowrap\">12 August</span> 2014</span>.</cite><span class=\"Z3988\" title=\"ctx_ver=Z39.88-2004&amp;rft_val_fmt=info%3Aofi%2Ffmt%3Akev%3Amtx%3Abook&amp;rft.genre=unknown&amp;rft.btitle=Bakkie%3A+definition&amp;rft.pub=Oxforddictionaries.com&amp;rft_id=http%3A%2F%2Fwww.oxforddictionaries.com%2Fdefinition%2Fenglish%2Fbakkie&amp;rfr_id=info%3Asid%2Fen.wikipedia.org%3ACar+body+style\"></span></span>\n",
              "</li>\n",
              "<li id=\"cite_note-4\"><span class=\"mw-cite-backlink\"><b><a href=\"#cite_ref-4\">^</a></b></span> <span class=\"reference-text\"><link href=\"mw-data:TemplateStyles:r999302996\" rel=\"mw-deduplicated-inline-style\"/><cite class=\"citation web cs1\"><a class=\"external text\" href=\"https://web.archive.org/web/20190322013655/http://local.aaca.org/junior/autoknow/ak_bstyles.htm\" rel=\"nofollow\">\"Body Styles\"</a>. <i>aaca.org</i>. Archived from <a class=\"external text\" href=\"http://local.aaca.org/junior/autoknow/ak_bstyles.htm\" rel=\"nofollow\">the original</a> on 22 March 2019<span class=\"reference-accessdate\">. Retrieved <span class=\"nowrap\">24 April</span> 2019</span>.</cite><span class=\"Z3988\" title=\"ctx_ver=Z39.88-2004&amp;rft_val_fmt=info%3Aofi%2Ffmt%3Akev%3Amtx%3Ajournal&amp;rft.genre=unknown&amp;rft.jtitle=aaca.org&amp;rft.atitle=Body+Styles&amp;rft_id=http%3A%2F%2Flocal.aaca.org%2Fjunior%2Fautoknow%2Fak_bstyles.htm&amp;rfr_id=info%3Asid%2Fen.wikipedia.org%3ACar+body+style\"></span></span>\n",
              "</li>\n",
              "</ol></div>\n",
              "<!-- \n",
              "NewPP limit report\n",
              "Parsed by mw1372\n",
              "Cached time: 20210110161919\n",
              "Cache expiry: 2592000\n",
              "Dynamic content: false\n",
              "Complications: [vary‐revision‐sha1]\n",
              "CPU time usage: 0.340 seconds\n",
              "Real time usage: 0.532 seconds\n",
              "Preprocessor visited node count: 687/1000000\n",
              "Post‐expand include size: 20566/2097152 bytes\n",
              "Template argument size: 755/2097152 bytes\n",
              "Highest expansion depth: 13/40\n",
              "Expensive parser function count: 2/500\n",
              "Unstrip recursion depth: 1/20\n",
              "Unstrip post‐expand size: 13984/5000000 bytes\n",
              "Lua time usage: 0.148/10.000 seconds\n",
              "Lua memory usage: 4118146/52428800 bytes\n",
              "Number of Wikibase entities loaded: 1/400\n",
              "-->\n",
              "<!--\n",
              "Transclusion expansion time report (%,ms,calls,template)\n",
              "100.00%  418.505      1 -total\n",
              " 27.52%  115.159      1 Template:Reflist\n",
              " 23.50%   98.367      1 Template:Refimprove\n",
              " 21.52%   90.083      3 Template:Cite_web\n",
              " 20.94%   87.632      1 Template:Ambox\n",
              " 20.93%   87.609      1 Template:Commons_category\n",
              " 19.67%   82.305      1 Template:Sister_project\n",
              " 17.75%   74.278      1 Template:Side_box\n",
              " 13.81%   57.788      1 Template:Use_dmy_dates\n",
              "  8.09%   33.865      1 Template:Find_sources_mainspace\n",
              "-->\n",
              "<!-- Saved in parser cache with key enwiki:pcache:idhash:679801-0!canonical and timestamp 20210110161918 and revision id 993432026. Serialized with JSON.\n",
              " -->\n",
              "</div><noscript><img alt=\"\" height=\"1\" src=\"//en.wikipedia.org/wiki/Special:CentralAutoLogin/start?type=1x1\" style=\"border: none; position: absolute;\" title=\"\" width=\"1\"/></noscript>\n",
              "<div class=\"printfooter\">Retrieved from \"<a dir=\"ltr\" href=\"https://en.wikipedia.org/w/index.php?title=Car_body_style&amp;oldid=993432026\">https://en.wikipedia.org/w/index.php?title=Car_body_style&amp;oldid=993432026</a>\"</div></div>\n",
              "<div class=\"catlinks\" data-mw=\"interface\" id=\"catlinks\"><div class=\"mw-normal-catlinks\" id=\"mw-normal-catlinks\"><a href=\"/wiki/Help:Category\" title=\"Help:Category\">Categories</a>: <ul><li><a href=\"/wiki/Category:Car_body_styles\" title=\"Category:Car body styles\">Car body styles</a></li><li><a href=\"/wiki/Category:Car_classifications\" title=\"Category:Car classifications\">Car classifications</a></li></ul></div><div class=\"mw-hidden-catlinks mw-hidden-cats-hidden\" id=\"mw-hidden-catlinks\">Hidden categories: <ul><li><a href=\"/wiki/Category:Use_dmy_dates_from_April_2019\" title=\"Category:Use dmy dates from April 2019\">Use dmy dates from April 2019</a></li><li><a href=\"/wiki/Category:Articles_needing_additional_references_from_April_2019\" title=\"Category:Articles needing additional references from April 2019\">Articles needing additional references from April 2019</a></li><li><a href=\"/wiki/Category:All_articles_needing_additional_references\" title=\"Category:All articles needing additional references\">All articles needing additional references</a></li><li><a href=\"/wiki/Category:Commons_category_link_is_on_Wikidata\" title=\"Category:Commons category link is on Wikidata\">Commons category link is on Wikidata</a></li></ul></div></div>\n",
              "</div>\n",
              "</div>\n",
              "<div id=\"mw-data-after-content\">\n",
              "<div class=\"read-more-container\"></div>\n",
              "</div>\n",
              "<div id=\"mw-navigation\">\n",
              "<h2>Navigation menu</h2>\n",
              "<div id=\"mw-head\">\n",
              "<!-- Please do not use role attribute as CSS selector, it is deprecated. -->\n",
              "<nav aria-labelledby=\"p-personal-label\" class=\"mw-portlet mw-portlet-personal vector-menu\" id=\"p-personal\" role=\"navigation\">\n",
              "<h3 id=\"p-personal-label\">\n",
              "<span>Personal tools</span>\n",
              "</h3>\n",
              "<div class=\"vector-menu-content\">\n",
              "<ul class=\"vector-menu-content-list\"><li id=\"pt-anonuserpage\">Not logged in</li><li id=\"pt-anontalk\"><a accesskey=\"n\" href=\"/wiki/Special:MyTalk\" title=\"Discussion about edits from this IP address [n]\">Talk</a></li><li id=\"pt-anoncontribs\"><a accesskey=\"y\" href=\"/wiki/Special:MyContributions\" title=\"A list of edits made from this IP address [y]\">Contributions</a></li><li id=\"pt-createaccount\"><a href=\"/w/index.php?title=Special:CreateAccount&amp;returnto=Car+body+style\" title=\"You are encouraged to create an account and log in; however, it is not mandatory\">Create account</a></li><li id=\"pt-login\"><a accesskey=\"o\" href=\"/w/index.php?title=Special:UserLogin&amp;returnto=Car+body+style\" title=\"You're encouraged to log in; however, it's not mandatory. [o]\">Log in</a></li></ul>\n",
              "</div>\n",
              "</nav>\n",
              "<div id=\"left-navigation\">\n",
              "<!-- Please do not use role attribute as CSS selector, it is deprecated. -->\n",
              "<nav aria-labelledby=\"p-namespaces-label\" class=\"mw-portlet mw-portlet-namespaces vector-menu vector-menu-tabs\" id=\"p-namespaces\" role=\"navigation\">\n",
              "<h3 id=\"p-namespaces-label\">\n",
              "<span>Namespaces</span>\n",
              "</h3>\n",
              "<div class=\"vector-menu-content\">\n",
              "<ul class=\"vector-menu-content-list\"><li class=\"selected\" id=\"ca-nstab-main\"><a accesskey=\"c\" href=\"/wiki/Car_body_style\" title=\"View the content page [c]\">Article</a></li><li id=\"ca-talk\"><a accesskey=\"t\" href=\"/wiki/Talk:Car_body_style\" rel=\"discussion\" title=\"Discuss improvements to the content page [t]\">Talk</a></li></ul>\n",
              "</div>\n",
              "</nav>\n",
              "<!-- Please do not use role attribute as CSS selector, it is deprecated. -->\n",
              "<nav aria-labelledby=\"p-variants-label\" class=\"mw-portlet mw-portlet-variants emptyPortlet vector-menu vector-menu-dropdown\" id=\"p-variants\" role=\"navigation\">\n",
              "<input aria-labelledby=\"p-variants-label\" class=\"vector-menu-checkbox\" type=\"checkbox\"/>\n",
              "<h3 id=\"p-variants-label\">\n",
              "<span>Variants</span>\n",
              "</h3>\n",
              "<div class=\"vector-menu-content\">\n",
              "<ul class=\"vector-menu-content-list\"></ul>\n",
              "</div>\n",
              "</nav>\n",
              "</div>\n",
              "<div id=\"right-navigation\">\n",
              "<!-- Please do not use role attribute as CSS selector, it is deprecated. -->\n",
              "<nav aria-labelledby=\"p-views-label\" class=\"mw-portlet mw-portlet-views vector-menu vector-menu-tabs\" id=\"p-views\" role=\"navigation\">\n",
              "<h3 id=\"p-views-label\">\n",
              "<span>Views</span>\n",
              "</h3>\n",
              "<div class=\"vector-menu-content\">\n",
              "<ul class=\"vector-menu-content-list\"><li class=\"selected\" id=\"ca-view\"><a href=\"/wiki/Car_body_style\">Read</a></li><li id=\"ca-edit\"><a accesskey=\"e\" href=\"/w/index.php?title=Car_body_style&amp;action=edit\" title=\"Edit this page [e]\">Edit</a></li><li id=\"ca-history\"><a accesskey=\"h\" href=\"/w/index.php?title=Car_body_style&amp;action=history\" title=\"Past revisions of this page [h]\">View history</a></li></ul>\n",
              "</div>\n",
              "</nav>\n",
              "<!-- Please do not use role attribute as CSS selector, it is deprecated. -->\n",
              "<nav aria-labelledby=\"p-cactions-label\" class=\"mw-portlet mw-portlet-cactions emptyPortlet vector-menu vector-menu-dropdown\" id=\"p-cactions\" role=\"navigation\">\n",
              "<input aria-labelledby=\"p-cactions-label\" class=\"vector-menu-checkbox\" type=\"checkbox\"/>\n",
              "<h3 id=\"p-cactions-label\">\n",
              "<span>More</span>\n",
              "</h3>\n",
              "<div class=\"vector-menu-content\">\n",
              "<ul class=\"vector-menu-content-list\"></ul>\n",
              "</div>\n",
              "</nav>\n",
              "<div id=\"p-search\" role=\"search\">\n",
              "<h3>\n",
              "<label for=\"searchInput\">Search</label>\n",
              "</h3>\n",
              "<form action=\"/w/index.php\" id=\"searchform\">\n",
              "<div data-search-loc=\"header-navigation\" id=\"simpleSearch\">\n",
              "<input accesskey=\"f\" autocapitalize=\"sentences\" id=\"searchInput\" name=\"search\" placeholder=\"Search Wikipedia\" title=\"Search Wikipedia [f]\" type=\"search\"/>\n",
              "<input name=\"title\" type=\"hidden\" value=\"Special:Search\"/>\n",
              "<input class=\"searchButton mw-fallbackSearchButton\" id=\"mw-searchButton\" name=\"fulltext\" title=\"Search Wikipedia for this text\" type=\"submit\" value=\"Search\">\n",
              "<input class=\"searchButton\" id=\"searchButton\" name=\"go\" title=\"Go to a page with this exact name if it exists\" type=\"submit\" value=\"Go\"/>\n",
              "</input></div>\n",
              "</form>\n",
              "</div>\n",
              "</div>\n",
              "</div>\n",
              "<div id=\"mw-panel\">\n",
              "<div id=\"p-logo\" role=\"banner\">\n",
              "<a class=\"mw-wiki-logo\" href=\"/wiki/Main_Page\" title=\"Visit the main page\"></a>\n",
              "</div>\n",
              "<!-- Please do not use role attribute as CSS selector, it is deprecated. -->\n",
              "<nav aria-labelledby=\"p-navigation-label\" class=\"mw-portlet mw-portlet-navigation vector-menu vector-menu-portal portal portal-first\" id=\"p-navigation\" role=\"navigation\">\n",
              "<h3 id=\"p-navigation-label\">\n",
              "<span>Navigation</span>\n",
              "</h3>\n",
              "<div class=\"vector-menu-content\">\n",
              "<ul class=\"vector-menu-content-list\"><li id=\"n-mainpage-description\"><a accesskey=\"z\" href=\"/wiki/Main_Page\" title=\"Visit the main page [z]\">Main page</a></li><li id=\"n-contents\"><a href=\"/wiki/Wikipedia:Contents\" title=\"Guides to browsing Wikipedia\">Contents</a></li><li id=\"n-currentevents\"><a href=\"/wiki/Portal:Current_events\" title=\"Articles related to current events\">Current events</a></li><li id=\"n-randompage\"><a accesskey=\"x\" href=\"/wiki/Special:Random\" title=\"Visit a randomly selected article [x]\">Random article</a></li><li id=\"n-aboutsite\"><a href=\"/wiki/Wikipedia:About\" title=\"Learn about Wikipedia and how it works\">About Wikipedia</a></li><li id=\"n-contactpage\"><a href=\"//en.wikipedia.org/wiki/Wikipedia:Contact_us\" title=\"How to contact Wikipedia\">Contact us</a></li><li id=\"n-sitesupport\"><a href=\"https://donate.wikimedia.org/wiki/Special:FundraiserRedirector?utm_source=donate&amp;utm_medium=sidebar&amp;utm_campaign=C13_en.wikipedia.org&amp;uselang=en\" title=\"Support us by donating to the Wikimedia Foundation\">Donate</a></li></ul>\n",
              "</div>\n",
              "</nav>\n",
              "<!-- Please do not use role attribute as CSS selector, it is deprecated. -->\n",
              "<nav aria-labelledby=\"p-interaction-label\" class=\"mw-portlet mw-portlet-interaction vector-menu vector-menu-portal portal\" id=\"p-interaction\" role=\"navigation\">\n",
              "<h3 id=\"p-interaction-label\">\n",
              "<span>Contribute</span>\n",
              "</h3>\n",
              "<div class=\"vector-menu-content\">\n",
              "<ul class=\"vector-menu-content-list\"><li id=\"n-help\"><a href=\"/wiki/Help:Contents\" title=\"Guidance on how to use and edit Wikipedia\">Help</a></li><li id=\"n-introduction\"><a href=\"/wiki/Help:Introduction\" title=\"Learn how to edit Wikipedia\">Learn to edit</a></li><li id=\"n-portal\"><a href=\"/wiki/Wikipedia:Community_portal\" title=\"The hub for editors\">Community portal</a></li><li id=\"n-recentchanges\"><a accesskey=\"r\" href=\"/wiki/Special:RecentChanges\" title=\"A list of recent changes to Wikipedia [r]\">Recent changes</a></li><li id=\"n-upload\"><a href=\"/wiki/Wikipedia:File_Upload_Wizard\" title=\"Add images or other media for use on Wikipedia\">Upload file</a></li></ul>\n",
              "</div>\n",
              "</nav>\n",
              "<!-- Please do not use role attribute as CSS selector, it is deprecated. -->\n",
              "<nav aria-labelledby=\"p-tb-label\" class=\"mw-portlet mw-portlet-tb vector-menu vector-menu-portal portal\" id=\"p-tb\" role=\"navigation\">\n",
              "<h3 id=\"p-tb-label\">\n",
              "<span>Tools</span>\n",
              "</h3>\n",
              "<div class=\"vector-menu-content\">\n",
              "<ul class=\"vector-menu-content-list\"><li id=\"t-whatlinkshere\"><a accesskey=\"j\" href=\"/wiki/Special:WhatLinksHere/Car_body_style\" title=\"List of all English Wikipedia pages containing links to this page [j]\">What links here</a></li><li id=\"t-recentchangeslinked\"><a accesskey=\"k\" href=\"/wiki/Special:RecentChangesLinked/Car_body_style\" rel=\"nofollow\" title=\"Recent changes in pages linked from this page [k]\">Related changes</a></li><li id=\"t-upload\"><a accesskey=\"u\" href=\"/wiki/Wikipedia:File_Upload_Wizard\" title=\"Upload files [u]\">Upload file</a></li><li id=\"t-specialpages\"><a accesskey=\"q\" href=\"/wiki/Special:SpecialPages\" title=\"A list of all special pages [q]\">Special pages</a></li><li id=\"t-permalink\"><a href=\"/w/index.php?title=Car_body_style&amp;oldid=993432026\" title=\"Permanent link to this revision of this page\">Permanent link</a></li><li id=\"t-info\"><a href=\"/w/index.php?title=Car_body_style&amp;action=info\" title=\"More information about this page\">Page information</a></li><li id=\"t-cite\"><a href=\"/w/index.php?title=Special:CiteThisPage&amp;page=Car_body_style&amp;id=993432026&amp;wpFormIdentifier=titleform\" title=\"Information on how to cite this page\">Cite this page</a></li><li id=\"t-wikibase\"><a accesskey=\"g\" href=\"https://www.wikidata.org/wiki/Special:EntityPage/Q15729598\" title=\"Structured data on this page hosted by Wikidata [g]\">Wikidata item</a></li></ul>\n",
              "</div>\n",
              "</nav>\n",
              "<!-- Please do not use role attribute as CSS selector, it is deprecated. -->\n",
              "<nav aria-labelledby=\"p-coll-print_export-label\" class=\"mw-portlet mw-portlet-coll-print_export vector-menu vector-menu-portal portal\" id=\"p-coll-print_export\" role=\"navigation\">\n",
              "<h3 id=\"p-coll-print_export-label\">\n",
              "<span>Print/export</span>\n",
              "</h3>\n",
              "<div class=\"vector-menu-content\">\n",
              "<ul class=\"vector-menu-content-list\"><li id=\"coll-download-as-rl\"><a href=\"/w/index.php?title=Special:DownloadAsPdf&amp;page=Car_body_style&amp;action=show-download-screen\" title=\"Download this page as a PDF file\">Download as PDF</a></li><li id=\"t-print\"><a accesskey=\"p\" href=\"/w/index.php?title=Car_body_style&amp;printable=yes\" title=\"Printable version of this page [p]\">Printable version</a></li></ul>\n",
              "</div>\n",
              "</nav>\n",
              "<!-- Please do not use role attribute as CSS selector, it is deprecated. -->\n",
              "<nav aria-labelledby=\"p-wikibase-otherprojects-label\" class=\"mw-portlet mw-portlet-wikibase-otherprojects vector-menu vector-menu-portal portal\" id=\"p-wikibase-otherprojects\" role=\"navigation\">\n",
              "<h3 id=\"p-wikibase-otherprojects-label\">\n",
              "<span>In other projects</span>\n",
              "</h3>\n",
              "<div class=\"vector-menu-content\">\n",
              "<ul class=\"vector-menu-content-list\"><li class=\"wb-otherproject-link wb-otherproject-commons\"><a href=\"https://commons.wikimedia.org/wiki/Category:Automobile_body_styles\" hreflang=\"en\">Wikimedia Commons</a></li></ul>\n",
              "</div>\n",
              "</nav>\n",
              "<!-- Please do not use role attribute as CSS selector, it is deprecated. -->\n",
              "<nav aria-labelledby=\"p-lang-label\" class=\"mw-portlet mw-portlet-lang vector-menu vector-menu-portal portal\" id=\"p-lang\" role=\"navigation\">\n",
              "<h3 id=\"p-lang-label\">\n",
              "<span>Languages</span>\n",
              "</h3>\n",
              "<div class=\"vector-menu-content\">\n",
              "<ul class=\"vector-menu-content-list\"><li class=\"interlanguage-link interwiki-az\"><a class=\"interlanguage-link-target\" href=\"https://az.wikipedia.org/wiki/Avtomobil_kuzas%C4%B1\" hreflang=\"az\" lang=\"az\" title=\"Avtomobil kuzası – Azerbaijani\">Azərbaycanca</a></li><li class=\"interlanguage-link interwiki-bs\"><a class=\"interlanguage-link-target\" href=\"https://bs.wikipedia.org/wiki/Karoserija\" hreflang=\"bs\" lang=\"bs\" title=\"Karoserija – Bosnian\">Bosanski</a></li><li class=\"interlanguage-link interwiki-ca\"><a class=\"interlanguage-link-target\" href=\"https://ca.wikipedia.org/wiki/Carrosseria\" hreflang=\"ca\" lang=\"ca\" title=\"Carrosseria – Catalan\">Català</a></li><li class=\"interlanguage-link interwiki-cs\"><a class=\"interlanguage-link-target\" href=\"https://cs.wikipedia.org/wiki/Karoserie\" hreflang=\"cs\" lang=\"cs\" title=\"Karoserie – Czech\">Čeština</a></li><li class=\"interlanguage-link interwiki-de\"><a class=\"interlanguage-link-target\" href=\"https://de.wikipedia.org/wiki/Karosseriebauform\" hreflang=\"de\" lang=\"de\" title=\"Karosseriebauform – German\">Deutsch</a></li><li class=\"interlanguage-link interwiki-es\"><a class=\"interlanguage-link-target\" href=\"https://es.wikipedia.org/wiki/Tipo_de_carrocer%C3%ADa\" hreflang=\"es\" lang=\"es\" title=\"Tipo de carrocería – Spanish\">Español</a></li><li class=\"interlanguage-link interwiki-fr\"><a class=\"interlanguage-link-target\" href=\"https://fr.wikipedia.org/wiki/Type_de_carrosserie\" hreflang=\"fr\" lang=\"fr\" title=\"Type de carrosserie – French\">Français</a></li><li class=\"interlanguage-link interwiki-hr\"><a class=\"interlanguage-link-target\" href=\"https://hr.wikipedia.org/wiki/Karoserija\" hreflang=\"hr\" lang=\"hr\" title=\"Karoserija – Croatian\">Hrvatski</a></li><li class=\"interlanguage-link interwiki-lt\"><a class=\"interlanguage-link-target\" href=\"https://lt.wikipedia.org/wiki/Automobilio_k%C4%97bulas\" hreflang=\"lt\" lang=\"lt\" title=\"Automobilio kėbulas – Lithuanian\">Lietuvių</a></li><li class=\"interlanguage-link interwiki-no\"><a class=\"interlanguage-link-target\" href=\"https://no.wikipedia.org/wiki/Karosseri_(bil)\" hreflang=\"nb\" lang=\"nb\" title=\"Karosseri (bil) – Norwegian Bokmål\">Norsk bokmål</a></li><li class=\"interlanguage-link interwiki-pl\"><a class=\"interlanguage-link-target\" href=\"https://pl.wikipedia.org/wiki/Nadwozie\" hreflang=\"pl\" lang=\"pl\" title=\"Nadwozie – Polish\">Polski</a></li><li class=\"interlanguage-link interwiki-pt\"><a class=\"interlanguage-link-target\" href=\"https://pt.wikipedia.org/wiki/Carro%C3%A7aria\" hreflang=\"pt\" lang=\"pt\" title=\"Carroçaria – Portuguese\">Português</a></li><li class=\"interlanguage-link interwiki-ro\"><a class=\"interlanguage-link-target\" href=\"https://ro.wikipedia.org/wiki/Tipuri_de_caroserii_auto\" hreflang=\"ro\" lang=\"ro\" title=\"Tipuri de caroserii auto – Romanian\">Română</a></li><li class=\"interlanguage-link interwiki-ru\"><a class=\"interlanguage-link-target\" href=\"https://ru.wikipedia.org/wiki/%D0%A2%D0%B8%D0%BF%D1%8B_%D0%B0%D0%B2%D1%82%D0%BE%D0%BC%D0%BE%D0%B1%D0%B8%D0%BB%D1%8C%D0%BD%D1%8B%D1%85_%D0%BA%D1%83%D0%B7%D0%BE%D0%B2%D0%BE%D0%B2\" hreflang=\"ru\" lang=\"ru\" title=\"Типы автомобильных кузовов – Russian\">Русский</a></li><li class=\"interlanguage-link interwiki-sk\"><a class=\"interlanguage-link-target\" href=\"https://sk.wikipedia.org/wiki/Karos%C3%A9ria\" hreflang=\"sk\" lang=\"sk\" title=\"Karoséria – Slovak\">Slovenčina</a></li><li class=\"interlanguage-link interwiki-fi\"><a class=\"interlanguage-link-target\" href=\"https://fi.wikipedia.org/wiki/Korimalli\" hreflang=\"fi\" lang=\"fi\" title=\"Korimalli – Finnish\">Suomi</a></li><li class=\"interlanguage-link interwiki-sv\"><a class=\"interlanguage-link-target\" href=\"https://sv.wikipedia.org/wiki/Kaross\" hreflang=\"sv\" lang=\"sv\" title=\"Kaross – Swedish\">Svenska</a></li><li class=\"interlanguage-link interwiki-uk\"><a class=\"interlanguage-link-target\" href=\"https://uk.wikipedia.org/wiki/%D0%A2%D0%B8%D0%BF_%D0%BA%D1%83%D0%B7%D0%BE%D0%B2%D0%B0_%D0%B0%D0%B2%D1%82%D0%BE%D0%BC%D0%BE%D0%B1%D1%96%D0%BB%D1%8F\" hreflang=\"uk\" lang=\"uk\" title=\"Тип кузова автомобіля – Ukrainian\">Українська</a></li><li class=\"interlanguage-link interwiki-zh\"><a class=\"interlanguage-link-target\" href=\"https://zh.wikipedia.org/wiki/%E8%BB%8A%E9%AB%94%E9%A2%A8%E6%A0%BC\" hreflang=\"zh\" lang=\"zh\" title=\"車體風格 – Chinese\">中文</a></li></ul>\n",
              "<div class=\"after-portlet after-portlet-lang\"><span class=\"wb-langlinks-edit wb-langlinks-link\"><a class=\"wbc-editpage\" href=\"https://www.wikidata.org/wiki/Special:EntityPage/Q15729598#sitelinks-wikipedia\" title=\"Edit interlanguage links\">Edit links</a></span></div>\n",
              "</div>\n",
              "</nav>\n",
              "</div>\n",
              "</div>\n",
              "<footer class=\"mw-footer\" id=\"footer\" role=\"contentinfo\">\n",
              "<ul id=\"footer-info\">\n",
              "<li id=\"footer-info-lastmod\"> This page was last edited on 10 December 2020, at 16:06<span class=\"anonymous-show\"> (UTC)</span>.</li>\n",
              "<li id=\"footer-info-copyright\">Text is available under the <a href=\"//en.wikipedia.org/wiki/Wikipedia:Text_of_Creative_Commons_Attribution-ShareAlike_3.0_Unported_License\" rel=\"license\">Creative Commons Attribution-ShareAlike License</a><a href=\"//creativecommons.org/licenses/by-sa/3.0/\" rel=\"license\" style=\"display:none;\"></a>;\n",
              "additional terms may apply.  By using this site, you agree to the <a href=\"//foundation.wikimedia.org/wiki/Terms_of_Use\">Terms of Use</a> and <a href=\"//foundation.wikimedia.org/wiki/Privacy_policy\">Privacy Policy</a>. Wikipedia® is a registered trademark of the <a href=\"//www.wikimediafoundation.org/\">Wikimedia Foundation, Inc.</a>, a non-profit organization.</li>\n",
              "</ul>\n",
              "<ul id=\"footer-places\">\n",
              "<li id=\"footer-places-privacy\"><a class=\"extiw\" href=\"https://foundation.wikimedia.org/wiki/Privacy_policy\" title=\"wmf:Privacy policy\">Privacy policy</a></li>\n",
              "<li id=\"footer-places-about\"><a href=\"/wiki/Wikipedia:About\" title=\"Wikipedia:About\">About Wikipedia</a></li>\n",
              "<li id=\"footer-places-disclaimer\"><a href=\"/wiki/Wikipedia:General_disclaimer\" title=\"Wikipedia:General disclaimer\">Disclaimers</a></li>\n",
              "<li id=\"footer-places-contact\"><a href=\"//en.wikipedia.org/wiki/Wikipedia:Contact_us\">Contact Wikipedia</a></li>\n",
              "<li id=\"footer-places-mobileview\"><a class=\"noprint stopMobileRedirectToggle\" href=\"//en.m.wikipedia.org/w/index.php?title=Car_body_style&amp;mobileaction=toggle_view_mobile\">Mobile view</a></li>\n",
              "<li id=\"footer-places-developers\"><a href=\"https://www.mediawiki.org/wiki/Special:MyLanguage/How_to_contribute\">Developers</a></li>\n",
              "<li id=\"footer-places-statslink\"><a href=\"https://stats.wikimedia.org/#/en.wikipedia.org\">Statistics</a></li>\n",
              "<li id=\"footer-places-cookiestatement\"><a href=\"https://foundation.wikimedia.org/wiki/Cookie_statement\">Cookie statement</a></li>\n",
              "</ul>\n",
              "<ul class=\"noprint\" id=\"footer-icons\">\n",
              "<li id=\"footer-copyrightico\"><a href=\"https://wikimediafoundation.org/\"><img alt=\"Wikimedia Foundation\" height=\"31\" loading=\"lazy\" src=\"/static/images/footer/wikimedia-button.png\" srcset=\"/static/images/footer/wikimedia-button-1.5x.png 1.5x, /static/images/footer/wikimedia-button-2x.png 2x\" width=\"88\"/></a></li>\n",
              "<li id=\"footer-poweredbyico\"><a href=\"https://www.mediawiki.org/\"><img alt=\"Powered by MediaWiki\" height=\"31\" loading=\"lazy\" src=\"/static/images/footer/poweredby_mediawiki_88x31.png\" srcset=\"/static/images/footer/poweredby_mediawiki_132x47.png 1.5x, /static/images/footer/poweredby_mediawiki_176x62.png 2x\" width=\"88\"/></a></li>\n",
              "</ul>\n",
              "<div style=\"clear: both;\"></div>\n",
              "</footer>\n",
              "<script>(RLQ=window.RLQ||[]).push(function(){mw.config.set({\"wgPageParseReport\":{\"limitreport\":{\"cputime\":\"0.340\",\"walltime\":\"0.532\",\"ppvisitednodes\":{\"value\":687,\"limit\":1000000},\"postexpandincludesize\":{\"value\":20566,\"limit\":2097152},\"templateargumentsize\":{\"value\":755,\"limit\":2097152},\"expansiondepth\":{\"value\":13,\"limit\":40},\"expensivefunctioncount\":{\"value\":2,\"limit\":500},\"unstrip-depth\":{\"value\":1,\"limit\":20},\"unstrip-size\":{\"value\":13984,\"limit\":5000000},\"entityaccesscount\":{\"value\":1,\"limit\":400},\"timingprofile\":[\"100.00%  418.505      1 -total\",\" 27.52%  115.159      1 Template:Reflist\",\" 23.50%   98.367      1 Template:Refimprove\",\" 21.52%   90.083      3 Template:Cite_web\",\" 20.94%   87.632      1 Template:Ambox\",\" 20.93%   87.609      1 Template:Commons_category\",\" 19.67%   82.305      1 Template:Sister_project\",\" 17.75%   74.278      1 Template:Side_box\",\" 13.81%   57.788      1 Template:Use_dmy_dates\",\"  8.09%   33.865      1 Template:Find_sources_mainspace\"]},\"scribunto\":{\"limitreport-timeusage\":{\"value\":\"0.148\",\"limit\":\"10.000\"},\"limitreport-memusage\":{\"value\":4118146,\"limit\":52428800}},\"cachereport\":{\"origin\":\"mw1372\",\"timestamp\":\"20210110161919\",\"ttl\":2592000,\"transientcontent\":false}}});});</script>\n",
              "<script type=\"application/ld+json\">{\"@context\":\"https:\\/\\/schema.org\",\"@type\":\"Article\",\"name\":\"Car body style\",\"url\":\"https:\\/\\/en.wikipedia.org\\/wiki\\/Car_body_style\",\"sameAs\":\"http:\\/\\/www.wikidata.org\\/entity\\/Q15729598\",\"mainEntity\":\"http:\\/\\/www.wikidata.org\\/entity\\/Q15729598\",\"author\":{\"@type\":\"Organization\",\"name\":\"Contributors to Wikimedia projects\"},\"publisher\":{\"@type\":\"Organization\",\"name\":\"Wikimedia Foundation, Inc.\",\"logo\":{\"@type\":\"ImageObject\",\"url\":\"https:\\/\\/www.wikimedia.org\\/static\\/images\\/wmf-hor-googpub.png\"}},\"datePublished\":\"2004-05-25T18:28:38Z\",\"dateModified\":\"2020-12-10T16:06:54Z\"}</script>\n",
              "<script>(RLQ=window.RLQ||[]).push(function(){mw.config.set({\"wgBackendResponseTime\":144,\"wgHostname\":\"mw1274\"});});</script>\n",
              "</body></html>"
            ]
          },
          "metadata": {
            "tags": []
          },
          "execution_count": 74
        }
      ]
    },
    {
      "cell_type": "code",
      "metadata": {
        "colab": {
          "base_uri": "https://localhost:8080/"
        },
        "id": "hWzwfoSaPUJS",
        "outputId": "154c5a19-ef46-4e65-bb36-7996a146987d"
      },
      "source": [
        "styles_tags = styles_soup.find_all('dt')\r\n",
        "styles_tags"
      ],
      "execution_count": 75,
      "outputs": [
        {
          "output_type": "execute_result",
          "data": {
            "text/plain": [
              "[<dt><a href=\"/wiki/Buggy_(automobile)\" title=\"Buggy (automobile)\">Buggy</a></dt>,\n",
              " <dt><a href=\"/wiki/Convertible\" title=\"Convertible\">Convertible</a> / cabriolet</dt>,\n",
              " <dt><a href=\"/wiki/Coup%C3%A9\" title=\"Coupé\">Coupé</a></dt>,\n",
              " <dt><a href=\"/wiki/Flower_car\" title=\"Flower car\">Flower car</a></dt>,\n",
              " <dt><a href=\"/wiki/Hatchback\" title=\"Hatchback\">Hatchback</a> / Liftback</dt>,\n",
              " <dt><a href=\"/wiki/Hearse\" title=\"Hearse\">Hearse</a> / funeral coach</dt>,\n",
              " <dt>Kombi</dt>,\n",
              " <dt><a href=\"/wiki/Limousine\" title=\"Limousine\">Limousine</a></dt>,\n",
              " <dt><a href=\"/wiki/Microvan\" title=\"Microvan\">Microvan</a></dt>,\n",
              " <dt><a href=\"/wiki/Minivan\" title=\"Minivan\">Minivan</a> / multi-purpose vehicle (MPV) / people carrier / people mover</dt>,\n",
              " <dt><a href=\"/wiki/Panel_van\" title=\"Panel van\">Panel van</a> / car-derived van / sedan delivery</dt>,\n",
              " <dt><a href=\"/wiki/Panel_truck\" title=\"Panel truck\">Panel truck</a></dt>,\n",
              " <dt><a href=\"/wiki/Pickup_truck\" title=\"Pickup truck\">Pickup truck</a> / pickup</dt>,\n",
              " <dt><a href=\"/wiki/Roadster_(automobile)\" title=\"Roadster (automobile)\">Roadster</a></dt>,\n",
              " <dt><a class=\"mw-redirect\" href=\"/wiki/Sedan_(car)\" title=\"Sedan (car)\">Sedan</a> / saloon</dt>,\n",
              " <dt><a href=\"/wiki/Shooting-brake\" title=\"Shooting-brake\">Shooting-brake</a></dt>,\n",
              " <dt><a href=\"/wiki/Station_wagon\" title=\"Station wagon\">Station wagon</a> / estate car</dt>,\n",
              " <dt><a href=\"/wiki/Targa_top\" title=\"Targa top\">Targa top</a></dt>,\n",
              " <dt><a href=\"/wiki/Ute_(vehicle)\" title=\"Ute (vehicle)\">Ute</a> / <a class=\"mw-redirect\" href=\"/wiki/Coupe_utility\" title=\"Coupe utility\">coupe utility</a></dt>,\n",
              " <dt><a class=\"mw-redirect\" href=\"/wiki/Baquet_(car_body_style)\" title=\"Baquet (car body style)\">Baquet</a></dt>,\n",
              " <dt><a href=\"/wiki/Barchetta\" title=\"Barchetta\">Barchetta</a></dt>,\n",
              " <dt><a href=\"/wiki/Berlinetta\" title=\"Berlinetta\">Berlinetta</a></dt>,\n",
              " <dt><a href=\"/wiki/Cabrio_coach\" title=\"Cabrio coach\">Cabrio coach</a></dt>,\n",
              " <dt><a class=\"mw-redirect\" href=\"/wiki/Coup%C3%A9_de_ville\" title=\"Coupé de ville\">Coupé de ville</a> <b>/ Sedanca de ville / town car</b></dt>,\n",
              " <dt><a href=\"/wiki/Hardtop\" title=\"Hardtop\">Hardtop</a></dt>,\n",
              " <dt><a href=\"/wiki/Landaulet_(car)\" title=\"Landaulet (car)\">Landaulet</a></dt>,\n",
              " <dt><a href=\"/wiki/Personal_luxury_car\" title=\"Personal luxury car\">Personal luxury car</a></dt>,\n",
              " <dt><a href=\"/wiki/Phaeton_body\" title=\"Phaeton body\">Phaeton</a></dt>]"
            ]
          },
          "metadata": {
            "tags": []
          },
          "execution_count": 75
        }
      ]
    },
    {
      "cell_type": "code",
      "metadata": {
        "colab": {
          "base_uri": "https://localhost:8080/"
        },
        "id": "P_rsy8n9Qw91",
        "outputId": "780dfde2-42cd-4d48-c595-667e1c5e95ec"
      },
      "source": [
        "styles = np.array([])\r\n",
        "\r\n",
        "\r\n",
        "for style_tags in styles_tags:\r\n",
        "    try:\r\n",
        "        style = re.findall('e=\".+\"', str(style_tags))[0][3:-1]\r\n",
        "        styles = np.append(styles, style)\r\n",
        "    except IndexError:\r\n",
        "        style = re.findall('>.+<', str(style_tags))[0][1:-1]\r\n",
        "        styles = np.append(styles, style)\r\n",
        "\r\n",
        "\r\n",
        "styles"
      ],
      "execution_count": 76,
      "outputs": [
        {
          "output_type": "execute_result",
          "data": {
            "text/plain": [
              "array(['Buggy (automobile)', 'Convertible', 'Coupé', 'Flower car',\n",
              "       'Hatchback', 'Hearse', 'Kombi', 'Limousine', 'Microvan', 'Minivan',\n",
              "       'Panel van', 'Panel truck', 'Pickup truck',\n",
              "       'Roadster (automobile)', 'Sedan (car)', 'Shooting-brake',\n",
              "       'Station wagon', 'Targa top',\n",
              "       'Ute (vehicle)\">Ute</a> / <a class=\"mw-redirect\" href=\"/wiki/Coupe_utility\" title=\"Coupe utility',\n",
              "       'Baquet (car body style)', 'Barchetta', 'Berlinetta',\n",
              "       'Cabrio coach', 'Coupé de ville', 'Hardtop', 'Landaulet (car)',\n",
              "       'Personal luxury car', 'Phaeton body'], dtype='<U95')"
            ]
          },
          "metadata": {
            "tags": []
          },
          "execution_count": 76
        }
      ]
    },
    {
      "cell_type": "code",
      "metadata": {
        "id": "1ymbEnGKWE7p"
      },
      "source": [
        "styles_to_check = [\r\n",
        "    \"Buggy\", \"Sedan\", \"Roadster\", \"Landaulet\", \"Ute\", \"Baquet\", \"Phaeton\"]\r\n",
        "\r\n",
        "\r\n",
        "def style_cleaner(s):\r\n",
        "    if \"luxury\" in s:\r\n",
        "        return \"Luxury\"\r\n",
        "    elif any(item in s for item in styles_to_check):\r\n",
        "        return re.findall(\".+ \\(|.+ b\", s)[0][:-2]\r\n",
        "    else:\r\n",
        "        return s"
      ],
      "execution_count": 77,
      "outputs": []
    },
    {
      "cell_type": "code",
      "metadata": {
        "colab": {
          "base_uri": "https://localhost:8080/"
        },
        "id": "iLoQ7hHabkOk",
        "outputId": "d1dd24f1-95cb-49ea-e620-354a07da2b96"
      },
      "source": [
        "style_vect_cleaner = np.vectorize(style_cleaner)\r\n",
        "styles_vector = style_vect_cleaner(styles)\r\n",
        "styles_vector"
      ],
      "execution_count": 78,
      "outputs": [
        {
          "output_type": "execute_result",
          "data": {
            "text/plain": [
              "array(['Buggy', 'Convertible', 'Coupé', 'Flower car', 'Hatchback',\n",
              "       'Hearse', 'Kombi', 'Limousine', 'Microvan', 'Minivan', 'Panel van',\n",
              "       'Panel truck', 'Pickup truck', 'Roadster', 'Sedan',\n",
              "       'Shooting-brake', 'Station wagon', 'Targa top', 'Ute', 'Baquet',\n",
              "       'Barchetta', 'Berlinetta', 'Cabrio coach', 'Coupé de ville',\n",
              "       'Hardtop', 'Landaulet', 'Luxury', 'Phaeton'], dtype='<U14')"
            ]
          },
          "metadata": {
            "tags": []
          },
          "execution_count": 78
        }
      ]
    },
    {
      "cell_type": "code",
      "metadata": {
        "colab": {
          "base_uri": "https://localhost:8080/"
        },
        "id": "S3A2d2pSohDB",
        "outputId": "3b027942-4dae-4825-a03b-57fa64380020"
      },
      "source": [
        "def style_categorize(style):\r\n",
        "    for style_comp in styles_vector:\r\n",
        "        if str(style_comp).lower() in str(style).lower():\r\n",
        "            return style_comp\r\n",
        "        else:\r\n",
        "            return \"Another\"\r\n",
        "\r\n",
        "\r\n",
        "vehicles_dataset['Style'].apply(style_categorize).value_counts()"
      ],
      "execution_count": 79,
      "outputs": [
        {
          "output_type": "execute_result",
          "data": {
            "text/plain": [
              "Another    14907\n",
              "Name: Style, dtype: int64"
            ]
          },
          "metadata": {
            "tags": []
          },
          "execution_count": 79
        }
      ]
    },
    {
      "cell_type": "code",
      "metadata": {
        "id": "WxIx9lMOLrjo"
      },
      "source": [
        "def style_categorize(style):\n",
        "    if 'sedan' in style.lower():\n",
        "        return 'Sedan'\n",
        "    elif 'convertible' in style.lower():\n",
        "        return 'Convertible'\n",
        "    elif \n"
      ],
      "execution_count": null,
      "outputs": []
    },
    {
      "cell_type": "code",
      "metadata": {
        "id": "pUgV9n_1qwU1"
      },
      "source": [
        ""
      ],
      "execution_count": 80,
      "outputs": []
    },
    {
      "cell_type": "markdown",
      "metadata": {
        "id": "j7wOJ5oV0BCU"
      },
      "source": [
        "'Bed Length' is next to go through."
      ]
    },
    {
      "cell_type": "code",
      "metadata": {
        "id": "Nii6t4DA0BCV",
        "colab": {
          "base_uri": "https://localhost:8080/"
        },
        "outputId": "4b246591-0f03-4a20-80c2-5316f57d39a0"
      },
      "source": [
        "print(\"'Bed Length' column has\", vehicles_dataset[\"Bed Length\"].isnull().sum(), \"null values.\")\n",
        "print(\"The other ones (\", vehicles_dataset[\"Bed Length\"].notnull().sum(), \") are:\", sep=\"\")\n",
        "vehicles_dataset['Bed Length'].value_counts()"
      ],
      "execution_count": 81,
      "outputs": [
        {
          "output_type": "stream",
          "text": [
            "'Bed Length' column has 13891 null values.\n",
            "The other ones (1016) are:\n"
          ],
          "name": "stdout"
        },
        {
          "output_type": "execute_result",
          "data": {
            "text/plain": [
              "Short Bed       492\n",
              "Standard Bed    423\n",
              "Long Bed        101\n",
              "Name: Bed Length, dtype: int64"
            ]
          },
          "metadata": {
            "tags": []
          },
          "execution_count": 81
        }
      ]
    },
    {
      "cell_type": "markdown",
      "metadata": {
        "id": "2V5vXklV0BCa"
      },
      "source": [
        "As seen above the bed length is null for almost all cases, so it will be discarded."
      ]
    },
    {
      "cell_type": "code",
      "metadata": {
        "id": "2sOq5QRo0BCa",
        "colab": {
          "base_uri": "https://localhost:8080/"
        },
        "outputId": "056b8cbc-a065-497c-9e1c-00583c218965"
      },
      "source": [
        "vehicles_dataset.drop(columns='Bed Length', inplace=True)\n",
        "vehicles_dataset.columns"
      ],
      "execution_count": 82,
      "outputs": [
        {
          "output_type": "execute_result",
          "data": {
            "text/plain": [
              "Index(['Make', 'Model', 'Year', 'Mileage', 'Transmission', 'Engine',\n",
              "       'Exterior Color', 'Interior Color', 'MPG', 'Fuel Type', 'Drive Type',\n",
              "       'Location (City)', 'Location (State)', 'Style', 'Condition (Accidents)',\n",
              "       'Options Level', 'Price'],\n",
              "      dtype='object')"
            ]
          },
          "metadata": {
            "tags": []
          },
          "execution_count": 82
        }
      ]
    },
    {
      "cell_type": "markdown",
      "metadata": {
        "id": "l7XlCW9QIJNj"
      },
      "source": [
        "Now, "
      ]
    },
    {
      "cell_type": "markdown",
      "metadata": {
        "id": "9tWL-LFp0BDc"
      },
      "source": [
        "Like there are just a few cases where the vehicles are yellow or green, we will get rid of these values."
      ]
    },
    {
      "cell_type": "code",
      "metadata": {
        "id": "tfiBfXFa0BDc",
        "colab": {
          "base_uri": "https://localhost:8080/"
        },
        "outputId": "193fd067-5032-41f9-fbc4-6210037b2259"
      },
      "source": [
        "colors_to_drop = list(vehicles_dataset['Exterior Color'].value_counts().index[-4:])\n",
        "colors_to_drop"
      ],
      "execution_count": 83,
      "outputs": [
        {
          "output_type": "execute_result",
          "data": {
            "text/plain": [
              "['Red', 'Beige or Brown', 'Gold', 'Green']"
            ]
          },
          "metadata": {
            "tags": []
          },
          "execution_count": 83
        }
      ]
    },
    {
      "cell_type": "code",
      "metadata": {
        "id": "xQJp5eNA0BDg",
        "colab": {
          "base_uri": "https://localhost:8080/"
        },
        "outputId": "98a15189-81f8-4ead-ba47-2edf89aae555"
      },
      "source": [
        "indexes = []\n",
        "\n",
        "\n",
        "for color in colors_to_drop:\n",
        "    indexes += list(vehicles_dataset[vehicles_dataset[\"Exterior Color\"] == color].index)\n",
        "    \n",
        "    \n",
        "vehicles_dataset.drop(indexes, inplace=True)\n",
        "vehicles_dataset.shape"
      ],
      "execution_count": 84,
      "outputs": [
        {
          "output_type": "execute_result",
          "data": {
            "text/plain": [
              "(14186, 17)"
            ]
          },
          "metadata": {
            "tags": []
          },
          "execution_count": 84
        }
      ]
    },
    {
      "cell_type": "code",
      "metadata": {
        "id": "31UIKtCo0BDk",
        "colab": {
          "base_uri": "https://localhost:8080/",
          "height": 312
        },
        "outputId": "f3dd53fc-3b5d-449e-c3a2-3691822e5ff7"
      },
      "source": [
        "ax = sns.countplot(x=\"Exterior Color\", data=vehicles_dataset, palette=\"Set1\")\n",
        "ax.set_title(\"Exterior colors by occurrences\")"
      ],
      "execution_count": 85,
      "outputs": [
        {
          "output_type": "execute_result",
          "data": {
            "text/plain": [
              "Text(0.5, 1.0, 'Exterior colors by occurrences')"
            ]
          },
          "metadata": {
            "tags": []
          },
          "execution_count": 85
        },
        {
          "output_type": "display_data",
          "data": {
            "image/png": "[encoded data removed]",
            "text/plain": [
              "<Figure size 432x288 with 1 Axes>"
            ]
          },
          "metadata": {
            "tags": [],
            "needs_background": "light"
          }
        }
      ]
    },
    {
      "cell_type": "markdown",
      "metadata": {
        "id": "8mqVV45B0BDo"
      },
      "source": [
        "Now, 'Engine' will be analyzed."
      ]
    },
    {
      "cell_type": "code",
      "metadata": {
        "id": "qPZTC5YE0BDq",
        "colab": {
          "base_uri": "https://localhost:8080/"
        },
        "outputId": "afe4acdc-afda-4e87-912b-1940cd932b72"
      },
      "source": [
        "vehicles_dataset['Engine'].isnull().sum()"
      ],
      "execution_count": 86,
      "outputs": [
        {
          "output_type": "execute_result",
          "data": {
            "text/plain": [
              "2668"
            ]
          },
          "metadata": {
            "tags": []
          },
          "execution_count": 86
        }
      ]
    },
    {
      "cell_type": "code",
      "metadata": {
        "id": "NCpB2e6W0BDy",
        "colab": {
          "base_uri": "https://localhost:8080/"
        },
        "outputId": "7d22d305-594d-432f-9aa1-0abd3e469e6f"
      },
      "source": [
        "vehicles_dataset['Engine'].value_counts()"
      ],
      "execution_count": 87,
      "outputs": [
        {
          "output_type": "execute_result",
          "data": {
            "text/plain": [
              "2.5L Inline-4 Gas            1892\n",
              "1.8L Inline-4 Gas            1292\n",
              "3.6L V-6 Gas                 1259\n",
              "2.4L Inline-4 Gas            1257\n",
              "3.5L V-6 Gas                 1132\n",
              "                             ... \n",
              "3.8L Flat-6 Gas                 1\n",
              "3.5L Inline-5 Gas               1\n",
              "1.7L Inline-4 Gas               1\n",
              "5.0L V-10 Gas                   1\n",
              "4.6L V-8 Gas Turbocharged       1\n",
              "Name: Engine, Length: 105, dtype: int64"
            ]
          },
          "metadata": {
            "tags": []
          },
          "execution_count": 87
        }
      ]
    },
    {
      "cell_type": "markdown",
      "metadata": {
        "id": "zFtsgjxY0BD1"
      },
      "source": [
        "We are going to check on all the variants for each 'Inline', 'Flat' and 'Vs' engines, so we can filter them into more crowded categories"
      ]
    },
    {
      "cell_type": "code",
      "metadata": {
        "id": "KqnYwFrb0BD2",
        "colab": {
          "base_uri": "https://localhost:8080/"
        },
        "outputId": "34e4c077-bdfd-4ad8-8671-7581a4d219be"
      },
      "source": [
        "sorted(vehicles_dataset['Engine'].value_counts().index.to_list())"
      ],
      "execution_count": 88,
      "outputs": [
        {
          "output_type": "execute_result",
          "data": {
            "text/plain": [
              "['0.6L Inline-2 Plug-In',\n",
              " '1.0L Inline-3 Gas',\n",
              " '1.2L Inline-3 Gas',\n",
              " '1.3L Inline-4 Hybrid',\n",
              " '1.4L Inline-4 Gas',\n",
              " '1.4L Inline-4 Plug-In',\n",
              " '1.5L Inline-4 Gas',\n",
              " '1.5L Inline-4 Hybrid',\n",
              " '1.5L Inline-4 Plug-In',\n",
              " '1.6L Inline-4 Gas',\n",
              " '1.6L Inline-4 Hybrid',\n",
              " '1.7L Inline-4 Gas',\n",
              " '1.8L Inline-4 Gas',\n",
              " '1.8L Inline-4 Hybrid',\n",
              " '1.8L Inline-4 Plug-In',\n",
              " '2.0L Flat-4 Gas',\n",
              " '2.0L Inline-4 Gas',\n",
              " '2.0L Inline-4 Hybrid',\n",
              " '2.0L Inline-4 Plug-In',\n",
              " '2.0L V-4 Gas Turbocharged',\n",
              " '2.2L Inline-4 Gas',\n",
              " '2.3L Inline-4 Gas',\n",
              " '2.3L V-4 Gas Turbocharged',\n",
              " '2.4L Inline-4 Gas',\n",
              " '2.4L Inline-4 Hybrid',\n",
              " '2.4L Inline-5 Gas',\n",
              " '2.5L Flat-4 Gas',\n",
              " '2.5L Flat-6 Gas',\n",
              " '2.5L Inline-4 Gas',\n",
              " '2.5L Inline-4 Hybrid',\n",
              " '2.5L Inline-5 Gas',\n",
              " '2.5L Inline-6 Gas',\n",
              " '2.5L V-6 Gas',\n",
              " '2.7L Flat-6 Gas',\n",
              " '2.7L Inline-4 Gas',\n",
              " '2.7L V-6 Gas',\n",
              " '2.7L V-6 Gas Turbocharged',\n",
              " '2.8L V-6 Gas',\n",
              " '2.9L Inline-4 Gas',\n",
              " '3.0L Flat-6 Gas',\n",
              " '3.0L Inline-6 Gas',\n",
              " '3.0L V-6 Gas',\n",
              " '3.0L V-6 Gas Supercharged',\n",
              " '3.0L V-6 Gas Turbocharged',\n",
              " '3.1L V-6 Gas',\n",
              " '3.2L Flat-6 Gas',\n",
              " '3.2L Inline-6 Gas',\n",
              " '3.2L V-6 Gas',\n",
              " '3.3L V-6 Gas',\n",
              " '3.3L V-6 Gas Turbocharged',\n",
              " '3.3L V-6 Hybrid',\n",
              " '3.4L Flat-6 Gas',\n",
              " '3.4L V-6 Gas',\n",
              " '3.5L Inline-5 Gas',\n",
              " '3.5L V-6 Gas',\n",
              " '3.5L V-6 Gas Turbocharged',\n",
              " '3.5L V-6 Hybrid',\n",
              " '3.6L Flat-6 Gas',\n",
              " '3.6L V-6 Gas',\n",
              " '3.6L V-6 Plug-In',\n",
              " '3.7L Inline-5 Gas',\n",
              " '3.7L V-6 Gas',\n",
              " '3.8L Flat-6 Gas',\n",
              " '3.8L V-6 Gas',\n",
              " '3.9L V-6 Gas',\n",
              " '3.9L V-8 Gas',\n",
              " '4.0L Inline-6 Gas',\n",
              " '4.0L V-6 Gas',\n",
              " '4.0L V-8 Gas',\n",
              " '4.0L V-8 Gas Turbocharged',\n",
              " '4.2L Inline-6 Gas',\n",
              " '4.2L V-6 Gas',\n",
              " '4.2L V-8 Gas',\n",
              " '4.3L V-6 Gas',\n",
              " '4.3L V-8 Gas',\n",
              " '4.4L V-8 Gas',\n",
              " '4.4L V-8 Gas Turbocharged',\n",
              " '4.5L V-8 Gas',\n",
              " '4.6L V-8 Gas',\n",
              " '4.6L V-8 Gas Turbocharged',\n",
              " '4.7L Inline-8 Gas',\n",
              " '4.7L V-8 Gas',\n",
              " '4.7L V-8 Gas Turbocharged',\n",
              " '4.8L V-8 Gas',\n",
              " '5.0L V-10 Gas',\n",
              " '5.0L V-8 Gas',\n",
              " '5.0L V-8 Gas Supercharged',\n",
              " '5.0L V-8 Gas Turbocharged',\n",
              " '5.3L V-8 Gas',\n",
              " '5.4L V-8 Gas',\n",
              " '5.5L V-12 Gas Turbocharged',\n",
              " '5.5L V-8 Gas',\n",
              " '5.6L V-8 Gas',\n",
              " '5.7L V-8 Gas',\n",
              " '5.9L V-8 Gas',\n",
              " '6.0L V-8 Gas',\n",
              " '6.0L V-8 Hybrid',\n",
              " '6.0L W-12 Gas',\n",
              " '6.0L W-12 Gas Turbocharged',\n",
              " '6.1L V-8 Gas',\n",
              " '6.2L V-8 Gas',\n",
              " '6.3L V-8 Gas',\n",
              " '6.4L V-8 Gas',\n",
              " '6.8L V-10 Gas',\n",
              " 'L - Electric']"
            ]
          },
          "metadata": {
            "tags": []
          },
          "execution_count": 88
        }
      ]
    },
    {
      "cell_type": "code",
      "metadata": {
        "id": "5O8467mC0BEC",
        "colab": {
          "base_uri": "https://localhost:8080/"
        },
        "outputId": "924c7411-5967-4b61-f378-c8401272b245"
      },
      "source": [
        "for j in [\"Inline\", \"Flat\", \"V\"]:\n",
        "\n",
        "    for i in vehicles_dataset['Engine'].value_counts().index.to_list():\n",
        "        if j in i:\n",
        "            print(i)"
      ],
      "execution_count": 89,
      "outputs": [
        {
          "output_type": "stream",
          "text": [
            "2.5L Inline-4 Gas\n",
            "1.8L Inline-4 Gas\n",
            "2.4L Inline-4 Gas\n",
            "2.0L Inline-4 Gas\n",
            "1.6L Inline-4 Gas\n",
            "2.0L Inline-4 Hybrid\n",
            "1.8L Inline-4 Hybrid\n",
            "3.0L Inline-6 Gas\n",
            "2.5L Inline-4 Hybrid\n",
            "1.5L Inline-4 Gas\n",
            "0.6L Inline-2 Plug-In\n",
            "2.4L Inline-4 Hybrid\n",
            "1.5L Inline-4 Hybrid\n",
            "1.4L Inline-4 Plug-In\n",
            "2.0L Inline-4 Plug-In\n",
            "3.2L Inline-6 Gas\n",
            "2.5L Inline-5 Gas\n",
            "2.7L Inline-4 Gas\n",
            "1.2L Inline-3 Gas\n",
            "2.2L Inline-4 Gas\n",
            "2.5L Inline-6 Gas\n",
            "2.3L Inline-4 Gas\n",
            "4.2L Inline-6 Gas\n",
            "3.7L Inline-5 Gas\n",
            "4.7L Inline-8 Gas\n",
            "1.5L Inline-4 Plug-In\n",
            "1.3L Inline-4 Hybrid\n",
            "2.4L Inline-5 Gas\n",
            "1.6L Inline-4 Hybrid\n",
            "1.4L Inline-4 Gas\n",
            "2.9L Inline-4 Gas\n",
            "1.8L Inline-4 Plug-In\n",
            "4.0L Inline-6 Gas\n",
            "1.0L Inline-3 Gas\n",
            "3.5L Inline-5 Gas\n",
            "1.7L Inline-4 Gas\n",
            "2.5L Flat-4 Gas\n",
            "2.0L Flat-4 Gas\n",
            "3.6L Flat-6 Gas\n",
            "3.0L Flat-6 Gas\n",
            "2.7L Flat-6 Gas\n",
            "3.4L Flat-6 Gas\n",
            "3.2L Flat-6 Gas\n",
            "2.5L Flat-6 Gas\n",
            "3.8L Flat-6 Gas\n",
            "3.6L V-6 Gas\n",
            "3.5L V-6 Gas\n",
            "5.7L V-8 Gas\n",
            "4.0L V-6 Gas\n",
            "5.3L V-8 Gas\n",
            "3.5L V-6 Gas Turbocharged\n",
            "3.7L V-6 Gas\n",
            "6.0L V-8 Gas\n",
            "5.0L V-8 Gas\n",
            "3.8L V-6 Gas\n",
            "3.0L V-6 Gas\n",
            "6.2L V-8 Gas\n",
            "3.3L V-6 Gas\n",
            "4.6L V-8 Gas\n",
            "2.7L V-6 Gas Turbocharged\n",
            "3.0L V-6 Gas Turbocharged\n",
            "5.4L V-8 Gas\n",
            "5.5L V-8 Gas\n",
            "2.0L V-4 Gas Turbocharged\n",
            "5.6L V-8 Gas\n",
            "3.0L V-6 Gas Supercharged\n",
            "4.3L V-6 Gas\n",
            "6.4L V-8 Gas\n",
            "3.2L V-6 Gas\n",
            "3.9L V-8 Gas\n",
            "4.7L V-8 Gas\n",
            "2.3L V-4 Gas Turbocharged\n",
            "4.3L V-8 Gas\n",
            "4.8L V-8 Gas\n",
            "2.5L V-6 Gas\n",
            "4.7L V-8 Gas Turbocharged\n",
            "2.8L V-6 Gas\n",
            "5.0L V-8 Gas Turbocharged\n",
            "3.5L V-6 Hybrid\n",
            "6.8L V-10 Gas\n",
            "4.0L V-8 Gas Turbocharged\n",
            "3.1L V-6 Gas\n",
            "5.0L V-8 Gas Supercharged\n",
            "2.7L V-6 Gas\n",
            "3.3L V-6 Gas Turbocharged\n",
            "4.2L V-8 Gas\n",
            "6.1L V-8 Gas\n",
            "3.9L V-6 Gas\n",
            "3.3L V-6 Hybrid\n",
            "3.6L V-6 Plug-In\n",
            "5.5L V-12 Gas Turbocharged\n",
            "4.0L V-8 Gas\n",
            "4.4L V-8 Gas Turbocharged\n",
            "6.0L V-8 Hybrid\n",
            "4.4L V-8 Gas\n",
            "5.9L V-8 Gas\n",
            "3.4L V-6 Gas\n",
            "4.2L V-6 Gas\n",
            "4.5L V-8 Gas\n",
            "6.3L V-8 Gas\n",
            "5.0L V-10 Gas\n",
            "4.6L V-8 Gas Turbocharged\n"
          ],
          "name": "stdout"
        }
      ]
    },
    {
      "cell_type": "code",
      "metadata": {
        "id": "DSyXdbtC0BEF"
      },
      "source": [
        "def engine_categorize(engine_type):\n",
        "    if \"V-\" in engine_type:\n",
        "        return re.findall(\"V.+\", engine_type)[0]\n",
        "    elif \"Inline\" in engine_type:\n",
        "        return re.findall(\"I.+\", engine_type)[0]\n",
        "    elif \"Flat\" in engine_type:\n",
        "        return re.findall(\"F.+\", engine_type)[0]\n",
        "    else:\n",
        "        return \"Another\""
      ],
      "execution_count": 90,
      "outputs": []
    },
    {
      "cell_type": "code",
      "metadata": {
        "id": "lOVBxTAl0BEK",
        "colab": {
          "base_uri": "https://localhost:8080/"
        },
        "outputId": "b84e05ec-ee80-41b2-b034-54647cab3b92"
      },
      "source": [
        "re.findall(\"V-[1-8][0-2]?\", \"5.4L V-10 Gas Supercharged\")"
      ],
      "execution_count": 91,
      "outputs": [
        {
          "output_type": "execute_result",
          "data": {
            "text/plain": [
              "['V-10']"
            ]
          },
          "metadata": {
            "tags": []
          },
          "execution_count": 91
        }
      ]
    },
    {
      "cell_type": "code",
      "metadata": {
        "id": "fDUgVoRj0BER",
        "colab": {
          "base_uri": "https://localhost:8080/"
        },
        "outputId": "efb30872-c872-4658-9190-77a13468f77b"
      },
      "source": [
        "vehicles_dataset['Engine'] = vehicles_dataset['Engine'].astype(str)\n",
        "vehicles_dataset['Engine'].apply(engine_categorize).value_counts()"
      ],
      "execution_count": 92,
      "outputs": [
        {
          "output_type": "execute_result",
          "data": {
            "text/plain": [
              "Inline-4 Gas             5990\n",
              "V-6 Gas                  3084\n",
              "Another                  2728\n",
              "V-8 Gas                  1059\n",
              "Inline-4 Hybrid           436\n",
              "V-6 Gas Turbocharged      280\n",
              "Flat-4 Gas                214\n",
              "Inline-6 Gas               99\n",
              "V-4 Gas Turbocharged       60\n",
              "Inline-4 Plug-In           45\n",
              "V-6 Gas Supercharged       33\n",
              "V-8 Gas Turbocharged       32\n",
              "Inline-5 Gas               26\n",
              "Inline-2 Plug-In           25\n",
              "Flat-6 Gas                 22\n",
              "V-6 Hybrid                 13\n",
              "Inline-3 Gas               12\n",
              "V-10 Gas                    9\n",
              "Inline-8 Gas                6\n",
              "V-8 Gas Supercharged        6\n",
              "V-6 Plug-In                 3\n",
              "V-8 Hybrid                  2\n",
              "V-12 Gas Turbocharged       2\n",
              "Name: Engine, dtype: int64"
            ]
          },
          "metadata": {
            "tags": []
          },
          "execution_count": 92
        }
      ]
    },
    {
      "cell_type": "markdown",
      "metadata": {
        "id": "NHZIY_k30BEV"
      },
      "source": [
        "Let's filter these engine types up a bit more, so outliers stay out."
      ]
    },
    {
      "cell_type": "code",
      "metadata": {
        "id": "EWOeu2By0BEW"
      },
      "source": [
        "def engine_categorize(engine_type):\n",
        "    if engine_type.endswith(\"V-6 Gas\"):\n",
        "        return re.findall(\"V.+\", engine_type)[0]\n",
        "    elif \"V-6\" in engine_type:\n",
        "        return \"V-6 Gas Turbo/Supercharged\"\n",
        "    elif \"V-8\" in engine_type:\n",
        "        return \"V-8\"\n",
        "    elif \"V-\" in engine_type:\n",
        "        return \"V-4/10/12\"\n",
        "    elif \"Inline-4 Gas\" in engine_type:\n",
        "        return \"Inline-4 Gas\"\n",
        "    elif \"Inline-4\" in engine_type:\n",
        "        return \"Inline-4 Plug-In/Hybrid\"\n",
        "    elif \"Inline-6\" in engine_type:\n",
        "        return \"Inline-6\"\n",
        "    elif \"Inline\" in engine_type:\n",
        "        return \"Inline 2/3/5/8\"\n",
        "    elif \"Flat\" in engine_type:\n",
        "        return re.findall(\"Flat-[46]\", engine_type)[0]\n",
        "    else:\n",
        "        return \"Another\""
      ],
      "execution_count": 93,
      "outputs": []
    },
    {
      "cell_type": "code",
      "metadata": {
        "id": "AufoT24U0BEj",
        "colab": {
          "base_uri": "https://localhost:8080/"
        },
        "outputId": "9f7b6aee-b84e-4ccd-c321-860ff54792e8"
      },
      "source": [
        "vehicles_dataset['Engine'] = vehicles_dataset['Engine'].apply(engine_categorize)\n",
        "vehicles_dataset['Engine'].value_counts()"
      ],
      "execution_count": 94,
      "outputs": [
        {
          "output_type": "execute_result",
          "data": {
            "text/plain": [
              "Inline-4 Gas                  5990\n",
              "V-6 Gas                       3084\n",
              "Another                       2728\n",
              "V-8                           1099\n",
              "Inline-4 Plug-In/Hybrid        481\n",
              "V-6 Gas Turbo/Supercharged     329\n",
              "Flat-4                         214\n",
              "Inline-6                        99\n",
              "V-4/10/12                       71\n",
              "Inline 2/3/5/8                  69\n",
              "Flat-6                          22\n",
              "Name: Engine, dtype: int64"
            ]
          },
          "metadata": {
            "tags": []
          },
          "execution_count": 94
        }
      ]
    },
    {
      "cell_type": "markdown",
      "metadata": {
        "id": "BFabzgEoMIOt"
      },
      "source": [
        "Now, for the location variables, in order to establish a strength of association (categorical correlation) measure between them, it is being used the Cramer's V statistic, based on Pearson's Chi-Square test for numerical data."
      ]
    },
    {
      "cell_type": "code",
      "metadata": {
        "id": "kb3jywVOS5ci",
        "colab": {
          "base_uri": "https://localhost:8080/"
        },
        "outputId": "ca83f9cd-1999-4d76-af10-a52b895e3c53"
      },
      "source": [
        "print(vehicles_dataset['Location (City)'].isnull().sum())\n",
        "vehicles_dataset['Location (City)'].value_counts()"
      ],
      "execution_count": 95,
      "outputs": [
        {
          "output_type": "stream",
          "text": [
            "55\n"
          ],
          "name": "stdout"
        },
        {
          "output_type": "execute_result",
          "data": {
            "text/plain": [
              "Phoenix            217\n",
              "Houston            181\n",
              "San Antonio        160\n",
              "Raleigh            139\n",
              "Jacksonville       139\n",
              "                  ... \n",
              "Downingtown          1\n",
              "Wait Park            1\n",
              "College Station      1\n",
              "Lithonia             1\n",
              "Wilsonville          1\n",
              "Name: Location (City), Length: 1263, dtype: int64"
            ]
          },
          "metadata": {
            "tags": []
          },
          "execution_count": 95
        }
      ]
    },
    {
      "cell_type": "code",
      "metadata": {
        "id": "dH-M255fS5Zh",
        "colab": {
          "base_uri": "https://localhost:8080/"
        },
        "outputId": "401e28cc-9086-4260-bb8f-b48fd125dcda"
      },
      "source": [
        "print(vehicles_dataset['Location (State)'].isnull().sum())\n",
        "vehicles_dataset['Location (State)'].unique()"
      ],
      "execution_count": 96,
      "outputs": [
        {
          "output_type": "stream",
          "text": [
            "84\n"
          ],
          "name": "stdout"
        },
        {
          "output_type": "execute_result",
          "data": {
            "text/plain": [
              "array(['WA', 'TX', 'CA', 'FL', 'MS', 'VA', 'OH', 'AL', 'IN', 'OK', 'GA',\n",
              "       'NY', 'MA', 'IL', 'NJ', 'TN', 'NC', 'MO', 'ME', 'MD', 'MN', 'AZ',\n",
              "       'WI', 'SC', 'LA', 'CO', 'KY', 'NM', 'AR', 'PA', 'OR', 'CT', 'KS',\n",
              "       nan, 'NV', 'ID', 'UT', 'HI', 'NH', 'IA', 'MI', 'MT', 'NE', 'WY',\n",
              "       'AK', 'DE', 'WV', 'VT', 'SD', 'RI', 'UK', 'ND', 'SO'], dtype=object)"
            ]
          },
          "metadata": {
            "tags": []
          },
          "execution_count": 96
        }
      ]
    },
    {
      "cell_type": "code",
      "metadata": {
        "id": "ZXf83PnYNcIQ",
        "colab": {
          "base_uri": "https://localhost:8080/"
        },
        "outputId": "a16cbc05-831b-4206-f11e-0c18581e1254"
      },
      "source": [
        "dn.cramers_v(vehicles_dataset['Location (City)'], vehicles_dataset['Location (State)'])"
      ],
      "execution_count": 97,
      "outputs": [
        {
          "output_type": "execute_result",
          "data": {
            "text/plain": [
              "0.9095768734960363"
            ]
          },
          "metadata": {
            "tags": []
          },
          "execution_count": 97
        }
      ]
    },
    {
      "cell_type": "markdown",
      "metadata": {
        "id": "5TpfdgXnObFS"
      },
      "source": [
        "This shows a high association between location features, which is logic as they represent the same information, just that 'Location (City)' is more specific, therefore with more unique values."
      ]
    },
    {
      "cell_type": "markdown",
      "metadata": {
        "id": "WJQnlrrgO1Lw"
      },
      "source": [
        "However, Cramer's V is symmetrical, which means variable 'x' gives the same information over variable 'y' as viceversa.\n",
        "But this cannot be the case, as some valuable data would ended up being lost."
      ]
    },
    {
      "cell_type": "markdown",
      "metadata": {
        "id": "W0RjE2RGQkoU"
      },
      "source": [
        "It is to be solved by implementing the Uncertainty Coefficient, or Theil's U metric, which is a asymmetrical measure; delivering for a given 'x' the possible states for 'y'."
      ]
    },
    {
      "cell_type": "code",
      "metadata": {
        "id": "7Yb2QnntRcgT",
        "colab": {
          "base_uri": "https://localhost:8080/"
        },
        "outputId": "94940054-072f-4bca-a22f-316c58a17823"
      },
      "source": [
        "print(dn.theils_u(vehicles_dataset['Location (City)'], ['Location (States)']))\n",
        "dn.theils_u(vehicles_dataset['Location (State)'], vehicles_dataset['Location (City)'])"
      ],
      "execution_count": 98,
      "outputs": [
        {
          "output_type": "stream",
          "text": [
            "1.0\n"
          ],
          "name": "stdout"
        },
        {
          "output_type": "execute_result",
          "data": {
            "text/plain": [
              "0.9628437923714575"
            ]
          },
          "metadata": {
            "tags": []
          },
          "execution_count": 98
        }
      ]
    },
    {
      "cell_type": "markdown",
      "metadata": {
        "id": "7J6AfJBwRwA2"
      },
      "source": [
        "This is more accurate for estimations.\n",
        "Associations between features are now to be checked down below."
      ]
    },
    {
      "cell_type": "code",
      "metadata": {
        "id": "JTMSn2HaTsxP",
        "colab": {
          "base_uri": "https://localhost:8080/"
        },
        "outputId": "daa56cd1-1483-4957-b8e1-bd94c79ee5b6"
      },
      "source": [
        "numerical_variables = ['Mileage', 'MPG', 'Price']\n",
        "#categorical_variables = list(filter(lambda var: (False, True)[var not in numerical_variables], vehicles_dataset.columns.to_list()))\n",
        "categorical_variables = list(filter(lambda var: bool(var not in numerical_variables), vehicles_dataset.columns.to_list()))\n",
        "categorical_variables"
      ],
      "execution_count": 99,
      "outputs": [
        {
          "output_type": "execute_result",
          "data": {
            "text/plain": [
              "['Make',\n",
              " 'Model',\n",
              " 'Year',\n",
              " 'Transmission',\n",
              " 'Engine',\n",
              " 'Exterior Color',\n",
              " 'Interior Color',\n",
              " 'Fuel Type',\n",
              " 'Drive Type',\n",
              " 'Location (City)',\n",
              " 'Location (State)',\n",
              " 'Style',\n",
              " 'Condition (Accidents)',\n",
              " 'Options Level']"
            ]
          },
          "metadata": {
            "tags": []
          },
          "execution_count": 99
        }
      ]
    },
    {
      "cell_type": "code",
      "metadata": {
        "id": "kvsYawN-X_Ve"
      },
      "source": [
        "categorical_data = pd.DataFrame(data=vehicles_dataset, columns=categorical_variables)"
      ],
      "execution_count": 100,
      "outputs": []
    },
    {
      "cell_type": "code",
      "metadata": {
        "id": "TPVak8EA3ehB",
        "colab": {
          "base_uri": "https://localhost:8080/",
          "height": 746
        },
        "outputId": "291add32-64d0-4f1d-93f6-16e367b31857"
      },
      "source": [
        "dn.associations(\n",
        "    categorical_data.dropna(),\n",
        "    theil_u=True, nan_strategy='drop_samples', figsize=(10,10))['ax']"
      ],
      "execution_count": 101,
      "outputs": [
        {
          "output_type": "stream",
          "text": [
            "/usr/local/lib/python3.6/dist-packages/dython/nominal.py:310: SettingWithCopyWarning: \n",
            "A value is trying to be set on a copy of a slice from a DataFrame\n",
            "\n",
            "See the caveats in the documentation: https://pandas.pydata.org/pandas-docs/stable/user_guide/indexing.html#returning-a-view-versus-a-copy\n",
            "  dataset.dropna(axis=0, inplace=True)\n"
          ],
          "name": "stderr"
        },
        {
          "output_type": "display_data",
          "data": {
            "image/png": "[encoded data removed]",
            "text/plain": [
              "<Figure size 720x720 with 2 Axes>"
            ]
          },
          "metadata": {
            "tags": [],
            "needs_background": "light"
          }
        },
        {
          "output_type": "execute_result",
          "data": {
            "text/plain": [
              "<matplotlib.axes._subplots.AxesSubplot at 0x7fe100db8438>"
            ]
          },
          "metadata": {
            "tags": []
          },
          "execution_count": 101
        }
      ]
    },
    {
      "cell_type": "markdown",
      "metadata": {
        "id": "witewC7VSTR4"
      },
      "source": [
        "Then, 'Location (City)' will be eliminated."
      ]
    },
    {
      "cell_type": "code",
      "metadata": {
        "id": "9kqcSKJJbPqB"
      },
      "source": [
        "vehicles_dataset.drop(columns='Location (City)', inplace=True)"
      ],
      "execution_count": 102,
      "outputs": []
    },
    {
      "cell_type": "markdown",
      "metadata": {
        "id": "WMJhXeObbZpc"
      },
      "source": [
        "Location (State)' has still a lot of null values to deal with.\n",
        "Another category representing them will is created."
      ]
    },
    {
      "cell_type": "code",
      "metadata": {
        "id": "SzuqsRtALdoZ",
        "colab": {
          "base_uri": "https://localhost:8080/"
        },
        "outputId": "6f122c75-151b-4cf4-dce5-9c430a0c8fb6"
      },
      "source": [
        "vehicles_dataset['Location (State)'].value_counts()"
      ],
      "execution_count": 103,
      "outputs": [
        {
          "output_type": "execute_result",
          "data": {
            "text/plain": [
              "TX    1738\n",
              "CA    1481\n",
              "FL    1464\n",
              "VA     714\n",
              "AZ     682\n",
              "NC     660\n",
              "IL     638\n",
              "GA     517\n",
              "CO     374\n",
              "NJ     373\n",
              "TN     362\n",
              "WA     361\n",
              "PA     314\n",
              "MD     312\n",
              "OH     300\n",
              "NY     296\n",
              "MA     250\n",
              "SC     249\n",
              "IN     247\n",
              "AL     212\n",
              "OK     206\n",
              "MO     203\n",
              "KY     178\n",
              "CT     172\n",
              "OR     156\n",
              "NV     154\n",
              "UT     131\n",
              "LA     126\n",
              "AR     125\n",
              "WI     109\n",
              "MN     102\n",
              "KS      98\n",
              "MI      94\n",
              "NE      80\n",
              "HI      73\n",
              "NH      72\n",
              "MS      68\n",
              "IA      65\n",
              "NM      60\n",
              "ME      58\n",
              "ID      50\n",
              "MT      43\n",
              "DE      29\n",
              "WY      29\n",
              "AK      23\n",
              "SD      19\n",
              "VT      12\n",
              "ND      11\n",
              "RI       7\n",
              "WV       3\n",
              "SO       1\n",
              "UK       1\n",
              "Name: Location (State), dtype: int64"
            ]
          },
          "metadata": {
            "tags": []
          },
          "execution_count": 103
        }
      ]
    },
    {
      "cell_type": "code",
      "metadata": {
        "id": "dyJ-WpW2cqDa"
      },
      "source": [
        "#np.where(vehicles_dataset['Location (State)'] == 'UK', 'Other', vehicles_dataset['Location (State)'])"
      ],
      "execution_count": 104,
      "outputs": []
    },
    {
      "cell_type": "code",
      "metadata": {
        "id": "0WTWOjDUh733",
        "colab": {
          "base_uri": "https://localhost:8080/"
        },
        "outputId": "83d94762-d527-4795-f50d-69dd06fa4da7"
      },
      "source": [
        "vehicles_dataset['Location (State)'].apply(lambda st: (st, 'Other')[st in ['UK', 'SO', 'WV', np.NaN]]).value_counts()"
      ],
      "execution_count": 105,
      "outputs": [
        {
          "output_type": "execute_result",
          "data": {
            "text/plain": [
              "TX       1738\n",
              "CA       1481\n",
              "FL       1464\n",
              "VA        714\n",
              "AZ        682\n",
              "NC        660\n",
              "IL        638\n",
              "GA        517\n",
              "CO        374\n",
              "NJ        373\n",
              "TN        362\n",
              "WA        361\n",
              "PA        314\n",
              "MD        312\n",
              "OH        300\n",
              "NY        296\n",
              "MA        250\n",
              "SC        249\n",
              "IN        247\n",
              "AL        212\n",
              "OK        206\n",
              "MO        203\n",
              "KY        178\n",
              "CT        172\n",
              "OR        156\n",
              "NV        154\n",
              "UT        131\n",
              "LA        126\n",
              "AR        125\n",
              "WI        109\n",
              "MN        102\n",
              "KS         98\n",
              "MI         94\n",
              "Other      89\n",
              "NE         80\n",
              "HI         73\n",
              "NH         72\n",
              "MS         68\n",
              "IA         65\n",
              "NM         60\n",
              "ME         58\n",
              "ID         50\n",
              "MT         43\n",
              "DE         29\n",
              "WY         29\n",
              "AK         23\n",
              "SD         19\n",
              "VT         12\n",
              "ND         11\n",
              "RI          7\n",
              "Name: Location (State), dtype: int64"
            ]
          },
          "metadata": {
            "tags": []
          },
          "execution_count": 105
        }
      ]
    },
    {
      "cell_type": "code",
      "metadata": {
        "id": "LIoyp2HClk3G"
      },
      "source": [
        ""
      ],
      "execution_count": 105,
      "outputs": []
    }
  ]
}