{
 "cells": [
  {
   "cell_type": "code",
   "execution_count": 65,
   "metadata": {},
   "outputs": [],
   "source": [
    "import itertools\n",
    "import pandas as pd\n",
    "import numpy as np\n",
    "import scipy.stats\n",
    "import re\n",
    "import math\n",
    "import matplotlib as mlp\n",
    "import matplotlib.pyplot as plt\n",
    "import matplotlib.backends.backend_agg\n",
    "import matplotlib.figure\n",
    "import seaborn as sns\n",
    "import datetime\n",
    "from sklearn import preprocessing\n",
    "from sklearn.model_selection import train_test_split\n",
    "from sklearn.linear_model import LogisticRegression\n",
    "from sklearn.metrics import confusion_matrix, accuracy_score\n",
    "from sklearn.preprocessing import LabelEncoder, OneHotEncoder, LabelBinarizer\n",
    "from sklearn.metrics import roc_curve, roc_auc_score"
   ]
  },
  {
   "cell_type": "code",
   "execution_count": 66,
   "metadata": {},
   "outputs": [
    {
     "name": "stdout",
     "output_type": "stream",
     "text": [
      "(16920, 18)\n"
     ]
    },
    {
     "data": {
      "text/html": [
       "<div>\n",
       "<style scoped>\n",
       "    .dataframe tbody tr th:only-of-type {\n",
       "        vertical-align: middle;\n",
       "    }\n",
       "\n",
       "    .dataframe tbody tr th {\n",
       "        vertical-align: top;\n",
       "    }\n",
       "\n",
       "    .dataframe thead th {\n",
       "        text-align: right;\n",
       "    }\n",
       "</style>\n",
       "<table border=\"1\" class=\"dataframe\">\n",
       "  <thead>\n",
       "    <tr style=\"text-align: right;\">\n",
       "      <th></th>\n",
       "      <th>Make</th>\n",
       "      <th>Model</th>\n",
       "      <th>Year</th>\n",
       "      <th>Mileage</th>\n",
       "      <th>Transmission</th>\n",
       "      <th>Engine</th>\n",
       "      <th>Exterior Color</th>\n",
       "      <th>Interior Color</th>\n",
       "      <th>MPG</th>\n",
       "      <th>Fuel Type</th>\n",
       "      <th>Drive Type</th>\n",
       "      <th>Location (City)</th>\n",
       "      <th>Location (State)</th>\n",
       "      <th>Style</th>\n",
       "      <th>Condition (Accidents)</th>\n",
       "      <th>Options Level</th>\n",
       "      <th>Bed Length</th>\n",
       "      <th>Price</th>\n",
       "    </tr>\n",
       "  </thead>\n",
       "  <tbody>\n",
       "    <tr>\n",
       "      <th>0</th>\n",
       "      <td>Ford</td>\n",
       "      <td>Focus</td>\n",
       "      <td>2014.0</td>\n",
       "      <td>35,795</td>\n",
       "      <td>Automatic</td>\n",
       "      <td>2.0L Inline-4 Gas</td>\n",
       "      <td>NaN</td>\n",
       "      <td>Charcoal Black</td>\n",
       "      <td>26 cty / 36 hwy</td>\n",
       "      <td>Gas</td>\n",
       "      <td>FWD</td>\n",
       "      <td>Tacoma</td>\n",
       "      <td>WA</td>\n",
       "      <td>SE Hatchback</td>\n",
       "      <td>2 reported accidents</td>\n",
       "      <td>Standard</td>\n",
       "      <td>NaN</td>\n",
       "      <td>7,999</td>\n",
       "    </tr>\n",
       "    <tr>\n",
       "      <th>1</th>\n",
       "      <td>Ford</td>\n",
       "      <td>F-150</td>\n",
       "      <td>2015.0</td>\n",
       "      <td>128,146</td>\n",
       "      <td>Automatic</td>\n",
       "      <td>2.7L V-6 Gas Turbocharged</td>\n",
       "      <td>Unknown</td>\n",
       "      <td>Medium Earth Gray</td>\n",
       "      <td>19 cty / 26 hwy</td>\n",
       "      <td>Gas</td>\n",
       "      <td>RWD</td>\n",
       "      <td>Waxahachie</td>\n",
       "      <td>TX</td>\n",
       "      <td>XL SuperCrew 6.5\\' Box RWD</td>\n",
       "      <td>0 reported accidents</td>\n",
       "      <td>NaN</td>\n",
       "      <td>Standard Bed</td>\n",
       "      <td>15,991</td>\n",
       "    </tr>\n",
       "    <tr>\n",
       "      <th>2</th>\n",
       "      <td>Mercedes-Benz</td>\n",
       "      <td>E-Class</td>\n",
       "      <td>2004.0</td>\n",
       "      <td>135,000</td>\n",
       "      <td>Automatic</td>\n",
       "      <td>5.0L V-8 Gas</td>\n",
       "      <td>Black</td>\n",
       "      <td>Beige</td>\n",
       "      <td>16 cty / 22 hwy</td>\n",
       "      <td>Gas</td>\n",
       "      <td>AWD</td>\n",
       "      <td>Covina</td>\n",
       "      <td>CA</td>\n",
       "      <td>E 500 4MATIC Wagon</td>\n",
       "      <td>0 reported accidents</td>\n",
       "      <td>Standard</td>\n",
       "      <td>NaN</td>\n",
       "      <td>5,950</td>\n",
       "    </tr>\n",
       "    <tr>\n",
       "      <th>3</th>\n",
       "      <td>Hyundai</td>\n",
       "      <td>Elantra</td>\n",
       "      <td>2011.0</td>\n",
       "      <td>135,670</td>\n",
       "      <td>Automatic</td>\n",
       "      <td>1.8L Inline-4 Gas</td>\n",
       "      <td>NaN</td>\n",
       "      <td>Gray</td>\n",
       "      <td>28 cty / 38 hwy</td>\n",
       "      <td>Gas</td>\n",
       "      <td>FWD</td>\n",
       "      <td>Miami</td>\n",
       "      <td>FL</td>\n",
       "      <td>NaN</td>\n",
       "      <td>0 reported accidents</td>\n",
       "      <td>Standard</td>\n",
       "      <td>NaN</td>\n",
       "      <td>3,999</td>\n",
       "    </tr>\n",
       "    <tr>\n",
       "      <th>4</th>\n",
       "      <td>Toyota</td>\n",
       "      <td>Prius</td>\n",
       "      <td>2012.0</td>\n",
       "      <td>152,543</td>\n",
       "      <td>Automatic</td>\n",
       "      <td>1.8L Inline-4 Hybrid</td>\n",
       "      <td>White</td>\n",
       "      <td>Biege</td>\n",
       "      <td>51 cty / 48 hwy</td>\n",
       "      <td>Hybrid</td>\n",
       "      <td>FWD</td>\n",
       "      <td>Byhalia</td>\n",
       "      <td>MS</td>\n",
       "      <td>Five</td>\n",
       "      <td>1 reported accidents</td>\n",
       "      <td>Standard</td>\n",
       "      <td>NaN</td>\n",
       "      <td>6,500</td>\n",
       "    </tr>\n",
       "  </tbody>\n",
       "</table>\n",
       "</div>"
      ],
      "text/plain": [
       "            Make    Model    Year  Mileage Transmission  \\\n",
       "0           Ford    Focus  2014.0   35,795    Automatic   \n",
       "1           Ford    F-150  2015.0  128,146    Automatic   \n",
       "2  Mercedes-Benz  E-Class  2004.0  135,000    Automatic   \n",
       "3        Hyundai  Elantra  2011.0  135,670    Automatic   \n",
       "4         Toyota    Prius  2012.0  152,543    Automatic   \n",
       "\n",
       "                      Engine Exterior Color     Interior Color  \\\n",
       "0          2.0L Inline-4 Gas            NaN     Charcoal Black   \n",
       "1  2.7L V-6 Gas Turbocharged        Unknown  Medium Earth Gray   \n",
       "2               5.0L V-8 Gas          Black              Beige   \n",
       "3          1.8L Inline-4 Gas            NaN               Gray   \n",
       "4       1.8L Inline-4 Hybrid          White              Biege   \n",
       "\n",
       "               MPG Fuel Type Drive Type Location (City) Location (State)  \\\n",
       "0  26 cty / 36 hwy       Gas        FWD          Tacoma               WA   \n",
       "1  19 cty / 26 hwy       Gas        RWD      Waxahachie               TX   \n",
       "2  16 cty / 22 hwy       Gas        AWD          Covina               CA   \n",
       "3  28 cty / 38 hwy       Gas        FWD           Miami               FL   \n",
       "4  51 cty / 48 hwy    Hybrid        FWD         Byhalia               MS   \n",
       "\n",
       "                        Style Condition (Accidents) Options Level  \\\n",
       "0                SE Hatchback  2 reported accidents      Standard   \n",
       "1  XL SuperCrew 6.5\\' Box RWD  0 reported accidents           NaN   \n",
       "2          E 500 4MATIC Wagon  0 reported accidents      Standard   \n",
       "3                         NaN  0 reported accidents      Standard   \n",
       "4                        Five  1 reported accidents      Standard   \n",
       "\n",
       "     Bed Length   Price  \n",
       "0           NaN   7,999  \n",
       "1  Standard Bed  15,991  \n",
       "2           NaN   5,950  \n",
       "3           NaN   3,999  \n",
       "4           NaN   6,500  "
      ]
     },
     "execution_count": 66,
     "metadata": {},
     "output_type": "execute_result"
    }
   ],
   "source": [
    "cars_dataset = pd.read_csv('C:/Users/aleja/Cars-Value-Predictor/cars-features-dataset.csv')\n",
    "cars_dataset.drop(columns='Unnamed: 0', inplace=True)\n",
    "print(cars_dataset.shape)\n",
    "cars_dataset.head()"
   ]
  },
  {
   "cell_type": "markdown",
   "metadata": {},
   "source": [
    "## Exploratory Data Analysis"
   ]
  },
  {
   "cell_type": "code",
   "execution_count": 67,
   "metadata": {},
   "outputs": [
    {
     "data": {
      "text/plain": [
       "Make                      object\n",
       "Model                     object\n",
       "Year                     float64\n",
       "Mileage                   object\n",
       "Transmission              object\n",
       "Engine                    object\n",
       "Exterior Color            object\n",
       "Interior Color            object\n",
       "MPG                       object\n",
       "Fuel Type                 object\n",
       "Drive Type                object\n",
       "Location (City)           object\n",
       "Location (State)          object\n",
       "Style                     object\n",
       "Condition (Accidents)     object\n",
       "Options Level             object\n",
       "Bed Length                object\n",
       "Price                     object\n",
       "dtype: object"
      ]
     },
     "execution_count": 67,
     "metadata": {},
     "output_type": "execute_result"
    }
   ],
   "source": [
    "cars_dataset.dtypes"
   ]
  },
  {
   "cell_type": "code",
   "execution_count": 68,
   "metadata": {},
   "outputs": [
    {
     "data": {
      "text/plain": [
       "Make                       896\n",
       "Model                      923\n",
       "Year                       822\n",
       "Mileage                    349\n",
       "Transmission               386\n",
       "Engine                    3545\n",
       "Exterior Color            5840\n",
       "Interior Color            1285\n",
       "MPG                        367\n",
       "Fuel Type                  336\n",
       "Drive Type                 284\n",
       "Location (City)            713\n",
       "Location (State)           748\n",
       "Style                     1747\n",
       "Condition (Accidents)      781\n",
       "Options Level             2241\n",
       "Bed Length               15641\n",
       "Price                      916\n",
       "dtype: int64"
      ]
     },
     "execution_count": 68,
     "metadata": {},
     "output_type": "execute_result"
    }
   ],
   "source": [
    "cars_dataset.isnull().sum(axis=0)"
   ]
  },
  {
   "cell_type": "code",
   "execution_count": 69,
   "metadata": {},
   "outputs": [
    {
     "data": {
      "text/plain": [
       "{'Bed Length': 15641,\n",
       " 'Exterior Color': 5840,\n",
       " 'Engine': 3545,\n",
       " 'Options Level': 2241,\n",
       " 'Style': 1747,\n",
       " 'Interior Color': 1285,\n",
       " 'Model': 923,\n",
       " 'Price': 916,\n",
       " 'Make': 896,\n",
       " 'Year': 822,\n",
       " 'Condition (Accidents)': 781,\n",
       " 'Location (State)': 748,\n",
       " 'Location (City)': 713,\n",
       " 'Transmission': 386,\n",
       " 'MPG': 367,\n",
       " 'Mileage': 349,\n",
       " 'Fuel Type': 336,\n",
       " 'Drive Type': 284}"
      ]
     },
     "execution_count": 69,
     "metadata": {},
     "output_type": "execute_result"
    }
   ],
   "source": [
    "cols_by_nulls = cars_dataset.isnull().sum().sort_values(ascending=False).to_dict()\n",
    "cols_by_nulls"
   ]
  },
  {
   "cell_type": "markdown",
   "metadata": {},
   "source": [
    "This high quantity of allegedly null values is due to lack of information when inputting specifications in each car listing from its owner or merchant.\n",
    "Some of them will be dropped but most of them will be labeled as another data."
   ]
  },
  {
   "cell_type": "code",
   "execution_count": 70,
   "metadata": {},
   "outputs": [
    {
     "data": {
      "text/plain": [
       "(15983, 18)"
      ]
     },
     "execution_count": 70,
     "metadata": {},
     "output_type": "execute_result"
    }
   ],
   "source": [
    "cars_dataset.dropna(subset=['Make', 'Model'], inplace=True)\n",
    "cars_dataset.shape"
   ]
  },
  {
   "cell_type": "markdown",
   "metadata": {},
   "source": [
    "Make and model are too important to have as an specific information for each row, so the ones were Make and Model are missing were dropped."
   ]
  },
  {
   "cell_type": "markdown",
   "metadata": {},
   "source": [
    "Now, 'Drive Type' will be analyzed. It has a lot less null values, so they will be eliminated."
   ]
  },
  {
   "cell_type": "code",
   "execution_count": 71,
   "metadata": {},
   "outputs": [],
   "source": [
    "cars_dataset.dropna(subset=['Drive Type'], inplace=True)"
   ]
  },
  {
   "cell_type": "code",
   "execution_count": 72,
   "metadata": {},
   "outputs": [
    {
     "data": {
      "text/plain": [
       "(15960, 18)"
      ]
     },
     "execution_count": 72,
     "metadata": {},
     "output_type": "execute_result"
    }
   ],
   "source": [
    "cars_dataset.shape"
   ]
  },
  {
   "cell_type": "code",
   "execution_count": 73,
   "metadata": {},
   "outputs": [
    {
     "name": "stdout",
     "output_type": "stream",
     "text": [
      "'Bed Length' column has 14730 null values.\n",
      "The other ones (1230) are:\n"
     ]
    },
    {
     "data": {
      "text/plain": [
       "Short Bed       576\n",
       "Standard Bed    535\n",
       "Long Bed        119\n",
       "Name: Bed Length, dtype: int64"
      ]
     },
     "execution_count": 73,
     "metadata": {},
     "output_type": "execute_result"
    }
   ],
   "source": [
    "print(\"'Bed Length' column has\", cars_dataset[\"Bed Length\"].isnull().sum(), \"null values.\")\n",
    "print(\"The other ones (\", cars_dataset[\"Bed Length\"].notnull().sum(), \") are:\", sep=\"\")\n",
    "cars_dataset['Bed Length'].value_counts()"
   ]
  },
  {
   "cell_type": "markdown",
   "metadata": {},
   "source": [
    "As seen above the bed length is null for almost all cases, so it will be discarded."
   ]
  },
  {
   "cell_type": "code",
   "execution_count": 74,
   "metadata": {},
   "outputs": [
    {
     "data": {
      "text/plain": [
       "Index(['Make', 'Model', 'Year', 'Mileage', 'Transmission', 'Engine',\n",
       "       'Exterior Color', 'Interior Color', 'MPG', 'Fuel Type', 'Drive Type',\n",
       "       'Location (City)', 'Location (State)', 'Style', 'Condition (Accidents)',\n",
       "       'Options Level', 'Price'],\n",
       "      dtype='object')"
      ]
     },
     "execution_count": 74,
     "metadata": {},
     "output_type": "execute_result"
    }
   ],
   "source": [
    "cars_dataset.drop(columns='Bed Length', inplace=True)\n",
    "cars_dataset.columns"
   ]
  },
  {
   "cell_type": "code",
   "execution_count": 75,
   "metadata": {},
   "outputs": [
    {
     "data": {
      "text/plain": [
       "15641"
      ]
     },
     "execution_count": 75,
     "metadata": {},
     "output_type": "execute_result"
    }
   ],
   "source": [
    "cols_by_nulls.pop(\"Bed Length\")"
   ]
  },
  {
   "cell_type": "code",
   "execution_count": 76,
   "metadata": {},
   "outputs": [
    {
     "name": "stdout",
     "output_type": "stream",
     "text": [
      "Exterior Color has 5840 null values\n",
      "10743 not null values and values count: 569\n"
     ]
    },
    {
     "data": {
      "text/plain": [
       "Black                  774\n",
       "Oxford White           426\n",
       "Gray                   398\n",
       "Summit White           393\n",
       "White                  370\n",
       "                      ... \n",
       "Lithium Red Pearl        1\n",
       "Brownstone Metallic      1\n",
       "Midnight Jade            1\n",
       "Deep Crystal Blue        1\n",
       "Meteor Gray Pearl        1\n",
       "Name: Exterior Color, Length: 569, dtype: int64"
      ]
     },
     "execution_count": 76,
     "metadata": {},
     "output_type": "execute_result"
    }
   ],
   "source": [
    "print(\"Exterior Color has\", cols_by_nulls['Exterior Color'], \"null values\")\n",
    "print(cars_dataset['Exterior Color'].value_counts().sum(), \"not null values and values count:\", cars_dataset['Exterior Color'].nunique())\n",
    "cars_dataset['Exterior Color'].value_counts()"
   ]
  },
  {
   "cell_type": "code",
   "execution_count": 77,
   "metadata": {},
   "outputs": [
    {
     "data": {
      "text/plain": [
       "['Black',\n",
       " 'Oxford White',\n",
       " 'Gray',\n",
       " 'Summit White',\n",
       " 'White',\n",
       " 'Super White',\n",
       " 'Crystal Black Pearl',\n",
       " 'Super Black',\n",
       " 'Gun Metallic',\n",
       " 'Silver Ice Metallic',\n",
       " 'Shadow Black',\n",
       " 'Glacier White',\n",
       " 'Silver',\n",
       " 'White Orchid Pearl',\n",
       " 'Fresh Powder',\n",
       " 'Magnetic Metallic',\n",
       " 'Unknown',\n",
       " 'Brilliant Silver',\n",
       " 'Granite Pearlcoat',\n",
       " 'Polar White',\n",
       " 'Blue',\n",
       " 'Magnetic Black',\n",
       " 'Red',\n",
       " 'Jet Black',\n",
       " 'Agate Black',\n",
       " 'Black Sand Pearl',\n",
       " 'Pearl White',\n",
       " 'Quartz White Pearl',\n",
       " 'Predawn Gray Mica',\n",
       " 'Phantom Black',\n",
       " 'White Diamond Pearl',\n",
       " 'Taffeta White',\n",
       " 'Ice Silver Metallic',\n",
       " 'Billet Clearcoat',\n",
       " 'Clear White',\n",
       " 'Pure White',\n",
       " 'Alpine White',\n",
       " 'Snow White Pearl',\n",
       " 'Sparkling Silver',\n",
       " 'Aurora Black',\n",
       " 'Symphony Silver',\n",
       " 'Eminent White Pearl',\n",
       " 'Ebony Black',\n",
       " 'Scarlet Red',\n",
       " 'Caspian Blue',\n",
       " 'Deep Blue Pearl',\n",
       " 'Dark Gray Metallic',\n",
       " 'Race Red',\n",
       " 'Gold',\n",
       " 'Black Obsidian',\n",
       " 'Onyx Black',\n",
       " 'Vice White',\n",
       " 'Blizzard Pearl',\n",
       " 'Crystal White Pearl',\n",
       " 'Magnetic',\n",
       " 'Brown',\n",
       " 'Black Clearcoat',\n",
       " 'Graphite Shadow',\n",
       " 'Obsidian',\n",
       " 'Nebula Gray Pearl',\n",
       " 'Obsidian Blue Pearl',\n",
       " 'Machine Gray',\n",
       " 'Atomic Silver',\n",
       " 'Frost White Pearl',\n",
       " 'Bright White',\n",
       " 'Bright Silver',\n",
       " 'Jet Black Mica',\n",
       " 'Red Alert',\n",
       " 'Steel Blue Metallic',\n",
       " 'Platinum Graphite',\n",
       " 'Ingot Silver',\n",
       " 'Black Raven',\n",
       " 'Titanium Gray',\n",
       " 'Coliseum Gray',\n",
       " 'Dark Blue Metallic',\n",
       " 'Dazzling White',\n",
       " 'Gloss Black',\n",
       " 'Space Gray Metallic',\n",
       " 'Caribbean Blue',\n",
       " 'Black Diamond',\n",
       " 'Lakeside Blue',\n",
       " 'Frost',\n",
       " 'Ruby Wine',\n",
       " 'Blueprint',\n",
       " 'Silky Silver',\n",
       " 'Cirrus White',\n",
       " 'Palatial Ruby',\n",
       " 'White Clearcoat',\n",
       " 'Dark Sky Metallic',\n",
       " 'Flame Red Clearcoat',\n",
       " 'Cosmic Gray Mica',\n",
       " 'Blue Jeans Metallic',\n",
       " 'Storm Blue',\n",
       " 'San Marino Red',\n",
       " 'Blue Flame Metallic',\n",
       " 'Stone White',\n",
       " 'Majestic White',\n",
       " 'Basque Red Pearl Ii',\n",
       " 'Surf Blue',\n",
       " 'Shale Gray Metallic',\n",
       " 'Crystal White',\n",
       " 'Titanium Silver',\n",
       " 'Grey',\n",
       " 'Night Black',\n",
       " 'Candy White',\n",
       " 'Ashen Gray Metallic',\n",
       " 'Cayenne Red',\n",
       " 'Galactic Aqua Mica',\n",
       " 'Molten Silver',\n",
       " 'Scarlet Red Pearl',\n",
       " 'Night Blue Metallic',\n",
       " 'Satin White Pearl',\n",
       " 'Silver Sky Metallic',\n",
       " 'Silk Blue Metallic',\n",
       " 'Black Onyx',\n",
       " 'Ibis White',\n",
       " 'Rallye Red',\n",
       " 'Black Velvet',\n",
       " 'Tan',\n",
       " 'Galactic Gray',\n",
       " 'True Blue Pearl',\n",
       " 'Cajun Red Tintcoat',\n",
       " 'Tuxedo Black',\n",
       " 'Midnight Black',\n",
       " 'Deep Sea Blue',\n",
       " 'Capri Blue Metallic',\n",
       " 'Jupiter Red',\n",
       " 'Quartz White',\n",
       " 'Pepperdust Metallic',\n",
       " 'Smoky Granite Mica',\n",
       " 'Lightning Blue',\n",
       " 'Granite Clearcoat',\n",
       " 'Pewter Metallic',\n",
       " 'Inferno Red',\n",
       " 'Venetian Red Pearl',\n",
       " 'Deep Impact Blue',\n",
       " 'True Blue Pearlcoat',\n",
       " 'Tungsten Metallic',\n",
       " 'White Gold Metallic',\n",
       " 'Stargazer Black',\n",
       " 'Red Brick',\n",
       " 'Parisian Gray',\n",
       " 'Deep Lava Red Pearl',\n",
       " 'Glacier Pearl',\n",
       " 'Boston Red Metallic',\n",
       " 'White Gold',\n",
       " 'Arctic White',\n",
       " 'Liquid Platinum',\n",
       " 'Morningsky Blue',\n",
       " 'Black Mica',\n",
       " 'Burgundy',\n",
       " 'Caspian Black',\n",
       " 'Gunmetal Metallic',\n",
       " 'Phantom Black Pearl',\n",
       " 'Electric Storm Blue',\n",
       " 'Starlight Silver',\n",
       " 'Phantom Gray',\n",
       " 'Storm Blue Metallic',\n",
       " 'Pearl White Tricoat',\n",
       " 'Celestite',\n",
       " 'Slate Metallic',\n",
       " 'Aspen White Tricoat',\n",
       " 'Steel Gray Metallic',\n",
       " 'Wicked Black',\n",
       " 'Siren Red Tintcoat',\n",
       " 'Red Hot',\n",
       " 'Opera Red Metallic',\n",
       " 'Black Noir Pearl',\n",
       " 'Quartz Blue Pearl',\n",
       " 'Sterling Gray',\n",
       " 'Black Sand Mica',\n",
       " 'Cocoa Metallic',\n",
       " 'Starfire Pearl',\n",
       " 'Onyx Black Metallic',\n",
       " 'Velocity Red',\n",
       " 'Titanium',\n",
       " 'Abyss Blue Pearl',\n",
       " 'Tectonic',\n",
       " 'Dark Slate Metallic',\n",
       " 'Reflex Silver',\n",
       " 'Midnight Blue Pearl',\n",
       " 'Aspen White Pearl',\n",
       " 'Becketts Black',\n",
       " 'Denim Blue Metallic',\n",
       " 'Charcoal',\n",
       " 'Scarlet Ember',\n",
       " 'Gold Mist Metallic',\n",
       " 'Alfa Rosso',\n",
       " 'Century White',\n",
       " 'Brilliant Black',\n",
       " 'Black Onyx Pearl',\n",
       " 'Green',\n",
       " 'Shimmering White',\n",
       " 'Ice White',\n",
       " 'Electric Blue',\n",
       " 'Aspen Ice',\n",
       " 'Blue Reflex Mica',\n",
       " 'Maroon',\n",
       " 'Magnetic Gray',\n",
       " 'Sangria',\n",
       " 'White Suede',\n",
       " 'Titanium Flash Mica',\n",
       " 'Light White',\n",
       " 'Diamond Slate',\n",
       " 'Galaxy Black',\n",
       " 'Savannah Metallic',\n",
       " 'Ruby Black Metallic',\n",
       " 'Slate Blue Metallic',\n",
       " 'Evening Black',\n",
       " 'Newport Blue Pearl',\n",
       " 'Blue Metallic',\n",
       " 'White Silver',\n",
       " 'Ice Blue Metallic',\n",
       " 'Thunder Gray',\n",
       " 'Quicksilver',\n",
       " 'Ruby Flare Pearl',\n",
       " 'Ceramic White',\n",
       " 'Argento Nurburgring',\n",
       " 'Twilight Black',\n",
       " 'Silver Streak Mica',\n",
       " 'Salsa Red Pearl',\n",
       " 'Horizon Blue',\n",
       " 'Caviar',\n",
       " 'Carbon Gray Pearl',\n",
       " 'Aqua Blue',\n",
       " 'Sonic Silver',\n",
       " 'Graphite Metallic',\n",
       " 'Royal Blue Pearl',\n",
       " 'White Frost Tricoat',\n",
       " 'Urban Gray Metallic',\n",
       " 'Pepper White',\n",
       " 'Jazz Blue Pearlcoat',\n",
       " 'Winter White',\n",
       " 'Championship White',\n",
       " 'Satin Silver',\n",
       " 'Sonic Gray Pearl',\n",
       " 'Java Black',\n",
       " 'Eternal Blue Mica',\n",
       " 'Rally Red Metallic',\n",
       " 'Redline Pearlcoat',\n",
       " 'Lunar Blue Metallic',\n",
       " 'Iridium Metallic',\n",
       " 'Medium Silver Blue',\n",
       " 'Blackberry Pearl',\n",
       " 'Silver Moss',\n",
       " 'Powder White Pearl',\n",
       " 'Grey/Dark Grey',\n",
       " 'Turquoise',\n",
       " 'Hypersonic Red',\n",
       " 'Windy Sea Blue',\n",
       " 'Lithium Gray',\n",
       " 'Blue Candy Metallic',\n",
       " 'Zeal Red Mica',\n",
       " 'Silver Shadow Pearl',\n",
       " 'Chocolate Metallic',\n",
       " 'Unspecified',\n",
       " 'Victory Red',\n",
       " 'Mysterious Blue',\n",
       " 'Ivory White',\n",
       " 'Meteor Gray Mica',\n",
       " 'Signal Red',\n",
       " 'Marine Blue Pearl',\n",
       " 'Mocha Almond',\n",
       " 'Deep Blue',\n",
       " 'Diamond White',\n",
       " 'Apple Red Pearl',\n",
       " 'Canyon Copper',\n",
       " 'Orange',\n",
       " 'Blue-Green Crystal',\n",
       " 'White Pearl',\n",
       " 'Red Quartz Tintcoat',\n",
       " 'Himalayan Gray',\n",
       " 'Billet Metallic',\n",
       " 'Lunar Mist Metallic',\n",
       " 'Blazing Blue Pearl',\n",
       " 'Chrome Silver',\n",
       " 'Sea Glass Pearl',\n",
       " 'Navy Blue Metallic',\n",
       " 'Pure Red',\n",
       " 'Blk',\n",
       " 'Silver Nickel',\n",
       " 'Marlin Blue',\n",
       " 'Beige',\n",
       " 'Cinnamon',\n",
       " 'Carrara White',\n",
       " 'Red Candy Metallic',\n",
       " 'Sandalwood Metallic',\n",
       " 'Hermosa Blue',\n",
       " 'Tango Red Pearl',\n",
       " 'Burnished Copper',\n",
       " 'Platinum Silver',\n",
       " 'Ebony',\n",
       " 'Black Diamond Pearl',\n",
       " 'Agate Grey Metallic',\n",
       " 'Sand White',\n",
       " 'White Opal',\n",
       " 'Blade Silver',\n",
       " 'Orient Red Metallic',\n",
       " 'Matador Red Mica',\n",
       " 'Fuji White',\n",
       " 'Bold Beige Metallic',\n",
       " 'Sterling Silver!',\n",
       " 'Bronze',\n",
       " 'Crimson Red',\n",
       " 'Java Metallic',\n",
       " 'Pyrit Silver',\n",
       " 'B5 Blue Pearl',\n",
       " 'Db Black Clearcoat',\n",
       " 'White Sand',\n",
       " 'Chili Red',\n",
       " 'Storm',\n",
       " 'Blue Onyx Pearl',\n",
       " 'Spicy Red',\n",
       " 'Smokey Brown',\n",
       " 'Blaze Blue',\n",
       " 'Liquid Silver',\n",
       " 'Casablanca White',\n",
       " 'White Water Pearl',\n",
       " 'Radiant Red',\n",
       " 'Titanium Metallic',\n",
       " 'Platinum Metallic',\n",
       " 'Tusk White',\n",
       " 'Black Uni',\n",
       " 'Champagne Gold Opal',\n",
       " 'Moss Gray',\n",
       " 'Teal',\n",
       " 'Pitch Black',\n",
       " 'Dark Truffle',\n",
       " 'Lead Foot',\n",
       " 'Abyss',\n",
       " 'Corris Grey',\n",
       " 'Mars Red',\n",
       " 'Dark Sea Blue',\n",
       " 'Torch Red',\n",
       " 'Ink Blue',\n",
       " 'Bordeaux Black',\n",
       " 'Cyber Gray Metallic',\n",
       " 'Sunshine Orange',\n",
       " 'Frozen White',\n",
       " 'Aegean Blue',\n",
       " 'Symphony Air Silver',\n",
       " 'Galaxy Gray',\n",
       " 'Ultra White',\n",
       " 'Creme Brulee Mica',\n",
       " 'Gran Premio Gray',\n",
       " 'Gravity Gray',\n",
       " 'Dark Green Metallic',\n",
       " 'Island Blue Pearl',\n",
       " 'Aspen White',\n",
       " 'Mocha Almond Pearl',\n",
       " 'Blue Water Metallic',\n",
       " 'Grigio Metallic',\n",
       " 'Aurora Black Pearl',\n",
       " 'Bright Red Ii',\n",
       " 'Pacific Blue Pearl',\n",
       " 'Gravity Grey',\n",
       " 'Metallic Gray',\n",
       " 'Venetian Red',\n",
       " 'Champagne',\n",
       " 'Navy',\n",
       " 'Cypress Pearl',\n",
       " 'Desert Sand Mica',\n",
       " 'Dune',\n",
       " 'Sedona Sunset',\n",
       " 'Pacific Blue',\n",
       " 'Bluestone Metallic',\n",
       " 'Attitude Black',\n",
       " 'Am Titanium Silver',\n",
       " 'Solid White',\n",
       " 'Crystal White Mica',\n",
       " 'Deep Ocean Pearl',\n",
       " 'Magma Red Metallic',\n",
       " 'Silver Metallic',\n",
       " 'Mercury Metallic',\n",
       " 'Sandstone Metallic',\n",
       " 'Alien Ii',\n",
       " 'Remington Red',\n",
       " 'Rhino Clearcoat',\n",
       " 'Deep Scarlet Pearl',\n",
       " 'Glacier Metallic',\n",
       " 'Hermosa Blue Pearl',\n",
       " 'Formal Black',\n",
       " 'Champagne Quartz',\n",
       " 'Taupe Gray Metallic',\n",
       " 'Iron Frost',\n",
       " 'Rosso (Red)',\n",
       " 'Midnight Gray',\n",
       " 'Butane Blue Pearl',\n",
       " 'Burgandy',\n",
       " 'Saharan Stone',\n",
       " 'Bianco (White)',\n",
       " 'Dark Green',\n",
       " 'Titanium Glow',\n",
       " 'Ivory 3-Coat',\n",
       " 'Siver',\n",
       " 'Graphite Blue',\n",
       " 'Eaz/White Body Pan',\n",
       " 'Brilliant Red',\n",
       " 'Wr Blue Pearl',\n",
       " 'Dyno Blue Pearl',\n",
       " 'Bali Blue Pearl',\n",
       " 'Graphite Mica',\n",
       " 'Horizon Blue Pearl',\n",
       " 'Bianco White Ice',\n",
       " 'Black Cherry',\n",
       " 'Nero',\n",
       " 'Steel Grey Metallic',\n",
       " 'Stone Gray Metallic',\n",
       " 'Teak Brown Metallic',\n",
       " 'Santiago Silver',\n",
       " 'Vegas Yellow',\n",
       " 'Molten',\n",
       " 'Bianco',\n",
       " 'Royal Ruby Metallic',\n",
       " 'Titanium Bronze',\n",
       " 'Midnight Garnet',\n",
       " 'Cashmere Pearlcoat',\n",
       " 'Wind Chill Pearl',\n",
       " 'Atlantic Blue Pearl',\n",
       " 'Tarmac Black Pearl',\n",
       " 'Catalina Blue Pearl',\n",
       " 'Sport Blue Metallic',\n",
       " 'Ultra Black Pearl',\n",
       " 'Shimmering Silver',\n",
       " 'Black Sapphire',\n",
       " 'Tank Clearcoat',\n",
       " 'Sage Green Metallic',\n",
       " 'Kona Blue Metallic',\n",
       " 'Alabaster White',\n",
       " 'Mineral Beige',\n",
       " 'Bianco Avus',\n",
       " 'Ash Black',\n",
       " 'Earthy Bronze',\n",
       " 'Winter Frost Pearl',\n",
       " 'White Diamond',\n",
       " 'Moon Shell Mica',\n",
       " 'Yellow',\n",
       " 'Mineral Beige Pearl',\n",
       " 'Kapoor Red Metallic',\n",
       " 'Metallic Slate',\n",
       " 'B5 Blue Pearlcoat',\n",
       " 'Black Stone',\n",
       " 'Sandstone Gray',\n",
       " 'Dyno Blue Pearl Ii',\n",
       " 'Gemstone Red',\n",
       " 'Saharan Sun',\n",
       " 'Hyper Blue',\n",
       " 'Anvil Clearcoat',\n",
       " 'Deep Black Metallic',\n",
       " 'Nautical Blue Pearl',\n",
       " 'Arctic Frost Pearl',\n",
       " 'Ginger Ale Metallic',\n",
       " 'Dark Cherry Pearl',\n",
       " 'Nightfall Mica',\n",
       " 'Black Forest Pearl',\n",
       " 'Anvil',\n",
       " 'Ultra Silver',\n",
       " 'Monterey Blue',\n",
       " 'Amethyst Gray',\n",
       " 'Habanero Orange',\n",
       " 'Deep Indigo Pearl',\n",
       " 'Solar Yellow',\n",
       " 'Pyrite Mica',\n",
       " 'Riviera Red',\n",
       " 'Dusk Blue',\n",
       " 'Black Pearl',\n",
       " 'Imperial Red',\n",
       " 'Sierra Blue',\n",
       " 'Botanical Green',\n",
       " 'Copperhead Pearl',\n",
       " 'Argento (Silver)',\n",
       " 'Currant Red',\n",
       " 'Cashmere Pearl',\n",
       " 'Lava Gray Pearl',\n",
       " 'Radiant Silver',\n",
       " 'Light Blue',\n",
       " '01f7',\n",
       " 'Sand Beige Metallic',\n",
       " 'Lunar Gray Metallic',\n",
       " 'Beige / Tan',\n",
       " 'Ash',\n",
       " 'Dk. Gray',\n",
       " 'Flame Red',\n",
       " 'Tungsten Pearl',\n",
       " 'Denim',\n",
       " 'Lt. Gray',\n",
       " 'Off White',\n",
       " 'Deep Black Pearl',\n",
       " 'Marathon Blue',\n",
       " 'Mineral Silver',\n",
       " 'Dove Gray',\n",
       " 'Dark Charcoal Pearl',\n",
       " 'Red Jewel Tintcoat',\n",
       " 'Caribou Metallic',\n",
       " 'Gray/Black',\n",
       " 'Mineral Gray',\n",
       " 'Silver/Black',\n",
       " 'Mystic Black',\n",
       " 'Blue Chip',\n",
       " 'Crystal Black P',\n",
       " \"Smokin\\\\' Asphalt\",\n",
       " 'Firestorm',\n",
       " 'Earth Metallic',\n",
       " 'Sky Blue Pearl',\n",
       " 'White Onyx',\n",
       " 'Sapphire Black',\n",
       " 'Deep Blue Metallic',\n",
       " 'Super Silver',\n",
       " 'White Orchid',\n",
       " 'Indigo Night',\n",
       " 'Forest Green',\n",
       " 'Elite White',\n",
       " 'Silver Pine Mica',\n",
       " 'Designo Silver',\n",
       " 'Sonora Gold Pearl',\n",
       " 'Cool Gray Khaki',\n",
       " 'Stealth',\n",
       " 'Coulis Red',\n",
       " 'Natural White',\n",
       " 'Polished Metal',\n",
       " '0040',\n",
       " 'Royal Grey Metallic',\n",
       " 'Desert Shadow',\n",
       " 'Oxford White (Cc)',\n",
       " 'Ultimate Black',\n",
       " 'Dk Blue',\n",
       " 'Chromium',\n",
       " 'Ice Storm',\n",
       " 'Black Cherry Pearl',\n",
       " 'Redondo Red Pearl',\n",
       " 'Saville Gray',\n",
       " 'Gold Leaf Metallic',\n",
       " 'Sunset Orange',\n",
       " 'Blue Ocean',\n",
       " 'San Remo Red',\n",
       " 'Eternal Blue Pearl',\n",
       " 'Smoke',\n",
       " 'Torred Clearcoat',\n",
       " 'Clover Green Pearl',\n",
       " 'Havana Metallic',\n",
       " 'Cardinal Red',\n",
       " 'Admiral Blue Pearl',\n",
       " 'Cream White',\n",
       " 'Silvermist Metallic',\n",
       " 'Neptune Blue Mica',\n",
       " 'Golden',\n",
       " 'Red Allure',\n",
       " 'Moonlight White',\n",
       " 'Chalk White',\n",
       " 'Guard Metallic',\n",
       " 'Light Cashmere',\n",
       " 'Corsa Red',\n",
       " 'Green Tea Metallic',\n",
       " 'Premium White Pearl',\n",
       " 'Dune Pearl Metallic',\n",
       " 'Autumn Red',\n",
       " 'Ruby Red',\n",
       " 'Cassis Pearl',\n",
       " 'Cabo Bronze',\n",
       " 'Vermillion Red',\n",
       " 'Gt Silver Metallic',\n",
       " 'Silver Pearl',\n",
       " 'Tornado Red',\n",
       " 'Ocean Mist Metallic',\n",
       " 'Lithium Red Pearl',\n",
       " 'Brownstone Metallic',\n",
       " 'Midnight Jade',\n",
       " 'Deep Crystal Blue',\n",
       " 'Meteor Gray Pearl']"
      ]
     },
     "execution_count": 77,
     "metadata": {},
     "output_type": "execute_result"
    }
   ],
   "source": [
    "list(cars_dataset['Exterior Color'].value_counts().index)"
   ]
  },
  {
   "cell_type": "markdown",
   "metadata": {},
   "source": [
    "'Exterior Color' has a lot of unique values, but they can be regrouped given that these values represent almost the same color for each case, by category."
   ]
  },
  {
   "cell_type": "code",
   "execution_count": 78,
   "metadata": {},
   "outputs": [
    {
     "data": {
      "text/plain": [
       "Black                  774\n",
       "Oxford White           426\n",
       "Gray                   398\n",
       "Summit White           393\n",
       "White                  370\n",
       "                      ... \n",
       "Lithium Red Pearl        1\n",
       "Brownstone Metallic      1\n",
       "Midnight Jade            1\n",
       "Deep Crystal Blue        1\n",
       "Meteor Gray Pearl        1\n",
       "Name: Exterior Color, Length: 569, dtype: int64"
      ]
     },
     "execution_count": 78,
     "metadata": {},
     "output_type": "execute_result"
    }
   ],
   "source": [
    "cars_dataset['Exterior Color'].value_counts()"
   ]
  },
  {
   "cell_type": "markdown",
   "metadata": {},
   "source": [
    "The following function will check whether the passed color names belong to the same category."
   ]
  },
  {
   "cell_type": "code",
   "execution_count": 79,
   "metadata": {},
   "outputs": [],
   "source": [
    "def color_in(color, *argc):\n",
    "    checks = []\n",
    "    for arg in argc:\n",
    "        if arg in str(color).lower():\n",
    "            checks.append(True)\n",
    "        else:\n",
    "            checks.append(False)\n",
    "    if any(checks):\n",
    "        return True\n",
    "    else:\n",
    "        return False"
   ]
  },
  {
   "cell_type": "markdown",
   "metadata": {},
   "source": [
    "Now, this function will tell if the conditions are met so that it categorizes the original values to this set-up. "
   ]
  },
  {
   "cell_type": "code",
   "execution_count": 80,
   "metadata": {},
   "outputs": [],
   "source": [
    "def ext_colors_categorize(ext_color):\n",
    "    if color_in(ext_color, \"black\") or \"Obsidian\" == ext_color:\n",
    "        return \"Black\"\n",
    "    elif color_in(ext_color, \"white\", \"glacier\") or ext_color in [\"Fresh Powder\", \"Blizzard Pearl\", \"Starfire Pearl\"]:\n",
    "        return \"White\"\n",
    "    elif color_in(ext_color, \"green\"):\n",
    "        return \"Green\"\n",
    "    elif color_in(ext_color, \"blue\", \"aqua\"):\n",
    "        return \"Blue\"\n",
    "    elif color_in(ext_color, \"silver\", \"gray\", \"magnetic\", \"pearlcoat\", \"tungsten\", \"graphite\", \"gun\", \"platinum\", \"titanium\", \"billet\"):\n",
    "        return \"Silver or Grey\"\n",
    "    elif color_in(ext_color, \"red\", \"cherry\", \"ruby\", \"sun\", \"rosso\", \"scarlet\"):\n",
    "        return \"Red\"\n",
    "    elif color_in(ext_color, \"gold\"):\n",
    "        return \"Gold\"\n",
    "    elif color_in(ext_color, \"brown\", \"beige\"):\n",
    "        return \"Beige or Brown\"\n",
    "    elif color_in(ext_color, \"yellow\"):\n",
    "        return \"Yellow\"\n",
    "    else:\n",
    "        return \"Unknown\""
   ]
  },
  {
   "cell_type": "code",
   "execution_count": 81,
   "metadata": {},
   "outputs": [],
   "source": [
    "cars_dataset['Exterior Color'] = cars_dataset['Exterior Color'].apply(ext_colors_categorize)"
   ]
  },
  {
   "cell_type": "code",
   "execution_count": 82,
   "metadata": {},
   "outputs": [
    {
     "data": {
      "text/plain": [
       "Unknown           5793\n",
       "White             3300\n",
       "Black             2647\n",
       "Silver or Grey    2595\n",
       "Blue               835\n",
       "Red                649\n",
       "Beige or Brown      59\n",
       "Gold                53\n",
       "Green               24\n",
       "Yellow               5\n",
       "Name: Exterior Color, dtype: int64"
      ]
     },
     "execution_count": 82,
     "metadata": {},
     "output_type": "execute_result"
    }
   ],
   "source": [
    "cars_dataset['Exterior Color'].value_counts()"
   ]
  },
  {
   "cell_type": "markdown",
   "metadata": {},
   "source": [
    "Like there are just a few cases where the vehicles are yellow or green, we will get rid of these values."
   ]
  },
  {
   "cell_type": "code",
   "execution_count": 83,
   "metadata": {},
   "outputs": [
    {
     "data": {
      "text/plain": [
       "['Beige or Brown', 'Gold', 'Green', 'Yellow']"
      ]
     },
     "execution_count": 83,
     "metadata": {},
     "output_type": "execute_result"
    }
   ],
   "source": [
    "colors_to_drop = list(cars_dataset['Exterior Color'].value_counts().index[-4:])\n",
    "colors_to_drop"
   ]
  },
  {
   "cell_type": "code",
   "execution_count": 84,
   "metadata": {},
   "outputs": [
    {
     "data": {
      "text/plain": [
       "(15819, 17)"
      ]
     },
     "execution_count": 84,
     "metadata": {},
     "output_type": "execute_result"
    }
   ],
   "source": [
    "indexes = []\n",
    "\n",
    "\n",
    "for color in colors_to_drop:\n",
    "    indexes += list(cars_dataset[cars_dataset[\"Exterior Color\"] == color].index)\n",
    "    \n",
    "    \n",
    "cars_dataset.drop(indexes, inplace=True)\n",
    "cars_dataset.shape"
   ]
  },
  {
   "cell_type": "code",
   "execution_count": 85,
   "metadata": {},
   "outputs": [
    {
     "data": {
      "text/plain": [
       "Text(0.5, 1.0, 'Exterior colors by occurrences')"
      ]
     },
     "execution_count": 85,
     "metadata": {},
     "output_type": "execute_result"
    },
    {
     "data": {
      "image/png": "[encoded data removed]",
      "text/plain": [
       "<Figure size 432x288 with 1 Axes>"
      ]
     },
     "metadata": {
      "needs_background": "light"
     },
     "output_type": "display_data"
    }
   ],
   "source": [
    "ax = sns.countplot(x=\"Exterior Color\", data=cars_dataset, palette=\"Set1\")\n",
    "ax.set_title(\"Exterior colors by occurrences\")"
   ]
  },
  {
   "cell_type": "markdown",
   "metadata": {},
   "source": [
    "Now, 'Engine' will be analyzed."
   ]
  },
  {
   "cell_type": "code",
   "execution_count": 86,
   "metadata": {},
   "outputs": [
    {
     "data": {
      "text/plain": [
       "3006"
      ]
     },
     "execution_count": 86,
     "metadata": {},
     "output_type": "execute_result"
    }
   ],
   "source": [
    "cars_dataset['Engine'].isnull().sum()"
   ]
  },
  {
   "cell_type": "code",
   "execution_count": 87,
   "metadata": {},
   "outputs": [
    {
     "data": {
      "text/plain": [
       "2.5L Inline-4 Gas            1988\n",
       "1.8L Inline-4 Gas            1369\n",
       "2.4L Inline-4 Gas            1365\n",
       "3.6L V-6 Gas                 1327\n",
       "2.0L Inline-4 Gas            1289\n",
       "                             ... \n",
       "3.4L Flat-6 Gas                 1\n",
       "2.5L Flat-6 Gas                 1\n",
       "3.2L Flat-6 Gas                 1\n",
       "3.9L V-8 Gas Turbocharged       1\n",
       "4.5L V-8 Gas                    1\n",
       "Name: Engine, Length: 122, dtype: int64"
      ]
     },
     "execution_count": 87,
     "metadata": {},
     "output_type": "execute_result"
    }
   ],
   "source": [
    "cars_dataset['Engine'].value_counts()"
   ]
  },
  {
   "cell_type": "markdown",
   "metadata": {},
   "source": [
    "We are going to check on all the variants for each 'Inline', 'Flat' and 'Vs' engines, so we can filter them into more crowded categories"
   ]
  },
  {
   "cell_type": "code",
   "execution_count": 88,
   "metadata": {},
   "outputs": [
    {
     "data": {
      "text/plain": [
       "['0.6L Inline-2 Plug-In',\n",
       " '1.0L Inline-3 Gas',\n",
       " '1.2L Inline-3 Gas',\n",
       " '1.3L Inline-4 Hybrid',\n",
       " '1.4L Inline-4 Gas',\n",
       " '1.4L Inline-4 Plug-In',\n",
       " '1.5L Inline-4 Gas',\n",
       " '1.5L Inline-4 Hybrid',\n",
       " '1.5L Inline-4 Plug-In',\n",
       " '1.6L Inline-4 Gas',\n",
       " '1.6L Inline-4 Hybrid',\n",
       " '1.7L Inline-4 Gas',\n",
       " '1.8L Inline-4 CNG',\n",
       " '1.8L Inline-4 Gas',\n",
       " '1.8L Inline-4 Hybrid',\n",
       " '1.8L Inline-4 Plug-In',\n",
       " '2.0L Flat-4 Gas',\n",
       " '2.0L Inline-4 Gas',\n",
       " '2.0L Inline-4 Hybrid',\n",
       " '2.0L Inline-4 Plug-In',\n",
       " '2.0L V-4 Gas Turbocharged',\n",
       " '2.2L Inline-4 Gas',\n",
       " '2.3L Inline-4 Gas',\n",
       " '2.3L V-4 Gas Turbocharged',\n",
       " '2.4L Inline-4 Gas',\n",
       " '2.4L Inline-4 Hybrid',\n",
       " '2.4L Inline-5 Gas',\n",
       " '2.5L Flat-4 Gas',\n",
       " '2.5L Flat-6 Gas',\n",
       " '2.5L Inline-4 Gas',\n",
       " '2.5L Inline-4 Hybrid',\n",
       " '2.5L Inline-5 Gas',\n",
       " '2.5L Inline-6 Gas',\n",
       " '2.5L V-6 Gas',\n",
       " '2.7L Flat-6 Gas',\n",
       " '2.7L Inline-4 Gas',\n",
       " '2.7L V-6 Gas',\n",
       " '2.7L V-6 Gas Turbocharged',\n",
       " '2.8L V-6 Gas',\n",
       " '2.9L Inline-4 Gas',\n",
       " '2.9L V-6 Gas Turbocharged',\n",
       " '3.0L Flat-6 Gas',\n",
       " '3.0L Inline-6 Gas',\n",
       " '3.0L V-6 Gas',\n",
       " '3.0L V-6 Gas Supercharged',\n",
       " '3.0L V-6 Gas Turbocharged',\n",
       " '3.0L V-6 Hybrid',\n",
       " '3.1L V-6 Gas',\n",
       " '3.2L Flat-6 Gas',\n",
       " '3.2L Inline-6 Gas',\n",
       " '3.2L V-6 Gas',\n",
       " '3.3L V-6 Gas',\n",
       " '3.3L V-6 Gas Turbocharged',\n",
       " '3.3L V-6 Hybrid',\n",
       " '3.4L Flat-6 Gas',\n",
       " '3.4L V-6 Gas',\n",
       " '3.5L Inline-5 Gas',\n",
       " '3.5L V-6 Gas',\n",
       " '3.5L V-6 Gas Turbocharged',\n",
       " '3.5L V-6 Hybrid',\n",
       " '3.6L Flat-6 Gas',\n",
       " '3.6L V-6 Gas',\n",
       " '3.6L V-6 Plug-In',\n",
       " '3.7L Inline-5 Gas',\n",
       " '3.7L V-6 Gas',\n",
       " '3.8L Flat-6 Gas',\n",
       " '3.8L V-6 Gas',\n",
       " '3.9L V-6 Gas',\n",
       " '3.9L V-8 Gas',\n",
       " '3.9L V-8 Gas Turbocharged',\n",
       " '4.0L Inline-6 Gas',\n",
       " '4.0L V-6 Gas',\n",
       " '4.0L V-8 Gas',\n",
       " '4.0L V-8 Gas Supercharged',\n",
       " '4.0L V-8 Gas Turbocharged',\n",
       " '4.2L Inline-6 Gas',\n",
       " '4.2L V-6 Gas',\n",
       " '4.2L V-8 Gas',\n",
       " '4.3L V-6 Gas',\n",
       " '4.3L V-8 Gas',\n",
       " '4.4L V-8 Gas',\n",
       " '4.4L V-8 Gas Turbocharged',\n",
       " '4.5L V-8 Gas',\n",
       " '4.6L V-8 Gas',\n",
       " '4.6L V-8 Gas Turbocharged',\n",
       " '4.7L Inline-8 Gas',\n",
       " '4.7L V-8 Gas',\n",
       " '4.7L V-8 Gas Turbocharged',\n",
       " '4.8L V-8 Gas',\n",
       " '5.0L V-10 Gas',\n",
       " '5.0L V-8 Gas',\n",
       " '5.0L V-8 Gas Supercharged',\n",
       " '5.0L V-8 Gas Turbocharged',\n",
       " '5.3L V-8 Gas',\n",
       " '5.4L V-8 Gas',\n",
       " '5.4L V-8 Gas Supercharged',\n",
       " '5.5L V-12 Gas Turbocharged',\n",
       " '5.5L V-8 Gas',\n",
       " '5.5L V-8 Gas Supercharged',\n",
       " '5.6L V-8 Gas',\n",
       " '5.7L V-12 Gas',\n",
       " '5.7L V-8 Gas',\n",
       " '5.9L V-12 Gas',\n",
       " '5.9L V-8 Gas',\n",
       " '6.0L V-12 Gas',\n",
       " '6.0L V-12 Gas Turbocharged',\n",
       " '6.0L V-8 Gas',\n",
       " '6.0L V-8 Hybrid',\n",
       " '6.0L W-12 Gas',\n",
       " '6.0L W-12 Gas Turbocharged',\n",
       " '6.1L V-8 Gas',\n",
       " '6.2L V-8 Gas',\n",
       " '6.2L V-8 Gas Supercharged',\n",
       " '6.3L V-8 Gas',\n",
       " '6.4L V-8 Gas',\n",
       " '6.5L V-12 Gas',\n",
       " '6.6L V-12 Gas Turbocharged',\n",
       " '6.8L V-10 Gas',\n",
       " '8.1L V-8 Gas',\n",
       " 'L - ',\n",
       " 'L - Electric',\n",
       " 'L - Hydrogen']"
      ]
     },
     "execution_count": 88,
     "metadata": {},
     "output_type": "execute_result"
    }
   ],
   "source": [
    "sorted(cars_dataset['Engine'].value_counts().index.to_list())"
   ]
  },
  {
   "cell_type": "code",
   "execution_count": 89,
   "metadata": {},
   "outputs": [
    {
     "name": "stdout",
     "output_type": "stream",
     "text": [
      "2.5L Inline-4 Gas\n",
      "1.8L Inline-4 Gas\n",
      "2.4L Inline-4 Gas\n",
      "2.0L Inline-4 Gas\n",
      "1.6L Inline-4 Gas\n",
      "2.0L Inline-4 Hybrid\n",
      "1.8L Inline-4 Hybrid\n",
      "3.0L Inline-6 Gas\n",
      "2.5L Inline-4 Hybrid\n",
      "1.5L Inline-4 Gas\n",
      "0.6L Inline-2 Plug-In\n",
      "2.4L Inline-4 Hybrid\n",
      "1.5L Inline-4 Hybrid\n",
      "1.4L Inline-4 Plug-In\n",
      "2.5L Inline-5 Gas\n",
      "2.0L Inline-4 Plug-In\n",
      "3.2L Inline-6 Gas\n",
      "2.2L Inline-4 Gas\n",
      "2.7L Inline-4 Gas\n",
      "1.2L Inline-3 Gas\n",
      "2.3L Inline-4 Gas\n",
      "1.8L Inline-4 Plug-In\n",
      "4.2L Inline-6 Gas\n",
      "2.5L Inline-6 Gas\n",
      "1.3L Inline-4 Hybrid\n",
      "4.7L Inline-8 Gas\n",
      "3.7L Inline-5 Gas\n",
      "1.5L Inline-4 Plug-In\n",
      "2.4L Inline-5 Gas\n",
      "2.9L Inline-4 Gas\n",
      "1.6L Inline-4 Hybrid\n",
      "4.0L Inline-6 Gas\n",
      "1.8L Inline-4 CNG\n",
      "1.4L Inline-4 Gas\n",
      "3.5L Inline-5 Gas\n",
      "1.0L Inline-3 Gas\n",
      "1.7L Inline-4 Gas\n",
      "2.5L Flat-4 Gas\n",
      "2.0L Flat-4 Gas\n",
      "3.8L Flat-6 Gas\n",
      "3.6L Flat-6 Gas\n",
      "3.0L Flat-6 Gas\n",
      "2.7L Flat-6 Gas\n",
      "3.4L Flat-6 Gas\n",
      "2.5L Flat-6 Gas\n",
      "3.2L Flat-6 Gas\n",
      "3.6L V-6 Gas\n",
      "3.5L V-6 Gas\n",
      "5.3L V-8 Gas\n",
      "5.7L V-8 Gas\n",
      "4.0L V-6 Gas\n",
      "3.5L V-6 Gas Turbocharged\n",
      "5.0L V-8 Gas\n",
      "6.0L V-8 Gas\n",
      "3.7L V-6 Gas\n",
      "6.2L V-8 Gas\n",
      "3.8L V-6 Gas\n",
      "3.0L V-6 Gas\n",
      "4.6L V-8 Gas\n",
      "3.3L V-6 Gas\n",
      "3.0L V-6 Gas Turbocharged\n",
      "2.7L V-6 Gas Turbocharged\n",
      "5.4L V-8 Gas\n",
      "5.5L V-8 Gas\n",
      "2.0L V-4 Gas Turbocharged\n",
      "5.6L V-8 Gas\n",
      "6.4L V-8 Gas\n",
      "3.0L V-6 Gas Supercharged\n",
      "4.3L V-6 Gas\n",
      "4.7L V-8 Gas\n",
      "3.2L V-6 Gas\n",
      "4.3L V-8 Gas\n",
      "3.9L V-8 Gas\n",
      "2.3L V-4 Gas Turbocharged\n",
      "4.8L V-8 Gas\n",
      "4.7L V-8 Gas Turbocharged\n",
      "2.5L V-6 Gas\n",
      "2.8L V-6 Gas\n",
      "3.5L V-6 Hybrid\n",
      "5.0L V-8 Gas Turbocharged\n",
      "4.4L V-8 Gas Turbocharged\n",
      "4.0L V-8 Gas Turbocharged\n",
      "6.8L V-10 Gas\n",
      "3.1L V-6 Gas\n",
      "4.2L V-8 Gas\n",
      "5.7L V-12 Gas\n",
      "5.0L V-8 Gas Supercharged\n",
      "2.7L V-6 Gas\n",
      "8.1L V-8 Gas\n",
      "6.2L V-8 Gas Supercharged\n",
      "3.3L V-6 Gas Turbocharged\n",
      "6.0L V-12 Gas Turbocharged\n",
      "6.1L V-8 Gas\n",
      "5.4L V-8 Gas Supercharged\n",
      "3.3L V-6 Hybrid\n",
      "4.2L V-6 Gas\n",
      "3.9L V-6 Gas\n",
      "3.6L V-6 Plug-In\n",
      "4.6L V-8 Gas Turbocharged\n",
      "5.5L V-12 Gas Turbocharged\n",
      "4.0L V-8 Gas\n",
      "6.0L V-8 Hybrid\n",
      "6.5L V-12 Gas\n",
      "5.9L V-12 Gas\n",
      "3.4L V-6 Gas\n",
      "4.4L V-8 Gas\n",
      "6.6L V-12 Gas Turbocharged\n",
      "5.5L V-8 Gas Supercharged\n",
      "4.0L V-8 Gas Supercharged\n",
      "2.9L V-6 Gas Turbocharged\n",
      "5.9L V-8 Gas\n",
      "6.0L V-12 Gas\n",
      "6.3L V-8 Gas\n",
      "5.0L V-10 Gas\n",
      "3.0L V-6 Hybrid\n",
      "3.9L V-8 Gas Turbocharged\n",
      "4.5L V-8 Gas\n"
     ]
    }
   ],
   "source": [
    "for j in [\"Inline\", \"Flat\", \"V\"]:\n",
    "\n",
    "    for i in cars_dataset['Engine'].value_counts().index.to_list():\n",
    "        if j in i:\n",
    "            print(i)"
   ]
  },
  {
   "cell_type": "code",
   "execution_count": 109,
   "metadata": {},
   "outputs": [],
   "source": [
    "def engine_categorize(engine_type):\n",
    "    if \"V-\" in engine_type:\n",
    "        return re.findall(\"V.+\", engine_type)[0]\n",
    "    elif \"Inline\" in engine_type:\n",
    "        return re.findall(\"I.+\", engine_type)[0]\n",
    "    elif \"Flat\" in engine_type:\n",
    "        return re.findall(\"F.+\", engine_type)[0]\n",
    "    else:\n",
    "        return \"Another\""
   ]
  },
  {
   "cell_type": "code",
   "execution_count": 110,
   "metadata": {},
   "outputs": [
    {
     "data": {
      "text/plain": [
       "['V-10']"
      ]
     },
     "execution_count": 110,
     "metadata": {},
     "output_type": "execute_result"
    }
   ],
   "source": [
    "re.findall(\"V-[1-8][0-2]?\", \"5.4L V-10 Gas Supercharged\")"
   ]
  },
  {
   "cell_type": "code",
   "execution_count": 126,
   "metadata": {},
   "outputs": [
    {
     "data": {
      "text/plain": [
       "Inline-4 Gas                  6482\n",
       "V-6 Gas                       3302\n",
       "Another                       3121\n",
       "V-8                           1438\n",
       "Inline-4 Plug-In/Hybrid        502\n",
       "V-6 Gas Turbo/Supercharged     423\n",
       "Flat-4                         236\n",
       "Inline-6                       110\n",
       "V-4/10/12                       90\n",
       "Inline 2/3/5/8                  74\n",
       "Flat-6                          41\n",
       "Name: Engine, dtype: int64"
      ]
     },
     "execution_count": 126,
     "metadata": {},
     "output_type": "execute_result"
    }
   ],
   "source": [
    "cars_dataset['Engine'] = cars_dataset['Engine'].astype(str)\n",
    "cars_dataset['Engine'].apply(engine_categorize).value_counts()"
   ]
  },
  {
   "cell_type": "markdown",
   "metadata": {},
   "source": [
    "Let's filter these engine types up a bit more, so outliers stay out."
   ]
  },
  {
   "cell_type": "code",
   "execution_count": 125,
   "metadata": {},
   "outputs": [],
   "source": [
    "def engine_categorize(engine_type):\n",
    "    if engine_type.endswith(\"V-6 Gas\"):\n",
    "        return re.findall(\"V.+\", engine_type)[0]\n",
    "    elif \"V-6\" in engine_type:\n",
    "        return \"V-6 Gas Turbo/Supercharged\"\n",
    "    elif \"V-8\" in engine_type:\n",
    "        return \"V-8\"\n",
    "    elif \"V-\" in engine_type:\n",
    "        return \"V-4/10/12\"\n",
    "    elif \"Inline-4 Gas\" in engine_type:\n",
    "        return \"Inline-4 Gas\"\n",
    "    elif \"Inline-4\" in engine_type:\n",
    "        return \"Inline-4 Plug-In/Hybrid\"\n",
    "    elif \"Inline-6\" in engine_type:\n",
    "        return \"Inline-6\"\n",
    "    elif \"Inline\" in engine_type:\n",
    "        return \"Inline 2/3/5/8\"\n",
    "    elif \"Flat\" in engine_type:\n",
    "        return re.findall(\"Flat-[46]\", engine_type)[0]\n",
    "    else:\n",
    "        return \"Another\""
   ]
  },
  {
   "cell_type": "code",
   "execution_count": null,
   "metadata": {},
   "outputs": [],
   "source": [
    "'''\n",
    "def engine_categorize(engine_type):\n",
    "    if \"V-\" in engine_type:\n",
    "        return re.findall(\"V-[1-8][0-2]?\", engine_type)[0]\n",
    "    elif \"Inline\" in engine_type:\n",
    "        return re.findall(\"Inline-[2-8]\", engine_type)[0]\n",
    "    elif \"Flat\" in engine_type:\n",
    "        return re.findall(\"Flat-[46]\", engine_type)[0]\n",
    "    else:\n",
    "        return \"Another\n",
    "'''"
   ]
  }
 ],
 "metadata": {
  "kernelspec": {
   "display_name": "Python 3",
   "language": "python",
   "name": "python3"
  },
  "language_info": {
   "codemirror_mode": {
    "name": "ipython",
    "version": 3
   },
   "file_extension": ".py",
   "mimetype": "text/x-python",
   "name": "python",
   "nbconvert_exporter": "python",
   "pygments_lexer": "ipython3",
   "version": "3.7.3"
  }
 },
 "nbformat": 4,
 "nbformat_minor": 2
}
