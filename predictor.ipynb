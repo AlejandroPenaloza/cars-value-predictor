{
  "nbformat": 4,
  "nbformat_minor": 0,
  "metadata": {
    "kernelspec": {
      "display_name": "Python 3",
      "language": "python",
      "name": "python3"
    },
    "language_info": {
      "codemirror_mode": {
        "name": "ipython",
        "version": 3
      },
      "file_extension": ".py",
      "mimetype": "text/x-python",
      "name": "python",
      "nbconvert_exporter": "python",
      "pygments_lexer": "ipython3",
      "version": "3.7.3"
    },
    "colab": {
      "name": "predictor.ipynb",
      "provenance": [],
      "collapsed_sections": []
    }
  },
  "cells": [
    {
      "cell_type": "code",
      "metadata": {
        "id": "9ivP7Jes0A-V",
        "outputId": "c29afa41-b325-487b-ab30-bbc72c4cf192",
        "colab": {
          "base_uri": "https://localhost:8080/"
        }
      },
      "source": [
        "!pip install dython\n",
        "import itertools\n",
        "import pandas as pd\n",
        "import pandas_profiling\n",
        "import numpy as np\n",
        "import scipy.stats\n",
        "import re\n",
        "import math\n",
        "import matplotlib as mlp\n",
        "import matplotlib.pyplot as plt\n",
        "import matplotlib.backends.backend_agg\n",
        "import matplotlib.figure\n",
        "import seaborn as sns\n",
        "import datetime\n",
        "import warnings\n",
        "import dython.nominal as dn\n",
        "from sklearn import preprocessing\n",
        "from sklearn.model_selection import train_test_split\n",
        "from sklearn.linear_model import LogisticRegression\n",
        "from sklearn.metrics import confusion_matrix, accuracy_score\n",
        "from sklearn.preprocessing import LabelEncoder, OneHotEncoder, LabelBinarizer\n",
        "from sklearn.metrics import roc_curve, roc_auc_score"
      ],
      "execution_count": 1,
      "outputs": [
        {
          "output_type": "stream",
          "text": [
            "Requirement already satisfied: dython in /usr/local/lib/python3.6/dist-packages (0.6.1)\n",
            "Requirement already satisfied: pandas>=0.23.4 in /usr/local/lib/python3.6/dist-packages (from dython) (1.1.4)\n",
            "Requirement already satisfied: scipy in /usr/local/lib/python3.6/dist-packages (from dython) (1.4.1)\n",
            "Requirement already satisfied: numpy in /usr/local/lib/python3.6/dist-packages (from dython) (1.18.5)\n",
            "Requirement already satisfied: scikit-learn in /usr/local/lib/python3.6/dist-packages (from dython) (0.22.2.post1)\n",
            "Requirement already satisfied: seaborn in /usr/local/lib/python3.6/dist-packages (from dython) (0.11.0)\n",
            "Requirement already satisfied: matplotlib in /usr/local/lib/python3.6/dist-packages (from dython) (3.2.2)\n",
            "Requirement already satisfied: python-dateutil>=2.7.3 in /usr/local/lib/python3.6/dist-packages (from pandas>=0.23.4->dython) (2.8.1)\n",
            "Requirement already satisfied: pytz>=2017.2 in /usr/local/lib/python3.6/dist-packages (from pandas>=0.23.4->dython) (2018.9)\n",
            "Requirement already satisfied: joblib>=0.11 in /usr/local/lib/python3.6/dist-packages (from scikit-learn->dython) (0.17.0)\n",
            "Requirement already satisfied: cycler>=0.10 in /usr/local/lib/python3.6/dist-packages (from matplotlib->dython) (0.10.0)\n",
            "Requirement already satisfied: kiwisolver>=1.0.1 in /usr/local/lib/python3.6/dist-packages (from matplotlib->dython) (1.3.1)\n",
            "Requirement already satisfied: pyparsing!=2.0.4,!=2.1.2,!=2.1.6,>=2.0.1 in /usr/local/lib/python3.6/dist-packages (from matplotlib->dython) (2.4.7)\n",
            "Requirement already satisfied: six>=1.5 in /usr/local/lib/python3.6/dist-packages (from python-dateutil>=2.7.3->pandas>=0.23.4->dython) (1.15.0)\n"
          ],
          "name": "stdout"
        }
      ]
    },
    {
      "cell_type": "code",
      "metadata": {
        "id": "zHnZBhuK0A-r",
        "outputId": "6b18250d-8841-47f8-fbd3-731b2ce78dbd",
        "colab": {
          "base_uri": "https://localhost:8080/",
          "height": 408
        }
      },
      "source": [
        "vehicles_dataset = pd.read_csv(\n",
        "    'https://raw.githubusercontent.com/AlejandroPenaloza/cars-value-predictor/master/cars-features-dataset.csv')\n",
        "vehicles_dataset.drop(columns='Unnamed: 0', inplace=True)\n",
        "print(vehicles_dataset.shape)\n",
        "vehicles_dataset.head()"
      ],
      "execution_count": 2,
      "outputs": [
        {
          "output_type": "stream",
          "text": [
            "(16920, 18)\n"
          ],
          "name": "stdout"
        },
        {
          "output_type": "execute_result",
          "data": {
            "text/html": [
              "<div>\n",
              "<style scoped>\n",
              "    .dataframe tbody tr th:only-of-type {\n",
              "        vertical-align: middle;\n",
              "    }\n",
              "\n",
              "    .dataframe tbody tr th {\n",
              "        vertical-align: top;\n",
              "    }\n",
              "\n",
              "    .dataframe thead th {\n",
              "        text-align: right;\n",
              "    }\n",
              "</style>\n",
              "<table border=\"1\" class=\"dataframe\">\n",
              "  <thead>\n",
              "    <tr style=\"text-align: right;\">\n",
              "      <th></th>\n",
              "      <th>Make</th>\n",
              "      <th>Model</th>\n",
              "      <th>Year</th>\n",
              "      <th>Mileage</th>\n",
              "      <th>Transmission</th>\n",
              "      <th>Engine</th>\n",
              "      <th>Exterior Color</th>\n",
              "      <th>Interior Color</th>\n",
              "      <th>MPG</th>\n",
              "      <th>Fuel Type</th>\n",
              "      <th>Drive Type</th>\n",
              "      <th>Location (City)</th>\n",
              "      <th>Location (State)</th>\n",
              "      <th>Style</th>\n",
              "      <th>Condition (Accidents)</th>\n",
              "      <th>Options Level</th>\n",
              "      <th>Bed Length</th>\n",
              "      <th>Price</th>\n",
              "    </tr>\n",
              "  </thead>\n",
              "  <tbody>\n",
              "    <tr>\n",
              "      <th>0</th>\n",
              "      <td>Ford</td>\n",
              "      <td>Focus</td>\n",
              "      <td>2014.0</td>\n",
              "      <td>35,795</td>\n",
              "      <td>Automatic</td>\n",
              "      <td>2.0L Inline-4 Gas</td>\n",
              "      <td>NaN</td>\n",
              "      <td>Charcoal Black</td>\n",
              "      <td>26 cty / 36 hwy</td>\n",
              "      <td>Gas</td>\n",
              "      <td>FWD</td>\n",
              "      <td>Tacoma</td>\n",
              "      <td>WA</td>\n",
              "      <td>SE Hatchback</td>\n",
              "      <td>2 reported accidents</td>\n",
              "      <td>Standard</td>\n",
              "      <td>NaN</td>\n",
              "      <td>7,999</td>\n",
              "    </tr>\n",
              "    <tr>\n",
              "      <th>1</th>\n",
              "      <td>Ford</td>\n",
              "      <td>F-150</td>\n",
              "      <td>2015.0</td>\n",
              "      <td>128,146</td>\n",
              "      <td>Automatic</td>\n",
              "      <td>2.7L V-6 Gas Turbocharged</td>\n",
              "      <td>Unknown</td>\n",
              "      <td>Medium Earth Gray</td>\n",
              "      <td>19 cty / 26 hwy</td>\n",
              "      <td>Gas</td>\n",
              "      <td>RWD</td>\n",
              "      <td>Waxahachie</td>\n",
              "      <td>TX</td>\n",
              "      <td>XL SuperCrew 6.5\\' Box RWD</td>\n",
              "      <td>0 reported accidents</td>\n",
              "      <td>NaN</td>\n",
              "      <td>Standard Bed</td>\n",
              "      <td>15,991</td>\n",
              "    </tr>\n",
              "    <tr>\n",
              "      <th>2</th>\n",
              "      <td>Mercedes-Benz</td>\n",
              "      <td>E-Class</td>\n",
              "      <td>2004.0</td>\n",
              "      <td>135,000</td>\n",
              "      <td>Automatic</td>\n",
              "      <td>5.0L V-8 Gas</td>\n",
              "      <td>Black</td>\n",
              "      <td>Beige</td>\n",
              "      <td>16 cty / 22 hwy</td>\n",
              "      <td>Gas</td>\n",
              "      <td>AWD</td>\n",
              "      <td>Covina</td>\n",
              "      <td>CA</td>\n",
              "      <td>E 500 4MATIC Wagon</td>\n",
              "      <td>0 reported accidents</td>\n",
              "      <td>Standard</td>\n",
              "      <td>NaN</td>\n",
              "      <td>5,950</td>\n",
              "    </tr>\n",
              "    <tr>\n",
              "      <th>3</th>\n",
              "      <td>Hyundai</td>\n",
              "      <td>Elantra</td>\n",
              "      <td>2011.0</td>\n",
              "      <td>135,670</td>\n",
              "      <td>Automatic</td>\n",
              "      <td>1.8L Inline-4 Gas</td>\n",
              "      <td>NaN</td>\n",
              "      <td>Gray</td>\n",
              "      <td>28 cty / 38 hwy</td>\n",
              "      <td>Gas</td>\n",
              "      <td>FWD</td>\n",
              "      <td>Miami</td>\n",
              "      <td>FL</td>\n",
              "      <td>NaN</td>\n",
              "      <td>0 reported accidents</td>\n",
              "      <td>Standard</td>\n",
              "      <td>NaN</td>\n",
              "      <td>3,999</td>\n",
              "    </tr>\n",
              "    <tr>\n",
              "      <th>4</th>\n",
              "      <td>Toyota</td>\n",
              "      <td>Prius</td>\n",
              "      <td>2012.0</td>\n",
              "      <td>152,543</td>\n",
              "      <td>Automatic</td>\n",
              "      <td>1.8L Inline-4 Hybrid</td>\n",
              "      <td>White</td>\n",
              "      <td>Biege</td>\n",
              "      <td>51 cty / 48 hwy</td>\n",
              "      <td>Hybrid</td>\n",
              "      <td>FWD</td>\n",
              "      <td>Byhalia</td>\n",
              "      <td>MS</td>\n",
              "      <td>Five</td>\n",
              "      <td>1 reported accidents</td>\n",
              "      <td>Standard</td>\n",
              "      <td>NaN</td>\n",
              "      <td>6,500</td>\n",
              "    </tr>\n",
              "  </tbody>\n",
              "</table>\n",
              "</div>"
            ],
            "text/plain": [
              "            Make    Model    Year  ... Options Level    Bed Length   Price\n",
              "0           Ford    Focus  2014.0  ...      Standard           NaN   7,999\n",
              "1           Ford    F-150  2015.0  ...           NaN  Standard Bed  15,991\n",
              "2  Mercedes-Benz  E-Class  2004.0  ...      Standard           NaN   5,950\n",
              "3        Hyundai  Elantra  2011.0  ...      Standard           NaN   3,999\n",
              "4         Toyota    Prius  2012.0  ...      Standard           NaN   6,500\n",
              "\n",
              "[5 rows x 18 columns]"
            ]
          },
          "metadata": {
            "tags": []
          },
          "execution_count": 2
        }
      ]
    },
    {
      "cell_type": "markdown",
      "metadata": {
        "id": "Aq4K5y970A-3"
      },
      "source": [
        "## Exploratory Data Analysis"
      ]
    },
    {
      "cell_type": "code",
      "metadata": {
        "id": "8z0dMCrY5R-H"
      },
      "source": [
        "#pandas_profiling.ProfileReport(vehicles_dataset)"
      ],
      "execution_count": 3,
      "outputs": []
    },
    {
      "cell_type": "code",
      "metadata": {
        "id": "alWSu2w00A_F",
        "outputId": "9c544897-6096-43d6-d13b-2cc333a74853",
        "colab": {
          "base_uri": "https://localhost:8080/",
          "height": 802
        }
      },
      "source": [
        "print(vehicles_dataset.info())\n",
        "print(vehicles_dataset['Year'].describe())\n",
        "vehicles_dataset.drop(columns='Year').describe()"
      ],
      "execution_count": 4,
      "outputs": [
        {
          "output_type": "stream",
          "text": [
            "<class 'pandas.core.frame.DataFrame'>\n",
            "RangeIndex: 16920 entries, 0 to 16919\n",
            "Data columns (total 18 columns):\n",
            " #   Column                 Non-Null Count  Dtype  \n",
            "---  ------                 --------------  -----  \n",
            " 0   Make                   16024 non-null  object \n",
            " 1   Model                  15997 non-null  object \n",
            " 2   Year                   16098 non-null  float64\n",
            " 3   Mileage                16571 non-null  object \n",
            " 4   Transmission           16534 non-null  object \n",
            " 5   Engine                 13375 non-null  object \n",
            " 6   Exterior Color         11080 non-null  object \n",
            " 7   Interior Color         15635 non-null  object \n",
            " 8   MPG                    16553 non-null  object \n",
            " 9   Fuel Type              16584 non-null  object \n",
            " 10  Drive Type             16636 non-null  object \n",
            " 11  Location (City)        16207 non-null  object \n",
            " 12  Location (State)       16172 non-null  object \n",
            " 13  Style                  15173 non-null  object \n",
            " 14  Condition (Accidents)  16139 non-null  object \n",
            " 15  Options Level          14679 non-null  object \n",
            " 16  Bed Length             1279 non-null   object \n",
            " 17  Price                  16004 non-null  object \n",
            "dtypes: float64(1), object(17)\n",
            "memory usage: 2.3+ MB\n",
            "None\n",
            "count    16098.000000\n",
            "mean      2015.711331\n",
            "std          4.053883\n",
            "min       1997.000000\n",
            "25%       2014.000000\n",
            "50%       2017.000000\n",
            "75%       2019.000000\n",
            "max       2020.000000\n",
            "Name: Year, dtype: float64\n"
          ],
          "name": "stdout"
        },
        {
          "output_type": "execute_result",
          "data": {
            "text/html": [
              "<div>\n",
              "<style scoped>\n",
              "    .dataframe tbody tr th:only-of-type {\n",
              "        vertical-align: middle;\n",
              "    }\n",
              "\n",
              "    .dataframe tbody tr th {\n",
              "        vertical-align: top;\n",
              "    }\n",
              "\n",
              "    .dataframe thead th {\n",
              "        text-align: right;\n",
              "    }\n",
              "</style>\n",
              "<table border=\"1\" class=\"dataframe\">\n",
              "  <thead>\n",
              "    <tr style=\"text-align: right;\">\n",
              "      <th></th>\n",
              "      <th>Make</th>\n",
              "      <th>Model</th>\n",
              "      <th>Mileage</th>\n",
              "      <th>Transmission</th>\n",
              "      <th>Engine</th>\n",
              "      <th>Exterior Color</th>\n",
              "      <th>Interior Color</th>\n",
              "      <th>MPG</th>\n",
              "      <th>Fuel Type</th>\n",
              "      <th>Drive Type</th>\n",
              "      <th>Location (City)</th>\n",
              "      <th>Location (State)</th>\n",
              "      <th>Style</th>\n",
              "      <th>Condition (Accidents)</th>\n",
              "      <th>Options Level</th>\n",
              "      <th>Bed Length</th>\n",
              "      <th>Price</th>\n",
              "    </tr>\n",
              "  </thead>\n",
              "  <tbody>\n",
              "    <tr>\n",
              "      <th>count</th>\n",
              "      <td>16024</td>\n",
              "      <td>15997</td>\n",
              "      <td>16571</td>\n",
              "      <td>16534</td>\n",
              "      <td>13375</td>\n",
              "      <td>11080</td>\n",
              "      <td>15635</td>\n",
              "      <td>16553</td>\n",
              "      <td>16584</td>\n",
              "      <td>16636</td>\n",
              "      <td>16207</td>\n",
              "      <td>16172</td>\n",
              "      <td>15173</td>\n",
              "      <td>16139</td>\n",
              "      <td>14679</td>\n",
              "      <td>1279</td>\n",
              "      <td>16004</td>\n",
              "    </tr>\n",
              "    <tr>\n",
              "      <th>unique</th>\n",
              "      <td>121</td>\n",
              "      <td>615</td>\n",
              "      <td>6442</td>\n",
              "      <td>2</td>\n",
              "      <td>122</td>\n",
              "      <td>577</td>\n",
              "      <td>325</td>\n",
              "      <td>274</td>\n",
              "      <td>7</td>\n",
              "      <td>5</td>\n",
              "      <td>1311</td>\n",
              "      <td>52</td>\n",
              "      <td>1327</td>\n",
              "      <td>5</td>\n",
              "      <td>4</td>\n",
              "      <td>3</td>\n",
              "      <td>3217</td>\n",
              "    </tr>\n",
              "    <tr>\n",
              "      <th>top</th>\n",
              "      <td>Ford</td>\n",
              "      <td>Sentra</td>\n",
              "      <td>29,842</td>\n",
              "      <td>Automatic</td>\n",
              "      <td>2.5L Inline-4 Gas</td>\n",
              "      <td>Black</td>\n",
              "      <td>Black</td>\n",
              "      <td>29 cty / 37 hwy</td>\n",
              "      <td>Gas</td>\n",
              "      <td>FWD</td>\n",
              "      <td>Phoenix</td>\n",
              "      <td>TX</td>\n",
              "      <td>SE FWD</td>\n",
              "      <td>0 reported accidents</td>\n",
              "      <td>Standard</td>\n",
              "      <td>Short Bed</td>\n",
              "      <td>9,995</td>\n",
              "    </tr>\n",
              "    <tr>\n",
              "      <th>freq</th>\n",
              "      <td>2158</td>\n",
              "      <td>563</td>\n",
              "      <td>20</td>\n",
              "      <td>16036</td>\n",
              "      <td>2045</td>\n",
              "      <td>821</td>\n",
              "      <td>4577</td>\n",
              "      <td>638</td>\n",
              "      <td>15625</td>\n",
              "      <td>9719</td>\n",
              "      <td>235</td>\n",
              "      <td>1997</td>\n",
              "      <td>444</td>\n",
              "      <td>13441</td>\n",
              "      <td>9801</td>\n",
              "      <td>603</td>\n",
              "      <td>119</td>\n",
              "    </tr>\n",
              "  </tbody>\n",
              "</table>\n",
              "</div>"
            ],
            "text/plain": [
              "         Make   Model Mileage  ... Options Level Bed Length  Price\n",
              "count   16024   15997   16571  ...         14679       1279  16004\n",
              "unique    121     615    6442  ...             4          3   3217\n",
              "top      Ford  Sentra  29,842  ...      Standard  Short Bed  9,995\n",
              "freq     2158     563      20  ...          9801        603    119\n",
              "\n",
              "[4 rows x 17 columns]"
            ]
          },
          "metadata": {
            "tags": []
          },
          "execution_count": 4
        }
      ]
    },
    {
      "cell_type": "markdown",
      "metadata": {
        "id": "1DQRbAuMpqBo"
      },
      "source": [
        "Or..."
      ]
    },
    {
      "cell_type": "code",
      "metadata": {
        "id": "-lCmC8Wz0A_L",
        "outputId": "5c22bd77-bc81-4a09-fb91-44d0490c7fb0",
        "colab": {
          "base_uri": "https://localhost:8080/"
        }
      },
      "source": [
        "vehicles_dataset.dtypes"
      ],
      "execution_count": 5,
      "outputs": [
        {
          "output_type": "execute_result",
          "data": {
            "text/plain": [
              "Make                      object\n",
              "Model                     object\n",
              "Year                     float64\n",
              "Mileage                   object\n",
              "Transmission              object\n",
              "Engine                    object\n",
              "Exterior Color            object\n",
              "Interior Color            object\n",
              "MPG                       object\n",
              "Fuel Type                 object\n",
              "Drive Type                object\n",
              "Location (City)           object\n",
              "Location (State)          object\n",
              "Style                     object\n",
              "Condition (Accidents)     object\n",
              "Options Level             object\n",
              "Bed Length                object\n",
              "Price                     object\n",
              "dtype: object"
            ]
          },
          "metadata": {
            "tags": []
          },
          "execution_count": 5
        }
      ]
    },
    {
      "cell_type": "code",
      "metadata": {
        "id": "sqTzfHZa0A_X",
        "outputId": "cae1ee65-5f0c-4639-cee1-e7192b9317b7",
        "colab": {
          "base_uri": "https://localhost:8080/"
        }
      },
      "source": [
        "vehicles_dataset.isnull().sum(axis=0)"
      ],
      "execution_count": 6,
      "outputs": [
        {
          "output_type": "execute_result",
          "data": {
            "text/plain": [
              "Make                       896\n",
              "Model                      923\n",
              "Year                       822\n",
              "Mileage                    349\n",
              "Transmission               386\n",
              "Engine                    3545\n",
              "Exterior Color            5840\n",
              "Interior Color            1285\n",
              "MPG                        367\n",
              "Fuel Type                  336\n",
              "Drive Type                 284\n",
              "Location (City)            713\n",
              "Location (State)           748\n",
              "Style                     1747\n",
              "Condition (Accidents)      781\n",
              "Options Level             2241\n",
              "Bed Length               15641\n",
              "Price                      916\n",
              "dtype: int64"
            ]
          },
          "metadata": {
            "tags": []
          },
          "execution_count": 6
        }
      ]
    },
    {
      "cell_type": "code",
      "metadata": {
        "id": "RBr1ksGL0A_g",
        "outputId": "4593c43e-dd14-4d51-d093-53a250938e5e",
        "colab": {
          "base_uri": "https://localhost:8080/"
        }
      },
      "source": [
        "# the following is an array with columns sorted by nulls count within them.\n",
        "columns_by_nulls = vehicles_dataset.isnull().sum().sort_values(ascending=True)\n",
        "print(columns_by_nulls)\n",
        "sorted_columns = columns_by_nulls.index.to_numpy()\n",
        "sorted_columns"
      ],
      "execution_count": 7,
      "outputs": [
        {
          "output_type": "stream",
          "text": [
            "Drive Type                 284\n",
            "Fuel Type                  336\n",
            "Mileage                    349\n",
            "MPG                        367\n",
            "Transmission               386\n",
            "Location (City)            713\n",
            "Location (State)           748\n",
            "Condition (Accidents)      781\n",
            "Year                       822\n",
            "Make                       896\n",
            "Price                      916\n",
            "Model                      923\n",
            "Interior Color            1285\n",
            "Style                     1747\n",
            "Options Level             2241\n",
            "Engine                    3545\n",
            "Exterior Color            5840\n",
            "Bed Length               15641\n",
            "dtype: int64\n"
          ],
          "name": "stdout"
        },
        {
          "output_type": "execute_result",
          "data": {
            "text/plain": [
              "array(['Drive Type', 'Fuel Type', 'Mileage', 'MPG', 'Transmission',\n",
              "       'Location (City)', 'Location (State)', 'Condition (Accidents)',\n",
              "       'Year', 'Make', 'Price', 'Model', 'Interior Color', 'Style',\n",
              "       'Options Level', 'Engine', 'Exterior Color', 'Bed Length'],\n",
              "      dtype=object)"
            ]
          },
          "metadata": {
            "tags": []
          },
          "execution_count": 7
        }
      ]
    },
    {
      "cell_type": "markdown",
      "metadata": {
        "id": "D4iXLDK40A_p"
      },
      "source": [
        "This high quantity of allegedly null values is due to lack of information when inputting specifications in each car listing from its owner or merchant.\n",
        "Some of them will be dropped but most of them will be labeled as another data category."
      ]
    },
    {
      "cell_type": "markdown",
      "metadata": {
        "id": "b1h8b_RRERbO"
      },
      "source": [
        "Starting off with 'Make' and 'Model'"
      ]
    },
    {
      "cell_type": "code",
      "metadata": {
        "id": "Sgaba2lM0A_q",
        "outputId": "dec68bfc-a257-4667-ac44-8f283f7c9d0c",
        "colab": {
          "base_uri": "https://localhost:8080/"
        }
      },
      "source": [
        "vehicles_dataset.dropna(subset=['Make', 'Model'], inplace=True)\n",
        "sorted_columns = np.setdiff1d(sorted_columns, np.array(['Make', 'Model']), assume_unique=True)\n",
        "vehicles_dataset.shape"
      ],
      "execution_count": 8,
      "outputs": [
        {
          "output_type": "execute_result",
          "data": {
            "text/plain": [
              "(15983, 18)"
            ]
          },
          "metadata": {
            "tags": []
          },
          "execution_count": 8
        }
      ]
    },
    {
      "cell_type": "markdown",
      "metadata": {
        "id": "GsMj9NOI0A_x"
      },
      "source": [
        "Make and model are too important to have as an specific information for each row, so the ones were Make and Model are missing were dropped."
      ]
    },
    {
      "cell_type": "code",
      "metadata": {
        "id": "nipbL1mXfu_Y",
        "outputId": "608f8dfa-2624-424b-f512-55f1e7b781e3",
        "colab": {
          "base_uri": "https://localhost:8080/",
          "height": 35
        }
      },
      "source": [
        "sorted_columns[0]"
      ],
      "execution_count": 9,
      "outputs": [
        {
          "output_type": "execute_result",
          "data": {
            "application/vnd.google.colaboratory.intrinsic+json": {
              "type": "string"
            },
            "text/plain": [
              "'Drive Type'"
            ]
          },
          "metadata": {
            "tags": []
          },
          "execution_count": 9
        }
      ]
    },
    {
      "cell_type": "markdown",
      "metadata": {
        "id": "RyTNuomG0A_z"
      },
      "source": [
        "Now, 'Drive Type' will be analyzed."
      ]
    },
    {
      "cell_type": "code",
      "metadata": {
        "id": "r94HnVtP0A_0",
        "outputId": "5d021975-1a96-4437-d348-eca63d1330bd",
        "colab": {
          "base_uri": "https://localhost:8080/"
        }
      },
      "source": [
        "vehicles_dataset['Drive Type'].value_counts()"
      ],
      "execution_count": 10,
      "outputs": [
        {
          "output_type": "execute_result",
          "data": {
            "text/plain": [
              "FWD        9347\n",
              "AWD        2648\n",
              "4WD        2144\n",
              "RWD        1813\n",
              "Unknown       8\n",
              "Name: Drive Type, dtype: int64"
            ]
          },
          "metadata": {
            "tags": []
          },
          "execution_count": 10
        }
      ]
    },
    {
      "cell_type": "code",
      "metadata": {
        "id": "__qpHH1_0A_4",
        "outputId": "0505c1e1-f7a6-4733-cd5e-96c7a471acee",
        "colab": {
          "base_uri": "https://localhost:8080/"
        }
      },
      "source": [
        "vehicles_dataset['Drive Type'].isnull().sum()"
      ],
      "execution_count": 11,
      "outputs": [
        {
          "output_type": "execute_result",
          "data": {
            "text/plain": [
              "23"
            ]
          },
          "metadata": {
            "tags": []
          },
          "execution_count": 11
        }
      ]
    },
    {
      "cell_type": "markdown",
      "metadata": {
        "id": "Fuorlg7S0A_8"
      },
      "source": [
        "This variable has just 23 null values. In addition to that there is one category called 'Unknown', which has only 8 occurrences.\n",
        "The rows presenting these values are going to be eliminated."
      ]
    },
    {
      "cell_type": "code",
      "metadata": {
        "id": "t8jR_6xg0A_9"
      },
      "source": [
        "vehicles_dataset[\"Drive Type\"] = vehicles_dataset[\"Drive Type\"].apply(\n",
        "    lambda dt: (dt, np.NaN)[dt == 'Unknown'])\n",
        "vehicles_dataset.dropna(subset=[\"Drive Type\"], inplace=True)"
      ],
      "execution_count": 12,
      "outputs": []
    },
    {
      "cell_type": "code",
      "metadata": {
        "id": "6M-amnnl0BAA",
        "outputId": "72d7942d-119b-4c87-e980-4023f8ae43c5",
        "colab": {
          "base_uri": "https://localhost:8080/"
        }
      },
      "source": [
        "# Function to display next feature to analyze and edited\n",
        "# dataframe shape, after being done with previous one\n",
        "def display_next_feature(n=1):\n",
        "  global sorted_columns\n",
        "  sorted_columns = sorted_columns[n:]\n",
        "  return print(sorted_columns[0], \"\\n\", vehicles_dataset.shape)\n",
        "               \n",
        "  \n",
        "display_next_feature()"
      ],
      "execution_count": 13,
      "outputs": [
        {
          "output_type": "stream",
          "text": [
            "Fuel Type \n",
            " (15952, 18)\n"
          ],
          "name": "stdout"
        }
      ]
    },
    {
      "cell_type": "markdown",
      "metadata": {
        "id": "z1_70Cft0BAH"
      },
      "source": [
        "The next variable with the least amount of null values is 'Fuel Type'."
      ]
    },
    {
      "cell_type": "code",
      "metadata": {
        "id": "uYCx3vGq0BAI",
        "outputId": "b7c8be1c-5b4c-4ac3-d534-ce2addeb4289",
        "colab": {
          "base_uri": "https://localhost:8080/"
        }
      },
      "source": [
        "print(vehicles_dataset['Fuel Type'].value_counts())\n",
        "vehicles_dataset['Fuel Type'].isnull().sum()"
      ],
      "execution_count": 14,
      "outputs": [
        {
          "output_type": "stream",
          "text": [
            "Gas         14999\n",
            "Hybrid        482\n",
            "Diesel        266\n",
            "Plug-In        99\n",
            "Electric       64\n",
            "Hydrogen        3\n",
            "CNG             2\n",
            "Name: Fuel Type, dtype: int64\n"
          ],
          "name": "stdout"
        },
        {
          "output_type": "execute_result",
          "data": {
            "text/plain": [
              "37"
            ]
          },
          "metadata": {
            "tags": []
          },
          "execution_count": 14
        }
      ]
    },
    {
      "cell_type": "markdown",
      "metadata": {
        "id": "5mQ4iDi1kCxf"
      },
      "source": [
        "'CNG' and 'Hydrogen will be dismissed, they have but 5 presences. "
      ]
    },
    {
      "cell_type": "code",
      "metadata": {
        "id": "CUNzcEk60BAN"
      },
      "source": [
        "vehicles_dataset['Fuel Type'] = vehicles_dataset['Fuel Type'].apply(\n",
        "    lambda ft: (ft, np.NaN)[ft in ['Hydrogen', 'CNG']])\n",
        "vehicles_dataset.dropna(subset=['Fuel Type'], inplace=True)"
      ],
      "execution_count": 15,
      "outputs": []
    },
    {
      "cell_type": "code",
      "metadata": {
        "id": "MAjFHKS6lQ2P",
        "outputId": "4032be1d-f39e-4ec6-e126-6c697d3a03c8",
        "colab": {
          "base_uri": "https://localhost:8080/"
        }
      },
      "source": [
        "display_next_feature()"
      ],
      "execution_count": 16,
      "outputs": [
        {
          "output_type": "stream",
          "text": [
            "Mileage \n",
            " (15910, 18)\n"
          ],
          "name": "stdout"
        }
      ]
    },
    {
      "cell_type": "markdown",
      "metadata": {
        "id": "onSZKetV0BAg"
      },
      "source": [
        "'Mileage' column comes on."
      ]
    },
    {
      "cell_type": "code",
      "metadata": {
        "id": "7235BNWF0BAi",
        "outputId": "848889c7-a5dc-47a8-87ff-d98d40e2211e",
        "colab": {
          "base_uri": "https://localhost:8080/"
        }
      },
      "source": [
        "print(vehicles_dataset['Mileage'].value_counts())\n",
        "vehicles_dataset['Mileage'].isnull().sum()"
      ],
      "execution_count": 17,
      "outputs": [
        {
          "output_type": "stream",
          "text": [
            "29,842     20\n",
            "148,040    19\n",
            "152,997    18\n",
            "51,821     16\n",
            "92,897     15\n",
            "           ..\n",
            "45,517      1\n",
            "53,630      1\n",
            "34,946      1\n",
            "33,715      1\n",
            "60,548      1\n",
            "Name: Mileage, Length: 6271, dtype: int64\n"
          ],
          "name": "stdout"
        },
        {
          "output_type": "execute_result",
          "data": {
            "text/plain": [
              "12"
            ]
          },
          "metadata": {
            "tags": []
          },
          "execution_count": 17
        }
      ]
    },
    {
      "cell_type": "code",
      "metadata": {
        "id": "gd8GEeYD0BAu"
      },
      "source": [
        "vehicles_dataset.dropna(subset=['Mileage'], inplace=True)"
      ],
      "execution_count": 18,
      "outputs": []
    },
    {
      "cell_type": "code",
      "metadata": {
        "id": "yZpxc7M8ztYN"
      },
      "source": [
        "vehicles_dataset['Mileage'] = vehicles_dataset['Mileage'].apply(\n",
        "    lambda m: m.replace(',', ''))\n",
        "vehicles_dataset['Mileage'] = vehicles_dataset['Mileage'].astype('int64')"
      ],
      "execution_count": 19,
      "outputs": []
    },
    {
      "cell_type": "code",
      "metadata": {
        "id": "QaPl2RxW6inI",
        "outputId": "3e4a594a-9b73-425d-c648-80e560c9e1c5",
        "colab": {
          "base_uri": "https://localhost:8080/"
        }
      },
      "source": [
        "mileage_median = np.median(vehicles_dataset['Mileage'])\n",
        "print(\"Median of 'Mileage' data is\", mileage_median)\n",
        "scipy.stats.describe(vehicles_dataset['Mileage'])"
      ],
      "execution_count": 20,
      "outputs": [
        {
          "output_type": "stream",
          "text": [
            "Median of 'Mileage' data is 40044.0\n"
          ],
          "name": "stdout"
        },
        {
          "output_type": "execute_result",
          "data": {
            "text/plain": [
              "DescribeResult(nobs=15898, minmax=(5, 428197), mean=58815.70228959618, variance=2178329907.811407, skewness=1.375201333977781, kurtosis=1.9200097611263107)"
            ]
          },
          "metadata": {
            "tags": []
          },
          "execution_count": 20
        }
      ]
    },
    {
      "cell_type": "code",
      "metadata": {
        "id": "ORi2_Pe9HJpR",
        "outputId": "980bc172-9d8b-4103-d60b-c697660ba262",
        "colab": {
          "base_uri": "https://localhost:8080/",
          "height": 296
        }
      },
      "source": [
        "ax = sns.scatterplot(x=vehicles_dataset['Mileage'].value_counts(), \n",
        "                     y=vehicles_dataset['Mileage'], data=vehicles_dataset)\n",
        "ax.set_xlabel('Occurrences')"
      ],
      "execution_count": 21,
      "outputs": [
        {
          "output_type": "execute_result",
          "data": {
            "text/plain": [
              "Text(0.5, 0, 'Occurrences')"
            ]
          },
          "metadata": {
            "tags": []
          },
          "execution_count": 21
        },
        {
          "output_type": "display_data",
          "data": {
            "image/png": "[encoded data removed]",
            "text/plain": [
              "<Figure size 432x288 with 1 Axes>"
            ]
          },
          "metadata": {
            "tags": [],
            "needs_background": "light"
          }
        }
      ]
    },
    {
      "cell_type": "code",
      "metadata": {
        "id": "tMFGKEw66hwB",
        "outputId": "d92dbcd9-bd7f-44b9-981d-f947caf1bf35",
        "colab": {
          "base_uri": "https://localhost:8080/",
          "height": 748
        }
      },
      "source": [
        "fig, (ax_box, ax_hist) = plt.subplots(2, sharex=True, figsize=(14, 10))\n",
        "fig.suptitle('Mileage distribution', fontsize=20)\n",
        "sns.boxplot(orient='h', data=vehicles_dataset['Mileage'], ax=ax_box)\n",
        "sns.distplot(vehicles_dataset['Mileage'], ax=ax_hist)"
      ],
      "execution_count": 22,
      "outputs": [
        {
          "output_type": "stream",
          "text": [
            "/usr/local/lib/python3.6/dist-packages/seaborn/distributions.py:2551: FutureWarning: `distplot` is a deprecated function and will be removed in a future version. Please adapt your code to use either `displot` (a figure-level function with similar flexibility) or `histplot` (an axes-level function for histograms).\n",
            "  warnings.warn(msg, FutureWarning)\n"
          ],
          "name": "stderr"
        },
        {
          "output_type": "execute_result",
          "data": {
            "text/plain": [
              "<matplotlib.axes._subplots.AxesSubplot at 0x7ff46298b390>"
            ]
          },
          "metadata": {
            "tags": []
          },
          "execution_count": 22
        },
        {
          "output_type": "display_data",
          "data": {
            "image/png": "[encoded data removed]",
            "text/plain": [
              "<Figure size 1008x720 with 2 Axes>"
            ]
          },
          "metadata": {
            "tags": [],
            "needs_background": "light"
          }
        }
      ]
    },
    {
      "cell_type": "markdown",
      "metadata": {
        "id": "LtOsAON2TcX1"
      },
      "source": [
        "It ts clear that many outliers are present here. They are to be dealt with by using 1.5 x Interquartile Range Rule and Z Score measurements."
      ]
    },
    {
      "cell_type": "code",
      "metadata": {
        "id": "ooyV_7EKPgLV",
        "outputId": "213064b9-a398-46ca-e821-aeac086291a3",
        "colab": {
          "base_uri": "https://localhost:8080/"
        }
      },
      "source": [
        "# absolute value of z-score for every mileage\n",
        "mileage_std = np.std(vehicles_dataset['Mileage'])\n",
        "print(\"Threshold is to be\", 3*mileage_std)\n",
        "z_score = np.abs(scipy.stats.zscore(vehicles_dataset['Mileage']))\n",
        "z_score"
      ],
      "execution_count": 23,
      "outputs": [
        {
          "output_type": "stream",
          "text": [
            "Threshold is to be 140013.34221515374\n"
          ],
          "name": "stdout"
        },
        {
          "output_type": "execute_result",
          "data": {
            "text/plain": [
              "array([0.49325376, 1.48550767, 1.6323651 , ..., 0.6199274 , 0.25316949,\n",
              "       1.08355464])"
            ]
          },
          "metadata": {
            "tags": []
          },
          "execution_count": 23
        }
      ]
    },
    {
      "cell_type": "code",
      "metadata": {
        "id": "WqhVbxZcxmNa"
      },
      "source": [
        "# Quartiles and IQR definition\n",
        "mileage_iqr = scipy.stats.iqr(vehicles_dataset['Mileage'])\n",
        "\n",
        "# mileage_iqr = vehicles_dataset['Mileage'].apply(scipy.stats.iqr)\n",
        "mileage_quartile1 = np.percentile(vehicles_dataset['Mileage'], 25)\n",
        "mileage_quartile3 = np.percentile(vehicles_dataset['Mileage'], 75)"
      ],
      "execution_count": 24,
      "outputs": []
    },
    {
      "cell_type": "markdown",
      "metadata": {
        "id": "VOgdsnlmdym0"
      },
      "source": [
        "Z-Score filtering applied by comparing their value with each mileage score, keeping the rows within the +-3 standard deviation range."
      ]
    },
    {
      "cell_type": "code",
      "metadata": {
        "id": "qOAwly_1XhoK",
        "outputId": "b1ddcab8-08d1-4839-e8cd-a7fcb8dab075",
        "colab": {
          "base_uri": "https://localhost:8080/"
        }
      },
      "source": [
        "# z-score filtered dataframe\n",
        "z_score_outliers_n = vehicles_dataset.shape[0] - len(vehicles_dataset[z_score <= 3]['Mileage'])\n",
        "vehicles_dataset = vehicles_dataset[z_score <= 3]\n",
        "print(\"New number of rows:\", vehicles_dataset.shape[0])\n",
        "vehicles_dataset['Mileage'].value_counts()"
      ],
      "execution_count": 25,
      "outputs": [
        {
          "output_type": "stream",
          "text": [
            "New number of rows: 15705\n"
          ],
          "name": "stdout"
        },
        {
          "output_type": "execute_result",
          "data": {
            "text/plain": [
              "29842     20\n",
              "148040    19\n",
              "152997    18\n",
              "51821     16\n",
              "94500     15\n",
              "          ..\n",
              "32444      1\n",
              "120497     1\n",
              "114348     1\n",
              "51822      1\n",
              "38909      1\n",
              "Name: Mileage, Length: 6173, dtype: int64"
            ]
          },
          "metadata": {
            "tags": []
          },
          "execution_count": 25
        }
      ]
    },
    {
      "cell_type": "code",
      "metadata": {
        "id": "b84j68NGaY8U",
        "outputId": "be663f32-c164-43eb-fd57-0619b3fbf75c",
        "colab": {
          "base_uri": "https://localhost:8080/"
        }
      },
      "source": [
        "print(\"So,\", z_score_outliers_n, \n",
        "      \"fields have been declared as outliers, thereby left away.\")\n",
        "max_mileage = vehicles_dataset['Mileage'].max()"
      ],
      "execution_count": 26,
      "outputs": [
        {
          "output_type": "stream",
          "text": [
            "So, 193 fields have been declared as outliers, thereby left away.\n"
          ],
          "name": "stdout"
        }
      ]
    },
    {
      "cell_type": "markdown",
      "metadata": {
        "id": "BRUNBcLztmta"
      },
      "source": [
        "Interquartile Range usage for restricting the array values spread."
      ]
    },
    {
      "cell_type": "code",
      "metadata": {
        "id": "d_0lahRUcGZF",
        "outputId": "8cc65970-080e-4175-8e19-14f892e4aba2",
        "colab": {
          "base_uri": "https://localhost:8080/"
        }
      },
      "source": [
        "# Dataset taking away outliers according to 1.5 times the interquartile range.\n",
        "IQRx1p5_df = vehicles_dataset[(vehicles_dataset['Mileage'] > mileage_quartile1 - 1.5 * mileage_iqr) & (\n",
        "      vehicles_dataset['Mileage'] < mileage_quartile3 + 1.5 * mileage_iqr)]\n",
        "IQRx1p5_rows_n = len(vehicles_dataset['Mileage']) - len(IQRx1p5_df['Mileage'])\n",
        "print('Current number of rows', len(vehicles_dataset['Mileage']), \n",
        "      \"- number if all rows eliminated for 1.5x IQR\", len(IQRx1p5_df['Mileage']),\n",
        "      \"=\", IQRx1p5_rows_n)"
      ],
      "execution_count": 27,
      "outputs": [
        {
          "output_type": "stream",
          "text": [
            "Current number of rows 15705 - number if all rows eliminated for 1.5x IQR 15454 = 251\n"
          ],
          "name": "stdout"
        }
      ]
    },
    {
      "cell_type": "markdown",
      "metadata": {
        "id": "X--tcCRAtqmO"
      },
      "source": [
        "Due to limiting the values range whisker to 1.5 IQR takes away over 200 more rows (nearly 500 from original dataset, which is a lot to this standard), some of those values will be kept, by representing the median value. "
      ]
    },
    {
      "cell_type": "code",
      "metadata": {
        "id": "xpUhz8hEv5WP",
        "outputId": "2d94e3a9-5703-472e-9318-8dcecde1d4c6",
        "colab": {
          "base_uri": "https://localhost:8080/",
          "height": 294
        }
      },
      "source": [
        "fig, (box1, box2) = plt.subplots(ncols=2, sharey=True)\n",
        "fig.suptitle('Mileage data boxplots')\n",
        "sns.boxplot(orient='v', data=vehicles_dataset['Mileage'], ax=box1, whis=1.5)\n",
        "box1.set_title('With whisker = 1.5 (current)')\n",
        "sns.boxplot(orient='v', data=vehicles_dataset['Mileage'], ax=box2, whis=1.75)\n",
        "box2.set_title('With whisker = 1.75 (to use)')\n",
        "plt.show()"
      ],
      "execution_count": 28,
      "outputs": [
        {
          "output_type": "display_data",
          "data": {
            "image/png": "[encoded data removed]",
            "text/plain": [
              "<Figure size 432x288 with 2 Axes>"
            ]
          },
          "metadata": {
            "tags": [],
            "needs_background": "light"
          }
        }
      ]
    },
    {
      "cell_type": "code",
      "metadata": {
        "id": "zObGCCqqv56W",
        "outputId": "b59dffff-9370-4605-939e-cd783ce9ee12",
        "colab": {
          "base_uri": "https://localhost:8080/"
        }
      },
      "source": [
        "# Dataset taking away outliers according to 1.75 times the interquartile range\n",
        "IQRx1p75_df = vehicles_dataset[(vehicles_dataset['Mileage'] > mileage_quartile1 - 1.75 * mileage_iqr) & (\n",
        "      vehicles_dataset['Mileage'] < mileage_quartile3 + 1.75 * mileage_iqr)]\n",
        "IQRx1p75_rows_n = len(vehicles_dataset['Mileage']) - len(IQRx1p75_df['Mileage'])\n",
        "print(\"Current number of rows \", len(vehicles_dataset['Mileage']), \n",
        "      \" - number if all rows eliminated for 1.75x IQR \", len(IQRx1p75_df['Mileage']),\n",
        "      \" = \", IQRx1p75_rows_n, \".\", sep=\"\")\n",
        "print(\"And the rest (will be changed instead of eliminated): \", IQRx1p5_rows_n - IQRx1p75_rows_n, \".\", sep=\"\")"
      ],
      "execution_count": 29,
      "outputs": [
        {
          "output_type": "stream",
          "text": [
            "Current number of rows 15705 - number if all rows eliminated for 1.75x IQR 15635 = 70.\n",
            "And the rest (will be changed instead of eliminated): 181.\n"
          ],
          "name": "stdout"
        }
      ]
    },
    {
      "cell_type": "markdown",
      "metadata": {
        "id": "RqF_O2NV-CdE"
      },
      "source": [
        "Now, these 70 rows will be dropped and the rest of outliers (181) are to storage the mileage median value."
      ]
    },
    {
      "cell_type": "code",
      "metadata": {
        "id": "8znKPQPXv6IJ"
      },
      "source": [
        "vehicles_dataset = IQRx1p75_df\n",
        "\n",
        "# Given that there are no low outliers, we can determine what outliers value to replace by comparing with the new max mileage value\n",
        "vehicles_dataset['Mileage'].where(vehicles_dataset['Mileage'] <= IQRx1p5_df['Mileage'].max(), other=mileage_median, inplace=True)"
      ],
      "execution_count": 30,
      "outputs": []
    },
    {
      "cell_type": "code",
      "metadata": {
        "id": "CcRXH9BNANtV",
        "outputId": "18905c7e-a3a9-446f-e91e-306716bad47c",
        "colab": {
          "base_uri": "https://localhost:8080/"
        }
      },
      "source": [
        "display_next_feature()"
      ],
      "execution_count": 31,
      "outputs": [
        {
          "output_type": "stream",
          "text": [
            "MPG \n",
            " (15635, 18)\n"
          ],
          "name": "stdout"
        }
      ]
    },
    {
      "cell_type": "markdown",
      "metadata": {
        "id": "XcmrVXN40BBH"
      },
      "source": [
        "Following into the variables list with the least null values, 'MPG' comes up."
      ]
    },
    {
      "cell_type": "code",
      "metadata": {
        "scrolled": true,
        "id": "gn9wXFkz0BBI",
        "outputId": "3e3c96ef-4fe2-4906-c83c-6933a6af95d2",
        "colab": {
          "base_uri": "https://localhost:8080/"
        }
      },
      "source": [
        "print(vehicles_dataset['MPG'].value_counts())\n",
        "vehicles_dataset['MPG'].isnull().sum()"
      ],
      "execution_count": 32,
      "outputs": [
        {
          "output_type": "stream",
          "text": [
            "17 cty / 25 hwy      597\n",
            "29 cty / 37 hwy      590\n",
            "N/A cty / N/A hwy    508\n",
            "28 cty / 39 hwy      381\n",
            "26 cty / 33 hwy      364\n",
            "                    ... \n",
            "12 cty / 14 hwy        1\n",
            "15 cty / 17 hwy        1\n",
            "18 cty / 30 hwy        1\n",
            "31 cty / 47 hwy        1\n",
            "31 cty / 45 hwy        1\n",
            "Name: MPG, Length: 269, dtype: int64\n"
          ],
          "name": "stdout"
        },
        {
          "output_type": "execute_result",
          "data": {
            "text/plain": [
              "18"
            ]
          },
          "metadata": {
            "tags": []
          },
          "execution_count": 32
        }
      ]
    },
    {
      "cell_type": "markdown",
      "metadata": {
        "id": "CC7BuLd70BBN"
      },
      "source": [
        "This column has only 18 null values, however, they are also represented as True in 'N/A cty / N/A hwy', as seen down below.\n",
        "Since there are around 500 of these values, they will be categorized as well."
      ]
    },
    {
      "cell_type": "code",
      "metadata": {
        "id": "MpETy51I0BBO",
        "outputId": "0f903c66-8c9f-4925-f34a-ceaf297fc3e0",
        "colab": {
          "base_uri": "https://localhost:8080/"
        }
      },
      "source": [
        "sorted(list(vehicles_dataset.dropna(subset=['MPG'])['MPG'].unique()))"
      ],
      "execution_count": 33,
      "outputs": [
        {
          "output_type": "execute_result",
          "data": {
            "text/plain": [
              "['10 cty / 16 hwy',\n",
              " '10 cty / 17 hwy',\n",
              " '101 cty / 93 hwy',\n",
              " '102 cty / 105 hwy',\n",
              " '104 cty / 91 hwy',\n",
              " '106 cty / 92 hwy',\n",
              " '11 cty / 15 hwy',\n",
              " '11 cty / 16 hwy',\n",
              " '11 cty / 17 hwy',\n",
              " '11 cty / 18 hwy',\n",
              " '11 cty / N/A hwy',\n",
              " '12 cty / 14 hwy',\n",
              " '12 cty / 16 hwy',\n",
              " '12 cty / 17 hwy',\n",
              " '12 cty / 18 hwy',\n",
              " '12 cty / 19 hwy',\n",
              " '120 cty / 112 hwy',\n",
              " '121 cty / 103 hwy',\n",
              " '122 cty / 108 hwy',\n",
              " '122 cty / 93 hwy',\n",
              " '124 cty / 94 hwy',\n",
              " '126 cty / 101 hwy',\n",
              " '126 cty / 105 hwy',\n",
              " '126 cty / 99 hwy',\n",
              " '129 cty / 102 hwy',\n",
              " '13 cty / 16 hwy',\n",
              " '13 cty / 17 hwy',\n",
              " '13 cty / 18 hwy',\n",
              " '13 cty / 19 hwy',\n",
              " '13 cty / 20 hwy',\n",
              " '13 cty / 21 hwy',\n",
              " '13 cty / 22 hwy',\n",
              " '137 cty / 111 hwy',\n",
              " '14 cty / 17 hwy',\n",
              " '14 cty / 18 hwy',\n",
              " '14 cty / 19 hwy',\n",
              " '14 cty / 20 hwy',\n",
              " '14 cty / 21 hwy',\n",
              " '14 cty / 22 hwy',\n",
              " '14 cty / 23 hwy',\n",
              " '14 cty / 24 hwy',\n",
              " '15 cty / 17 hwy',\n",
              " '15 cty / 18 hwy',\n",
              " '15 cty / 19 hwy',\n",
              " '15 cty / 20 hwy',\n",
              " '15 cty / 21 hwy',\n",
              " '15 cty / 22 hwy',\n",
              " '15 cty / 23 hwy',\n",
              " '15 cty / 24 hwy',\n",
              " '15 cty / 25 hwy',\n",
              " '15 cty / 27 hwy',\n",
              " '150 cty / 122 hwy',\n",
              " '16 cty / 18 hwy',\n",
              " '16 cty / 19 hwy',\n",
              " '16 cty / 20 hwy',\n",
              " '16 cty / 21 hwy',\n",
              " '16 cty / 22 hwy',\n",
              " '16 cty / 23 hwy',\n",
              " '16 cty / 24 hwy',\n",
              " '16 cty / 25 hwy',\n",
              " '16 cty / 26 hwy',\n",
              " '17 cty / 20 hwy',\n",
              " '17 cty / 21 hwy',\n",
              " '17 cty / 22 hwy',\n",
              " '17 cty / 23 hwy',\n",
              " '17 cty / 24 hwy',\n",
              " '17 cty / 25 hwy',\n",
              " '17 cty / 26 hwy',\n",
              " '17 cty / 27 hwy',\n",
              " '17 cty / 28 hwy',\n",
              " '17 cty / 29 hwy',\n",
              " '18 cty / 22 hwy',\n",
              " '18 cty / 23 hwy',\n",
              " '18 cty / 24 hwy',\n",
              " '18 cty / 25 hwy',\n",
              " '18 cty / 26 hwy',\n",
              " '18 cty / 27 hwy',\n",
              " '18 cty / 28 hwy',\n",
              " '18 cty / 29 hwy',\n",
              " '18 cty / 30 hwy',\n",
              " '19 cty / 22 hwy',\n",
              " '19 cty / 23 hwy',\n",
              " '19 cty / 24 hwy',\n",
              " '19 cty / 25 hwy',\n",
              " '19 cty / 26 hwy',\n",
              " '19 cty / 27 hwy',\n",
              " '19 cty / 28 hwy',\n",
              " '19 cty / 29 hwy',\n",
              " '19 cty / 30 hwy',\n",
              " '19 cty / 31 hwy',\n",
              " '20 cty / 23 hwy',\n",
              " '20 cty / 24 hwy',\n",
              " '20 cty / 25 hwy',\n",
              " '20 cty / 26 hwy',\n",
              " '20 cty / 27 hwy',\n",
              " '20 cty / 28 hwy',\n",
              " '20 cty / 29 hwy',\n",
              " '20 cty / 30 hwy',\n",
              " '20 cty / 31 hwy',\n",
              " '20 cty / 32 hwy',\n",
              " '20 cty / 34 hwy',\n",
              " '21 cty / 22 hwy',\n",
              " '21 cty / 24 hwy',\n",
              " '21 cty / 25 hwy',\n",
              " '21 cty / 26 hwy',\n",
              " '21 cty / 27 hwy',\n",
              " '21 cty / 28 hwy',\n",
              " '21 cty / 29 hwy',\n",
              " '21 cty / 30 hwy',\n",
              " '21 cty / 31 hwy',\n",
              " '21 cty / 32 hwy',\n",
              " '21 cty / 33 hwy',\n",
              " '21 cty / 34 hwy',\n",
              " '22 cty / 25 hwy',\n",
              " '22 cty / 26 hwy',\n",
              " '22 cty / 27 hwy',\n",
              " '22 cty / 28 hwy',\n",
              " '22 cty / 29 hwy',\n",
              " '22 cty / 30 hwy',\n",
              " '22 cty / 31 hwy',\n",
              " '22 cty / 32 hwy',\n",
              " '22 cty / 33 hwy',\n",
              " '22 cty / 34 hwy',\n",
              " '22 cty / 35 hwy',\n",
              " '23 cty / 27 hwy',\n",
              " '23 cty / 28 hwy',\n",
              " '23 cty / 29 hwy',\n",
              " '23 cty / 30 hwy',\n",
              " '23 cty / 31 hwy',\n",
              " '23 cty / 32 hwy',\n",
              " '23 cty / 33 hwy',\n",
              " '23 cty / 34 hwy',\n",
              " '23 cty / 35 hwy',\n",
              " '23 cty / 36 hwy',\n",
              " '24 cty / 25 hwy',\n",
              " '24 cty / 26 hwy',\n",
              " '24 cty / 27 hwy',\n",
              " '24 cty / 28 hwy',\n",
              " '24 cty / 29 hwy',\n",
              " '24 cty / 30 hwy',\n",
              " '24 cty / 31 hwy',\n",
              " '24 cty / 32 hwy',\n",
              " '24 cty / 33 hwy',\n",
              " '24 cty / 34 hwy',\n",
              " '24 cty / 35 hwy',\n",
              " '24 cty / 36 hwy',\n",
              " '24 cty / 37 hwy',\n",
              " '25 cty / 26 hwy',\n",
              " '25 cty / 28 hwy',\n",
              " '25 cty / 29 hwy',\n",
              " '25 cty / 30 hwy',\n",
              " '25 cty / 31 hwy',\n",
              " '25 cty / 32 hwy',\n",
              " '25 cty / 33 hwy',\n",
              " '25 cty / 34 hwy',\n",
              " '25 cty / 35 hwy',\n",
              " '25 cty / 36 hwy',\n",
              " '25 cty / 37 hwy',\n",
              " '25 cty / 38 hwy',\n",
              " '26 cty / 24 hwy',\n",
              " '26 cty / 29 hwy',\n",
              " '26 cty / 30 hwy',\n",
              " '26 cty / 31 hwy',\n",
              " '26 cty / 32 hwy',\n",
              " '26 cty / 33 hwy',\n",
              " '26 cty / 34 hwy',\n",
              " '26 cty / 35 hwy',\n",
              " '26 cty / 36 hwy',\n",
              " '26 cty / 37 hwy',\n",
              " '26 cty / 38 hwy',\n",
              " '26 cty / 39 hwy',\n",
              " '27 cty / 28 hwy',\n",
              " '27 cty / 29 hwy',\n",
              " '27 cty / 31 hwy',\n",
              " '27 cty / 32 hwy',\n",
              " '27 cty / 33 hwy',\n",
              " '27 cty / 34 hwy',\n",
              " '27 cty / 35 hwy',\n",
              " '27 cty / 36 hwy',\n",
              " '27 cty / 37 hwy',\n",
              " '27 cty / 38 hwy',\n",
              " '27 cty / 39 hwy',\n",
              " '28 cty / 30 hwy',\n",
              " '28 cty / 32 hwy',\n",
              " '28 cty / 33 hwy',\n",
              " '28 cty / 34 hwy',\n",
              " '28 cty / 35 hwy',\n",
              " '28 cty / 36 hwy',\n",
              " '28 cty / 37 hwy',\n",
              " '28 cty / 38 hwy',\n",
              " '28 cty / 39 hwy',\n",
              " '28 cty / 40 hwy',\n",
              " '28 cty / 42 hwy',\n",
              " '29 cty / 27 hwy',\n",
              " '29 cty / 35 hwy',\n",
              " '29 cty / 36 hwy',\n",
              " '29 cty / 37 hwy',\n",
              " '29 cty / 38 hwy',\n",
              " '29 cty / 39 hwy',\n",
              " '29 cty / 40 hwy',\n",
              " '29 cty / 41 hwy',\n",
              " '30 cty / 28 hwy',\n",
              " '30 cty / 36 hwy',\n",
              " '30 cty / 38 hwy',\n",
              " '30 cty / 39 hwy',\n",
              " '30 cty / 40 hwy',\n",
              " '30 cty / 41 hwy',\n",
              " '30 cty / 42 hwy',\n",
              " '31 cty / 27 hwy',\n",
              " '31 cty / 28 hwy',\n",
              " '31 cty / 34 hwy',\n",
              " '31 cty / 36 hwy',\n",
              " '31 cty / 39 hwy',\n",
              " '31 cty / 40 hwy',\n",
              " '31 cty / 41 hwy',\n",
              " '31 cty / 42 hwy',\n",
              " '31 cty / 43 hwy',\n",
              " '31 cty / 45 hwy',\n",
              " '31 cty / 47 hwy',\n",
              " '32 cty / 37 hwy',\n",
              " '32 cty / 38 hwy',\n",
              " '32 cty / 39 hwy',\n",
              " '32 cty / 40 hwy',\n",
              " '32 cty / 41 hwy',\n",
              " '32 cty / 42 hwy',\n",
              " '33 cty / 33 hwy',\n",
              " '33 cty / 40 hwy',\n",
              " '33 cty / 41 hwy',\n",
              " '34 cty / 30 hwy',\n",
              " '34 cty / 39 hwy',\n",
              " '35 cty / 34 hwy',\n",
              " '35 cty / 42 hwy',\n",
              " '36 cty / 40 hwy',\n",
              " '37 cty / 43 hwy',\n",
              " '37 cty / 44 hwy',\n",
              " '40 cty / 37 hwy',\n",
              " '40 cty / 38 hwy',\n",
              " '40 cty / 39 hwy',\n",
              " '41 cty / 36 hwy',\n",
              " '41 cty / 38 hwy',\n",
              " '41 cty / 39 hwy',\n",
              " '41 cty / 44 hwy',\n",
              " '42 cty / 36 hwy',\n",
              " '42 cty / 38 hwy',\n",
              " '43 cty / 39 hwy',\n",
              " '43 cty / 40 hwy',\n",
              " '43 cty / 41 hwy',\n",
              " '43 cty / 44 hwy',\n",
              " '44 cty / 40 hwy',\n",
              " '44 cty / 41 hwy',\n",
              " '44 cty / 44 hwy',\n",
              " '44 cty / 47 hwy',\n",
              " '48 cty / 45 hwy',\n",
              " '49 cty / 43 hwy',\n",
              " '49 cty / 47 hwy',\n",
              " '51 cty / 46 hwy',\n",
              " '51 cty / 48 hwy',\n",
              " '51 cty / 49 hwy',\n",
              " '51 cty / 53 hwy',\n",
              " '54 cty / 50 hwy',\n",
              " '55 cty / 54 hwy',\n",
              " '58 cty / 53 hwy',\n",
              " '60 cty / 51 hwy',\n",
              " '85 cty / 82 hwy',\n",
              " '86 cty / 94 hwy',\n",
              " '94 cty / 97 hwy',\n",
              " '95 cty / 81 hwy',\n",
              " '95 cty / 90 hwy',\n",
              " 'N/A cty / N/A hwy']"
            ]
          },
          "metadata": {
            "tags": []
          },
          "execution_count": 33
        }
      ]
    },
    {
      "cell_type": "code",
      "metadata": {
        "id": "StJqHifA0BBb",
        "outputId": "64419fe2-ca42-422a-97a6-f341a5ef0780",
        "colab": {
          "base_uri": "https://localhost:8080/"
        }
      },
      "source": [
        "def MPG_categorize(MPG):\n",
        "    if MPG in ['N/A cty / N/A hwy', np.NaN]:\n",
        "        return 'Another'\n",
        "    else:\n",
        "        cty = int(re.findall('[0-9]+ c', str(MPG))[0][:-2])\n",
        "        hwy = re.findall('/ [0-9]+', str(MPG))\n",
        "        if hwy == []:\n",
        "            return 'Another'\n",
        "        elif cty >= 60:\n",
        "            return 'up from 60 cty / up from 50 hwy'\n",
        "        else:\n",
        "            hwy = int(hwy[0][2:])\n",
        "            return str(cty)[0] + \"0-\" + str(cty)[0] + \"9 cty / \" + str(hwy)[0] + \"0-\" + str(hwy)[0] + \"9 hwy\"\n",
        "\n",
        "vehicles_dataset['MPG'] = vehicles_dataset['MPG'].apply(MPG_categorize)\n",
        "vehicles_dataset['MPG'].value_counts()"
      ],
      "execution_count": 34,
      "outputs": [
        {
          "output_type": "execute_result",
          "data": {
            "text/plain": [
              "20-29 cty / 30-39 hwy              6961\n",
              "10-19 cty / 20-29 hwy              4112\n",
              "20-29 cty / 20-29 hwy              1861\n",
              "30-39 cty / 40-49 hwy               635\n",
              "Another                             527\n",
              "30-39 cty / 30-39 hwy               476\n",
              "10-19 cty / 10-19 hwy               383\n",
              "40-49 cty / 40-49 hwy               301\n",
              "10-19 cty / 30-39 hwy               104\n",
              "up from 60 cty / up from 50 hwy      94\n",
              "20-29 cty / 40-49 hwy                81\n",
              "40-49 cty / 30-39 hwy                45\n",
              "50-59 cty / 40-49 hwy                40\n",
              "50-59 cty / 50-59 hwy                 9\n",
              "30-39 cty / 20-29 hwy                 6\n",
              "Name: MPG, dtype: int64"
            ]
          },
          "metadata": {
            "tags": []
          },
          "execution_count": 34
        }
      ]
    },
    {
      "cell_type": "markdown",
      "metadata": {
        "id": "y8RpgKTN0BBj"
      },
      "source": [
        "30, 40 and 50 cty categories are being gathered so outliers disappear."
      ]
    },
    {
      "cell_type": "code",
      "metadata": {
        "id": "X0RPxHkT0BBk",
        "outputId": "22e8919b-c348-47b2-efbb-befde02c617f",
        "colab": {
          "base_uri": "https://localhost:8080/"
        }
      },
      "source": [
        "def MPG_categorize2(MPG):\n",
        "    if MPG in ['30-39 cty / 20-29 hwy', '30-39 cty / 30-39 hwy']:\n",
        "        return '30-39 cty / 20-39 hwy'\n",
        "    elif MPG in ['50-59 cty / 40-49 hwy', '50-59 cty / 50-59 hwy']:\n",
        "        return '50-59 cty / 40-59 hwy'\n",
        "    elif MPG in ['40-49 cty / 30-39 hwy', '40-49 cty / 40-49 hwy']:\n",
        "        return '40-49 cty / 30-49 hwy'\n",
        "    else:\n",
        "        return MPG\n",
        "    \n",
        "\n",
        "vehicles_dataset['MPG'] = vehicles_dataset['MPG'].apply(MPG_categorize2)\n",
        "vehicles_dataset['MPG'].value_counts()"
      ],
      "execution_count": 35,
      "outputs": [
        {
          "output_type": "execute_result",
          "data": {
            "text/plain": [
              "20-29 cty / 30-39 hwy              6961\n",
              "10-19 cty / 20-29 hwy              4112\n",
              "20-29 cty / 20-29 hwy              1861\n",
              "30-39 cty / 40-49 hwy               635\n",
              "Another                             527\n",
              "30-39 cty / 20-39 hwy               482\n",
              "10-19 cty / 10-19 hwy               383\n",
              "40-49 cty / 30-49 hwy               346\n",
              "10-19 cty / 30-39 hwy               104\n",
              "up from 60 cty / up from 50 hwy      94\n",
              "20-29 cty / 40-49 hwy                81\n",
              "50-59 cty / 40-59 hwy                49\n",
              "Name: MPG, dtype: int64"
            ]
          },
          "metadata": {
            "tags": []
          },
          "execution_count": 35
        }
      ]
    },
    {
      "cell_type": "code",
      "metadata": {
        "id": "tFs-SCL8JxjD",
        "outputId": "e4c844ef-3f6c-460e-c869-3f4143219903",
        "colab": {
          "base_uri": "https://localhost:8080/"
        }
      },
      "source": [
        "display_next_feature()"
      ],
      "execution_count": 36,
      "outputs": [
        {
          "output_type": "stream",
          "text": [
            "Transmission \n",
            " (15635, 18)\n"
          ],
          "name": "stdout"
        }
      ]
    },
    {
      "cell_type": "markdown",
      "metadata": {
        "id": "rx4zvWwU0BBp"
      },
      "source": [
        "'Transmission' feature presents only two true values, as logically thought. We will just get rid of null values then."
      ]
    },
    {
      "cell_type": "code",
      "metadata": {
        "id": "HgxO6NHL0BBp",
        "outputId": "cc5f3704-687e-45ab-82bd-1261b1b49dc2",
        "colab": {
          "base_uri": "https://localhost:8080/"
        }
      },
      "source": [
        "print(vehicles_dataset['Transmission'].isnull().sum())\n",
        "vehicles_dataset['Transmission'].value_counts()"
      ],
      "execution_count": 37,
      "outputs": [
        {
          "output_type": "stream",
          "text": [
            "13\n"
          ],
          "name": "stdout"
        },
        {
          "output_type": "execute_result",
          "data": {
            "text/plain": [
              "Automatic    15153\n",
              "Manual         469\n",
              "Name: Transmission, dtype: int64"
            ]
          },
          "metadata": {
            "tags": []
          },
          "execution_count": 37
        }
      ]
    },
    {
      "cell_type": "code",
      "metadata": {
        "id": "mgoojjXf0BBt"
      },
      "source": [
        "vehicles_dataset.dropna(subset=['Transmission'], inplace=True)"
      ],
      "execution_count": 38,
      "outputs": []
    },
    {
      "cell_type": "code",
      "metadata": {
        "id": "0UjnW2feJetP",
        "outputId": "66f1d502-b128-4f5f-8d58-4847776b9b51",
        "colab": {
          "base_uri": "https://localhost:8080/"
        }
      },
      "source": [
        "display_next_feature()"
      ],
      "execution_count": 39,
      "outputs": [
        {
          "output_type": "stream",
          "text": [
            "Location (City) \n",
            " (15622, 18)\n"
          ],
          "name": "stdout"
        }
      ]
    },
    {
      "cell_type": "markdown",
      "metadata": {
        "id": "d63X30Gf0BB4"
      },
      "source": [
        "The places where the vehicles are located are defined by city and state as two variables -'Location (City)' and Location (State)'-."
      ]
    },
    {
      "cell_type": "markdown",
      "metadata": {
        "id": "XKcNlgID0BCG"
      },
      "source": [
        "These variables describing vehicle location will be analyzed later on."
      ]
    },
    {
      "cell_type": "code",
      "metadata": {
        "id": "VSkh07ZG0BCR",
        "outputId": "86ea6a25-b760-4073-96d6-e0fc1548c133",
        "colab": {
          "base_uri": "https://localhost:8080/"
        }
      },
      "source": [
        "display_next_feature(2)"
      ],
      "execution_count": 40,
      "outputs": [
        {
          "output_type": "stream",
          "text": [
            "Condition (Accidents) \n",
            " (15622, 18)\n"
          ],
          "name": "stdout"
        }
      ]
    },
    {
      "cell_type": "markdown",
      "metadata": {
        "id": "OhFxGyImKObb"
      },
      "source": [
        "'Condition (Accidents)' is the next characteristic to check out."
      ]
    },
    {
      "cell_type": "code",
      "metadata": {
        "id": "d1zEI6qLKFgk",
        "outputId": "39f48d13-0a8a-4666-f5ab-1736c6e535f9",
        "colab": {
          "base_uri": "https://localhost:8080/"
        }
      },
      "source": [
        "print(vehicles_dataset['Condition (Accidents)'].value_counts())\n",
        "vehicles_dataset['Condition (Accidents)'].isnull().sum()"
      ],
      "execution_count": 41,
      "outputs": [
        {
          "output_type": "stream",
          "text": [
            "0 reported accidents    12916\n",
            "1 reported accidents     2186\n",
            "2 reported accidents      324\n",
            "3 reported accidents       37\n",
            "4 reported accidents       11\n",
            "Name: Condition (Accidents), dtype: int64\n"
          ],
          "name": "stdout"
        },
        {
          "output_type": "execute_result",
          "data": {
            "text/plain": [
              "148"
            ]
          },
          "metadata": {
            "tags": []
          },
          "execution_count": 41
        }
      ]
    },
    {
      "cell_type": "markdown",
      "metadata": {
        "id": "Mq7g8gxFKmoK"
      },
      "source": [
        "There are 148 null values, and they will be replaced by another category ('Unknown), along the value '4 reported accidents', as it has very few instances."
      ]
    },
    {
      "cell_type": "code",
      "metadata": {
        "id": "QV4vlWa9Klpe",
        "outputId": "ef1e0b30-ac37-4206-e863-32805b132d14",
        "colab": {
          "base_uri": "https://localhost:8080/"
        }
      },
      "source": [
        "vehicles_dataset['Condition (Accidents)'] = vehicles_dataset['Condition (Accidents)'].apply(\n",
        "    lambda cond: (cond, 'Unknown')[cond in ['4 reported accidents', np.NaN]])\n",
        "vehicles_dataset['Condition (Accidents)'].value_counts()"
      ],
      "execution_count": 42,
      "outputs": [
        {
          "output_type": "execute_result",
          "data": {
            "text/plain": [
              "0 reported accidents    12916\n",
              "1 reported accidents     2186\n",
              "2 reported accidents      324\n",
              "Unknown                   159\n",
              "3 reported accidents       37\n",
              "Name: Condition (Accidents), dtype: int64"
            ]
          },
          "metadata": {
            "tags": []
          },
          "execution_count": 42
        }
      ]
    },
    {
      "cell_type": "code",
      "metadata": {
        "id": "ltNhu0HfLtK_",
        "outputId": "52c68a7e-a986-4db4-cba0-0a1043aa81ef",
        "colab": {
          "base_uri": "https://localhost:8080/"
        }
      },
      "source": [
        "display_next_feature()"
      ],
      "execution_count": 43,
      "outputs": [
        {
          "output_type": "stream",
          "text": [
            "Year \n",
            " (15622, 18)\n"
          ],
          "name": "stdout"
        }
      ]
    },
    {
      "cell_type": "markdown",
      "metadata": {
        "id": "7mpbJlUVLwED"
      },
      "source": [
        "Intuitively, vehicles model years is represented in 'Year' column."
      ]
    },
    {
      "cell_type": "code",
      "metadata": {
        "id": "pyTc6D76MaNJ",
        "outputId": "28cba2d6-3f39-412e-f635-44a0b71eaed6",
        "colab": {
          "base_uri": "https://localhost:8080/"
        }
      },
      "source": [
        "print(vehicles_dataset['Year'].isnull().sum())\n",
        "vehicles_dataset['Year'].value_counts()"
      ],
      "execution_count": 44,
      "outputs": [
        {
          "output_type": "stream",
          "text": [
            "6\n"
          ],
          "name": "stdout"
        },
        {
          "output_type": "execute_result",
          "data": {
            "text/plain": [
              "2019.0    4211\n",
              "2017.0    3918\n",
              "2018.0    1116\n",
              "2016.0     922\n",
              "2015.0     802\n",
              "2014.0     720\n",
              "2020.0     662\n",
              "2013.0     657\n",
              "2012.0     488\n",
              "2010.0     377\n",
              "2011.0     373\n",
              "2007.0     275\n",
              "2009.0     253\n",
              "2008.0     234\n",
              "2006.0     167\n",
              "2005.0     127\n",
              "2004.0      92\n",
              "2003.0      83\n",
              "2002.0      57\n",
              "2001.0      38\n",
              "1999.0      16\n",
              "2000.0      14\n",
              "1998.0       9\n",
              "1997.0       5\n",
              "Name: Year, dtype: int64"
            ]
          },
          "metadata": {
            "tags": []
          },
          "execution_count": 44
        }
      ]
    },
    {
      "cell_type": "code",
      "metadata": {
        "id": "NrcltFuXOOQk",
        "outputId": "4bbf0a7f-5d12-4107-eb57-4c731f4d7ccf",
        "colab": {
          "base_uri": "https://localhost:8080/"
        }
      },
      "source": [
        "vehicles_dataset['Year'] = vehicles_dataset['Year'].where(\n",
        "    vehicles_dataset['Year'] > 2000, other='Other')\n",
        "vehicles_dataset['Year'].fillna('Other', inplace=True)\n",
        "vehicles_dataset['Year'] = vehicles_dataset['Year'].astype('object')\n",
        "vehicles_dataset['Year'].value_counts()"
      ],
      "execution_count": 45,
      "outputs": [
        {
          "output_type": "execute_result",
          "data": {
            "text/plain": [
              "2019.0    4211\n",
              "2017.0    3918\n",
              "2018.0    1116\n",
              "2016.0     922\n",
              "2015.0     802\n",
              "2014.0     720\n",
              "2020.0     662\n",
              "2013.0     657\n",
              "2012.0     488\n",
              "2010.0     377\n",
              "2011.0     373\n",
              "2007.0     275\n",
              "2009.0     253\n",
              "2008.0     234\n",
              "2006.0     167\n",
              "2005.0     127\n",
              "2004.0      92\n",
              "2003.0      83\n",
              "2002.0      57\n",
              "Other       50\n",
              "2001.0      38\n",
              "Name: Year, dtype: int64"
            ]
          },
          "metadata": {
            "tags": []
          },
          "execution_count": 45
        }
      ]
    },
    {
      "cell_type": "code",
      "metadata": {
        "id": "6S7hl3rWdjfw",
        "outputId": "f4efc9db-e87c-4ed4-ed82-e98e30a1cb2f",
        "colab": {
          "base_uri": "https://localhost:8080/"
        }
      },
      "source": [
        "display_next_feature()"
      ],
      "execution_count": 46,
      "outputs": [
        {
          "output_type": "stream",
          "text": [
            "Price \n",
            " (15622, 18)\n"
          ],
          "name": "stdout"
        }
      ]
    },
    {
      "cell_type": "markdown",
      "metadata": {
        "id": "2sngJgDoFAFr"
      },
      "source": [
        "Now, 'Price' feature, which is the variable to predict in the upcoming model."
      ]
    },
    {
      "cell_type": "code",
      "metadata": {
        "id": "M2VGro5GE-Vx",
        "outputId": "a45e483b-09ff-41a5-81ba-b440d37c8f78",
        "colab": {
          "base_uri": "https://localhost:8080/"
        }
      },
      "source": [
        "print(vehicles_dataset['Price'].isnull().sum())\n",
        "vehicles_dataset['Price'].value_counts()"
      ],
      "execution_count": 47,
      "outputs": [
        {
          "output_type": "stream",
          "text": [
            "263\n"
          ],
          "name": "stdout"
        },
        {
          "output_type": "execute_result",
          "data": {
            "text/plain": [
              "14,995    113\n",
              "9,995     108\n",
              "10,995    104\n",
              "13,995     96\n",
              "7,995      92\n",
              "         ... \n",
              "27,890      1\n",
              "48,991      1\n",
              "5,987       1\n",
              "19,390      1\n",
              "13,560      1\n",
              "Name: Price, Length: 3146, dtype: int64"
            ]
          },
          "metadata": {
            "tags": []
          },
          "execution_count": 47
        }
      ]
    },
    {
      "cell_type": "markdown",
      "metadata": {
        "id": "9e5unJQb49Yy"
      },
      "source": [
        "Since this variable is needed to be as reliable and accurate as possible, the null values will not be rearranged so this data does not be that altered, they will be instead dropped."
      ]
    },
    {
      "cell_type": "code",
      "metadata": {
        "id": "_Qg_kuph406v"
      },
      "source": [
        "vehicles_dataset.dropna(subset=['Price'], inplace=True)"
      ],
      "execution_count": 48,
      "outputs": []
    },
    {
      "cell_type": "code",
      "metadata": {
        "id": "h3-XIc3Ox-9k",
        "outputId": "d41c87a9-26a8-48f2-ac5d-25ee528b3645",
        "colab": {
          "base_uri": "https://localhost:8080/"
        }
      },
      "source": [
        "vehicles_dataset['Price'] = vehicles_dataset['Price'].apply(lambda p: float(str(p).replace(',', '')))\n",
        "scipy.stats.describe(vehicles_dataset['Price'])"
      ],
      "execution_count": 49,
      "outputs": [
        {
          "output_type": "execute_result",
          "data": {
            "text/plain": [
              "DescribeResult(nobs=15359, minmax=(1600.0, 369900.0), mean=17423.347548668535, variance=145533679.35100827, skewness=8.811278386572319, kurtosis=199.32899503544752)"
            ]
          },
          "metadata": {
            "tags": []
          },
          "execution_count": 49
        }
      ]
    },
    {
      "cell_type": "code",
      "metadata": {
        "id": "P-AcEVN9ktVD",
        "outputId": "ac4b5c2e-48e7-409a-b1ef-8768e49c93ac",
        "colab": {
          "base_uri": "https://localhost:8080/",
          "height": 804
        }
      },
      "source": [
        "fig, (ax_violin, ax_strip) = plt.subplots(2, sharex=True, figsize=(24, 12))\n",
        "fig.suptitle('Prices distribution', fontsize=20)\n",
        "ax_violin.set_title('Prices density', fontdict={'fontsize': 15})\n",
        "ax_strip.set_title('Prices occurrences', fontdict={'fontsize': 15})\n",
        "sns.violinplot(orient='h', data=vehicles_dataset['Price'], ax=ax_violin)\n",
        "sns.stripplot(orient='h', data=vehicles_dataset['Price'], ax=ax_strip, color='red')"
      ],
      "execution_count": 50,
      "outputs": [
        {
          "output_type": "execute_result",
          "data": {
            "text/plain": [
              "<matplotlib.axes._subplots.AxesSubplot at 0x7ff45f939048>"
            ]
          },
          "metadata": {
            "tags": []
          },
          "execution_count": 50
        },
        {
          "output_type": "display_data",
          "data": {
            "image/png": "[encoded data removed]",
            "text/plain": [
              "<Figure size 1728x864 with 2 Axes>"
            ]
          },
          "metadata": {
            "tags": [],
            "needs_background": "light"
          }
        }
      ]
    },
    {
      "cell_type": "markdown",
      "metadata": {
        "id": "7ZFKcE8F1nws"
      },
      "source": [
        "Outliers are noticeable, they have to be worked out.\n",
        "As before, we are to apply Z-Score."
      ]
    },
    {
      "cell_type": "code",
      "metadata": {
        "id": "260fxcG-kwcJ",
        "outputId": "5cf65605-2b13-442a-bdea-2b1844dea967",
        "colab": {
          "base_uri": "https://localhost:8080/"
        }
      },
      "source": [
        "# absolute value of z-score for every price in pandas series\n",
        "mileage_std = np.std(vehicles_dataset['Price'])\n",
        "print(\"Prices threshold to use is\", 3*mileage_std)\n",
        "z_score_prices = np.abs(scipy.stats.zscore(vehicles_dataset['Price']))\n",
        "z_score_prices"
      ],
      "execution_count": 51,
      "outputs": [
        {
          "output_type": "stream",
          "text": [
            "Prices threshold to use is 36190.02397024339\n"
          ],
          "name": "stdout"
        },
        {
          "output_type": "execute_result",
          "data": {
            "text/plain": [
              "array([0.78123857, 0.11873556, 0.95109201, ..., 0.61978288, 0.00220938,\n",
              "       0.17601654])"
            ]
          },
          "metadata": {
            "tags": []
          },
          "execution_count": 51
        }
      ]
    },
    {
      "cell_type": "code",
      "metadata": {
        "id": "4ZC02BeD9UUV",
        "outputId": "1ffc82a0-76d4-4ac7-e58a-81515389051a",
        "colab": {
          "base_uri": "https://localhost:8080/"
        }
      },
      "source": [
        "# Quartiles and IQR definition\n",
        "price_iqr = scipy.stats.iqr(vehicles_dataset['Price'])\n",
        "price_quartile1 = np.percentile(vehicles_dataset['Price'], 25)\n",
        "price_quartile3 = np.percentile(vehicles_dataset['Price'], 75)\n",
        "\n",
        "# z-score filtered dataframe\n",
        "original_rows_number = vehicles_dataset.shape[0]\n",
        "vehicles_dataset = vehicles_dataset[z_score_prices <= 3]\n",
        "price_outliers_number = original_rows_number - vehicles_dataset.shape[0]\n",
        "print(\"Number of rows taken away:\", price_outliers_number)\n",
        "print(\"New number of rows:\", vehicles_dataset.shape[0])"
      ],
      "execution_count": 52,
      "outputs": [
        {
          "output_type": "stream",
          "text": [
            "Number of rows taken away: 128\n",
            "New number of rows: 15231\n"
          ],
          "name": "stdout"
        }
      ]
    },
    {
      "cell_type": "code",
      "metadata": {
        "id": "I0jk7AIT_OyG",
        "outputId": "04497583-efc6-40d9-a665-e3a14ab9eaf9",
        "colab": {
          "base_uri": "https://localhost:8080/",
          "height": 459
        }
      },
      "source": [
        "fig, ax = plt.subplots(figsize=(14,6))\n",
        "sns.boxplot(vehicles_dataset['Price'], whis=1.75, ax=ax)"
      ],
      "execution_count": 53,
      "outputs": [
        {
          "output_type": "stream",
          "text": [
            "/usr/local/lib/python3.6/dist-packages/seaborn/_decorators.py:43: FutureWarning: Pass the following variable as a keyword arg: x. From version 0.12, the only valid positional argument will be `data`, and passing other arguments without an explicit keyword will result in an error or misinterpretation.\n",
            "  FutureWarning\n"
          ],
          "name": "stderr"
        },
        {
          "output_type": "execute_result",
          "data": {
            "text/plain": [
              "<matplotlib.axes._subplots.AxesSubplot at 0x7ff45f952908>"
            ]
          },
          "metadata": {
            "tags": []
          },
          "execution_count": 53
        },
        {
          "output_type": "display_data",
          "data": {
            "image/png": "[encoded data removed]",
            "text/plain": [
              "<Figure size 1008x432 with 1 Axes>"
            ]
          },
          "metadata": {
            "tags": [],
            "needs_background": "light"
          }
        }
      ]
    },
    {
      "cell_type": "markdown",
      "metadata": {
        "id": "O-Qx8CldAntg"
      },
      "source": [
        "'Prices' still presents outliers.\n",
        "The values spread will be restricted to 1.75 Interquartile Range measures, as used with 'Mileage'."
      ]
    },
    {
      "cell_type": "code",
      "metadata": {
        "id": "3qUc2d7fBQp-",
        "outputId": "52484fa3-1d95-402d-8fd3-bec7a8de548a",
        "colab": {
          "base_uri": "https://localhost:8080/"
        }
      },
      "source": [
        "# Dataframe taking away outliers according to 1.75 times the interquartile range\n",
        "filtered_df = vehicles_dataset[(vehicles_dataset['Price'] > price_quartile1 - 1.75 * price_iqr) & (\n",
        "      vehicles_dataset['Price'] < price_quartile3 + 1.75 * price_iqr)]\n",
        "outliers_number = len(vehicles_dataset['Price']) - len(filtered_df['Price'])\n",
        "print(\n",
        "    \"Number of rows to be eliminated:\", vehicles_dataset.shape[0], \"-\", \n",
        "    filtered_df.shape[0], \"=\", outliers_number)"
      ],
      "execution_count": 54,
      "outputs": [
        {
          "output_type": "stream",
          "text": [
            "Number of rows to be eliminated: 15231 - 14718 = 513\n"
          ],
          "name": "stdout"
        }
      ]
    },
    {
      "cell_type": "markdown",
      "metadata": {
        "id": "l03OS-m4DNIA"
      },
      "source": [
        "Despite that modified data was not wanted, it is required to apply some procedures in some of these fields, so we do not lose this much information.\n",
        "The whisker mark will be increased to 1.9 to check on the values."
      ]
    },
    {
      "cell_type": "code",
      "metadata": {
        "id": "FoforHf-D5DQ"
      },
      "source": [
        ""
      ],
      "execution_count": 54,
      "outputs": []
    },
    {
      "cell_type": "markdown",
      "metadata": {
        "id": "3oSsqklmdwDz"
      },
      "source": [
        "'Interior Color' variable is next to evaluate."
      ]
    },
    {
      "cell_type": "code",
      "metadata": {
        "id": "P3AnPI1ueCxt",
        "outputId": "befa6499-6c9c-41be-a1b1-d4775d15e1ce",
        "colab": {
          "base_uri": "https://localhost:8080/"
        }
      },
      "source": [
        "vehicles_dataset['Interior Color'].value_counts()"
      ],
      "execution_count": 55,
      "outputs": [
        {
          "output_type": "execute_result",
          "data": {
            "text/plain": [
              "Black             4199\n",
              "Charcoal          1681\n",
              "Unknown           1318\n",
              "Gray              1228\n",
              "Jet Black          830\n",
              "                  ... \n",
              "Lt. Gray             1\n",
              "Navy Pier            1\n",
              "Dk. Gray             1\n",
              "Limestone Gray       1\n",
              "Linen/Black          1\n",
              "Name: Interior Color, Length: 305, dtype: int64"
            ]
          },
          "metadata": {
            "tags": []
          },
          "execution_count": 55
        }
      ]
    },
    {
      "cell_type": "code",
      "metadata": {
        "id": "4U2z3k6vzzaL",
        "outputId": "f8c46269-4925-4f99-b562-b1c33920b9ab",
        "colab": {
          "base_uri": "https://localhost:8080/"
        }
      },
      "source": [
        "print(\"'Interior Color' has\", vehicles_dataset['Interior Color'].nunique(), \"unique values\")\n",
        "print(\"and 'Exterior Color' has \", vehicles_dataset['Exterior Color'].nunique(), \".\", sep=\"\")"
      ],
      "execution_count": 56,
      "outputs": [
        {
          "output_type": "stream",
          "text": [
            "'Interior Color' has 305 unique values\n",
            "and 'Exterior Color' has 538.\n"
          ],
          "name": "stdout"
        }
      ]
    },
    {
      "cell_type": "markdown",
      "metadata": {
        "id": "hMdnyHS0x6CN"
      },
      "source": [
        "Both 'Interior Color' and 'Exterior Color' has a lot of unique values, but they can be regrouped given that these values represent almost the same color for each case, by category."
      ]
    },
    {
      "cell_type": "code",
      "metadata": {
        "id": "IcfaGUlbyaWQ",
        "outputId": "316ac5ad-97d6-4406-8610-ae65c4b6eaf0",
        "colab": {
          "base_uri": "https://localhost:8080/"
        }
      },
      "source": [
        "print(\"'Interior Color' has\", vehicles_dataset['Interior Color'].isnull().sum(), \"null values\")\n",
        "print(\"and 'Exterior Color' has \", vehicles_dataset['Exterior Color'].isnull().sum(), \"!\", sep=\"\")"
      ],
      "execution_count": 57,
      "outputs": [
        {
          "output_type": "stream",
          "text": [
            "'Interior Color' has 746 null values\n",
            "and 'Exterior Color' has 4983!\n"
          ],
          "name": "stdout"
        }
      ]
    },
    {
      "cell_type": "markdown",
      "metadata": {
        "id": "kkHY3isNk35m"
      },
      "source": [
        "We will create a function which re-categorizes color values (including null values, given that there are a lot of them, 763 and 5126 respectively)."
      ]
    },
    {
      "cell_type": "code",
      "metadata": {
        "id": "ppd6TwCVlMMr"
      },
      "source": [
        "sorted_columns = np.setdiff1d(sorted_columns, np.array(['Exterior Color']), assume_unique=True)"
      ],
      "execution_count": 58,
      "outputs": []
    },
    {
      "cell_type": "markdown",
      "metadata": {
        "id": "AZm_ancwjaFI"
      },
      "source": [
        "The following function will check whether the passed color names belong to the same category."
      ]
    },
    {
      "cell_type": "code",
      "metadata": {
        "id": "dj0B6nG9jMIT"
      },
      "source": [
        "def color_in(color, *argc):\n",
        "    checks = []\n",
        "    for arg in argc:\n",
        "        if arg in str(color).lower():\n",
        "            checks.append(True)\n",
        "        else:\n",
        "            checks.append(False)\n",
        "    if any(checks):\n",
        "        return True\n",
        "    else:\n",
        "        return False"
      ],
      "execution_count": 59,
      "outputs": []
    },
    {
      "cell_type": "markdown",
      "metadata": {
        "id": "pEG8FiRFjTiP"
      },
      "source": [
        "Now, this function will tell if the conditions are met so that it categorizes the original values to this set-up. "
      ]
    },
    {
      "cell_type": "code",
      "metadata": {
        "id": "7upVfsIbjT0K"
      },
      "source": [
        "def colors_categorize(ext_color):\n",
        "    if color_in(ext_color, \"black\") or \"Obsidian\" == ext_color:\n",
        "        return \"Black\"\n",
        "    elif color_in(\n",
        "        ext_color, \"white\", \"glacier\") or ext_color in [\"Fresh Powder\", \"Blizzard Pearl\", \"Starfire Pearl\"]:\n",
        "        return \"White\"\n",
        "    elif color_in(ext_color, \"green\"):\n",
        "        return \"Green\"\n",
        "    elif color_in(ext_color, \"blue\", \"aqua\"):\n",
        "        return \"Blue\"\n",
        "    elif color_in(\n",
        "        ext_color, \"silver\", \"gray\", \"magnetic\", \"pearlcoat\", \"tungsten\", \n",
        "        \"graphite\", \"gun\", \"platinum\", \"titanium\", \"billet\"):\n",
        "        return \"Silver or Grey\"\n",
        "    elif color_in(ext_color, \"red\", \"cherry\", \"ruby\", \"sun\", \"rosso\", \"scarlet\"):\n",
        "        return \"Red\"\n",
        "    elif color_in(ext_color, \"gold\"):\n",
        "        return \"Gold\"\n",
        "    elif color_in(ext_color, \"brown\", \"beige\"):\n",
        "        return \"Beige or Brown\"\n",
        "    elif color_in(ext_color, \"yellow\"):\n",
        "        return \"Yellow\"\n",
        "    else:\n",
        "        return \"Other\""
      ],
      "execution_count": 60,
      "outputs": []
    },
    {
      "cell_type": "code",
      "metadata": {
        "id": "vsedMlLfeCuX",
        "outputId": "b7a60ff4-8065-438a-e6af-2767ac750f37",
        "colab": {
          "base_uri": "https://localhost:8080/"
        }
      },
      "source": [
        "vehicles_dataset['Interior Color'] = vehicles_dataset['Interior Color'].apply(colors_categorize)\n",
        "vehicles_dataset['Interior Color'].value_counts()"
      ],
      "execution_count": 61,
      "outputs": [
        {
          "output_type": "stream",
          "text": [
            "/usr/local/lib/python3.6/dist-packages/ipykernel_launcher.py:1: SettingWithCopyWarning: \n",
            "A value is trying to be set on a copy of a slice from a DataFrame.\n",
            "Try using .loc[row_indexer,col_indexer] = value instead\n",
            "\n",
            "See the caveats in the documentation: https://pandas.pydata.org/pandas-docs/stable/user_guide/indexing.html#returning-a-view-versus-a-copy\n",
            "  \"\"\"Entry point for launching an IPython kernel.\n"
          ],
          "name": "stderr"
        },
        {
          "output_type": "execute_result",
          "data": {
            "text/plain": [
              "Black             6380\n",
              "Other             6336\n",
              "Silver or Grey    1900\n",
              "Beige or Brown     577\n",
              "White               13\n",
              "Red                 12\n",
              "Blue                 7\n",
              "Green                5\n",
              "Gold                 1\n",
              "Name: Interior Color, dtype: int64"
            ]
          },
          "metadata": {
            "tags": []
          },
          "execution_count": 61
        }
      ]
    },
    {
      "cell_type": "code",
      "metadata": {
        "id": "RuCPHvV-qBpT",
        "outputId": "63f638c7-3daa-4ec5-bc2d-cff92ad0598e",
        "colab": {
          "base_uri": "https://localhost:8080/"
        }
      },
      "source": [
        "# keeping on filtering the values\n",
        "vehicles_dataset['Interior Color'] = vehicles_dataset['Interior Color'].apply(\n",
        "    lambda i_color: (i_color, 'Other')[i_color in ['Gold', 'Green', 'Blue']])\n",
        "vehicles_dataset['Interior Color'].value_counts()"
      ],
      "execution_count": 62,
      "outputs": [
        {
          "output_type": "stream",
          "text": [
            "/usr/local/lib/python3.6/dist-packages/ipykernel_launcher.py:3: SettingWithCopyWarning: \n",
            "A value is trying to be set on a copy of a slice from a DataFrame.\n",
            "Try using .loc[row_indexer,col_indexer] = value instead\n",
            "\n",
            "See the caveats in the documentation: https://pandas.pydata.org/pandas-docs/stable/user_guide/indexing.html#returning-a-view-versus-a-copy\n",
            "  This is separate from the ipykernel package so we can avoid doing imports until\n"
          ],
          "name": "stderr"
        },
        {
          "output_type": "execute_result",
          "data": {
            "text/plain": [
              "Black             6380\n",
              "Other             6349\n",
              "Silver or Grey    1900\n",
              "Beige or Brown     577\n",
              "White               13\n",
              "Red                 12\n",
              "Name: Interior Color, dtype: int64"
            ]
          },
          "metadata": {
            "tags": []
          },
          "execution_count": 62
        }
      ]
    },
    {
      "cell_type": "code",
      "metadata": {
        "id": "3-wzr1pMqcHH",
        "outputId": "1f227a8c-9981-41d7-a1b0-5d4014ebc4be",
        "colab": {
          "base_uri": "https://localhost:8080/",
          "height": 52
        }
      },
      "source": [
        "warnings.filterwarnings(action='ignore', category=DeprecationWarning)\n",
        "fig, (vs_intc) = plt.subplots(2, figsize=(15,10))\n",
        "sns.violinplot(x='Interior Color', y='Price', data=vehicles_dataset, split=True, ax=vs_intc)\n",
        "sns.swarmplot(x='Interior Color', y='Price', data=vehicles_dataset, split=True, ax=vs_intc)"
      ],
      "execution_count": 63,
      "outputs": [
        {
          "output_type": "execute_result",
          "data": {
            "application/vnd.google.colaboratory.intrinsic+json": {
              "type": "string"
            },
            "text/plain": [
              "\"warnings.filterwarnings(action='ignore', category=DeprecationWarning)\\nfig, (vs_intc) = plt.subplots(2, figsize=(15,10))\\nsns.violinplot(x='Interior Color', y='Price', data=vehicles_dataset, split=True, ax=vs_intc)\\nsns.swarmplot(x='Interior Color', y='Price', data=vehicles_dataset, split=True, ax=vs_intc)\""
            ]
          },
          "metadata": {
            "tags": []
          },
          "execution_count": 63
        }
      ]
    },
    {
      "cell_type": "code",
      "metadata": {
        "id": "ZIDprUdKwMjz",
        "outputId": "38466952-2db1-4008-9a04-64f1f986d303",
        "colab": {
          "base_uri": "https://localhost:8080/"
        }
      },
      "source": [
        "vehicles_dataset['Exterior Color'].value_counts()"
      ],
      "execution_count": 64,
      "outputs": [
        {
          "output_type": "execute_result",
          "data": {
            "text/plain": [
              "Black                726\n",
              "Oxford White         416\n",
              "Summit White         382\n",
              "Gray                 359\n",
              "White                331\n",
              "                    ... \n",
              "Carbon Gray Pearl      1\n",
              "Mineral Gray           1\n",
              "Rhino Clearcoat        1\n",
              "Dusk Blue              1\n",
              "Ruby Red               1\n",
              "Name: Exterior Color, Length: 538, dtype: int64"
            ]
          },
          "metadata": {
            "tags": []
          },
          "execution_count": 64
        }
      ]
    },
    {
      "cell_type": "code",
      "metadata": {
        "id": "A5wWE3HkwbXj",
        "outputId": "a692b66b-adac-492f-8e94-15fe07f84971",
        "colab": {
          "base_uri": "https://localhost:8080/"
        }
      },
      "source": [
        "vehicles_dataset['Exterior Color'] = vehicles_dataset['Exterior Color'].apply(colors_categorize)\n",
        "vehicles_dataset['Exterior Color'].value_counts()"
      ],
      "execution_count": 65,
      "outputs": [
        {
          "output_type": "stream",
          "text": [
            "/usr/local/lib/python3.6/dist-packages/ipykernel_launcher.py:1: SettingWithCopyWarning: \n",
            "A value is trying to be set on a copy of a slice from a DataFrame.\n",
            "Try using .loc[row_indexer,col_indexer] = value instead\n",
            "\n",
            "See the caveats in the documentation: https://pandas.pydata.org/pandas-docs/stable/user_guide/indexing.html#returning-a-view-versus-a-copy\n",
            "  \"\"\"Entry point for launching an IPython kernel.\n"
          ],
          "name": "stderr"
        },
        {
          "output_type": "execute_result",
          "data": {
            "text/plain": [
              "Other             5507\n",
              "White             3175\n",
              "Black             2541\n",
              "Silver or Grey    2480\n",
              "Blue               792\n",
              "Red                610\n",
              "Beige or Brown      54\n",
              "Gold                45\n",
              "Green               22\n",
              "Yellow               5\n",
              "Name: Exterior Color, dtype: int64"
            ]
          },
          "metadata": {
            "tags": []
          },
          "execution_count": 65
        }
      ]
    },
    {
      "cell_type": "code",
      "metadata": {
        "id": "LZMSmvdo0u4f",
        "outputId": "4e75b148-554d-4402-ed0f-56ba56bed4d9",
        "colab": {
          "base_uri": "https://localhost:8080/"
        }
      },
      "source": [
        "vehicles_dataset['Exterior Color'].where(\n",
        "    vehicles_dataset['Exterior Color'] != 'Yellow', other='Other', inplace=True)\n",
        "vehicles_dataset['Exterior Color'].value_counts()"
      ],
      "execution_count": 66,
      "outputs": [
        {
          "output_type": "stream",
          "text": [
            "/usr/local/lib/python3.6/dist-packages/pandas/core/generic.py:9005: SettingWithCopyWarning: \n",
            "A value is trying to be set on a copy of a slice from a DataFrame\n",
            "\n",
            "See the caveats in the documentation: https://pandas.pydata.org/pandas-docs/stable/user_guide/indexing.html#returning-a-view-versus-a-copy\n",
            "  cond, other, inplace, axis, level, errors=errors, try_cast=try_cast\n"
          ],
          "name": "stderr"
        },
        {
          "output_type": "execute_result",
          "data": {
            "text/plain": [
              "Other             5512\n",
              "White             3175\n",
              "Black             2541\n",
              "Silver or Grey    2480\n",
              "Blue               792\n",
              "Red                610\n",
              "Beige or Brown      54\n",
              "Gold                45\n",
              "Green               22\n",
              "Name: Exterior Color, dtype: int64"
            ]
          },
          "metadata": {
            "tags": []
          },
          "execution_count": 66
        }
      ]
    },
    {
      "cell_type": "code",
      "metadata": {
        "id": "c33d2kplnKCh",
        "outputId": "a7b07c2d-ae17-4266-e82c-4710844e22b7",
        "colab": {
          "base_uri": "https://localhost:8080/",
          "height": 69
        }
      },
      "source": [
        "warnings.filterwarnings(action=\"ignore\", category=DeprecationWarning)\n",
        "# fig, (sw_intc, sw_extc) = plt.subplots(1, 2, sharey=True, figsize=(10, 8))\n",
        "fig, (sw_intc, sw_extc) = plt.subplots(2, figsize=(10, 8))\n",
        "fig.suptitle('Colors occurrences regarding vehicle Price')\n",
        "sns.swarmplot(x='Interior Color', y='Price', data=vehicles_dataset, ax=sw_intc)\n",
        "sns.swarmplot(x='Exterior Color', y='Price', data=vehicles_dataset, ax=sw_extc)"
      ],
      "execution_count": 67,
      "outputs": [
        {
          "output_type": "execute_result",
          "data": {
            "application/vnd.google.colaboratory.intrinsic+json": {
              "type": "string"
            },
            "text/plain": [
              "'warnings.filterwarnings(action=\"ignore\", category=DeprecationWarning)\\n# fig, (sw_intc, sw_extc) = plt.subplots(1, 2, sharey=True, figsize=(10, 8))\\nfig, (sw_intc, sw_extc) = plt.subplots(2, figsize=(10, 8))\\nfig.suptitle(\\'Colors occurrences regarding vehicle Price\\')\\nsns.swarmplot(x=\\'Interior Color\\', y=\\'Price\\', data=vehicles_dataset, ax=sw_intc)\\nsns.swarmplot(x=\\'Exterior Color\\', y=\\'Price\\', data=vehicles_dataset, ax=sw_extc)'"
            ]
          },
          "metadata": {
            "tags": []
          },
          "execution_count": 67
        }
      ]
    },
    {
      "cell_type": "code",
      "metadata": {
        "id": "gs1uSUsmhNOj",
        "outputId": "cfb0bec4-0476-4b33-a3be-e019f94df757",
        "colab": {
          "base_uri": "https://localhost:8080/"
        }
      },
      "source": [
        "display_next_feature()"
      ],
      "execution_count": 68,
      "outputs": [
        {
          "output_type": "stream",
          "text": [
            "Interior Color \n",
            " (15231, 18)\n"
          ],
          "name": "stdout"
        }
      ]
    },
    {
      "cell_type": "markdown",
      "metadata": {
        "id": "GRRinEuvvP8q"
      },
      "source": [
        "'Style' feature is up."
      ]
    },
    {
      "cell_type": "code",
      "metadata": {
        "id": "HECKkEGFvUVO",
        "outputId": "c96806c2-5b6f-4d30-9c0e-8105e459ebb4",
        "colab": {
          "base_uri": "https://localhost:8080/"
        }
      },
      "source": [
        "print(vehicles_dataset['Style'].isnull().sum())\n",
        "vehicles_dataset['Style'].value_counts()"
      ],
      "execution_count": 69,
      "outputs": [
        {
          "output_type": "stream",
          "text": [
            "1083\n"
          ],
          "name": "stdout"
        },
        {
          "output_type": "execute_result",
          "data": {
            "text/plain": [
              "SE FWD                   422\n",
              "SXT                      376\n",
              "LE CVT                   369\n",
              "SV CVT                   350\n",
              "LX Sedan CVT             322\n",
              "                        ... \n",
              "340i xDrive Sedan          1\n",
              "Hybrid EX-L Sedan          1\n",
              "SEL Sedan Auto (PZEV)      1\n",
              "Premium 2.0 TFSI FWD       1\n",
              "GLE 550e 4MATIC SUV        1\n",
              "Name: Style, Length: 1237, dtype: int64"
            ]
          },
          "metadata": {
            "tags": []
          },
          "execution_count": 69
        }
      ]
    },
    {
      "cell_type": "code",
      "metadata": {
        "id": "KAtbsJCWBiPj",
        "outputId": "cb1231d5-55ff-4b18-fda7-ea798f60ea35",
        "colab": {
          "base_uri": "https://localhost:8080/"
        }
      },
      "source": [
        "list(vehicles_dataset['Style'].unique())"
      ],
      "execution_count": 70,
      "outputs": [
        {
          "output_type": "execute_result",
          "data": {
            "text/plain": [
              "['SE Hatchback',\n",
              " \"XL SuperCrew 6.5\\\\' Box RWD\",\n",
              " 'E 500 4MATIC Wagon',\n",
              " nan,\n",
              " 'Five',\n",
              " 'E 350 4MATIC Luxury Sedan',\n",
              " 'EX-L 4WD',\n",
              " 'S CVT',\n",
              " 'Hybrid Limited AWD',\n",
              " 'LE I4 Automatic',\n",
              " 'SE AWD',\n",
              " '3500 LT LWB',\n",
              " 'Hybrid Titanium FWD',\n",
              " 'LT with 1LT',\n",
              " 'Laredo 4WD',\n",
              " 'SXT',\n",
              " 'S 4WD',\n",
              " 'SL AWD CVT',\n",
              " 'SE FWD',\n",
              " 'LX Sedan Automatic',\n",
              " 'LS 460 RWD',\n",
              " 'SportWagen TDI DSG',\n",
              " 'SV CVT',\n",
              " 'E 300 Sedan RWD',\n",
              " '2.5i Premium CVT (PZEV)',\n",
              " 'EX-L AWD',\n",
              " 'C 300 Sedan 4MATIC',\n",
              " 'LTZ 4WD',\n",
              " 'Hatchback',\n",
              " '328i Sedan',\n",
              " 'XLT FWD',\n",
              " 'SEL FWD',\n",
              " 'SRT8',\n",
              " 'M40i',\n",
              " 'LX FWD',\n",
              " 'Sport Sedan CVT',\n",
              " 'SEL 2.4L',\n",
              " 'Denali FWD',\n",
              " 'LT 4WD',\n",
              " 'S Hardtop 2-Door',\n",
              " 'RX 350 FWD',\n",
              " '2.5 SR',\n",
              " 'SE',\n",
              " '+ Automatic',\n",
              " 'Z71 4WD',\n",
              " 'SR FWD',\n",
              " 'GLS 450 4MATIC',\n",
              " 'SV FWD',\n",
              " '3.0si AWD',\n",
              " 'SE 2.4L AWD',\n",
              " 'LX',\n",
              " 'SE Automatic',\n",
              " 'NX Turbo FWD',\n",
              " 'GT FWD',\n",
              " 'SE Plus AWD',\n",
              " 'SXT RWD',\n",
              " 'EcoBoost Fastback',\n",
              " 'Hybrid SE FWD',\n",
              " 'S\\\\xa0Automatic',\n",
              " 'ES 350',\n",
              " 'SE Sedan',\n",
              " 'SE Hatch',\n",
              " 'Limited FWD',\n",
              " 'IS 200t RWD',\n",
              " 'S FWD',\n",
              " 'LE CVT',\n",
              " '3.2L',\n",
              " 'GXE Auto',\n",
              " 'xDrive28i AWD',\n",
              " 'SL 500 Roadster',\n",
              " 'SE I4 Automatic',\n",
              " '2.5 SV',\n",
              " 'xDrive35i AWD',\n",
              " \"XLT SuperCab 5.5\\\\' Box 2WD\",\n",
              " 'Touring',\n",
              " 'GX 470',\n",
              " \"XLT SuperCrew 5.5\\\\' Box 2WD\",\n",
              " 'LTZ Crew Cab Short Box 4WD',\n",
              " 'SE Sedan CVT',\n",
              " 'Touring FWD',\n",
              " 'SEL 2.0L Automatic',\n",
              " 'Limited',\n",
              " 'FWD 4dr I4 Hybrid',\n",
              " 'T6 Drive-E AWD',\n",
              " 'LT Crew Cab Short Box 2WD',\n",
              " 'C 250 Sport Sedan RWD',\n",
              " 'EX FWD',\n",
              " 'Coupe',\n",
              " 'Sport FWD',\n",
              " 'TRD Off Road Premium 4WD',\n",
              " 'SV Sedan CVT',\n",
              " 'A 220 FWD',\n",
              " 'L CVT',\n",
              " 'R/T RWD',\n",
              " 'ML 350 RWD',\n",
              " 'SUV',\n",
              " '640i Gran Coupe RWD',\n",
              " 'LE Automatic',\n",
              " 'EX AWD Automatic',\n",
              " 'RX 350 AWD',\n",
              " 'SX V6 FWD',\n",
              " '2.5i Touring CVT (PZEV)',\n",
              " 'Sport 4WD',\n",
              " 'S AWD',\n",
              " 'Max XLT 4WD',\n",
              " 'Overland RWD',\n",
              " 'SE 2.0L Automatic',\n",
              " 'Pop Hatch',\n",
              " 'SR5 4WD',\n",
              " '330i Sedan RWD',\n",
              " '325i Sedan',\n",
              " '2.0 S CVT',\n",
              " 'XL SLT 4WD',\n",
              " 'XJR Long Wheelbase RWD',\n",
              " 'ES Manual',\n",
              " '2.0i Premium CVT',\n",
              " '320i xDrive Sedan',\n",
              " 'V6 Auto AWD',\n",
              " 'SL FWD',\n",
              " 'SEL AWD',\n",
              " '1.4T SE Auto',\n",
              " 'Touring Plus',\n",
              " 'CVT',\n",
              " 'FWD',\n",
              " 'Max XLT RWD',\n",
              " 'Base Automatic',\n",
              " \"XLT SuperCrew 5.5\\\\' Box 4WD\",\n",
              " 'Touring RWD',\n",
              " 'SLK 350 Roadster',\n",
              " 'Luxury I',\n",
              " 'SL RWD',\n",
              " 'Latitude FWD',\n",
              " 'WT Regular Cab Long Box 2WD',\n",
              " 'GX 460',\n",
              " 'Hybrid XLE',\n",
              " 'L I4 Automatic',\n",
              " 'XLE AWD',\n",
              " 'SE 4WD',\n",
              " 'Limited 4WD',\n",
              " 'XLT 4WD',\n",
              " 'LX I4 AWD',\n",
              " '1.8T SE Auto',\n",
              " \"XL SuperCrew 5.5\\\\' Box 4WD\",\n",
              " '128i Coupe',\n",
              " 'C 300 Sedan RWD',\n",
              " 'AWD',\n",
              " 'LT with 1LT AWD',\n",
              " 'GT Hatchback Manual',\n",
              " 'SL 550 V8 Roadster',\n",
              " 'LT with 2LT AWD',\n",
              " '3.5 SR',\n",
              " \"XL SuperCrew 6.5\\\\' Box 4WD\",\n",
              " 'GLS 2.4L Automatic',\n",
              " 'ESV Platinum 4WD',\n",
              " \"SLT Regular Cab 8\\\\' Box 4WD\",\n",
              " 'LT with 1SD Sedan Automatic',\n",
              " 'Lariat Crew Cab 156\" 4WD',\n",
              " 'SLT Crew Cab Short Box 4WD',\n",
              " 'Touring L Plus',\n",
              " 'SXT Plus Automatic',\n",
              " 'EX Sedan CVT',\n",
              " 'Preferred FWD',\n",
              " 'SE CVT',\n",
              " '2.5 SR FWD',\n",
              " 'EX-L Sedan I4 CVT',\n",
              " 'Two',\n",
              " 'SLE-2 AWD',\n",
              " 'EcoBoost Premium Convertible',\n",
              " 'Titanium Hatch',\n",
              " 'EX CVT',\n",
              " '330i RWD',\n",
              " 'Premium Luxury',\n",
              " '2.0i Sport 5-door CVT',\n",
              " 'Unlimited Rubicon Recon',\n",
              " 'XLE 7-Passenger AWD',\n",
              " 'Ti Sport AWD',\n",
              " 'R-Sport 35t AWD',\n",
              " '2.5i Limited',\n",
              " 'GX 460 Premium',\n",
              " 'Ti Sport',\n",
              " 'SH-AWD',\n",
              " '2.5 S Sedan',\n",
              " 'Note SV CVT',\n",
              " 'Hybrid Limited Platinum AWD',\n",
              " 'LE AWD',\n",
              " 'Three',\n",
              " 'V6 Lux',\n",
              " 'Limited V8 4WD',\n",
              " 'Limited RWD',\n",
              " 'EX-L FWD',\n",
              " 'Base',\n",
              " 'GLS 2.4L Automatic (PZEV)',\n",
              " '2017.5 SL AWD',\n",
              " 'Touring AWD',\n",
              " '2.0T Wolfsburg Edition',\n",
              " 'GT Hatchback Automatic',\n",
              " 'LT with 1LT FWD',\n",
              " '1.4T SE Manual',\n",
              " 'SL 4WD',\n",
              " '2014 L I4 Automatic',\n",
              " 'Summit RWD',\n",
              " '2.5 S',\n",
              " 'Sport AWD',\n",
              " 'Premium Plus',\n",
              " 'PRO-4X Crew Cab 4WD Auto',\n",
              " 'SV AWD CVT',\n",
              " '330i xDrive',\n",
              " 'Pro-4X 4WD Auto',\n",
              " \"XLT SuperCrew 6.5\\\\' Box 4WD\",\n",
              " 'Unlimited Sport 4WD',\n",
              " 'Autobahn 4-door DSG',\n",
              " '2.5i Premium',\n",
              " 'LS FWD',\n",
              " 'SLE with SLE-2 AWD',\n",
              " 'Unlimited Sahara (JK)',\n",
              " 'Sport 1.5T CVT',\n",
              " 'EX-L Sedan CVT',\n",
              " 'LX Sedan I4 Automatic',\n",
              " 'LX Sedan CVT',\n",
              " 'Touring-L',\n",
              " 'Crossroad FWD',\n",
              " 'S RWD',\n",
              " '2.5 S Coupe CVT',\n",
              " 'TDI Executive',\n",
              " 'EcoBoost Convertible',\n",
              " 'XLE I4 Automatic',\n",
              " 'SR CVT',\n",
              " 'Touring Sedan CVT',\n",
              " '2017.5 SV FWD',\n",
              " '1.6 SV CVT',\n",
              " 'Titanium 4WD',\n",
              " '335d Sedan',\n",
              " 'SE RWD',\n",
              " 'XLE FWD',\n",
              " 'sDrive28i RWD',\n",
              " 'GT Premium Fastback',\n",
              " '3.0R VDC Limited SUV',\n",
              " 'ST Quad Cab Long Bed 2WD',\n",
              " 'EX-L',\n",
              " '3.0i AWD',\n",
              " '2014 Hybrid LE',\n",
              " 'Premium Plus 2.0T quattro',\n",
              " \"XL 4WD Crew Cab 6.75\\\\' Box\",\n",
              " 'Denali AWD',\n",
              " 'Limited V6 FWD',\n",
              " 'Touring Automatic',\n",
              " 'Grand Touring Hard Top Auto',\n",
              " '4500 170\"',\n",
              " 'Sedan Automatic',\n",
              " 'E 550 4MATIC Luxury Sedan',\n",
              " 'RX 400h Hybrid AWD',\n",
              " '4dr Sedan LSE',\n",
              " 'GLS Automatic (alt)',\n",
              " 'RX 300 FWD',\n",
              " 'SL AWD',\n",
              " '2.5i SUV Auto',\n",
              " 'SE with Beige Interior AWD',\n",
              " 'Convertible',\n",
              " 'Premium',\n",
              " 'Base FWD',\n",
              " 'GLK 250 BlueTEC 4MATIC',\n",
              " 'SUT',\n",
              " 'Premium Sedan 2.0 TFSI FWD',\n",
              " 'SLE-2 FWD',\n",
              " 'LT RWD',\n",
              " 'XLT Crew Cab 156\" 4WD',\n",
              " 'Luxury 3.6 AWD',\n",
              " 'CXL',\n",
              " 'Titanium AWD',\n",
              " '740i RWD',\n",
              " 'SLT Quad Cab Regular Bed 4WD',\n",
              " 'Unlimited Sport',\n",
              " 'TDI SEL Premium Sedan DSG',\n",
              " 'NX 200t FWD',\n",
              " 'GT AWD',\n",
              " '2017.5 SV AWD',\n",
              " 'LT Crew Cab Short Box 4WD',\n",
              " 'Titanium FWD',\n",
              " 'LT',\n",
              " 'Energi Titanium FWD',\n",
              " 'L Automatic',\n",
              " 'S Plus CVT',\n",
              " 'LS with 2LS Coupe Automatic',\n",
              " 'Titanium Hatchback',\n",
              " '4dr Sedan XR',\n",
              " 'SE 2.4L',\n",
              " 'GL 550 4MATIC',\n",
              " 'GLA 250 4MATIC',\n",
              " 'I4 FWD',\n",
              " '328i Coupe',\n",
              " 'LT with 2LT FWD',\n",
              " 'SX Turbo FWD',\n",
              " 'SLE Crew Cab Short Box 4WD',\n",
              " 'Sedan',\n",
              " 'XL Crew Cab 172\" 4WD',\n",
              " 'xDrive30i AWD',\n",
              " 'SV AWD',\n",
              " \"Lariat Crew Cab 8\\\\' Bed 4WD\",\n",
              " 'LX Sedan I4 CVT',\n",
              " '3.8 RWD',\n",
              " 'HSE',\n",
              " 'Premium FWD',\n",
              " 'Turbo Hatch',\n",
              " 'Two Eco',\n",
              " 'SX 5-Door Automatic',\n",
              " 'V6 FWD',\n",
              " 'FWD Automatic',\n",
              " 'GLK 350 RWD',\n",
              " 'Base 4WD',\n",
              " 'SV 4WD',\n",
              " 'LE FWD',\n",
              " 'Premium Sedan 2.0 FWD',\n",
              " 'E 350 Sport Sedan RWD',\n",
              " 'XLE V6 AWD',\n",
              " 'SXL Turbo',\n",
              " 'Prestige',\n",
              " 'Tiptronic AWD',\n",
              " 'E-450 176\" DRW',\n",
              " '3500 LT with 1LT LWB',\n",
              " '2500 SWB',\n",
              " 'LT FWD',\n",
              " 'S Manual',\n",
              " 'Hardtop 2-Door',\n",
              " 'RX 330 AWD',\n",
              " \"XLT SuperCrew 6.5\\\\' Box 2WD\",\n",
              " 'SE 2.4L Automatic',\n",
              " 'Limited AWD',\n",
              " 'SLT with SLT-1 FWD',\n",
              " 'TDI SE Sedan Manual',\n",
              " 'FWD with Technology Package',\n",
              " '3500 LT with 1LT LWB RWD',\n",
              " 'SLT AWD',\n",
              " 'EX',\n",
              " 'SV Crew Cab 2WD Automatic',\n",
              " 'EX-L V6 Coupe Automatic',\n",
              " 'LS',\n",
              " 'Base Manual',\n",
              " 'GX 460 Luxury',\n",
              " 'Grand Touring Automatic',\n",
              " '1.8T SEL Auto',\n",
              " '750i xDrive',\n",
              " 'SLT with SLT-1 AWD',\n",
              " 'Max Limited RWD',\n",
              " 'LX-P Coupe CVT',\n",
              " 'SX V6 FWD Automatic',\n",
              " 'Plug-in Hybrid Advanced',\n",
              " '3500 LS with 1LS LWB',\n",
              " \"ST Crew Cab 8\\\\' Box 4WD\",\n",
              " 'LS 1500 4WD',\n",
              " 'XL SuperCab 158\" RWD',\n",
              " 'Reg Cab 141\" WB XL',\n",
              " '2.0i Premium 4-door CVT',\n",
              " '2.0i Limited CVT',\n",
              " 'S Sedan Manual',\n",
              " '3.5 SL',\n",
              " '3.5 Platinum',\n",
              " 'EX-L with Navigation FWD',\n",
              " 'Base 2.4L',\n",
              " 'XLT RWD',\n",
              " 'CLA 250 FWD',\n",
              " 'XL Crew Cab 179\" 60\" CA 4WD',\n",
              " '750Li',\n",
              " '3.5 SV with Premium Package',\n",
              " 'LX I4 FWD',\n",
              " 'SEL Sedan',\n",
              " 'Limited Sedan',\n",
              " '2.5i Limited Auto (PZEV)',\n",
              " 'LTZ',\n",
              " 'LS with 1SB Sedan Automatic',\n",
              " 'EX FWD Automatic',\n",
              " 'Sport 4-Door Automatic',\n",
              " 'Trailhawk 4WD',\n",
              " 'CT 200h',\n",
              " 'Base Coupe',\n",
              " 'EX AWD CVT',\n",
              " '2.5',\n",
              " 'S FWD Auto',\n",
              " 'G 55 AMG 4MATIC',\n",
              " '1.4T S Manual',\n",
              " 'Luxury FWD',\n",
              " 'Eddie Bauer 4WD',\n",
              " 'GLS Sedan Automatic',\n",
              " 'American Value Package FWD',\n",
              " 'Limited Convertible FWD',\n",
              " 'SL 550 Roadster',\n",
              " 'Wagon',\n",
              " 'Unlimited X 4WD',\n",
              " '2.5i Sedan Auto',\n",
              " '300S V6 RWD',\n",
              " 'Unlimited Rubicon 4WD',\n",
              " '60 RWD',\n",
              " \"XLT SuperCrew 5\\\\' Box 4WD\",\n",
              " 'Note 1.6 SV CVT',\n",
              " 'King Ranch 4WD',\n",
              " 'Reserve AWD',\n",
              " '60 Ah with Range Extender',\n",
              " 'Hybrid LX',\n",
              " 'Unlimited Sahara',\n",
              " \"XLT SuperCrew 5.5\\\\' Box RWD\",\n",
              " 'GLE 350 4MATIC SUV',\n",
              " '4dr Sedan CVT LE Popular FWD',\n",
              " 'Sedan 3.6L',\n",
              " 'R/T Scat Pack',\n",
              " 'SV 3.5L',\n",
              " '2.5i Limited CVT',\n",
              " 'Grand Touring',\n",
              " '2.5L Turbo FWD',\n",
              " 'Grand Touring AWD Automatic',\n",
              " 'LS AWD',\n",
              " '4WD',\n",
              " '4dr Sedan Premier 2.3',\n",
              " 'Touring Coupe Auto',\n",
              " 'SE Sedan Automatic',\n",
              " 'Limited 7-Passenger',\n",
              " 'WRX STI Limited Sedan Turbo',\n",
              " '2.5i Limited Auto',\n",
              " 'LX AWD',\n",
              " '2018.5 SL AWD',\n",
              " 'LS with 1LS FWD',\n",
              " 'SEL Sedan Auto (PZEV)',\n",
              " 'EX-L 1.5T CVT',\n",
              " 'CXL FWD',\n",
              " 'SXT FWD',\n",
              " 'S Automatic',\n",
              " 'i Sport 4-Door Manual',\n",
              " '3.0t Premium AWD',\n",
              " 'Minivan',\n",
              " 'LX-S Coupe Manual',\n",
              " 'C 300 4MATIC Sedan',\n",
              " 'SR5 V6 RWD',\n",
              " '2.5 SL',\n",
              " 'GLC 300 SUV RWD',\n",
              " 'S with Sunroof Sedan Manual',\n",
              " 'LX Automatic',\n",
              " 'Limited 2.0L Sedan Auto',\n",
              " 'EX Coupe CVT',\n",
              " 'SE Plus FWD',\n",
              " 'Long Range Dual Motor',\n",
              " 'Hybrid LE',\n",
              " 'Grand Touring AWD',\n",
              " 'T5 Inscription FWD',\n",
              " 'Automatic',\n",
              " 'XSE Automatic',\n",
              " 'Crossroad AWD',\n",
              " 'LE Crew Cab 2WD (FFV)',\n",
              " 'X',\n",
              " 'RX 450h Hybrid AWD',\n",
              " 'LT with 1LT Automatic',\n",
              " '3500 Van 139\"',\n",
              " 'EX 4WD',\n",
              " 'Hybrid SEL FWD',\n",
              " '2.5i Manual (PZEV)',\n",
              " 'Base 2.4L (PZEV)',\n",
              " 'Grand Touring FWD',\n",
              " 'EX-L Coupe CVT',\n",
              " 'T6 AWD',\n",
              " 'GLE 350 SUV RWD',\n",
              " 'LX I4 Automatic',\n",
              " 'E 300 Luxury 4MATIC Sedan',\n",
              " 'LT with 1LT Coupe',\n",
              " 'XLE 8-Passenger FWD',\n",
              " 'Signature AWD',\n",
              " '2.0i Premium 5-door CVT',\n",
              " 'EcoBoost Premium Fastback',\n",
              " 'ES 300',\n",
              " 'SV',\n",
              " 'LS with 1LS',\n",
              " '3.6R Limited Auto',\n",
              " 'SE Sedan Auto (PZEV)',\n",
              " 'Limited V6 4WD',\n",
              " 'Touring 7-Passenger FWD',\n",
              " 'Platinum RWD',\n",
              " 'XLE FWD 8-Passenger',\n",
              " \"XL SuperCrew 5.5\\\\' Box 2WD\",\n",
              " 'Touring L',\n",
              " 'Latitude 4WD',\n",
              " 'LX 2.4L Automatic',\n",
              " 'RWD',\n",
              " 'SLE Crew Cab SB 4WD',\n",
              " 'Premium Plus FWD Automatic',\n",
              " 'SX-L',\n",
              " 'Reserve FWD',\n",
              " 'GLX Wagon V6 FWD Manual',\n",
              " 'IPL Coupe RWD Automatic',\n",
              " 'E-350 138\" SRW',\n",
              " '328i xDrive Sports Wagon',\n",
              " 'Hybrid Touring Sedan',\n",
              " 'E 350 Cabriolet RWD',\n",
              " 'Premier with 2LZ FWD',\n",
              " 'Touring Wagon',\n",
              " 'SEL 2.0L IVT',\n",
              " 'S 550 Sedan RWD',\n",
              " 'GLC 300 4MATIC SUV',\n",
              " 'W12 Sedan',\n",
              " 'S Coupe',\n",
              " 'XL SLT 2WD',\n",
              " 'S',\n",
              " 'LT 1500 4WD',\n",
              " 'Limited 2.0L Sedan Automatic',\n",
              " 'XLE V6 FWD',\n",
              " 'SE FWD Automatic',\n",
              " '3.6R Limited Automatic',\n",
              " '4-door DSG (PZEV)',\n",
              " 'LS Sedan',\n",
              " 'TDI SE with Sunroof DSG',\n",
              " '3.8L AWD',\n",
              " 'Premium Luxury 3.0T AWD',\n",
              " 'C RWD',\n",
              " 'LS with 1LS Coupe',\n",
              " 'GLA 250 FWD',\n",
              " 'Altitude 4WD',\n",
              " 'LX-P Sedan I4 Automatic',\n",
              " 'RX 330 FWD',\n",
              " '138\" SRW',\n",
              " 'LS RWD',\n",
              " 'SE\\\\xa0Automatic',\n",
              " 'Premier FWD',\n",
              " 'GLS I4 Automatic',\n",
              " 'Touring Coupe CVT',\n",
              " '1.4T S Auto',\n",
              " 'Signature Limited',\n",
              " 'XL 1500 SLT 4WD',\n",
              " '2.5i Auto',\n",
              " 'Hybrid FWD',\n",
              " 'LT with 1SD Sedan',\n",
              " 'Touring 4-Door Automatic',\n",
              " 'i Touring 4-Door Manual',\n",
              " 'LXS IVT',\n",
              " 'Base 2.4L FWD',\n",
              " 'EX Coupe Automatic',\n",
              " 'Premium Plus 45 TFSI quattro',\n",
              " 'SLT-2 AWD',\n",
              " 'Hybrid Premium AWD',\n",
              " 'Luxury Sedan 2.0T AWD',\n",
              " 'LX IVT',\n",
              " 'XLE',\n",
              " 'ML 350 4MATIC',\n",
              " '2.4L Automatic FWD',\n",
              " 'Premier AWD',\n",
              " 'Premium AWD',\n",
              " 'Sport Sedan I4 CVT',\n",
              " 'Leather FWD',\n",
              " \"XL SuperCab 8.0\\\\' Box RWD\",\n",
              " '4WD 4dr SuperCab 126\" XLT',\n",
              " 'S Krom Edition AWD',\n",
              " '2.5X Premium Auto',\n",
              " 'LT Leather AWD',\n",
              " '3.3T Premium AWD',\n",
              " '2.5i CVT',\n",
              " 'Summit 4WD',\n",
              " 'LX 4WD',\n",
              " 'S Sedan',\n",
              " 'XLT SuperCab 158\" RWD',\n",
              " 'CLA 250 4MATIC',\n",
              " 'Reserve 3.5L AWD',\n",
              " '4dr Sedan w/1SA (alt)',\n",
              " 'GLX Sedan V6 FWD Manual',\n",
              " '330i xDrive Sedan',\n",
              " 'R/T Max RWD',\n",
              " '3500 159\" WB',\n",
              " 'XLT V6 RWD',\n",
              " 'LX Coupe Automatic',\n",
              " 'E 350 Luxury Sedan RWD',\n",
              " 'LX 3.0L 4WD Automatic',\n",
              " 'Sport FWD Automatic',\n",
              " 'Essence FWD',\n",
              " 'LX 1.5T CVT',\n",
              " '530i Sedan RWD',\n",
              " '2.0i Limited 5-door CVT',\n",
              " 'EX-T Sedan CVT',\n",
              " 'Select FWD',\n",
              " '2.5 S Sedan CVT',\n",
              " 'Latitude Plus FWD',\n",
              " 'Sport Touring Hatchback CVT',\n",
              " 'Luxury Collection FWD',\n",
              " '75D AWD',\n",
              " 'SXT AWD',\n",
              " 'GLA 45 AMG 4MATIC',\n",
              " 'EX AWD',\n",
              " 'SLE Crew Cab Short Box 2WD',\n",
              " '2.5 SV Sedan',\n",
              " '328i xDrive Coupe AWD',\n",
              " '2017.5 2.5 SV',\n",
              " 'Unlimited Sport S',\n",
              " 'Platinum 4WD',\n",
              " 'Limited I4 4WD',\n",
              " '528i Sedan',\n",
              " 'E 300 Sport 4MATIC Sedan',\n",
              " 'Sport 2.4L',\n",
              " 'SL Crew Cab 4WD Automatic',\n",
              " '3.5 AWD',\n",
              " '3.5 FWD',\n",
              " 'C 43 AMG 4MATIC Sedan',\n",
              " 'Diesel HSE',\n",
              " 'SLT RWD',\n",
              " '3.7 RWD',\n",
              " '3.0t SPORT RWD',\n",
              " 'Premium AWD (alt)',\n",
              " '4WD 4dr Auto Limited',\n",
              " 'Premium Plus Coupe Automatic',\n",
              " '335i Sedan',\n",
              " 'Roadster 3.0i',\n",
              " 'Premium 35t',\n",
              " '2.5i Premium (PZEV)',\n",
              " 'Hybrid Base 2.4L Automatic',\n",
              " 'GLS',\n",
              " '2017.5 S AWD',\n",
              " 'i Sport 4-Door Automatic',\n",
              " '3.0t LUXE RWD',\n",
              " '3.5L AWD Standard',\n",
              " 'GT',\n",
              " '3.8',\n",
              " 'LT with 2LT',\n",
              " 'S 63 AMG Sedan RWD',\n",
              " '3.0t LUXE AWD',\n",
              " 'LE 4WD',\n",
              " 'GLS FWD Manual',\n",
              " '535i xDrive Sedan AWD',\n",
              " 'XLE 7-Passenger FWD',\n",
              " 'Laredo RWD',\n",
              " 'S 500 Sedan RWD',\n",
              " 'Premier with 1LZ FWD',\n",
              " 'Limited Automatic (alt)',\n",
              " 'LT Hatch AT',\n",
              " 'Sedan 2.0L Automatic',\n",
              " 'LX Hatchback CVT',\n",
              " 'GXE Automatic',\n",
              " 'SE Sedan I4 Automatic',\n",
              " '1500 Low Roof 118\" WB',\n",
              " '2017.5 S Crew Cab 4WD Auto',\n",
              " 'Sport Quad Cab 6\\\\\\'4\" Box 4WD',\n",
              " 'SLT FWD',\n",
              " 'Note 1.6 S Manual',\n",
              " '740i xDrive',\n",
              " 'T6 Momentum AWD',\n",
              " '440i xDrive Coupe',\n",
              " '535i xDrive Gran Turismo',\n",
              " 'Rebel Quad Cab 6\\\\\\'4\" Box 4WD',\n",
              " 'GLC 350e 4MATIC',\n",
              " 'ALL4',\n",
              " 'T6 Momentum 7 Passenger AWD',\n",
              " 'E 320 CDI Sedan RWD',\n",
              " 'GT Fastback',\n",
              " 'Essence AWD',\n",
              " 'S King Cab I4 2WD Auto',\n",
              " 'Limited 75th Anniversary 4WD',\n",
              " 'SLT Crew Cab 6\\\\\\'4\" Box 4WD',\n",
              " '5.0 RWD',\n",
              " '540i RWD',\n",
              " 'ESV Luxury 4WD',\n",
              " 'GLS 2.4L (alt)',\n",
              " 'XLT V6 4WD',\n",
              " '2017.5 S FWD',\n",
              " '1.6 S Plus CVT',\n",
              " 'SE Hatchback Automatic',\n",
              " 'SE w/Leather FWD',\n",
              " 'SEL 4WD',\n",
              " 'RX 350 F Sport FWD',\n",
              " '75th Anniversary Edition 4WD',\n",
              " 'with Technology Package',\n",
              " 'Premier with 2LZ AWD',\n",
              " '2.0i 4-door Manual',\n",
              " '2.5 Coupe Auto (PZEV)',\n",
              " '2.5i Premium CVT',\n",
              " 'Crossroad Plus AWD',\n",
              " 'L 7-Passenger FWD',\n",
              " '2014 XLE I4 Automatic',\n",
              " 'GL 450 4MATIC',\n",
              " 'XL 1500 Denali AWD',\n",
              " 'R/T AWD',\n",
              " 'GT Plus AWD',\n",
              " '2.0i Sport 4-door Manual',\n",
              " '2.0i Sport Limited Wagon CVT',\n",
              " 'Touring 5-Door Automatic',\n",
              " 'V6 SE FWD',\n",
              " 'sDrive30i RWD',\n",
              " '2018.5 SV AWD',\n",
              " 'Hybrid Platinum',\n",
              " '2017.5 Platinum AWD',\n",
              " 'Prestige 3.0T quattro',\n",
              " '3.0L AWD',\n",
              " 'SR5 V6 4WD',\n",
              " '2.0 Manual',\n",
              " 'SE Coupe',\n",
              " 'Manual',\n",
              " 'CL 550',\n",
              " 'SLE FWD',\n",
              " 'Premium Turbo Group',\n",
              " 'Plus',\n",
              " 'TDI 4-door DSG',\n",
              " '528i xDrive Sedan AWD',\n",
              " '4dr Sedan V6 SE FWD',\n",
              " 'i Sport Automatic',\n",
              " '3.2L FWD',\n",
              " '2.5i Wagon Auto',\n",
              " '3.5L FWD',\n",
              " 'Platinum AWD',\n",
              " 'Hatch',\n",
              " 'LE Plus V6 AWD',\n",
              " 'Sport',\n",
              " 'SEL 2.0L Sedan Automatic',\n",
              " '2.5 Sedan',\n",
              " 'Premiere FWD',\n",
              " 'SE V6 Supercharged',\n",
              " 'LX V6 AWD Automatic',\n",
              " 'i Touring 4-Door Automatic',\n",
              " 'Laredo E 4WD',\n",
              " 'Hybrid Limited 2.4L',\n",
              " 'XLT Supercab 142\" 4WD',\n",
              " 'Base 2.4L AWD',\n",
              " 'SE Coupe I4 Automatic',\n",
              " 'EX-L Sedan I4 Automatic',\n",
              " 'SR Turbo CVT',\n",
              " '500e Hatch',\n",
              " 'E-250 Commercial Extended',\n",
              " 'SLT Crew Cab Short Bed 2WD',\n",
              " 'P85D AWD',\n",
              " 'E 350 Sedan RWD',\n",
              " 'XSE CVT',\n",
              " '2.0 SR CVT',\n",
              " 'Rallye Redline Automatic',\n",
              " \"XLT SuperCab 8.0\\\\' Box RWD\",\n",
              " 'Sport V6 4WD',\n",
              " 'S 4MOTION',\n",
              " 'LS Sedan Automatic',\n",
              " 'LX I4 FWD Automatic',\n",
              " 'Pop FWD',\n",
              " '2.0T I4 Manual',\n",
              " 'V6 Coupe',\n",
              " 'SLT Quad Cab 6\\\\\\'4\" Box 4WD',\n",
              " 'Value AWD',\n",
              " 'Access Cab I4 RWD Automatic',\n",
              " 'SEL V6 FWD',\n",
              " 'Deluxe',\n",
              " 'I4 4WD',\n",
              " 'Sport Package V8 Automatic',\n",
              " '328i Sedan RWD (SULEV)',\n",
              " 'Prestige Sedan',\n",
              " 'SE 2.0L Sedan Automatic',\n",
              " 'SLT 4WD',\n",
              " 'LE V6 Automatic',\n",
              " '325xi Sedan AWD',\n",
              " 'GLS 450 4MATIC SUV',\n",
              " 'Si Sedan Manual',\n",
              " 'with Sport Package',\n",
              " 'Hybrid SL AWD',\n",
              " '4dr Sedan SE',\n",
              " 'Lounge Hatchback',\n",
              " 'Denali Crew Cab SB AWD',\n",
              " 'Note 1.6 SR CVT',\n",
              " '2.0i 4-door CVT',\n",
              " 'ZR2 Crew Cab Short Box 4WD',\n",
              " 'V6 Supercharged AWD',\n",
              " 'SEL PLUS FWD',\n",
              " 'EX Sedan Automatic',\n",
              " 'Sport 1.6T Sedan Manual',\n",
              " 'I4 Manual',\n",
              " 'SC 430 Convertible',\n",
              " 'CE Automatic',\n",
              " 'Titanium Sedan',\n",
              " 'Si Coupe Manual',\n",
              " 'FX35 AWD',\n",
              " '4dr Sedan Premier 3.0',\n",
              " \"XLT Crew Cab 8\\\\' Bed 4WD SRW\",\n",
              " 'LUXE AWD',\n",
              " 'HS 250h',\n",
              " 'GLE 400 4MATIC SUV',\n",
              " 'TDI Sedan DSG',\n",
              " \"XL Regular Cab 6.5\\\\' Box RWD\",\n",
              " '535i Sedan',\n",
              " 'Touring Sedan Automatic',\n",
              " 'SE 2.0 FWD CVT',\n",
              " '3.5 LT',\n",
              " 'LT with 2FL FWD',\n",
              " 'SEL Premium',\n",
              " 'Limited LT with 1LT Sedan AT',\n",
              " 'SL 500',\n",
              " \"XLT SuperCab 6.5\\\\' Box RWD\",\n",
              " '2.5L Turbo',\n",
              " 'Custom',\n",
              " 'GLS 2.4L (PZEV)',\n",
              " 'Hybrid',\n",
              " 'FWD 4dr I4 XE',\n",
              " 'Platinum FWD',\n",
              " 'with Livery Package',\n",
              " 'Overland 4WD',\n",
              " 'LE 8-Passenger FWD',\n",
              " 'XLE Premium 8-Passenger FWD',\n",
              " 'LTZ FWD',\n",
              " 'SES Sedan',\n",
              " 'SE V6 AWD',\n",
              " '530i xDrive Sedan',\n",
              " 'C 350 Sport Sedan RWD',\n",
              " 'LT AWD',\n",
              " 'EX Sedan I4 CVT',\n",
              " 'IS 350 RWD Automatic',\n",
              " '1.4T S Automatic',\n",
              " 'C AWD',\n",
              " 'LTZ with 1LZ',\n",
              " 'Touring Elite',\n",
              " 'LTZ with 2LZ',\n",
              " '2.5i Premium Auto',\n",
              " '2.5X Auto',\n",
              " 'LX V6 FWD',\n",
              " 'CXL V6',\n",
              " 'SE AWD Automatic',\n",
              " 'ECO with 1XF',\n",
              " 'S King Cab 2WD Auto',\n",
              " 'Limited Wagon',\n",
              " 'Hybrid EX-L Sedan',\n",
              " 'LT 2LT Sedan AT',\n",
              " 'Limited Ultimate 3.3L FWD',\n",
              " 'CXL-2 AWD',\n",
              " 'SR Sedan CVT',\n",
              " 'E-350 Super Duty XLT',\n",
              " 'Hybrid SE',\n",
              " '2.0i Premium Automatic',\n",
              " 'Premium Plus Coupe',\n",
              " 'Premium 2.0 TFSI FWD',\n",
              " 'ES 330',\n",
              " 'SL CVT',\n",
              " \"XLT 4WD Crew Cab 6.75\\\\' Box\",\n",
              " 'LS Automatic',\n",
              " 'S IVT',\n",
              " '4dr Sedan',\n",
              " '328i xDrive Sedan',\n",
              " 'GLS Turbo Convertible Auto',\n",
              " 'LX Sedan I4 Manual',\n",
              " '7-Passenger I4 FWD',\n",
              " 'Eddie Bauer V6 4WD',\n",
              " 'RS with 2LT AWD',\n",
              " 'Willys Wheeler',\n",
              " 'ES Hatchback CVT',\n",
              " 'Sport S',\n",
              " 'Luxury Coupe 2.0T RWD',\n",
              " 'Cargo LWB',\n",
              " 'Limited LS with 1LS',\n",
              " \"XL Regular Cab 8.0\\\\' Box 2WD\",\n",
              " 'EX-L Coupe I4 Automatic',\n",
              " 'Luxury AWD',\n",
              " '2.0T AWD',\n",
              " 'Hybrid Limited',\n",
              " 'Hybrid Select FWD',\n",
              " 'GT Plus RWD',\n",
              " 'S 550 4MATIC Sedan',\n",
              " 'Premier Sedan Automatic',\n",
              " '4dr Sedan Turbo4 Auto',\n",
              " 'Tradesman',\n",
              " 'S Sedan Auto (PZEV)',\n",
              " 'SE FWD Auto',\n",
              " 'with 1SA RWD',\n",
              " 'Krom Edition FWD',\n",
              " 'XE Crew Cab LB V6 4WD Manual',\n",
              " 'Turbo DSG (PZEV)',\n",
              " 'LX AWD CVT',\n",
              " 'EX Hatchback CVT',\n",
              " 'Limited LS Sedan AT',\n",
              " 'Ultimate AWD DCT',\n",
              " 'Crossroad Plus FWD',\n",
              " 'GLS Wagon Automatic',\n",
              " 'Laredo E RWD',\n",
              " '2016.5 Sport FWD Automatic',\n",
              " '3500 1LT RWD LWB',\n",
              " '1LS',\n",
              " 'Premium FWD (alt)',\n",
              " 'ESV Premium Luxury 4WD',\n",
              " '340i xDrive Sedan',\n",
              " 'Premium 2.0 TFSI',\n",
              " '2.0T SE DSG',\n",
              " '2016.5 Touring FWD Automatic',\n",
              " 'SE Manual',\n",
              " 'E 400 Cabriolet RWD',\n",
              " 'EX Coupe I4 Automatic',\n",
              " 'LS 460',\n",
              " 'Limited CVT',\n",
              " 'SXT Plus RWD',\n",
              " 'SES 4WD',\n",
              " 'Prestige Hybrid 2.0T quattro',\n",
              " 'R-Line FWD DSG (PZEV)',\n",
              " 'LTZ AWD',\n",
              " 'CE I4 Automatic',\n",
              " 'Max Limited 4WD',\n",
              " 'SE 2.4L FWD',\n",
              " 'SL',\n",
              " 'V8',\n",
              " 'SE 3.3L FWD',\n",
              " 'Touring 4-Door Manual',\n",
              " 'Roadster 2.5i',\n",
              " '750Li xDrive AWD',\n",
              " 'TDI S DSG',\n",
              " 'M45x AWD',\n",
              " 'Premium Plus 3.6L quattro',\n",
              " 'Coupe 2.0T RWD',\n",
              " 'Signature',\n",
              " 'Unlimited Moab',\n",
              " 'EX-L Sedan Automatic',\n",
              " 'PRO-4X Crew Cab 4WD',\n",
              " 'ES S-AWC',\n",
              " 'Luxury 4WD',\n",
              " 'Wagon with Cloth',\n",
              " '2.5L Automatic',\n",
              " 'Pure Coupe',\n",
              " '4dr 103\" WB XLT Sport',\n",
              " 'Touring 1.5T CVT',\n",
              " 'VE Automatic',\n",
              " 'Note 1.6 S Plus CVT',\n",
              " 'SLT RWD Automatic',\n",
              " 'TDI SEL Premium DSG',\n",
              " '4.8i AWD',\n",
              " '1.8 S CVT',\n",
              " 'IS 250 Sedan RWD',\n",
              " 'SLT Quad Cab Long Bed 4WD',\n",
              " 'S Premium CVT',\n",
              " 'FWD Manual',\n",
              " 'Spec Automatic',\n",
              " '3.8L RWD',\n",
              " 'Hybrid with 1HY',\n",
              " 'SE 2.0L Sedan Manual (Ulsan)',\n",
              " 'L Manual',\n",
              " 'LX-S Coupe CVT',\n",
              " 'SX Limited V6 AWD',\n",
              " 'GLE 550e 4MATIC SUV',\n",
              " 'E 300 Sport Sedan RWD',\n",
              " 'B 250e',\n",
              " 'Premier with 4.6L AWD',\n",
              " 'XE King Cab I4 RWD Automatic',\n",
              " 'V6',\n",
              " 'Premium I4 Turbo RWD',\n",
              " \"XL Crew Cab 8\\\\' Bed 4WD\",\n",
              " '2500 Standard Roof SWB RWD',\n",
              " 'GS 350 RWD',\n",
              " 'EX 4WD Automatic',\n",
              " 'Premium Luxury FWD',\n",
              " \"FX4 SuperCrew 5.5\\\\' Box 4WD\",\n",
              " 'sDrive35i RWD',\n",
              " 'WT Crew Cab Standard Box 4WD',\n",
              " 'Sedan Manual',\n",
              " 'RTL-T FWD',\n",
              " 'LE V6 FWD',\n",
              " '2.0T SE',\n",
              " '2019.5 PURE AWD',\n",
              " 'CLS 550',\n",
              " 'T6 AWD Inscription',\n",
              " 'TSI S 4-door Auto',\n",
              " 'S 2-door Manual',\n",
              " '535i xDrive Sedan',\n",
              " 'Limited Manual',\n",
              " 'Unlimited Sahara 4WD',\n",
              " 'G4 ES Sedan CVT',\n",
              " '2.5 S Auto',\n",
              " 'XL SuperCab 142\" RWD',\n",
              " 'Sport Hatchback CVT',\n",
              " '430i Gran Coupe RWD (SULEV)',\n",
              " '2.0XT Premium CVT',\n",
              " 'SLE-1 FWD',\n",
              " '2014 SE Sport I4 Automatic',\n",
              " '2.5 SL Sedan CVT',\n",
              " 'ES',\n",
              " 'S ALL4',\n",
              " 'AWD 4dr XE',\n",
              " 'EX V6 AWD',\n",
              " 'Limited V6 AWD',\n",
              " 'E 550 Coupe RWD',\n",
              " 'Sport Automatic',\n",
              " \"Laramie Crew Cab 8\\\\' Box 4WD\",\n",
              " 'LE 2.0 FWD CVT',\n",
              " '2.0i Premium Manual',\n",
              " '3500 LT with 1LT RWD LWB',\n",
              " 'S 4MOTION Auto',\n",
              " 'EX-L CVT',\n",
              " '3.0t Premium RWD',\n",
              " 'LT Sedan MT',\n",
              " 'SV Crew Cab 4WD Automatic',\n",
              " 'NX Turbo AWD',\n",
              " 'WT Regular Cab Long Box 4WD',\n",
              " '2014 SE I4 Automatic',\n",
              " 'EX Coupe Manual',\n",
              " 'Passion Coupe',\n",
              " 'Prestige 35t',\n",
              " '94 Ah with Range Extender',\n",
              " 'LT Sedan AT',\n",
              " 'E-350 Super Duty XL Extended',\n",
              " 'Premium Sedan',\n",
              " 'ES 300h',\n",
              " 'SX Koup Manual',\n",
              " 'SV FWD (alt)',\n",
              " 'SE Plus',\n",
              " 'SXT Automatic',\n",
              " 'Limited 3.8L (alt)',\n",
              " 'LS 430',\n",
              " '2.5 SL Sedan (alt)',\n",
              " 'EX-L with Navigation',\n",
              " 'Premium Convertible',\n",
              " 'Luxury 2WD',\n",
              " 'X RWD Manual',\n",
              " 'Heat 4WD',\n",
              " 'Sport 2.4L (PZEV)',\n",
              " 'GLX Wagon V6 4MOTION Auto',\n",
              " 'T5 FWD',\n",
              " 'T6 AWD Dynamic',\n",
              " ...]"
            ]
          },
          "metadata": {
            "tags": []
          },
          "execution_count": 70
        }
      ]
    },
    {
      "cell_type": "markdown",
      "metadata": {
        "id": "j7wOJ5oV0BCU"
      },
      "source": [
        "'Bed Length' is next to go through."
      ]
    },
    {
      "cell_type": "code",
      "metadata": {
        "id": "Nii6t4DA0BCV",
        "outputId": "41d1d270-b9d1-4532-eb90-354bdf8853ab",
        "colab": {
          "base_uri": "https://localhost:8080/"
        }
      },
      "source": [
        "print(\"'Bed Length' column has\", vehicles_dataset[\"Bed Length\"].isnull().sum(), \"null values.\")\n",
        "print(\"The other ones (\", vehicles_dataset[\"Bed Length\"].notnull().sum(), \") are:\", sep=\"\")\n",
        "vehicles_dataset['Bed Length'].value_counts()"
      ],
      "execution_count": 71,
      "outputs": [
        {
          "output_type": "stream",
          "text": [
            "'Bed Length' column has 14135 null values.\n",
            "The other ones (1096) are:\n"
          ],
          "name": "stdout"
        },
        {
          "output_type": "execute_result",
          "data": {
            "text/plain": [
              "Short Bed       513\n",
              "Standard Bed    470\n",
              "Long Bed        113\n",
              "Name: Bed Length, dtype: int64"
            ]
          },
          "metadata": {
            "tags": []
          },
          "execution_count": 71
        }
      ]
    },
    {
      "cell_type": "markdown",
      "metadata": {
        "id": "2V5vXklV0BCa"
      },
      "source": [
        "As seen above the bed length is null for almost all cases, so it will be discarded."
      ]
    },
    {
      "cell_type": "code",
      "metadata": {
        "id": "2sOq5QRo0BCa",
        "outputId": "78be7fac-8cda-4b2a-a740-5e18fb5096fa",
        "colab": {
          "base_uri": "https://localhost:8080/"
        }
      },
      "source": [
        "vehicles_dataset.drop(columns='Bed Length', inplace=True)\n",
        "vehicles_dataset.columns"
      ],
      "execution_count": 72,
      "outputs": [
        {
          "output_type": "stream",
          "text": [
            "/usr/local/lib/python3.6/dist-packages/pandas/core/frame.py:4174: SettingWithCopyWarning: \n",
            "A value is trying to be set on a copy of a slice from a DataFrame\n",
            "\n",
            "See the caveats in the documentation: https://pandas.pydata.org/pandas-docs/stable/user_guide/indexing.html#returning-a-view-versus-a-copy\n",
            "  errors=errors,\n"
          ],
          "name": "stderr"
        },
        {
          "output_type": "execute_result",
          "data": {
            "text/plain": [
              "Index(['Make', 'Model', 'Year', 'Mileage', 'Transmission', 'Engine',\n",
              "       'Exterior Color', 'Interior Color', 'MPG', 'Fuel Type', 'Drive Type',\n",
              "       'Location (City)', 'Location (State)', 'Style', 'Condition (Accidents)',\n",
              "       'Options Level', 'Price'],\n",
              "      dtype='object')"
            ]
          },
          "metadata": {
            "tags": []
          },
          "execution_count": 72
        }
      ]
    },
    {
      "cell_type": "markdown",
      "metadata": {
        "id": "l7XlCW9QIJNj"
      },
      "source": [
        "Now, "
      ]
    },
    {
      "cell_type": "markdown",
      "metadata": {
        "id": "9tWL-LFp0BDc"
      },
      "source": [
        "Like there are just a few cases where the vehicles are yellow or green, we will get rid of these values."
      ]
    },
    {
      "cell_type": "code",
      "metadata": {
        "id": "tfiBfXFa0BDc",
        "outputId": "aeb75075-37a0-448f-fe5b-97d2d102a206",
        "colab": {
          "base_uri": "https://localhost:8080/"
        }
      },
      "source": [
        "colors_to_drop = list(vehicles_dataset['Exterior Color'].value_counts().index[-4:])\n",
        "colors_to_drop"
      ],
      "execution_count": 73,
      "outputs": [
        {
          "output_type": "execute_result",
          "data": {
            "text/plain": [
              "['Red', 'Beige or Brown', 'Gold', 'Green']"
            ]
          },
          "metadata": {
            "tags": []
          },
          "execution_count": 73
        }
      ]
    },
    {
      "cell_type": "code",
      "metadata": {
        "id": "xQJp5eNA0BDg",
        "outputId": "0c755dc6-3dd2-464a-cc24-4bc2da6765ad",
        "colab": {
          "base_uri": "https://localhost:8080/",
          "height": 52
        }
      },
      "source": [
        "indexes = []\n",
        "\n",
        "\n",
        "for color in colors_to_drop:\n",
        "    indexes += list(cars_dataset[cars_dataset[\"Exterior Color\"] == color].index)\n",
        "    \n",
        "    \n",
        "vehicles_dataset.drop(indexes, inplace=True)\n",
        "vehicles_dataset.shape"
      ],
      "execution_count": 74,
      "outputs": [
        {
          "output_type": "execute_result",
          "data": {
            "application/vnd.google.colaboratory.intrinsic+json": {
              "type": "string"
            },
            "text/plain": [
              "'indexes = []\\n\\n\\nfor color in colors_to_drop:\\n    indexes += list(cars_dataset[cars_dataset[\"Exterior Color\"] == color].index)\\n    \\n    \\nvehicles_dataset.drop(indexes, inplace=True)\\nvehicles_dataset.shape'"
            ]
          },
          "metadata": {
            "tags": []
          },
          "execution_count": 74
        }
      ]
    },
    {
      "cell_type": "code",
      "metadata": {
        "id": "31UIKtCo0BDk",
        "outputId": "3da8bb39-b2ac-42f7-995b-2c6f85cf722f",
        "colab": {
          "base_uri": "https://localhost:8080/",
          "height": 312
        }
      },
      "source": [
        "ax = sns.countplot(x=\"Exterior Color\", data=vehicles_dataset, palette=\"Set1\")\n",
        "ax.set_title(\"Exterior colors by occurrences\")"
      ],
      "execution_count": 75,
      "outputs": [
        {
          "output_type": "execute_result",
          "data": {
            "text/plain": [
              "Text(0.5, 1.0, 'Exterior colors by occurrences')"
            ]
          },
          "metadata": {
            "tags": []
          },
          "execution_count": 75
        },
        {
          "output_type": "display_data",
          "data": {
            "image/png": "[encoded data removed]",
            "text/plain": [
              "<Figure size 432x288 with 1 Axes>"
            ]
          },
          "metadata": {
            "tags": [],
            "needs_background": "light"
          }
        }
      ]
    },
    {
      "cell_type": "markdown",
      "metadata": {
        "id": "8mqVV45B0BDo"
      },
      "source": [
        "Now, 'Engine' will be analyzed."
      ]
    },
    {
      "cell_type": "code",
      "metadata": {
        "id": "qPZTC5YE0BDq",
        "outputId": "49c3466a-2f14-4901-b42e-e8ada748a85d",
        "colab": {
          "base_uri": "https://localhost:8080/"
        }
      },
      "source": [
        "vehicles_dataset['Engine'].isnull().sum()"
      ],
      "execution_count": 76,
      "outputs": [
        {
          "output_type": "execute_result",
          "data": {
            "text/plain": [
              "2891"
            ]
          },
          "metadata": {
            "tags": []
          },
          "execution_count": 76
        }
      ]
    },
    {
      "cell_type": "code",
      "metadata": {
        "id": "NCpB2e6W0BDy",
        "outputId": "d776956b-8929-4f53-ffe6-e30dba434923",
        "colab": {
          "base_uri": "https://localhost:8080/"
        }
      },
      "source": [
        "vehicles_dataset['Engine'].value_counts()"
      ],
      "execution_count": 77,
      "outputs": [
        {
          "output_type": "execute_result",
          "data": {
            "text/plain": [
              "2.5L Inline-4 Gas            1953\n",
              "1.8L Inline-4 Gas            1346\n",
              "2.4L Inline-4 Gas            1321\n",
              "3.6L V-6 Gas                 1295\n",
              "2.0L Inline-4 Gas            1263\n",
              "                             ... \n",
              "1.0L Inline-3 Gas               1\n",
              "5.9L V-12 Gas                   1\n",
              "5.5L V-8 Gas Supercharged       1\n",
              "4.4L V-8 Gas                    1\n",
              "1.7L Inline-4 Gas               1\n",
              "Name: Engine, Length: 107, dtype: int64"
            ]
          },
          "metadata": {
            "tags": []
          },
          "execution_count": 77
        }
      ]
    },
    {
      "cell_type": "markdown",
      "metadata": {
        "id": "zFtsgjxY0BD1"
      },
      "source": [
        "We are going to check on all the variants for each 'Inline', 'Flat' and 'Vs' engines, so we can filter them into more crowded categories"
      ]
    },
    {
      "cell_type": "code",
      "metadata": {
        "id": "KqnYwFrb0BD2",
        "outputId": "d7695784-ebe6-4c70-9805-a1655c1b3450",
        "colab": {
          "base_uri": "https://localhost:8080/"
        }
      },
      "source": [
        "sorted(vehicles_dataset['Engine'].value_counts().index.to_list())"
      ],
      "execution_count": 78,
      "outputs": [
        {
          "output_type": "execute_result",
          "data": {
            "text/plain": [
              "['0.6L Inline-2 Plug-In',\n",
              " '1.0L Inline-3 Gas',\n",
              " '1.2L Inline-3 Gas',\n",
              " '1.3L Inline-4 Hybrid',\n",
              " '1.4L Inline-4 Gas',\n",
              " '1.4L Inline-4 Plug-In',\n",
              " '1.5L Inline-4 Gas',\n",
              " '1.5L Inline-4 Hybrid',\n",
              " '1.5L Inline-4 Plug-In',\n",
              " '1.6L Inline-4 Gas',\n",
              " '1.6L Inline-4 Hybrid',\n",
              " '1.7L Inline-4 Gas',\n",
              " '1.8L Inline-4 Gas',\n",
              " '1.8L Inline-4 Hybrid',\n",
              " '1.8L Inline-4 Plug-In',\n",
              " '2.0L Flat-4 Gas',\n",
              " '2.0L Inline-4 Gas',\n",
              " '2.0L Inline-4 Hybrid',\n",
              " '2.0L Inline-4 Plug-In',\n",
              " '2.0L V-4 Gas Turbocharged',\n",
              " '2.2L Inline-4 Gas',\n",
              " '2.3L Inline-4 Gas',\n",
              " '2.3L V-4 Gas Turbocharged',\n",
              " '2.4L Inline-4 Gas',\n",
              " '2.4L Inline-4 Hybrid',\n",
              " '2.4L Inline-5 Gas',\n",
              " '2.5L Flat-4 Gas',\n",
              " '2.5L Flat-6 Gas',\n",
              " '2.5L Inline-4 Gas',\n",
              " '2.5L Inline-4 Hybrid',\n",
              " '2.5L Inline-5 Gas',\n",
              " '2.5L Inline-6 Gas',\n",
              " '2.5L V-6 Gas',\n",
              " '2.7L Flat-6 Gas',\n",
              " '2.7L Inline-4 Gas',\n",
              " '2.7L V-6 Gas',\n",
              " '2.7L V-6 Gas Turbocharged',\n",
              " '2.8L V-6 Gas',\n",
              " '2.9L Inline-4 Gas',\n",
              " '3.0L Flat-6 Gas',\n",
              " '3.0L Inline-6 Gas',\n",
              " '3.0L V-6 Gas',\n",
              " '3.0L V-6 Gas Supercharged',\n",
              " '3.0L V-6 Gas Turbocharged',\n",
              " '3.1L V-6 Gas',\n",
              " '3.2L Flat-6 Gas',\n",
              " '3.2L Inline-6 Gas',\n",
              " '3.2L V-6 Gas',\n",
              " '3.3L V-6 Gas',\n",
              " '3.3L V-6 Gas Turbocharged',\n",
              " '3.3L V-6 Hybrid',\n",
              " '3.4L Flat-6 Gas',\n",
              " '3.4L V-6 Gas',\n",
              " '3.5L Inline-5 Gas',\n",
              " '3.5L V-6 Gas',\n",
              " '3.5L V-6 Gas Turbocharged',\n",
              " '3.5L V-6 Hybrid',\n",
              " '3.6L Flat-6 Gas',\n",
              " '3.6L V-6 Gas',\n",
              " '3.6L V-6 Plug-In',\n",
              " '3.7L Inline-5 Gas',\n",
              " '3.7L V-6 Gas',\n",
              " '3.8L Flat-6 Gas',\n",
              " '3.8L V-6 Gas',\n",
              " '3.9L V-6 Gas',\n",
              " '3.9L V-8 Gas',\n",
              " '4.0L Inline-6 Gas',\n",
              " '4.0L V-6 Gas',\n",
              " '4.0L V-8 Gas',\n",
              " '4.0L V-8 Gas Turbocharged',\n",
              " '4.2L Inline-6 Gas',\n",
              " '4.2L V-6 Gas',\n",
              " '4.2L V-8 Gas',\n",
              " '4.3L V-6 Gas',\n",
              " '4.3L V-8 Gas',\n",
              " '4.4L V-8 Gas',\n",
              " '4.4L V-8 Gas Turbocharged',\n",
              " '4.5L V-8 Gas',\n",
              " '4.6L V-8 Gas',\n",
              " '4.6L V-8 Gas Turbocharged',\n",
              " '4.7L Inline-8 Gas',\n",
              " '4.7L V-8 Gas',\n",
              " '4.7L V-8 Gas Turbocharged',\n",
              " '4.8L V-8 Gas',\n",
              " '5.0L V-10 Gas',\n",
              " '5.0L V-8 Gas',\n",
              " '5.0L V-8 Gas Supercharged',\n",
              " '5.0L V-8 Gas Turbocharged',\n",
              " '5.3L V-8 Gas',\n",
              " '5.4L V-8 Gas',\n",
              " '5.5L V-12 Gas Turbocharged',\n",
              " '5.5L V-8 Gas',\n",
              " '5.5L V-8 Gas Supercharged',\n",
              " '5.6L V-8 Gas',\n",
              " '5.7L V-8 Gas',\n",
              " '5.9L V-12 Gas',\n",
              " '5.9L V-8 Gas',\n",
              " '6.0L V-8 Gas',\n",
              " '6.0L V-8 Hybrid',\n",
              " '6.0L W-12 Gas',\n",
              " '6.0L W-12 Gas Turbocharged',\n",
              " '6.1L V-8 Gas',\n",
              " '6.2L V-8 Gas',\n",
              " '6.3L V-8 Gas',\n",
              " '6.4L V-8 Gas',\n",
              " '6.8L V-10 Gas',\n",
              " 'L - Electric']"
            ]
          },
          "metadata": {
            "tags": []
          },
          "execution_count": 78
        }
      ]
    },
    {
      "cell_type": "code",
      "metadata": {
        "id": "5O8467mC0BEC",
        "outputId": "a4966626-7c22-4fa6-d1fe-27b7cd6ba376",
        "colab": {
          "base_uri": "https://localhost:8080/"
        }
      },
      "source": [
        "for j in [\"Inline\", \"Flat\", \"V\"]:\n",
        "\n",
        "    for i in vehicles_dataset['Engine'].value_counts().index.to_list():\n",
        "        if j in i:\n",
        "            print(i)"
      ],
      "execution_count": 79,
      "outputs": [
        {
          "output_type": "stream",
          "text": [
            "2.5L Inline-4 Gas\n",
            "1.8L Inline-4 Gas\n",
            "2.4L Inline-4 Gas\n",
            "2.0L Inline-4 Gas\n",
            "1.6L Inline-4 Gas\n",
            "2.0L Inline-4 Hybrid\n",
            "1.8L Inline-4 Hybrid\n",
            "3.0L Inline-6 Gas\n",
            "2.5L Inline-4 Hybrid\n",
            "1.5L Inline-4 Gas\n",
            "0.6L Inline-2 Plug-In\n",
            "2.4L Inline-4 Hybrid\n",
            "1.5L Inline-4 Hybrid\n",
            "2.2L Inline-4 Gas\n",
            "1.4L Inline-4 Plug-In\n",
            "2.5L Inline-5 Gas\n",
            "2.0L Inline-4 Plug-In\n",
            "3.2L Inline-6 Gas\n",
            "2.7L Inline-4 Gas\n",
            "1.2L Inline-3 Gas\n",
            "2.5L Inline-6 Gas\n",
            "1.8L Inline-4 Plug-In\n",
            "2.3L Inline-4 Gas\n",
            "4.2L Inline-6 Gas\n",
            "3.7L Inline-5 Gas\n",
            "4.7L Inline-8 Gas\n",
            "1.5L Inline-4 Plug-In\n",
            "1.3L Inline-4 Hybrid\n",
            "2.4L Inline-5 Gas\n",
            "2.9L Inline-4 Gas\n",
            "1.6L Inline-4 Hybrid\n",
            "4.0L Inline-6 Gas\n",
            "1.4L Inline-4 Gas\n",
            "3.5L Inline-5 Gas\n",
            "1.0L Inline-3 Gas\n",
            "1.7L Inline-4 Gas\n",
            "2.5L Flat-4 Gas\n",
            "2.0L Flat-4 Gas\n",
            "3.6L Flat-6 Gas\n",
            "3.0L Flat-6 Gas\n",
            "2.7L Flat-6 Gas\n",
            "2.5L Flat-6 Gas\n",
            "3.2L Flat-6 Gas\n",
            "3.8L Flat-6 Gas\n",
            "3.4L Flat-6 Gas\n",
            "3.6L V-6 Gas\n",
            "3.5L V-6 Gas\n",
            "5.3L V-8 Gas\n",
            "5.7L V-8 Gas\n",
            "4.0L V-6 Gas\n",
            "3.5L V-6 Gas Turbocharged\n",
            "5.0L V-8 Gas\n",
            "3.7L V-6 Gas\n",
            "6.0L V-8 Gas\n",
            "6.2L V-8 Gas\n",
            "3.8L V-6 Gas\n",
            "4.6L V-8 Gas\n",
            "3.0L V-6 Gas\n",
            "3.3L V-6 Gas\n",
            "3.0L V-6 Gas Turbocharged\n",
            "2.7L V-6 Gas Turbocharged\n",
            "5.4L V-8 Gas\n",
            "5.5L V-8 Gas\n",
            "2.0L V-4 Gas Turbocharged\n",
            "5.6L V-8 Gas\n",
            "4.3L V-6 Gas\n",
            "3.0L V-6 Gas Supercharged\n",
            "6.4L V-8 Gas\n",
            "3.2L V-6 Gas\n",
            "4.7L V-8 Gas\n",
            "3.9L V-8 Gas\n",
            "4.3L V-8 Gas\n",
            "2.3L V-4 Gas Turbocharged\n",
            "4.8L V-8 Gas\n",
            "2.5L V-6 Gas\n",
            "4.7L V-8 Gas Turbocharged\n",
            "2.8L V-6 Gas\n",
            "3.5L V-6 Hybrid\n",
            "5.0L V-8 Gas Turbocharged\n",
            "2.7L V-6 Gas\n",
            "6.8L V-10 Gas\n",
            "4.0L V-8 Gas Turbocharged\n",
            "3.1L V-6 Gas\n",
            "5.0L V-8 Gas Supercharged\n",
            "3.3L V-6 Gas Turbocharged\n",
            "4.2L V-8 Gas\n",
            "6.1L V-8 Gas\n",
            "3.9L V-6 Gas\n",
            "3.3L V-6 Hybrid\n",
            "3.6L V-6 Plug-In\n",
            "4.6L V-8 Gas Turbocharged\n",
            "4.4L V-8 Gas Turbocharged\n",
            "6.0L V-8 Hybrid\n",
            "5.5L V-12 Gas Turbocharged\n",
            "4.0L V-8 Gas\n",
            "5.9L V-8 Gas\n",
            "4.5L V-8 Gas\n",
            "3.4L V-6 Gas\n",
            "5.0L V-10 Gas\n",
            "4.2L V-6 Gas\n",
            "6.3L V-8 Gas\n",
            "5.9L V-12 Gas\n",
            "5.5L V-8 Gas Supercharged\n",
            "4.4L V-8 Gas\n"
          ],
          "name": "stdout"
        }
      ]
    },
    {
      "cell_type": "code",
      "metadata": {
        "id": "DSyXdbtC0BEF"
      },
      "source": [
        "def engine_categorize(engine_type):\n",
        "    if \"V-\" in engine_type:\n",
        "        return re.findall(\"V.+\", engine_type)[0]\n",
        "    elif \"Inline\" in engine_type:\n",
        "        return re.findall(\"I.+\", engine_type)[0]\n",
        "    elif \"Flat\" in engine_type:\n",
        "        return re.findall(\"F.+\", engine_type)[0]\n",
        "    else:\n",
        "        return \"Another\""
      ],
      "execution_count": 80,
      "outputs": []
    },
    {
      "cell_type": "code",
      "metadata": {
        "id": "lOVBxTAl0BEK",
        "outputId": "dee9a631-bbc5-4d39-d551-d4d1ac687e15",
        "colab": {
          "base_uri": "https://localhost:8080/"
        }
      },
      "source": [
        "re.findall(\"V-[1-8][0-2]?\", \"5.4L V-10 Gas Supercharged\")"
      ],
      "execution_count": 81,
      "outputs": [
        {
          "output_type": "execute_result",
          "data": {
            "text/plain": [
              "['V-10']"
            ]
          },
          "metadata": {
            "tags": []
          },
          "execution_count": 81
        }
      ]
    },
    {
      "cell_type": "code",
      "metadata": {
        "id": "fDUgVoRj0BER",
        "outputId": "859e9573-6082-44a6-ef57-70f3ff749ced",
        "colab": {
          "base_uri": "https://localhost:8080/"
        }
      },
      "source": [
        "vehicles_dataset['Engine'] = vehicles_dataset['Engine'].astype(str)\n",
        "vehicles_dataset['Engine'].apply(engine_categorize).value_counts()"
      ],
      "execution_count": 82,
      "outputs": [
        {
          "output_type": "stream",
          "text": [
            "/usr/local/lib/python3.6/dist-packages/ipykernel_launcher.py:1: SettingWithCopyWarning: \n",
            "A value is trying to be set on a copy of a slice from a DataFrame.\n",
            "Try using .loc[row_indexer,col_indexer] = value instead\n",
            "\n",
            "See the caveats in the documentation: https://pandas.pydata.org/pandas-docs/stable/user_guide/indexing.html#returning-a-view-versus-a-copy\n",
            "  \"\"\"Entry point for launching an IPython kernel.\n"
          ],
          "name": "stderr"
        },
        {
          "output_type": "execute_result",
          "data": {
            "text/plain": [
              "Inline-4 Gas             6349\n",
              "V-6 Gas                  3210\n",
              "Another                  2965\n",
              "V-8 Gas                  1252\n",
              "Inline-4 Hybrid           446\n",
              "V-6 Gas Turbocharged      347\n",
              "Flat-4 Gas                235\n",
              "Inline-6 Gas              108\n",
              "V-4 Gas Turbocharged       60\n",
              "Inline-4 Plug-In           50\n",
              "V-8 Gas Turbocharged       37\n",
              "V-6 Gas Supercharged       33\n",
              "Inline-5 Gas               31\n",
              "Flat-6 Gas                 26\n",
              "Inline-2 Plug-In           25\n",
              "V-6 Hybrid                 14\n",
              "Inline-3 Gas               12\n",
              "V-10 Gas                   10\n",
              "V-8 Gas Supercharged        7\n",
              "Inline-8 Gas                6\n",
              "V-6 Plug-In                 3\n",
              "V-8 Hybrid                  2\n",
              "V-12 Gas Turbocharged       2\n",
              "V-12 Gas                    1\n",
              "Name: Engine, dtype: int64"
            ]
          },
          "metadata": {
            "tags": []
          },
          "execution_count": 82
        }
      ]
    },
    {
      "cell_type": "markdown",
      "metadata": {
        "id": "NHZIY_k30BEV"
      },
      "source": [
        "Let's filter these engine types up a bit more, so outliers stay out."
      ]
    },
    {
      "cell_type": "code",
      "metadata": {
        "id": "EWOeu2By0BEW"
      },
      "source": [
        "def engine_categorize(engine_type):\n",
        "    if engine_type.endswith(\"V-6 Gas\"):\n",
        "        return re.findall(\"V.+\", engine_type)[0]\n",
        "    elif \"V-6\" in engine_type:\n",
        "        return \"V-6 Gas Turbo/Supercharged\"\n",
        "    elif \"V-8\" in engine_type:\n",
        "        return \"V-8\"\n",
        "    elif \"V-\" in engine_type:\n",
        "        return \"V-4/10/12\"\n",
        "    elif \"Inline-4 Gas\" in engine_type:\n",
        "        return \"Inline-4 Gas\"\n",
        "    elif \"Inline-4\" in engine_type:\n",
        "        return \"Inline-4 Plug-In/Hybrid\"\n",
        "    elif \"Inline-6\" in engine_type:\n",
        "        return \"Inline-6\"\n",
        "    elif \"Inline\" in engine_type:\n",
        "        return \"Inline 2/3/5/8\"\n",
        "    elif \"Flat\" in engine_type:\n",
        "        return re.findall(\"Flat-[46]\", engine_type)[0]\n",
        "    else:\n",
        "        return \"Another\""
      ],
      "execution_count": 83,
      "outputs": []
    },
    {
      "cell_type": "code",
      "metadata": {
        "id": "AufoT24U0BEj",
        "outputId": "13e6d546-9ac8-42d6-d38d-8a83c2d04259",
        "colab": {
          "base_uri": "https://localhost:8080/"
        }
      },
      "source": [
        "vehicles_dataset['Engine'] = vehicles_dataset['Engine'].apply(engine_categorize)\n",
        "vehicles_dataset['Engine'].value_counts()"
      ],
      "execution_count": 85,
      "outputs": [
        {
          "output_type": "stream",
          "text": [
            "/usr/local/lib/python3.6/dist-packages/ipykernel_launcher.py:1: SettingWithCopyWarning: \n",
            "A value is trying to be set on a copy of a slice from a DataFrame.\n",
            "Try using .loc[row_indexer,col_indexer] = value instead\n",
            "\n",
            "See the caveats in the documentation: https://pandas.pydata.org/pandas-docs/stable/user_guide/indexing.html#returning-a-view-versus-a-copy\n",
            "  \"\"\"Entry point for launching an IPython kernel.\n"
          ],
          "name": "stderr"
        },
        {
          "output_type": "execute_result",
          "data": {
            "text/plain": [
              "Inline-4 Gas                  6349\n",
              "V-6 Gas                       3210\n",
              "Another                       2965\n",
              "V-8                           1298\n",
              "Inline-4 Plug-In/Hybrid        496\n",
              "V-6 Gas Turbo/Supercharged     397\n",
              "Flat-4                         235\n",
              "Inline-6                       108\n",
              "Inline 2/3/5/8                  74\n",
              "V-4/10/12                       73\n",
              "Flat-6                          26\n",
              "Name: Engine, dtype: int64"
            ]
          },
          "metadata": {
            "tags": []
          },
          "execution_count": 85
        }
      ]
    },
    {
      "cell_type": "markdown",
      "metadata": {
        "id": "BFabzgEoMIOt"
      },
      "source": [
        "Now, for the location variables, in order to establish a strength of association (categorical correlation) measure between them, it is being used the Cramer's V statistic, based on Pearson's Chi-Square test for numerical data."
      ]
    },
    {
      "cell_type": "code",
      "metadata": {
        "id": "kb3jywVOS5ci",
        "outputId": "83353d06-6e46-4a15-eb20-b3224f269e07",
        "colab": {
          "base_uri": "https://localhost:8080/"
        }
      },
      "source": [
        "print(vehicles_dataset['Location (City)'].isnull().sum())\n",
        "vehicles_dataset['Location (City)'].value_counts()"
      ],
      "execution_count": 86,
      "outputs": [
        {
          "output_type": "stream",
          "text": [
            "58\n"
          ],
          "name": "stdout"
        },
        {
          "output_type": "execute_result",
          "data": {
            "text/plain": [
              "Phoenix           225\n",
              "Houston           196\n",
              "San Antonio       163\n",
              "Jacksonville      147\n",
              "Raleigh           145\n",
              "                 ... \n",
              "Liverpool           1\n",
              "Indian Trail        1\n",
              "Chamblee            1\n",
              "Mesquite            1\n",
              "Farmers Branch      1\n",
              "Name: Location (City), Length: 1293, dtype: int64"
            ]
          },
          "metadata": {
            "tags": []
          },
          "execution_count": 86
        }
      ]
    },
    {
      "cell_type": "code",
      "metadata": {
        "id": "dH-M255fS5Zh",
        "outputId": "ed51abae-5c54-496a-98e7-5e7e62a8e1ba",
        "colab": {
          "base_uri": "https://localhost:8080/"
        }
      },
      "source": [
        "print(vehicles_dataset['Location (State)'].isnull().sum())\n",
        "vehicles_dataset['Location (State)'].unique()"
      ],
      "execution_count": 87,
      "outputs": [
        {
          "output_type": "stream",
          "text": [
            "91\n"
          ],
          "name": "stdout"
        },
        {
          "output_type": "execute_result",
          "data": {
            "text/plain": [
              "array(['WA', 'TX', 'CA', 'FL', 'MS', 'VA', 'OH', 'AL', 'IN', 'OK', 'GA',\n",
              "       'NY', 'MA', 'IL', 'NJ', 'TN', 'NC', 'MO', 'ME', 'MD', 'MN', 'AZ',\n",
              "       'WI', 'SC', 'LA', 'CO', 'KY', 'NM', 'AR', 'PA', 'OR', 'CT', 'KS',\n",
              "       nan, 'NV', 'ID', 'UT', 'IA', 'HI', 'NH', 'MI', 'MT', 'NE', 'WY',\n",
              "       'AK', 'DE', 'WV', 'VT', 'SD', 'RI', 'UK', 'ND', 'SO'], dtype=object)"
            ]
          },
          "metadata": {
            "tags": []
          },
          "execution_count": 87
        }
      ]
    },
    {
      "cell_type": "code",
      "metadata": {
        "id": "ZXf83PnYNcIQ",
        "outputId": "84d94a2b-551d-4348-9a5d-68d1df3f63db",
        "colab": {
          "base_uri": "https://localhost:8080/"
        }
      },
      "source": [
        "dn.cramers_v(vehicles_dataset['Location (City)'], vehicles_dataset['Location (State)'])"
      ],
      "execution_count": 88,
      "outputs": [
        {
          "output_type": "execute_result",
          "data": {
            "text/plain": [
              "0.9100844328413762"
            ]
          },
          "metadata": {
            "tags": []
          },
          "execution_count": 88
        }
      ]
    },
    {
      "cell_type": "markdown",
      "metadata": {
        "id": "5TpfdgXnObFS"
      },
      "source": [
        "This shows a high association between location features, which is logic as they represent the same information, just that 'Location (City)' is more specific, therefore with more unique values."
      ]
    },
    {
      "cell_type": "markdown",
      "metadata": {
        "id": "WJQnlrrgO1Lw"
      },
      "source": [
        "However, Cramer's V is symmetrical, which means variable 'x' gives the same information over variable 'y' as viceversa.\n",
        "But this cannot be the case, as some valuable data would ended up being lost."
      ]
    },
    {
      "cell_type": "markdown",
      "metadata": {
        "id": "W0RjE2RGQkoU"
      },
      "source": [
        "It is to be solved by implementing the Uncertainty Coefficient, or Theil's U metric, which is a asymmetrical measure; delivering for a given 'x' the possible states for 'y'."
      ]
    },
    {
      "cell_type": "code",
      "metadata": {
        "id": "7Yb2QnntRcgT",
        "outputId": "b9592685-d6b4-47f9-98d7-8bbc0383d527",
        "colab": {
          "base_uri": "https://localhost:8080/"
        }
      },
      "source": [
        "print(dn.theils_u(vehicles_dataset['Location (City)'], ['Location (States)']))\n",
        "dn.theils_u(vehicles_dataset['Location (State)'], vehicles_dataset['Location (City)'])"
      ],
      "execution_count": 89,
      "outputs": [
        {
          "output_type": "stream",
          "text": [
            "1.0\n"
          ],
          "name": "stdout"
        },
        {
          "output_type": "execute_result",
          "data": {
            "text/plain": [
              "0.9624630735070253"
            ]
          },
          "metadata": {
            "tags": []
          },
          "execution_count": 89
        }
      ]
    },
    {
      "cell_type": "markdown",
      "metadata": {
        "id": "7J6AfJBwRwA2"
      },
      "source": [
        "This is more accurate for estimations.\n",
        "Associations between features are now to be checked down below."
      ]
    },
    {
      "cell_type": "code",
      "metadata": {
        "id": "JTMSn2HaTsxP",
        "outputId": "28159d26-a7b2-4feb-d251-352fbbad0b09",
        "colab": {
          "base_uri": "https://localhost:8080/"
        }
      },
      "source": [
        "numerical_variables = ['Mileage', 'MPG', 'Price']\n",
        "#categorical_variables = list(filter(lambda var: (False, True)[var not in numerical_variables], vehicles_dataset.columns.to_list()))\n",
        "categorical_variables = list(filter(lambda var: bool(var not in numerical_variables), vehicles_dataset.columns.to_list()))\n",
        "categorical_variables"
      ],
      "execution_count": 90,
      "outputs": [
        {
          "output_type": "execute_result",
          "data": {
            "text/plain": [
              "['Make',\n",
              " 'Model',\n",
              " 'Year',\n",
              " 'Transmission',\n",
              " 'Engine',\n",
              " 'Exterior Color',\n",
              " 'Interior Color',\n",
              " 'Fuel Type',\n",
              " 'Drive Type',\n",
              " 'Location (City)',\n",
              " 'Location (State)',\n",
              " 'Style',\n",
              " 'Condition (Accidents)',\n",
              " 'Options Level']"
            ]
          },
          "metadata": {
            "tags": []
          },
          "execution_count": 90
        }
      ]
    },
    {
      "cell_type": "code",
      "metadata": {
        "id": "kvsYawN-X_Ve"
      },
      "source": [
        "categorical_data = pd.DataFrame(data=vehicles_dataset, columns=categorical_variables)"
      ],
      "execution_count": 91,
      "outputs": []
    },
    {
      "cell_type": "code",
      "metadata": {
        "id": "TPVak8EA3ehB",
        "outputId": "8165306f-febc-405c-feff-bd4525d665fe",
        "colab": {
          "base_uri": "https://localhost:8080/",
          "height": 746
        }
      },
      "source": [
        "dn.associations(\n",
        "    categorical_data.dropna(),\n",
        "    theil_u=True, nan_strategy='drop_samples', figsize=(10,10))['ax']"
      ],
      "execution_count": 92,
      "outputs": [
        {
          "output_type": "stream",
          "text": [
            "/usr/local/lib/python3.6/dist-packages/dython/nominal.py:310: SettingWithCopyWarning: \n",
            "A value is trying to be set on a copy of a slice from a DataFrame\n",
            "\n",
            "See the caveats in the documentation: https://pandas.pydata.org/pandas-docs/stable/user_guide/indexing.html#returning-a-view-versus-a-copy\n",
            "  dataset.dropna(axis=0, inplace=True)\n"
          ],
          "name": "stderr"
        },
        {
          "output_type": "display_data",
          "data": {
            "image/png": "[encoded data removed]",
            "text/plain": [
              "<Figure size 720x720 with 2 Axes>"
            ]
          },
          "metadata": {
            "tags": [],
            "needs_background": "light"
          }
        },
        {
          "output_type": "execute_result",
          "data": {
            "text/plain": [
              "<matplotlib.axes._subplots.AxesSubplot at 0x7ff45f5f06d8>"
            ]
          },
          "metadata": {
            "tags": []
          },
          "execution_count": 92
        }
      ]
    },
    {
      "cell_type": "markdown",
      "metadata": {
        "id": "witewC7VSTR4"
      },
      "source": [
        "Then, 'Location (City)' will be eliminated."
      ]
    },
    {
      "cell_type": "code",
      "metadata": {
        "id": "9kqcSKJJbPqB",
        "outputId": "bcbdb2cc-f406-4f50-b2ca-67ae726f50a8",
        "colab": {
          "base_uri": "https://localhost:8080/"
        }
      },
      "source": [
        "vehicles_dataset.drop(columns='Location (City)', inplace=True)"
      ],
      "execution_count": 93,
      "outputs": [
        {
          "output_type": "stream",
          "text": [
            "/usr/local/lib/python3.6/dist-packages/pandas/core/frame.py:4174: SettingWithCopyWarning: \n",
            "A value is trying to be set on a copy of a slice from a DataFrame\n",
            "\n",
            "See the caveats in the documentation: https://pandas.pydata.org/pandas-docs/stable/user_guide/indexing.html#returning-a-view-versus-a-copy\n",
            "  errors=errors,\n"
          ],
          "name": "stderr"
        }
      ]
    },
    {
      "cell_type": "markdown",
      "metadata": {
        "id": "WMJhXeObbZpc"
      },
      "source": [
        "Location (State)' has still a lot of null values to deal with.\n",
        "Another category representing them will is created."
      ]
    },
    {
      "cell_type": "code",
      "metadata": {
        "id": "SzuqsRtALdoZ",
        "outputId": "6b025dac-91e7-4ff8-9181-5fac4b82e472",
        "colab": {
          "base_uri": "https://localhost:8080/"
        }
      },
      "source": [
        "vehicles_dataset['Location (State)'].value_counts()"
      ],
      "execution_count": 94,
      "outputs": [
        {
          "output_type": "execute_result",
          "data": {
            "text/plain": [
              "TX    1862\n",
              "CA    1589\n",
              "FL    1567\n",
              "AZ     739\n",
              "VA     737\n",
              "NC     723\n",
              "IL     671\n",
              "GA     556\n",
              "WA     410\n",
              "NJ     396\n",
              "CO     391\n",
              "TN     388\n",
              "PA     337\n",
              "MD     322\n",
              "OH     313\n",
              "NY     310\n",
              "MA     271\n",
              "SC     261\n",
              "IN     257\n",
              "OK     221\n",
              "MO     217\n",
              "AL     215\n",
              "KY     192\n",
              "CT     192\n",
              "OR     172\n",
              "NV     159\n",
              "UT     156\n",
              "AR     133\n",
              "LA     130\n",
              "WI     129\n",
              "MN     118\n",
              "KS     112\n",
              "MI     108\n",
              "HI      88\n",
              "IA      84\n",
              "NE      81\n",
              "NH      74\n",
              "MS      73\n",
              "ME      68\n",
              "NM      63\n",
              "ID      61\n",
              "MT      47\n",
              "WY      30\n",
              "DE      29\n",
              "AK      24\n",
              "SD      21\n",
              "VT      15\n",
              "RI      12\n",
              "ND      11\n",
              "WV       3\n",
              "UK       1\n",
              "SO       1\n",
              "Name: Location (State), dtype: int64"
            ]
          },
          "metadata": {
            "tags": []
          },
          "execution_count": 94
        }
      ]
    },
    {
      "cell_type": "code",
      "metadata": {
        "id": "dyJ-WpW2cqDa"
      },
      "source": [
        "#np.where(vehicles_dataset['Location (State)'] == 'UK', 'Other', vehicles_dataset['Location (State)'])"
      ],
      "execution_count": 95,
      "outputs": []
    },
    {
      "cell_type": "code",
      "metadata": {
        "id": "0WTWOjDUh733",
        "outputId": "d644d92e-cf67-48ac-903d-cd8bb7ecce21",
        "colab": {
          "base_uri": "https://localhost:8080/"
        }
      },
      "source": [
        "vehicles_dataset['Location (State)'].apply(lambda st: (st, 'Other')[st in ['UK', 'SO', 'WV', np.NaN]]).value_counts()"
      ],
      "execution_count": 96,
      "outputs": [
        {
          "output_type": "execute_result",
          "data": {
            "text/plain": [
              "TX       1862\n",
              "CA       1589\n",
              "FL       1567\n",
              "AZ        739\n",
              "VA        737\n",
              "NC        723\n",
              "IL        671\n",
              "GA        556\n",
              "WA        410\n",
              "NJ        396\n",
              "CO        391\n",
              "TN        388\n",
              "PA        337\n",
              "MD        322\n",
              "OH        313\n",
              "NY        310\n",
              "MA        271\n",
              "SC        261\n",
              "IN        257\n",
              "OK        221\n",
              "MO        217\n",
              "AL        215\n",
              "CT        192\n",
              "KY        192\n",
              "OR        172\n",
              "NV        159\n",
              "UT        156\n",
              "AR        133\n",
              "LA        130\n",
              "WI        129\n",
              "MN        118\n",
              "KS        112\n",
              "MI        108\n",
              "Other      96\n",
              "HI         88\n",
              "IA         84\n",
              "NE         81\n",
              "NH         74\n",
              "MS         73\n",
              "ME         68\n",
              "NM         63\n",
              "ID         61\n",
              "MT         47\n",
              "WY         30\n",
              "DE         29\n",
              "AK         24\n",
              "SD         21\n",
              "VT         15\n",
              "RI         12\n",
              "ND         11\n",
              "Name: Location (State), dtype: int64"
            ]
          },
          "metadata": {
            "tags": []
          },
          "execution_count": 96
        }
      ]
    },
    {
      "cell_type": "code",
      "metadata": {
        "id": "LIoyp2HClk3G"
      },
      "source": [
        ""
      ],
      "execution_count": null,
      "outputs": []
    }
  ]
}