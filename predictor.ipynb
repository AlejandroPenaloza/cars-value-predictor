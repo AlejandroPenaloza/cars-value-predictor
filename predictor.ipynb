{
 "cells": [
  {
   "cell_type": "code",
   "execution_count": 41,
   "metadata": {},
   "outputs": [],
   "source": [
    "import itertools\n",
    "import pandas as pd\n",
    "import numpy as np\n",
    "import scipy.stats\n",
    "import re\n",
    "import math\n",
    "import matplotlib as mlp\n",
    "import matplotlib.pyplot as plt\n",
    "import matplotlib.backends.backend_agg\n",
    "import matplotlib.figure\n",
    "import seaborn as sns\n",
    "import datetime\n",
    "from sklearn import preprocessing\n",
    "from sklearn.model_selection import train_test_split\n",
    "from sklearn.linear_model import LogisticRegression\n",
    "from sklearn.metrics import confusion_matrix, accuracy_score\n",
    "from sklearn.preprocessing import LabelEncoder, OneHotEncoder, LabelBinarizer\n",
    "from sklearn.metrics import roc_curve, roc_auc_score"
   ]
  },
  {
   "cell_type": "code",
   "execution_count": 42,
   "metadata": {},
   "outputs": [
    {
     "name": "stdout",
     "output_type": "stream",
     "text": [
      "(16920, 18)\n"
     ]
    },
    {
     "data": {
      "text/html": [
       "<div>\n",
       "<style scoped>\n",
       "    .dataframe tbody tr th:only-of-type {\n",
       "        vertical-align: middle;\n",
       "    }\n",
       "\n",
       "    .dataframe tbody tr th {\n",
       "        vertical-align: top;\n",
       "    }\n",
       "\n",
       "    .dataframe thead th {\n",
       "        text-align: right;\n",
       "    }\n",
       "</style>\n",
       "<table border=\"1\" class=\"dataframe\">\n",
       "  <thead>\n",
       "    <tr style=\"text-align: right;\">\n",
       "      <th></th>\n",
       "      <th>Make</th>\n",
       "      <th>Model</th>\n",
       "      <th>Year</th>\n",
       "      <th>Mileage</th>\n",
       "      <th>Transmission</th>\n",
       "      <th>Engine</th>\n",
       "      <th>Exterior Color</th>\n",
       "      <th>Interior Color</th>\n",
       "      <th>MPG</th>\n",
       "      <th>Fuel Type</th>\n",
       "      <th>Drive Type</th>\n",
       "      <th>Location (City)</th>\n",
       "      <th>Location (State)</th>\n",
       "      <th>Style</th>\n",
       "      <th>Condition (Accidents)</th>\n",
       "      <th>Options Level</th>\n",
       "      <th>Bed Length</th>\n",
       "      <th>Price</th>\n",
       "    </tr>\n",
       "  </thead>\n",
       "  <tbody>\n",
       "    <tr>\n",
       "      <th>0</th>\n",
       "      <td>Ford</td>\n",
       "      <td>Focus</td>\n",
       "      <td>2014.0</td>\n",
       "      <td>35,795</td>\n",
       "      <td>Automatic</td>\n",
       "      <td>2.0L Inline-4 Gas</td>\n",
       "      <td>NaN</td>\n",
       "      <td>Charcoal Black</td>\n",
       "      <td>26 cty / 36 hwy</td>\n",
       "      <td>Gas</td>\n",
       "      <td>FWD</td>\n",
       "      <td>Tacoma</td>\n",
       "      <td>WA</td>\n",
       "      <td>SE Hatchback</td>\n",
       "      <td>2 reported accidents</td>\n",
       "      <td>Standard</td>\n",
       "      <td>NaN</td>\n",
       "      <td>7,999</td>\n",
       "    </tr>\n",
       "    <tr>\n",
       "      <th>1</th>\n",
       "      <td>Ford</td>\n",
       "      <td>F-150</td>\n",
       "      <td>2015.0</td>\n",
       "      <td>128,146</td>\n",
       "      <td>Automatic</td>\n",
       "      <td>2.7L V-6 Gas Turbocharged</td>\n",
       "      <td>Unknown</td>\n",
       "      <td>Medium Earth Gray</td>\n",
       "      <td>19 cty / 26 hwy</td>\n",
       "      <td>Gas</td>\n",
       "      <td>RWD</td>\n",
       "      <td>Waxahachie</td>\n",
       "      <td>TX</td>\n",
       "      <td>XL SuperCrew 6.5\\' Box RWD</td>\n",
       "      <td>0 reported accidents</td>\n",
       "      <td>NaN</td>\n",
       "      <td>Standard Bed</td>\n",
       "      <td>15,991</td>\n",
       "    </tr>\n",
       "    <tr>\n",
       "      <th>2</th>\n",
       "      <td>Mercedes-Benz</td>\n",
       "      <td>E-Class</td>\n",
       "      <td>2004.0</td>\n",
       "      <td>135,000</td>\n",
       "      <td>Automatic</td>\n",
       "      <td>5.0L V-8 Gas</td>\n",
       "      <td>Black</td>\n",
       "      <td>Beige</td>\n",
       "      <td>16 cty / 22 hwy</td>\n",
       "      <td>Gas</td>\n",
       "      <td>AWD</td>\n",
       "      <td>Covina</td>\n",
       "      <td>CA</td>\n",
       "      <td>E 500 4MATIC Wagon</td>\n",
       "      <td>0 reported accidents</td>\n",
       "      <td>Standard</td>\n",
       "      <td>NaN</td>\n",
       "      <td>5,950</td>\n",
       "    </tr>\n",
       "    <tr>\n",
       "      <th>3</th>\n",
       "      <td>Hyundai</td>\n",
       "      <td>Elantra</td>\n",
       "      <td>2011.0</td>\n",
       "      <td>135,670</td>\n",
       "      <td>Automatic</td>\n",
       "      <td>1.8L Inline-4 Gas</td>\n",
       "      <td>NaN</td>\n",
       "      <td>Gray</td>\n",
       "      <td>28 cty / 38 hwy</td>\n",
       "      <td>Gas</td>\n",
       "      <td>FWD</td>\n",
       "      <td>Miami</td>\n",
       "      <td>FL</td>\n",
       "      <td>NaN</td>\n",
       "      <td>0 reported accidents</td>\n",
       "      <td>Standard</td>\n",
       "      <td>NaN</td>\n",
       "      <td>3,999</td>\n",
       "    </tr>\n",
       "    <tr>\n",
       "      <th>4</th>\n",
       "      <td>Toyota</td>\n",
       "      <td>Prius</td>\n",
       "      <td>2012.0</td>\n",
       "      <td>152,543</td>\n",
       "      <td>Automatic</td>\n",
       "      <td>1.8L Inline-4 Hybrid</td>\n",
       "      <td>White</td>\n",
       "      <td>Biege</td>\n",
       "      <td>51 cty / 48 hwy</td>\n",
       "      <td>Hybrid</td>\n",
       "      <td>FWD</td>\n",
       "      <td>Byhalia</td>\n",
       "      <td>MS</td>\n",
       "      <td>Five</td>\n",
       "      <td>1 reported accidents</td>\n",
       "      <td>Standard</td>\n",
       "      <td>NaN</td>\n",
       "      <td>6,500</td>\n",
       "    </tr>\n",
       "  </tbody>\n",
       "</table>\n",
       "</div>"
      ],
      "text/plain": [
       "            Make    Model    Year  Mileage Transmission  \\\n",
       "0           Ford    Focus  2014.0   35,795    Automatic   \n",
       "1           Ford    F-150  2015.0  128,146    Automatic   \n",
       "2  Mercedes-Benz  E-Class  2004.0  135,000    Automatic   \n",
       "3        Hyundai  Elantra  2011.0  135,670    Automatic   \n",
       "4         Toyota    Prius  2012.0  152,543    Automatic   \n",
       "\n",
       "                      Engine Exterior Color     Interior Color  \\\n",
       "0          2.0L Inline-4 Gas            NaN     Charcoal Black   \n",
       "1  2.7L V-6 Gas Turbocharged        Unknown  Medium Earth Gray   \n",
       "2               5.0L V-8 Gas          Black              Beige   \n",
       "3          1.8L Inline-4 Gas            NaN               Gray   \n",
       "4       1.8L Inline-4 Hybrid          White              Biege   \n",
       "\n",
       "               MPG Fuel Type Drive Type Location (City) Location (State)  \\\n",
       "0  26 cty / 36 hwy       Gas        FWD          Tacoma               WA   \n",
       "1  19 cty / 26 hwy       Gas        RWD      Waxahachie               TX   \n",
       "2  16 cty / 22 hwy       Gas        AWD          Covina               CA   \n",
       "3  28 cty / 38 hwy       Gas        FWD           Miami               FL   \n",
       "4  51 cty / 48 hwy    Hybrid        FWD         Byhalia               MS   \n",
       "\n",
       "                        Style Condition (Accidents) Options Level  \\\n",
       "0                SE Hatchback  2 reported accidents      Standard   \n",
       "1  XL SuperCrew 6.5\\' Box RWD  0 reported accidents           NaN   \n",
       "2          E 500 4MATIC Wagon  0 reported accidents      Standard   \n",
       "3                         NaN  0 reported accidents      Standard   \n",
       "4                        Five  1 reported accidents      Standard   \n",
       "\n",
       "     Bed Length   Price  \n",
       "0           NaN   7,999  \n",
       "1  Standard Bed  15,991  \n",
       "2           NaN   5,950  \n",
       "3           NaN   3,999  \n",
       "4           NaN   6,500  "
      ]
     },
     "execution_count": 42,
     "metadata": {},
     "output_type": "execute_result"
    }
   ],
   "source": [
    "cars_dataset = pd.read_csv('C:/Users/aleja/Cars-Value-Predictor/cars-features-dataset.csv')\n",
    "cars_dataset.drop(columns='Unnamed: 0', inplace=True)\n",
    "print(cars_dataset.shape)\n",
    "cars_dataset.head()"
   ]
  },
  {
   "cell_type": "markdown",
   "metadata": {},
   "source": [
    "## Exploratory Data Analysis"
   ]
  },
  {
   "cell_type": "code",
   "execution_count": 43,
   "metadata": {},
   "outputs": [
    {
     "data": {
      "text/plain": [
       "Make                       896\n",
       "Model                      923\n",
       "Year                       822\n",
       "Mileage                    349\n",
       "Transmission               386\n",
       "Engine                    3545\n",
       "Exterior Color            5840\n",
       "Interior Color            1285\n",
       "MPG                        367\n",
       "Fuel Type                  336\n",
       "Drive Type                 284\n",
       "Location (City)            713\n",
       "Location (State)           748\n",
       "Style                     1747\n",
       "Condition (Accidents)      781\n",
       "Options Level             2241\n",
       "Bed Length               15641\n",
       "Price                      916\n",
       "dtype: int64"
      ]
     },
     "execution_count": 43,
     "metadata": {},
     "output_type": "execute_result"
    }
   ],
   "source": [
    "cars_dataset.isnull().sum(axis=0)"
   ]
  },
  {
   "cell_type": "code",
   "execution_count": 44,
   "metadata": {},
   "outputs": [
    {
     "data": {
      "text/plain": [
       "{'Bed Length': 15641,\n",
       " 'Exterior Color': 5840,\n",
       " 'Engine': 3545,\n",
       " 'Options Level': 2241,\n",
       " 'Style': 1747,\n",
       " 'Interior Color': 1285,\n",
       " 'Model': 923,\n",
       " 'Price': 916,\n",
       " 'Make': 896,\n",
       " 'Year': 822,\n",
       " 'Condition (Accidents)': 781,\n",
       " 'Location (State)': 748,\n",
       " 'Location (City)': 713,\n",
       " 'Transmission': 386,\n",
       " 'MPG': 367,\n",
       " 'Mileage': 349,\n",
       " 'Fuel Type': 336,\n",
       " 'Drive Type': 284}"
      ]
     },
     "execution_count": 44,
     "metadata": {},
     "output_type": "execute_result"
    }
   ],
   "source": [
    "cols_by_nulls = cars_dataset.isnull().sum().sort_values(ascending=False).to_dict()\n",
    "cols_by_nulls"
   ]
  },
  {
   "cell_type": "markdown",
   "metadata": {},
   "source": [
    "This high quantity of allegedly null values is due to lack of information when inputting specifications in each car listing from its owner or merchant.\n",
    "Some of them will be dropped but most of them will be labeled as another data."
   ]
  },
  {
   "cell_type": "code",
   "execution_count": 45,
   "metadata": {},
   "outputs": [
    {
     "data": {
      "text/plain": [
       "(15983, 18)"
      ]
     },
     "execution_count": 45,
     "metadata": {},
     "output_type": "execute_result"
    }
   ],
   "source": [
    "cars_dataset.dropna(subset=['Make', 'Model'], inplace=True)\n",
    "cars_dataset.shape"
   ]
  },
  {
   "cell_type": "markdown",
   "metadata": {},
   "source": [
    "Make and model are too important to have as an specific information for each row, so the ones were Make and Model are missing were dropped."
   ]
  },
  {
   "cell_type": "markdown",
   "metadata": {},
   "source": [
    "Now, 'Drive Type' will be analyzed. It has a lot less null values, so they will be eliminated."
   ]
  },
  {
   "cell_type": "code",
   "execution_count": 46,
   "metadata": {},
   "outputs": [],
   "source": [
    "cars_dataset.dropna(subset=['Drive Type'], inplace=True)"
   ]
  },
  {
   "cell_type": "code",
   "execution_count": 47,
   "metadata": {},
   "outputs": [
    {
     "data": {
      "text/plain": [
       "(15960, 18)"
      ]
     },
     "execution_count": 47,
     "metadata": {},
     "output_type": "execute_result"
    }
   ],
   "source": [
    "cars_dataset.shape"
   ]
  },
  {
   "cell_type": "code",
   "execution_count": 48,
   "metadata": {},
   "outputs": [
    {
     "name": "stdout",
     "output_type": "stream",
     "text": [
      "'Bed Length' column has 14730 null values.\n",
      "The other ones (1230) are:\n"
     ]
    },
    {
     "data": {
      "text/plain": [
       "Short Bed       576\n",
       "Standard Bed    535\n",
       "Long Bed        119\n",
       "Name: Bed Length, dtype: int64"
      ]
     },
     "execution_count": 48,
     "metadata": {},
     "output_type": "execute_result"
    }
   ],
   "source": [
    "print(\"'Bed Length' column has\", cars_dataset[\"Bed Length\"].isnull().sum(), \"null values.\")\n",
    "print(\"The other ones (\", cars_dataset[\"Bed Length\"].notnull().sum(), \") are:\", sep=\"\")\n",
    "cars_dataset['Bed Length'].value_counts()"
   ]
  },
  {
   "cell_type": "markdown",
   "metadata": {},
   "source": [
    "As seen above the bed length is null for almost all cases, so it will be discarded."
   ]
  },
  {
   "cell_type": "code",
   "execution_count": 49,
   "metadata": {},
   "outputs": [
    {
     "data": {
      "text/plain": [
       "Index(['Make', 'Model', 'Year', 'Mileage', 'Transmission', 'Engine',\n",
       "       'Exterior Color', 'Interior Color', 'MPG', 'Fuel Type', 'Drive Type',\n",
       "       'Location (City)', 'Location (State)', 'Style', 'Condition (Accidents)',\n",
       "       'Options Level', 'Price'],\n",
       "      dtype='object')"
      ]
     },
     "execution_count": 49,
     "metadata": {},
     "output_type": "execute_result"
    }
   ],
   "source": [
    "cars_dataset.drop(columns='Bed Length', inplace=True)\n",
    "cars_dataset.columns"
   ]
  },
  {
   "cell_type": "code",
   "execution_count": 50,
   "metadata": {},
   "outputs": [
    {
     "data": {
      "text/plain": [
       "15641"
      ]
     },
     "execution_count": 50,
     "metadata": {},
     "output_type": "execute_result"
    }
   ],
   "source": [
    "cols_by_nulls.pop(\"Bed Length\")"
   ]
  },
  {
   "cell_type": "code",
   "execution_count": 51,
   "metadata": {},
   "outputs": [
    {
     "name": "stdout",
     "output_type": "stream",
     "text": [
      "Exterior Color has 5840 null values\n",
      "10743 not null values and values count: 569\n"
     ]
    },
    {
     "data": {
      "text/plain": [
       "Black                  774\n",
       "Oxford White           426\n",
       "Gray                   398\n",
       "Summit White           393\n",
       "White                  370\n",
       "                      ... \n",
       "Silvermist Metallic      1\n",
       "Natural White            1\n",
       "Light Blue               1\n",
       "Ginger Ale Metallic      1\n",
       "Guard Metallic           1\n",
       "Name: Exterior Color, Length: 569, dtype: int64"
      ]
     },
     "execution_count": 51,
     "metadata": {},
     "output_type": "execute_result"
    }
   ],
   "source": [
    "print(\"Exterior Color has\", cols_by_nulls['Exterior Color'], \"null values\")\n",
    "print(cars_dataset['Exterior Color'].value_counts().sum(), \"not null values and values count:\", cars_dataset['Exterior Color'].nunique())\n",
    "cars_dataset['Exterior Color'].value_counts()"
   ]
  },
  {
   "cell_type": "code",
   "execution_count": 52,
   "metadata": {},
   "outputs": [
    {
     "data": {
      "text/plain": [
       "['Black',\n",
       " 'Oxford White',\n",
       " 'Gray',\n",
       " 'Summit White',\n",
       " 'White',\n",
       " 'Super White',\n",
       " 'Crystal Black Pearl',\n",
       " 'Super Black',\n",
       " 'Gun Metallic',\n",
       " 'Silver Ice Metallic',\n",
       " 'Shadow Black',\n",
       " 'Glacier White',\n",
       " 'Silver',\n",
       " 'White Orchid Pearl',\n",
       " 'Fresh Powder',\n",
       " 'Magnetic Metallic',\n",
       " 'Unknown',\n",
       " 'Brilliant Silver',\n",
       " 'Granite Pearlcoat',\n",
       " 'Polar White',\n",
       " 'Blue',\n",
       " 'Magnetic Black',\n",
       " 'Red',\n",
       " 'Jet Black',\n",
       " 'Agate Black',\n",
       " 'Black Sand Pearl',\n",
       " 'Pearl White',\n",
       " 'Quartz White Pearl',\n",
       " 'Phantom Black',\n",
       " 'Predawn Gray Mica',\n",
       " 'Taffeta White',\n",
       " 'White Diamond Pearl',\n",
       " 'Ice Silver Metallic',\n",
       " 'Billet Clearcoat',\n",
       " 'Clear White',\n",
       " 'Pure White',\n",
       " 'Alpine White',\n",
       " 'Snow White Pearl',\n",
       " 'Sparkling Silver',\n",
       " 'Aurora Black',\n",
       " 'Symphony Silver',\n",
       " 'Eminent White Pearl',\n",
       " 'Ebony Black',\n",
       " 'Scarlet Red',\n",
       " 'Caspian Blue',\n",
       " 'Deep Blue Pearl',\n",
       " 'Dark Gray Metallic',\n",
       " 'Race Red',\n",
       " 'Gold',\n",
       " 'Black Obsidian',\n",
       " 'Vice White',\n",
       " 'Onyx Black',\n",
       " 'Blizzard Pearl',\n",
       " 'Crystal White Pearl',\n",
       " 'Brown',\n",
       " 'Magnetic',\n",
       " 'Black Clearcoat',\n",
       " 'Graphite Shadow',\n",
       " 'Obsidian',\n",
       " 'Nebula Gray Pearl',\n",
       " 'Machine Gray',\n",
       " 'Obsidian Blue Pearl',\n",
       " 'Frost White Pearl',\n",
       " 'Atomic Silver',\n",
       " 'Bright White',\n",
       " 'Bright Silver',\n",
       " 'Jet Black Mica',\n",
       " 'Red Alert',\n",
       " 'Steel Blue Metallic',\n",
       " 'Titanium Gray',\n",
       " 'Ingot Silver',\n",
       " 'Platinum Graphite',\n",
       " 'Coliseum Gray',\n",
       " 'Black Raven',\n",
       " 'Dark Blue Metallic',\n",
       " 'Dazzling White',\n",
       " 'Gloss Black',\n",
       " 'Space Gray Metallic',\n",
       " 'Caribbean Blue',\n",
       " 'Black Diamond',\n",
       " 'Lakeside Blue',\n",
       " 'Frost',\n",
       " 'Ruby Wine',\n",
       " 'Blueprint',\n",
       " 'Palatial Ruby',\n",
       " 'Silky Silver',\n",
       " 'Cirrus White',\n",
       " 'Dark Sky Metallic',\n",
       " 'White Clearcoat',\n",
       " 'Flame Red Clearcoat',\n",
       " 'San Marino Red',\n",
       " 'Storm Blue',\n",
       " 'Blue Jeans Metallic',\n",
       " 'Blue Flame Metallic',\n",
       " 'Cosmic Gray Mica',\n",
       " 'Crystal White',\n",
       " 'Majestic White',\n",
       " 'Shale Gray Metallic',\n",
       " 'Stone White',\n",
       " 'Basque Red Pearl Ii',\n",
       " 'Surf Blue',\n",
       " 'Grey',\n",
       " 'Night Black',\n",
       " 'Candy White',\n",
       " 'Titanium Silver',\n",
       " 'Cayenne Red',\n",
       " 'Ashen Gray Metallic',\n",
       " 'Galactic Aqua Mica',\n",
       " 'Molten Silver',\n",
       " 'Night Blue Metallic',\n",
       " 'Scarlet Red Pearl',\n",
       " 'Satin White Pearl',\n",
       " 'Ibis White',\n",
       " 'Silver Sky Metallic',\n",
       " 'Galactic Gray',\n",
       " 'Silk Blue Metallic',\n",
       " 'Rallye Red',\n",
       " 'Black Velvet',\n",
       " 'Tan',\n",
       " 'Black Onyx',\n",
       " 'Midnight Black',\n",
       " 'Quartz White',\n",
       " 'Jupiter Red',\n",
       " 'Smoky Granite Mica',\n",
       " 'Lightning Blue',\n",
       " 'Deep Sea Blue',\n",
       " 'Tuxedo Black',\n",
       " 'Capri Blue Metallic',\n",
       " 'True Blue Pearl',\n",
       " 'Pepperdust Metallic',\n",
       " 'Cajun Red Tintcoat',\n",
       " 'Tungsten Metallic',\n",
       " 'Venetian Red Pearl',\n",
       " 'Pewter Metallic',\n",
       " 'Stargazer Black',\n",
       " 'Red Brick',\n",
       " 'White Gold Metallic',\n",
       " 'Inferno Red',\n",
       " 'Deep Impact Blue',\n",
       " 'True Blue Pearlcoat',\n",
       " 'Granite Clearcoat',\n",
       " 'Black Mica',\n",
       " 'Gunmetal Metallic',\n",
       " 'Burgundy',\n",
       " 'Boston Red Metallic',\n",
       " 'Liquid Platinum',\n",
       " 'White Gold',\n",
       " 'Deep Lava Red Pearl',\n",
       " 'Caspian Black',\n",
       " 'Morningsky Blue',\n",
       " 'Arctic White',\n",
       " 'Glacier Pearl',\n",
       " 'Parisian Gray',\n",
       " 'Siren Red Tintcoat',\n",
       " 'Aspen White Tricoat',\n",
       " 'Storm Blue Metallic',\n",
       " 'Red Hot',\n",
       " 'Opera Red Metallic',\n",
       " 'Quartz Blue Pearl',\n",
       " 'Starlight Silver',\n",
       " 'Electric Storm Blue',\n",
       " 'Phantom Black Pearl',\n",
       " 'Phantom Gray',\n",
       " 'Black Noir Pearl',\n",
       " 'Slate Metallic',\n",
       " 'Steel Gray Metallic',\n",
       " 'Pearl White Tricoat',\n",
       " 'Wicked Black',\n",
       " 'Celestite',\n",
       " 'Black Sand Mica',\n",
       " 'Cocoa Metallic',\n",
       " 'Sterling Gray',\n",
       " 'Starfire Pearl',\n",
       " 'Onyx Black Metallic',\n",
       " 'Velocity Red',\n",
       " 'Abyss Blue Pearl',\n",
       " 'Midnight Blue Pearl',\n",
       " 'Reflex Silver',\n",
       " 'Dark Slate Metallic',\n",
       " 'Tectonic',\n",
       " 'Titanium',\n",
       " 'Green',\n",
       " 'Electric Blue',\n",
       " 'Shimmering White',\n",
       " 'Becketts Black',\n",
       " 'Gold Mist Metallic',\n",
       " 'Aspen Ice',\n",
       " 'Brilliant Black',\n",
       " 'Charcoal',\n",
       " 'Aspen White Pearl',\n",
       " 'Denim Blue Metallic',\n",
       " 'Ice White',\n",
       " 'Scarlet Ember',\n",
       " 'Black Onyx Pearl',\n",
       " 'Century White',\n",
       " 'Alfa Rosso',\n",
       " 'Blue Reflex Mica',\n",
       " 'Ceramic White',\n",
       " 'Diamond Slate',\n",
       " 'Maroon',\n",
       " 'White Silver',\n",
       " 'Argento Nurburgring',\n",
       " 'Sangria',\n",
       " 'Blue Metallic',\n",
       " 'Evening Black',\n",
       " 'Silver Streak Mica',\n",
       " 'Slate Blue Metallic',\n",
       " 'Galaxy Black',\n",
       " 'Newport Blue Pearl',\n",
       " 'White Suede',\n",
       " 'Ruby Flare Pearl',\n",
       " 'Magnetic Gray',\n",
       " 'Thunder Gray',\n",
       " 'Quicksilver',\n",
       " 'Twilight Black',\n",
       " 'Savannah Metallic',\n",
       " 'Light White',\n",
       " 'Ruby Black Metallic',\n",
       " 'Ice Blue Metallic',\n",
       " 'Titanium Flash Mica',\n",
       " 'Lunar Blue Metallic',\n",
       " 'Horizon Blue',\n",
       " 'Caviar',\n",
       " 'Graphite Metallic',\n",
       " 'Royal Blue Pearl',\n",
       " 'Championship White',\n",
       " 'Sonic Gray Pearl',\n",
       " 'Aqua Blue',\n",
       " 'Jazz Blue Pearlcoat',\n",
       " 'Satin Silver',\n",
       " 'Pepper White',\n",
       " 'Winter White',\n",
       " 'Carbon Gray Pearl',\n",
       " 'Salsa Red Pearl',\n",
       " 'Sonic Silver',\n",
       " 'Java Black',\n",
       " 'Rally Red Metallic',\n",
       " 'Urban Gray Metallic',\n",
       " 'Eternal Blue Mica',\n",
       " 'White Frost Tricoat',\n",
       " 'Redline Pearlcoat',\n",
       " 'Blackberry Pearl',\n",
       " 'Navy Blue Metallic',\n",
       " 'Victory Red',\n",
       " 'Chrome Silver',\n",
       " 'Iridium Metallic',\n",
       " 'Turquoise',\n",
       " 'Apple Red Pearl',\n",
       " 'Deep Blue',\n",
       " 'Chocolate Metallic',\n",
       " 'Silver Moss',\n",
       " 'Marlin Blue',\n",
       " 'Silver Nickel',\n",
       " 'Orange',\n",
       " 'Blue Candy Metallic',\n",
       " 'Billet Metallic',\n",
       " 'Meteor Gray Mica',\n",
       " 'Marine Blue Pearl',\n",
       " 'Lithium Gray',\n",
       " 'Medium Silver Blue',\n",
       " 'Powder White Pearl',\n",
       " 'Red Quartz Tintcoat',\n",
       " 'Pure Red',\n",
       " 'Blue-Green Crystal',\n",
       " 'Windy Sea Blue',\n",
       " 'Canyon Copper',\n",
       " 'Zeal Red Mica',\n",
       " 'Mocha Almond',\n",
       " 'Unspecified',\n",
       " 'Cinnamon',\n",
       " 'Beige',\n",
       " 'Mysterious Blue',\n",
       " 'Ivory White',\n",
       " 'Silver Shadow Pearl',\n",
       " 'Lunar Mist Metallic',\n",
       " 'Signal Red',\n",
       " 'Grey/Dark Grey',\n",
       " 'Diamond White',\n",
       " 'Sea Glass Pearl',\n",
       " 'Blk',\n",
       " 'Blazing Blue Pearl',\n",
       " 'Carrara White',\n",
       " 'White Pearl',\n",
       " 'Hypersonic Red',\n",
       " 'Himalayan Gray',\n",
       " 'Sterling Silver!',\n",
       " 'Bronze',\n",
       " 'Platinum Silver',\n",
       " 'Crimson Red',\n",
       " 'Bold Beige Metallic',\n",
       " 'Storm',\n",
       " 'White Sand',\n",
       " 'Red Candy Metallic',\n",
       " 'Ebony',\n",
       " 'B5 Blue Pearl',\n",
       " 'Blue Onyx Pearl',\n",
       " 'Db Black Clearcoat',\n",
       " 'Fuji White',\n",
       " 'Burnished Copper',\n",
       " 'Smokey Brown',\n",
       " 'Spicy Red',\n",
       " 'Tango Red Pearl',\n",
       " 'Agate Grey Metallic',\n",
       " 'Sand White',\n",
       " 'White Opal',\n",
       " 'Hermosa Blue',\n",
       " 'Black Diamond Pearl',\n",
       " 'Matador Red Mica',\n",
       " 'Blade Silver',\n",
       " 'Java Metallic',\n",
       " 'Chili Red',\n",
       " 'Orient Red Metallic',\n",
       " 'Sandalwood Metallic',\n",
       " 'Pyrit Silver',\n",
       " 'Gravity Gray',\n",
       " 'Dark Sea Blue',\n",
       " 'Aegean Blue',\n",
       " 'Casablanca White',\n",
       " 'Moss Gray',\n",
       " 'Mocha Almond Pearl',\n",
       " 'Lead Foot',\n",
       " 'Cypress Pearl',\n",
       " 'Desert Sand Mica',\n",
       " 'Black Uni',\n",
       " 'Sunshine Orange',\n",
       " 'Abyss',\n",
       " 'Bright Red Ii',\n",
       " 'White Water Pearl',\n",
       " 'Liquid Silver',\n",
       " 'Blue Water Metallic',\n",
       " 'Titanium Metallic',\n",
       " 'Champagne',\n",
       " 'Dark Green Metallic',\n",
       " 'Cyber Gray Metallic',\n",
       " 'Symphony Air Silver',\n",
       " 'Gran Premio Gray',\n",
       " 'Torch Red',\n",
       " 'Ink Blue',\n",
       " 'Ultra White',\n",
       " 'Mars Red',\n",
       " 'Bordeaux Black',\n",
       " 'Tusk White',\n",
       " 'Gravity Grey',\n",
       " 'Champagne Gold Opal',\n",
       " 'Aurora Black Pearl',\n",
       " 'Dark Truffle',\n",
       " 'Galaxy Gray',\n",
       " 'Teal',\n",
       " 'Venetian Red',\n",
       " 'Navy',\n",
       " 'Pacific Blue Pearl',\n",
       " 'Frozen White',\n",
       " 'Creme Brulee Mica',\n",
       " 'Radiant Red',\n",
       " 'Corris Grey',\n",
       " 'Island Blue Pearl',\n",
       " 'Platinum Metallic',\n",
       " 'Metallic Gray',\n",
       " 'Grigio Metallic',\n",
       " 'Blaze Blue',\n",
       " 'Aspen White',\n",
       " 'Pitch Black',\n",
       " 'Wr Blue Pearl',\n",
       " 'Alien Ii',\n",
       " 'Ultra Black Pearl',\n",
       " 'Bianco Avus',\n",
       " 'Earthy Bronze',\n",
       " 'Royal Ruby Metallic',\n",
       " 'Alabaster White',\n",
       " 'Wind Chill Pearl',\n",
       " 'Ash Black',\n",
       " 'Glacier Metallic',\n",
       " 'Black Sapphire',\n",
       " 'Silver Metallic',\n",
       " 'Taupe Gray Metallic',\n",
       " 'White Diamond',\n",
       " 'Graphite Blue',\n",
       " 'Magma Red Metallic',\n",
       " 'Deep Ocean Pearl',\n",
       " 'Kona Blue Metallic',\n",
       " 'Sport Blue Metallic',\n",
       " 'Bianco',\n",
       " 'Deep Scarlet Pearl',\n",
       " 'Brilliant Red',\n",
       " 'Molten',\n",
       " 'Winter Frost Pearl',\n",
       " 'Midnight Gray',\n",
       " 'Catalina Blue Pearl',\n",
       " 'Butane Blue Pearl',\n",
       " 'Bianco (White)',\n",
       " 'Shimmering Silver',\n",
       " 'Hermosa Blue Pearl',\n",
       " 'Eaz/White Body Pan',\n",
       " 'Black Cherry',\n",
       " 'Rosso (Red)',\n",
       " 'Dyno Blue Pearl',\n",
       " 'Siver',\n",
       " 'Cashmere Pearlcoat',\n",
       " 'Sedona Sunset',\n",
       " 'Crystal White Mica',\n",
       " 'Steel Grey Metallic',\n",
       " 'Vegas Yellow',\n",
       " 'Nero',\n",
       " 'Am Titanium Silver',\n",
       " 'Dune',\n",
       " 'Atlantic Blue Pearl',\n",
       " 'Formal Black',\n",
       " 'Tarmac Black Pearl',\n",
       " 'Titanium Glow',\n",
       " 'Mercury Metallic',\n",
       " 'Mineral Beige',\n",
       " 'Horizon Blue Pearl',\n",
       " 'Solid White',\n",
       " 'Bluestone Metallic',\n",
       " 'Graphite Mica',\n",
       " 'Santiago Silver',\n",
       " 'Yellow',\n",
       " 'Teak Brown Metallic',\n",
       " 'Bianco White Ice',\n",
       " 'Sage Green Metallic',\n",
       " 'Iron Frost',\n",
       " 'Burgandy',\n",
       " 'Champagne Quartz',\n",
       " 'Stone Gray Metallic',\n",
       " 'Remington Red',\n",
       " 'Ivory 3-Coat',\n",
       " 'Bali Blue Pearl',\n",
       " 'Dark Green',\n",
       " 'Tank Clearcoat',\n",
       " 'Saharan Stone',\n",
       " 'Rhino Clearcoat',\n",
       " 'Midnight Garnet',\n",
       " 'Titanium Bronze',\n",
       " 'Pacific Blue',\n",
       " 'Sandstone Metallic',\n",
       " 'Moon Shell Mica',\n",
       " 'Mineral Beige Pearl',\n",
       " 'Attitude Black',\n",
       " 'Oxford White (Cc)',\n",
       " 'Black Forest Pearl',\n",
       " 'Flame Red',\n",
       " 'Deep Black Metallic',\n",
       " 'Ice Storm',\n",
       " 'Premium White Pearl',\n",
       " 'Black Cherry Pearl',\n",
       " 'Lt. Gray',\n",
       " 'Hyper Blue',\n",
       " 'White Onyx',\n",
       " 'Copperhead Pearl',\n",
       " 'Beige / Tan',\n",
       " 'Firestorm',\n",
       " 'Smoke',\n",
       " 'Solar Yellow',\n",
       " 'Deep Indigo Pearl',\n",
       " 'Argento (Silver)',\n",
       " 'Cashmere Pearl',\n",
       " 'Sky Blue Pearl',\n",
       " 'Dusk Blue',\n",
       " 'Earth Metallic',\n",
       " 'Mineral Silver',\n",
       " 'Botanical Green',\n",
       " 'Ruby Red',\n",
       " 'Dune Pearl Metallic',\n",
       " 'Coulis Red',\n",
       " 'Habanero Orange',\n",
       " 'Deep Black Pearl',\n",
       " 'Radiant Silver',\n",
       " 'Green Tea Metallic',\n",
       " 'Tornado Red',\n",
       " 'Off White',\n",
       " 'Eternal Blue Pearl',\n",
       " 'Blue Ocean',\n",
       " 'Denim',\n",
       " 'Deep Blue Metallic',\n",
       " 'Imperial Red',\n",
       " 'Ocean Mist Metallic',\n",
       " 'Dove Gray',\n",
       " 'Red Jewel Tintcoat',\n",
       " 'Mineral Gray',\n",
       " 'B5 Blue Pearlcoat',\n",
       " 'Admiral Blue Pearl',\n",
       " 'Redondo Red Pearl',\n",
       " 'White Orchid',\n",
       " 'Neptune Blue Mica',\n",
       " 'Silver Pearl',\n",
       " '0040',\n",
       " 'Pyrite Mica',\n",
       " 'Black Stone',\n",
       " 'Dk Blue',\n",
       " 'Lava Gray Pearl',\n",
       " 'Marathon Blue',\n",
       " 'Red Allure',\n",
       " 'Dyno Blue Pearl Ii',\n",
       " 'Autumn Red',\n",
       " 'Sand Beige Metallic',\n",
       " 'Vermillion Red',\n",
       " 'Corsa Red',\n",
       " 'Gt Silver Metallic',\n",
       " 'Kapoor Red Metallic',\n",
       " 'Desert Shadow',\n",
       " 'Designo Silver',\n",
       " 'Brownstone Metallic',\n",
       " 'Gold Leaf Metallic',\n",
       " 'Ultra Silver',\n",
       " 'Torred Clearcoat',\n",
       " 'Golden',\n",
       " 'Meteor Gray Pearl',\n",
       " 'Elite White',\n",
       " 'Cream White',\n",
       " 'Royal Grey Metallic',\n",
       " 'Sierra Blue',\n",
       " 'Gemstone Red',\n",
       " 'Cabo Bronze',\n",
       " 'Black Pearl',\n",
       " 'Dk. Gray',\n",
       " 'Super Silver',\n",
       " 'Crystal Black P',\n",
       " 'Chromium',\n",
       " 'Stealth',\n",
       " 'Silver Pine Mica',\n",
       " 'Clover Green Pearl',\n",
       " 'Indigo Night',\n",
       " 'Anvil',\n",
       " 'Mystic Black',\n",
       " 'Cassis Pearl',\n",
       " 'Sandstone Gray',\n",
       " 'Monterey Blue',\n",
       " 'Chalk White',\n",
       " 'Sunset Orange',\n",
       " 'Ultimate Black',\n",
       " 'Saharan Sun',\n",
       " 'Sapphire Black',\n",
       " 'Midnight Jade',\n",
       " 'Riviera Red',\n",
       " 'Cool Gray Khaki',\n",
       " 'Caribou Metallic',\n",
       " 'Moonlight White',\n",
       " 'Arctic Frost Pearl',\n",
       " 'Deep Crystal Blue',\n",
       " 'Lithium Red Pearl',\n",
       " 'Dark Charcoal Pearl',\n",
       " 'Nightfall Mica',\n",
       " 'Dark Cherry Pearl',\n",
       " \"Smokin\\\\' Asphalt\",\n",
       " 'Tungsten Pearl',\n",
       " 'Silver/Black',\n",
       " 'Havana Metallic',\n",
       " 'Anvil Clearcoat',\n",
       " 'Blue Chip',\n",
       " 'Currant Red',\n",
       " 'San Remo Red',\n",
       " 'Polished Metal',\n",
       " '01f7',\n",
       " 'Sonora Gold Pearl',\n",
       " 'Ash',\n",
       " 'Nautical Blue Pearl',\n",
       " 'Light Cashmere',\n",
       " 'Metallic Slate',\n",
       " 'Saville Gray',\n",
       " 'Lunar Gray Metallic',\n",
       " 'Forest Green',\n",
       " 'Cardinal Red',\n",
       " 'Amethyst Gray',\n",
       " 'Gray/Black',\n",
       " 'Silvermist Metallic',\n",
       " 'Natural White',\n",
       " 'Light Blue',\n",
       " 'Ginger Ale Metallic',\n",
       " 'Guard Metallic']"
      ]
     },
     "execution_count": 52,
     "metadata": {},
     "output_type": "execute_result"
    }
   ],
   "source": [
    "list(cars_dataset['Exterior Color'].value_counts().index)"
   ]
  },
  {
   "cell_type": "markdown",
   "metadata": {},
   "source": [
    "'Exterior Color' has a lot of unique values, but they can be regrouped given that these values represent almost the same color for each case, by category."
   ]
  },
  {
   "cell_type": "code",
   "execution_count": 53,
   "metadata": {},
   "outputs": [
    {
     "data": {
      "text/plain": [
       "Black                  774\n",
       "Oxford White           426\n",
       "Gray                   398\n",
       "Summit White           393\n",
       "White                  370\n",
       "                      ... \n",
       "Silvermist Metallic      1\n",
       "Natural White            1\n",
       "Light Blue               1\n",
       "Ginger Ale Metallic      1\n",
       "Guard Metallic           1\n",
       "Name: Exterior Color, Length: 569, dtype: int64"
      ]
     },
     "execution_count": 53,
     "metadata": {},
     "output_type": "execute_result"
    }
   ],
   "source": [
    "cars_dataset['Exterior Color'].value_counts()"
   ]
  },
  {
   "cell_type": "markdown",
   "metadata": {},
   "source": [
    "The following function will check whether the passed color names belong to the same category."
   ]
  },
  {
   "cell_type": "code",
   "execution_count": 54,
   "metadata": {},
   "outputs": [],
   "source": [
    "def color_in(color, *argc):\n",
    "    checks = []\n",
    "    for arg in argc:\n",
    "        if arg in str(color).lower():\n",
    "            checks.append(True)\n",
    "        else:\n",
    "            checks.append(False)\n",
    "    if any(checks):\n",
    "        return True\n",
    "    else:\n",
    "        return False"
   ]
  },
  {
   "cell_type": "markdown",
   "metadata": {},
   "source": [
    "Now, this function will tell if the conditions are met so that it categorizes the original values to this set-up. "
   ]
  },
  {
   "cell_type": "code",
   "execution_count": 55,
   "metadata": {},
   "outputs": [],
   "source": [
    "def ext_colors_categorize(ext_color):\n",
    "    if color_in(ext_color, \"black\") or \"Obsidian\" == ext_color:\n",
    "        return \"Black\"\n",
    "    elif color_in(ext_color, \"white\", \"glacier\") or ext_color in [\"Fresh Powder\", \"Blizzard Pearl\", \"Starfire Pearl\"]:\n",
    "        return \"White\"\n",
    "    elif color_in(ext_color, \"green\"):\n",
    "        return \"Green\"\n",
    "    elif color_in(ext_color, \"blue\", \"aqua\"):\n",
    "        return \"Blue\"\n",
    "    elif color_in(ext_color, \"silver\", \"gray\", \"magnetic\", \"pearlcoat\", \"tungsten\", \"graphite\", \"gun\", \"platinum\", \"titanium\", \"billet\"):\n",
    "        return \"Silver or Grey\"\n",
    "    elif color_in(ext_color, \"red\", \"cherry\", \"ruby\", \"sun\", \"rosso\", \"scarlet\"):\n",
    "        return \"Red\"\n",
    "    elif color_in(ext_color, \"gold\"):\n",
    "        return \"Gold\"\n",
    "    elif color_in(ext_color, \"brown\", \"beige\"):\n",
    "        return \"Beige or Brown\"\n",
    "    elif color_in(ext_color, \"yellow\"):\n",
    "        return \"Yellow\"\n",
    "    else:\n",
    "        return \"Unknown\""
   ]
  },
  {
   "cell_type": "code",
   "execution_count": 56,
   "metadata": {},
   "outputs": [],
   "source": [
    "cars_dataset['Exterior Color'] = cars_dataset['Exterior Color'].apply(ext_colors_categorize)"
   ]
  },
  {
   "cell_type": "code",
   "execution_count": 57,
   "metadata": {},
   "outputs": [
    {
     "data": {
      "text/plain": [
       "Unknown           5793\n",
       "White             3300\n",
       "Black             2647\n",
       "Silver or Grey    2595\n",
       "Blue               835\n",
       "Red                649\n",
       "Beige or Brown      59\n",
       "Gold                53\n",
       "Green               24\n",
       "Yellow               5\n",
       "Name: Exterior Color, dtype: int64"
      ]
     },
     "execution_count": 57,
     "metadata": {},
     "output_type": "execute_result"
    }
   ],
   "source": [
    "cars_dataset['Exterior Color'].value_counts()"
   ]
  },
  {
   "cell_type": "markdown",
   "metadata": {},
   "source": [
    "Like there are just a few cases where the vehicles are yellow or green, we will get rid of these values."
   ]
  },
  {
   "cell_type": "code",
   "execution_count": 60,
   "metadata": {},
   "outputs": [
    {
     "data": {
      "text/plain": [
       "['Beige or Brown', 'Gold', 'Green', 'Yellow']"
      ]
     },
     "execution_count": 60,
     "metadata": {},
     "output_type": "execute_result"
    }
   ],
   "source": [
    "colors_to_drop = list(cars_dataset['Exterior Color'].value_counts().index[-4:])\n",
    "colors_to_drop"
   ]
  },
  {
   "cell_type": "code",
   "execution_count": 61,
   "metadata": {},
   "outputs": [],
   "source": [
    "colors_subset = []\n",
    "\n",
    "def indexes_join_to_drop(color):\n",
    "    colors_subset += list(cars-dataset[cars_dataset[\"Exterior Color\" == color]])\n",
    "    return colors_subset"
   ]
  },
  {
   "cell_type": "code",
   "execution_count": null,
   "metadata": {},
   "outputs": [],
   "source": []
  },
  {
   "cell_type": "code",
   "execution_count": 19,
   "metadata": {},
   "outputs": [
    {
     "data": {
      "text/plain": [
       "(15931, 17)"
      ]
     },
     "execution_count": 19,
     "metadata": {},
     "output_type": "execute_result"
    }
   ],
   "source": [
    "\n",
    "cond_subset1 = cars_dataset[cars_dataset[\"Exterior Color\"] == \"Green\"]\n",
    "cond_subset2 = cars_dataset[cars_dataset[\"Exterior Color\"] == \"Yellow\"]\n",
    "cars_dataset.drop(list(cond_subset1.index) + list(cond_subset2.index), inplace=True)\n",
    "cars_dataset.shape"
   ]
  },
  {
   "cell_type": "code",
   "execution_count": 37,
   "metadata": {},
   "outputs": [
    {
     "data": {
      "text/plain": [
       "Text(0.5, 1.0, 'Exterior colors by occurrences')"
      ]
     },
     "execution_count": 37,
     "metadata": {},
     "output_type": "execute_result"
    },
    {
     "data": {
      "image/png": "[encoded data removed]",
      "text/plain": [
       "<Figure size 432x288 with 1 Axes>"
      ]
     },
     "metadata": {
      "needs_background": "light"
     },
     "output_type": "display_data"
    }
   ],
   "source": [
    "ax = sns.countplot(x=\"Exterior Color\", data=cars_dataset, palette=\"Set1\")\n",
    "ax.set_title(\"Exterior colors by occurrences\")"
   ]
  },
  {
   "cell_type": "code",
   "execution_count": null,
   "metadata": {},
   "outputs": [],
   "source": []
  }
 ],
 "metadata": {
  "kernelspec": {
   "display_name": "Python 3",
   "language": "python",
   "name": "python3"
  },
  "language_info": {
   "codemirror_mode": {
    "name": "ipython",
    "version": 3
   },
   "file_extension": ".py",
   "mimetype": "text/x-python",
   "name": "python",
   "nbconvert_exporter": "python",
   "pygments_lexer": "ipython3",
   "version": "3.7.3"
  }
 },
 "nbformat": 4,
 "nbformat_minor": 2
}
