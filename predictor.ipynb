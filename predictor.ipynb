{
  "nbformat": 4,
  "nbformat_minor": 0,
  "metadata": {
    "kernelspec": {
      "display_name": "Python 3",
      "language": "python",
      "name": "python3"
    },
    "language_info": {
      "codemirror_mode": {
        "name": "ipython",
        "version": 3
      },
      "file_extension": ".py",
      "mimetype": "text/x-python",
      "name": "python",
      "nbconvert_exporter": "python",
      "pygments_lexer": "ipython3",
      "version": "3.7.3"
    },
    "colab": {
      "name": "predictor.ipynb",
      "provenance": [],
      "collapsed_sections": []
    }
  },
  "cells": [
    {
      "cell_type": "code",
      "metadata": {
        "id": "2GlnDs0MyM7d",
        "outputId": "efed6463-5647-4441-98f0-0b612be8f89a",
        "colab": {
          "base_uri": "https://localhost:8080/"
        }
      },
      "source": [
        "!pip install dython"
      ],
      "execution_count": 86,
      "outputs": [
        {
          "output_type": "stream",
          "text": [
            "Requirement already satisfied: dython in /usr/local/lib/python3.6/dist-packages (0.6.1)\n",
            "Requirement already satisfied: scipy in /usr/local/lib/python3.6/dist-packages (from dython) (1.4.1)\n",
            "Requirement already satisfied: scikit-learn in /usr/local/lib/python3.6/dist-packages (from dython) (0.22.2.post1)\n",
            "Requirement already satisfied: matplotlib in /usr/local/lib/python3.6/dist-packages (from dython) (3.2.2)\n",
            "Requirement already satisfied: pandas>=0.23.4 in /usr/local/lib/python3.6/dist-packages (from dython) (1.1.4)\n",
            "Requirement already satisfied: numpy in /usr/local/lib/python3.6/dist-packages (from dython) (1.18.5)\n",
            "Requirement already satisfied: seaborn in /usr/local/lib/python3.6/dist-packages (from dython) (0.11.0)\n",
            "Requirement already satisfied: joblib>=0.11 in /usr/local/lib/python3.6/dist-packages (from scikit-learn->dython) (0.17.0)\n",
            "Requirement already satisfied: python-dateutil>=2.1 in /usr/local/lib/python3.6/dist-packages (from matplotlib->dython) (2.8.1)\n",
            "Requirement already satisfied: cycler>=0.10 in /usr/local/lib/python3.6/dist-packages (from matplotlib->dython) (0.10.0)\n",
            "Requirement already satisfied: kiwisolver>=1.0.1 in /usr/local/lib/python3.6/dist-packages (from matplotlib->dython) (1.3.1)\n",
            "Requirement already satisfied: pyparsing!=2.0.4,!=2.1.2,!=2.1.6,>=2.0.1 in /usr/local/lib/python3.6/dist-packages (from matplotlib->dython) (2.4.7)\n",
            "Requirement already satisfied: pytz>=2017.2 in /usr/local/lib/python3.6/dist-packages (from pandas>=0.23.4->dython) (2018.9)\n",
            "Requirement already satisfied: six>=1.5 in /usr/local/lib/python3.6/dist-packages (from python-dateutil>=2.1->matplotlib->dython) (1.15.0)\n"
          ],
          "name": "stdout"
        }
      ]
    },
    {
      "cell_type": "code",
      "metadata": {
        "id": "9ivP7Jes0A-V"
      },
      "source": [
        "import itertools\n",
        "import pandas as pd\n",
        "import pandas_profiling\n",
        "import numpy as np\n",
        "import scipy.stats\n",
        "import re\n",
        "import math\n",
        "import matplotlib as mlp\n",
        "import matplotlib.pyplot as plt\n",
        "import matplotlib.backends.backend_agg\n",
        "import matplotlib.figure\n",
        "import seaborn as sns\n",
        "import datetime\n",
        "from sklearn import preprocessing\n",
        "from sklearn.model_selection import train_test_split\n",
        "from sklearn.linear_model import LogisticRegression\n",
        "from sklearn.metrics import confusion_matrix, accuracy_score\n",
        "from sklearn.preprocessing import LabelEncoder, OneHotEncoder, LabelBinarizer\n",
        "from sklearn.metrics import roc_curve, roc_auc_score\n",
        "import dython.nominal as dn"
      ],
      "execution_count": 88,
      "outputs": []
    },
    {
      "cell_type": "code",
      "metadata": {
        "id": "zHnZBhuK0A-r",
        "outputId": "f7bc0795-78e6-4003-c286-eeeed2e0afa1",
        "colab": {
          "base_uri": "https://localhost:8080/",
          "height": 408
        }
      },
      "source": [
        "vehicles_dataset = pd.read_csv(\n",
        "    'https://raw.githubusercontent.com/AlejandroPenaloza/cars-value-predictor/master/cars-features-dataset.csv')\n",
        "vehicles_dataset.drop(columns='Unnamed: 0', inplace=True)\n",
        "print(vehicles_dataset.shape)\n",
        "vehicles_dataset.head()"
      ],
      "execution_count": 89,
      "outputs": [
        {
          "output_type": "stream",
          "text": [
            "(16920, 18)\n"
          ],
          "name": "stdout"
        },
        {
          "output_type": "execute_result",
          "data": {
            "text/html": [
              "<div>\n",
              "<style scoped>\n",
              "    .dataframe tbody tr th:only-of-type {\n",
              "        vertical-align: middle;\n",
              "    }\n",
              "\n",
              "    .dataframe tbody tr th {\n",
              "        vertical-align: top;\n",
              "    }\n",
              "\n",
              "    .dataframe thead th {\n",
              "        text-align: right;\n",
              "    }\n",
              "</style>\n",
              "<table border=\"1\" class=\"dataframe\">\n",
              "  <thead>\n",
              "    <tr style=\"text-align: right;\">\n",
              "      <th></th>\n",
              "      <th>Make</th>\n",
              "      <th>Model</th>\n",
              "      <th>Year</th>\n",
              "      <th>Mileage</th>\n",
              "      <th>Transmission</th>\n",
              "      <th>Engine</th>\n",
              "      <th>Exterior Color</th>\n",
              "      <th>Interior Color</th>\n",
              "      <th>MPG</th>\n",
              "      <th>Fuel Type</th>\n",
              "      <th>Drive Type</th>\n",
              "      <th>Location (City)</th>\n",
              "      <th>Location (State)</th>\n",
              "      <th>Style</th>\n",
              "      <th>Condition (Accidents)</th>\n",
              "      <th>Options Level</th>\n",
              "      <th>Bed Length</th>\n",
              "      <th>Price</th>\n",
              "    </tr>\n",
              "  </thead>\n",
              "  <tbody>\n",
              "    <tr>\n",
              "      <th>0</th>\n",
              "      <td>Ford</td>\n",
              "      <td>Focus</td>\n",
              "      <td>2014.0</td>\n",
              "      <td>35,795</td>\n",
              "      <td>Automatic</td>\n",
              "      <td>2.0L Inline-4 Gas</td>\n",
              "      <td>NaN</td>\n",
              "      <td>Charcoal Black</td>\n",
              "      <td>26 cty / 36 hwy</td>\n",
              "      <td>Gas</td>\n",
              "      <td>FWD</td>\n",
              "      <td>Tacoma</td>\n",
              "      <td>WA</td>\n",
              "      <td>SE Hatchback</td>\n",
              "      <td>2 reported accidents</td>\n",
              "      <td>Standard</td>\n",
              "      <td>NaN</td>\n",
              "      <td>7,999</td>\n",
              "    </tr>\n",
              "    <tr>\n",
              "      <th>1</th>\n",
              "      <td>Ford</td>\n",
              "      <td>F-150</td>\n",
              "      <td>2015.0</td>\n",
              "      <td>128,146</td>\n",
              "      <td>Automatic</td>\n",
              "      <td>2.7L V-6 Gas Turbocharged</td>\n",
              "      <td>Unknown</td>\n",
              "      <td>Medium Earth Gray</td>\n",
              "      <td>19 cty / 26 hwy</td>\n",
              "      <td>Gas</td>\n",
              "      <td>RWD</td>\n",
              "      <td>Waxahachie</td>\n",
              "      <td>TX</td>\n",
              "      <td>XL SuperCrew 6.5\\' Box RWD</td>\n",
              "      <td>0 reported accidents</td>\n",
              "      <td>NaN</td>\n",
              "      <td>Standard Bed</td>\n",
              "      <td>15,991</td>\n",
              "    </tr>\n",
              "    <tr>\n",
              "      <th>2</th>\n",
              "      <td>Mercedes-Benz</td>\n",
              "      <td>E-Class</td>\n",
              "      <td>2004.0</td>\n",
              "      <td>135,000</td>\n",
              "      <td>Automatic</td>\n",
              "      <td>5.0L V-8 Gas</td>\n",
              "      <td>Black</td>\n",
              "      <td>Beige</td>\n",
              "      <td>16 cty / 22 hwy</td>\n",
              "      <td>Gas</td>\n",
              "      <td>AWD</td>\n",
              "      <td>Covina</td>\n",
              "      <td>CA</td>\n",
              "      <td>E 500 4MATIC Wagon</td>\n",
              "      <td>0 reported accidents</td>\n",
              "      <td>Standard</td>\n",
              "      <td>NaN</td>\n",
              "      <td>5,950</td>\n",
              "    </tr>\n",
              "    <tr>\n",
              "      <th>3</th>\n",
              "      <td>Hyundai</td>\n",
              "      <td>Elantra</td>\n",
              "      <td>2011.0</td>\n",
              "      <td>135,670</td>\n",
              "      <td>Automatic</td>\n",
              "      <td>1.8L Inline-4 Gas</td>\n",
              "      <td>NaN</td>\n",
              "      <td>Gray</td>\n",
              "      <td>28 cty / 38 hwy</td>\n",
              "      <td>Gas</td>\n",
              "      <td>FWD</td>\n",
              "      <td>Miami</td>\n",
              "      <td>FL</td>\n",
              "      <td>NaN</td>\n",
              "      <td>0 reported accidents</td>\n",
              "      <td>Standard</td>\n",
              "      <td>NaN</td>\n",
              "      <td>3,999</td>\n",
              "    </tr>\n",
              "    <tr>\n",
              "      <th>4</th>\n",
              "      <td>Toyota</td>\n",
              "      <td>Prius</td>\n",
              "      <td>2012.0</td>\n",
              "      <td>152,543</td>\n",
              "      <td>Automatic</td>\n",
              "      <td>1.8L Inline-4 Hybrid</td>\n",
              "      <td>White</td>\n",
              "      <td>Biege</td>\n",
              "      <td>51 cty / 48 hwy</td>\n",
              "      <td>Hybrid</td>\n",
              "      <td>FWD</td>\n",
              "      <td>Byhalia</td>\n",
              "      <td>MS</td>\n",
              "      <td>Five</td>\n",
              "      <td>1 reported accidents</td>\n",
              "      <td>Standard</td>\n",
              "      <td>NaN</td>\n",
              "      <td>6,500</td>\n",
              "    </tr>\n",
              "  </tbody>\n",
              "</table>\n",
              "</div>"
            ],
            "text/plain": [
              "            Make    Model    Year  ... Options Level    Bed Length   Price\n",
              "0           Ford    Focus  2014.0  ...      Standard           NaN   7,999\n",
              "1           Ford    F-150  2015.0  ...           NaN  Standard Bed  15,991\n",
              "2  Mercedes-Benz  E-Class  2004.0  ...      Standard           NaN   5,950\n",
              "3        Hyundai  Elantra  2011.0  ...      Standard           NaN   3,999\n",
              "4         Toyota    Prius  2012.0  ...      Standard           NaN   6,500\n",
              "\n",
              "[5 rows x 18 columns]"
            ]
          },
          "metadata": {
            "tags": []
          },
          "execution_count": 89
        }
      ]
    },
    {
      "cell_type": "markdown",
      "metadata": {
        "id": "Aq4K5y970A-3"
      },
      "source": [
        "## Exploratory Data Analysis"
      ]
    },
    {
      "cell_type": "code",
      "metadata": {
        "id": "Kz9_3dKhYaJ4"
      },
      "source": [
        "pandas_profiling.ProfileReport(vehicles_dataset)"
      ],
      "execution_count": null,
      "outputs": []
    },
    {
      "cell_type": "code",
      "metadata": {
        "id": "Cv1p17xX0A-7"
      },
      "source": [
        "vehicles_dataset['Year'] = vehicles_dataset['Year'].astype('object')"
      ],
      "execution_count": 91,
      "outputs": []
    },
    {
      "cell_type": "code",
      "metadata": {
        "id": "alWSu2w00A_F",
        "outputId": "15c44918-1b8c-4a78-acaf-de5fb1f67e09",
        "colab": {
          "base_uri": "https://localhost:8080/",
          "height": 666
        }
      },
      "source": [
        "print(vehicles_dataset.info())\n",
        "vehicles_dataset.describe()"
      ],
      "execution_count": 92,
      "outputs": [
        {
          "output_type": "stream",
          "text": [
            "<class 'pandas.core.frame.DataFrame'>\n",
            "RangeIndex: 16920 entries, 0 to 16919\n",
            "Data columns (total 18 columns):\n",
            " #   Column                 Non-Null Count  Dtype \n",
            "---  ------                 --------------  ----- \n",
            " 0   Make                   16024 non-null  object\n",
            " 1   Model                  15997 non-null  object\n",
            " 2   Year                   16098 non-null  object\n",
            " 3   Mileage                16571 non-null  object\n",
            " 4   Transmission           16534 non-null  object\n",
            " 5   Engine                 13375 non-null  object\n",
            " 6   Exterior Color         11080 non-null  object\n",
            " 7   Interior Color         15635 non-null  object\n",
            " 8   MPG                    16553 non-null  object\n",
            " 9   Fuel Type              16584 non-null  object\n",
            " 10  Drive Type             16636 non-null  object\n",
            " 11  Location (City)        16207 non-null  object\n",
            " 12  Location (State)       16172 non-null  object\n",
            " 13  Style                  15173 non-null  object\n",
            " 14  Condition (Accidents)  16139 non-null  object\n",
            " 15  Options Level          14679 non-null  object\n",
            " 16  Bed Length             1279 non-null   object\n",
            " 17  Price                  16004 non-null  object\n",
            "dtypes: object(18)\n",
            "memory usage: 2.3+ MB\n",
            "None\n"
          ],
          "name": "stdout"
        },
        {
          "output_type": "execute_result",
          "data": {
            "text/html": [
              "<div>\n",
              "<style scoped>\n",
              "    .dataframe tbody tr th:only-of-type {\n",
              "        vertical-align: middle;\n",
              "    }\n",
              "\n",
              "    .dataframe tbody tr th {\n",
              "        vertical-align: top;\n",
              "    }\n",
              "\n",
              "    .dataframe thead th {\n",
              "        text-align: right;\n",
              "    }\n",
              "</style>\n",
              "<table border=\"1\" class=\"dataframe\">\n",
              "  <thead>\n",
              "    <tr style=\"text-align: right;\">\n",
              "      <th></th>\n",
              "      <th>Make</th>\n",
              "      <th>Model</th>\n",
              "      <th>Year</th>\n",
              "      <th>Mileage</th>\n",
              "      <th>Transmission</th>\n",
              "      <th>Engine</th>\n",
              "      <th>Exterior Color</th>\n",
              "      <th>Interior Color</th>\n",
              "      <th>MPG</th>\n",
              "      <th>Fuel Type</th>\n",
              "      <th>Drive Type</th>\n",
              "      <th>Location (City)</th>\n",
              "      <th>Location (State)</th>\n",
              "      <th>Style</th>\n",
              "      <th>Condition (Accidents)</th>\n",
              "      <th>Options Level</th>\n",
              "      <th>Bed Length</th>\n",
              "      <th>Price</th>\n",
              "    </tr>\n",
              "  </thead>\n",
              "  <tbody>\n",
              "    <tr>\n",
              "      <th>count</th>\n",
              "      <td>16024</td>\n",
              "      <td>15997</td>\n",
              "      <td>16098.0</td>\n",
              "      <td>16571</td>\n",
              "      <td>16534</td>\n",
              "      <td>13375</td>\n",
              "      <td>11080</td>\n",
              "      <td>15635</td>\n",
              "      <td>16553</td>\n",
              "      <td>16584</td>\n",
              "      <td>16636</td>\n",
              "      <td>16207</td>\n",
              "      <td>16172</td>\n",
              "      <td>15173</td>\n",
              "      <td>16139</td>\n",
              "      <td>14679</td>\n",
              "      <td>1279</td>\n",
              "      <td>16004</td>\n",
              "    </tr>\n",
              "    <tr>\n",
              "      <th>unique</th>\n",
              "      <td>121</td>\n",
              "      <td>615</td>\n",
              "      <td>24.0</td>\n",
              "      <td>6442</td>\n",
              "      <td>2</td>\n",
              "      <td>122</td>\n",
              "      <td>577</td>\n",
              "      <td>325</td>\n",
              "      <td>274</td>\n",
              "      <td>7</td>\n",
              "      <td>5</td>\n",
              "      <td>1311</td>\n",
              "      <td>52</td>\n",
              "      <td>1327</td>\n",
              "      <td>5</td>\n",
              "      <td>4</td>\n",
              "      <td>3</td>\n",
              "      <td>3217</td>\n",
              "    </tr>\n",
              "    <tr>\n",
              "      <th>top</th>\n",
              "      <td>Ford</td>\n",
              "      <td>Sentra</td>\n",
              "      <td>2019.0</td>\n",
              "      <td>29,842</td>\n",
              "      <td>Automatic</td>\n",
              "      <td>2.5L Inline-4 Gas</td>\n",
              "      <td>Black</td>\n",
              "      <td>Black</td>\n",
              "      <td>29 cty / 37 hwy</td>\n",
              "      <td>Gas</td>\n",
              "      <td>FWD</td>\n",
              "      <td>Phoenix</td>\n",
              "      <td>TX</td>\n",
              "      <td>SE FWD</td>\n",
              "      <td>0 reported accidents</td>\n",
              "      <td>Standard</td>\n",
              "      <td>Short Bed</td>\n",
              "      <td>9,995</td>\n",
              "    </tr>\n",
              "    <tr>\n",
              "      <th>freq</th>\n",
              "      <td>2158</td>\n",
              "      <td>563</td>\n",
              "      <td>4272.0</td>\n",
              "      <td>20</td>\n",
              "      <td>16036</td>\n",
              "      <td>2045</td>\n",
              "      <td>821</td>\n",
              "      <td>4577</td>\n",
              "      <td>638</td>\n",
              "      <td>15625</td>\n",
              "      <td>9719</td>\n",
              "      <td>235</td>\n",
              "      <td>1997</td>\n",
              "      <td>444</td>\n",
              "      <td>13441</td>\n",
              "      <td>9801</td>\n",
              "      <td>603</td>\n",
              "      <td>119</td>\n",
              "    </tr>\n",
              "  </tbody>\n",
              "</table>\n",
              "</div>"
            ],
            "text/plain": [
              "         Make   Model     Year  ... Options Level Bed Length  Price\n",
              "count   16024   15997  16098.0  ...         14679       1279  16004\n",
              "unique    121     615     24.0  ...             4          3   3217\n",
              "top      Ford  Sentra   2019.0  ...      Standard  Short Bed  9,995\n",
              "freq     2158     563   4272.0  ...          9801        603    119\n",
              "\n",
              "[4 rows x 18 columns]"
            ]
          },
          "metadata": {
            "tags": []
          },
          "execution_count": 92
        }
      ]
    },
    {
      "cell_type": "markdown",
      "metadata": {
        "id": "1DQRbAuMpqBo"
      },
      "source": [
        "Or..."
      ]
    },
    {
      "cell_type": "code",
      "metadata": {
        "id": "-lCmC8Wz0A_L",
        "outputId": "18804bf3-5150-4a8c-c4e2-7a55c58616f9",
        "colab": {
          "base_uri": "https://localhost:8080/"
        }
      },
      "source": [
        "vehicles_dataset.dtypes"
      ],
      "execution_count": 93,
      "outputs": [
        {
          "output_type": "execute_result",
          "data": {
            "text/plain": [
              "Make                     object\n",
              "Model                    object\n",
              "Year                     object\n",
              "Mileage                  object\n",
              "Transmission             object\n",
              "Engine                   object\n",
              "Exterior Color           object\n",
              "Interior Color           object\n",
              "MPG                      object\n",
              "Fuel Type                object\n",
              "Drive Type               object\n",
              "Location (City)          object\n",
              "Location (State)         object\n",
              "Style                    object\n",
              "Condition (Accidents)    object\n",
              "Options Level            object\n",
              "Bed Length               object\n",
              "Price                    object\n",
              "dtype: object"
            ]
          },
          "metadata": {
            "tags": []
          },
          "execution_count": 93
        }
      ]
    },
    {
      "cell_type": "code",
      "metadata": {
        "id": "sqTzfHZa0A_X",
        "outputId": "f482292c-bedf-4d36-9a72-12c69776cee7",
        "colab": {
          "base_uri": "https://localhost:8080/"
        }
      },
      "source": [
        "vehicles_dataset.isnull().sum(axis=0)"
      ],
      "execution_count": 94,
      "outputs": [
        {
          "output_type": "execute_result",
          "data": {
            "text/plain": [
              "Make                       896\n",
              "Model                      923\n",
              "Year                       822\n",
              "Mileage                    349\n",
              "Transmission               386\n",
              "Engine                    3545\n",
              "Exterior Color            5840\n",
              "Interior Color            1285\n",
              "MPG                        367\n",
              "Fuel Type                  336\n",
              "Drive Type                 284\n",
              "Location (City)            713\n",
              "Location (State)           748\n",
              "Style                     1747\n",
              "Condition (Accidents)      781\n",
              "Options Level             2241\n",
              "Bed Length               15641\n",
              "Price                      916\n",
              "dtype: int64"
            ]
          },
          "metadata": {
            "tags": []
          },
          "execution_count": 94
        }
      ]
    },
    {
      "cell_type": "code",
      "metadata": {
        "id": "RBr1ksGL0A_g",
        "outputId": "df43a071-eae3-4398-afab-ceec37395733",
        "colab": {
          "base_uri": "https://localhost:8080/"
        }
      },
      "source": [
        "#the following is an array with columns sorted by nulls count within them.\n",
        "columns_by_nulls = vehicles_dataset.isnull().sum().sort_values(ascending=True)\n",
        "print(columns_by_nulls)\n",
        "sorted_columns = columns_by_nulls.index.to_numpy()\n",
        "sorted_columns"
      ],
      "execution_count": 95,
      "outputs": [
        {
          "output_type": "stream",
          "text": [
            "Drive Type                 284\n",
            "Fuel Type                  336\n",
            "Mileage                    349\n",
            "MPG                        367\n",
            "Transmission               386\n",
            "Location (City)            713\n",
            "Location (State)           748\n",
            "Condition (Accidents)      781\n",
            "Year                       822\n",
            "Make                       896\n",
            "Price                      916\n",
            "Model                      923\n",
            "Interior Color            1285\n",
            "Style                     1747\n",
            "Options Level             2241\n",
            "Engine                    3545\n",
            "Exterior Color            5840\n",
            "Bed Length               15641\n",
            "dtype: int64\n"
          ],
          "name": "stdout"
        },
        {
          "output_type": "execute_result",
          "data": {
            "text/plain": [
              "array(['Drive Type', 'Fuel Type', 'Mileage', 'MPG', 'Transmission',\n",
              "       'Location (City)', 'Location (State)', 'Condition (Accidents)',\n",
              "       'Year', 'Make', 'Price', 'Model', 'Interior Color', 'Style',\n",
              "       'Options Level', 'Engine', 'Exterior Color', 'Bed Length'],\n",
              "      dtype=object)"
            ]
          },
          "metadata": {
            "tags": []
          },
          "execution_count": 95
        }
      ]
    },
    {
      "cell_type": "markdown",
      "metadata": {
        "id": "D4iXLDK40A_p"
      },
      "source": [
        "This high quantity of allegedly null values is due to lack of information when inputting specifications in each car listing from its owner or merchant.\n",
        "Some of them will be dropped but most of them will be labeled as another data category."
      ]
    },
    {
      "cell_type": "code",
      "metadata": {
        "id": "Sgaba2lM0A_q",
        "outputId": "aa51fa65-5b60-4060-fc7e-56ce583552af",
        "colab": {
          "base_uri": "https://localhost:8080/"
        }
      },
      "source": [
        "vehicles_dataset.dropna(subset=['Make', 'Model'], inplace=True)\n",
        "sorted_columns = np.setdiff1d(sorted_columns, np.array(['Make', 'Model']), assume_unique=True)\n",
        "vehicles_dataset.shape"
      ],
      "execution_count": 96,
      "outputs": [
        {
          "output_type": "execute_result",
          "data": {
            "text/plain": [
              "(15983, 18)"
            ]
          },
          "metadata": {
            "tags": []
          },
          "execution_count": 96
        }
      ]
    },
    {
      "cell_type": "markdown",
      "metadata": {
        "id": "GsMj9NOI0A_x"
      },
      "source": [
        "Make and model are too important to have as an specific information for each row, so the ones were Make and Model are missing were dropped."
      ]
    },
    {
      "cell_type": "code",
      "metadata": {
        "id": "nipbL1mXfu_Y",
        "outputId": "d3cf34b7-2835-461b-d650-6858a7cccf43",
        "colab": {
          "base_uri": "https://localhost:8080/",
          "height": 35
        }
      },
      "source": [
        "sorted_columns[0]"
      ],
      "execution_count": 97,
      "outputs": [
        {
          "output_type": "execute_result",
          "data": {
            "application/vnd.google.colaboratory.intrinsic+json": {
              "type": "string"
            },
            "text/plain": [
              "'Drive Type'"
            ]
          },
          "metadata": {
            "tags": []
          },
          "execution_count": 97
        }
      ]
    },
    {
      "cell_type": "markdown",
      "metadata": {
        "id": "RyTNuomG0A_z"
      },
      "source": [
        "Now, 'Drive Type' will be analyzed."
      ]
    },
    {
      "cell_type": "code",
      "metadata": {
        "id": "r94HnVtP0A_0",
        "outputId": "520a4175-966d-4150-dd18-b8f66bdf9bf4",
        "colab": {
          "base_uri": "https://localhost:8080/"
        }
      },
      "source": [
        "vehicles_dataset['Drive Type'].value_counts()"
      ],
      "execution_count": 98,
      "outputs": [
        {
          "output_type": "execute_result",
          "data": {
            "text/plain": [
              "FWD        9347\n",
              "AWD        2648\n",
              "4WD        2144\n",
              "RWD        1813\n",
              "Unknown       8\n",
              "Name: Drive Type, dtype: int64"
            ]
          },
          "metadata": {
            "tags": []
          },
          "execution_count": 98
        }
      ]
    },
    {
      "cell_type": "code",
      "metadata": {
        "id": "__qpHH1_0A_4",
        "outputId": "8d04320f-c7fd-4111-98d7-3c43f6b828af",
        "colab": {
          "base_uri": "https://localhost:8080/"
        }
      },
      "source": [
        "vehicles_dataset['Drive Type'].isnull().sum()"
      ],
      "execution_count": 99,
      "outputs": [
        {
          "output_type": "execute_result",
          "data": {
            "text/plain": [
              "23"
            ]
          },
          "metadata": {
            "tags": []
          },
          "execution_count": 99
        }
      ]
    },
    {
      "cell_type": "markdown",
      "metadata": {
        "id": "Fuorlg7S0A_8"
      },
      "source": [
        "This variable has just 23 null values. In addition to that there is one category called 'Unknown', which has only 8 occurrences.\n",
        "The rows presenting these values are going to be eliminated."
      ]
    },
    {
      "cell_type": "code",
      "metadata": {
        "id": "t8jR_6xg0A_9"
      },
      "source": [
        "vehicles_dataset[\"Drive Type\"] = vehicles_dataset[\"Drive Type\"].apply(\n",
        "    lambda dt: (dt, np.NaN)[dt == 'Unknown'])\n",
        "vehicles_dataset.dropna(subset=[\"Drive Type\"], inplace=True)"
      ],
      "execution_count": 100,
      "outputs": []
    },
    {
      "cell_type": "code",
      "metadata": {
        "id": "6M-amnnl0BAA",
        "outputId": "42e9788d-1b74-4cb5-c66a-b8ec388b41b8",
        "colab": {
          "base_uri": "https://localhost:8080/"
        }
      },
      "source": [
        "# Function to display next feature to analyze and edited\n",
        "# dataframe shape, after being done with previous one\n",
        "def display_next_feature(n=1):\n",
        "  global sorted_columns\n",
        "  sorted_columns = sorted_columns[n:]\n",
        "  return print(sorted_columns[0], \"\\n\", vehicles_dataset.shape)\n",
        "               \n",
        "  \n",
        "display_next_feature()"
      ],
      "execution_count": 101,
      "outputs": [
        {
          "output_type": "stream",
          "text": [
            "Fuel Type \n",
            " (15952, 18)\n"
          ],
          "name": "stdout"
        }
      ]
    },
    {
      "cell_type": "markdown",
      "metadata": {
        "id": "z1_70Cft0BAH"
      },
      "source": [
        "The next variable with the least amount of null values is 'Fuel Type'."
      ]
    },
    {
      "cell_type": "code",
      "metadata": {
        "id": "uYCx3vGq0BAI",
        "outputId": "93164fc5-5c0b-409d-98d5-fadf096c286b",
        "colab": {
          "base_uri": "https://localhost:8080/"
        }
      },
      "source": [
        "print(vehicles_dataset['Fuel Type'].value_counts())\n",
        "vehicles_dataset['Fuel Type'].isnull().sum()"
      ],
      "execution_count": 102,
      "outputs": [
        {
          "output_type": "stream",
          "text": [
            "Gas         14999\n",
            "Hybrid        482\n",
            "Diesel        266\n",
            "Plug-In        99\n",
            "Electric       64\n",
            "Hydrogen        3\n",
            "CNG             2\n",
            "Name: Fuel Type, dtype: int64\n"
          ],
          "name": "stdout"
        },
        {
          "output_type": "execute_result",
          "data": {
            "text/plain": [
              "37"
            ]
          },
          "metadata": {
            "tags": []
          },
          "execution_count": 102
        }
      ]
    },
    {
      "cell_type": "markdown",
      "metadata": {
        "id": "5mQ4iDi1kCxf"
      },
      "source": [
        "'CNG' and 'Hydrogen will be dismissed, they have but 5 presences. "
      ]
    },
    {
      "cell_type": "code",
      "metadata": {
        "id": "CUNzcEk60BAN"
      },
      "source": [
        "vehicles_dataset['Fuel Type'] = vehicles_dataset['Fuel Type'].apply(\n",
        "    lambda ft: (ft, np.NaN)[ft in ['Hydrogen', 'CNG']])\n",
        "vehicles_dataset.dropna(subset=['Fuel Type'], inplace=True)"
      ],
      "execution_count": 103,
      "outputs": []
    },
    {
      "cell_type": "code",
      "metadata": {
        "id": "MAjFHKS6lQ2P",
        "outputId": "7594c8ca-a82c-4208-906d-ce0a090485ce",
        "colab": {
          "base_uri": "https://localhost:8080/"
        }
      },
      "source": [
        "display_next_feature()"
      ],
      "execution_count": 104,
      "outputs": [
        {
          "output_type": "stream",
          "text": [
            "Mileage \n",
            " (15910, 18)\n"
          ],
          "name": "stdout"
        }
      ]
    },
    {
      "cell_type": "markdown",
      "metadata": {
        "id": "onSZKetV0BAg"
      },
      "source": [
        "'Mileage' column comes on."
      ]
    },
    {
      "cell_type": "code",
      "metadata": {
        "id": "7235BNWF0BAi",
        "outputId": "259e3aaf-2bfa-4b4a-8e51-5ef1f0a7f570",
        "colab": {
          "base_uri": "https://localhost:8080/"
        }
      },
      "source": [
        "print(vehicles_dataset['Mileage'].value_counts())\n",
        "vehicles_dataset['Mileage'].isnull().sum()"
      ],
      "execution_count": 105,
      "outputs": [
        {
          "output_type": "stream",
          "text": [
            "29,842     20\n",
            "148,040    19\n",
            "152,997    18\n",
            "51,821     16\n",
            "92,897     15\n",
            "           ..\n",
            "25,062      1\n",
            "158,423     1\n",
            "86,239      1\n",
            "95,187      1\n",
            "83,954      1\n",
            "Name: Mileage, Length: 6271, dtype: int64\n"
          ],
          "name": "stdout"
        },
        {
          "output_type": "execute_result",
          "data": {
            "text/plain": [
              "12"
            ]
          },
          "metadata": {
            "tags": []
          },
          "execution_count": 105
        }
      ]
    },
    {
      "cell_type": "code",
      "metadata": {
        "id": "j3xjLwgu0BAq"
      },
      "source": [
        "#sorted(list(map(lambda m: str(m), vehicles_dataset['Mileage'].unique())), reverse=True)"
      ],
      "execution_count": null,
      "outputs": []
    },
    {
      "cell_type": "code",
      "metadata": {
        "id": "gd8GEeYD0BAu"
      },
      "source": [
        "vehicles_dataset.dropna(subset=['Mileage'], inplace=True)"
      ],
      "execution_count": 106,
      "outputs": []
    },
    {
      "cell_type": "code",
      "metadata": {
        "id": "yZpxc7M8ztYN"
      },
      "source": [
        "vehicles_dataset['Mileage'] = vehicles_dataset['Mileage'].apply(\n",
        "    lambda m: m.replace(',', ''))\n",
        "vehicles_dataset['Mileage'] = vehicles_dataset['Mileage'].astype('int64')"
      ],
      "execution_count": 107,
      "outputs": []
    },
    {
      "cell_type": "code",
      "metadata": {
        "id": "QaPl2RxW6inI",
        "outputId": "1ccf14a7-d2c1-47df-bd97-3bcf07e4283f",
        "colab": {
          "base_uri": "https://localhost:8080/"
        }
      },
      "source": [
        "mileage_median = np.median(vehicles_dataset['Mileage'])\n",
        "print(\"Median of 'Mileage' data is\", mileage_median)\n",
        "scipy.stats.describe(vehicles_dataset['Mileage'])"
      ],
      "execution_count": 108,
      "outputs": [
        {
          "output_type": "stream",
          "text": [
            "Median of 'Mileage' data is 40044.0\n"
          ],
          "name": "stdout"
        },
        {
          "output_type": "execute_result",
          "data": {
            "text/plain": [
              "DescribeResult(nobs=15898, minmax=(5, 428197), mean=58815.70228959618, variance=2178329907.811407, skewness=1.375201333977781, kurtosis=1.9200097611263107)"
            ]
          },
          "metadata": {
            "tags": []
          },
          "execution_count": 108
        }
      ]
    },
    {
      "cell_type": "code",
      "metadata": {
        "id": "ORi2_Pe9HJpR",
        "outputId": "816f2cf2-7186-47cf-9ef7-47df1043ef96",
        "colab": {
          "base_uri": "https://localhost:8080/",
          "height": 525
        }
      },
      "source": [
        "ax = sns.scatterplot(x=vehicles_dataset['Mileage'].value_counts(), \n",
        "                     y=vehicles_dataset['Mileage'], data=vehicles_dataset)\n",
        "ax.set_xlabel('Occurrences')"
      ],
      "execution_count": 109,
      "outputs": [
        {
          "output_type": "execute_result",
          "data": {
            "text/plain": [
              "Text(0.5, 0, 'Occurrences')"
            ]
          },
          "metadata": {
            "tags": []
          },
          "execution_count": 109
        },
        {
          "output_type": "display_data",
          "data": {
            "image/png": "[encoded data removed]",
            "text/plain": [
              "<Figure size 800x550 with 1 Axes>"
            ]
          },
          "metadata": {
            "tags": []
          }
        }
      ]
    },
    {
      "cell_type": "code",
      "metadata": {
        "id": "tMFGKEw66hwB",
        "outputId": "23f7d9ef-1203-4e2f-8a4d-86c0ff947623",
        "colab": {
          "base_uri": "https://localhost:8080/",
          "height": 1000
        }
      },
      "source": [
        "fig, (ax_box, ax_hist) = plt.subplots(2, sharex=True, figsize=(14, 10))\n",
        "fig.suptitle('Mileage distribution')\n",
        "sns.boxplot(orient='h', data=vehicles_dataset['Mileage'], ax=ax_box)\n",
        "sns.distplot(vehicles_dataset['Mileage'], ax=ax_hist)"
      ],
      "execution_count": 110,
      "outputs": [
        {
          "output_type": "stream",
          "text": [
            "/usr/local/lib/python3.6/dist-packages/seaborn/distributions.py:2551: FutureWarning: `distplot` is a deprecated function and will be removed in a future version. Please adapt your code to use either `displot` (a figure-level function with similar flexibility) or `histplot` (an axes-level function for histograms).\n",
            "  warnings.warn(msg, FutureWarning)\n"
          ],
          "name": "stderr"
        },
        {
          "output_type": "execute_result",
          "data": {
            "text/plain": [
              "<matplotlib.axes._subplots.AxesSubplot at 0x7f744ca93908>"
            ]
          },
          "metadata": {
            "tags": []
          },
          "execution_count": 110
        },
        {
          "output_type": "display_data",
          "data": {
            "image/png": "[encoded data removed]",
            "text/plain": [
              "<Figure size 1400x1000 with 2 Axes>"
            ]
          },
          "metadata": {
            "tags": []
          }
        }
      ]
    },
    {
      "cell_type": "markdown",
      "metadata": {
        "id": "LtOsAON2TcX1"
      },
      "source": [
        "It ts clear that many outliers are present here. They are to be dealt with by using 1.5 x Interquartile Range Rule and Z Score measurements."
      ]
    },
    {
      "cell_type": "code",
      "metadata": {
        "id": "ooyV_7EKPgLV",
        "outputId": "93fa4651-229a-4999-a038-129877911963",
        "colab": {
          "base_uri": "https://localhost:8080/"
        }
      },
      "source": [
        "#absolute value of z-score for every mileage\n",
        "mileage_std = np.std(vehicles_dataset['Mileage'])\n",
        "print(\"Threshold is to be\", 3*mileage_std)\n",
        "z_score = np.abs(scipy.stats.zscore(vehicles_dataset['Mileage']))\n",
        "z_score"
      ],
      "execution_count": 111,
      "outputs": [
        {
          "output_type": "stream",
          "text": [
            "Threshold is to be 140013.34221515374\n"
          ],
          "name": "stdout"
        },
        {
          "output_type": "execute_result",
          "data": {
            "text/plain": [
              "array([0.49325376, 1.48550767, 1.6323651 , ..., 0.6199274 , 0.25316949,\n",
              "       1.08355464])"
            ]
          },
          "metadata": {
            "tags": []
          },
          "execution_count": 111
        }
      ]
    },
    {
      "cell_type": "code",
      "metadata": {
        "id": "WqhVbxZcxmNa"
      },
      "source": [
        "#Quartiles and IQR definition\n",
        "mileage_iqr = scipy.stats.iqr(vehicles_dataset['Mileage'])\n",
        "#mileage_iqr = vehicles_dataset['Mileage'].apply(scipy.stats.iqr)\n",
        "mileage_quartile1 = np.percentile(vehicles_dataset['Mileage'], 25)\n",
        "mileage_quartile3 = np.percentile(vehicles_dataset['Mileage'], 75)"
      ],
      "execution_count": 112,
      "outputs": []
    },
    {
      "cell_type": "markdown",
      "metadata": {
        "id": "VOgdsnlmdym0"
      },
      "source": [
        "Z-Score filtering applied by comparing their value with each mileage score, keeping the rows within the +-3 standard deviation range."
      ]
    },
    {
      "cell_type": "code",
      "metadata": {
        "id": "qOAwly_1XhoK",
        "outputId": "508578b0-4ffc-4036-ca4b-ca5e85a7ac01",
        "colab": {
          "base_uri": "https://localhost:8080/"
        }
      },
      "source": [
        "#z-score filtered dataframe\n",
        "z_score_outliers_n = vehicles_dataset.shape[0] - len(vehicles_dataset[z_score <= 3]['Mileage'])\n",
        "vehicles_dataset = vehicles_dataset[z_score <= 3]\n",
        "print(\"New number of rows:\", vehicles_dataset.shape[0])\n",
        "vehicles_dataset['Mileage'].value_counts()"
      ],
      "execution_count": 113,
      "outputs": [
        {
          "output_type": "stream",
          "text": [
            "New number of rows: 15705\n"
          ],
          "name": "stdout"
        },
        {
          "output_type": "execute_result",
          "data": {
            "text/plain": [
              "29842     20\n",
              "148040    19\n",
              "152997    18\n",
              "51821     16\n",
              "94500     15\n",
              "          ..\n",
              "32444      1\n",
              "120497     1\n",
              "114348     1\n",
              "51822      1\n",
              "38909      1\n",
              "Name: Mileage, Length: 6173, dtype: int64"
            ]
          },
          "metadata": {
            "tags": []
          },
          "execution_count": 113
        }
      ]
    },
    {
      "cell_type": "code",
      "metadata": {
        "id": "b84j68NGaY8U",
        "outputId": "fe43893f-1b68-49f1-8aac-f02b38c79338",
        "colab": {
          "base_uri": "https://localhost:8080/"
        }
      },
      "source": [
        "print(\"So,\", z_score_outliers_n, \n",
        "      \"fields have been declared as outliers, thereby left away.\")\n",
        "max_mileage = vehicles_dataset['Mileage'].max()"
      ],
      "execution_count": 114,
      "outputs": [
        {
          "output_type": "stream",
          "text": [
            "So, 193 fields have been declared as outliers, thereby left away.\n"
          ],
          "name": "stdout"
        }
      ]
    },
    {
      "cell_type": "code",
      "metadata": {
        "id": "uX5kHZG1mVZw",
        "outputId": "4ffd5843-8e4a-478e-bf3d-c5d2fc0a914e",
        "colab": {
          "base_uri": "https://localhost:8080/",
          "height": 52
        }
      },
      "source": [
        "'''sorted(list(vehicles_dataset[\n",
        "  ((vehicles_dataset['Mileage'] > (mileage_quartile1 - 1.5 * mileage_iqr)) & (\n",
        "      vehicles_dataset['Mileage'] < (mileage_quartile3 + 1.5 * mileage_iqr)))]['Mileage'].unique()), reverse=True)'''"
      ],
      "execution_count": 115,
      "outputs": [
        {
          "output_type": "execute_result",
          "data": {
            "application/vnd.google.colaboratory.intrinsic+json": {
              "type": "string"
            },
            "text/plain": [
              "\"sorted(list(vehicles_dataset[\\n  ((vehicles_dataset['Mileage'] > (mileage_quartile1 - 1.5 * mileage_iqr)) & (\\n      vehicles_dataset['Mileage'] < (mileage_quartile3 + 1.5 * mileage_iqr)))]['Mileage'].unique()), reverse=True)\""
            ]
          },
          "metadata": {
            "tags": []
          },
          "execution_count": 115
        }
      ]
    },
    {
      "cell_type": "markdown",
      "metadata": {
        "id": "BRUNBcLztmta"
      },
      "source": [
        "Interquartile Range usage for restricting the array values spread."
      ]
    },
    {
      "cell_type": "code",
      "metadata": {
        "id": "d_0lahRUcGZF",
        "outputId": "5cf56b75-06d6-43da-9d1c-d48e98613963",
        "colab": {
          "base_uri": "https://localhost:8080/"
        }
      },
      "source": [
        "#Dataset taking away outliers according to 1.5 times the interquartile range.\n",
        "IQRx1p5_df = vehicles_dataset[(vehicles_dataset['Mileage'] > mileage_quartile1 - 1.5 * mileage_iqr) & (\n",
        "      vehicles_dataset['Mileage'] < mileage_quartile3 + 1.5 * mileage_iqr)]\n",
        "IQRx1p5_rows_n = len(vehicles_dataset['Mileage']) - len(IQRx1p5_df['Mileage'])\n",
        "print('Current number of rows', len(vehicles_dataset['Mileage']), \n",
        "      \"- number if all rows eliminated for 1.5x IQR\", len(IQRx1p5_df['Mileage']),\n",
        "      \"=\", IQRx1p5_rows_n)"
      ],
      "execution_count": 116,
      "outputs": [
        {
          "output_type": "stream",
          "text": [
            "Current number of rows 15705 - number if all rows eliminated for 1.5x IQR 15454 = 251\n"
          ],
          "name": "stdout"
        }
      ]
    },
    {
      "cell_type": "markdown",
      "metadata": {
        "id": "X--tcCRAtqmO"
      },
      "source": [
        "Due to limiting the values range whisker to 1.5 IQR takes away over 200 more rows (nearly 500 from original dataset, which is a lot to this standard), some of those values will be kept, by representing the median value. "
      ]
    },
    {
      "cell_type": "code",
      "metadata": {
        "id": "xpUhz8hEv5WP",
        "outputId": "f4ee1c6f-3576-4f38-b450-7914c89fe471",
        "colab": {
          "base_uri": "https://localhost:8080/",
          "height": 544
        }
      },
      "source": [
        "fig, (box1, box2) = plt.subplots(ncols=2, sharey=True)\n",
        "fig.suptitle('Mileage data boxplots')\n",
        "sns.boxplot(orient='v', data=vehicles_dataset['Mileage'], ax=box1, whis=1.5)\n",
        "box1.set_title('With whisker = 1.5 (current)')\n",
        "sns.boxplot(orient='v', data=vehicles_dataset['Mileage'], ax=box2, whis=1.75)\n",
        "box2.set_title('With whisker = 1.75 (to use)')\n",
        "plt.show()"
      ],
      "execution_count": 117,
      "outputs": [
        {
          "output_type": "display_data",
          "data": {
            "image/png": "[encoded data removed]",
            "text/plain": [
              "<Figure size 800x550 with 2 Axes>"
            ]
          },
          "metadata": {
            "tags": []
          }
        }
      ]
    },
    {
      "cell_type": "code",
      "metadata": {
        "id": "zObGCCqqv56W",
        "outputId": "7e95c760-e850-4c45-e090-50ea4804b1ba",
        "colab": {
          "base_uri": "https://localhost:8080/"
        }
      },
      "source": [
        "#Dataset taking away outliers accoirding to 1.75 times the interquartile range\n",
        "IQRx1p75_df = vehicles_dataset[(vehicles_dataset['Mileage'] > mileage_quartile1 - 1.75 * mileage_iqr) & (\n",
        "      vehicles_dataset['Mileage'] < mileage_quartile3 + 1.75 * mileage_iqr)]\n",
        "IQRx1p75_rows_n = len(vehicles_dataset['Mileage']) - len(IQRx1p75_df['Mileage'])\n",
        "print(\"Current number of rows \", len(vehicles_dataset['Mileage']), \n",
        "      \" - number if all rows eliminated for 1.75x IQR \", len(IQRx1p75_df['Mileage']),\n",
        "      \" = \", IQRx1p75_rows_n, \".\", sep=\"\")\n",
        "print(\"And the rest: \", IQRx1p5_rows_n - IQRx1p75_rows_n, \".\", sep=\"\")"
      ],
      "execution_count": 118,
      "outputs": [
        {
          "output_type": "stream",
          "text": [
            "Current number of rows 15705 - number if all rows eliminated for 1.75x IQR 15635 = 70.\n",
            "And the rest: 181.\n"
          ],
          "name": "stdout"
        }
      ]
    },
    {
      "cell_type": "markdown",
      "metadata": {
        "id": "RqF_O2NV-CdE"
      },
      "source": [
        "Now, these 70 rows will be dropped and the rest of outliers (181) are to storage the mileage median value."
      ]
    },
    {
      "cell_type": "code",
      "metadata": {
        "id": "8znKPQPXv6IJ",
        "outputId": "de4bbb6e-bc43-4a70-a4fc-431ba730e6af",
        "colab": {
          "base_uri": "https://localhost:8080/"
        }
      },
      "source": [
        "vehicles_dataset = IQRx1p75_df\n",
        "#Given that there are no low outliers, we can determine what outliers value to replace by comparing with the new max mileage value\n",
        "vehicles_dataset['Mileage'].where(vehicles_dataset['Mileage'] <= IQRx1p5_df['Mileage'].max(), other=mileage_median)"
      ],
      "execution_count": 119,
      "outputs": [
        {
          "output_type": "execute_result",
          "data": {
            "text/plain": [
              "0         35795\n",
              "1        128146\n",
              "2        135000\n",
              "3        135670\n",
              "4        152543\n",
              "          ...  \n",
              "16915     84730\n",
              "16916     18200\n",
              "16917     29883\n",
              "16918     47000\n",
              "16919      8245\n",
              "Name: Mileage, Length: 15635, dtype: int64"
            ]
          },
          "metadata": {
            "tags": []
          },
          "execution_count": 119
        }
      ]
    },
    {
      "cell_type": "code",
      "metadata": {
        "id": "CcRXH9BNANtV",
        "outputId": "c4ce0f25-4fd3-4881-8876-8da8395028e7",
        "colab": {
          "base_uri": "https://localhost:8080/"
        }
      },
      "source": [
        "display_next_feature()"
      ],
      "execution_count": 120,
      "outputs": [
        {
          "output_type": "stream",
          "text": [
            "MPG \n",
            " (15635, 18)\n"
          ],
          "name": "stdout"
        }
      ]
    },
    {
      "cell_type": "markdown",
      "metadata": {
        "id": "XcmrVXN40BBH"
      },
      "source": [
        "Following into the variables list with the least null values, 'MPG' comes up."
      ]
    },
    {
      "cell_type": "code",
      "metadata": {
        "scrolled": true,
        "id": "gn9wXFkz0BBI",
        "outputId": "01310519-5e38-4924-eae3-c7ec12cbb787",
        "colab": {
          "base_uri": "https://localhost:8080/"
        }
      },
      "source": [
        "print(vehicles_dataset['MPG'].value_counts())\n",
        "vehicles_dataset['MPG'].isnull().sum()"
      ],
      "execution_count": 121,
      "outputs": [
        {
          "output_type": "stream",
          "text": [
            "17 cty / 25 hwy      597\n",
            "29 cty / 37 hwy      590\n",
            "N/A cty / N/A hwy    508\n",
            "28 cty / 39 hwy      381\n",
            "26 cty / 33 hwy      364\n",
            "                    ... \n",
            "11 cty / N/A hwy       1\n",
            "25 cty / 26 hwy        1\n",
            "15 cty / 27 hwy        1\n",
            "37 cty / 44 hwy        1\n",
            "33 cty / 41 hwy        1\n",
            "Name: MPG, Length: 269, dtype: int64\n"
          ],
          "name": "stdout"
        },
        {
          "output_type": "execute_result",
          "data": {
            "text/plain": [
              "18"
            ]
          },
          "metadata": {
            "tags": []
          },
          "execution_count": 121
        }
      ]
    },
    {
      "cell_type": "markdown",
      "metadata": {
        "id": "CC7BuLd70BBN"
      },
      "source": [
        "This column has only 18 null values, however, they are also represented as True in 'N/A cty / N/A hwy', as seen down below.\n",
        "Since there are around 500 of these values, they will be categorized as well."
      ]
    },
    {
      "cell_type": "code",
      "metadata": {
        "id": "MpETy51I0BBO",
        "outputId": "f4b63629-e62d-455d-ec1d-31694b915f5c",
        "colab": {
          "base_uri": "https://localhost:8080/"
        }
      },
      "source": [
        "sorted(list(vehicles_dataset.dropna(subset=['MPG'])['MPG'].unique()))"
      ],
      "execution_count": 122,
      "outputs": [
        {
          "output_type": "execute_result",
          "data": {
            "text/plain": [
              "['10 cty / 16 hwy',\n",
              " '10 cty / 17 hwy',\n",
              " '101 cty / 93 hwy',\n",
              " '102 cty / 105 hwy',\n",
              " '104 cty / 91 hwy',\n",
              " '106 cty / 92 hwy',\n",
              " '11 cty / 15 hwy',\n",
              " '11 cty / 16 hwy',\n",
              " '11 cty / 17 hwy',\n",
              " '11 cty / 18 hwy',\n",
              " '11 cty / N/A hwy',\n",
              " '12 cty / 14 hwy',\n",
              " '12 cty / 16 hwy',\n",
              " '12 cty / 17 hwy',\n",
              " '12 cty / 18 hwy',\n",
              " '12 cty / 19 hwy',\n",
              " '120 cty / 112 hwy',\n",
              " '121 cty / 103 hwy',\n",
              " '122 cty / 108 hwy',\n",
              " '122 cty / 93 hwy',\n",
              " '124 cty / 94 hwy',\n",
              " '126 cty / 101 hwy',\n",
              " '126 cty / 105 hwy',\n",
              " '126 cty / 99 hwy',\n",
              " '129 cty / 102 hwy',\n",
              " '13 cty / 16 hwy',\n",
              " '13 cty / 17 hwy',\n",
              " '13 cty / 18 hwy',\n",
              " '13 cty / 19 hwy',\n",
              " '13 cty / 20 hwy',\n",
              " '13 cty / 21 hwy',\n",
              " '13 cty / 22 hwy',\n",
              " '137 cty / 111 hwy',\n",
              " '14 cty / 17 hwy',\n",
              " '14 cty / 18 hwy',\n",
              " '14 cty / 19 hwy',\n",
              " '14 cty / 20 hwy',\n",
              " '14 cty / 21 hwy',\n",
              " '14 cty / 22 hwy',\n",
              " '14 cty / 23 hwy',\n",
              " '14 cty / 24 hwy',\n",
              " '15 cty / 17 hwy',\n",
              " '15 cty / 18 hwy',\n",
              " '15 cty / 19 hwy',\n",
              " '15 cty / 20 hwy',\n",
              " '15 cty / 21 hwy',\n",
              " '15 cty / 22 hwy',\n",
              " '15 cty / 23 hwy',\n",
              " '15 cty / 24 hwy',\n",
              " '15 cty / 25 hwy',\n",
              " '15 cty / 27 hwy',\n",
              " '150 cty / 122 hwy',\n",
              " '16 cty / 18 hwy',\n",
              " '16 cty / 19 hwy',\n",
              " '16 cty / 20 hwy',\n",
              " '16 cty / 21 hwy',\n",
              " '16 cty / 22 hwy',\n",
              " '16 cty / 23 hwy',\n",
              " '16 cty / 24 hwy',\n",
              " '16 cty / 25 hwy',\n",
              " '16 cty / 26 hwy',\n",
              " '17 cty / 20 hwy',\n",
              " '17 cty / 21 hwy',\n",
              " '17 cty / 22 hwy',\n",
              " '17 cty / 23 hwy',\n",
              " '17 cty / 24 hwy',\n",
              " '17 cty / 25 hwy',\n",
              " '17 cty / 26 hwy',\n",
              " '17 cty / 27 hwy',\n",
              " '17 cty / 28 hwy',\n",
              " '17 cty / 29 hwy',\n",
              " '18 cty / 22 hwy',\n",
              " '18 cty / 23 hwy',\n",
              " '18 cty / 24 hwy',\n",
              " '18 cty / 25 hwy',\n",
              " '18 cty / 26 hwy',\n",
              " '18 cty / 27 hwy',\n",
              " '18 cty / 28 hwy',\n",
              " '18 cty / 29 hwy',\n",
              " '18 cty / 30 hwy',\n",
              " '19 cty / 22 hwy',\n",
              " '19 cty / 23 hwy',\n",
              " '19 cty / 24 hwy',\n",
              " '19 cty / 25 hwy',\n",
              " '19 cty / 26 hwy',\n",
              " '19 cty / 27 hwy',\n",
              " '19 cty / 28 hwy',\n",
              " '19 cty / 29 hwy',\n",
              " '19 cty / 30 hwy',\n",
              " '19 cty / 31 hwy',\n",
              " '20 cty / 23 hwy',\n",
              " '20 cty / 24 hwy',\n",
              " '20 cty / 25 hwy',\n",
              " '20 cty / 26 hwy',\n",
              " '20 cty / 27 hwy',\n",
              " '20 cty / 28 hwy',\n",
              " '20 cty / 29 hwy',\n",
              " '20 cty / 30 hwy',\n",
              " '20 cty / 31 hwy',\n",
              " '20 cty / 32 hwy',\n",
              " '20 cty / 34 hwy',\n",
              " '21 cty / 22 hwy',\n",
              " '21 cty / 24 hwy',\n",
              " '21 cty / 25 hwy',\n",
              " '21 cty / 26 hwy',\n",
              " '21 cty / 27 hwy',\n",
              " '21 cty / 28 hwy',\n",
              " '21 cty / 29 hwy',\n",
              " '21 cty / 30 hwy',\n",
              " '21 cty / 31 hwy',\n",
              " '21 cty / 32 hwy',\n",
              " '21 cty / 33 hwy',\n",
              " '21 cty / 34 hwy',\n",
              " '22 cty / 25 hwy',\n",
              " '22 cty / 26 hwy',\n",
              " '22 cty / 27 hwy',\n",
              " '22 cty / 28 hwy',\n",
              " '22 cty / 29 hwy',\n",
              " '22 cty / 30 hwy',\n",
              " '22 cty / 31 hwy',\n",
              " '22 cty / 32 hwy',\n",
              " '22 cty / 33 hwy',\n",
              " '22 cty / 34 hwy',\n",
              " '22 cty / 35 hwy',\n",
              " '23 cty / 27 hwy',\n",
              " '23 cty / 28 hwy',\n",
              " '23 cty / 29 hwy',\n",
              " '23 cty / 30 hwy',\n",
              " '23 cty / 31 hwy',\n",
              " '23 cty / 32 hwy',\n",
              " '23 cty / 33 hwy',\n",
              " '23 cty / 34 hwy',\n",
              " '23 cty / 35 hwy',\n",
              " '23 cty / 36 hwy',\n",
              " '24 cty / 25 hwy',\n",
              " '24 cty / 26 hwy',\n",
              " '24 cty / 27 hwy',\n",
              " '24 cty / 28 hwy',\n",
              " '24 cty / 29 hwy',\n",
              " '24 cty / 30 hwy',\n",
              " '24 cty / 31 hwy',\n",
              " '24 cty / 32 hwy',\n",
              " '24 cty / 33 hwy',\n",
              " '24 cty / 34 hwy',\n",
              " '24 cty / 35 hwy',\n",
              " '24 cty / 36 hwy',\n",
              " '24 cty / 37 hwy',\n",
              " '25 cty / 26 hwy',\n",
              " '25 cty / 28 hwy',\n",
              " '25 cty / 29 hwy',\n",
              " '25 cty / 30 hwy',\n",
              " '25 cty / 31 hwy',\n",
              " '25 cty / 32 hwy',\n",
              " '25 cty / 33 hwy',\n",
              " '25 cty / 34 hwy',\n",
              " '25 cty / 35 hwy',\n",
              " '25 cty / 36 hwy',\n",
              " '25 cty / 37 hwy',\n",
              " '25 cty / 38 hwy',\n",
              " '26 cty / 24 hwy',\n",
              " '26 cty / 29 hwy',\n",
              " '26 cty / 30 hwy',\n",
              " '26 cty / 31 hwy',\n",
              " '26 cty / 32 hwy',\n",
              " '26 cty / 33 hwy',\n",
              " '26 cty / 34 hwy',\n",
              " '26 cty / 35 hwy',\n",
              " '26 cty / 36 hwy',\n",
              " '26 cty / 37 hwy',\n",
              " '26 cty / 38 hwy',\n",
              " '26 cty / 39 hwy',\n",
              " '27 cty / 28 hwy',\n",
              " '27 cty / 29 hwy',\n",
              " '27 cty / 31 hwy',\n",
              " '27 cty / 32 hwy',\n",
              " '27 cty / 33 hwy',\n",
              " '27 cty / 34 hwy',\n",
              " '27 cty / 35 hwy',\n",
              " '27 cty / 36 hwy',\n",
              " '27 cty / 37 hwy',\n",
              " '27 cty / 38 hwy',\n",
              " '27 cty / 39 hwy',\n",
              " '28 cty / 30 hwy',\n",
              " '28 cty / 32 hwy',\n",
              " '28 cty / 33 hwy',\n",
              " '28 cty / 34 hwy',\n",
              " '28 cty / 35 hwy',\n",
              " '28 cty / 36 hwy',\n",
              " '28 cty / 37 hwy',\n",
              " '28 cty / 38 hwy',\n",
              " '28 cty / 39 hwy',\n",
              " '28 cty / 40 hwy',\n",
              " '28 cty / 42 hwy',\n",
              " '29 cty / 27 hwy',\n",
              " '29 cty / 35 hwy',\n",
              " '29 cty / 36 hwy',\n",
              " '29 cty / 37 hwy',\n",
              " '29 cty / 38 hwy',\n",
              " '29 cty / 39 hwy',\n",
              " '29 cty / 40 hwy',\n",
              " '29 cty / 41 hwy',\n",
              " '30 cty / 28 hwy',\n",
              " '30 cty / 36 hwy',\n",
              " '30 cty / 38 hwy',\n",
              " '30 cty / 39 hwy',\n",
              " '30 cty / 40 hwy',\n",
              " '30 cty / 41 hwy',\n",
              " '30 cty / 42 hwy',\n",
              " '31 cty / 27 hwy',\n",
              " '31 cty / 28 hwy',\n",
              " '31 cty / 34 hwy',\n",
              " '31 cty / 36 hwy',\n",
              " '31 cty / 39 hwy',\n",
              " '31 cty / 40 hwy',\n",
              " '31 cty / 41 hwy',\n",
              " '31 cty / 42 hwy',\n",
              " '31 cty / 43 hwy',\n",
              " '31 cty / 45 hwy',\n",
              " '31 cty / 47 hwy',\n",
              " '32 cty / 37 hwy',\n",
              " '32 cty / 38 hwy',\n",
              " '32 cty / 39 hwy',\n",
              " '32 cty / 40 hwy',\n",
              " '32 cty / 41 hwy',\n",
              " '32 cty / 42 hwy',\n",
              " '33 cty / 33 hwy',\n",
              " '33 cty / 40 hwy',\n",
              " '33 cty / 41 hwy',\n",
              " '34 cty / 30 hwy',\n",
              " '34 cty / 39 hwy',\n",
              " '35 cty / 34 hwy',\n",
              " '35 cty / 42 hwy',\n",
              " '36 cty / 40 hwy',\n",
              " '37 cty / 43 hwy',\n",
              " '37 cty / 44 hwy',\n",
              " '40 cty / 37 hwy',\n",
              " '40 cty / 38 hwy',\n",
              " '40 cty / 39 hwy',\n",
              " '41 cty / 36 hwy',\n",
              " '41 cty / 38 hwy',\n",
              " '41 cty / 39 hwy',\n",
              " '41 cty / 44 hwy',\n",
              " '42 cty / 36 hwy',\n",
              " '42 cty / 38 hwy',\n",
              " '43 cty / 39 hwy',\n",
              " '43 cty / 40 hwy',\n",
              " '43 cty / 41 hwy',\n",
              " '43 cty / 44 hwy',\n",
              " '44 cty / 40 hwy',\n",
              " '44 cty / 41 hwy',\n",
              " '44 cty / 44 hwy',\n",
              " '44 cty / 47 hwy',\n",
              " '48 cty / 45 hwy',\n",
              " '49 cty / 43 hwy',\n",
              " '49 cty / 47 hwy',\n",
              " '51 cty / 46 hwy',\n",
              " '51 cty / 48 hwy',\n",
              " '51 cty / 49 hwy',\n",
              " '51 cty / 53 hwy',\n",
              " '54 cty / 50 hwy',\n",
              " '55 cty / 54 hwy',\n",
              " '58 cty / 53 hwy',\n",
              " '60 cty / 51 hwy',\n",
              " '85 cty / 82 hwy',\n",
              " '86 cty / 94 hwy',\n",
              " '94 cty / 97 hwy',\n",
              " '95 cty / 81 hwy',\n",
              " '95 cty / 90 hwy',\n",
              " 'N/A cty / N/A hwy']"
            ]
          },
          "metadata": {
            "tags": []
          },
          "execution_count": 122
        }
      ]
    },
    {
      "cell_type": "code",
      "metadata": {
        "id": "StJqHifA0BBb",
        "outputId": "cefc6291-ea71-49b0-947b-1b20b8de6bfd",
        "colab": {
          "base_uri": "https://localhost:8080/"
        }
      },
      "source": [
        "def MPG_categorize(MPG):\n",
        "    if MPG in ['N/A cty / N/A hwy', np.NaN]:\n",
        "        return 'Another'\n",
        "    else:\n",
        "        cty = int(re.findall('[0-9]+ c', str(MPG))[0][:-2])\n",
        "        hwy = re.findall('/ [0-9]+', str(MPG))\n",
        "        if hwy == []:\n",
        "            return 'Another'\n",
        "        elif cty >= 60:\n",
        "            return 'up from 60 cty / up from 50 hwy'\n",
        "        else:\n",
        "            hwy = int(hwy[0][2:])\n",
        "            return str(cty)[0] + \"0-\" + str(cty)[0] + \"9 cty / \" + str(hwy)[0] + \"0-\" + str(hwy)[0] + \"9 hwy\"\n",
        "\n",
        "vehicles_dataset['MPG'] = vehicles_dataset['MPG'].apply(MPG_categorize)\n",
        "vehicles_dataset['MPG'].value_counts()"
      ],
      "execution_count": 123,
      "outputs": [
        {
          "output_type": "execute_result",
          "data": {
            "text/plain": [
              "20-29 cty / 30-39 hwy              6961\n",
              "10-19 cty / 20-29 hwy              4112\n",
              "20-29 cty / 20-29 hwy              1861\n",
              "30-39 cty / 40-49 hwy               635\n",
              "Another                             527\n",
              "30-39 cty / 30-39 hwy               476\n",
              "10-19 cty / 10-19 hwy               383\n",
              "40-49 cty / 40-49 hwy               301\n",
              "10-19 cty / 30-39 hwy               104\n",
              "up from 60 cty / up from 50 hwy      94\n",
              "20-29 cty / 40-49 hwy                81\n",
              "40-49 cty / 30-39 hwy                45\n",
              "50-59 cty / 40-49 hwy                40\n",
              "50-59 cty / 50-59 hwy                 9\n",
              "30-39 cty / 20-29 hwy                 6\n",
              "Name: MPG, dtype: int64"
            ]
          },
          "metadata": {
            "tags": []
          },
          "execution_count": 123
        }
      ]
    },
    {
      "cell_type": "markdown",
      "metadata": {
        "id": "y8RpgKTN0BBj"
      },
      "source": [
        "30, 40 and 50 cty categories are being gathered so outliers disappear."
      ]
    },
    {
      "cell_type": "code",
      "metadata": {
        "id": "X0RPxHkT0BBk",
        "outputId": "0d0be82e-c11d-491c-b853-029ab6bc1dcc",
        "colab": {
          "base_uri": "https://localhost:8080/"
        }
      },
      "source": [
        "def MPG_categorize2(MPG):\n",
        "    if MPG in ['30-39 cty / 20-29 hwy', '30-39 cty / 30-39 hwy']:\n",
        "        return '30-39 cty / 20-39 hwy'\n",
        "    elif MPG in ['50-59 cty / 40-49 hwy', '50-59 cty / 50-59 hwy']:\n",
        "        return '50-59 cty / 40-59 hwy'\n",
        "    elif MPG in ['40-49 cty / 30-39 hwy', '40-49 cty / 40-49 hwy']:\n",
        "        return '40-49 cty / 30-49 hwy'\n",
        "    else:\n",
        "        return MPG\n",
        "    \n",
        "\n",
        "vehicles_dataset['MPG'] = vehicles_dataset['MPG'].apply(MPG_categorize2)\n",
        "vehicles_dataset['MPG'].value_counts()"
      ],
      "execution_count": 124,
      "outputs": [
        {
          "output_type": "execute_result",
          "data": {
            "text/plain": [
              "20-29 cty / 30-39 hwy              6961\n",
              "10-19 cty / 20-29 hwy              4112\n",
              "20-29 cty / 20-29 hwy              1861\n",
              "30-39 cty / 40-49 hwy               635\n",
              "Another                             527\n",
              "30-39 cty / 20-39 hwy               482\n",
              "10-19 cty / 10-19 hwy               383\n",
              "40-49 cty / 30-49 hwy               346\n",
              "10-19 cty / 30-39 hwy               104\n",
              "up from 60 cty / up from 50 hwy      94\n",
              "20-29 cty / 40-49 hwy                81\n",
              "50-59 cty / 40-59 hwy                49\n",
              "Name: MPG, dtype: int64"
            ]
          },
          "metadata": {
            "tags": []
          },
          "execution_count": 124
        }
      ]
    },
    {
      "cell_type": "code",
      "metadata": {
        "id": "tFs-SCL8JxjD",
        "outputId": "5d719c95-581a-48c8-da55-999463a80a06",
        "colab": {
          "base_uri": "https://localhost:8080/"
        }
      },
      "source": [
        "display_next_feature()"
      ],
      "execution_count": 125,
      "outputs": [
        {
          "output_type": "stream",
          "text": [
            "Transmission \n",
            " (15635, 18)\n"
          ],
          "name": "stdout"
        }
      ]
    },
    {
      "cell_type": "markdown",
      "metadata": {
        "id": "rx4zvWwU0BBp"
      },
      "source": [
        "'Transmission' feature presents only two true values, as logically thought. We will just get rid of null values then."
      ]
    },
    {
      "cell_type": "code",
      "metadata": {
        "id": "HgxO6NHL0BBp",
        "outputId": "1c7333e1-c474-4f89-f7d1-41116609a8c1",
        "colab": {
          "base_uri": "https://localhost:8080/"
        }
      },
      "source": [
        "print(vehicles_dataset['Transmission'].isnull().sum())\n",
        "vehicles_dataset['Transmission'].value_counts()"
      ],
      "execution_count": 126,
      "outputs": [
        {
          "output_type": "stream",
          "text": [
            "13\n"
          ],
          "name": "stdout"
        },
        {
          "output_type": "execute_result",
          "data": {
            "text/plain": [
              "Automatic    15153\n",
              "Manual         469\n",
              "Name: Transmission, dtype: int64"
            ]
          },
          "metadata": {
            "tags": []
          },
          "execution_count": 126
        }
      ]
    },
    {
      "cell_type": "code",
      "metadata": {
        "id": "mgoojjXf0BBt"
      },
      "source": [
        "vehicles_dataset.dropna(subset=['Transmission'], inplace=True)"
      ],
      "execution_count": 127,
      "outputs": []
    },
    {
      "cell_type": "code",
      "metadata": {
        "id": "0UjnW2feJetP",
        "outputId": "5007886e-9f2f-4654-f7cd-2637e88099cf",
        "colab": {
          "base_uri": "https://localhost:8080/"
        }
      },
      "source": [
        "display_next_feature()"
      ],
      "execution_count": 128,
      "outputs": [
        {
          "output_type": "stream",
          "text": [
            "Location (City) \n",
            " (15622, 18)\n"
          ],
          "name": "stdout"
        }
      ]
    },
    {
      "cell_type": "markdown",
      "metadata": {
        "id": "d63X30Gf0BB4"
      },
      "source": [
        "The places where the vehicles are located are defined by city and state as two variables -'Location (City)' and Location (State)'-."
      ]
    },
    {
      "cell_type": "markdown",
      "metadata": {
        "id": "XKcNlgID0BCG"
      },
      "source": [
        "These variables describing vehicle location will be analyzed later on."
      ]
    },
    {
      "cell_type": "code",
      "metadata": {
        "id": "VSkh07ZG0BCR",
        "outputId": "d8c02b15-53cb-40bd-9039-56324b2889b1",
        "colab": {
          "base_uri": "https://localhost:8080/"
        }
      },
      "source": [
        "display_next_feature(2)"
      ],
      "execution_count": 130,
      "outputs": [
        {
          "output_type": "stream",
          "text": [
            "Condition (Accidents) \n",
            " (15622, 18)\n"
          ],
          "name": "stdout"
        }
      ]
    },
    {
      "cell_type": "markdown",
      "metadata": {
        "id": "OhFxGyImKObb"
      },
      "source": [
        "'Condition (Accidents)' is the next characteristic to check out."
      ]
    },
    {
      "cell_type": "code",
      "metadata": {
        "id": "d1zEI6qLKFgk",
        "outputId": "d2dddb15-e6a2-4fe0-862d-cb97e8435089",
        "colab": {
          "base_uri": "https://localhost:8080/"
        }
      },
      "source": [
        "print(vehicles_dataset['Condition (Accidents)'].value_counts())\n",
        "vehicles_dataset['Condition (Accidents)'].isnull().sum()"
      ],
      "execution_count": 131,
      "outputs": [
        {
          "output_type": "stream",
          "text": [
            "0 reported accidents    12916\n",
            "1 reported accidents     2186\n",
            "2 reported accidents      324\n",
            "3 reported accidents       37\n",
            "4 reported accidents       11\n",
            "Name: Condition (Accidents), dtype: int64\n"
          ],
          "name": "stdout"
        },
        {
          "output_type": "execute_result",
          "data": {
            "text/plain": [
              "148"
            ]
          },
          "metadata": {
            "tags": []
          },
          "execution_count": 131
        }
      ]
    },
    {
      "cell_type": "markdown",
      "metadata": {
        "id": "Mq7g8gxFKmoK"
      },
      "source": [
        "There are 148 null values, and they will be replaced by another category ('Unknown), along the value '4 reported accidents', as it has very few instances."
      ]
    },
    {
      "cell_type": "code",
      "metadata": {
        "id": "QV4vlWa9Klpe",
        "outputId": "618988d9-7f84-4166-c80a-27d4ad0d773d",
        "colab": {
          "base_uri": "https://localhost:8080/",
          "height": 436
        }
      },
      "source": [
        "vehicles_dataset.where((vehicles_dataset['Condition (Accidents)'].isnull()))# & (vehicles_dataset['ChildProcessError'] != '4 reported accidents'), 'Unknown')"
      ],
      "execution_count": 130,
      "outputs": [
        {
          "output_type": "execute_result",
          "data": {
            "text/html": [
              "<div>\n",
              "<style scoped>\n",
              "    .dataframe tbody tr th:only-of-type {\n",
              "        vertical-align: middle;\n",
              "    }\n",
              "\n",
              "    .dataframe tbody tr th {\n",
              "        vertical-align: top;\n",
              "    }\n",
              "\n",
              "    .dataframe thead th {\n",
              "        text-align: right;\n",
              "    }\n",
              "</style>\n",
              "<table border=\"1\" class=\"dataframe\">\n",
              "  <thead>\n",
              "    <tr style=\"text-align: right;\">\n",
              "      <th></th>\n",
              "      <th>Make</th>\n",
              "      <th>Model</th>\n",
              "      <th>Year</th>\n",
              "      <th>Mileage</th>\n",
              "      <th>Transmission</th>\n",
              "      <th>Engine</th>\n",
              "      <th>Exterior Color</th>\n",
              "      <th>Interior Color</th>\n",
              "      <th>MPG</th>\n",
              "      <th>Fuel Type</th>\n",
              "      <th>Drive Type</th>\n",
              "      <th>Location (City)</th>\n",
              "      <th>Location (State)</th>\n",
              "      <th>Style</th>\n",
              "      <th>Condition (Accidents)</th>\n",
              "      <th>Options Level</th>\n",
              "      <th>Bed Length</th>\n",
              "      <th>Price</th>\n",
              "    </tr>\n",
              "  </thead>\n",
              "  <tbody>\n",
              "    <tr>\n",
              "      <th>0</th>\n",
              "      <td>NaN</td>\n",
              "      <td>NaN</td>\n",
              "      <td>NaN</td>\n",
              "      <td>NaN</td>\n",
              "      <td>NaN</td>\n",
              "      <td>NaN</td>\n",
              "      <td>NaN</td>\n",
              "      <td>NaN</td>\n",
              "      <td>NaN</td>\n",
              "      <td>NaN</td>\n",
              "      <td>NaN</td>\n",
              "      <td>NaN</td>\n",
              "      <td>NaN</td>\n",
              "      <td>NaN</td>\n",
              "      <td>NaN</td>\n",
              "      <td>NaN</td>\n",
              "      <td>NaN</td>\n",
              "      <td>NaN</td>\n",
              "    </tr>\n",
              "    <tr>\n",
              "      <th>1</th>\n",
              "      <td>NaN</td>\n",
              "      <td>NaN</td>\n",
              "      <td>NaN</td>\n",
              "      <td>NaN</td>\n",
              "      <td>NaN</td>\n",
              "      <td>NaN</td>\n",
              "      <td>NaN</td>\n",
              "      <td>NaN</td>\n",
              "      <td>NaN</td>\n",
              "      <td>NaN</td>\n",
              "      <td>NaN</td>\n",
              "      <td>NaN</td>\n",
              "      <td>NaN</td>\n",
              "      <td>NaN</td>\n",
              "      <td>NaN</td>\n",
              "      <td>NaN</td>\n",
              "      <td>NaN</td>\n",
              "      <td>NaN</td>\n",
              "    </tr>\n",
              "    <tr>\n",
              "      <th>2</th>\n",
              "      <td>NaN</td>\n",
              "      <td>NaN</td>\n",
              "      <td>NaN</td>\n",
              "      <td>NaN</td>\n",
              "      <td>NaN</td>\n",
              "      <td>NaN</td>\n",
              "      <td>NaN</td>\n",
              "      <td>NaN</td>\n",
              "      <td>NaN</td>\n",
              "      <td>NaN</td>\n",
              "      <td>NaN</td>\n",
              "      <td>NaN</td>\n",
              "      <td>NaN</td>\n",
              "      <td>NaN</td>\n",
              "      <td>NaN</td>\n",
              "      <td>NaN</td>\n",
              "      <td>NaN</td>\n",
              "      <td>NaN</td>\n",
              "    </tr>\n",
              "    <tr>\n",
              "      <th>3</th>\n",
              "      <td>NaN</td>\n",
              "      <td>NaN</td>\n",
              "      <td>NaN</td>\n",
              "      <td>NaN</td>\n",
              "      <td>NaN</td>\n",
              "      <td>NaN</td>\n",
              "      <td>NaN</td>\n",
              "      <td>NaN</td>\n",
              "      <td>NaN</td>\n",
              "      <td>NaN</td>\n",
              "      <td>NaN</td>\n",
              "      <td>NaN</td>\n",
              "      <td>NaN</td>\n",
              "      <td>NaN</td>\n",
              "      <td>NaN</td>\n",
              "      <td>NaN</td>\n",
              "      <td>NaN</td>\n",
              "      <td>NaN</td>\n",
              "    </tr>\n",
              "    <tr>\n",
              "      <th>4</th>\n",
              "      <td>NaN</td>\n",
              "      <td>NaN</td>\n",
              "      <td>NaN</td>\n",
              "      <td>NaN</td>\n",
              "      <td>NaN</td>\n",
              "      <td>NaN</td>\n",
              "      <td>NaN</td>\n",
              "      <td>NaN</td>\n",
              "      <td>NaN</td>\n",
              "      <td>NaN</td>\n",
              "      <td>NaN</td>\n",
              "      <td>NaN</td>\n",
              "      <td>NaN</td>\n",
              "      <td>NaN</td>\n",
              "      <td>NaN</td>\n",
              "      <td>NaN</td>\n",
              "      <td>NaN</td>\n",
              "      <td>NaN</td>\n",
              "    </tr>\n",
              "    <tr>\n",
              "      <th>...</th>\n",
              "      <td>...</td>\n",
              "      <td>...</td>\n",
              "      <td>...</td>\n",
              "      <td>...</td>\n",
              "      <td>...</td>\n",
              "      <td>...</td>\n",
              "      <td>...</td>\n",
              "      <td>...</td>\n",
              "      <td>...</td>\n",
              "      <td>...</td>\n",
              "      <td>...</td>\n",
              "      <td>...</td>\n",
              "      <td>...</td>\n",
              "      <td>...</td>\n",
              "      <td>...</td>\n",
              "      <td>...</td>\n",
              "      <td>...</td>\n",
              "      <td>...</td>\n",
              "    </tr>\n",
              "    <tr>\n",
              "      <th>16915</th>\n",
              "      <td>NaN</td>\n",
              "      <td>NaN</td>\n",
              "      <td>NaN</td>\n",
              "      <td>NaN</td>\n",
              "      <td>NaN</td>\n",
              "      <td>NaN</td>\n",
              "      <td>NaN</td>\n",
              "      <td>NaN</td>\n",
              "      <td>NaN</td>\n",
              "      <td>NaN</td>\n",
              "      <td>NaN</td>\n",
              "      <td>NaN</td>\n",
              "      <td>NaN</td>\n",
              "      <td>NaN</td>\n",
              "      <td>NaN</td>\n",
              "      <td>NaN</td>\n",
              "      <td>NaN</td>\n",
              "      <td>NaN</td>\n",
              "    </tr>\n",
              "    <tr>\n",
              "      <th>16916</th>\n",
              "      <td>NaN</td>\n",
              "      <td>NaN</td>\n",
              "      <td>NaN</td>\n",
              "      <td>NaN</td>\n",
              "      <td>NaN</td>\n",
              "      <td>NaN</td>\n",
              "      <td>NaN</td>\n",
              "      <td>NaN</td>\n",
              "      <td>NaN</td>\n",
              "      <td>NaN</td>\n",
              "      <td>NaN</td>\n",
              "      <td>NaN</td>\n",
              "      <td>NaN</td>\n",
              "      <td>NaN</td>\n",
              "      <td>NaN</td>\n",
              "      <td>NaN</td>\n",
              "      <td>NaN</td>\n",
              "      <td>NaN</td>\n",
              "    </tr>\n",
              "    <tr>\n",
              "      <th>16917</th>\n",
              "      <td>NaN</td>\n",
              "      <td>NaN</td>\n",
              "      <td>NaN</td>\n",
              "      <td>NaN</td>\n",
              "      <td>NaN</td>\n",
              "      <td>NaN</td>\n",
              "      <td>NaN</td>\n",
              "      <td>NaN</td>\n",
              "      <td>NaN</td>\n",
              "      <td>NaN</td>\n",
              "      <td>NaN</td>\n",
              "      <td>NaN</td>\n",
              "      <td>NaN</td>\n",
              "      <td>NaN</td>\n",
              "      <td>NaN</td>\n",
              "      <td>NaN</td>\n",
              "      <td>NaN</td>\n",
              "      <td>NaN</td>\n",
              "    </tr>\n",
              "    <tr>\n",
              "      <th>16918</th>\n",
              "      <td>NaN</td>\n",
              "      <td>NaN</td>\n",
              "      <td>NaN</td>\n",
              "      <td>NaN</td>\n",
              "      <td>NaN</td>\n",
              "      <td>NaN</td>\n",
              "      <td>NaN</td>\n",
              "      <td>NaN</td>\n",
              "      <td>NaN</td>\n",
              "      <td>NaN</td>\n",
              "      <td>NaN</td>\n",
              "      <td>NaN</td>\n",
              "      <td>NaN</td>\n",
              "      <td>NaN</td>\n",
              "      <td>NaN</td>\n",
              "      <td>NaN</td>\n",
              "      <td>NaN</td>\n",
              "      <td>NaN</td>\n",
              "    </tr>\n",
              "    <tr>\n",
              "      <th>16919</th>\n",
              "      <td>NaN</td>\n",
              "      <td>NaN</td>\n",
              "      <td>NaN</td>\n",
              "      <td>NaN</td>\n",
              "      <td>NaN</td>\n",
              "      <td>NaN</td>\n",
              "      <td>NaN</td>\n",
              "      <td>NaN</td>\n",
              "      <td>NaN</td>\n",
              "      <td>NaN</td>\n",
              "      <td>NaN</td>\n",
              "      <td>NaN</td>\n",
              "      <td>NaN</td>\n",
              "      <td>NaN</td>\n",
              "      <td>NaN</td>\n",
              "      <td>NaN</td>\n",
              "      <td>NaN</td>\n",
              "      <td>NaN</td>\n",
              "    </tr>\n",
              "  </tbody>\n",
              "</table>\n",
              "<p>15622 rows × 18 columns</p>\n",
              "</div>"
            ],
            "text/plain": [
              "      Make Model Year  ...  Options Level Bed Length Price\n",
              "0      NaN   NaN  NaN  ...            NaN        NaN   NaN\n",
              "1      NaN   NaN  NaN  ...            NaN        NaN   NaN\n",
              "2      NaN   NaN  NaN  ...            NaN        NaN   NaN\n",
              "3      NaN   NaN  NaN  ...            NaN        NaN   NaN\n",
              "4      NaN   NaN  NaN  ...            NaN        NaN   NaN\n",
              "...    ...   ...  ...  ...            ...        ...   ...\n",
              "16915  NaN   NaN  NaN  ...            NaN        NaN   NaN\n",
              "16916  NaN   NaN  NaN  ...            NaN        NaN   NaN\n",
              "16917  NaN   NaN  NaN  ...            NaN        NaN   NaN\n",
              "16918  NaN   NaN  NaN  ...            NaN        NaN   NaN\n",
              "16919  NaN   NaN  NaN  ...            NaN        NaN   NaN\n",
              "\n",
              "[15622 rows x 18 columns]"
            ]
          },
          "metadata": {
            "tags": []
          },
          "execution_count": 130
        }
      ]
    },
    {
      "cell_type": "markdown",
      "metadata": {
        "id": "j7wOJ5oV0BCU"
      },
      "source": [
        "'Bed Length' is next to go through."
      ]
    },
    {
      "cell_type": "code",
      "metadata": {
        "id": "Nii6t4DA0BCV",
        "outputId": "efcd392e-4890-42a8-9bc5-eac2f55b1987"
      },
      "source": [
        "print(\"'Bed Length' column has\", vehicles_dataset[\"Bed Length\"].isnull().sum(), \"null values.\")\n",
        "print(\"The other ones (\", vehicles_dataset[\"Bed Length\"].notnull().sum(), \") are:\", sep=\"\")\n",
        "vehicles_dataset['Bed Length'].value_counts()"
      ],
      "execution_count": null,
      "outputs": [
        {
          "output_type": "stream",
          "text": [
            "'Bed Length' column has 14542 null values.\n",
            "The other ones (1221) are:\n"
          ],
          "name": "stdout"
        },
        {
          "output_type": "execute_result",
          "data": {
            "text/plain": [
              "Short Bed       571\n",
              "Standard Bed    532\n",
              "Long Bed        118\n",
              "Name: Bed Length, dtype: int64"
            ]
          },
          "metadata": {
            "tags": []
          },
          "execution_count": 30
        }
      ]
    },
    {
      "cell_type": "markdown",
      "metadata": {
        "id": "2V5vXklV0BCa"
      },
      "source": [
        "As seen above the bed length is null for almost all cases, so it will be discarded."
      ]
    },
    {
      "cell_type": "code",
      "metadata": {
        "id": "2sOq5QRo0BCa",
        "outputId": "20265163-4cbb-491e-f97f-e8792ee23224"
      },
      "source": [
        "vehicles_dataset.drop(columns='Bed Length', inplace=True)\n",
        "vehicles_dataset.columns"
      ],
      "execution_count": null,
      "outputs": [
        {
          "output_type": "execute_result",
          "data": {
            "text/plain": [
              "Index(['Make', 'Model', 'Year', 'Mileage', 'Transmission', 'Engine',\n",
              "       'Exterior Color', 'Interior Color', 'MPG', 'Fuel Type', 'Drive Type',\n",
              "       'Location (City)', 'Location (State)', 'Style', 'Condition (Accidents)',\n",
              "       'Options Level', 'Price'],\n",
              "      dtype='object')"
            ]
          },
          "metadata": {
            "tags": []
          },
          "execution_count": 31
        }
      ]
    },
    {
      "cell_type": "code",
      "metadata": {
        "id": "5DRQTOxR0BCe",
        "outputId": "cf682b11-f40a-489e-fd09-b749f1a82d67"
      },
      "source": [
        "cols_by_nulls.pop(\"Bed Length\")"
      ],
      "execution_count": null,
      "outputs": [
        {
          "output_type": "execute_result",
          "data": {
            "text/plain": [
              "15641"
            ]
          },
          "metadata": {
            "tags": []
          },
          "execution_count": 32
        }
      ]
    },
    {
      "cell_type": "markdown",
      "metadata": {
        "id": "l7XlCW9QIJNj"
      },
      "source": [
        "Now, "
      ]
    },
    {
      "cell_type": "code",
      "metadata": {
        "id": "-9BigPeiIIW9"
      },
      "source": [
        ""
      ],
      "execution_count": null,
      "outputs": []
    },
    {
      "cell_type": "code",
      "metadata": {
        "id": "4uA38hjT0BCi",
        "outputId": "e62f954e-7d22-4ea7-fa6e-f17807c4010c"
      },
      "source": [
        "print(\"Exterior Color has\", cols_by_nulls['Exterior Color'], \"null values\")\n",
        "print(vehicles_dataset['Exterior Color'].value_counts().sum(), \"not null values and values count:\", cars_dataset['Exterior Color'].nunique())\n",
        "vehicles_dataset['Exterior Color'].value_counts()"
      ],
      "execution_count": null,
      "outputs": [
        {
          "output_type": "stream",
          "text": [
            "Exterior Color has 5840 null values\n",
            "10617 not null values and values count: 569\n"
          ],
          "name": "stdout"
        },
        {
          "output_type": "execute_result",
          "data": {
            "text/plain": [
              "Black                 759\n",
              "Oxford White          421\n",
              "Summit White          392\n",
              "Gray                  388\n",
              "White                 362\n",
              "                     ... \n",
              "Meteor Gray Pearl       1\n",
              "Light Blue              1\n",
              "Redondo Red Pearl       1\n",
              "Green Tea Metallic      1\n",
              "Sandstone Gray          1\n",
              "Name: Exterior Color, Length: 569, dtype: int64"
            ]
          },
          "metadata": {
            "tags": []
          },
          "execution_count": 33
        }
      ]
    },
    {
      "cell_type": "code",
      "metadata": {
        "id": "UhHk86I70BCn",
        "outputId": "0e3037f3-66f0-4967-df88-839d5ec9132d"
      },
      "source": [
        "list(vehicles_dataset['Exterior Color'].value_counts().index)"
      ],
      "execution_count": null,
      "outputs": [
        {
          "output_type": "execute_result",
          "data": {
            "text/plain": [
              "['Black',\n",
              " 'Oxford White',\n",
              " 'Summit White',\n",
              " 'Gray',\n",
              " 'White',\n",
              " 'Super White',\n",
              " 'Crystal Black Pearl',\n",
              " 'Super Black',\n",
              " 'Gun Metallic',\n",
              " 'Silver Ice Metallic',\n",
              " 'Shadow Black',\n",
              " 'Glacier White',\n",
              " 'White Orchid Pearl',\n",
              " 'Silver',\n",
              " 'Fresh Powder',\n",
              " 'Magnetic Metallic',\n",
              " 'Brilliant Silver',\n",
              " 'Unknown',\n",
              " 'Granite Pearlcoat',\n",
              " 'Polar White',\n",
              " 'Blue',\n",
              " 'Magnetic Black',\n",
              " 'Red',\n",
              " 'Jet Black',\n",
              " 'Agate Black',\n",
              " 'Pearl White',\n",
              " 'Black Sand Pearl',\n",
              " 'Quartz White Pearl',\n",
              " 'Predawn Gray Mica',\n",
              " 'Phantom Black',\n",
              " 'Taffeta White',\n",
              " 'White Diamond Pearl',\n",
              " 'Ice Silver Metallic',\n",
              " 'Billet Clearcoat',\n",
              " 'Clear White',\n",
              " 'Pure White',\n",
              " 'Snow White Pearl',\n",
              " 'Alpine White',\n",
              " 'Sparkling Silver',\n",
              " 'Aurora Black',\n",
              " 'Eminent White Pearl',\n",
              " 'Symphony Silver',\n",
              " 'Ebony Black',\n",
              " 'Scarlet Red',\n",
              " 'Caspian Blue',\n",
              " 'Deep Blue Pearl',\n",
              " 'Dark Gray Metallic',\n",
              " 'Race Red',\n",
              " 'Black Obsidian',\n",
              " 'Gold',\n",
              " 'Vice White',\n",
              " 'Blizzard Pearl',\n",
              " 'Onyx Black',\n",
              " 'Crystal White Pearl',\n",
              " 'Magnetic',\n",
              " 'Brown',\n",
              " 'Black Clearcoat',\n",
              " 'Graphite Shadow',\n",
              " 'Obsidian',\n",
              " 'Nebula Gray Pearl',\n",
              " 'Machine Gray',\n",
              " 'Bright White',\n",
              " 'Frost White Pearl',\n",
              " 'Obsidian Blue Pearl',\n",
              " 'Bright Silver',\n",
              " 'Atomic Silver',\n",
              " 'Red Alert',\n",
              " 'Jet Black Mica',\n",
              " 'Steel Blue Metallic',\n",
              " 'Coliseum Gray',\n",
              " 'Titanium Gray',\n",
              " 'Ingot Silver',\n",
              " 'Platinum Graphite',\n",
              " 'Black Raven',\n",
              " 'Dark Blue Metallic',\n",
              " 'Gloss Black',\n",
              " 'Dazzling White',\n",
              " 'Space Gray Metallic',\n",
              " 'Caribbean Blue',\n",
              " 'Black Diamond',\n",
              " 'Frost',\n",
              " 'Blueprint',\n",
              " 'Ruby Wine',\n",
              " 'Lakeside Blue',\n",
              " 'Cirrus White',\n",
              " 'Silky Silver',\n",
              " 'Palatial Ruby',\n",
              " 'Dark Sky Metallic',\n",
              " 'White Clearcoat',\n",
              " 'Blue Flame Metallic',\n",
              " 'Flame Red Clearcoat',\n",
              " 'Blue Jeans Metallic',\n",
              " 'Surf Blue',\n",
              " 'Basque Red Pearl Ii',\n",
              " 'Cosmic Gray Mica',\n",
              " 'Shale Gray Metallic',\n",
              " 'Majestic White',\n",
              " 'Crystal White',\n",
              " 'Candy White',\n",
              " 'Titanium Silver',\n",
              " 'Night Black',\n",
              " 'Stone White',\n",
              " 'Grey',\n",
              " 'Galactic Aqua Mica',\n",
              " 'Molten Silver',\n",
              " 'Cayenne Red',\n",
              " 'Scarlet Red Pearl',\n",
              " 'Satin White Pearl',\n",
              " 'San Marino Red',\n",
              " 'Night Blue Metallic',\n",
              " 'Storm Blue',\n",
              " 'Silk Blue Metallic',\n",
              " 'Black Onyx',\n",
              " 'Black Velvet',\n",
              " 'Silver Sky Metallic',\n",
              " 'Galactic Gray',\n",
              " 'Ibis White',\n",
              " 'Rallye Red',\n",
              " 'Smoky Granite Mica',\n",
              " 'Pepperdust Metallic',\n",
              " 'Cajun Red Tintcoat',\n",
              " 'Quartz White',\n",
              " 'Midnight Black',\n",
              " 'Jupiter Red',\n",
              " 'Tuxedo Black',\n",
              " 'Capri Blue Metallic',\n",
              " 'Tan',\n",
              " 'Ashen Gray Metallic',\n",
              " 'Lightning Blue',\n",
              " 'Deep Sea Blue',\n",
              " 'True Blue Pearl',\n",
              " 'Deep Impact Blue',\n",
              " 'Pewter Metallic',\n",
              " 'True Blue Pearlcoat',\n",
              " 'Venetian Red Pearl',\n",
              " 'White Gold Metallic',\n",
              " 'Stargazer Black',\n",
              " 'Inferno Red',\n",
              " 'Red Brick',\n",
              " 'Tungsten Metallic',\n",
              " 'Gunmetal Metallic',\n",
              " 'Burgundy',\n",
              " 'Glacier Pearl',\n",
              " 'Boston Red Metallic',\n",
              " 'Liquid Platinum',\n",
              " 'Arctic White',\n",
              " 'Black Mica',\n",
              " 'Parisian Gray',\n",
              " 'Deep Lava Red Pearl',\n",
              " 'White Gold',\n",
              " 'Granite Clearcoat',\n",
              " 'Caspian Black',\n",
              " 'Phantom Gray',\n",
              " 'Starlight Silver',\n",
              " 'Wicked Black',\n",
              " 'Celestite',\n",
              " 'Pearl White Tricoat',\n",
              " 'Electric Storm Blue',\n",
              " 'Opera Red Metallic',\n",
              " 'Red Hot',\n",
              " 'Quartz Blue Pearl',\n",
              " 'Aspen White Tricoat',\n",
              " 'Storm Blue Metallic',\n",
              " 'Siren Red Tintcoat',\n",
              " 'Slate Metallic',\n",
              " 'Morningsky Blue',\n",
              " 'Black Noir Pearl',\n",
              " 'Phantom Black Pearl',\n",
              " 'Steel Gray Metallic',\n",
              " 'Sterling Gray',\n",
              " 'Cocoa Metallic',\n",
              " 'Starfire Pearl',\n",
              " 'Onyx Black Metallic',\n",
              " 'Velocity Red',\n",
              " 'Black Sand Mica',\n",
              " 'Abyss Blue Pearl',\n",
              " 'Tectonic',\n",
              " 'Midnight Blue Pearl',\n",
              " 'Titanium',\n",
              " 'Reflex Silver',\n",
              " 'Dark Slate Metallic',\n",
              " 'Charcoal',\n",
              " 'Alfa Rosso',\n",
              " 'Aspen Ice',\n",
              " 'Electric Blue',\n",
              " 'Ice White',\n",
              " 'Century White',\n",
              " 'Black Onyx Pearl',\n",
              " 'Shimmering White',\n",
              " 'Green',\n",
              " 'Brilliant Black',\n",
              " 'Scarlet Ember',\n",
              " 'Aspen White Pearl',\n",
              " 'Becketts Black',\n",
              " 'Gold Mist Metallic',\n",
              " 'Denim Blue Metallic',\n",
              " 'Galaxy Black',\n",
              " 'White Suede',\n",
              " 'Argento Nurburgring',\n",
              " 'Light White',\n",
              " 'Thunder Gray',\n",
              " 'White Silver',\n",
              " 'Sangria',\n",
              " 'Diamond Slate',\n",
              " 'Evening Black',\n",
              " 'Savannah Metallic',\n",
              " 'Blue Reflex Mica',\n",
              " 'Magnetic Gray',\n",
              " 'Slate Blue Metallic',\n",
              " 'Titanium Flash Mica',\n",
              " 'Blue Metallic',\n",
              " 'Ceramic White',\n",
              " 'Ice Blue Metallic',\n",
              " 'Maroon',\n",
              " 'Ruby Black Metallic',\n",
              " 'Quicksilver',\n",
              " 'Silver Streak Mica',\n",
              " 'Twilight Black',\n",
              " 'Newport Blue Pearl',\n",
              " 'Ruby Flare Pearl',\n",
              " 'Lunar Blue Metallic',\n",
              " 'Sonic Silver',\n",
              " 'Urban Gray Metallic',\n",
              " 'Rally Red Metallic',\n",
              " 'Redline Pearlcoat',\n",
              " 'Pepper White',\n",
              " 'Horizon Blue',\n",
              " 'Winter White',\n",
              " 'Java Black',\n",
              " 'Royal Blue Pearl',\n",
              " 'Carbon Gray Pearl',\n",
              " 'Sonic Gray Pearl',\n",
              " 'Eternal Blue Mica',\n",
              " 'Championship White',\n",
              " 'Satin Silver',\n",
              " 'Graphite Metallic',\n",
              " 'Aqua Blue',\n",
              " 'White Frost Tricoat',\n",
              " 'Caviar',\n",
              " 'Jazz Blue Pearlcoat',\n",
              " 'Salsa Red Pearl',\n",
              " 'Turquoise',\n",
              " 'Billet Metallic',\n",
              " 'Grey/Dark Grey',\n",
              " 'Silver Nickel',\n",
              " 'Cinnamon',\n",
              " 'Himalayan Gray',\n",
              " 'Windy Sea Blue',\n",
              " 'Blazing Blue Pearl',\n",
              " 'Signal Red',\n",
              " 'Silver Moss',\n",
              " 'Deep Blue',\n",
              " 'Lithium Gray',\n",
              " 'Mysterious Blue',\n",
              " 'Medium Silver Blue',\n",
              " 'Sea Glass Pearl',\n",
              " 'Apple Red Pearl',\n",
              " 'Canyon Copper',\n",
              " 'Hypersonic Red',\n",
              " 'Navy Blue Metallic',\n",
              " 'Red Quartz Tintcoat',\n",
              " 'Marlin Blue',\n",
              " 'Meteor Gray Mica',\n",
              " 'Blackberry Pearl',\n",
              " 'Mocha Almond',\n",
              " 'Carrara White',\n",
              " 'Powder White Pearl',\n",
              " 'Beige',\n",
              " 'Chocolate Metallic',\n",
              " 'Zeal Red Mica',\n",
              " 'Pure Red',\n",
              " 'White Pearl',\n",
              " 'Silver Shadow Pearl',\n",
              " 'Unspecified',\n",
              " 'Blue-Green Crystal',\n",
              " 'Victory Red',\n",
              " 'Blk',\n",
              " 'Ivory White',\n",
              " 'Blue Candy Metallic',\n",
              " 'Chrome Silver',\n",
              " 'Lunar Mist Metallic',\n",
              " 'Diamond White',\n",
              " 'Iridium Metallic',\n",
              " 'Orange',\n",
              " 'Marine Blue Pearl',\n",
              " 'Chili Red',\n",
              " 'Blue Onyx Pearl',\n",
              " 'Ebony',\n",
              " 'B5 Blue Pearl',\n",
              " 'Red Candy Metallic',\n",
              " 'Bold Beige Metallic',\n",
              " 'Black Diamond Pearl',\n",
              " 'Platinum Silver',\n",
              " 'Blade Silver',\n",
              " 'Orient Red Metallic',\n",
              " 'Bronze',\n",
              " 'White Sand',\n",
              " 'Sterling Silver!',\n",
              " 'Fuji White',\n",
              " 'Smokey Brown',\n",
              " 'Java Metallic',\n",
              " 'Sandalwood Metallic',\n",
              " 'Matador Red Mica',\n",
              " 'Hermosa Blue',\n",
              " 'White Opal',\n",
              " 'Crimson Red',\n",
              " 'Spicy Red',\n",
              " 'Db Black Clearcoat',\n",
              " 'Tango Red Pearl',\n",
              " 'Burnished Copper',\n",
              " 'Storm',\n",
              " 'Pyrit Silver',\n",
              " 'Creme Brulee Mica',\n",
              " 'Grigio Metallic',\n",
              " 'Teal',\n",
              " 'Bordeaux Black',\n",
              " 'Liquid Silver',\n",
              " 'Radiant Red',\n",
              " 'Champagne',\n",
              " 'Mars Red',\n",
              " 'Black Uni',\n",
              " 'Sunshine Orange',\n",
              " 'Gran Premio Gray',\n",
              " 'Titanium Metallic',\n",
              " 'Platinum Metallic',\n",
              " 'Agate Grey Metallic',\n",
              " 'Navy',\n",
              " 'Gravity Gray',\n",
              " 'Champagne Gold Opal',\n",
              " 'Metallic Gray',\n",
              " 'Dark Truffle',\n",
              " 'White Water Pearl',\n",
              " 'Dark Sea Blue',\n",
              " 'Pitch Black',\n",
              " 'Corris Grey',\n",
              " 'Pacific Blue Pearl',\n",
              " 'Bright Red Ii',\n",
              " 'Frozen White',\n",
              " 'Cyber Gray Metallic',\n",
              " 'Lead Foot',\n",
              " 'Galaxy Gray',\n",
              " 'Moss Gray',\n",
              " 'Tusk White',\n",
              " 'Sand White',\n",
              " 'Gravity Grey',\n",
              " 'Cypress Pearl',\n",
              " 'Desert Sand Mica',\n",
              " 'Ultra White',\n",
              " 'Venetian Red',\n",
              " 'Blaze Blue',\n",
              " 'Aegean Blue',\n",
              " 'Ink Blue',\n",
              " 'Aurora Black Pearl',\n",
              " 'Dark Green Metallic',\n",
              " 'Blue Water Metallic',\n",
              " 'Aspen White',\n",
              " 'Island Blue Pearl',\n",
              " 'Abyss',\n",
              " 'Symphony Air Silver',\n",
              " 'Casablanca White',\n",
              " 'Mocha Almond Pearl',\n",
              " 'Torch Red',\n",
              " 'Alabaster White',\n",
              " 'Sedona Sunset',\n",
              " 'Wind Chill Pearl',\n",
              " 'Am Titanium Silver',\n",
              " 'Dark Green',\n",
              " 'Cashmere Pearlcoat',\n",
              " 'Mercury Metallic',\n",
              " 'Eaz/White Body Pan',\n",
              " 'Graphite Mica',\n",
              " 'Saharan Stone',\n",
              " 'Graphite Blue',\n",
              " 'Butane Blue Pearl',\n",
              " 'Formal Black',\n",
              " 'Midnight Gray',\n",
              " 'Atlantic Blue Pearl',\n",
              " 'Titanium Bronze',\n",
              " 'Vegas Yellow',\n",
              " 'Silver Metallic',\n",
              " 'Mineral Beige',\n",
              " 'Midnight Garnet',\n",
              " 'Nero',\n",
              " 'Bianco (White)',\n",
              " 'Remington Red',\n",
              " 'Alien Ii',\n",
              " 'Tarmac Black Pearl',\n",
              " 'Steel Grey Metallic',\n",
              " 'Shimmering Silver',\n",
              " 'Champagne Quartz',\n",
              " 'Santiago Silver',\n",
              " 'Wr Blue Pearl',\n",
              " 'White Diamond',\n",
              " 'Sage Green Metallic',\n",
              " 'Tank Clearcoat',\n",
              " 'Magma Red Metallic',\n",
              " 'Ash Black',\n",
              " 'Sandstone Metallic',\n",
              " 'Attitude Black',\n",
              " 'Hermosa Blue Pearl',\n",
              " 'Black Cherry',\n",
              " 'Deep Ocean Pearl',\n",
              " 'Mineral Beige Pearl',\n",
              " 'Brilliant Red',\n",
              " 'Rosso (Red)',\n",
              " 'Dune',\n",
              " 'Ivory 3-Coat',\n",
              " 'Ultra Black Pearl',\n",
              " 'Deep Scarlet Pearl',\n",
              " 'Iron Frost',\n",
              " 'Molten',\n",
              " 'Winter Frost Pearl',\n",
              " 'Burgandy',\n",
              " 'Sport Blue Metallic',\n",
              " 'Crystal White Mica',\n",
              " 'Rhino Clearcoat',\n",
              " 'Bali Blue Pearl',\n",
              " 'Horizon Blue Pearl',\n",
              " 'Moon Shell Mica',\n",
              " 'Yellow',\n",
              " 'Black Sapphire',\n",
              " 'Solid White',\n",
              " 'Bianco White Ice',\n",
              " 'Catalina Blue Pearl',\n",
              " 'Taupe Gray Metallic',\n",
              " 'Bluestone Metallic',\n",
              " 'Titanium Glow',\n",
              " 'Siver',\n",
              " 'Bianco Avus',\n",
              " 'Teak Brown Metallic',\n",
              " 'Bianco',\n",
              " 'Stone Gray Metallic',\n",
              " 'Earthy Bronze',\n",
              " 'Kona Blue Metallic',\n",
              " 'Dyno Blue Pearl',\n",
              " 'Pacific Blue',\n",
              " 'Royal Ruby Metallic',\n",
              " 'Cassis Pearl',\n",
              " 'Premium White Pearl',\n",
              " 'Ice Storm',\n",
              " 'Botanical Green',\n",
              " 'Forest Green',\n",
              " 'Ginger Ale Metallic',\n",
              " 'Designo Silver',\n",
              " 'Nightfall Mica',\n",
              " 'Cashmere Pearl',\n",
              " 'Dark Cherry Pearl',\n",
              " 'Currant Red',\n",
              " 'Cool Gray Khaki',\n",
              " 'Ocean Mist Metallic',\n",
              " 'Red Jewel Tintcoat',\n",
              " 'Natural White',\n",
              " 'Guard Metallic',\n",
              " 'Moonlight White',\n",
              " 'Admiral Blue Pearl',\n",
              " 'Super Silver',\n",
              " 'White Orchid',\n",
              " 'Black Stone',\n",
              " 'Cardinal Red',\n",
              " 'Kapoor Red Metallic',\n",
              " 'Deep Blue Metallic',\n",
              " 'Torred Clearcoat',\n",
              " 'Sky Blue Pearl',\n",
              " 'Copperhead Pearl',\n",
              " 'Ruby Red',\n",
              " 'Oxford White (Cc)',\n",
              " 'Radiant Silver',\n",
              " 'Anvil',\n",
              " 'Pyrite Mica',\n",
              " 'Solar Yellow',\n",
              " 'Black Cherry Pearl',\n",
              " 'Silver/Black',\n",
              " 'Neptune Blue Mica',\n",
              " 'Dk. Gray',\n",
              " 'Metallic Slate',\n",
              " 'Habanero Orange',\n",
              " 'White Onyx',\n",
              " 'Tungsten Pearl',\n",
              " 'Chromium',\n",
              " 'Firestorm',\n",
              " 'Dk Blue',\n",
              " 'Deep Black Pearl',\n",
              " 'Gemstone Red',\n",
              " 'Red Allure',\n",
              " 'Stealth',\n",
              " 'Amethyst Gray',\n",
              " 'Havana Metallic',\n",
              " '0040',\n",
              " 'Tornado Red',\n",
              " 'Desert Shadow',\n",
              " 'Lt. Gray',\n",
              " 'Black Forest Pearl',\n",
              " 'Dyno Blue Pearl Ii',\n",
              " 'Hyper Blue',\n",
              " 'Argento (Silver)',\n",
              " 'San Remo Red',\n",
              " '01f7',\n",
              " 'Gt Silver Metallic',\n",
              " 'Lunar Gray Metallic',\n",
              " 'Dove Gray',\n",
              " 'Ultra Silver',\n",
              " 'Silver Pine Mica',\n",
              " 'Elite White',\n",
              " 'Brownstone Metallic',\n",
              " 'Deep Indigo Pearl',\n",
              " 'Mystic Black',\n",
              " 'Corsa Red',\n",
              " \"Smokin\\\\' Asphalt\",\n",
              " 'Dusk Blue',\n",
              " 'Autumn Red',\n",
              " 'Sapphire Black',\n",
              " 'Light Cashmere',\n",
              " 'Blue Ocean',\n",
              " 'Riviera Red',\n",
              " 'Polished Metal',\n",
              " 'Gray/Black',\n",
              " 'Anvil Clearcoat',\n",
              " 'Saharan Sun',\n",
              " 'Sonora Gold Pearl',\n",
              " 'Lava Gray Pearl',\n",
              " 'Nautical Blue Pearl',\n",
              " 'Imperial Red',\n",
              " 'Marathon Blue',\n",
              " 'Ash',\n",
              " 'Flame Red',\n",
              " 'Coulis Red',\n",
              " 'Dark Charcoal Pearl',\n",
              " 'Arctic Frost Pearl',\n",
              " 'Clover Green Pearl',\n",
              " 'Indigo Night',\n",
              " 'Royal Grey Metallic',\n",
              " 'Silver Pearl',\n",
              " 'Ultimate Black',\n",
              " 'Sand Beige Metallic',\n",
              " 'Cream White',\n",
              " 'Sunset Orange',\n",
              " 'Vermillion Red',\n",
              " 'Denim',\n",
              " 'Caribou Metallic',\n",
              " 'Mineral Silver',\n",
              " 'Lithium Red Pearl',\n",
              " 'Monterey Blue',\n",
              " 'Glacier Metallic',\n",
              " 'Black Pearl',\n",
              " 'Deep Black Metallic',\n",
              " 'Crystal Black P',\n",
              " 'Off White',\n",
              " 'Mineral Gray',\n",
              " 'Blue Chip',\n",
              " 'B5 Blue Pearlcoat',\n",
              " 'Beige / Tan',\n",
              " 'Sierra Blue',\n",
              " 'Eternal Blue Pearl',\n",
              " 'Gold Leaf Metallic',\n",
              " 'Earth Metallic',\n",
              " 'Cabo Bronze',\n",
              " 'Deep Crystal Blue',\n",
              " 'Midnight Jade',\n",
              " 'Smoke',\n",
              " 'Silvermist Metallic',\n",
              " 'Dune Pearl Metallic',\n",
              " 'Chalk White',\n",
              " 'Saville Gray',\n",
              " 'Golden',\n",
              " 'Meteor Gray Pearl',\n",
              " 'Light Blue',\n",
              " 'Redondo Red Pearl',\n",
              " 'Green Tea Metallic',\n",
              " 'Sandstone Gray']"
            ]
          },
          "metadata": {
            "tags": []
          },
          "execution_count": 34
        }
      ]
    },
    {
      "cell_type": "markdown",
      "metadata": {
        "id": "gQDNdaCw0BCt"
      },
      "source": [
        "'Exterior Color' has a lot of unique values, but they can be regrouped given that these values represent almost the same color for each case, by category."
      ]
    },
    {
      "cell_type": "code",
      "metadata": {
        "id": "kB9LZwjd0BCu",
        "outputId": "16f2bbfc-11e3-47f4-ddb1-12945adfac14"
      },
      "source": [
        "vehicles_dataset['Exterior Color'].value_counts()"
      ],
      "execution_count": null,
      "outputs": [
        {
          "output_type": "execute_result",
          "data": {
            "text/plain": [
              "Black                 759\n",
              "Oxford White          421\n",
              "Summit White          392\n",
              "Gray                  388\n",
              "White                 362\n",
              "                     ... \n",
              "Meteor Gray Pearl       1\n",
              "Light Blue              1\n",
              "Redondo Red Pearl       1\n",
              "Green Tea Metallic      1\n",
              "Sandstone Gray          1\n",
              "Name: Exterior Color, Length: 569, dtype: int64"
            ]
          },
          "metadata": {
            "tags": []
          },
          "execution_count": 35
        }
      ]
    },
    {
      "cell_type": "markdown",
      "metadata": {
        "id": "FTjHzD0U0BC9"
      },
      "source": [
        "The following function will check whether the passed color names belong to the same category."
      ]
    },
    {
      "cell_type": "code",
      "metadata": {
        "id": "j_dj94jT0BC9"
      },
      "source": [
        "def color_in(color, *argc):\n",
        "    checks = []\n",
        "    for arg in argc:\n",
        "        if arg in str(color).lower():\n",
        "            checks.append(True)\n",
        "        else:\n",
        "            checks.append(False)\n",
        "    if any(checks):\n",
        "        return True\n",
        "    else:\n",
        "        return False"
      ],
      "execution_count": null,
      "outputs": []
    },
    {
      "cell_type": "markdown",
      "metadata": {
        "id": "6kvBsj5S0BDA"
      },
      "source": [
        "Now, this function will tell if the conditions are met so that it categorizes the original values to this set-up. "
      ]
    },
    {
      "cell_type": "code",
      "metadata": {
        "id": "acfS7p3t0BDB"
      },
      "source": [
        "def ext_colors_categorize(ext_color):\n",
        "    if color_in(ext_color, \"black\") or \"Obsidian\" == ext_color:\n",
        "        return \"Black\"\n",
        "    elif color_in(ext_color, \"white\", \"glacier\") or ext_color in [\"Fresh Powder\", \"Blizzard Pearl\", \"Starfire Pearl\"]:\n",
        "        return \"White\"\n",
        "    elif color_in(ext_color, \"green\"):\n",
        "        return \"Green\"\n",
        "    elif color_in(ext_color, \"blue\", \"aqua\"):\n",
        "        return \"Blue\"\n",
        "    elif color_in(ext_color, \"silver\", \"gray\", \"magnetic\", \"pearlcoat\", \"tungsten\", \"graphite\", \"gun\", \"platinum\", \"titanium\", \"billet\"):\n",
        "        return \"Silver or Grey\"\n",
        "    elif color_in(ext_color, \"red\", \"cherry\", \"ruby\", \"sun\", \"rosso\", \"scarlet\"):\n",
        "        return \"Red\"\n",
        "    elif color_in(ext_color, \"gold\"):\n",
        "        return \"Gold\"\n",
        "    elif color_in(ext_color, \"brown\", \"beige\"):\n",
        "        return \"Beige or Brown\"\n",
        "    elif color_in(ext_color, \"yellow\"):\n",
        "        return \"Yellow\"\n",
        "    else:\n",
        "        return \"Unknown\""
      ],
      "execution_count": null,
      "outputs": []
    },
    {
      "cell_type": "code",
      "metadata": {
        "id": "972QBd7W0BDM"
      },
      "source": [
        "vehicles_dataset['Exterior Color'] = vehicles_dataset['Exterior Color'].apply(ext_colors_categorize)"
      ],
      "execution_count": null,
      "outputs": []
    },
    {
      "cell_type": "code",
      "metadata": {
        "id": "DUS9bal40BDU",
        "outputId": "cb0831aa-7054-421c-ca0b-b706a6a2d269"
      },
      "source": [
        "vehicles_dataset['Exterior Color'].value_counts()"
      ],
      "execution_count": null,
      "outputs": [
        {
          "output_type": "execute_result",
          "data": {
            "text/plain": [
              "Unknown           5711\n",
              "White             3269\n",
              "Black             2617\n",
              "Silver or Grey    2554\n",
              "Blue               827\n",
              "Red                644\n",
              "Beige or Brown      59\n",
              "Gold                53\n",
              "Green               24\n",
              "Yellow               5\n",
              "Name: Exterior Color, dtype: int64"
            ]
          },
          "metadata": {
            "tags": []
          },
          "execution_count": 39
        }
      ]
    },
    {
      "cell_type": "markdown",
      "metadata": {
        "id": "9tWL-LFp0BDc"
      },
      "source": [
        "Like there are just a few cases where the vehicles are yellow or green, we will get rid of these values."
      ]
    },
    {
      "cell_type": "code",
      "metadata": {
        "id": "tfiBfXFa0BDc",
        "outputId": "2e80270f-f022-44f4-c851-c08a2a3dc177"
      },
      "source": [
        "colors_to_drop = list(vehicles_dataset['Exterior Color'].value_counts().index[-4:])\n",
        "colors_to_drop"
      ],
      "execution_count": null,
      "outputs": [
        {
          "output_type": "execute_result",
          "data": {
            "text/plain": [
              "['Beige or Brown', 'Gold', 'Green', 'Yellow']"
            ]
          },
          "metadata": {
            "tags": []
          },
          "execution_count": 40
        }
      ]
    },
    {
      "cell_type": "code",
      "metadata": {
        "id": "xQJp5eNA0BDg",
        "outputId": "7e44bd03-4035-44d2-9151-fc52da10ae70"
      },
      "source": [
        "indexes = []\n",
        "\n",
        "\n",
        "for color in colors_to_drop:\n",
        "    indexes += list(cars_dataset[cars_dataset[\"Exterior Color\"] == color].index)\n",
        "    \n",
        "    \n",
        "vehicles_dataset.drop(indexes, inplace=True)\n",
        "vehicles_dataset.shape"
      ],
      "execution_count": null,
      "outputs": [
        {
          "output_type": "execute_result",
          "data": {
            "text/plain": [
              "(15622, 17)"
            ]
          },
          "metadata": {
            "tags": []
          },
          "execution_count": 41
        }
      ]
    },
    {
      "cell_type": "code",
      "metadata": {
        "id": "31UIKtCo0BDk",
        "outputId": "e96333c5-493d-4d8d-99ed-ba3110269fac"
      },
      "source": [
        "ax = sns.countplot(x=\"Exterior Color\", data=vehicles_dataset, palette=\"Set1\")\n",
        "ax.set_title(\"Exterior colors by occurrences\")"
      ],
      "execution_count": null,
      "outputs": [
        {
          "output_type": "execute_result",
          "data": {
            "text/plain": [
              "Text(0.5, 1.0, 'Exterior colors by occurrences')"
            ]
          },
          "metadata": {
            "tags": []
          },
          "execution_count": 42
        },
        {
          "output_type": "display_data",
          "data": {
            "image/png": "[encoded data removed]",
            "text/plain": [
              "<Figure size 432x288 with 1 Axes>"
            ]
          },
          "metadata": {
            "tags": [],
            "needs_background": "light"
          }
        }
      ]
    },
    {
      "cell_type": "markdown",
      "metadata": {
        "id": "8mqVV45B0BDo"
      },
      "source": [
        "Now, 'Engine' will be analyzed."
      ]
    },
    {
      "cell_type": "code",
      "metadata": {
        "id": "qPZTC5YE0BDq",
        "outputId": "804ce842-415f-4202-cb0c-8d87b507369c"
      },
      "source": [
        "vehicles_dataset['Engine'].isnull().sum()"
      ],
      "execution_count": null,
      "outputs": [
        {
          "output_type": "execute_result",
          "data": {
            "text/plain": [
              "2976"
            ]
          },
          "metadata": {
            "tags": []
          },
          "execution_count": 43
        }
      ]
    },
    {
      "cell_type": "code",
      "metadata": {
        "id": "NCpB2e6W0BDy",
        "outputId": "18dbe285-b194-4893-b30b-d9b0c5e32771"
      },
      "source": [
        "vehicles_dataset['Engine'].value_counts()"
      ],
      "execution_count": null,
      "outputs": [
        {
          "output_type": "execute_result",
          "data": {
            "text/plain": [
              "2.5L Inline-4 Gas             1972\n",
              "2.4L Inline-4 Gas             1354\n",
              "1.8L Inline-4 Gas             1345\n",
              "3.6L V-6 Gas                  1319\n",
              "2.0L Inline-4 Gas             1274\n",
              "                              ... \n",
              "6.6L V-12 Gas Turbocharged       1\n",
              "3.0L V-6 Hybrid                  1\n",
              "5.0L V-10 Gas                    1\n",
              "3.2L Flat-6 Gas                  1\n",
              "2.9L V-6 Gas Turbocharged        1\n",
              "Name: Engine, Length: 119, dtype: int64"
            ]
          },
          "metadata": {
            "tags": []
          },
          "execution_count": 44
        }
      ]
    },
    {
      "cell_type": "markdown",
      "metadata": {
        "id": "zFtsgjxY0BD1"
      },
      "source": [
        "We are going to check on all the variants for each 'Inline', 'Flat' and 'Vs' engines, so we can filter them into more crowded categories"
      ]
    },
    {
      "cell_type": "code",
      "metadata": {
        "id": "KqnYwFrb0BD2",
        "outputId": "a80b99fc-c6de-4f63-9f9e-3b92441e572c"
      },
      "source": [
        "sorted(vehicles_dataset['Engine'].value_counts().index.to_list())"
      ],
      "execution_count": null,
      "outputs": [
        {
          "output_type": "execute_result",
          "data": {
            "text/plain": [
              "['0.6L Inline-2 Plug-In',\n",
              " '1.0L Inline-3 Gas',\n",
              " '1.2L Inline-3 Gas',\n",
              " '1.3L Inline-4 Hybrid',\n",
              " '1.4L Inline-4 Gas',\n",
              " '1.4L Inline-4 Plug-In',\n",
              " '1.5L Inline-4 Gas',\n",
              " '1.5L Inline-4 Hybrid',\n",
              " '1.5L Inline-4 Plug-In',\n",
              " '1.6L Inline-4 Gas',\n",
              " '1.6L Inline-4 Hybrid',\n",
              " '1.7L Inline-4 Gas',\n",
              " '1.8L Inline-4 Gas',\n",
              " '1.8L Inline-4 Hybrid',\n",
              " '1.8L Inline-4 Plug-In',\n",
              " '2.0L Flat-4 Gas',\n",
              " '2.0L Inline-4 Gas',\n",
              " '2.0L Inline-4 Hybrid',\n",
              " '2.0L Inline-4 Plug-In',\n",
              " '2.0L V-4 Gas Turbocharged',\n",
              " '2.2L Inline-4 Gas',\n",
              " '2.3L Inline-4 Gas',\n",
              " '2.3L V-4 Gas Turbocharged',\n",
              " '2.4L Inline-4 Gas',\n",
              " '2.4L Inline-4 Hybrid',\n",
              " '2.4L Inline-5 Gas',\n",
              " '2.5L Flat-4 Gas',\n",
              " '2.5L Flat-6 Gas',\n",
              " '2.5L Inline-4 Gas',\n",
              " '2.5L Inline-4 Hybrid',\n",
              " '2.5L Inline-5 Gas',\n",
              " '2.5L Inline-6 Gas',\n",
              " '2.5L V-6 Gas',\n",
              " '2.7L Flat-6 Gas',\n",
              " '2.7L Inline-4 Gas',\n",
              " '2.7L V-6 Gas',\n",
              " '2.7L V-6 Gas Turbocharged',\n",
              " '2.8L V-6 Gas',\n",
              " '2.9L Inline-4 Gas',\n",
              " '2.9L V-6 Gas Turbocharged',\n",
              " '3.0L Flat-6 Gas',\n",
              " '3.0L Inline-6 Gas',\n",
              " '3.0L V-6 Gas',\n",
              " '3.0L V-6 Gas Supercharged',\n",
              " '3.0L V-6 Gas Turbocharged',\n",
              " '3.0L V-6 Hybrid',\n",
              " '3.1L V-6 Gas',\n",
              " '3.2L Flat-6 Gas',\n",
              " '3.2L Inline-6 Gas',\n",
              " '3.2L V-6 Gas',\n",
              " '3.3L V-6 Gas',\n",
              " '3.3L V-6 Gas Turbocharged',\n",
              " '3.3L V-6 Hybrid',\n",
              " '3.4L Flat-6 Gas',\n",
              " '3.4L V-6 Gas',\n",
              " '3.5L Inline-5 Gas',\n",
              " '3.5L V-6 Gas',\n",
              " '3.5L V-6 Gas Turbocharged',\n",
              " '3.5L V-6 Hybrid',\n",
              " '3.6L Flat-6 Gas',\n",
              " '3.6L V-6 Gas',\n",
              " '3.6L V-6 Plug-In',\n",
              " '3.7L Inline-5 Gas',\n",
              " '3.7L V-6 Gas',\n",
              " '3.8L Flat-6 Gas',\n",
              " '3.8L V-6 Gas',\n",
              " '3.9L V-6 Gas',\n",
              " '3.9L V-8 Gas',\n",
              " '3.9L V-8 Gas Turbocharged',\n",
              " '4.0L Inline-6 Gas',\n",
              " '4.0L V-6 Gas',\n",
              " '4.0L V-8 Gas',\n",
              " '4.0L V-8 Gas Supercharged',\n",
              " '4.0L V-8 Gas Turbocharged',\n",
              " '4.2L Inline-6 Gas',\n",
              " '4.2L V-6 Gas',\n",
              " '4.2L V-8 Gas',\n",
              " '4.3L V-6 Gas',\n",
              " '4.3L V-8 Gas',\n",
              " '4.4L V-8 Gas',\n",
              " '4.4L V-8 Gas Turbocharged',\n",
              " '4.5L V-8 Gas',\n",
              " '4.6L V-8 Gas',\n",
              " '4.6L V-8 Gas Turbocharged',\n",
              " '4.7L Inline-8 Gas',\n",
              " '4.7L V-8 Gas',\n",
              " '4.7L V-8 Gas Turbocharged',\n",
              " '4.8L V-8 Gas',\n",
              " '5.0L V-10 Gas',\n",
              " '5.0L V-8 Gas',\n",
              " '5.0L V-8 Gas Supercharged',\n",
              " '5.0L V-8 Gas Turbocharged',\n",
              " '5.3L V-8 Gas',\n",
              " '5.4L V-8 Gas',\n",
              " '5.4L V-8 Gas Supercharged',\n",
              " '5.5L V-12 Gas Turbocharged',\n",
              " '5.5L V-8 Gas',\n",
              " '5.5L V-8 Gas Supercharged',\n",
              " '5.6L V-8 Gas',\n",
              " '5.7L V-12 Gas',\n",
              " '5.7L V-8 Gas',\n",
              " '5.9L V-12 Gas',\n",
              " '5.9L V-8 Gas',\n",
              " '6.0L V-12 Gas',\n",
              " '6.0L V-12 Gas Turbocharged',\n",
              " '6.0L V-8 Gas',\n",
              " '6.0L V-8 Hybrid',\n",
              " '6.0L W-12 Gas',\n",
              " '6.0L W-12 Gas Turbocharged',\n",
              " '6.1L V-8 Gas',\n",
              " '6.2L V-8 Gas',\n",
              " '6.2L V-8 Gas Supercharged',\n",
              " '6.3L V-8 Gas',\n",
              " '6.4L V-8 Gas',\n",
              " '6.5L V-12 Gas',\n",
              " '6.6L V-12 Gas Turbocharged',\n",
              " '6.8L V-10 Gas',\n",
              " '8.1L V-8 Gas',\n",
              " 'L - Electric']"
            ]
          },
          "metadata": {
            "tags": []
          },
          "execution_count": 45
        }
      ]
    },
    {
      "cell_type": "code",
      "metadata": {
        "id": "5O8467mC0BEC",
        "outputId": "26f7acb3-b63b-4ff3-d42d-83491eadcef0"
      },
      "source": [
        "for j in [\"Inline\", \"Flat\", \"V\"]:\n",
        "\n",
        "    for i in vehicles_dataset['Engine'].value_counts().index.to_list():\n",
        "        if j in i:\n",
        "            print(i)"
      ],
      "execution_count": null,
      "outputs": [
        {
          "output_type": "stream",
          "text": [
            "2.5L Inline-4 Gas\n",
            "2.4L Inline-4 Gas\n",
            "1.8L Inline-4 Gas\n",
            "2.0L Inline-4 Gas\n",
            "1.6L Inline-4 Gas\n",
            "2.0L Inline-4 Hybrid\n",
            "1.8L Inline-4 Hybrid\n",
            "3.0L Inline-6 Gas\n",
            "2.5L Inline-4 Hybrid\n",
            "1.5L Inline-4 Gas\n",
            "2.4L Inline-4 Hybrid\n",
            "0.6L Inline-2 Plug-In\n",
            "1.5L Inline-4 Hybrid\n",
            "1.4L Inline-4 Plug-In\n",
            "2.5L Inline-5 Gas\n",
            "2.0L Inline-4 Plug-In\n",
            "3.2L Inline-6 Gas\n",
            "2.2L Inline-4 Gas\n",
            "2.7L Inline-4 Gas\n",
            "1.2L Inline-3 Gas\n",
            "2.3L Inline-4 Gas\n",
            "4.2L Inline-6 Gas\n",
            "1.8L Inline-4 Plug-In\n",
            "2.5L Inline-6 Gas\n",
            "4.7L Inline-8 Gas\n",
            "3.7L Inline-5 Gas\n",
            "1.3L Inline-4 Hybrid\n",
            "2.4L Inline-5 Gas\n",
            "1.5L Inline-4 Plug-In\n",
            "4.0L Inline-6 Gas\n",
            "2.9L Inline-4 Gas\n",
            "1.6L Inline-4 Hybrid\n",
            "1.4L Inline-4 Gas\n",
            "1.7L Inline-4 Gas\n",
            "1.0L Inline-3 Gas\n",
            "3.5L Inline-5 Gas\n",
            "2.5L Flat-4 Gas\n",
            "2.0L Flat-4 Gas\n",
            "3.8L Flat-6 Gas\n",
            "3.6L Flat-6 Gas\n",
            "3.0L Flat-6 Gas\n",
            "2.5L Flat-6 Gas\n",
            "2.7L Flat-6 Gas\n",
            "3.4L Flat-6 Gas\n",
            "3.2L Flat-6 Gas\n",
            "3.6L V-6 Gas\n",
            "3.5L V-6 Gas\n",
            "5.3L V-8 Gas\n",
            "5.7L V-8 Gas\n",
            "4.0L V-6 Gas\n",
            "3.5L V-6 Gas Turbocharged\n",
            "5.0L V-8 Gas\n",
            "6.0L V-8 Gas\n",
            "3.7L V-6 Gas\n",
            "6.2L V-8 Gas\n",
            "3.8L V-6 Gas\n",
            "3.0L V-6 Gas\n",
            "4.6L V-8 Gas\n",
            "3.3L V-6 Gas\n",
            "3.0L V-6 Gas Turbocharged\n",
            "2.7L V-6 Gas Turbocharged\n",
            "5.4L V-8 Gas\n",
            "2.0L V-4 Gas Turbocharged\n",
            "5.5L V-8 Gas\n",
            "5.6L V-8 Gas\n",
            "4.3L V-6 Gas\n",
            "6.4L V-8 Gas\n",
            "3.0L V-6 Gas Supercharged\n",
            "4.7L V-8 Gas\n",
            "3.2L V-6 Gas\n",
            "4.3L V-8 Gas\n",
            "3.9L V-8 Gas\n",
            "2.3L V-4 Gas Turbocharged\n",
            "4.8L V-8 Gas\n",
            "4.7L V-8 Gas Turbocharged\n",
            "2.5L V-6 Gas\n",
            "3.5L V-6 Hybrid\n",
            "2.8L V-6 Gas\n",
            "5.0L V-8 Gas Turbocharged\n",
            "4.0L V-8 Gas Turbocharged\n",
            "6.8L V-10 Gas\n",
            "4.4L V-8 Gas Turbocharged\n",
            "4.2L V-8 Gas\n",
            "5.7L V-12 Gas\n",
            "3.1L V-6 Gas\n",
            "5.0L V-8 Gas Supercharged\n",
            "2.7L V-6 Gas\n",
            "3.3L V-6 Gas Turbocharged\n",
            "6.2L V-8 Gas Supercharged\n",
            "8.1L V-8 Gas\n",
            "6.0L V-12 Gas Turbocharged\n",
            "6.1L V-8 Gas\n",
            "4.6L V-8 Gas Turbocharged\n",
            "3.6L V-6 Plug-In\n",
            "5.4L V-8 Gas Supercharged\n",
            "3.9L V-6 Gas\n",
            "3.3L V-6 Hybrid\n",
            "4.2L V-6 Gas\n",
            "5.9L V-12 Gas\n",
            "6.0L V-8 Hybrid\n",
            "6.5L V-12 Gas\n",
            "4.0L V-8 Gas\n",
            "5.5L V-12 Gas Turbocharged\n",
            "6.3L V-8 Gas\n",
            "4.5L V-8 Gas\n",
            "4.4L V-8 Gas\n",
            "5.9L V-8 Gas\n",
            "4.0L V-8 Gas Supercharged\n",
            "3.4L V-6 Gas\n",
            "5.5L V-8 Gas Supercharged\n",
            "3.9L V-8 Gas Turbocharged\n",
            "6.0L V-12 Gas\n",
            "6.6L V-12 Gas Turbocharged\n",
            "3.0L V-6 Hybrid\n",
            "5.0L V-10 Gas\n",
            "2.9L V-6 Gas Turbocharged\n"
          ],
          "name": "stdout"
        }
      ]
    },
    {
      "cell_type": "code",
      "metadata": {
        "id": "DSyXdbtC0BEF"
      },
      "source": [
        "def engine_categorize(engine_type):\n",
        "    if \"V-\" in engine_type:\n",
        "        return re.findall(\"V.+\", engine_type)[0]\n",
        "    elif \"Inline\" in engine_type:\n",
        "        return re.findall(\"I.+\", engine_type)[0]\n",
        "    elif \"Flat\" in engine_type:\n",
        "        return re.findall(\"F.+\", engine_type)[0]\n",
        "    else:\n",
        "        return \"Another\""
      ],
      "execution_count": null,
      "outputs": []
    },
    {
      "cell_type": "code",
      "metadata": {
        "id": "lOVBxTAl0BEK",
        "outputId": "3b157550-39e3-4e10-d5c6-2d74acd3cf17"
      },
      "source": [
        "re.findall(\"V-[1-8][0-2]?\", \"5.4L V-10 Gas Supercharged\")"
      ],
      "execution_count": null,
      "outputs": [
        {
          "output_type": "execute_result",
          "data": {
            "text/plain": [
              "['V-10']"
            ]
          },
          "metadata": {
            "tags": []
          },
          "execution_count": 48
        }
      ]
    },
    {
      "cell_type": "code",
      "metadata": {
        "id": "fDUgVoRj0BER",
        "outputId": "d86d25ec-edf2-44ab-d0e5-f5db41454742"
      },
      "source": [
        "vehicles_dataset['Engine'] = cars_dataset['Engine'].astype(str)\n",
        "vehicles_dataset['Engine'].apply(engine_categorize).value_counts()"
      ],
      "execution_count": null,
      "outputs": [
        {
          "output_type": "execute_result",
          "data": {
            "text/plain": [
              "Inline-4 Gas             6416\n",
              "V-6 Gas                  3279\n",
              "Another                  3051\n",
              "V-8 Gas                  1362\n",
              "Inline-4 Hybrid           441\n",
              "V-6 Gas Turbocharged      362\n",
              "Flat-4 Gas                235\n",
              "Inline-6 Gas              106\n",
              "V-4 Gas Turbocharged       61\n",
              "Inline-4 Plug-In           49\n",
              "V-8 Gas Turbocharged       45\n",
              "Flat-6 Gas                 40\n",
              "V-6 Gas Supercharged       36\n",
              "Inline-5 Gas               31\n",
              "Inline-2 Plug-In           25\n",
              "V-8 Gas Supercharged       16\n",
              "V-6 Hybrid                 15\n",
              "V-12 Gas                   12\n",
              "Inline-3 Gas               12\n",
              "V-10 Gas                   10\n",
              "V-12 Gas Turbocharged       7\n",
              "Inline-8 Gas                6\n",
              "V-6 Plug-In                 3\n",
              "V-8 Hybrid                  2\n",
              "Name: Engine, dtype: int64"
            ]
          },
          "metadata": {
            "tags": []
          },
          "execution_count": 49
        }
      ]
    },
    {
      "cell_type": "markdown",
      "metadata": {
        "id": "NHZIY_k30BEV"
      },
      "source": [
        "Let's filter these engine types up a bit more, so outliers stay out."
      ]
    },
    {
      "cell_type": "code",
      "metadata": {
        "id": "EWOeu2By0BEW"
      },
      "source": [
        "def engine_categorize(engine_type):\n",
        "    if engine_type.endswith(\"V-6 Gas\"):\n",
        "        return re.findall(\"V.+\", engine_type)[0]\n",
        "    elif \"V-6\" in engine_type:\n",
        "        return \"V-6 Gas Turbo/Supercharged\"\n",
        "    elif \"V-8\" in engine_type:\n",
        "        return \"V-8\"\n",
        "    elif \"V-\" in engine_type:\n",
        "        return \"V-4/10/12\"\n",
        "    elif \"Inline-4 Gas\" in engine_type:\n",
        "        return \"Inline-4 Gas\"\n",
        "    elif \"Inline-4\" in engine_type:\n",
        "        return \"Inline-4 Plug-In/Hybrid\"\n",
        "    elif \"Inline-6\" in engine_type:\n",
        "        return \"Inline-6\"\n",
        "    elif \"Inline\" in engine_type:\n",
        "        return \"Inline 2/3/5/8\"\n",
        "    elif \"Flat\" in engine_type:\n",
        "        return re.findall(\"Flat-[46]\", engine_type)[0]\n",
        "    else:\n",
        "        return \"Another\""
      ],
      "execution_count": null,
      "outputs": []
    },
    {
      "cell_type": "code",
      "metadata": {
        "id": "AufoT24U0BEj",
        "outputId": "ccc26a31-ee21-42a8-deca-72f5b20e5876"
      },
      "source": [
        "vehicles_dataset['Engine'] = cars_dataset['Engine'].apply(engine_categorize)\n",
        "vehicles_dataset['Engine'].value_counts()"
      ],
      "execution_count": null,
      "outputs": [
        {
          "output_type": "execute_result",
          "data": {
            "text/plain": [
              "Inline-4 Gas                  6416\n",
              "V-6 Gas                       3279\n",
              "Another                       3051\n",
              "V-8                           1425\n",
              "Inline-4 Plug-In/Hybrid        490\n",
              "V-6 Gas Turbo/Supercharged     416\n",
              "Flat-4                         235\n",
              "Inline-6                       106\n",
              "V-4/10/12                       90\n",
              "Inline 2/3/5/8                  74\n",
              "Flat-6                          40\n",
              "Name: Engine, dtype: int64"
            ]
          },
          "metadata": {
            "tags": []
          },
          "execution_count": 51
        }
      ]
    },
    {
      "cell_type": "code",
      "metadata": {
        "id": "Kx3jcThoME_w"
      },
      "source": [
        ""
      ],
      "execution_count": null,
      "outputs": []
    },
    {
      "cell_type": "markdown",
      "metadata": {
        "id": "BFabzgEoMIOt"
      },
      "source": [
        "Now, for the location variables, in order to establish a strength of association (categorical correlation) measure between them, it is being used the Cramer's V statistic, based on Pearson's Chi-Square test for numerical data."
      ]
    },
    {
      "cell_type": "code",
      "metadata": {
        "id": "kb3jywVOS5ci",
        "outputId": "1870447d-23e9-4ee5-9da3-f8ebb8029b42",
        "colab": {
          "base_uri": "https://localhost:8080/"
        }
      },
      "source": [
        "print(vehicles_dataset['Location (City)'].isnull().sum())\n",
        "vehicles_dataset['Location (City)'].value_counts()"
      ],
      "execution_count": 69,
      "outputs": [
        {
          "output_type": "stream",
          "text": [
            "713\n"
          ],
          "name": "stdout"
        },
        {
          "output_type": "execute_result",
          "data": {
            "text/plain": [
              "Phoenix          235\n",
              "Houston          217\n",
              "San Antonio      169\n",
              "Jacksonville     164\n",
              "Raleigh          157\n",
              "                ... \n",
              "Baldwin            1\n",
              "Crystal River      1\n",
              "Pembroke           1\n",
              "Warsaw             1\n",
              "Plainville         1\n",
              "Name: Location (City), Length: 1311, dtype: int64"
            ]
          },
          "metadata": {
            "tags": []
          },
          "execution_count": 69
        }
      ]
    },
    {
      "cell_type": "code",
      "metadata": {
        "id": "dH-M255fS5Zh",
        "outputId": "bc28010a-c61a-4bcf-9a37-0b6e2b599d44",
        "colab": {
          "base_uri": "https://localhost:8080/"
        }
      },
      "source": [
        "print(vehicles_dataset['Location (State)'].isnull().sum())\n",
        "vehicles_dataset['Location (State)'].unique()"
      ],
      "execution_count": 71,
      "outputs": [
        {
          "output_type": "stream",
          "text": [
            "748\n",
            "['WA' 'TX' 'CA' 'FL' 'MS' 'VA' 'OH' 'AL' 'IN' 'OK' 'GA' 'NY' 'MA' 'ME'\n",
            " 'IL' 'NJ' 'TN' 'NC' 'MO' 'OR' nan 'MD' 'MN' 'AZ' 'WI' 'SC' 'LA' 'CO' 'KY'\n",
            " 'NM' 'AR' 'PA' 'CT' 'KS' 'NV' 'ID' 'UT' 'IA' 'HI' 'NH' 'MI' 'MT' 'NE'\n",
            " 'WY' 'AK' 'DE' 'WV' 'VT' 'SD' 'RI' 'UK' 'ND' 'SO']\n"
          ],
          "name": "stdout"
        }
      ]
    },
    {
      "cell_type": "code",
      "metadata": {
        "id": "ZXf83PnYNcIQ",
        "outputId": "7cc77274-83ba-4906-b267-3a4460c3c39a",
        "colab": {
          "base_uri": "https://localhost:8080/"
        }
      },
      "source": [
        "dn.cramers_v(vehicles_dataset['Location (City)'], vehicles_dataset['Location (State)'])"
      ],
      "execution_count": 60,
      "outputs": [
        {
          "output_type": "execute_result",
          "data": {
            "text/plain": [
              "0.9174054601159989"
            ]
          },
          "metadata": {
            "tags": []
          },
          "execution_count": 60
        }
      ]
    },
    {
      "cell_type": "markdown",
      "metadata": {
        "id": "5TpfdgXnObFS"
      },
      "source": [
        "This shows a high association between location features, which is logic as they represent the same information, just that 'Location (City)' is more specific, therefore with more unique values."
      ]
    },
    {
      "cell_type": "markdown",
      "metadata": {
        "id": "WJQnlrrgO1Lw"
      },
      "source": [
        "However, Cramer's V is symmetrical, which means variable 'x' gives the same information over variable 'y' as viceversa.\n",
        "But this cannot be the case, as some valuable data would ended up being lost."
      ]
    },
    {
      "cell_type": "markdown",
      "metadata": {
        "id": "W0RjE2RGQkoU"
      },
      "source": [
        "It is to be solved by implementing the Uncertainty Coefficient, or Theil's U metric, which is a asymmetrical measure; delivering for a given 'x' the possible states for 'y'."
      ]
    },
    {
      "cell_type": "code",
      "metadata": {
        "id": "7Yb2QnntRcgT",
        "outputId": "4650c5be-8971-4fd4-8fd6-ef50e99893f8",
        "colab": {
          "base_uri": "https://localhost:8080/"
        }
      },
      "source": [
        "print(dn.theils_u(vehicles_dataset['Location (City)'], ['Location (States)']))\n",
        "dn.theils_u(vehicles_dataset['Location (State)'], vehicles_dataset['Location (City)'])"
      ],
      "execution_count": 61,
      "outputs": [
        {
          "output_type": "stream",
          "text": [
            "1.0\n"
          ],
          "name": "stdout"
        },
        {
          "output_type": "execute_result",
          "data": {
            "text/plain": [
              "0.9625970119441726"
            ]
          },
          "metadata": {
            "tags": []
          },
          "execution_count": 61
        }
      ]
    },
    {
      "cell_type": "markdown",
      "metadata": {
        "id": "7J6AfJBwRwA2"
      },
      "source": [
        "This is more accurate for estimations.\n",
        "Associations between features are now to be checked down below."
      ]
    },
    {
      "cell_type": "code",
      "metadata": {
        "id": "JTMSn2HaTsxP",
        "outputId": "fb8e11a6-53a2-4fa0-c425-de38ef6f7ae8",
        "colab": {
          "base_uri": "https://localhost:8080/"
        }
      },
      "source": [
        "numerical_variables = ['Mileage', 'MPG', 'Price']\n",
        "#categorical_variables = list(filter(lambda var: (False, True)[var not in numerical_variables], vehicles_dataset.columns.to_list()))\n",
        "categorical_variables = list(filter(lambda var: bool(var not in numerical_variables), vehicles_dataset.columns.to_list()))\n",
        "categorical_variables"
      ],
      "execution_count": 81,
      "outputs": [
        {
          "output_type": "execute_result",
          "data": {
            "text/plain": [
              "['Make',\n",
              " 'Model',\n",
              " 'Year',\n",
              " 'Transmission',\n",
              " 'Engine',\n",
              " 'Exterior Color',\n",
              " 'Interior Color',\n",
              " 'Fuel Type',\n",
              " 'Drive Type',\n",
              " 'Location (City)',\n",
              " 'Location (State)',\n",
              " 'Style',\n",
              " 'Condition (Accidents)',\n",
              " 'Options Level',\n",
              " 'Bed Length']"
            ]
          },
          "metadata": {
            "tags": []
          },
          "execution_count": 81
        }
      ]
    },
    {
      "cell_type": "code",
      "metadata": {
        "id": "kvsYawN-X_Ve",
        "outputId": "9fc24204-e924-45c7-e8ab-282417ad1f0c",
        "colab": {
          "base_uri": "https://localhost:8080/"
        }
      },
      "source": [
        "categorical_data = pd.DataFrame(data=vehicles_dataset, columns=categorical_variables)"
      ],
      "execution_count": 97,
      "outputs": [
        {
          "output_type": "execute_result",
          "data": {
            "text/plain": [
              "(16920, 15)"
            ]
          },
          "metadata": {
            "tags": []
          },
          "execution_count": 97
        }
      ]
    },
    {
      "cell_type": "code",
      "metadata": {
        "id": "TPVak8EA3ehB",
        "outputId": "0f13078a-6b53-46e9-d6be-8fa69e8e0cd8",
        "colab": {
          "base_uri": "https://localhost:8080/",
          "height": 661
        }
      },
      "source": [
        "dn.associations(\n",
        "    categorical_data.dropna(),\n",
        "    theil_u=True, nan_strategy='drop_samples', figsize=(10,10))['ax']"
      ],
      "execution_count": 98,
      "outputs": [
        {
          "output_type": "display_data",
          "data": {
            "image/png": "[encoded data removed]",
            "text/plain": [
              "<Figure size 720x720 with 2 Axes>"
            ]
          },
          "metadata": {
            "tags": [],
            "needs_background": "light"
          }
        },
        {
          "output_type": "execute_result",
          "data": {
            "text/plain": [
              "<matplotlib.axes._subplots.AxesSubplot at 0x7fa8fbca4cf8>"
            ]
          },
          "metadata": {
            "tags": []
          },
          "execution_count": 98
        }
      ]
    },
    {
      "cell_type": "markdown",
      "metadata": {
        "id": "witewC7VSTR4"
      },
      "source": [
        "Then, 'Location (City)' will be eliminated."
      ]
    },
    {
      "cell_type": "code",
      "metadata": {
        "id": "9kqcSKJJbPqB"
      },
      "source": [
        "vehicles_dataset.drop(columns='Location (City)', inplace=True)"
      ],
      "execution_count": 136,
      "outputs": []
    },
    {
      "cell_type": "markdown",
      "metadata": {
        "id": "WMJhXeObbZpc"
      },
      "source": [
        "Location (State)' has still a lot of null values to deal with.\n",
        "Another category representing them will is created."
      ]
    },
    {
      "cell_type": "code",
      "metadata": {
        "id": "SzuqsRtALdoZ",
        "outputId": "a5ee1b66-f422-43db-d16f-0deb299538a6",
        "colab": {
          "base_uri": "https://localhost:8080/"
        }
      },
      "source": [
        "vehicles_dataset['Location (State)'].value_counts()"
      ],
      "execution_count": 99,
      "outputs": [
        {
          "output_type": "execute_result",
          "data": {
            "text/plain": [
              "TX     1997\n",
              "FL     1675\n",
              "CA     1652\n",
              "AZ      803\n",
              "NC      771\n",
              "VA      762\n",
              "0.0     748\n",
              "IL      715\n",
              "GA      583\n",
              "WA      480\n",
              "TN      429\n",
              "NJ      427\n",
              "CO      415\n",
              "PA      349\n",
              "OH      341\n",
              "MD      336\n",
              "NY      327\n",
              "MA      282\n",
              "SC      279\n",
              "IN      277\n",
              "OK      240\n",
              "AL      223\n",
              "MO      221\n",
              "KY      220\n",
              "OR      217\n",
              "CT      197\n",
              "UT      174\n",
              "NV      162\n",
              "LA      141\n",
              "AR      138\n",
              "WI      137\n",
              "MN      126\n",
              "MI      119\n",
              "KS      114\n",
              "IA       95\n",
              "HI       92\n",
              "NE       85\n",
              "NH       80\n",
              "MS       76\n",
              "ME       76\n",
              "NM       71\n",
              "ID       69\n",
              "MT       49\n",
              "WY       32\n",
              "DE       29\n",
              "AK       24\n",
              "SD       21\n",
              "VT       15\n",
              "RI       13\n",
              "ND       11\n",
              "WV        3\n",
              "UK        1\n",
              "SO        1\n",
              "Name: Location (State), dtype: int64"
            ]
          },
          "metadata": {
            "tags": []
          },
          "execution_count": 99
        }
      ]
    },
    {
      "cell_type": "code",
      "metadata": {
        "id": "dyJ-WpW2cqDa",
        "outputId": "9c6ac2ee-2edd-44d6-8b7c-3577b60153f8",
        "colab": {
          "base_uri": "https://localhost:8080/"
        }
      },
      "source": [
        "#np.where(vehicles_dataset['Location (State)'] == 'UK', 'Other', vehicles_dataset['Location (State)'])"
      ],
      "execution_count": 115,
      "outputs": [
        {
          "output_type": "execute_result",
          "data": {
            "text/plain": [
              "array(['WA', 'TX', 'CA', ..., 'TX', 'TX', 'TX'], dtype=object)"
            ]
          },
          "metadata": {
            "tags": []
          },
          "execution_count": 115
        }
      ]
    },
    {
      "cell_type": "code",
      "metadata": {
        "id": "0WTWOjDUh733",
        "outputId": "74bba37f-1f02-425b-df93-2277aafa8f88",
        "colab": {
          "base_uri": "https://localhost:8080/"
        }
      },
      "source": [
        "vehicles_dataset['Location (State)'].apply(lambda st: (st, 'Other')[st in ['UK', 'SO', 'WV', np.NaN]]).value_counts()"
      ],
      "execution_count": 135,
      "outputs": [
        {
          "output_type": "execute_result",
          "data": {
            "text/plain": [
              "TX       1997\n",
              "FL       1675\n",
              "CA       1652\n",
              "AZ        803\n",
              "NC        771\n",
              "VA        762\n",
              "Other     753\n",
              "IL        715\n",
              "GA        583\n",
              "WA        480\n",
              "TN        429\n",
              "NJ        427\n",
              "CO        415\n",
              "PA        349\n",
              "OH        341\n",
              "MD        336\n",
              "NY        327\n",
              "MA        282\n",
              "SC        279\n",
              "IN        277\n",
              "OK        240\n",
              "AL        223\n",
              "MO        221\n",
              "KY        220\n",
              "OR        217\n",
              "CT        197\n",
              "UT        174\n",
              "NV        162\n",
              "LA        141\n",
              "AR        138\n",
              "WI        137\n",
              "MN        126\n",
              "MI        119\n",
              "KS        114\n",
              "IA         95\n",
              "HI         92\n",
              "NE         85\n",
              "NH         80\n",
              "ME         76\n",
              "MS         76\n",
              "NM         71\n",
              "ID         69\n",
              "MT         49\n",
              "WY         32\n",
              "DE         29\n",
              "AK         24\n",
              "SD         21\n",
              "VT         15\n",
              "RI         13\n",
              "ND         11\n",
              "Name: Location (State), dtype: int64"
            ]
          },
          "metadata": {
            "tags": []
          },
          "execution_count": 135
        }
      ]
    },
    {
      "cell_type": "code",
      "metadata": {
        "id": "LIoyp2HClk3G"
      },
      "source": [
        ""
      ],
      "execution_count": null,
      "outputs": []
    }
  ]
}