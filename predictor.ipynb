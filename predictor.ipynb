{
  "nbformat": 4,
  "nbformat_minor": 0,
  "metadata": {
    "kernelspec": {
      "display_name": "Python 3",
      "language": "python",
      "name": "python3"
    },
    "language_info": {
      "codemirror_mode": {
        "name": "ipython",
        "version": 3
      },
      "file_extension": ".py",
      "mimetype": "text/x-python",
      "name": "python",
      "nbconvert_exporter": "python",
      "pygments_lexer": "ipython3",
      "version": "3.7.3"
    },
    "colab": {
      "name": "predictor.ipynb",
      "provenance": [],
      "collapsed_sections": []
    }
  },
  "cells": [
    {
      "cell_type": "code",
      "metadata": {
        "id": "9ivP7Jes0A-V"
      },
      "source": [
        "import itertools\n",
        "import pandas as pd\n",
        "import pandas_profiling\n",
        "import numpy as np\n",
        "import scipy.stats\n",
        "import re\n",
        "import math\n",
        "import matplotlib as mlp\n",
        "import matplotlib.pyplot as plt\n",
        "import matplotlib.backends.backend_agg\n",
        "import matplotlib.figure\n",
        "import seaborn as sns\n",
        "import datetime\n",
        "from sklearn import preprocessing\n",
        "from sklearn.model_selection import train_test_split\n",
        "from sklearn.linear_model import LogisticRegression\n",
        "from sklearn.metrics import confusion_matrix, accuracy_score\n",
        "from sklearn.preprocessing import LabelEncoder, OneHotEncoder, LabelBinarizer\n",
        "from sklearn.metrics import roc_curve, roc_auc_score"
      ],
      "execution_count": 6,
      "outputs": []
    },
    {
      "cell_type": "code",
      "metadata": {
        "id": "zHnZBhuK0A-r",
        "outputId": "064b70ab-5e22-45e9-c73c-3c647700f50e",
        "colab": {
          "base_uri": "https://localhost:8080/",
          "height": 513
        }
      },
      "source": [
        "cars_dataset = pd.read_csv('C:/Users/aleja/Cars-Value-Predictor/cars-features-dataset.csv')\n",
        "#vehicles_dataset = pd.read_csv('https://raw.githubusercontent.com/AlejandroPenaloza/cars-value-predictor/master/cars-features-dataset.csv')\n",
        "vehicles_dataset.drop(columns='Unnamed: 0', inplace=True)\n",
        "print(vehicles_dataset.shape)\n",
        "vehicles_dataset.head()"
      ],
      "execution_count": 11,
      "outputs": [
        {
          "output_type": "stream",
          "text": [
            "(16920, 18)\n"
          ],
          "name": "stdout"
        },
        {
          "output_type": "execute_result",
          "data": {
            "text/html": [
              "<div>\n",
              "<style scoped>\n",
              "    .dataframe tbody tr th:only-of-type {\n",
              "        vertical-align: middle;\n",
              "    }\n",
              "\n",
              "    .dataframe tbody tr th {\n",
              "        vertical-align: top;\n",
              "    }\n",
              "\n",
              "    .dataframe thead th {\n",
              "        text-align: right;\n",
              "    }\n",
              "</style>\n",
              "<table border=\"1\" class=\"dataframe\">\n",
              "  <thead>\n",
              "    <tr style=\"text-align: right;\">\n",
              "      <th></th>\n",
              "      <th>Make</th>\n",
              "      <th>Model</th>\n",
              "      <th>Year</th>\n",
              "      <th>Mileage</th>\n",
              "      <th>Transmission</th>\n",
              "      <th>Engine</th>\n",
              "      <th>Exterior Color</th>\n",
              "      <th>Interior Color</th>\n",
              "      <th>MPG</th>\n",
              "      <th>Fuel Type</th>\n",
              "      <th>Drive Type</th>\n",
              "      <th>Location (City)</th>\n",
              "      <th>Location (State)</th>\n",
              "      <th>Style</th>\n",
              "      <th>Condition (Accidents)</th>\n",
              "      <th>Options Level</th>\n",
              "      <th>Bed Length</th>\n",
              "      <th>Price</th>\n",
              "    </tr>\n",
              "  </thead>\n",
              "  <tbody>\n",
              "    <tr>\n",
              "      <th>0</th>\n",
              "      <td>Ford</td>\n",
              "      <td>Focus</td>\n",
              "      <td>2014.0</td>\n",
              "      <td>35,795</td>\n",
              "      <td>Automatic</td>\n",
              "      <td>2.0L Inline-4 Gas</td>\n",
              "      <td>NaN</td>\n",
              "      <td>Charcoal Black</td>\n",
              "      <td>26 cty / 36 hwy</td>\n",
              "      <td>Gas</td>\n",
              "      <td>FWD</td>\n",
              "      <td>Tacoma</td>\n",
              "      <td>WA</td>\n",
              "      <td>SE Hatchback</td>\n",
              "      <td>2 reported accidents</td>\n",
              "      <td>Standard</td>\n",
              "      <td>NaN</td>\n",
              "      <td>7,999</td>\n",
              "    </tr>\n",
              "    <tr>\n",
              "      <th>1</th>\n",
              "      <td>Ford</td>\n",
              "      <td>F-150</td>\n",
              "      <td>2015.0</td>\n",
              "      <td>128,146</td>\n",
              "      <td>Automatic</td>\n",
              "      <td>2.7L V-6 Gas Turbocharged</td>\n",
              "      <td>Unknown</td>\n",
              "      <td>Medium Earth Gray</td>\n",
              "      <td>19 cty / 26 hwy</td>\n",
              "      <td>Gas</td>\n",
              "      <td>RWD</td>\n",
              "      <td>Waxahachie</td>\n",
              "      <td>TX</td>\n",
              "      <td>XL SuperCrew 6.5\\' Box RWD</td>\n",
              "      <td>0 reported accidents</td>\n",
              "      <td>NaN</td>\n",
              "      <td>Standard Bed</td>\n",
              "      <td>15,991</td>\n",
              "    </tr>\n",
              "    <tr>\n",
              "      <th>2</th>\n",
              "      <td>Mercedes-Benz</td>\n",
              "      <td>E-Class</td>\n",
              "      <td>2004.0</td>\n",
              "      <td>135,000</td>\n",
              "      <td>Automatic</td>\n",
              "      <td>5.0L V-8 Gas</td>\n",
              "      <td>Black</td>\n",
              "      <td>Beige</td>\n",
              "      <td>16 cty / 22 hwy</td>\n",
              "      <td>Gas</td>\n",
              "      <td>AWD</td>\n",
              "      <td>Covina</td>\n",
              "      <td>CA</td>\n",
              "      <td>E 500 4MATIC Wagon</td>\n",
              "      <td>0 reported accidents</td>\n",
              "      <td>Standard</td>\n",
              "      <td>NaN</td>\n",
              "      <td>5,950</td>\n",
              "    </tr>\n",
              "    <tr>\n",
              "      <th>3</th>\n",
              "      <td>Hyundai</td>\n",
              "      <td>Elantra</td>\n",
              "      <td>2011.0</td>\n",
              "      <td>135,670</td>\n",
              "      <td>Automatic</td>\n",
              "      <td>1.8L Inline-4 Gas</td>\n",
              "      <td>NaN</td>\n",
              "      <td>Gray</td>\n",
              "      <td>28 cty / 38 hwy</td>\n",
              "      <td>Gas</td>\n",
              "      <td>FWD</td>\n",
              "      <td>Miami</td>\n",
              "      <td>FL</td>\n",
              "      <td>NaN</td>\n",
              "      <td>0 reported accidents</td>\n",
              "      <td>Standard</td>\n",
              "      <td>NaN</td>\n",
              "      <td>3,999</td>\n",
              "    </tr>\n",
              "    <tr>\n",
              "      <th>4</th>\n",
              "      <td>Toyota</td>\n",
              "      <td>Prius</td>\n",
              "      <td>2012.0</td>\n",
              "      <td>152,543</td>\n",
              "      <td>Automatic</td>\n",
              "      <td>1.8L Inline-4 Hybrid</td>\n",
              "      <td>White</td>\n",
              "      <td>Biege</td>\n",
              "      <td>51 cty / 48 hwy</td>\n",
              "      <td>Hybrid</td>\n",
              "      <td>FWD</td>\n",
              "      <td>Byhalia</td>\n",
              "      <td>MS</td>\n",
              "      <td>Five</td>\n",
              "      <td>1 reported accidents</td>\n",
              "      <td>Standard</td>\n",
              "      <td>NaN</td>\n",
              "      <td>6,500</td>\n",
              "    </tr>\n",
              "  </tbody>\n",
              "</table>\n",
              "</div>"
            ],
            "text/plain": [
              "            Make    Model    Year  ... Options Level    Bed Length   Price\n",
              "0           Ford    Focus  2014.0  ...      Standard           NaN   7,999\n",
              "1           Ford    F-150  2015.0  ...           NaN  Standard Bed  15,991\n",
              "2  Mercedes-Benz  E-Class  2004.0  ...      Standard           NaN   5,950\n",
              "3        Hyundai  Elantra  2011.0  ...      Standard           NaN   3,999\n",
              "4         Toyota    Prius  2012.0  ...      Standard           NaN   6,500\n",
              "\n",
              "[5 rows x 18 columns]"
            ]
          },
          "metadata": {
            "tags": []
          },
          "execution_count": 11
        }
      ]
    },
    {
      "cell_type": "markdown",
      "metadata": {
        "id": "Aq4K5y970A-3"
      },
      "source": [
        "## Exploratory Data Analysis"
      ]
    },
    {
      "cell_type": "code",
      "metadata": {
        "id": "cM6a4nzmBwl-"
      },
      "source": [
        "pandas_profiling.ProfileReport(vehicles_dataset)"
      ],
      "execution_count": null,
      "outputs": []
    },
    {
      "cell_type": "code",
      "metadata": {
        "id": "Cv1p17xX0A-7"
      },
      "source": [
        "vehicles_dataset['Year'] = vehicles_dataset['Year'].astype('object')\n",
        "#cars_dataset['Mileage'] = cars_dataset['Mileage'].apply(lambda x: (x, x.replace(',', ''))[not x])"
      ],
      "execution_count": 16,
      "outputs": []
    },
    {
      "cell_type": "code",
      "metadata": {
        "id": "alWSu2w00A_F",
        "outputId": "63825a6a-b33b-49e5-8574-ffd9a728e74c",
        "colab": {
          "base_uri": "https://localhost:8080/",
          "height": 244
        }
      },
      "source": [
        "vehicles_dataset.describe()"
      ],
      "execution_count": 17,
      "outputs": [
        {
          "output_type": "execute_result",
          "data": {
            "text/html": [
              "<div>\n",
              "<style scoped>\n",
              "    .dataframe tbody tr th:only-of-type {\n",
              "        vertical-align: middle;\n",
              "    }\n",
              "\n",
              "    .dataframe tbody tr th {\n",
              "        vertical-align: top;\n",
              "    }\n",
              "\n",
              "    .dataframe thead th {\n",
              "        text-align: right;\n",
              "    }\n",
              "</style>\n",
              "<table border=\"1\" class=\"dataframe\">\n",
              "  <thead>\n",
              "    <tr style=\"text-align: right;\">\n",
              "      <th></th>\n",
              "      <th>Make</th>\n",
              "      <th>Model</th>\n",
              "      <th>Year</th>\n",
              "      <th>Mileage</th>\n",
              "      <th>Transmission</th>\n",
              "      <th>Engine</th>\n",
              "      <th>Exterior Color</th>\n",
              "      <th>Interior Color</th>\n",
              "      <th>MPG</th>\n",
              "      <th>Fuel Type</th>\n",
              "      <th>Drive Type</th>\n",
              "      <th>Location (City)</th>\n",
              "      <th>Location (State)</th>\n",
              "      <th>Style</th>\n",
              "      <th>Condition (Accidents)</th>\n",
              "      <th>Options Level</th>\n",
              "      <th>Bed Length</th>\n",
              "      <th>Price</th>\n",
              "    </tr>\n",
              "  </thead>\n",
              "  <tbody>\n",
              "    <tr>\n",
              "      <th>count</th>\n",
              "      <td>16024</td>\n",
              "      <td>15997</td>\n",
              "      <td>16098.0</td>\n",
              "      <td>16571</td>\n",
              "      <td>16534</td>\n",
              "      <td>13375</td>\n",
              "      <td>11080</td>\n",
              "      <td>15635</td>\n",
              "      <td>16553</td>\n",
              "      <td>16584</td>\n",
              "      <td>16636</td>\n",
              "      <td>16207</td>\n",
              "      <td>16172</td>\n",
              "      <td>15173</td>\n",
              "      <td>16139</td>\n",
              "      <td>14679</td>\n",
              "      <td>1279</td>\n",
              "      <td>16004</td>\n",
              "    </tr>\n",
              "    <tr>\n",
              "      <th>unique</th>\n",
              "      <td>121</td>\n",
              "      <td>615</td>\n",
              "      <td>24.0</td>\n",
              "      <td>6442</td>\n",
              "      <td>2</td>\n",
              "      <td>122</td>\n",
              "      <td>577</td>\n",
              "      <td>325</td>\n",
              "      <td>274</td>\n",
              "      <td>7</td>\n",
              "      <td>5</td>\n",
              "      <td>1311</td>\n",
              "      <td>52</td>\n",
              "      <td>1327</td>\n",
              "      <td>5</td>\n",
              "      <td>4</td>\n",
              "      <td>3</td>\n",
              "      <td>3217</td>\n",
              "    </tr>\n",
              "    <tr>\n",
              "      <th>top</th>\n",
              "      <td>Ford</td>\n",
              "      <td>Sentra</td>\n",
              "      <td>2019.0</td>\n",
              "      <td>29,842</td>\n",
              "      <td>Automatic</td>\n",
              "      <td>2.5L Inline-4 Gas</td>\n",
              "      <td>Black</td>\n",
              "      <td>Black</td>\n",
              "      <td>29 cty / 37 hwy</td>\n",
              "      <td>Gas</td>\n",
              "      <td>FWD</td>\n",
              "      <td>Phoenix</td>\n",
              "      <td>TX</td>\n",
              "      <td>SE FWD</td>\n",
              "      <td>0 reported accidents</td>\n",
              "      <td>Standard</td>\n",
              "      <td>Short Bed</td>\n",
              "      <td>9,995</td>\n",
              "    </tr>\n",
              "    <tr>\n",
              "      <th>freq</th>\n",
              "      <td>2158</td>\n",
              "      <td>563</td>\n",
              "      <td>4272.0</td>\n",
              "      <td>20</td>\n",
              "      <td>16036</td>\n",
              "      <td>2045</td>\n",
              "      <td>821</td>\n",
              "      <td>4577</td>\n",
              "      <td>638</td>\n",
              "      <td>15625</td>\n",
              "      <td>9719</td>\n",
              "      <td>235</td>\n",
              "      <td>1997</td>\n",
              "      <td>444</td>\n",
              "      <td>13441</td>\n",
              "      <td>9801</td>\n",
              "      <td>603</td>\n",
              "      <td>119</td>\n",
              "    </tr>\n",
              "  </tbody>\n",
              "</table>\n",
              "</div>"
            ],
            "text/plain": [
              "         Make   Model     Year  ... Options Level Bed Length  Price\n",
              "count   16024   15997  16098.0  ...         14679       1279  16004\n",
              "unique    121     615     24.0  ...             4          3   3217\n",
              "top      Ford  Sentra   2019.0  ...      Standard  Short Bed  9,995\n",
              "freq     2158     563   4272.0  ...          9801        603    119\n",
              "\n",
              "[4 rows x 18 columns]"
            ]
          },
          "metadata": {
            "tags": []
          },
          "execution_count": 17
        }
      ]
    },
    {
      "cell_type": "code",
      "metadata": {
        "id": "-lCmC8Wz0A_L",
        "outputId": "c180a6be-3aca-40a1-fc38-1e560fd5e187",
        "colab": {
          "base_uri": "https://localhost:8080/"
        }
      },
      "source": [
        "vehicles_dataset.dtypes"
      ],
      "execution_count": 18,
      "outputs": [
        {
          "output_type": "execute_result",
          "data": {
            "text/plain": [
              "Make                     object\n",
              "Model                    object\n",
              "Year                     object\n",
              "Mileage                  object\n",
              "Transmission             object\n",
              "Engine                   object\n",
              "Exterior Color           object\n",
              "Interior Color           object\n",
              "MPG                      object\n",
              "Fuel Type                object\n",
              "Drive Type               object\n",
              "Location (City)          object\n",
              "Location (State)         object\n",
              "Style                    object\n",
              "Condition (Accidents)    object\n",
              "Options Level            object\n",
              "Bed Length               object\n",
              "Price                    object\n",
              "dtype: object"
            ]
          },
          "metadata": {
            "tags": []
          },
          "execution_count": 18
        }
      ]
    },
    {
      "cell_type": "code",
      "metadata": {
        "id": "sqTzfHZa0A_X",
        "outputId": "7f2509ac-3d27-4cd9-a363-39067ef64e88",
        "colab": {
          "base_uri": "https://localhost:8080/"
        }
      },
      "source": [
        "vehicles_dataset.isnull().sum(axis=0)"
      ],
      "execution_count": 19,
      "outputs": [
        {
          "output_type": "execute_result",
          "data": {
            "text/plain": [
              "Make                       896\n",
              "Model                      923\n",
              "Year                       822\n",
              "Mileage                    349\n",
              "Transmission               386\n",
              "Engine                    3545\n",
              "Exterior Color            5840\n",
              "Interior Color            1285\n",
              "MPG                        367\n",
              "Fuel Type                  336\n",
              "Drive Type                 284\n",
              "Location (City)            713\n",
              "Location (State)           748\n",
              "Style                     1747\n",
              "Condition (Accidents)      781\n",
              "Options Level             2241\n",
              "Bed Length               15641\n",
              "Price                      916\n",
              "dtype: int64"
            ]
          },
          "metadata": {
            "tags": []
          },
          "execution_count": 19
        }
      ]
    },
    {
      "cell_type": "code",
      "metadata": {
        "id": "RBr1ksGL0A_g",
        "outputId": "e37cc18d-f131-43f2-bb64-2cfd1a6b9c3e"
      },
      "source": [
        "cols_by_nulls = vehicles_dataset.isnull().sum().sort_values(ascending=False).to_dict()\n",
        "cols_by_nulls"
      ],
      "execution_count": null,
      "outputs": [
        {
          "output_type": "execute_result",
          "data": {
            "text/plain": [
              "{'Bed Length': 15641,\n",
              " 'Exterior Color': 5840,\n",
              " 'Engine': 3545,\n",
              " 'Options Level': 2241,\n",
              " 'Style': 1747,\n",
              " 'Interior Color': 1285,\n",
              " 'Model': 923,\n",
              " 'Price': 916,\n",
              " 'Make': 896,\n",
              " 'Year': 822,\n",
              " 'Condition (Accidents)': 781,\n",
              " 'Location (State)': 748,\n",
              " 'Location (City)': 713,\n",
              " 'Transmission': 386,\n",
              " 'MPG': 367,\n",
              " 'Mileage': 349,\n",
              " 'Fuel Type': 336,\n",
              " 'Drive Type': 284}"
            ]
          },
          "metadata": {
            "tags": []
          },
          "execution_count": 5
        }
      ]
    },
    {
      "cell_type": "markdown",
      "metadata": {
        "id": "D4iXLDK40A_p"
      },
      "source": [
        "This high quantity of allegedly null values is due to lack of information when inputting specifications in each car listing from its owner or merchant.\n",
        "Some of them will be dropped but most of them will be labeled as another data."
      ]
    },
    {
      "cell_type": "code",
      "metadata": {
        "id": "Sgaba2lM0A_q",
        "outputId": "e19c5591-8fa4-4117-b4ca-849b60ce1e4a"
      },
      "source": [
        "vehicles_dataset.dropna(subset=['Make', 'Model'], inplace=True)\n",
        "vehicles_dataset.shape"
      ],
      "execution_count": null,
      "outputs": [
        {
          "output_type": "execute_result",
          "data": {
            "text/plain": [
              "(15983, 18)"
            ]
          },
          "metadata": {
            "tags": []
          },
          "execution_count": 6
        }
      ]
    },
    {
      "cell_type": "markdown",
      "metadata": {
        "id": "GsMj9NOI0A_x"
      },
      "source": [
        "Make and model are too important to have as an specific information for each row, so the ones were Make and Model are missing were dropped."
      ]
    },
    {
      "cell_type": "markdown",
      "metadata": {
        "id": "RyTNuomG0A_z"
      },
      "source": [
        "Now, 'Drive Type' will be analyzed."
      ]
    },
    {
      "cell_type": "code",
      "metadata": {
        "id": "r94HnVtP0A_0",
        "outputId": "1abfb368-bab1-43b4-ec4d-30daa4b1fedb"
      },
      "source": [
        "vehicles_dataset['Drive Type'].value_counts()"
      ],
      "execution_count": null,
      "outputs": [
        {
          "output_type": "execute_result",
          "data": {
            "text/plain": [
              "FWD        9347\n",
              "AWD        2648\n",
              "4WD        2144\n",
              "RWD        1813\n",
              "Unknown       8\n",
              "Name: Drive Type, dtype: int64"
            ]
          },
          "metadata": {
            "tags": []
          },
          "execution_count": 7
        }
      ]
    },
    {
      "cell_type": "code",
      "metadata": {
        "id": "__qpHH1_0A_4",
        "outputId": "27f672ea-80c8-4834-cb6a-1449ddac588d"
      },
      "source": [
        "vehicles_dataset['Drive Type'].isnull().sum()"
      ],
      "execution_count": null,
      "outputs": [
        {
          "output_type": "execute_result",
          "data": {
            "text/plain": [
              "23"
            ]
          },
          "metadata": {
            "tags": []
          },
          "execution_count": 8
        }
      ]
    },
    {
      "cell_type": "markdown",
      "metadata": {
        "id": "Fuorlg7S0A_8"
      },
      "source": [
        "This variable has just 23 null values. In addition to that there is one category called 'Unknown', which has only 8 occurrences.\n",
        "The rows presenting these values are going to be eliminated."
      ]
    },
    {
      "cell_type": "code",
      "metadata": {
        "id": "t8jR_6xg0A_9"
      },
      "source": [
        "vehicles_dataset[\"Drive Type\"] = vehicles_dataset[\"Drive Type\"].apply(lambda dt: (dt, np.NaN)[dt == 'Unknown'])\n",
        "vehicles_dataset.dropna(subset=[\"Drive Type\"], inplace=True)"
      ],
      "execution_count": null,
      "outputs": []
    },
    {
      "cell_type": "code",
      "metadata": {
        "id": "6M-amnnl0BAA",
        "outputId": "42fda1a5-55ac-4ff0-f7bf-1d87620ed794"
      },
      "source": [
        "vehicles_dataset.shape"
      ],
      "execution_count": null,
      "outputs": [
        {
          "output_type": "execute_result",
          "data": {
            "text/plain": [
              "(15952, 18)"
            ]
          },
          "metadata": {
            "tags": []
          },
          "execution_count": 10
        }
      ]
    },
    {
      "cell_type": "markdown",
      "metadata": {
        "id": "z1_70Cft0BAH"
      },
      "source": [
        "The next variable with the least amount of null values is 'Fuel Type'."
      ]
    },
    {
      "cell_type": "code",
      "metadata": {
        "id": "uYCx3vGq0BAI",
        "outputId": "425cfbfa-8900-4481-a14a-ae48179e4220"
      },
      "source": [
        "print(vehicles_dataset['Fuel Type'].value_counts())\n",
        "vehicles_dataset['Fuel Type'].isnull().sum()"
      ],
      "execution_count": null,
      "outputs": [
        {
          "output_type": "stream",
          "text": [
            "Gas         14999\n",
            "Hybrid        482\n",
            "Diesel        266\n",
            "Plug-In        99\n",
            "Electric       64\n",
            "Hydrogen        3\n",
            "CNG             2\n",
            "Name: Fuel Type, dtype: int64\n"
          ],
          "name": "stdout"
        },
        {
          "output_type": "execute_result",
          "data": {
            "text/plain": [
              "37"
            ]
          },
          "metadata": {
            "tags": []
          },
          "execution_count": 11
        }
      ]
    },
    {
      "cell_type": "code",
      "metadata": {
        "id": "CUNzcEk60BAN"
      },
      "source": [
        "vehicles_dataset['Fuel Type'] = vehicles_dataset['Fuel Type'].apply(lambda ft: (ft, np.NaN)[ft in ['Hydrogen', 'CNG']])\n",
        "vehicles_dataset.dropna(subset=['Fuel Type'], inplace=True)"
      ],
      "execution_count": null,
      "outputs": []
    },
    {
      "cell_type": "code",
      "metadata": {
        "id": "hgXbAhu_0BAW",
        "outputId": "06e3574a-9200-4dd7-ec25-89c25e1f6945"
      },
      "source": [
        "vehicles_dataset.shape"
      ],
      "execution_count": null,
      "outputs": [
        {
          "output_type": "execute_result",
          "data": {
            "text/plain": [
              "(15910, 18)"
            ]
          },
          "metadata": {
            "tags": []
          },
          "execution_count": 13
        }
      ]
    },
    {
      "cell_type": "markdown",
      "metadata": {
        "id": "onSZKetV0BAg"
      },
      "source": [
        "'Mileage' column comes on."
      ]
    },
    {
      "cell_type": "code",
      "metadata": {
        "id": "7235BNWF0BAi",
        "outputId": "b31f2330-9bcd-46cf-db72-16c03e1545db"
      },
      "source": [
        "print(vehicles_dataset['Mileage'].value_counts())\n",
        "vehicles_dataset['Mileage'].isnull().sum()"
      ],
      "execution_count": null,
      "outputs": [
        {
          "output_type": "stream",
          "text": [
            "29,842     20\n",
            "148,040    19\n",
            "152,997    18\n",
            "51,821     16\n",
            "25,581     15\n",
            "           ..\n",
            "149,084     1\n",
            "33,783      1\n",
            "32,955      1\n",
            "16,671      1\n",
            "132,096     1\n",
            "Name: Mileage, Length: 6271, dtype: int64\n"
          ],
          "name": "stdout"
        },
        {
          "output_type": "execute_result",
          "data": {
            "text/plain": [
              "12"
            ]
          },
          "metadata": {
            "tags": []
          },
          "execution_count": 14
        }
      ]
    },
    {
      "cell_type": "code",
      "metadata": {
        "id": "j3xjLwgu0BAq",
        "outputId": "00b8b52f-b5dc-4433-b5a4-2d7315e70561"
      },
      "source": [
        "sorted(list(map(lambda m: str(m), vehicles_dataset['Mileage'].unique())), reverse=True)"
      ],
      "execution_count": null,
      "outputs": [
        {
          "output_type": "execute_result",
          "data": {
            "text/plain": [
              "['nan',\n",
              " '99,999',\n",
              " '99,841',\n",
              " '99,835',\n",
              " '99,729',\n",
              " '99,721',\n",
              " '99,707',\n",
              " '99,699',\n",
              " '99,665',\n",
              " '99,658',\n",
              " '99,625',\n",
              " '99,617',\n",
              " '99,613',\n",
              " '99,612',\n",
              " '99,600',\n",
              " '99,547',\n",
              " '99,440',\n",
              " '99,426',\n",
              " '99,424',\n",
              " '99,393',\n",
              " '99,386',\n",
              " '99,304',\n",
              " '99,263',\n",
              " '99,255',\n",
              " '99,238',\n",
              " '99,223',\n",
              " '99,137',\n",
              " '99,121',\n",
              " '99,112',\n",
              " '99,111',\n",
              " '99,102',\n",
              " '99,094',\n",
              " '99,065',\n",
              " '98,940',\n",
              " '98,893',\n",
              " '98,849',\n",
              " '98,840',\n",
              " '98,832',\n",
              " '98,830',\n",
              " '98,815',\n",
              " '98,794',\n",
              " '98,764',\n",
              " '98,750',\n",
              " '98,721',\n",
              " '98,715',\n",
              " '98,693',\n",
              " '98,681',\n",
              " '98,634',\n",
              " '98,615',\n",
              " '98,611',\n",
              " '98,609',\n",
              " '98,601',\n",
              " '98,600',\n",
              " '98,502',\n",
              " '98,459',\n",
              " '98,443',\n",
              " '98,429',\n",
              " '98,399',\n",
              " '98,358',\n",
              " '98,356',\n",
              " '98,326',\n",
              " '98,276',\n",
              " '98,175',\n",
              " '98,174',\n",
              " '98,141',\n",
              " '98,134',\n",
              " '98,087',\n",
              " '98,073',\n",
              " '98,026',\n",
              " '98',\n",
              " '97,922',\n",
              " '97,891',\n",
              " '97,860',\n",
              " '97,814',\n",
              " '97,813',\n",
              " '97,773',\n",
              " '97,762',\n",
              " '97,746',\n",
              " '97,687',\n",
              " '97,632',\n",
              " '97,586',\n",
              " '97,565',\n",
              " '97,358',\n",
              " '97,356',\n",
              " '97,329',\n",
              " '97,202',\n",
              " '97,165',\n",
              " '97,150',\n",
              " '97,116',\n",
              " '97,077',\n",
              " '97,071',\n",
              " '97,026',\n",
              " '97,000',\n",
              " '96,999',\n",
              " '96,964',\n",
              " '96,946',\n",
              " '96,931',\n",
              " '96,902',\n",
              " '96,873',\n",
              " '96,858',\n",
              " '96,836',\n",
              " '96,799',\n",
              " '96,796',\n",
              " '96,766',\n",
              " '96,641',\n",
              " '96,635',\n",
              " '96,623',\n",
              " '96,574',\n",
              " '96,557',\n",
              " '96,551',\n",
              " '96,546',\n",
              " '96,458',\n",
              " '96,451',\n",
              " '96,434',\n",
              " '96,390',\n",
              " '96,374',\n",
              " '96,360',\n",
              " '96,309',\n",
              " '96,239',\n",
              " '96,227',\n",
              " '96,210',\n",
              " '96,150',\n",
              " '96,084',\n",
              " '96,000',\n",
              " '96',\n",
              " '95,877',\n",
              " '95,869',\n",
              " '95,858',\n",
              " '95,798',\n",
              " '95,766',\n",
              " '95,759',\n",
              " '95,758',\n",
              " '95,690',\n",
              " '95,682',\n",
              " '95,657',\n",
              " '95,614',\n",
              " '95,596',\n",
              " '95,546',\n",
              " '95,532',\n",
              " '95,386',\n",
              " '95,383',\n",
              " '95,356',\n",
              " '95,246',\n",
              " '95,245',\n",
              " '95,240',\n",
              " '95,218',\n",
              " '95,187',\n",
              " '95,118',\n",
              " '95,006',\n",
              " '94,844',\n",
              " '94,839',\n",
              " '94,811',\n",
              " '94,726',\n",
              " '94,699',\n",
              " '94,678',\n",
              " '94,655',\n",
              " '94,555',\n",
              " '94,542',\n",
              " '94,534',\n",
              " '94,512',\n",
              " '94,500',\n",
              " '94,435',\n",
              " '94,400',\n",
              " '94,375',\n",
              " '94,362',\n",
              " '94,264',\n",
              " '94,100',\n",
              " '94,089',\n",
              " '94,051',\n",
              " '94,009',\n",
              " '94,000',\n",
              " '93,952',\n",
              " '93,915',\n",
              " '93,910',\n",
              " '93,898',\n",
              " '93,823',\n",
              " '93,730',\n",
              " '93,685',\n",
              " '93,683',\n",
              " '93,578',\n",
              " '93,564',\n",
              " '93,477',\n",
              " '93,471',\n",
              " '93,462',\n",
              " '93,438',\n",
              " '93,392',\n",
              " '93,387',\n",
              " '93,372',\n",
              " '93,347',\n",
              " '93,327',\n",
              " '93,320',\n",
              " '93,283',\n",
              " '93,248',\n",
              " '93,245',\n",
              " '93,244',\n",
              " '93,242',\n",
              " '93,214',\n",
              " '93,171',\n",
              " '93,154',\n",
              " '93,136',\n",
              " '93,129',\n",
              " '93,103',\n",
              " '93,038',\n",
              " '92,997',\n",
              " '92,926',\n",
              " '92,897',\n",
              " '92,838',\n",
              " '92,814',\n",
              " '92,813',\n",
              " '92,645',\n",
              " '92,634',\n",
              " '92,617',\n",
              " '92,547',\n",
              " '92,542',\n",
              " '92,495',\n",
              " '92,493',\n",
              " '92,490',\n",
              " '92,485',\n",
              " '92,380',\n",
              " '92,371',\n",
              " '92,229',\n",
              " '92,148',\n",
              " '92,136',\n",
              " '92,118',\n",
              " '92,053',\n",
              " '91,789',\n",
              " '91,788',\n",
              " '91,757',\n",
              " '91,649',\n",
              " '91,625',\n",
              " '91,500',\n",
              " '91,472',\n",
              " '91,346',\n",
              " '91,275',\n",
              " '91,254',\n",
              " '91,169',\n",
              " '91,101',\n",
              " '91,053',\n",
              " '91,019',\n",
              " '91,018',\n",
              " '90,983',\n",
              " '90,942',\n",
              " '90,902',\n",
              " '90,881',\n",
              " '90,846',\n",
              " '90,830',\n",
              " '90,677',\n",
              " '90,672',\n",
              " '90,646',\n",
              " '90,640',\n",
              " '90,629',\n",
              " '90,602',\n",
              " '90,576',\n",
              " '90,479',\n",
              " '90,453',\n",
              " '90,397',\n",
              " '90,387',\n",
              " '90,361',\n",
              " '90,268',\n",
              " '90,203',\n",
              " '90,194',\n",
              " '90,184',\n",
              " '90,148',\n",
              " '90,143',\n",
              " '90,129',\n",
              " '90,128',\n",
              " '90,125',\n",
              " '90,093',\n",
              " '90,044',\n",
              " '90,010',\n",
              " '90,001',\n",
              " '90,000',\n",
              " '9,985',\n",
              " '9,962',\n",
              " '9,941',\n",
              " '9,938',\n",
              " '9,918',\n",
              " '9,863',\n",
              " '9,831',\n",
              " '9,809',\n",
              " '9,807',\n",
              " '9,795',\n",
              " '9,793',\n",
              " '9,737',\n",
              " '9,692',\n",
              " '9,685',\n",
              " '9,661',\n",
              " '9,587',\n",
              " '9,576',\n",
              " '9,567',\n",
              " '9,563',\n",
              " '9,514',\n",
              " '9,500',\n",
              " '9,477',\n",
              " '9,452',\n",
              " '9,405',\n",
              " '9,399',\n",
              " '9,286',\n",
              " '9,278',\n",
              " '9,270',\n",
              " '9,244',\n",
              " '9,229',\n",
              " '9,214',\n",
              " '9,209',\n",
              " '9,172',\n",
              " '9,160',\n",
              " '9,145',\n",
              " '9,127',\n",
              " '9,103',\n",
              " '9,074',\n",
              " '9,066',\n",
              " '9,050',\n",
              " '9,035',\n",
              " '9,010',\n",
              " '9,006',\n",
              " '89,961',\n",
              " '89,910',\n",
              " '89,882',\n",
              " '89,864',\n",
              " '89,823',\n",
              " '89,805',\n",
              " '89,765',\n",
              " '89,764',\n",
              " '89,675',\n",
              " '89,632',\n",
              " '89,624',\n",
              " '89,617',\n",
              " '89,616',\n",
              " '89,551',\n",
              " '89,535',\n",
              " '89,516',\n",
              " '89,488',\n",
              " '89,455',\n",
              " '89,414',\n",
              " '89,402',\n",
              " '89,399',\n",
              " '89,378',\n",
              " '89,306',\n",
              " '89,303',\n",
              " '89,134',\n",
              " '89,051',\n",
              " '88,970',\n",
              " '88,930',\n",
              " '88,826',\n",
              " '88,807',\n",
              " '88,753',\n",
              " '88,659',\n",
              " '88,619',\n",
              " '88,615',\n",
              " '88,599',\n",
              " '88,588',\n",
              " '88,561',\n",
              " '88,556',\n",
              " '88,529',\n",
              " '88,456',\n",
              " '88,408',\n",
              " '88,367',\n",
              " '88,268',\n",
              " '88,213',\n",
              " '88,139',\n",
              " '88,065',\n",
              " '88,050',\n",
              " '88,042',\n",
              " '88,021',\n",
              " '88,000',\n",
              " '87,902',\n",
              " '87,895',\n",
              " '87,819',\n",
              " '87,802',\n",
              " '87,795',\n",
              " '87,700',\n",
              " '87,682',\n",
              " '87,655',\n",
              " '87,600',\n",
              " '87,549',\n",
              " '87,510',\n",
              " '87,500',\n",
              " '87,486',\n",
              " '87,439',\n",
              " '87,388',\n",
              " '87,368',\n",
              " '87,359',\n",
              " '87,358',\n",
              " '87,310',\n",
              " '87,298',\n",
              " '87,232',\n",
              " '87,162',\n",
              " '87,100',\n",
              " '87,090',\n",
              " '87,084',\n",
              " '87,027',\n",
              " '87,010',\n",
              " '87,004',\n",
              " '867',\n",
              " '86,982',\n",
              " '86,957',\n",
              " '86,948',\n",
              " '86,894',\n",
              " '86,812',\n",
              " '86,792',\n",
              " '86,785',\n",
              " '86,712',\n",
              " '86,697',\n",
              " '86,696',\n",
              " '86,642',\n",
              " '86,612',\n",
              " '86,592',\n",
              " '86,424',\n",
              " '86,397',\n",
              " '86,296',\n",
              " '86,280',\n",
              " '86,247',\n",
              " '86,239',\n",
              " '86,193',\n",
              " '86,175',\n",
              " '86,013',\n",
              " '85,941',\n",
              " '85,931',\n",
              " '85,851',\n",
              " '85,830',\n",
              " '85,822',\n",
              " '85,735',\n",
              " '85,730',\n",
              " '85,708',\n",
              " '85,606',\n",
              " '85,596',\n",
              " '85,466',\n",
              " '85,353',\n",
              " '85,337',\n",
              " '85,335',\n",
              " '85,322',\n",
              " '85,287',\n",
              " '85,185',\n",
              " '85,145',\n",
              " '85,121',\n",
              " '85,065',\n",
              " '85,043',\n",
              " '85,018',\n",
              " '85,000',\n",
              " '84,929',\n",
              " '84,902',\n",
              " '84,870',\n",
              " '84,854',\n",
              " '84,842',\n",
              " '84,770',\n",
              " '84,730',\n",
              " '84,723',\n",
              " '84,661',\n",
              " '84,651',\n",
              " '84,632',\n",
              " '84,608',\n",
              " '84,588',\n",
              " '84,565',\n",
              " '84,490',\n",
              " '84,476',\n",
              " '84,461',\n",
              " '84,453',\n",
              " '84,445',\n",
              " '84,334',\n",
              " '84,323',\n",
              " '84,279',\n",
              " '84,276',\n",
              " '84,246',\n",
              " '84,193',\n",
              " '84,188',\n",
              " '84,171',\n",
              " '84,156',\n",
              " '84,140',\n",
              " '84,125',\n",
              " '84,111',\n",
              " '84,101',\n",
              " '84,001',\n",
              " '84,000',\n",
              " '83,987',\n",
              " '83,963',\n",
              " '83,960',\n",
              " '83,954',\n",
              " '83,953',\n",
              " '83,892',\n",
              " '83,862',\n",
              " '83,837',\n",
              " '83,833',\n",
              " '83,769',\n",
              " '83,725',\n",
              " '83,721',\n",
              " '83,683',\n",
              " '83,653',\n",
              " '83,642',\n",
              " '83,623',\n",
              " '83,606',\n",
              " '83,559',\n",
              " '83,520',\n",
              " '83,505',\n",
              " '83,491',\n",
              " '83,435',\n",
              " '83,421',\n",
              " '83,379',\n",
              " '83,308',\n",
              " '83,292',\n",
              " '83,291',\n",
              " '83,276',\n",
              " '83,265',\n",
              " '83,261',\n",
              " '83,213',\n",
              " '83,188',\n",
              " '83,145',\n",
              " '83,109',\n",
              " '83,107',\n",
              " '83,086',\n",
              " '83,069',\n",
              " '83,065',\n",
              " '83,040',\n",
              " '83,037',\n",
              " '82,980',\n",
              " '82,973',\n",
              " '82,945',\n",
              " '82,928',\n",
              " '82,918',\n",
              " '82,916',\n",
              " '82,888',\n",
              " '82,881',\n",
              " '82,865',\n",
              " '82,832',\n",
              " '82,789',\n",
              " '82,783',\n",
              " '82,700',\n",
              " '82,609',\n",
              " '82,566',\n",
              " '82,548',\n",
              " '82,529',\n",
              " '82,509',\n",
              " '82,406',\n",
              " '82,397',\n",
              " '82,373',\n",
              " '82,296',\n",
              " '82,254',\n",
              " '82,225',\n",
              " '82,182',\n",
              " '82,164',\n",
              " '82,127',\n",
              " '82,115',\n",
              " '82,112',\n",
              " '82,111',\n",
              " '82,076',\n",
              " '82,055',\n",
              " '82,022',\n",
              " '82',\n",
              " '81,987',\n",
              " '81,978',\n",
              " '81,969',\n",
              " '81,767',\n",
              " '81,765',\n",
              " '81,735',\n",
              " '81,684',\n",
              " '81,649',\n",
              " '81,565',\n",
              " '81,547',\n",
              " '81,526',\n",
              " '81,424',\n",
              " '81,387',\n",
              " '81,335',\n",
              " '81,330',\n",
              " '81,328',\n",
              " '81,230',\n",
              " '81,161',\n",
              " '81,126',\n",
              " '81,064',\n",
              " '80,977',\n",
              " '80,916',\n",
              " '80,906',\n",
              " '80,865',\n",
              " '80,753',\n",
              " '80,735',\n",
              " '80,704',\n",
              " '80,654',\n",
              " '80,576',\n",
              " '80,546',\n",
              " '80,543',\n",
              " '80,503',\n",
              " '80,477',\n",
              " '80,475',\n",
              " '80,446',\n",
              " '80,355',\n",
              " '80,317',\n",
              " '80,314',\n",
              " '80,244',\n",
              " '80,221',\n",
              " '80,204',\n",
              " '80,185',\n",
              " '80,173',\n",
              " '80,143',\n",
              " '80,100',\n",
              " '80,013',\n",
              " '8,995',\n",
              " '8,932',\n",
              " '8,905',\n",
              " '8,896',\n",
              " '8,863',\n",
              " '8,849',\n",
              " '8,832',\n",
              " '8,781',\n",
              " '8,773',\n",
              " '8,756',\n",
              " '8,739',\n",
              " '8,722',\n",
              " '8,707',\n",
              " '8,697',\n",
              " '8,656',\n",
              " '8,634',\n",
              " '8,601',\n",
              " '8,597',\n",
              " '8,585',\n",
              " '8,578',\n",
              " '8,476',\n",
              " '8,468',\n",
              " '8,459',\n",
              " '8,447',\n",
              " '8,427',\n",
              " '8,387',\n",
              " '8,361',\n",
              " '8,337',\n",
              " '8,319',\n",
              " '8,276',\n",
              " '8,253',\n",
              " '8,250',\n",
              " '8,245',\n",
              " '8,232',\n",
              " '8,199',\n",
              " '8,186',\n",
              " '8,075',\n",
              " '8,043',\n",
              " '8,023',\n",
              " '8,011',\n",
              " '8',\n",
              " '79,962',\n",
              " '79,946',\n",
              " '79,937',\n",
              " '79,917',\n",
              " '79,865',\n",
              " '79,856',\n",
              " '79,685',\n",
              " '79,674',\n",
              " '79,672',\n",
              " '79,621',\n",
              " '79,609',\n",
              " '79,585',\n",
              " '79,548',\n",
              " '79,438',\n",
              " '79,314',\n",
              " '79,236',\n",
              " '79,207',\n",
              " '79,205',\n",
              " '79,197',\n",
              " '79,140',\n",
              " '79,055',\n",
              " '79,016',\n",
              " '79,000',\n",
              " '78,921',\n",
              " '78,915',\n",
              " '78,885',\n",
              " '78,854',\n",
              " '78,774',\n",
              " '78,727',\n",
              " '78,726',\n",
              " '78,722',\n",
              " '78,718',\n",
              " '78,613',\n",
              " '78,595',\n",
              " '78,572',\n",
              " '78,530',\n",
              " '78,511',\n",
              " '78,500',\n",
              " '78,452',\n",
              " '78,440',\n",
              " '78,329',\n",
              " '78,328',\n",
              " '78,296',\n",
              " '78,295',\n",
              " '78,202',\n",
              " '78,124',\n",
              " '78,055',\n",
              " '777',\n",
              " '77,882',\n",
              " '77,854',\n",
              " '77,821',\n",
              " '77,743',\n",
              " '77,720',\n",
              " '77,674',\n",
              " '77,458',\n",
              " '77,426',\n",
              " '77,382',\n",
              " '77,381',\n",
              " '77,284',\n",
              " '77,271',\n",
              " '77,268',\n",
              " '77,162',\n",
              " '77,153',\n",
              " '77,087',\n",
              " '77,086',\n",
              " '76,999',\n",
              " '76,985',\n",
              " '76,979',\n",
              " '76,977',\n",
              " '76,938',\n",
              " '76,885',\n",
              " '76,870',\n",
              " '76,868',\n",
              " '76,848',\n",
              " '76,782',\n",
              " '76,779',\n",
              " '76,774',\n",
              " '76,744',\n",
              " '76,653',\n",
              " '76,629',\n",
              " '76,537',\n",
              " '76,454',\n",
              " '76,363',\n",
              " '76,354',\n",
              " '76,279',\n",
              " '76,225',\n",
              " '76,213',\n",
              " '76,141',\n",
              " '76,128',\n",
              " '76,116',\n",
              " '76,022',\n",
              " '76,000',\n",
              " '759',\n",
              " '75,924',\n",
              " '75,903',\n",
              " '75,815',\n",
              " '75,811',\n",
              " '75,809',\n",
              " '75,783',\n",
              " '75,773',\n",
              " '75,710',\n",
              " '75,698',\n",
              " '75,667',\n",
              " '75,634',\n",
              " '75,546',\n",
              " '75,540',\n",
              " '75,513',\n",
              " '75,444',\n",
              " '75,409',\n",
              " '75,300',\n",
              " '75,257',\n",
              " '75,233',\n",
              " '75,206',\n",
              " '75,151',\n",
              " '75,113',\n",
              " '75,076',\n",
              " '75,060',\n",
              " '75,035',\n",
              " '74,954',\n",
              " '74,932',\n",
              " '74,930',\n",
              " '74,918',\n",
              " '74,870',\n",
              " '74,853',\n",
              " '74,830',\n",
              " '74,684',\n",
              " '74,680',\n",
              " '74,611',\n",
              " '74,606',\n",
              " '74,551',\n",
              " '74,483',\n",
              " '74,474',\n",
              " '74,458',\n",
              " '74,407',\n",
              " '74,398',\n",
              " '74,388',\n",
              " '74,344',\n",
              " '74,302',\n",
              " '74,300',\n",
              " '74,092',\n",
              " '74,086',\n",
              " '74,083',\n",
              " '74,022',\n",
              " '74',\n",
              " '73,995',\n",
              " '73,921',\n",
              " '73,890',\n",
              " '73,859',\n",
              " '73,805',\n",
              " '73,795',\n",
              " '73,748',\n",
              " '73,723',\n",
              " '73,653',\n",
              " '73,587',\n",
              " '73,545',\n",
              " '73,507',\n",
              " '73,422',\n",
              " '73,407',\n",
              " '73,382',\n",
              " '73,320',\n",
              " '73,305',\n",
              " '73,245',\n",
              " '73,240',\n",
              " '73,184',\n",
              " '73,154',\n",
              " '73,072',\n",
              " '73,055',\n",
              " '73,016',\n",
              " '72,879',\n",
              " '72,858',\n",
              " '72,823',\n",
              " '72,819',\n",
              " '72,795',\n",
              " '72,743',\n",
              " '72,741',\n",
              " '72,721',\n",
              " '72,684',\n",
              " '72,615',\n",
              " '72,589',\n",
              " '72,544',\n",
              " '72,500',\n",
              " '72,462',\n",
              " '72,457',\n",
              " '72,446',\n",
              " '72,411',\n",
              " '72,410',\n",
              " '72,377',\n",
              " '72,365',\n",
              " '72,341',\n",
              " '72,322',\n",
              " '72,316',\n",
              " '72,288',\n",
              " '72,239',\n",
              " '72,234',\n",
              " '72,156',\n",
              " '72,102',\n",
              " '72,092',\n",
              " '72,045',\n",
              " '72,003',\n",
              " '711',\n",
              " '71,999',\n",
              " '71,975',\n",
              " '71,973',\n",
              " '71,969',\n",
              " '71,955',\n",
              " '71,941',\n",
              " '71,939',\n",
              " '71,931',\n",
              " '71,818',\n",
              " '71,815',\n",
              " '71,799',\n",
              " '71,771',\n",
              " '71,710',\n",
              " '71,674',\n",
              " '71,638',\n",
              " '71,609',\n",
              " '71,607',\n",
              " '71,585',\n",
              " '71,573',\n",
              " '71,502',\n",
              " '71,429',\n",
              " '71,423',\n",
              " '71,386',\n",
              " '71,314',\n",
              " '71,293',\n",
              " '71,249',\n",
              " '71,223',\n",
              " '71,084',\n",
              " '71,058',\n",
              " '71,016',\n",
              " '71,000',\n",
              " '71',\n",
              " '70,878',\n",
              " '70,850',\n",
              " '70,817',\n",
              " '70,813',\n",
              " '70,812',\n",
              " '70,775',\n",
              " '70,735',\n",
              " '70,707',\n",
              " '70,684',\n",
              " '70,681',\n",
              " '70,651',\n",
              " '70,637',\n",
              " '70,633',\n",
              " '70,613',\n",
              " '70,555',\n",
              " '70,449',\n",
              " '70,425',\n",
              " '70,389',\n",
              " '70,357',\n",
              " '70,295',\n",
              " '70,292',\n",
              " '70,257',\n",
              " '70,234',\n",
              " '70,196',\n",
              " '70,187',\n",
              " '70,177',\n",
              " '70,097',\n",
              " '70,078',\n",
              " '70,047',\n",
              " '70,045',\n",
              " '70,001',\n",
              " '7,991',\n",
              " '7,971',\n",
              " '7,959',\n",
              " '7,939',\n",
              " '7,926',\n",
              " '7,910',\n",
              " '7,848',\n",
              " '7,777',\n",
              " '7,729',\n",
              " '7,710',\n",
              " '7,709',\n",
              " '7,684',\n",
              " '7,680',\n",
              " '7,641',\n",
              " '7,634',\n",
              " '7,631',\n",
              " '7,624',\n",
              " '7,615',\n",
              " '7,612',\n",
              " '7,609',\n",
              " '7,554',\n",
              " '7,549',\n",
              " '7,466',\n",
              " '7,464',\n",
              " '7,440',\n",
              " '7,434',\n",
              " '7,406',\n",
              " '7,379',\n",
              " '7,373',\n",
              " '7,351',\n",
              " '7,345',\n",
              " '7,275',\n",
              " '7,273',\n",
              " '7,261',\n",
              " '7,246',\n",
              " '7,234',\n",
              " '7,209',\n",
              " '7,206',\n",
              " '7,203',\n",
              " '7,200',\n",
              " '7,173',\n",
              " '7,158',\n",
              " '7,110',\n",
              " '7,104',\n",
              " '7,000',\n",
              " '7',\n",
              " '698',\n",
              " '69,987',\n",
              " '69,977',\n",
              " '69,896',\n",
              " '69,850',\n",
              " '69,842',\n",
              " '69,771',\n",
              " '69,676',\n",
              " '69,628',\n",
              " '69,600',\n",
              " '69,566',\n",
              " '69,495',\n",
              " '69,473',\n",
              " '69,466',\n",
              " '69,401',\n",
              " '69,346',\n",
              " '69,244',\n",
              " '69,166',\n",
              " '69,100',\n",
              " '69,062',\n",
              " '69,055',\n",
              " '69,047',\n",
              " '68,994',\n",
              " '68,971',\n",
              " '68,960',\n",
              " '68,929',\n",
              " '68,878',\n",
              " '68,753',\n",
              " '68,733',\n",
              " '68,594',\n",
              " '68,562',\n",
              " '68,521',\n",
              " '68,489',\n",
              " '68,355',\n",
              " '68,311',\n",
              " '68,309',\n",
              " '68,285',\n",
              " '68,196',\n",
              " '68,144',\n",
              " '68,101',\n",
              " '68,078',\n",
              " '68,057',\n",
              " '68,055',\n",
              " '68,051',\n",
              " '68,025',\n",
              " '68,000',\n",
              " '676',\n",
              " '673',\n",
              " '67,995',\n",
              " '67,968',\n",
              " '67,949',\n",
              " '67,933',\n",
              " '67,931',\n",
              " '67,870',\n",
              " '67,863',\n",
              " '67,833',\n",
              " '67,823',\n",
              " ...]"
            ]
          },
          "metadata": {
            "tags": []
          },
          "execution_count": 15
        }
      ]
    },
    {
      "cell_type": "code",
      "metadata": {
        "id": "gd8GEeYD0BAu"
      },
      "source": [
        "vehicles_dataset.dropna(subset=['Mileage'], inplace=True)"
      ],
      "execution_count": null,
      "outputs": []
    },
    {
      "cell_type": "code",
      "metadata": {
        "id": "ti3TUwsC0BA3"
      },
      "source": [
        "def mileage_lapse(mileage):\n",
        "    mileage = str(mileage)\n",
        "    if len(mileage) == 7:\n",
        "        return \"100,000 or more\"\n",
        "    elif len(mileage) == 6:\n",
        "        return str(mileage[0])+\"0,000 - \"+mileage[0]+\"9,999\"\n",
        "    else:\n",
        "        return \"Less than 10,000\""
      ],
      "execution_count": null,
      "outputs": []
    },
    {
      "cell_type": "code",
      "metadata": {
        "id": "8WuNNxE40BBA",
        "outputId": "3e23b54c-8551-43b6-b58a-313af95f380b"
      },
      "source": [
        "vehicles_dataset['Mileage'] = cars_dataset['Mileage'].apply(mileage_lapse)\n",
        "vehicles_dataset['Mileage'].value_counts()"
      ],
      "execution_count": null,
      "outputs": [
        {
          "output_type": "execute_result",
          "data": {
            "text/plain": [
              "30,000 - 39,999     2974\n",
              "100,000 or more     2923\n",
              "20,000 - 29,999     2613\n",
              "40,000 - 49,999     1490\n",
              "10,000 - 19,999     1460\n",
              "Less than 10,000     895\n",
              "50,000 - 59,999      779\n",
              "90,000 - 99,999      748\n",
              "60,000 - 69,999      719\n",
              "80,000 - 89,999      673\n",
              "70,000 - 79,999      624\n",
              "Name: Mileage, dtype: int64"
            ]
          },
          "metadata": {
            "tags": []
          },
          "execution_count": 18
        }
      ]
    },
    {
      "cell_type": "markdown",
      "metadata": {
        "id": "XcmrVXN40BBH"
      },
      "source": [
        "Following into the variables list with the least null values, 'MPG' comes up."
      ]
    },
    {
      "cell_type": "code",
      "metadata": {
        "scrolled": true,
        "id": "gn9wXFkz0BBI",
        "outputId": "82f2f17f-93bc-4a2d-db3c-bba427be355d"
      },
      "source": [
        "print(vehicles_dataset['MPG'].value_counts())\n",
        "vehicles_dataset['MPG'].isnull().sum()"
      ],
      "execution_count": null,
      "outputs": [
        {
          "output_type": "stream",
          "text": [
            "17 cty / 25 hwy      603\n",
            "29 cty / 37 hwy      592\n",
            "N/A cty / N/A hwy    543\n",
            "28 cty / 39 hwy      381\n",
            "26 cty / 33 hwy      365\n",
            "                    ... \n",
            "129 cty / 102 hwy      1\n",
            "29 cty / 27 hwy        1\n",
            "12 cty / 14 hwy        1\n",
            "14 cty / 24 hwy        1\n",
            "31 cty / 47 hwy        1\n",
            "Name: MPG, Length: 271, dtype: int64\n"
          ],
          "name": "stdout"
        },
        {
          "output_type": "execute_result",
          "data": {
            "text/plain": [
              "18"
            ]
          },
          "metadata": {
            "tags": []
          },
          "execution_count": 19
        }
      ]
    },
    {
      "cell_type": "markdown",
      "metadata": {
        "id": "CC7BuLd70BBN"
      },
      "source": [
        "This column has only 18 null values, however, they are also represented as a True value as 'N/A cty / N/A hwy', as seen down below.\n",
        "As there are around 500 of these values, they will be categorized as well."
      ]
    },
    {
      "cell_type": "code",
      "metadata": {
        "id": "MpETy51I0BBO",
        "outputId": "81aaadfd-577b-4a05-c663-f9784803dfe0"
      },
      "source": [
        "sorted(list(vehicles_dataset.dropna(subset=['MPG'])['MPG'].unique()))"
      ],
      "execution_count": null,
      "outputs": [
        {
          "output_type": "execute_result",
          "data": {
            "text/plain": [
              "['10 cty / 16 hwy',\n",
              " '10 cty / 17 hwy',\n",
              " '101 cty / 93 hwy',\n",
              " '102 cty / 105 hwy',\n",
              " '104 cty / 91 hwy',\n",
              " '106 cty / 92 hwy',\n",
              " '11 cty / 15 hwy',\n",
              " '11 cty / 16 hwy',\n",
              " '11 cty / 17 hwy',\n",
              " '11 cty / 18 hwy',\n",
              " '11 cty / N/A hwy',\n",
              " '12 cty / 14 hwy',\n",
              " '12 cty / 16 hwy',\n",
              " '12 cty / 17 hwy',\n",
              " '12 cty / 18 hwy',\n",
              " '12 cty / 19 hwy',\n",
              " '120 cty / 112 hwy',\n",
              " '121 cty / 103 hwy',\n",
              " '122 cty / 108 hwy',\n",
              " '122 cty / 93 hwy',\n",
              " '124 cty / 94 hwy',\n",
              " '126 cty / 101 hwy',\n",
              " '126 cty / 105 hwy',\n",
              " '126 cty / 99 hwy',\n",
              " '129 cty / 102 hwy',\n",
              " '13 cty / 16 hwy',\n",
              " '13 cty / 17 hwy',\n",
              " '13 cty / 18 hwy',\n",
              " '13 cty / 19 hwy',\n",
              " '13 cty / 20 hwy',\n",
              " '13 cty / 21 hwy',\n",
              " '13 cty / 22 hwy',\n",
              " '137 cty / 111 hwy',\n",
              " '14 cty / 17 hwy',\n",
              " '14 cty / 18 hwy',\n",
              " '14 cty / 19 hwy',\n",
              " '14 cty / 20 hwy',\n",
              " '14 cty / 21 hwy',\n",
              " '14 cty / 22 hwy',\n",
              " '14 cty / 23 hwy',\n",
              " '14 cty / 24 hwy',\n",
              " '15 cty / 17 hwy',\n",
              " '15 cty / 18 hwy',\n",
              " '15 cty / 19 hwy',\n",
              " '15 cty / 20 hwy',\n",
              " '15 cty / 21 hwy',\n",
              " '15 cty / 22 hwy',\n",
              " '15 cty / 23 hwy',\n",
              " '15 cty / 24 hwy',\n",
              " '15 cty / 25 hwy',\n",
              " '15 cty / 27 hwy',\n",
              " '150 cty / 122 hwy',\n",
              " '16 cty / 18 hwy',\n",
              " '16 cty / 19 hwy',\n",
              " '16 cty / 20 hwy',\n",
              " '16 cty / 21 hwy',\n",
              " '16 cty / 22 hwy',\n",
              " '16 cty / 23 hwy',\n",
              " '16 cty / 24 hwy',\n",
              " '16 cty / 25 hwy',\n",
              " '16 cty / 26 hwy',\n",
              " '17 cty / 20 hwy',\n",
              " '17 cty / 21 hwy',\n",
              " '17 cty / 22 hwy',\n",
              " '17 cty / 23 hwy',\n",
              " '17 cty / 24 hwy',\n",
              " '17 cty / 25 hwy',\n",
              " '17 cty / 26 hwy',\n",
              " '17 cty / 27 hwy',\n",
              " '17 cty / 28 hwy',\n",
              " '17 cty / 29 hwy',\n",
              " '18 cty / 22 hwy',\n",
              " '18 cty / 23 hwy',\n",
              " '18 cty / 24 hwy',\n",
              " '18 cty / 25 hwy',\n",
              " '18 cty / 26 hwy',\n",
              " '18 cty / 27 hwy',\n",
              " '18 cty / 28 hwy',\n",
              " '18 cty / 29 hwy',\n",
              " '18 cty / 30 hwy',\n",
              " '19 cty / 22 hwy',\n",
              " '19 cty / 23 hwy',\n",
              " '19 cty / 24 hwy',\n",
              " '19 cty / 25 hwy',\n",
              " '19 cty / 26 hwy',\n",
              " '19 cty / 27 hwy',\n",
              " '19 cty / 28 hwy',\n",
              " '19 cty / 29 hwy',\n",
              " '19 cty / 30 hwy',\n",
              " '19 cty / 31 hwy',\n",
              " '20 cty / 23 hwy',\n",
              " '20 cty / 24 hwy',\n",
              " '20 cty / 25 hwy',\n",
              " '20 cty / 26 hwy',\n",
              " '20 cty / 27 hwy',\n",
              " '20 cty / 28 hwy',\n",
              " '20 cty / 29 hwy',\n",
              " '20 cty / 30 hwy',\n",
              " '20 cty / 31 hwy',\n",
              " '20 cty / 32 hwy',\n",
              " '20 cty / 34 hwy',\n",
              " '21 cty / 22 hwy',\n",
              " '21 cty / 24 hwy',\n",
              " '21 cty / 25 hwy',\n",
              " '21 cty / 26 hwy',\n",
              " '21 cty / 27 hwy',\n",
              " '21 cty / 28 hwy',\n",
              " '21 cty / 29 hwy',\n",
              " '21 cty / 30 hwy',\n",
              " '21 cty / 31 hwy',\n",
              " '21 cty / 32 hwy',\n",
              " '21 cty / 33 hwy',\n",
              " '21 cty / 34 hwy',\n",
              " '22 cty / 25 hwy',\n",
              " '22 cty / 26 hwy',\n",
              " '22 cty / 27 hwy',\n",
              " '22 cty / 28 hwy',\n",
              " '22 cty / 29 hwy',\n",
              " '22 cty / 30 hwy',\n",
              " '22 cty / 31 hwy',\n",
              " '22 cty / 32 hwy',\n",
              " '22 cty / 33 hwy',\n",
              " '22 cty / 34 hwy',\n",
              " '22 cty / 35 hwy',\n",
              " '23 cty / 27 hwy',\n",
              " '23 cty / 28 hwy',\n",
              " '23 cty / 29 hwy',\n",
              " '23 cty / 30 hwy',\n",
              " '23 cty / 31 hwy',\n",
              " '23 cty / 32 hwy',\n",
              " '23 cty / 33 hwy',\n",
              " '23 cty / 34 hwy',\n",
              " '23 cty / 35 hwy',\n",
              " '23 cty / 36 hwy',\n",
              " '24 cty / 25 hwy',\n",
              " '24 cty / 26 hwy',\n",
              " '24 cty / 27 hwy',\n",
              " '24 cty / 28 hwy',\n",
              " '24 cty / 29 hwy',\n",
              " '24 cty / 30 hwy',\n",
              " '24 cty / 31 hwy',\n",
              " '24 cty / 32 hwy',\n",
              " '24 cty / 33 hwy',\n",
              " '24 cty / 34 hwy',\n",
              " '24 cty / 35 hwy',\n",
              " '24 cty / 36 hwy',\n",
              " '24 cty / 37 hwy',\n",
              " '25 cty / 26 hwy',\n",
              " '25 cty / 28 hwy',\n",
              " '25 cty / 29 hwy',\n",
              " '25 cty / 30 hwy',\n",
              " '25 cty / 31 hwy',\n",
              " '25 cty / 32 hwy',\n",
              " '25 cty / 33 hwy',\n",
              " '25 cty / 34 hwy',\n",
              " '25 cty / 35 hwy',\n",
              " '25 cty / 36 hwy',\n",
              " '25 cty / 37 hwy',\n",
              " '25 cty / 38 hwy',\n",
              " '26 cty / 24 hwy',\n",
              " '26 cty / 29 hwy',\n",
              " '26 cty / 30 hwy',\n",
              " '26 cty / 31 hwy',\n",
              " '26 cty / 32 hwy',\n",
              " '26 cty / 33 hwy',\n",
              " '26 cty / 34 hwy',\n",
              " '26 cty / 35 hwy',\n",
              " '26 cty / 36 hwy',\n",
              " '26 cty / 37 hwy',\n",
              " '26 cty / 38 hwy',\n",
              " '26 cty / 39 hwy',\n",
              " '27 cty / 28 hwy',\n",
              " '27 cty / 29 hwy',\n",
              " '27 cty / 31 hwy',\n",
              " '27 cty / 32 hwy',\n",
              " '27 cty / 33 hwy',\n",
              " '27 cty / 34 hwy',\n",
              " '27 cty / 35 hwy',\n",
              " '27 cty / 36 hwy',\n",
              " '27 cty / 37 hwy',\n",
              " '27 cty / 38 hwy',\n",
              " '27 cty / 39 hwy',\n",
              " '28 cty / 30 hwy',\n",
              " '28 cty / 32 hwy',\n",
              " '28 cty / 33 hwy',\n",
              " '28 cty / 34 hwy',\n",
              " '28 cty / 35 hwy',\n",
              " '28 cty / 36 hwy',\n",
              " '28 cty / 37 hwy',\n",
              " '28 cty / 38 hwy',\n",
              " '28 cty / 39 hwy',\n",
              " '28 cty / 40 hwy',\n",
              " '28 cty / 42 hwy',\n",
              " '29 cty / 27 hwy',\n",
              " '29 cty / 35 hwy',\n",
              " '29 cty / 36 hwy',\n",
              " '29 cty / 37 hwy',\n",
              " '29 cty / 38 hwy',\n",
              " '29 cty / 39 hwy',\n",
              " '29 cty / 40 hwy',\n",
              " '29 cty / 41 hwy',\n",
              " '30 cty / 28 hwy',\n",
              " '30 cty / 36 hwy',\n",
              " '30 cty / 38 hwy',\n",
              " '30 cty / 39 hwy',\n",
              " '30 cty / 40 hwy',\n",
              " '30 cty / 41 hwy',\n",
              " '30 cty / 42 hwy',\n",
              " '31 cty / 27 hwy',\n",
              " '31 cty / 28 hwy',\n",
              " '31 cty / 34 hwy',\n",
              " '31 cty / 36 hwy',\n",
              " '31 cty / 39 hwy',\n",
              " '31 cty / 40 hwy',\n",
              " '31 cty / 41 hwy',\n",
              " '31 cty / 42 hwy',\n",
              " '31 cty / 43 hwy',\n",
              " '31 cty / 45 hwy',\n",
              " '31 cty / 47 hwy',\n",
              " '32 cty / 37 hwy',\n",
              " '32 cty / 38 hwy',\n",
              " '32 cty / 39 hwy',\n",
              " '32 cty / 40 hwy',\n",
              " '32 cty / 41 hwy',\n",
              " '32 cty / 42 hwy',\n",
              " '33 cty / 33 hwy',\n",
              " '33 cty / 40 hwy',\n",
              " '33 cty / 41 hwy',\n",
              " '34 cty / 30 hwy',\n",
              " '34 cty / 31 hwy',\n",
              " '34 cty / 39 hwy',\n",
              " '35 cty / 34 hwy',\n",
              " '35 cty / 42 hwy',\n",
              " '36 cty / 40 hwy',\n",
              " '37 cty / 43 hwy',\n",
              " '37 cty / 44 hwy',\n",
              " '40 cty / 37 hwy',\n",
              " '40 cty / 38 hwy',\n",
              " '40 cty / 39 hwy',\n",
              " '40 cty / 45 hwy',\n",
              " '41 cty / 36 hwy',\n",
              " '41 cty / 38 hwy',\n",
              " '41 cty / 39 hwy',\n",
              " '41 cty / 44 hwy',\n",
              " '42 cty / 36 hwy',\n",
              " '42 cty / 38 hwy',\n",
              " '43 cty / 39 hwy',\n",
              " '43 cty / 40 hwy',\n",
              " '43 cty / 41 hwy',\n",
              " '43 cty / 44 hwy',\n",
              " '44 cty / 40 hwy',\n",
              " '44 cty / 41 hwy',\n",
              " '44 cty / 44 hwy',\n",
              " '44 cty / 47 hwy',\n",
              " '48 cty / 45 hwy',\n",
              " '49 cty / 43 hwy',\n",
              " '49 cty / 47 hwy',\n",
              " '51 cty / 46 hwy',\n",
              " '51 cty / 48 hwy',\n",
              " '51 cty / 49 hwy',\n",
              " '51 cty / 53 hwy',\n",
              " '54 cty / 50 hwy',\n",
              " '55 cty / 54 hwy',\n",
              " '58 cty / 53 hwy',\n",
              " '60 cty / 51 hwy',\n",
              " '85 cty / 82 hwy',\n",
              " '86 cty / 94 hwy',\n",
              " '94 cty / 97 hwy',\n",
              " '95 cty / 81 hwy',\n",
              " '95 cty / 90 hwy',\n",
              " 'N/A cty / N/A hwy']"
            ]
          },
          "metadata": {
            "tags": []
          },
          "execution_count": 20
        }
      ]
    },
    {
      "cell_type": "code",
      "metadata": {
        "id": "StJqHifA0BBb",
        "outputId": "d6966498-832e-4117-93d6-9c813af77fe3"
      },
      "source": [
        "def MPG_categorize(MPG):\n",
        "    if MPG in ['N/A cty / N/A hwy', np.NaN]:\n",
        "        return 'Another'\n",
        "    else:\n",
        "        cty = int(re.findall('[0-9]+ c', str(MPG))[0][:-2])\n",
        "        hwy = re.findall('/ [0-9]+', str(MPG))\n",
        "        if hwy == []:\n",
        "            return 'Another'\n",
        "        elif cty >= 60:\n",
        "            return 'up from 60 cty / up from 50 hwy'\n",
        "        else:\n",
        "            hwy = int(hwy[0][2:])\n",
        "            return str(cty)[0] + \"0-\" + str(cty)[0] + \"9 cty / \" + str(hwy)[0] + \"0-\" + str(hwy)[0] + \"9 hwy\"\n",
        "\n",
        "vehicles_dataset['MPG'] = vehicles_dataset['MPG'].apply(MPG_categorize)\n",
        "vehicles_dataset['MPG'].value_counts()"
      ],
      "execution_count": null,
      "outputs": [
        {
          "output_type": "execute_result",
          "data": {
            "text/plain": [
              "20-29 cty / 30-39 hwy              7011\n",
              "10-19 cty / 20-29 hwy              4193\n",
              "20-29 cty / 20-29 hwy              1899\n",
              "30-39 cty / 40-49 hwy               635\n",
              "Another                             562\n",
              "30-39 cty / 30-39 hwy               482\n",
              "10-19 cty / 10-19 hwy               433\n",
              "40-49 cty / 40-49 hwy               303\n",
              "10-19 cty / 30-39 hwy               104\n",
              "up from 60 cty / up from 50 hwy      94\n",
              "20-29 cty / 40-49 hwy                81\n",
              "40-49 cty / 30-39 hwy                45\n",
              "50-59 cty / 40-49 hwy                41\n",
              "50-59 cty / 50-59 hwy                 9\n",
              "30-39 cty / 20-29 hwy                 6\n",
              "Name: MPG, dtype: int64"
            ]
          },
          "metadata": {
            "tags": []
          },
          "execution_count": 22
        }
      ]
    },
    {
      "cell_type": "markdown",
      "metadata": {
        "id": "y8RpgKTN0BBj"
      },
      "source": [
        "30, 40 and 50 cty categories are being gathered so outliers disappear."
      ]
    },
    {
      "cell_type": "code",
      "metadata": {
        "id": "X0RPxHkT0BBk",
        "outputId": "89152022-6b78-4788-be7f-9ea9b40227c9"
      },
      "source": [
        "def MPG_categorize2(MPG):\n",
        "    if MPG in ['30-39 cty / 20-29 hwy', '30-39 cty / 30-39 hwy']:\n",
        "        return '30-39 cty / 20-39 hwy'\n",
        "    elif MPG in ['50-59 cty / 40-49 hwy', '50-59 cty / 50-59 hwy']:\n",
        "        return '50-59 cty / 40-59 hwy'\n",
        "    elif MPG in ['40-49 cty / 30-39 hwy', '40-49 cty / 40-49 hwy']:\n",
        "        return '40-49 cty / 30-49 hwy'\n",
        "    else:\n",
        "        return MPG\n",
        "    \n",
        "\n",
        "vehicles_dataset['MPG'] = vehicles_dataset['MPG'].apply(MPG_categorize2)\n",
        "vehicles_dataset['MPG'].value_counts()"
      ],
      "execution_count": null,
      "outputs": [
        {
          "output_type": "execute_result",
          "data": {
            "text/plain": [
              "20-29 cty / 30-39 hwy              7011\n",
              "10-19 cty / 20-29 hwy              4193\n",
              "20-29 cty / 20-29 hwy              1899\n",
              "30-39 cty / 40-49 hwy               635\n",
              "Another                             562\n",
              "30-39 cty / 20-39 hwy               488\n",
              "10-19 cty / 10-19 hwy               433\n",
              "40-49 cty / 30-49 hwy               348\n",
              "10-19 cty / 30-39 hwy               104\n",
              "up from 60 cty / up from 50 hwy      94\n",
              "20-29 cty / 40-49 hwy                81\n",
              "50-59 cty / 40-59 hwy                50\n",
              "Name: MPG, dtype: int64"
            ]
          },
          "metadata": {
            "tags": []
          },
          "execution_count": 23
        }
      ]
    },
    {
      "cell_type": "markdown",
      "metadata": {
        "id": "rx4zvWwU0BBp"
      },
      "source": [
        "'Transmission' feature presents only two true values, as logically thought. We will just get rid of null values then."
      ]
    },
    {
      "cell_type": "code",
      "metadata": {
        "id": "HgxO6NHL0BBp",
        "outputId": "b08f682a-d5ee-4625-9db5-cbbef08deb02"
      },
      "source": [
        "print(vehicles_dataset['Transmission'].isnull().sum())\n",
        "vehicles_dataset['Transmission'].value_counts()"
      ],
      "execution_count": null,
      "outputs": [
        {
          "output_type": "stream",
          "text": [
            "13\n"
          ],
          "name": "stdout"
        },
        {
          "output_type": "execute_result",
          "data": {
            "text/plain": [
              "Automatic    15406\n",
              "Manual         479\n",
              "Name: Transmission, dtype: int64"
            ]
          },
          "metadata": {
            "tags": []
          },
          "execution_count": 24
        }
      ]
    },
    {
      "cell_type": "code",
      "metadata": {
        "id": "mgoojjXf0BBt"
      },
      "source": [
        "vehicles_dataset.dropna(subset=['Transmission'], inplace=True)"
      ],
      "execution_count": null,
      "outputs": []
    },
    {
      "cell_type": "markdown",
      "metadata": {
        "id": "d63X30Gf0BB4"
      },
      "source": [
        "The places where the vehicles are located are defined by city and state as two variables."
      ]
    },
    {
      "cell_type": "code",
      "metadata": {
        "id": "4BFypbZy0BB4"
      },
      "source": [
        ""
      ],
      "execution_count": null,
      "outputs": []
    },
    {
      "cell_type": "markdown",
      "metadata": {
        "id": "X5uy7aTR0BCB"
      },
      "source": [
        "Since 'Location (City)' has a lot of values, as it denotes several specific cities and towns, it will be taken out from the model."
      ]
    },
    {
      "cell_type": "code",
      "metadata": {
        "id": "DkrrsBJk0BCC",
        "outputId": "78a76a11-fb6e-4088-8e17-7c3cf87a260e"
      },
      "source": [
        "print(vehicles_dataset['Location (City)'].isnull().sum())\n",
        "vehicles_dataset['Location (State)'].isnull().sum()"
      ],
      "execution_count": null,
      "outputs": [
        {
          "output_type": "stream",
          "text": [
            "86\n"
          ],
          "name": "stdout"
        },
        {
          "output_type": "execute_result",
          "data": {
            "text/plain": [
              "122"
            ]
          },
          "metadata": {
            "tags": []
          },
          "execution_count": 26
        }
      ]
    },
    {
      "cell_type": "markdown",
      "metadata": {
        "id": "XKcNlgID0BCG"
      },
      "source": [
        ""
      ]
    },
    {
      "cell_type": "code",
      "metadata": {
        "id": "F1nytFjQ0BCG",
        "outputId": "978f66a6-ebaa-4c4e-af34-6be5f97c6f21"
      },
      "source": [
        "vehicles_dataset['Location (State)'].unique()"
      ],
      "execution_count": null,
      "outputs": [
        {
          "output_type": "execute_result",
          "data": {
            "text/plain": [
              "array(['WA', 'TX', 'CA', 'FL', 'MS', 'VA', 'OH', 'AL', 'IN', 'OK', 'GA',\n",
              "       'NY', 'MA', 'IL', 'NJ', 'TN', 'NC', 'MO', 'ME', 'OR', 'MD', 'MN',\n",
              "       'AZ', 'WI', 'SC', nan, 'LA', 'CO', 'KY', 'NM', 'AR', 'PA', 'CT',\n",
              "       'KS', 'NV', 'ID', 'UT', 'IA', 'HI', 'NH', 'MI', 'MT', 'NE', 'WY',\n",
              "       'AK', 'DE', 'WV', 'VT', 'SD', 'RI', 'UK', 'ND', 'SO'], dtype=object)"
            ]
          },
          "metadata": {
            "tags": []
          },
          "execution_count": 28
        }
      ]
    },
    {
      "cell_type": "code",
      "metadata": {
        "id": "CMyuQivM0BCN",
        "outputId": "a58e1823-0eb0-4464-f6e2-d3582895927c"
      },
      "source": [
        "vehicles_dataset['Location (State)'].unique().shape[0]\n",
        "vehicles_dataset.dropna(subset=['Location (State)'], inplace=True)\n",
        "vehicles_dataset.shape"
      ],
      "execution_count": null,
      "outputs": [
        {
          "output_type": "execute_result",
          "data": {
            "text/plain": [
              "(15763, 18)"
            ]
          },
          "metadata": {
            "tags": []
          },
          "execution_count": 29
        }
      ]
    },
    {
      "cell_type": "code",
      "metadata": {
        "id": "VSkh07ZG0BCR"
      },
      "source": [
        ""
      ],
      "execution_count": null,
      "outputs": []
    },
    {
      "cell_type": "markdown",
      "metadata": {
        "id": "j7wOJ5oV0BCU"
      },
      "source": [
        "'Bed Length' is next to go through."
      ]
    },
    {
      "cell_type": "code",
      "metadata": {
        "id": "Nii6t4DA0BCV",
        "outputId": "efcd392e-4890-42a8-9bc5-eac2f55b1987"
      },
      "source": [
        "print(\"'Bed Length' column has\", vehicles_dataset[\"Bed Length\"].isnull().sum(), \"null values.\")\n",
        "print(\"The other ones (\", vehicles_dataset[\"Bed Length\"].notnull().sum(), \") are:\", sep=\"\")\n",
        "vehicles_dataset['Bed Length'].value_counts()"
      ],
      "execution_count": null,
      "outputs": [
        {
          "output_type": "stream",
          "text": [
            "'Bed Length' column has 14542 null values.\n",
            "The other ones (1221) are:\n"
          ],
          "name": "stdout"
        },
        {
          "output_type": "execute_result",
          "data": {
            "text/plain": [
              "Short Bed       571\n",
              "Standard Bed    532\n",
              "Long Bed        118\n",
              "Name: Bed Length, dtype: int64"
            ]
          },
          "metadata": {
            "tags": []
          },
          "execution_count": 30
        }
      ]
    },
    {
      "cell_type": "markdown",
      "metadata": {
        "id": "2V5vXklV0BCa"
      },
      "source": [
        "As seen above the bed length is null for almost all cases, so it will be discarded."
      ]
    },
    {
      "cell_type": "code",
      "metadata": {
        "id": "2sOq5QRo0BCa",
        "outputId": "20265163-4cbb-491e-f97f-e8792ee23224"
      },
      "source": [
        "vehicles_dataset.drop(columns='Bed Length', inplace=True)\n",
        "vehicles_dataset.columns"
      ],
      "execution_count": null,
      "outputs": [
        {
          "output_type": "execute_result",
          "data": {
            "text/plain": [
              "Index(['Make', 'Model', 'Year', 'Mileage', 'Transmission', 'Engine',\n",
              "       'Exterior Color', 'Interior Color', 'MPG', 'Fuel Type', 'Drive Type',\n",
              "       'Location (City)', 'Location (State)', 'Style', 'Condition (Accidents)',\n",
              "       'Options Level', 'Price'],\n",
              "      dtype='object')"
            ]
          },
          "metadata": {
            "tags": []
          },
          "execution_count": 31
        }
      ]
    },
    {
      "cell_type": "code",
      "metadata": {
        "id": "5DRQTOxR0BCe",
        "outputId": "cf682b11-f40a-489e-fd09-b749f1a82d67"
      },
      "source": [
        "cols_by_nulls.pop(\"Bed Length\")"
      ],
      "execution_count": null,
      "outputs": [
        {
          "output_type": "execute_result",
          "data": {
            "text/plain": [
              "15641"
            ]
          },
          "metadata": {
            "tags": []
          },
          "execution_count": 32
        }
      ]
    },
    {
      "cell_type": "code",
      "metadata": {
        "id": "4uA38hjT0BCi",
        "outputId": "e62f954e-7d22-4ea7-fa6e-f17807c4010c"
      },
      "source": [
        "print(\"Exterior Color has\", cols_by_nulls['Exterior Color'], \"null values\")\n",
        "print(vehicles_dataset['Exterior Color'].value_counts().sum(), \"not null values and values count:\", cars_dataset['Exterior Color'].nunique())\n",
        "vehicles_dataset['Exterior Color'].value_counts()"
      ],
      "execution_count": null,
      "outputs": [
        {
          "output_type": "stream",
          "text": [
            "Exterior Color has 5840 null values\n",
            "10617 not null values and values count: 569\n"
          ],
          "name": "stdout"
        },
        {
          "output_type": "execute_result",
          "data": {
            "text/plain": [
              "Black                 759\n",
              "Oxford White          421\n",
              "Summit White          392\n",
              "Gray                  388\n",
              "White                 362\n",
              "                     ... \n",
              "Meteor Gray Pearl       1\n",
              "Light Blue              1\n",
              "Redondo Red Pearl       1\n",
              "Green Tea Metallic      1\n",
              "Sandstone Gray          1\n",
              "Name: Exterior Color, Length: 569, dtype: int64"
            ]
          },
          "metadata": {
            "tags": []
          },
          "execution_count": 33
        }
      ]
    },
    {
      "cell_type": "code",
      "metadata": {
        "id": "UhHk86I70BCn",
        "outputId": "0e3037f3-66f0-4967-df88-839d5ec9132d"
      },
      "source": [
        "list(vehicles_dataset['Exterior Color'].value_counts().index)"
      ],
      "execution_count": null,
      "outputs": [
        {
          "output_type": "execute_result",
          "data": {
            "text/plain": [
              "['Black',\n",
              " 'Oxford White',\n",
              " 'Summit White',\n",
              " 'Gray',\n",
              " 'White',\n",
              " 'Super White',\n",
              " 'Crystal Black Pearl',\n",
              " 'Super Black',\n",
              " 'Gun Metallic',\n",
              " 'Silver Ice Metallic',\n",
              " 'Shadow Black',\n",
              " 'Glacier White',\n",
              " 'White Orchid Pearl',\n",
              " 'Silver',\n",
              " 'Fresh Powder',\n",
              " 'Magnetic Metallic',\n",
              " 'Brilliant Silver',\n",
              " 'Unknown',\n",
              " 'Granite Pearlcoat',\n",
              " 'Polar White',\n",
              " 'Blue',\n",
              " 'Magnetic Black',\n",
              " 'Red',\n",
              " 'Jet Black',\n",
              " 'Agate Black',\n",
              " 'Pearl White',\n",
              " 'Black Sand Pearl',\n",
              " 'Quartz White Pearl',\n",
              " 'Predawn Gray Mica',\n",
              " 'Phantom Black',\n",
              " 'Taffeta White',\n",
              " 'White Diamond Pearl',\n",
              " 'Ice Silver Metallic',\n",
              " 'Billet Clearcoat',\n",
              " 'Clear White',\n",
              " 'Pure White',\n",
              " 'Snow White Pearl',\n",
              " 'Alpine White',\n",
              " 'Sparkling Silver',\n",
              " 'Aurora Black',\n",
              " 'Eminent White Pearl',\n",
              " 'Symphony Silver',\n",
              " 'Ebony Black',\n",
              " 'Scarlet Red',\n",
              " 'Caspian Blue',\n",
              " 'Deep Blue Pearl',\n",
              " 'Dark Gray Metallic',\n",
              " 'Race Red',\n",
              " 'Black Obsidian',\n",
              " 'Gold',\n",
              " 'Vice White',\n",
              " 'Blizzard Pearl',\n",
              " 'Onyx Black',\n",
              " 'Crystal White Pearl',\n",
              " 'Magnetic',\n",
              " 'Brown',\n",
              " 'Black Clearcoat',\n",
              " 'Graphite Shadow',\n",
              " 'Obsidian',\n",
              " 'Nebula Gray Pearl',\n",
              " 'Machine Gray',\n",
              " 'Bright White',\n",
              " 'Frost White Pearl',\n",
              " 'Obsidian Blue Pearl',\n",
              " 'Bright Silver',\n",
              " 'Atomic Silver',\n",
              " 'Red Alert',\n",
              " 'Jet Black Mica',\n",
              " 'Steel Blue Metallic',\n",
              " 'Coliseum Gray',\n",
              " 'Titanium Gray',\n",
              " 'Ingot Silver',\n",
              " 'Platinum Graphite',\n",
              " 'Black Raven',\n",
              " 'Dark Blue Metallic',\n",
              " 'Gloss Black',\n",
              " 'Dazzling White',\n",
              " 'Space Gray Metallic',\n",
              " 'Caribbean Blue',\n",
              " 'Black Diamond',\n",
              " 'Frost',\n",
              " 'Blueprint',\n",
              " 'Ruby Wine',\n",
              " 'Lakeside Blue',\n",
              " 'Cirrus White',\n",
              " 'Silky Silver',\n",
              " 'Palatial Ruby',\n",
              " 'Dark Sky Metallic',\n",
              " 'White Clearcoat',\n",
              " 'Blue Flame Metallic',\n",
              " 'Flame Red Clearcoat',\n",
              " 'Blue Jeans Metallic',\n",
              " 'Surf Blue',\n",
              " 'Basque Red Pearl Ii',\n",
              " 'Cosmic Gray Mica',\n",
              " 'Shale Gray Metallic',\n",
              " 'Majestic White',\n",
              " 'Crystal White',\n",
              " 'Candy White',\n",
              " 'Titanium Silver',\n",
              " 'Night Black',\n",
              " 'Stone White',\n",
              " 'Grey',\n",
              " 'Galactic Aqua Mica',\n",
              " 'Molten Silver',\n",
              " 'Cayenne Red',\n",
              " 'Scarlet Red Pearl',\n",
              " 'Satin White Pearl',\n",
              " 'San Marino Red',\n",
              " 'Night Blue Metallic',\n",
              " 'Storm Blue',\n",
              " 'Silk Blue Metallic',\n",
              " 'Black Onyx',\n",
              " 'Black Velvet',\n",
              " 'Silver Sky Metallic',\n",
              " 'Galactic Gray',\n",
              " 'Ibis White',\n",
              " 'Rallye Red',\n",
              " 'Smoky Granite Mica',\n",
              " 'Pepperdust Metallic',\n",
              " 'Cajun Red Tintcoat',\n",
              " 'Quartz White',\n",
              " 'Midnight Black',\n",
              " 'Jupiter Red',\n",
              " 'Tuxedo Black',\n",
              " 'Capri Blue Metallic',\n",
              " 'Tan',\n",
              " 'Ashen Gray Metallic',\n",
              " 'Lightning Blue',\n",
              " 'Deep Sea Blue',\n",
              " 'True Blue Pearl',\n",
              " 'Deep Impact Blue',\n",
              " 'Pewter Metallic',\n",
              " 'True Blue Pearlcoat',\n",
              " 'Venetian Red Pearl',\n",
              " 'White Gold Metallic',\n",
              " 'Stargazer Black',\n",
              " 'Inferno Red',\n",
              " 'Red Brick',\n",
              " 'Tungsten Metallic',\n",
              " 'Gunmetal Metallic',\n",
              " 'Burgundy',\n",
              " 'Glacier Pearl',\n",
              " 'Boston Red Metallic',\n",
              " 'Liquid Platinum',\n",
              " 'Arctic White',\n",
              " 'Black Mica',\n",
              " 'Parisian Gray',\n",
              " 'Deep Lava Red Pearl',\n",
              " 'White Gold',\n",
              " 'Granite Clearcoat',\n",
              " 'Caspian Black',\n",
              " 'Phantom Gray',\n",
              " 'Starlight Silver',\n",
              " 'Wicked Black',\n",
              " 'Celestite',\n",
              " 'Pearl White Tricoat',\n",
              " 'Electric Storm Blue',\n",
              " 'Opera Red Metallic',\n",
              " 'Red Hot',\n",
              " 'Quartz Blue Pearl',\n",
              " 'Aspen White Tricoat',\n",
              " 'Storm Blue Metallic',\n",
              " 'Siren Red Tintcoat',\n",
              " 'Slate Metallic',\n",
              " 'Morningsky Blue',\n",
              " 'Black Noir Pearl',\n",
              " 'Phantom Black Pearl',\n",
              " 'Steel Gray Metallic',\n",
              " 'Sterling Gray',\n",
              " 'Cocoa Metallic',\n",
              " 'Starfire Pearl',\n",
              " 'Onyx Black Metallic',\n",
              " 'Velocity Red',\n",
              " 'Black Sand Mica',\n",
              " 'Abyss Blue Pearl',\n",
              " 'Tectonic',\n",
              " 'Midnight Blue Pearl',\n",
              " 'Titanium',\n",
              " 'Reflex Silver',\n",
              " 'Dark Slate Metallic',\n",
              " 'Charcoal',\n",
              " 'Alfa Rosso',\n",
              " 'Aspen Ice',\n",
              " 'Electric Blue',\n",
              " 'Ice White',\n",
              " 'Century White',\n",
              " 'Black Onyx Pearl',\n",
              " 'Shimmering White',\n",
              " 'Green',\n",
              " 'Brilliant Black',\n",
              " 'Scarlet Ember',\n",
              " 'Aspen White Pearl',\n",
              " 'Becketts Black',\n",
              " 'Gold Mist Metallic',\n",
              " 'Denim Blue Metallic',\n",
              " 'Galaxy Black',\n",
              " 'White Suede',\n",
              " 'Argento Nurburgring',\n",
              " 'Light White',\n",
              " 'Thunder Gray',\n",
              " 'White Silver',\n",
              " 'Sangria',\n",
              " 'Diamond Slate',\n",
              " 'Evening Black',\n",
              " 'Savannah Metallic',\n",
              " 'Blue Reflex Mica',\n",
              " 'Magnetic Gray',\n",
              " 'Slate Blue Metallic',\n",
              " 'Titanium Flash Mica',\n",
              " 'Blue Metallic',\n",
              " 'Ceramic White',\n",
              " 'Ice Blue Metallic',\n",
              " 'Maroon',\n",
              " 'Ruby Black Metallic',\n",
              " 'Quicksilver',\n",
              " 'Silver Streak Mica',\n",
              " 'Twilight Black',\n",
              " 'Newport Blue Pearl',\n",
              " 'Ruby Flare Pearl',\n",
              " 'Lunar Blue Metallic',\n",
              " 'Sonic Silver',\n",
              " 'Urban Gray Metallic',\n",
              " 'Rally Red Metallic',\n",
              " 'Redline Pearlcoat',\n",
              " 'Pepper White',\n",
              " 'Horizon Blue',\n",
              " 'Winter White',\n",
              " 'Java Black',\n",
              " 'Royal Blue Pearl',\n",
              " 'Carbon Gray Pearl',\n",
              " 'Sonic Gray Pearl',\n",
              " 'Eternal Blue Mica',\n",
              " 'Championship White',\n",
              " 'Satin Silver',\n",
              " 'Graphite Metallic',\n",
              " 'Aqua Blue',\n",
              " 'White Frost Tricoat',\n",
              " 'Caviar',\n",
              " 'Jazz Blue Pearlcoat',\n",
              " 'Salsa Red Pearl',\n",
              " 'Turquoise',\n",
              " 'Billet Metallic',\n",
              " 'Grey/Dark Grey',\n",
              " 'Silver Nickel',\n",
              " 'Cinnamon',\n",
              " 'Himalayan Gray',\n",
              " 'Windy Sea Blue',\n",
              " 'Blazing Blue Pearl',\n",
              " 'Signal Red',\n",
              " 'Silver Moss',\n",
              " 'Deep Blue',\n",
              " 'Lithium Gray',\n",
              " 'Mysterious Blue',\n",
              " 'Medium Silver Blue',\n",
              " 'Sea Glass Pearl',\n",
              " 'Apple Red Pearl',\n",
              " 'Canyon Copper',\n",
              " 'Hypersonic Red',\n",
              " 'Navy Blue Metallic',\n",
              " 'Red Quartz Tintcoat',\n",
              " 'Marlin Blue',\n",
              " 'Meteor Gray Mica',\n",
              " 'Blackberry Pearl',\n",
              " 'Mocha Almond',\n",
              " 'Carrara White',\n",
              " 'Powder White Pearl',\n",
              " 'Beige',\n",
              " 'Chocolate Metallic',\n",
              " 'Zeal Red Mica',\n",
              " 'Pure Red',\n",
              " 'White Pearl',\n",
              " 'Silver Shadow Pearl',\n",
              " 'Unspecified',\n",
              " 'Blue-Green Crystal',\n",
              " 'Victory Red',\n",
              " 'Blk',\n",
              " 'Ivory White',\n",
              " 'Blue Candy Metallic',\n",
              " 'Chrome Silver',\n",
              " 'Lunar Mist Metallic',\n",
              " 'Diamond White',\n",
              " 'Iridium Metallic',\n",
              " 'Orange',\n",
              " 'Marine Blue Pearl',\n",
              " 'Chili Red',\n",
              " 'Blue Onyx Pearl',\n",
              " 'Ebony',\n",
              " 'B5 Blue Pearl',\n",
              " 'Red Candy Metallic',\n",
              " 'Bold Beige Metallic',\n",
              " 'Black Diamond Pearl',\n",
              " 'Platinum Silver',\n",
              " 'Blade Silver',\n",
              " 'Orient Red Metallic',\n",
              " 'Bronze',\n",
              " 'White Sand',\n",
              " 'Sterling Silver!',\n",
              " 'Fuji White',\n",
              " 'Smokey Brown',\n",
              " 'Java Metallic',\n",
              " 'Sandalwood Metallic',\n",
              " 'Matador Red Mica',\n",
              " 'Hermosa Blue',\n",
              " 'White Opal',\n",
              " 'Crimson Red',\n",
              " 'Spicy Red',\n",
              " 'Db Black Clearcoat',\n",
              " 'Tango Red Pearl',\n",
              " 'Burnished Copper',\n",
              " 'Storm',\n",
              " 'Pyrit Silver',\n",
              " 'Creme Brulee Mica',\n",
              " 'Grigio Metallic',\n",
              " 'Teal',\n",
              " 'Bordeaux Black',\n",
              " 'Liquid Silver',\n",
              " 'Radiant Red',\n",
              " 'Champagne',\n",
              " 'Mars Red',\n",
              " 'Black Uni',\n",
              " 'Sunshine Orange',\n",
              " 'Gran Premio Gray',\n",
              " 'Titanium Metallic',\n",
              " 'Platinum Metallic',\n",
              " 'Agate Grey Metallic',\n",
              " 'Navy',\n",
              " 'Gravity Gray',\n",
              " 'Champagne Gold Opal',\n",
              " 'Metallic Gray',\n",
              " 'Dark Truffle',\n",
              " 'White Water Pearl',\n",
              " 'Dark Sea Blue',\n",
              " 'Pitch Black',\n",
              " 'Corris Grey',\n",
              " 'Pacific Blue Pearl',\n",
              " 'Bright Red Ii',\n",
              " 'Frozen White',\n",
              " 'Cyber Gray Metallic',\n",
              " 'Lead Foot',\n",
              " 'Galaxy Gray',\n",
              " 'Moss Gray',\n",
              " 'Tusk White',\n",
              " 'Sand White',\n",
              " 'Gravity Grey',\n",
              " 'Cypress Pearl',\n",
              " 'Desert Sand Mica',\n",
              " 'Ultra White',\n",
              " 'Venetian Red',\n",
              " 'Blaze Blue',\n",
              " 'Aegean Blue',\n",
              " 'Ink Blue',\n",
              " 'Aurora Black Pearl',\n",
              " 'Dark Green Metallic',\n",
              " 'Blue Water Metallic',\n",
              " 'Aspen White',\n",
              " 'Island Blue Pearl',\n",
              " 'Abyss',\n",
              " 'Symphony Air Silver',\n",
              " 'Casablanca White',\n",
              " 'Mocha Almond Pearl',\n",
              " 'Torch Red',\n",
              " 'Alabaster White',\n",
              " 'Sedona Sunset',\n",
              " 'Wind Chill Pearl',\n",
              " 'Am Titanium Silver',\n",
              " 'Dark Green',\n",
              " 'Cashmere Pearlcoat',\n",
              " 'Mercury Metallic',\n",
              " 'Eaz/White Body Pan',\n",
              " 'Graphite Mica',\n",
              " 'Saharan Stone',\n",
              " 'Graphite Blue',\n",
              " 'Butane Blue Pearl',\n",
              " 'Formal Black',\n",
              " 'Midnight Gray',\n",
              " 'Atlantic Blue Pearl',\n",
              " 'Titanium Bronze',\n",
              " 'Vegas Yellow',\n",
              " 'Silver Metallic',\n",
              " 'Mineral Beige',\n",
              " 'Midnight Garnet',\n",
              " 'Nero',\n",
              " 'Bianco (White)',\n",
              " 'Remington Red',\n",
              " 'Alien Ii',\n",
              " 'Tarmac Black Pearl',\n",
              " 'Steel Grey Metallic',\n",
              " 'Shimmering Silver',\n",
              " 'Champagne Quartz',\n",
              " 'Santiago Silver',\n",
              " 'Wr Blue Pearl',\n",
              " 'White Diamond',\n",
              " 'Sage Green Metallic',\n",
              " 'Tank Clearcoat',\n",
              " 'Magma Red Metallic',\n",
              " 'Ash Black',\n",
              " 'Sandstone Metallic',\n",
              " 'Attitude Black',\n",
              " 'Hermosa Blue Pearl',\n",
              " 'Black Cherry',\n",
              " 'Deep Ocean Pearl',\n",
              " 'Mineral Beige Pearl',\n",
              " 'Brilliant Red',\n",
              " 'Rosso (Red)',\n",
              " 'Dune',\n",
              " 'Ivory 3-Coat',\n",
              " 'Ultra Black Pearl',\n",
              " 'Deep Scarlet Pearl',\n",
              " 'Iron Frost',\n",
              " 'Molten',\n",
              " 'Winter Frost Pearl',\n",
              " 'Burgandy',\n",
              " 'Sport Blue Metallic',\n",
              " 'Crystal White Mica',\n",
              " 'Rhino Clearcoat',\n",
              " 'Bali Blue Pearl',\n",
              " 'Horizon Blue Pearl',\n",
              " 'Moon Shell Mica',\n",
              " 'Yellow',\n",
              " 'Black Sapphire',\n",
              " 'Solid White',\n",
              " 'Bianco White Ice',\n",
              " 'Catalina Blue Pearl',\n",
              " 'Taupe Gray Metallic',\n",
              " 'Bluestone Metallic',\n",
              " 'Titanium Glow',\n",
              " 'Siver',\n",
              " 'Bianco Avus',\n",
              " 'Teak Brown Metallic',\n",
              " 'Bianco',\n",
              " 'Stone Gray Metallic',\n",
              " 'Earthy Bronze',\n",
              " 'Kona Blue Metallic',\n",
              " 'Dyno Blue Pearl',\n",
              " 'Pacific Blue',\n",
              " 'Royal Ruby Metallic',\n",
              " 'Cassis Pearl',\n",
              " 'Premium White Pearl',\n",
              " 'Ice Storm',\n",
              " 'Botanical Green',\n",
              " 'Forest Green',\n",
              " 'Ginger Ale Metallic',\n",
              " 'Designo Silver',\n",
              " 'Nightfall Mica',\n",
              " 'Cashmere Pearl',\n",
              " 'Dark Cherry Pearl',\n",
              " 'Currant Red',\n",
              " 'Cool Gray Khaki',\n",
              " 'Ocean Mist Metallic',\n",
              " 'Red Jewel Tintcoat',\n",
              " 'Natural White',\n",
              " 'Guard Metallic',\n",
              " 'Moonlight White',\n",
              " 'Admiral Blue Pearl',\n",
              " 'Super Silver',\n",
              " 'White Orchid',\n",
              " 'Black Stone',\n",
              " 'Cardinal Red',\n",
              " 'Kapoor Red Metallic',\n",
              " 'Deep Blue Metallic',\n",
              " 'Torred Clearcoat',\n",
              " 'Sky Blue Pearl',\n",
              " 'Copperhead Pearl',\n",
              " 'Ruby Red',\n",
              " 'Oxford White (Cc)',\n",
              " 'Radiant Silver',\n",
              " 'Anvil',\n",
              " 'Pyrite Mica',\n",
              " 'Solar Yellow',\n",
              " 'Black Cherry Pearl',\n",
              " 'Silver/Black',\n",
              " 'Neptune Blue Mica',\n",
              " 'Dk. Gray',\n",
              " 'Metallic Slate',\n",
              " 'Habanero Orange',\n",
              " 'White Onyx',\n",
              " 'Tungsten Pearl',\n",
              " 'Chromium',\n",
              " 'Firestorm',\n",
              " 'Dk Blue',\n",
              " 'Deep Black Pearl',\n",
              " 'Gemstone Red',\n",
              " 'Red Allure',\n",
              " 'Stealth',\n",
              " 'Amethyst Gray',\n",
              " 'Havana Metallic',\n",
              " '0040',\n",
              " 'Tornado Red',\n",
              " 'Desert Shadow',\n",
              " 'Lt. Gray',\n",
              " 'Black Forest Pearl',\n",
              " 'Dyno Blue Pearl Ii',\n",
              " 'Hyper Blue',\n",
              " 'Argento (Silver)',\n",
              " 'San Remo Red',\n",
              " '01f7',\n",
              " 'Gt Silver Metallic',\n",
              " 'Lunar Gray Metallic',\n",
              " 'Dove Gray',\n",
              " 'Ultra Silver',\n",
              " 'Silver Pine Mica',\n",
              " 'Elite White',\n",
              " 'Brownstone Metallic',\n",
              " 'Deep Indigo Pearl',\n",
              " 'Mystic Black',\n",
              " 'Corsa Red',\n",
              " \"Smokin\\\\' Asphalt\",\n",
              " 'Dusk Blue',\n",
              " 'Autumn Red',\n",
              " 'Sapphire Black',\n",
              " 'Light Cashmere',\n",
              " 'Blue Ocean',\n",
              " 'Riviera Red',\n",
              " 'Polished Metal',\n",
              " 'Gray/Black',\n",
              " 'Anvil Clearcoat',\n",
              " 'Saharan Sun',\n",
              " 'Sonora Gold Pearl',\n",
              " 'Lava Gray Pearl',\n",
              " 'Nautical Blue Pearl',\n",
              " 'Imperial Red',\n",
              " 'Marathon Blue',\n",
              " 'Ash',\n",
              " 'Flame Red',\n",
              " 'Coulis Red',\n",
              " 'Dark Charcoal Pearl',\n",
              " 'Arctic Frost Pearl',\n",
              " 'Clover Green Pearl',\n",
              " 'Indigo Night',\n",
              " 'Royal Grey Metallic',\n",
              " 'Silver Pearl',\n",
              " 'Ultimate Black',\n",
              " 'Sand Beige Metallic',\n",
              " 'Cream White',\n",
              " 'Sunset Orange',\n",
              " 'Vermillion Red',\n",
              " 'Denim',\n",
              " 'Caribou Metallic',\n",
              " 'Mineral Silver',\n",
              " 'Lithium Red Pearl',\n",
              " 'Monterey Blue',\n",
              " 'Glacier Metallic',\n",
              " 'Black Pearl',\n",
              " 'Deep Black Metallic',\n",
              " 'Crystal Black P',\n",
              " 'Off White',\n",
              " 'Mineral Gray',\n",
              " 'Blue Chip',\n",
              " 'B5 Blue Pearlcoat',\n",
              " 'Beige / Tan',\n",
              " 'Sierra Blue',\n",
              " 'Eternal Blue Pearl',\n",
              " 'Gold Leaf Metallic',\n",
              " 'Earth Metallic',\n",
              " 'Cabo Bronze',\n",
              " 'Deep Crystal Blue',\n",
              " 'Midnight Jade',\n",
              " 'Smoke',\n",
              " 'Silvermist Metallic',\n",
              " 'Dune Pearl Metallic',\n",
              " 'Chalk White',\n",
              " 'Saville Gray',\n",
              " 'Golden',\n",
              " 'Meteor Gray Pearl',\n",
              " 'Light Blue',\n",
              " 'Redondo Red Pearl',\n",
              " 'Green Tea Metallic',\n",
              " 'Sandstone Gray']"
            ]
          },
          "metadata": {
            "tags": []
          },
          "execution_count": 34
        }
      ]
    },
    {
      "cell_type": "markdown",
      "metadata": {
        "id": "gQDNdaCw0BCt"
      },
      "source": [
        "'Exterior Color' has a lot of unique values, but they can be regrouped given that these values represent almost the same color for each case, by category."
      ]
    },
    {
      "cell_type": "code",
      "metadata": {
        "id": "kB9LZwjd0BCu",
        "outputId": "16f2bbfc-11e3-47f4-ddb1-12945adfac14"
      },
      "source": [
        "vehicles_dataset['Exterior Color'].value_counts()"
      ],
      "execution_count": null,
      "outputs": [
        {
          "output_type": "execute_result",
          "data": {
            "text/plain": [
              "Black                 759\n",
              "Oxford White          421\n",
              "Summit White          392\n",
              "Gray                  388\n",
              "White                 362\n",
              "                     ... \n",
              "Meteor Gray Pearl       1\n",
              "Light Blue              1\n",
              "Redondo Red Pearl       1\n",
              "Green Tea Metallic      1\n",
              "Sandstone Gray          1\n",
              "Name: Exterior Color, Length: 569, dtype: int64"
            ]
          },
          "metadata": {
            "tags": []
          },
          "execution_count": 35
        }
      ]
    },
    {
      "cell_type": "markdown",
      "metadata": {
        "id": "FTjHzD0U0BC9"
      },
      "source": [
        "The following function will check whether the passed color names belong to the same category."
      ]
    },
    {
      "cell_type": "code",
      "metadata": {
        "id": "j_dj94jT0BC9"
      },
      "source": [
        "def color_in(color, *argc):\n",
        "    checks = []\n",
        "    for arg in argc:\n",
        "        if arg in str(color).lower():\n",
        "            checks.append(True)\n",
        "        else:\n",
        "            checks.append(False)\n",
        "    if any(checks):\n",
        "        return True\n",
        "    else:\n",
        "        return False"
      ],
      "execution_count": null,
      "outputs": []
    },
    {
      "cell_type": "markdown",
      "metadata": {
        "id": "6kvBsj5S0BDA"
      },
      "source": [
        "Now, this function will tell if the conditions are met so that it categorizes the original values to this set-up. "
      ]
    },
    {
      "cell_type": "code",
      "metadata": {
        "id": "acfS7p3t0BDB"
      },
      "source": [
        "def ext_colors_categorize(ext_color):\n",
        "    if color_in(ext_color, \"black\") or \"Obsidian\" == ext_color:\n",
        "        return \"Black\"\n",
        "    elif color_in(ext_color, \"white\", \"glacier\") or ext_color in [\"Fresh Powder\", \"Blizzard Pearl\", \"Starfire Pearl\"]:\n",
        "        return \"White\"\n",
        "    elif color_in(ext_color, \"green\"):\n",
        "        return \"Green\"\n",
        "    elif color_in(ext_color, \"blue\", \"aqua\"):\n",
        "        return \"Blue\"\n",
        "    elif color_in(ext_color, \"silver\", \"gray\", \"magnetic\", \"pearlcoat\", \"tungsten\", \"graphite\", \"gun\", \"platinum\", \"titanium\", \"billet\"):\n",
        "        return \"Silver or Grey\"\n",
        "    elif color_in(ext_color, \"red\", \"cherry\", \"ruby\", \"sun\", \"rosso\", \"scarlet\"):\n",
        "        return \"Red\"\n",
        "    elif color_in(ext_color, \"gold\"):\n",
        "        return \"Gold\"\n",
        "    elif color_in(ext_color, \"brown\", \"beige\"):\n",
        "        return \"Beige or Brown\"\n",
        "    elif color_in(ext_color, \"yellow\"):\n",
        "        return \"Yellow\"\n",
        "    else:\n",
        "        return \"Unknown\""
      ],
      "execution_count": null,
      "outputs": []
    },
    {
      "cell_type": "code",
      "metadata": {
        "id": "972QBd7W0BDM"
      },
      "source": [
        "vehicles_dataset['Exterior Color'] = vehicles_dataset['Exterior Color'].apply(ext_colors_categorize)"
      ],
      "execution_count": null,
      "outputs": []
    },
    {
      "cell_type": "code",
      "metadata": {
        "id": "DUS9bal40BDU",
        "outputId": "cb0831aa-7054-421c-ca0b-b706a6a2d269"
      },
      "source": [
        "vehicles_dataset['Exterior Color'].value_counts()"
      ],
      "execution_count": null,
      "outputs": [
        {
          "output_type": "execute_result",
          "data": {
            "text/plain": [
              "Unknown           5711\n",
              "White             3269\n",
              "Black             2617\n",
              "Silver or Grey    2554\n",
              "Blue               827\n",
              "Red                644\n",
              "Beige or Brown      59\n",
              "Gold                53\n",
              "Green               24\n",
              "Yellow               5\n",
              "Name: Exterior Color, dtype: int64"
            ]
          },
          "metadata": {
            "tags": []
          },
          "execution_count": 39
        }
      ]
    },
    {
      "cell_type": "markdown",
      "metadata": {
        "id": "9tWL-LFp0BDc"
      },
      "source": [
        "Like there are just a few cases where the vehicles are yellow or green, we will get rid of these values."
      ]
    },
    {
      "cell_type": "code",
      "metadata": {
        "id": "tfiBfXFa0BDc",
        "outputId": "2e80270f-f022-44f4-c851-c08a2a3dc177"
      },
      "source": [
        "colors_to_drop = list(vehicles_dataset['Exterior Color'].value_counts().index[-4:])\n",
        "colors_to_drop"
      ],
      "execution_count": null,
      "outputs": [
        {
          "output_type": "execute_result",
          "data": {
            "text/plain": [
              "['Beige or Brown', 'Gold', 'Green', 'Yellow']"
            ]
          },
          "metadata": {
            "tags": []
          },
          "execution_count": 40
        }
      ]
    },
    {
      "cell_type": "code",
      "metadata": {
        "id": "xQJp5eNA0BDg",
        "outputId": "7e44bd03-4035-44d2-9151-fc52da10ae70"
      },
      "source": [
        "indexes = []\n",
        "\n",
        "\n",
        "for color in colors_to_drop:\n",
        "    indexes += list(cars_dataset[cars_dataset[\"Exterior Color\"] == color].index)\n",
        "    \n",
        "    \n",
        "vehicles_dataset.drop(indexes, inplace=True)\n",
        "vehicles_dataset.shape"
      ],
      "execution_count": null,
      "outputs": [
        {
          "output_type": "execute_result",
          "data": {
            "text/plain": [
              "(15622, 17)"
            ]
          },
          "metadata": {
            "tags": []
          },
          "execution_count": 41
        }
      ]
    },
    {
      "cell_type": "code",
      "metadata": {
        "id": "31UIKtCo0BDk",
        "outputId": "e96333c5-493d-4d8d-99ed-ba3110269fac"
      },
      "source": [
        "ax = sns.countplot(x=\"Exterior Color\", data=vehicles_dataset, palette=\"Set1\")\n",
        "ax.set_title(\"Exterior colors by occurrences\")"
      ],
      "execution_count": null,
      "outputs": [
        {
          "output_type": "execute_result",
          "data": {
            "text/plain": [
              "Text(0.5, 1.0, 'Exterior colors by occurrences')"
            ]
          },
          "metadata": {
            "tags": []
          },
          "execution_count": 42
        },
        {
          "output_type": "display_data",
          "data": {
            "image/png": "[encoded data removed]",
            "text/plain": [
              "<Figure size 432x288 with 1 Axes>"
            ]
          },
          "metadata": {
            "tags": [],
            "needs_background": "light"
          }
        }
      ]
    },
    {
      "cell_type": "markdown",
      "metadata": {
        "id": "8mqVV45B0BDo"
      },
      "source": [
        "Now, 'Engine' will be analyzed."
      ]
    },
    {
      "cell_type": "code",
      "metadata": {
        "id": "qPZTC5YE0BDq",
        "outputId": "804ce842-415f-4202-cb0c-8d87b507369c"
      },
      "source": [
        "vehicles_dataset['Engine'].isnull().sum()"
      ],
      "execution_count": null,
      "outputs": [
        {
          "output_type": "execute_result",
          "data": {
            "text/plain": [
              "2976"
            ]
          },
          "metadata": {
            "tags": []
          },
          "execution_count": 43
        }
      ]
    },
    {
      "cell_type": "code",
      "metadata": {
        "id": "NCpB2e6W0BDy",
        "outputId": "18dbe285-b194-4893-b30b-d9b0c5e32771"
      },
      "source": [
        "vehicles_dataset['Engine'].value_counts()"
      ],
      "execution_count": null,
      "outputs": [
        {
          "output_type": "execute_result",
          "data": {
            "text/plain": [
              "2.5L Inline-4 Gas             1972\n",
              "2.4L Inline-4 Gas             1354\n",
              "1.8L Inline-4 Gas             1345\n",
              "3.6L V-6 Gas                  1319\n",
              "2.0L Inline-4 Gas             1274\n",
              "                              ... \n",
              "6.6L V-12 Gas Turbocharged       1\n",
              "3.0L V-6 Hybrid                  1\n",
              "5.0L V-10 Gas                    1\n",
              "3.2L Flat-6 Gas                  1\n",
              "2.9L V-6 Gas Turbocharged        1\n",
              "Name: Engine, Length: 119, dtype: int64"
            ]
          },
          "metadata": {
            "tags": []
          },
          "execution_count": 44
        }
      ]
    },
    {
      "cell_type": "markdown",
      "metadata": {
        "id": "zFtsgjxY0BD1"
      },
      "source": [
        "We are going to check on all the variants for each 'Inline', 'Flat' and 'Vs' engines, so we can filter them into more crowded categories"
      ]
    },
    {
      "cell_type": "code",
      "metadata": {
        "id": "KqnYwFrb0BD2",
        "outputId": "a80b99fc-c6de-4f63-9f9e-3b92441e572c"
      },
      "source": [
        "sorted(vehicles_dataset['Engine'].value_counts().index.to_list())"
      ],
      "execution_count": null,
      "outputs": [
        {
          "output_type": "execute_result",
          "data": {
            "text/plain": [
              "['0.6L Inline-2 Plug-In',\n",
              " '1.0L Inline-3 Gas',\n",
              " '1.2L Inline-3 Gas',\n",
              " '1.3L Inline-4 Hybrid',\n",
              " '1.4L Inline-4 Gas',\n",
              " '1.4L Inline-4 Plug-In',\n",
              " '1.5L Inline-4 Gas',\n",
              " '1.5L Inline-4 Hybrid',\n",
              " '1.5L Inline-4 Plug-In',\n",
              " '1.6L Inline-4 Gas',\n",
              " '1.6L Inline-4 Hybrid',\n",
              " '1.7L Inline-4 Gas',\n",
              " '1.8L Inline-4 Gas',\n",
              " '1.8L Inline-4 Hybrid',\n",
              " '1.8L Inline-4 Plug-In',\n",
              " '2.0L Flat-4 Gas',\n",
              " '2.0L Inline-4 Gas',\n",
              " '2.0L Inline-4 Hybrid',\n",
              " '2.0L Inline-4 Plug-In',\n",
              " '2.0L V-4 Gas Turbocharged',\n",
              " '2.2L Inline-4 Gas',\n",
              " '2.3L Inline-4 Gas',\n",
              " '2.3L V-4 Gas Turbocharged',\n",
              " '2.4L Inline-4 Gas',\n",
              " '2.4L Inline-4 Hybrid',\n",
              " '2.4L Inline-5 Gas',\n",
              " '2.5L Flat-4 Gas',\n",
              " '2.5L Flat-6 Gas',\n",
              " '2.5L Inline-4 Gas',\n",
              " '2.5L Inline-4 Hybrid',\n",
              " '2.5L Inline-5 Gas',\n",
              " '2.5L Inline-6 Gas',\n",
              " '2.5L V-6 Gas',\n",
              " '2.7L Flat-6 Gas',\n",
              " '2.7L Inline-4 Gas',\n",
              " '2.7L V-6 Gas',\n",
              " '2.7L V-6 Gas Turbocharged',\n",
              " '2.8L V-6 Gas',\n",
              " '2.9L Inline-4 Gas',\n",
              " '2.9L V-6 Gas Turbocharged',\n",
              " '3.0L Flat-6 Gas',\n",
              " '3.0L Inline-6 Gas',\n",
              " '3.0L V-6 Gas',\n",
              " '3.0L V-6 Gas Supercharged',\n",
              " '3.0L V-6 Gas Turbocharged',\n",
              " '3.0L V-6 Hybrid',\n",
              " '3.1L V-6 Gas',\n",
              " '3.2L Flat-6 Gas',\n",
              " '3.2L Inline-6 Gas',\n",
              " '3.2L V-6 Gas',\n",
              " '3.3L V-6 Gas',\n",
              " '3.3L V-6 Gas Turbocharged',\n",
              " '3.3L V-6 Hybrid',\n",
              " '3.4L Flat-6 Gas',\n",
              " '3.4L V-6 Gas',\n",
              " '3.5L Inline-5 Gas',\n",
              " '3.5L V-6 Gas',\n",
              " '3.5L V-6 Gas Turbocharged',\n",
              " '3.5L V-6 Hybrid',\n",
              " '3.6L Flat-6 Gas',\n",
              " '3.6L V-6 Gas',\n",
              " '3.6L V-6 Plug-In',\n",
              " '3.7L Inline-5 Gas',\n",
              " '3.7L V-6 Gas',\n",
              " '3.8L Flat-6 Gas',\n",
              " '3.8L V-6 Gas',\n",
              " '3.9L V-6 Gas',\n",
              " '3.9L V-8 Gas',\n",
              " '3.9L V-8 Gas Turbocharged',\n",
              " '4.0L Inline-6 Gas',\n",
              " '4.0L V-6 Gas',\n",
              " '4.0L V-8 Gas',\n",
              " '4.0L V-8 Gas Supercharged',\n",
              " '4.0L V-8 Gas Turbocharged',\n",
              " '4.2L Inline-6 Gas',\n",
              " '4.2L V-6 Gas',\n",
              " '4.2L V-8 Gas',\n",
              " '4.3L V-6 Gas',\n",
              " '4.3L V-8 Gas',\n",
              " '4.4L V-8 Gas',\n",
              " '4.4L V-8 Gas Turbocharged',\n",
              " '4.5L V-8 Gas',\n",
              " '4.6L V-8 Gas',\n",
              " '4.6L V-8 Gas Turbocharged',\n",
              " '4.7L Inline-8 Gas',\n",
              " '4.7L V-8 Gas',\n",
              " '4.7L V-8 Gas Turbocharged',\n",
              " '4.8L V-8 Gas',\n",
              " '5.0L V-10 Gas',\n",
              " '5.0L V-8 Gas',\n",
              " '5.0L V-8 Gas Supercharged',\n",
              " '5.0L V-8 Gas Turbocharged',\n",
              " '5.3L V-8 Gas',\n",
              " '5.4L V-8 Gas',\n",
              " '5.4L V-8 Gas Supercharged',\n",
              " '5.5L V-12 Gas Turbocharged',\n",
              " '5.5L V-8 Gas',\n",
              " '5.5L V-8 Gas Supercharged',\n",
              " '5.6L V-8 Gas',\n",
              " '5.7L V-12 Gas',\n",
              " '5.7L V-8 Gas',\n",
              " '5.9L V-12 Gas',\n",
              " '5.9L V-8 Gas',\n",
              " '6.0L V-12 Gas',\n",
              " '6.0L V-12 Gas Turbocharged',\n",
              " '6.0L V-8 Gas',\n",
              " '6.0L V-8 Hybrid',\n",
              " '6.0L W-12 Gas',\n",
              " '6.0L W-12 Gas Turbocharged',\n",
              " '6.1L V-8 Gas',\n",
              " '6.2L V-8 Gas',\n",
              " '6.2L V-8 Gas Supercharged',\n",
              " '6.3L V-8 Gas',\n",
              " '6.4L V-8 Gas',\n",
              " '6.5L V-12 Gas',\n",
              " '6.6L V-12 Gas Turbocharged',\n",
              " '6.8L V-10 Gas',\n",
              " '8.1L V-8 Gas',\n",
              " 'L - Electric']"
            ]
          },
          "metadata": {
            "tags": []
          },
          "execution_count": 45
        }
      ]
    },
    {
      "cell_type": "code",
      "metadata": {
        "id": "5O8467mC0BEC",
        "outputId": "26f7acb3-b63b-4ff3-d42d-83491eadcef0"
      },
      "source": [
        "for j in [\"Inline\", \"Flat\", \"V\"]:\n",
        "\n",
        "    for i in vehicles_dataset['Engine'].value_counts().index.to_list():\n",
        "        if j in i:\n",
        "            print(i)"
      ],
      "execution_count": null,
      "outputs": [
        {
          "output_type": "stream",
          "text": [
            "2.5L Inline-4 Gas\n",
            "2.4L Inline-4 Gas\n",
            "1.8L Inline-4 Gas\n",
            "2.0L Inline-4 Gas\n",
            "1.6L Inline-4 Gas\n",
            "2.0L Inline-4 Hybrid\n",
            "1.8L Inline-4 Hybrid\n",
            "3.0L Inline-6 Gas\n",
            "2.5L Inline-4 Hybrid\n",
            "1.5L Inline-4 Gas\n",
            "2.4L Inline-4 Hybrid\n",
            "0.6L Inline-2 Plug-In\n",
            "1.5L Inline-4 Hybrid\n",
            "1.4L Inline-4 Plug-In\n",
            "2.5L Inline-5 Gas\n",
            "2.0L Inline-4 Plug-In\n",
            "3.2L Inline-6 Gas\n",
            "2.2L Inline-4 Gas\n",
            "2.7L Inline-4 Gas\n",
            "1.2L Inline-3 Gas\n",
            "2.3L Inline-4 Gas\n",
            "4.2L Inline-6 Gas\n",
            "1.8L Inline-4 Plug-In\n",
            "2.5L Inline-6 Gas\n",
            "4.7L Inline-8 Gas\n",
            "3.7L Inline-5 Gas\n",
            "1.3L Inline-4 Hybrid\n",
            "2.4L Inline-5 Gas\n",
            "1.5L Inline-4 Plug-In\n",
            "4.0L Inline-6 Gas\n",
            "2.9L Inline-4 Gas\n",
            "1.6L Inline-4 Hybrid\n",
            "1.4L Inline-4 Gas\n",
            "1.7L Inline-4 Gas\n",
            "1.0L Inline-3 Gas\n",
            "3.5L Inline-5 Gas\n",
            "2.5L Flat-4 Gas\n",
            "2.0L Flat-4 Gas\n",
            "3.8L Flat-6 Gas\n",
            "3.6L Flat-6 Gas\n",
            "3.0L Flat-6 Gas\n",
            "2.5L Flat-6 Gas\n",
            "2.7L Flat-6 Gas\n",
            "3.4L Flat-6 Gas\n",
            "3.2L Flat-6 Gas\n",
            "3.6L V-6 Gas\n",
            "3.5L V-6 Gas\n",
            "5.3L V-8 Gas\n",
            "5.7L V-8 Gas\n",
            "4.0L V-6 Gas\n",
            "3.5L V-6 Gas Turbocharged\n",
            "5.0L V-8 Gas\n",
            "6.0L V-8 Gas\n",
            "3.7L V-6 Gas\n",
            "6.2L V-8 Gas\n",
            "3.8L V-6 Gas\n",
            "3.0L V-6 Gas\n",
            "4.6L V-8 Gas\n",
            "3.3L V-6 Gas\n",
            "3.0L V-6 Gas Turbocharged\n",
            "2.7L V-6 Gas Turbocharged\n",
            "5.4L V-8 Gas\n",
            "2.0L V-4 Gas Turbocharged\n",
            "5.5L V-8 Gas\n",
            "5.6L V-8 Gas\n",
            "4.3L V-6 Gas\n",
            "6.4L V-8 Gas\n",
            "3.0L V-6 Gas Supercharged\n",
            "4.7L V-8 Gas\n",
            "3.2L V-6 Gas\n",
            "4.3L V-8 Gas\n",
            "3.9L V-8 Gas\n",
            "2.3L V-4 Gas Turbocharged\n",
            "4.8L V-8 Gas\n",
            "4.7L V-8 Gas Turbocharged\n",
            "2.5L V-6 Gas\n",
            "3.5L V-6 Hybrid\n",
            "2.8L V-6 Gas\n",
            "5.0L V-8 Gas Turbocharged\n",
            "4.0L V-8 Gas Turbocharged\n",
            "6.8L V-10 Gas\n",
            "4.4L V-8 Gas Turbocharged\n",
            "4.2L V-8 Gas\n",
            "5.7L V-12 Gas\n",
            "3.1L V-6 Gas\n",
            "5.0L V-8 Gas Supercharged\n",
            "2.7L V-6 Gas\n",
            "3.3L V-6 Gas Turbocharged\n",
            "6.2L V-8 Gas Supercharged\n",
            "8.1L V-8 Gas\n",
            "6.0L V-12 Gas Turbocharged\n",
            "6.1L V-8 Gas\n",
            "4.6L V-8 Gas Turbocharged\n",
            "3.6L V-6 Plug-In\n",
            "5.4L V-8 Gas Supercharged\n",
            "3.9L V-6 Gas\n",
            "3.3L V-6 Hybrid\n",
            "4.2L V-6 Gas\n",
            "5.9L V-12 Gas\n",
            "6.0L V-8 Hybrid\n",
            "6.5L V-12 Gas\n",
            "4.0L V-8 Gas\n",
            "5.5L V-12 Gas Turbocharged\n",
            "6.3L V-8 Gas\n",
            "4.5L V-8 Gas\n",
            "4.4L V-8 Gas\n",
            "5.9L V-8 Gas\n",
            "4.0L V-8 Gas Supercharged\n",
            "3.4L V-6 Gas\n",
            "5.5L V-8 Gas Supercharged\n",
            "3.9L V-8 Gas Turbocharged\n",
            "6.0L V-12 Gas\n",
            "6.6L V-12 Gas Turbocharged\n",
            "3.0L V-6 Hybrid\n",
            "5.0L V-10 Gas\n",
            "2.9L V-6 Gas Turbocharged\n"
          ],
          "name": "stdout"
        }
      ]
    },
    {
      "cell_type": "code",
      "metadata": {
        "id": "DSyXdbtC0BEF"
      },
      "source": [
        "def engine_categorize(engine_type):\n",
        "    if \"V-\" in engine_type:\n",
        "        return re.findall(\"V.+\", engine_type)[0]\n",
        "    elif \"Inline\" in engine_type:\n",
        "        return re.findall(\"I.+\", engine_type)[0]\n",
        "    elif \"Flat\" in engine_type:\n",
        "        return re.findall(\"F.+\", engine_type)[0]\n",
        "    else:\n",
        "        return \"Another\""
      ],
      "execution_count": null,
      "outputs": []
    },
    {
      "cell_type": "code",
      "metadata": {
        "id": "lOVBxTAl0BEK",
        "outputId": "3b157550-39e3-4e10-d5c6-2d74acd3cf17"
      },
      "source": [
        "re.findall(\"V-[1-8][0-2]?\", \"5.4L V-10 Gas Supercharged\")"
      ],
      "execution_count": null,
      "outputs": [
        {
          "output_type": "execute_result",
          "data": {
            "text/plain": [
              "['V-10']"
            ]
          },
          "metadata": {
            "tags": []
          },
          "execution_count": 48
        }
      ]
    },
    {
      "cell_type": "code",
      "metadata": {
        "id": "fDUgVoRj0BER",
        "outputId": "d86d25ec-edf2-44ab-d0e5-f5db41454742"
      },
      "source": [
        "vehicles_dataset['Engine'] = cars_dataset['Engine'].astype(str)\n",
        "vehicles_dataset['Engine'].apply(engine_categorize).value_counts()"
      ],
      "execution_count": null,
      "outputs": [
        {
          "output_type": "execute_result",
          "data": {
            "text/plain": [
              "Inline-4 Gas             6416\n",
              "V-6 Gas                  3279\n",
              "Another                  3051\n",
              "V-8 Gas                  1362\n",
              "Inline-4 Hybrid           441\n",
              "V-6 Gas Turbocharged      362\n",
              "Flat-4 Gas                235\n",
              "Inline-6 Gas              106\n",
              "V-4 Gas Turbocharged       61\n",
              "Inline-4 Plug-In           49\n",
              "V-8 Gas Turbocharged       45\n",
              "Flat-6 Gas                 40\n",
              "V-6 Gas Supercharged       36\n",
              "Inline-5 Gas               31\n",
              "Inline-2 Plug-In           25\n",
              "V-8 Gas Supercharged       16\n",
              "V-6 Hybrid                 15\n",
              "V-12 Gas                   12\n",
              "Inline-3 Gas               12\n",
              "V-10 Gas                   10\n",
              "V-12 Gas Turbocharged       7\n",
              "Inline-8 Gas                6\n",
              "V-6 Plug-In                 3\n",
              "V-8 Hybrid                  2\n",
              "Name: Engine, dtype: int64"
            ]
          },
          "metadata": {
            "tags": []
          },
          "execution_count": 49
        }
      ]
    },
    {
      "cell_type": "markdown",
      "metadata": {
        "id": "NHZIY_k30BEV"
      },
      "source": [
        "Let's filter these engine types up a bit more, so outliers stay out."
      ]
    },
    {
      "cell_type": "code",
      "metadata": {
        "id": "EWOeu2By0BEW"
      },
      "source": [
        "def engine_categorize(engine_type):\n",
        "    if engine_type.endswith(\"V-6 Gas\"):\n",
        "        return re.findall(\"V.+\", engine_type)[0]\n",
        "    elif \"V-6\" in engine_type:\n",
        "        return \"V-6 Gas Turbo/Supercharged\"\n",
        "    elif \"V-8\" in engine_type:\n",
        "        return \"V-8\"\n",
        "    elif \"V-\" in engine_type:\n",
        "        return \"V-4/10/12\"\n",
        "    elif \"Inline-4 Gas\" in engine_type:\n",
        "        return \"Inline-4 Gas\"\n",
        "    elif \"Inline-4\" in engine_type:\n",
        "        return \"Inline-4 Plug-In/Hybrid\"\n",
        "    elif \"Inline-6\" in engine_type:\n",
        "        return \"Inline-6\"\n",
        "    elif \"Inline\" in engine_type:\n",
        "        return \"Inline 2/3/5/8\"\n",
        "    elif \"Flat\" in engine_type:\n",
        "        return re.findall(\"Flat-[46]\", engine_type)[0]\n",
        "    else:\n",
        "        return \"Another\""
      ],
      "execution_count": null,
      "outputs": []
    },
    {
      "cell_type": "code",
      "metadata": {
        "id": "AufoT24U0BEj",
        "outputId": "ccc26a31-ee21-42a8-deca-72f5b20e5876"
      },
      "source": [
        "s_dataset['Engine'] = cars_dataset['Engine'].apply(engine_categorize)\n",
        "cars_dataset['Engine'].value_counts()"
      ],
      "execution_count": null,
      "outputs": [
        {
          "output_type": "execute_result",
          "data": {
            "text/plain": [
              "Inline-4 Gas                  6416\n",
              "V-6 Gas                       3279\n",
              "Another                       3051\n",
              "V-8                           1425\n",
              "Inline-4 Plug-In/Hybrid        490\n",
              "V-6 Gas Turbo/Supercharged     416\n",
              "Flat-4                         235\n",
              "Inline-6                       106\n",
              "V-4/10/12                       90\n",
              "Inline 2/3/5/8                  74\n",
              "Flat-6                          40\n",
              "Name: Engine, dtype: int64"
            ]
          },
          "metadata": {
            "tags": []
          },
          "execution_count": 51
        }
      ]
    },
    {
      "cell_type": "code",
      "metadata": {
        "id": "V-pF6rRm0BEp"
      },
      "source": [
        ""
      ],
      "execution_count": null,
      "outputs": []
    }
  ]
}