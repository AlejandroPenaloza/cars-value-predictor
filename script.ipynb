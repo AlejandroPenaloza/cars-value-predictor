{
 "cells": [
  {
   "cell_type": "code",
   "execution_count": 1,
   "metadata": {},
   "outputs": [
    {
     "name": "stderr",
     "output_type": "stream",
     "text": [
      "UsageError: Line magic function `%` not found.\n"
     ]
    }
   ],
   "source": [
    "import itertools\n",
    "import pandas as pd\n",
    "import numpy as np\n",
    "import scipy.stats\n",
    "import re\n",
    "import requests\n",
    "import math\n",
    "from bs4 import BeautifulSoup\n",
    "from selenium import webdriver\n",
    "import matplotlib as mlp\n",
    "import matplotlib.pyplot as plt\n",
    "import matplotlib.backends.backend_agg\n",
    "import matplotlib.figure\n",
    "% matplotlib inline\n",
    "import seaborn as sb\n",
    "import datetime\n",
    "from sklearn import preprocessing\n",
    "from sklearn.model_selection import train_test_split\n",
    "from sklearn.linear_model import LogisticRegression\n",
    "from sklearn.metrics import confusion_matrix, accuracy_score\n",
    "from sklearn.preprocessing import LabelEncoder, OneHotEncoder, LabelBinarizer\n",
    "from sklearn.metrics import roc_curve, roc_auc_score"
   ]
  },
  {
   "cell_type": "markdown",
   "metadata": {},
   "source": [
    "### HTML soups from all 500 web pages"
   ]
  },
  {
   "cell_type": "code",
   "execution_count": 2,
   "metadata": {},
   "outputs": [],
   "source": [
    "def get_soups(website_number):\n",
    "    get_url = requests.get('https://www.truecar.com/used-cars-for-sale/listings/?page=' + str(website_number))\n",
    "    return BeautifulSoup(get_url.content, 'lxml')"
   ]
  },
  {
   "cell_type": "code",
   "execution_count": 3,
   "metadata": {},
   "outputs": [],
   "source": [
    "soups = list(map(get_soups, list(range(2501, 2506))))"
   ]
  },
  {
   "cell_type": "markdown",
   "metadata": {},
   "source": [
    "## URLs scraping"
   ]
  },
  {
   "cell_type": "code",
   "execution_count": 4,
   "metadata": {},
   "outputs": [],
   "source": [
    "def urls_scraper(soup):\n",
    "    nth_urls = []\n",
    "    def urlsppage(nth):\n",
    "        finding = soup.find_all('a', {'data-test': 'usedListing'})[nth]\n",
    "        return re.findall('href=\"/.+\" style', str(finding)[:280])[0]\n",
    "    nth_urls = list(map(urlsppage, list(range(30))))\n",
    "    return nth_urls\n",
    "\n",
    "urls_list = list(map(urls_scraper, soups))\n",
    "pages_urls = np.array(urls_list).flatten()\n",
    "url_formatter = np.vectorize(lambda url: 'https://truecar.com' + url[6: -7])\n",
    "urls = url_formatter(pages_urls)"
   ]
  },
  {
   "cell_type": "code",
   "execution_count": 5,
   "metadata": {},
   "outputs": [],
   "source": [
    "def fscraper(url, feature):\n",
    "    nth_request = requests.get(url)\n",
    "    nth_soup = BeautifulSoup(nth_request.content, 'lxml')\n",
    "    nth_search = re.search(feature + '</h4><ul><li>.+</li', str(nth_soup))\n",
    "    try:\n",
    "        return re.findall('li>.+</l', str(nth_search))[0][3: -3]\n",
    "    except:\n",
    "        return np.NaN"
   ]
  },
  {
   "cell_type": "markdown",
   "metadata": {},
   "source": [
    "## First part of vehicles features scraping"
   ]
  },
  {
   "cell_type": "code",
   "execution_count": 6,
   "metadata": {},
   "outputs": [],
   "source": [
    "drive_types = list(map(fscraper, urls, itertools.repeat('Drive Type')))\n",
    "fuel_types = list(map(fscraper, urls, itertools.repeat('Fuel Type')))"
   ]
  },
  {
   "cell_type": "code",
   "execution_count": 7,
   "metadata": {},
   "outputs": [],
   "source": [
    "mileages = list(map(fscraper, urls, itertools.repeat('Mileage')))\n",
    "transmissions = list(map(fscraper, urls, itertools.repeat('Transmission')))"
   ]
  },
  {
   "cell_type": "code",
   "execution_count": 8,
   "metadata": {},
   "outputs": [],
   "source": [
    "MPGs = list(map(fscraper, urls, itertools.repeat('MPG')))\n",
    "options_levels = list(map(fscraper, urls, itertools.repeat('Options Level')))\n",
    "bed_lengths = list(map(fscraper, urls, itertools.repeat('Bed Length')))"
   ]
  },
  {
   "cell_type": "code",
   "execution_count": 9,
   "metadata": {},
   "outputs": [],
   "source": [
    "engines = list(map(fscraper, urls, itertools.repeat('Engine')))\n",
    "exterior_colors = list(map(fscraper, urls, itertools.repeat('Exterior Color')))\n",
    "interior_colors = list(map(fscraper, urls, itertools.repeat('Interior Color')))\n",
    "styles = list(map(fscraper, urls, itertools.repeat('Style')))"
   ]
  },
  {
   "cell_type": "markdown",
   "metadata": {},
   "source": [
    "## Vehicles Years, Makes and Models scraping"
   ]
  },
  {
   "cell_type": "code",
   "execution_count": 10,
   "metadata": {},
   "outputs": [],
   "source": [
    "'''def ymm_scraper(url, index):\n",
    "    nth_request = requests.get(url)\n",
    "    nth_soup = BeautifulSoup(nth_request.content, 'lxml')\n",
    "    nth_finding = nth_soup.find_all('div', {'class': 'text-truncate heading-3 margin-right-2 margin-right-sm-3'})\n",
    "    try:\n",
    "        if index == 2:\n",
    "            return re.findall('>.+<', str(nth_search))[0][1: -1].split()[2:]\n",
    "        else:\n",
    "            return re.findall('>.+<', str(nth_search))[0][1: -1].split()[index]\n",
    "    except:\n",
    "        return np.NaN'''"
   ]
  },
  {
   "cell_type": "code",
   "execution_count": 43,
   "metadata": {},
   "outputs": [],
   "source": [
    "def ymm_scraper(url, feat_name):\n",
    "    nth_request = requests.get(url)\n",
    "    nth_soup = BeautifulSoup(nth_request.content, 'lxml')\n",
    "    nth_finding = nth_soup.find_all('div', {'class': 'text-truncate heading-3 margin-right-2 margin-right-sm-3'})\n",
    "    try:\n",
    "        if feat_name == 'year':\n",
    "            return re.findall('>.+</', str(nth_finding))[0].split()[0][1:]\n",
    "        elif feat_name == 'make':\n",
    "            return ' '.join(re.findall('>.+</', str(nth_finding))[0].split()[1: -1])[1: -2]\n",
    "        else:\n",
    "            return re.findall('>.+</', str(nth_finding))[0].split()[-1][0][: -2]\n",
    "    except:\n",
    "        return np.NaN"
   ]
  },
  {
   "cell_type": "code",
   "execution_count": null,
   "metadata": {},
   "outputs": [],
   "source": [
    "years = list(map(ymm_scraper, urls, itertools.repeat('year')))\n",
    "makes = list(map(ymm_scraper, urls, itertools.repeat('make')))\n",
    "models = list(map(ymm_scraper, urls, itertools.repeat('models')))"
   ]
  },
  {
   "cell_type": "markdown",
   "metadata": {},
   "source": [
    "## Vehicles Prices scraping"
   ]
  },
  {
   "cell_type": "code",
   "execution_count": 12,
   "metadata": {},
   "outputs": [],
   "source": [
    "def prices_scraper(url):\n",
    "    nth_request = requests.get(url).content\n",
    "    nth_soup = BeautifulSoup(nth_request, 'lxml').find_all('div', {'data-qa': 'LabelBlock-text'})\n",
    "    try:\n",
    "        return re.findall('[0-9]+,[0-9]+', str(nth_soup))[0]\n",
    "    except:\n",
    "        return np.NaN"
   ]
  },
  {
   "cell_type": "code",
   "execution_count": 13,
   "metadata": {},
   "outputs": [],
   "source": [
    "prices = list(map(prices_scraper, urls))"
   ]
  },
  {
   "cell_type": "markdown",
   "metadata": {},
   "source": [
    "## Vehicles Locations (Cities and States) scraping"
   ]
  },
  {
   "cell_type": "code",
   "execution_count": 14,
   "metadata": {},
   "outputs": [],
   "source": [
    "def cities_scraper(url):\n",
    "    nth_request = requests.get(url).content\n",
    "    nth_soup = BeautifulSoup(nth_request, 'lxml').find_all('span', {'data-qa': 'used-vdp-header-location'})\n",
    "    try:\n",
    "        return re.findall('\">.+<!', str(nth_soup))[0][2: -12]\n",
    "    except:\n",
    "        return np.NaN"
   ]
  },
  {
   "cell_type": "code",
   "execution_count": 15,
   "metadata": {},
   "outputs": [],
   "source": [
    "def states_scraper(url):\n",
    "    nth_request = requests.get(url).content\n",
    "    nth_soup = BeautifulSoup(nth_request, 'lxml').find_all('span', {'data-qa': 'used-vdp-header-location'})\n",
    "    try:\n",
    "        return re.findall('[A-W][A-Z]', str(nth_soup))[0]\n",
    "    except:\n",
    "        return np.NaN"
   ]
  },
  {
   "cell_type": "code",
   "execution_count": 16,
   "metadata": {},
   "outputs": [],
   "source": [
    "cities = list(map(cities_scraper, urls))\n",
    "states = list(map(states_scraper, urls))"
   ]
  },
  {
   "cell_type": "markdown",
   "metadata": {},
   "source": [
    "## Vehicles Conditions scraping"
   ]
  },
  {
   "cell_type": "code",
   "execution_count": 17,
   "metadata": {},
   "outputs": [],
   "source": [
    "def conditions_scraper(url):\n",
    "    nth_request = requests.get(url).content\n",
    "    nth_soup = BeautifulSoup(nth_request, 'lxml').find_all('li', {'class': '_h9wfdq'})\n",
    "    try:\n",
    "        return re.findall('\">[0-9]<!', str(nth_soup[0]))[0][2: -2] + re.findall('->.+</l', str(nth_soup[0]))[0][2: -3]\n",
    "    except:\n",
    "        return np.NaN"
   ]
  },
  {
   "cell_type": "code",
   "execution_count": 18,
   "metadata": {},
   "outputs": [],
   "source": [
    "conditions = list(map(conditions_scraper, urls))"
   ]
  },
  {
   "cell_type": "markdown",
   "metadata": {},
   "source": [
    "## Dataset"
   ]
  },
  {
   "cell_type": "code",
   "execution_count": null,
   "metadata": {},
   "outputs": [],
   "source": [
    "features = {\n",
    "    'Make': makes, 'Model': models, 'Year': years, 'Mileage': mileages, 'Transmission': transmissions,\n",
    "    'Engine': engines, 'Exterior Color': exterior_colors, 'Interior Color': interior_colors,\n",
    "    'MPG': MPGs, 'Fuel Type': fuel_types, 'Drive Type': drive_types, 'Location (City)': cities,\n",
    "    'Location (State)': states, 'Style': styles, 'Condition (Accidents)': conditions,\n",
    "    'Options Level': options_levels, 'Bed Length': bed_lengths, 'Price': prices\n",
    "}"
   ]
  },
  {
   "cell_type": "code",
   "execution_count": null,
   "metadata": {},
   "outputs": [],
   "source": [
    "vehicles_data = pd.DataFrame(features)"
   ]
  },
  {
   "cell_type": "code",
   "execution_count": null,
   "metadata": {},
   "outputs": [],
   "source": [
    "vehicles_data"
   ]
  },
  {
   "cell_type": "code",
   "execution_count": 42,
   "metadata": {},
   "outputs": [
    {
     "data": {
      "text/html": [
       "<div>\n",
       "<style scoped>\n",
       "    .dataframe tbody tr th:only-of-type {\n",
       "        vertical-align: middle;\n",
       "    }\n",
       "\n",
       "    .dataframe tbody tr th {\n",
       "        vertical-align: top;\n",
       "    }\n",
       "\n",
       "    .dataframe thead th {\n",
       "        text-align: right;\n",
       "    }\n",
       "</style>\n",
       "<table border=\"1\" class=\"dataframe\">\n",
       "  <thead>\n",
       "    <tr style=\"text-align: right;\">\n",
       "      <th></th>\n",
       "      <th>Make</th>\n",
       "      <th>Model</th>\n",
       "      <th>Year</th>\n",
       "      <th>Mileage</th>\n",
       "      <th>Transmission</th>\n",
       "      <th>Engine</th>\n",
       "      <th>Exterior Color</th>\n",
       "      <th>Interior Color</th>\n",
       "      <th>MPG</th>\n",
       "      <th>Fuel Type</th>\n",
       "      <th>Drive Type</th>\n",
       "      <th>Location (City)</th>\n",
       "      <th>Location (State)</th>\n",
       "      <th>Style</th>\n",
       "      <th>Condition (Accidents)</th>\n",
       "      <th>Options Level</th>\n",
       "      <th>Bed Length</th>\n",
       "      <th>Price</th>\n",
       "    </tr>\n",
       "  </thead>\n",
       "  <tbody>\n",
       "    <tr>\n",
       "      <th>0</th>\n",
       "      <td>ercedes-Be</td>\n",
       "      <td></td>\n",
       "      <td>2012</td>\n",
       "      <td>35,795</td>\n",
       "      <td>Automatic</td>\n",
       "      <td>2.0L Inline-4 Gas</td>\n",
       "      <td>NaN</td>\n",
       "      <td>Charcoal Black</td>\n",
       "      <td>26 cty / 36 hwy</td>\n",
       "      <td>Gas</td>\n",
       "      <td>FWD</td>\n",
       "      <td>Tacoma</td>\n",
       "      <td>WA</td>\n",
       "      <td>SE Hatchback</td>\n",
       "      <td>2 reported accidents</td>\n",
       "      <td>Standard</td>\n",
       "      <td>NaN</td>\n",
       "      <td>7,999</td>\n",
       "    </tr>\n",
       "    <tr>\n",
       "      <th>1</th>\n",
       "      <td>ercedes-Be</td>\n",
       "      <td></td>\n",
       "      <td>2012</td>\n",
       "      <td>128,146</td>\n",
       "      <td>Automatic</td>\n",
       "      <td>2.7L V-6 Gas Turbocharged</td>\n",
       "      <td>Unknown</td>\n",
       "      <td>Medium Earth Gray</td>\n",
       "      <td>19 cty / 26 hwy</td>\n",
       "      <td>Gas</td>\n",
       "      <td>RWD</td>\n",
       "      <td>Waxahachie</td>\n",
       "      <td>TX</td>\n",
       "      <td>XL SuperCrew 6.5\\' Box RWD</td>\n",
       "      <td>0 reported accidents</td>\n",
       "      <td>NaN</td>\n",
       "      <td>Standard Bed</td>\n",
       "      <td>15,991</td>\n",
       "    </tr>\n",
       "    <tr>\n",
       "      <th>2</th>\n",
       "      <td>ercedes-Be</td>\n",
       "      <td></td>\n",
       "      <td>2012</td>\n",
       "      <td>135,000</td>\n",
       "      <td>Automatic</td>\n",
       "      <td>5.0L V-8 Gas</td>\n",
       "      <td>Black</td>\n",
       "      <td>Beige</td>\n",
       "      <td>16 cty / 22 hwy</td>\n",
       "      <td>Gas</td>\n",
       "      <td>AWD</td>\n",
       "      <td>Covina</td>\n",
       "      <td>CA</td>\n",
       "      <td>E 500 4MATIC Wagon</td>\n",
       "      <td>0 reported accidents</td>\n",
       "      <td>Standard</td>\n",
       "      <td>NaN</td>\n",
       "      <td>5,950</td>\n",
       "    </tr>\n",
       "    <tr>\n",
       "      <th>3</th>\n",
       "      <td>ercedes-Be</td>\n",
       "      <td></td>\n",
       "      <td>2012</td>\n",
       "      <td>135,670</td>\n",
       "      <td>Automatic</td>\n",
       "      <td>1.8L Inline-4 Gas</td>\n",
       "      <td>NaN</td>\n",
       "      <td>Gray</td>\n",
       "      <td>28 cty / 38 hwy</td>\n",
       "      <td>Gas</td>\n",
       "      <td>FWD</td>\n",
       "      <td>Miami</td>\n",
       "      <td>FL</td>\n",
       "      <td>NaN</td>\n",
       "      <td>0 reported accidents</td>\n",
       "      <td>Standard</td>\n",
       "      <td>NaN</td>\n",
       "      <td>3,999</td>\n",
       "    </tr>\n",
       "    <tr>\n",
       "      <th>4</th>\n",
       "      <td>ercedes-Be</td>\n",
       "      <td></td>\n",
       "      <td>2012</td>\n",
       "      <td>152,543</td>\n",
       "      <td>Automatic</td>\n",
       "      <td>1.8L Inline-4 Hybrid</td>\n",
       "      <td>White</td>\n",
       "      <td>Biege</td>\n",
       "      <td>51 cty / 48 hwy</td>\n",
       "      <td>Hybrid</td>\n",
       "      <td>FWD</td>\n",
       "      <td>Byhalia</td>\n",
       "      <td>MS</td>\n",
       "      <td>Five</td>\n",
       "      <td>1 reported accidents</td>\n",
       "      <td>Standard</td>\n",
       "      <td>NaN</td>\n",
       "      <td>6,500</td>\n",
       "    </tr>\n",
       "    <tr>\n",
       "      <th>...</th>\n",
       "      <td>...</td>\n",
       "      <td>...</td>\n",
       "      <td>...</td>\n",
       "      <td>...</td>\n",
       "      <td>...</td>\n",
       "      <td>...</td>\n",
       "      <td>...</td>\n",
       "      <td>...</td>\n",
       "      <td>...</td>\n",
       "      <td>...</td>\n",
       "      <td>...</td>\n",
       "      <td>...</td>\n",
       "      <td>...</td>\n",
       "      <td>...</td>\n",
       "      <td>...</td>\n",
       "      <td>...</td>\n",
       "      <td>...</td>\n",
       "      <td>...</td>\n",
       "    </tr>\n",
       "    <tr>\n",
       "      <th>145</th>\n",
       "      <td>ercedes-Be</td>\n",
       "      <td></td>\n",
       "      <td>2012</td>\n",
       "      <td>46,943</td>\n",
       "      <td>Automatic</td>\n",
       "      <td>4.6L V-8 Gas</td>\n",
       "      <td>Starfire Pearl</td>\n",
       "      <td>Alabaster</td>\n",
       "      <td>16 cty / 24 hwy</td>\n",
       "      <td>Gas</td>\n",
       "      <td>RWD</td>\n",
       "      <td>Sarasota</td>\n",
       "      <td>FL</td>\n",
       "      <td>LS 460 RWD</td>\n",
       "      <td>0 reported accidents</td>\n",
       "      <td>Standard</td>\n",
       "      <td>NaN</td>\n",
       "      <td>17,990</td>\n",
       "    </tr>\n",
       "    <tr>\n",
       "      <th>146</th>\n",
       "      <td>ercedes-Be</td>\n",
       "      <td></td>\n",
       "      <td>2012</td>\n",
       "      <td>124,026</td>\n",
       "      <td>Automatic</td>\n",
       "      <td>1.8L Inline-4 Gas</td>\n",
       "      <td>NaN</td>\n",
       "      <td>Gray</td>\n",
       "      <td>25 cty / 36 hwy</td>\n",
       "      <td>Gas</td>\n",
       "      <td>FWD</td>\n",
       "      <td>Everett</td>\n",
       "      <td>WA</td>\n",
       "      <td>LX Sedan Automatic</td>\n",
       "      <td>1 reported accidents</td>\n",
       "      <td>Standard</td>\n",
       "      <td>NaN</td>\n",
       "      <td>4,990</td>\n",
       "    </tr>\n",
       "    <tr>\n",
       "      <th>147</th>\n",
       "      <td>ercedes-Be</td>\n",
       "      <td></td>\n",
       "      <td>2012</td>\n",
       "      <td>42,269</td>\n",
       "      <td>Automatic</td>\n",
       "      <td>NaN</td>\n",
       "      <td>Pure White</td>\n",
       "      <td>Unknown</td>\n",
       "      <td>29 cty / 39 hwy</td>\n",
       "      <td>Diesel</td>\n",
       "      <td>FWD</td>\n",
       "      <td>Dallas</td>\n",
       "      <td>TX</td>\n",
       "      <td>SportWagen TDI DSG</td>\n",
       "      <td>0 reported accidents</td>\n",
       "      <td>Standard</td>\n",
       "      <td>NaN</td>\n",
       "      <td>12,000</td>\n",
       "    </tr>\n",
       "    <tr>\n",
       "      <th>148</th>\n",
       "      <td>ercedes-Be</td>\n",
       "      <td></td>\n",
       "      <td>2012</td>\n",
       "      <td>7,641</td>\n",
       "      <td>Automatic</td>\n",
       "      <td>3.6L V-6 Gas</td>\n",
       "      <td>Billet Clearcoat</td>\n",
       "      <td>Black</td>\n",
       "      <td>17 cty / 25 hwy</td>\n",
       "      <td>Gas</td>\n",
       "      <td>FWD</td>\n",
       "      <td>Gladstone</td>\n",
       "      <td>MO</td>\n",
       "      <td>SXT</td>\n",
       "      <td>0 reported accidents</td>\n",
       "      <td>Fully Loaded</td>\n",
       "      <td>NaN</td>\n",
       "      <td>20,469</td>\n",
       "    </tr>\n",
       "    <tr>\n",
       "      <th>149</th>\n",
       "      <td>ercedes-Be</td>\n",
       "      <td></td>\n",
       "      <td>2012</td>\n",
       "      <td>68,753</td>\n",
       "      <td>Automatic</td>\n",
       "      <td>1.8L Inline-4 Gas</td>\n",
       "      <td>Super Black</td>\n",
       "      <td>Charcoal</td>\n",
       "      <td>29 cty / 37 hwy</td>\n",
       "      <td>Gas</td>\n",
       "      <td>FWD</td>\n",
       "      <td>Durham</td>\n",
       "      <td>NC</td>\n",
       "      <td>SV CVT</td>\n",
       "      <td>0 reported accidents</td>\n",
       "      <td>Standard</td>\n",
       "      <td>NaN</td>\n",
       "      <td>10,495</td>\n",
       "    </tr>\n",
       "  </tbody>\n",
       "</table>\n",
       "<p>150 rows × 18 columns</p>\n",
       "</div>"
      ],
      "text/plain": [
       "           Make Model  Year  Mileage Transmission                     Engine  \\\n",
       "0    ercedes-Be        2012   35,795    Automatic          2.0L Inline-4 Gas   \n",
       "1    ercedes-Be        2012  128,146    Automatic  2.7L V-6 Gas Turbocharged   \n",
       "2    ercedes-Be        2012  135,000    Automatic               5.0L V-8 Gas   \n",
       "3    ercedes-Be        2012  135,670    Automatic          1.8L Inline-4 Gas   \n",
       "4    ercedes-Be        2012  152,543    Automatic       1.8L Inline-4 Hybrid   \n",
       "..          ...   ...   ...      ...          ...                        ...   \n",
       "145  ercedes-Be        2012   46,943    Automatic               4.6L V-8 Gas   \n",
       "146  ercedes-Be        2012  124,026    Automatic          1.8L Inline-4 Gas   \n",
       "147  ercedes-Be        2012   42,269    Automatic                        NaN   \n",
       "148  ercedes-Be        2012    7,641    Automatic               3.6L V-6 Gas   \n",
       "149  ercedes-Be        2012   68,753    Automatic          1.8L Inline-4 Gas   \n",
       "\n",
       "       Exterior Color     Interior Color              MPG Fuel Type  \\\n",
       "0                 NaN     Charcoal Black  26 cty / 36 hwy       Gas   \n",
       "1             Unknown  Medium Earth Gray  19 cty / 26 hwy       Gas   \n",
       "2               Black              Beige  16 cty / 22 hwy       Gas   \n",
       "3                 NaN               Gray  28 cty / 38 hwy       Gas   \n",
       "4               White              Biege  51 cty / 48 hwy    Hybrid   \n",
       "..                ...                ...              ...       ...   \n",
       "145    Starfire Pearl          Alabaster  16 cty / 24 hwy       Gas   \n",
       "146               NaN               Gray  25 cty / 36 hwy       Gas   \n",
       "147        Pure White            Unknown  29 cty / 39 hwy    Diesel   \n",
       "148  Billet Clearcoat              Black  17 cty / 25 hwy       Gas   \n",
       "149       Super Black           Charcoal  29 cty / 37 hwy       Gas   \n",
       "\n",
       "    Drive Type Location (City) Location (State)                       Style  \\\n",
       "0          FWD          Tacoma               WA                SE Hatchback   \n",
       "1          RWD      Waxahachie               TX  XL SuperCrew 6.5\\' Box RWD   \n",
       "2          AWD          Covina               CA          E 500 4MATIC Wagon   \n",
       "3          FWD           Miami               FL                         NaN   \n",
       "4          FWD         Byhalia               MS                        Five   \n",
       "..         ...             ...              ...                         ...   \n",
       "145        RWD        Sarasota               FL                  LS 460 RWD   \n",
       "146        FWD         Everett               WA          LX Sedan Automatic   \n",
       "147        FWD          Dallas               TX          SportWagen TDI DSG   \n",
       "148        FWD       Gladstone               MO                         SXT   \n",
       "149        FWD          Durham               NC                      SV CVT   \n",
       "\n",
       "    Condition (Accidents) Options Level    Bed Length   Price  \n",
       "0    2 reported accidents      Standard           NaN   7,999  \n",
       "1    0 reported accidents           NaN  Standard Bed  15,991  \n",
       "2    0 reported accidents      Standard           NaN   5,950  \n",
       "3    0 reported accidents      Standard           NaN   3,999  \n",
       "4    1 reported accidents      Standard           NaN   6,500  \n",
       "..                    ...           ...           ...     ...  \n",
       "145  0 reported accidents      Standard           NaN  17,990  \n",
       "146  1 reported accidents      Standard           NaN   4,990  \n",
       "147  0 reported accidents      Standard           NaN  12,000  \n",
       "148  0 reported accidents  Fully Loaded           NaN  20,469  \n",
       "149  0 reported accidents      Standard           NaN  10,495  \n",
       "\n",
       "[150 rows x 18 columns]"
      ]
     },
     "execution_count": 42,
     "metadata": {},
     "output_type": "execute_result"
    }
   ],
   "source": [
    "vehicles_data.to_csv('C:Users/aleja/Desktop/v2501_2506')"
   ]
  },
  {
   "cell_type": "code",
   "execution_count": null,
   "metadata": {},
   "outputs": [],
   "source": []
  },
  {
   "cell_type": "code",
   "execution_count": null,
   "metadata": {},
   "outputs": [],
   "source": []
  }
 ],
 "metadata": {
  "kernelspec": {
   "display_name": "Python 3",
   "language": "python",
   "name": "python3"
  },
  "language_info": {
   "codemirror_mode": {
    "name": "ipython",
    "version": 3
   },
   "file_extension": ".py",
   "mimetype": "text/x-python",
   "name": "python",
   "nbconvert_exporter": "python",
   "pygments_lexer": "ipython3",
   "version": "3.7.3"
  }
 },
 "nbformat": 4,
 "nbformat_minor": 2
}
